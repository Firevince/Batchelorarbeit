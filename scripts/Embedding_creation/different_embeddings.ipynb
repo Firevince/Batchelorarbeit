{
 "cells": [
  {
   "cell_type": "markdown",
   "metadata": {},
   "source": [
    "# Vergleichen verschiedener Embeddings "
   ]
  },
  {
   "cell_type": "markdown",
   "metadata": {},
   "source": [
    "In diesem Notebook werden die verschiedenen Embedding Algorithmen demonstriert."
   ]
  },
  {
   "cell_type": "markdown",
   "metadata": {},
   "source": [
    "## Imports"
   ]
  },
  {
   "cell_type": "code",
   "execution_count": 2,
   "metadata": {},
   "outputs": [
    {
     "name": "stderr",
     "output_type": "stream",
     "text": [
      "/Users/br/Projects/Bachelorarbeit/.venv/lib/python3.8/site-packages/tqdm/auto.py:21: TqdmWarning: IProgress not found. Please update jupyter and ipywidgets. See https://ipywidgets.readthedocs.io/en/stable/user_install.html\n",
      "  from .autonotebook import tqdm as notebook_tqdm\n"
     ]
    }
   ],
   "source": [
    "import sys\n",
    "\n",
    "sys.path.append(\"..\")\n",
    "\n",
    "import json\n",
    "\n",
    "import joblib\n",
    "import pandas as pd\n",
    "from db_connect import db_get_df, db_save_df\n",
    "from embedding_creation.embedding_creator_TF_IDF import calc_all_tf_idf\n",
    "from sklearn.metrics.pairwise import cosine_similarity\n",
    "from tqdm import tqdm\n",
    "from transformers import AutoModel, AutoTokenizer"
   ]
  },
  {
   "cell_type": "markdown",
   "metadata": {},
   "source": [
    "## TF-IDF für alle Daten"
   ]
  },
  {
   "cell_type": "markdown",
   "metadata": {},
   "source": [
    "### imports"
   ]
  },
  {
   "cell_type": "code",
   "execution_count": null,
   "metadata": {},
   "outputs": [],
   "source": [
    "import os\n",
    "import sys\n",
    "\n",
    "import numpy as np\n",
    "from dotenv import load_dotenv\n",
    "from scipy import sparse\n",
    "from sklearn.feature_extraction.text import TfidfVectorizer\n",
    "import pickle\n",
    "import joblib\n",
    "import spacy\n",
    "\n",
    "sys.path.append(\"..\")\n",
    "\n",
    "from db_connect import db_get_df, db_save_df, load_pkl, save_pkl, save_npz, load_npz\n",
    "from segment_ranking.rank_segments import get_most_similar_segments\n",
    "\n",
    "\n",
    "load_dotenv()\n",
    "DATA_PATH = os.getenv(\"DATA_PATH\")"
   ]
  },
  {
   "cell_type": "markdown",
   "metadata": {},
   "source": [
    "### Einfache TF-IDF bilden"
   ]
  },
  {
   "cell_type": "code",
   "execution_count": null,
   "metadata": {},
   "outputs": [],
   "source": [
    "df = db_get_df(\"transcript_sentences\")\n",
    "tfidf_vectorizer = TfidfVectorizer()\n",
    "tfidf_matrix = tfidf_vectorizer.fit_transform(df['sentence'])"
   ]
  },
  {
   "cell_type": "code",
   "execution_count": null,
   "metadata": {},
   "outputs": [],
   "source": [
    "print(len(tfidf_vectorizer.get_vocab()))"
   ]
  },
  {
   "cell_type": "code",
   "execution_count": null,
   "metadata": {},
   "outputs": [],
   "source": [
    "save_pkl(tfidf_vectorizer,\"tfidf_vectorizer_compound_split_87k.pkl\")\n",
    "save_npz(tfidf_matrix, \"tf_idf_matrix_compound_split_87k.npz\")"
   ]
  },
  {
   "cell_type": "code",
   "execution_count": null,
   "metadata": {},
   "outputs": [],
   "source": [
    "df = db_get_df(table=\"sentences_lemmatized\")\n",
    "tfidf_vectorizer = TfidfVectorizer()\n",
    "tfidf_matrix = tfidf_vectorizer.fit_transform(df['sentence'])"
   ]
  },
  {
   "cell_type": "markdown",
   "metadata": {},
   "source": [
    "### Lemmatisieren der Daten"
   ]
  },
  {
   "cell_type": "code",
   "execution_count": null,
   "metadata": {},
   "outputs": [],
   "source": [
    "tf_idf_matrix = sparse.load_npz(\"tf_idf_matrix.npz\")\n",
    "tfidf_vectorizer = joblib.load('tfidf_vectorizer.pkl')\n",
    "feature_names = tfidf_vectorizer.get_feature_names_out()\n",
    "idf_values = tfidf_vectorizer.idf_\n",
    "idf_dict = dict(zip(feature_names, idf_values))\n",
    "nlp = spacy.load(\"de_core_news_md\")\n",
    "\n",
    "def lemmatize_german_sentence(input_sentence, nlp):\n",
    "    doc = nlp(input_sentence)\n",
    "    lemmatized_words = []\n",
    "    for token in doc:\n",
    "        lemma = token.lemma_\n",
    "        if lemma:\n",
    "            lemmatized_words.append(lemma)\n",
    "        else: \n",
    "            lemmatized_words.append(token)\n",
    "    return lemmatized_words"
   ]
  },
  {
   "cell_type": "code",
   "execution_count": null,
   "metadata": {},
   "outputs": [],
   "source": [
    "df = db_get_df(\"sentences_lemmatized\")"
   ]
  },
  {
   "cell_type": "code",
   "execution_count": null,
   "metadata": {},
   "outputs": [],
   "source": [
    "sentence = \"Wer ist frau meier\"\n",
    "sentence = lemmatize_german_sentence(sentence, nlp)\n",
    "\n",
    "encoded_words = [(idf_dict[word.lower()], word) for word in sentence if word.lower() in idf_dict]\n",
    "print(encoded_words)"
   ]
  },
  {
   "cell_type": "markdown",
   "metadata": {},
   "source": [
    "### Abspeichern"
   ]
  },
  {
   "cell_type": "code",
   "execution_count": null,
   "metadata": {},
   "outputs": [],
   "source": [
    "save_npz('tf_idf_matrix200k.npz', tfidf_matrix)"
   ]
  },
  {
   "cell_type": "markdown",
   "metadata": {},
   "source": [
    "### Laden der Modelle"
   ]
  },
  {
   "cell_type": "code",
   "execution_count": null,
   "metadata": {},
   "outputs": [],
   "source": [
    "tf_idf_matrix = load_npz('tf_idf_matrix_230k.npz')\n",
    "tfidf_vectorizer = load_pkl('tfidf_vectorizer_230k.pkl')"
   ]
  },
  {
   "cell_type": "code",
   "execution_count": null,
   "metadata": {},
   "outputs": [],
   "source": [
    "len(tf_idf_matrix)"
   ]
  },
  {
   "cell_type": "markdown",
   "metadata": {},
   "source": [
    "### Optional speichern des Vocabulars"
   ]
  },
  {
   "cell_type": "code",
   "execution_count": null,
   "metadata": {},
   "outputs": [],
   "source": [
    "sorted_dict = dict(sorted(tfidf_vectorizer.get_vocab().items()))\n",
    "output_file = 'vocabulary.txt'\n",
    "with open(output_file, 'w') as file:\n",
    "    for key in sorted_dict.keys():\n",
    "        file.write(key + '\\n')\n"
   ]
  },
  {
   "cell_type": "markdown",
   "metadata": {},
   "source": [
    "### Demonstration"
   ]
  },
  {
   "cell_type": "code",
   "execution_count": 1,
   "metadata": {},
   "outputs": [
    {
     "ename": "NameError",
     "evalue": "name 'calc_all_tf_idf' is not defined",
     "output_type": "error",
     "traceback": [
      "\u001b[0;31m---------------------------------------------------------------------------\u001b[0m",
      "\u001b[0;31mNameError\u001b[0m                                 Traceback (most recent call last)",
      "Cell \u001b[0;32mIn[1], line 1\u001b[0m\n\u001b[0;32m----> 1\u001b[0m \u001b[43mcalc_all_tf_idf\u001b[49m()\n",
      "\u001b[0;31mNameError\u001b[0m: name 'calc_all_tf_idf' is not defined"
     ]
    }
   ],
   "source": [
    "calc_all_tf_idf()"
   ]
  },
  {
   "cell_type": "code",
   "execution_count": null,
   "metadata": {},
   "outputs": [],
   "source": [
    "from scripts.Embedding_creation.embedding_creator_TF_IDF import calc_all_tf_idf, calculate_distances_batchwise\n",
    "\n",
    "\n",
    "df_tfidf =  calculate_distances_batchwise(\"Geschichte von Deutschland\")"
   ]
  },
  {
   "cell_type": "markdown",
   "metadata": {},
   "source": [
    "### Lemmatisierung"
   ]
  },
  {
   "cell_type": "markdown",
   "metadata": {},
   "source": [
    "## Sentence Transformer"
   ]
  },
  {
   "cell_type": "markdown",
   "metadata": {},
   "source": [
    "SBert\n",
    "synchron - asynchron\n",
    "\n",
    "Demonstration"
   ]
  },
  {
   "cell_type": "code",
   "execution_count": 4,
   "metadata": {},
   "outputs": [],
   "source": [
    "import sys\n",
    "sys.path.append('..')\n",
    "\n",
    "from db_connect import db_get_df, db_save_df, save_pkl, load_pkl\n",
    "from sentence_transformers import SentenceTransformer\n",
    "from embedding_creator_MINI_L6 import MINI_LM_embed\n",
    "from segment_ranking.rank_segments import get_most_similar_segments"
   ]
  },
  {
   "cell_type": "code",
   "execution_count": 5,
   "metadata": {},
   "outputs": [],
   "source": [
    "embeddings = load_pkl(\"MINI_L6_embeddings.pkl\")"
   ]
  },
  {
   "cell_type": "code",
   "execution_count": 6,
   "metadata": {},
   "outputs": [
    {
     "data": {
      "text/plain": [
       "(1000, 384)"
      ]
     },
     "execution_count": 6,
     "metadata": {},
     "output_type": "execute_result"
    }
   ],
   "source": [
    "embeddings[0:1000].shape"
   ]
  },
  {
   "cell_type": "code",
   "execution_count": 7,
   "metadata": {},
   "outputs": [
    {
     "name": "stdout",
     "output_type": "stream",
     "text": [
      "No embedding method for model type MINILM found\n",
      "No model for model type MINILM found\n"
     ]
    },
    {
     "ename": "AttributeError",
     "evalue": "'NoneType' object has no attribute 'shape'",
     "output_type": "error",
     "traceback": [
      "\u001b[0;31m---------------------------------------------------------------------------\u001b[0m",
      "\u001b[0;31mAttributeError\u001b[0m                            Traceback (most recent call last)",
      "Cell \u001b[0;32mIn[7], line 1\u001b[0m\n\u001b[0;32m----> 1\u001b[0m \u001b[43mget_most_similar_segments\u001b[49m\u001b[43m(\u001b[49m\u001b[38;5;124;43m\"\u001b[39;49m\u001b[38;5;124;43mMINILM\u001b[39;49m\u001b[38;5;124;43m\"\u001b[39;49m\u001b[43m,\u001b[49m\u001b[38;5;124;43m\"\u001b[39;49m\u001b[38;5;124;43mOktoberfest München\u001b[39;49m\u001b[38;5;124;43m\"\u001b[39;49m\u001b[43m,\u001b[49m\u001b[43m \u001b[49m\u001b[38;5;241;43m4\u001b[39;49m\u001b[43m,\u001b[49m\u001b[43m \u001b[49m\u001b[38;5;241;43m4\u001b[39;49m\u001b[43m)\u001b[49m\n",
      "File \u001b[0;32m~/Projects/Bachelorarbeit/scripts/embedding_creation/../segment_ranking/rank_segments.py:138\u001b[0m, in \u001b[0;36mget_most_similar_segments\u001b[0;34m(model_type, message, amount, segment_size, sort_gpt)\u001b[0m\n\u001b[1;32m    136\u001b[0m     message_embedding \u001b[38;5;241m=\u001b[39m get_embedding(model_type, message)\n\u001b[1;32m    137\u001b[0m     model_data \u001b[38;5;241m=\u001b[39m load_model_data(model_type)\n\u001b[0;32m--> 138\u001b[0m     df[\u001b[38;5;124m\"\u001b[39m\u001b[38;5;124mdistance\u001b[39m\u001b[38;5;124m\"\u001b[39m] \u001b[38;5;241m=\u001b[39m \u001b[43mcalculate_distances_batchwise\u001b[49m\u001b[43m(\u001b[49m\u001b[43mmessage_embedding\u001b[49m\u001b[43m,\u001b[49m\u001b[43m \u001b[49m\u001b[43mmodel_data\u001b[49m\u001b[43m)\u001b[49m\n\u001b[1;32m    139\u001b[0m     most_similar_documents \u001b[38;5;241m=\u001b[39m df\u001b[38;5;241m.\u001b[39mnsmallest(amount, \u001b[38;5;124m\"\u001b[39m\u001b[38;5;124mdistance\u001b[39m\u001b[38;5;124m\"\u001b[39m)\n\u001b[1;32m    141\u001b[0m \u001b[38;5;66;03m# most_similar_documents = enrich_all_segments_gpt(most_similar_documents, df, message)\u001b[39;00m\n",
      "File \u001b[0;32m~/Projects/Bachelorarbeit/scripts/embedding_creation/../segment_ranking/rank_segments.py:68\u001b[0m, in \u001b[0;36mcalculate_distances_batchwise\u001b[0;34m(message_embedding, embeddings_matrix)\u001b[0m\n\u001b[1;32m     65\u001b[0m all_distances \u001b[38;5;241m=\u001b[39m np\u001b[38;5;241m.\u001b[39marray([])\n\u001b[1;32m     67\u001b[0m batch_size \u001b[38;5;241m=\u001b[39m \u001b[38;5;241m1000\u001b[39m\n\u001b[0;32m---> 68\u001b[0m \u001b[38;5;28;01mfor\u001b[39;00m i \u001b[38;5;129;01min\u001b[39;00m tqdm(\u001b[38;5;28mrange\u001b[39m(\u001b[38;5;241m0\u001b[39m, \u001b[43membeddings_matrix\u001b[49m\u001b[38;5;241;43m.\u001b[39;49m\u001b[43mshape\u001b[49m[\u001b[38;5;241m0\u001b[39m], batch_size)):\n\u001b[1;32m     69\u001b[0m     batch_distances \u001b[38;5;241m=\u001b[39m pairwise_distances(\n\u001b[1;32m     70\u001b[0m         embeddings_matrix[i : i \u001b[38;5;241m+\u001b[39m batch_size], message_embedding, metric\u001b[38;5;241m=\u001b[39m\u001b[38;5;124m\"\u001b[39m\u001b[38;5;124mcosine\u001b[39m\u001b[38;5;124m\"\u001b[39m\n\u001b[1;32m     71\u001b[0m     )\n\u001b[1;32m     72\u001b[0m     all_distances \u001b[38;5;241m=\u001b[39m np\u001b[38;5;241m.\u001b[39mconcatenate((all_distances, batch_distances\u001b[38;5;241m.\u001b[39mflatten()))\n",
      "\u001b[0;31mAttributeError\u001b[0m: 'NoneType' object has no attribute 'shape'"
     ]
    }
   ],
   "source": [
    "get_most_similar_segments(\"MINILM\",\"Oktoberfest München\", 4, 4)"
   ]
  },
  {
   "cell_type": "code",
   "execution_count": null,
   "metadata": {},
   "outputs": [],
   "source": [
    "model = SentenceTransformer('all-MiniLM-L6-v2')\n",
    "sentences = [\n",
    "    'This framework generates embeddings for each input sentence',\n",
    "    'Sentences are passed as a list of string.', \n",
    "    'The quick brown fox jumps over the lazy dog.']\n",
    "\n",
    "\n",
    "embeddings = model.encode(sentences)\n",
    "save_pkl(sentences, embeddings, \"test.pkl\")"
   ]
  },
  {
   "cell_type": "code",
   "execution_count": null,
   "metadata": {},
   "outputs": [],
   "source": [
    "embeddings = load_pkl(\"MINI_L6_embeddings.pkl\")"
   ]
  },
  {
   "cell_type": "code",
   "execution_count": null,
   "metadata": {},
   "outputs": [],
   "source": [
    "embeddings[0]"
   ]
  },
  {
   "cell_type": "code",
   "execution_count": null,
   "metadata": {},
   "outputs": [],
   "source": [
    "df = db_get_df(table=\"transcript_sentences\")"
   ]
  },
  {
   "cell_type": "code",
   "execution_count": null,
   "metadata": {},
   "outputs": [],
   "source": [
    "df = calculate_distances(\"Oktoberfest in München\", df)"
   ]
  },
  {
   "cell_type": "code",
   "execution_count": null,
   "metadata": {},
   "outputs": [],
   "source": [
    "import sys\n",
    "sys.path.append('..')\n",
    "\n",
    "from db_connect import db_get_df, db_save_df, save_pkl, load_pkl\n",
    "from sentence_transformers import SentenceTransformer\n",
    "from embedding_creator_MINI_L6 import all_document_embeddings_batchwise_MINI_LM\n",
    "import pickle"
   ]
  },
  {
   "cell_type": "code",
   "execution_count": null,
   "metadata": {},
   "outputs": [],
   "source": [
    "model = SentenceTransformer('all-MiniLM-L6-v2')\n",
    "sentences = ['This framework generates embeddings for each input sentence',\n",
    "    'Sentences are passed as a list of string.', \n",
    "    'The quick brown fox jumps over the lazy dog.']\n",
    "\n",
    "\n",
    "embeddings = model.encode(sentences)\n",
    "save_pkl(sentences, embeddings, \"test.pkl\")"
   ]
  },
  {
   "cell_type": "code",
   "execution_count": null,
   "metadata": {},
   "outputs": [],
   "source": [
    "sentences, embeddings = load_pkl(\"MINI_L6_embeddings.pkl\")"
   ]
  },
  {
   "cell_type": "code",
   "execution_count": null,
   "metadata": {},
   "outputs": [],
   "source": [
    "len(embeddings)"
   ]
  },
  {
   "cell_type": "code",
   "execution_count": null,
   "metadata": {},
   "outputs": [],
   "source": [
    "df = db_get_df(table=\"transcript_sentences\")"
   ]
  },
  {
   "cell_type": "code",
   "execution_count": null,
   "metadata": {},
   "outputs": [],
   "source": [
    "embeddings = all_document_embeddings_batchwise_MINI_LM(df[\"sentence\"])\n",
    "save_pkl(sentences, embeddings, \"MINI_LM.pkl\")"
   ]
  },
  {
   "cell_type": "markdown",
   "metadata": {},
   "source": [
    "## Sentece Transformer + TF-IDF"
   ]
  },
  {
   "cell_type": "code",
   "execution_count": null,
   "metadata": {},
   "outputs": [],
   "source": [
    "import sys\n",
    "sys.path.append('..')\n",
    "\n",
    "from db_connect import db_get_df, db_save_df, save_pkl, load_pkl, save_npz, load_npz\n",
    "import scipy.sparse as sparse\n",
    "import numpy as np"
   ]
  },
  {
   "cell_type": "code",
   "execution_count": null,
   "metadata": {},
   "outputs": [],
   "source": [
    "mini_lm_matrix = load_pkl(\"MINI_L6_embeddings.pkl\")\n",
    "tf_idf_matrix = load_npz(\"tf_idf_matrix_230k.npz\")"
   ]
  },
  {
   "cell_type": "code",
   "execution_count": null,
   "metadata": {},
   "outputs": [],
   "source": [
    "print(mini_lm_matrix.shape)\n",
    "print(tf_idf_matrix.shape)"
   ]
  },
  {
   "cell_type": "code",
   "execution_count": null,
   "metadata": {},
   "outputs": [],
   "source": [
    "if not isinstance(mini_lm_matrix, np.ndarray):\n",
    "    mini_lm_embeddings = np.array(mini_lm_matrix)\n",
    "\n",
    "mini_lm_sparse_matrix = sparse.csr_matrix(mini_lm_matrix)\n",
    "\n",
    "combined_matrix = sparse.hstack([tf_idf_matrix, mini_lm_sparse_matrix], format=\"csr\")"
   ]
  },
  {
   "cell_type": "code",
   "execution_count": null,
   "metadata": {},
   "outputs": [],
   "source": [
    "save_npz(combined_matrix, \"tf_idf_mini_lm_matrix.npz\")"
   ]
  },
  {
   "cell_type": "markdown",
   "metadata": {},
   "source": [
    "## OpenAI Embeddings"
   ]
  },
  {
   "cell_type": "code",
   "execution_count": 2,
   "metadata": {},
   "outputs": [],
   "source": [
    "import sys\n",
    "sys.path.append('..')\n",
    "from db_connect import db_get_df, db_save_df, save_pkl, load_pkl, save_npz, load_npz\n",
    "from embeddings_openai import get_embedding_openai\n",
    "from tqdm import tqdm\n",
    "import tiktoken\n",
    "import pandas as pd\n",
    "\n",
    "\n",
    "MODEL_ID = \"text-embedding-3-small\""
   ]
  },
  {
   "cell_type": "code",
   "execution_count": 3,
   "metadata": {},
   "outputs": [],
   "source": [
    "df = db_get_df(\"transcript_sentences\")"
   ]
  },
  {
   "cell_type": "code",
   "execution_count": 35,
   "metadata": {},
   "outputs": [
    {
     "data": {
      "text/plain": [
       "433562"
      ]
     },
     "execution_count": 35,
     "metadata": {},
     "output_type": "execute_result"
    }
   ],
   "source": [
    "len(df)"
   ]
  },
  {
   "cell_type": "code",
   "execution_count": 4,
   "metadata": {},
   "outputs": [],
   "source": [
    "encoding = tiktoken.encoding_for_model(MODEL_ID)"
   ]
  },
  {
   "cell_type": "code",
   "execution_count": null,
   "metadata": {},
   "outputs": [],
   "source": [
    "encoding.encode(\"hey, ich komme heute nicht zur party\")"
   ]
  },
  {
   "cell_type": "code",
   "execution_count": null,
   "metadata": {},
   "outputs": [],
   "source": [
    "encoding.decode([36661, 11, 10864, 11129, 2727, 49714, 8969, 17761, 4717])"
   ]
  },
  {
   "cell_type": "code",
   "execution_count": 5,
   "metadata": {},
   "outputs": [
    {
     "name": "stderr",
     "output_type": "stream",
     "text": [
      "100%|██████████| 433562/433562 [00:24<00:00, 17625.15it/s]\n"
     ]
    }
   ],
   "source": [
    "tokens = [encoding.encode(sentence) for sentence in tqdm(df[\"sentence\"])]"
   ]
  },
  {
   "cell_type": "code",
   "execution_count": 6,
   "metadata": {},
   "outputs": [],
   "source": [
    "df[\"token\"] = tokens"
   ]
  },
  {
   "cell_type": "code",
   "execution_count": 7,
   "metadata": {},
   "outputs": [],
   "source": [
    "df['token_count'] = df[\"token\"].apply(len)"
   ]
  },
  {
   "cell_type": "code",
   "execution_count": 1,
   "metadata": {},
   "outputs": [],
   "source": [
    "\n",
    "# 1424 iterationen\n",
    "def batch_sentences(df, max_tokens=8191):\n",
    "\n",
    "    start_idx = 0\n",
    "    current_tokens = 0\n",
    "    for i, row in df.iterrows():\n",
    "        if current_tokens + row['token_count'] > max_tokens:\n",
    "            # Yield the current batch of sentences\n",
    "            yield df.iloc[start_idx:i][\"token\"]\n",
    "            start_idx = i\n",
    "            current_tokens = row['token_count']\n",
    "        else:\n",
    "            current_tokens += row['token_count']\n",
    "\n",
    "    if start_idx < len(df):\n",
    "        yield df.iloc[start_idx:][\"token\"]\n",
    "\n"
   ]
  },
  {
   "cell_type": "code",
   "execution_count": null,
   "metadata": {},
   "outputs": [],
   "source": [
    "batch = next(batch_sentences(df))\n",
    "solo_embed = get_embedding_openai(batch.to_list(), MODEL_ID)\n",
    "print(solo_embed)"
   ]
  },
  {
   "cell_type": "code",
   "execution_count": null,
   "metadata": {},
   "outputs": [],
   "source": [
    "print(len(solo_embed))\n",
    "print(solo_embed[4])"
   ]
  },
  {
   "cell_type": "code",
   "execution_count": null,
   "metadata": {},
   "outputs": [],
   "source": [
    "embeddings = load_pkl(\"embeddings_OPENAI_252769.pkl\")"
   ]
  },
  {
   "cell_type": "code",
   "execution_count": 9,
   "metadata": {},
   "outputs": [],
   "source": [
    "embeddings = []"
   ]
  },
  {
   "cell_type": "code",
   "execution_count": 28,
   "metadata": {},
   "outputs": [],
   "source": [
    "df_temp = df.iloc[252769:].reset_index(drop=True)"
   ]
  },
  {
   "cell_type": "code",
   "execution_count": 29,
   "metadata": {},
   "outputs": [],
   "source": [
    "batch = next(batch_sentences(df_temp))"
   ]
  },
  {
   "cell_type": "code",
   "execution_count": 30,
   "metadata": {},
   "outputs": [
    {
     "data": {
      "text/plain": [
       "0      [33717, 289, 8154, 55202, 305, 42303, 9267, 89...\n",
       "1      [17812, 6127, 10709, 1941, 331, 2357, 372, 408...\n",
       "2      [17812, 9072, 386, 16317, 14104, 2815, 43886, ...\n",
       "3      [17812, 16095, 2815, 31331, 5086, 268, 2563, 2...\n",
       "4      [5001, 86, 20578, 48108, 11168, 2815, 44193, 2...\n",
       "                             ...                        \n",
       "305    [18674, 469, 485, 12928, 89285, 11, 5568, 2761...\n",
       "306    [41, 799, 2807, 747, 531, 96138, 54265, 473, 3...\n",
       "307    [50, 361, 1344, 2448, 14244, 295, 9267, 304, 6...\n",
       "308    [6219, 52392, 23935, 13045, 62734, 11586, 301,...\n",
       "309            [77968, 18955, 380, 11, 294, 662, 71, 13]\n",
       "Name: token, Length: 310, dtype: object"
      ]
     },
     "execution_count": 30,
     "metadata": {},
     "output_type": "execute_result"
    }
   ],
   "source": [
    "batch"
   ]
  },
  {
   "cell_type": "code",
   "execution_count": 31,
   "metadata": {},
   "outputs": [],
   "source": [
    "embedding_batch = get_embedding_openai(batch.to_list(), MODEL_ID)"
   ]
  },
  {
   "cell_type": "code",
   "execution_count": 15,
   "metadata": {},
   "outputs": [
    {
     "data": {
      "text/plain": [
       "filename                   baruch-de-spinoza-die-suche-nach-der-wahrheit.mp3\n",
       "sentence                   Mit der Zustimmung des Heiligen Gottes und die...\n",
       "start                                                                  49.82\n",
       "end                                                                    72.56\n",
       "sentence_lemmatized        Mit der Zustimmung des Heiligen Gottes und die...\n",
       "sentence_compound_split    Mit der Zustimmung des Gottes und dieser verkü...\n",
       "segment_id                                                                 4\n",
       "token                      [55470, 2761, 94816, 12828, 2234, 951, 1283, 3...\n",
       "token_count                                                               67\n",
       "Name: 4, dtype: object"
      ]
     },
     "execution_count": 15,
     "metadata": {},
     "output_type": "execute_result"
    }
   ],
   "source": [
    "df.iloc[4]"
   ]
  },
  {
   "cell_type": "code",
   "execution_count": 32,
   "metadata": {},
   "outputs": [
    {
     "name": "stderr",
     "output_type": "stream",
     "text": [
      "591it [42:17,  4.29s/it]\n"
     ]
    }
   ],
   "source": [
    "for batch in tqdm(batch_sentences(df_temp)):\n",
    "    embedding_batch = get_embedding_openai(batch.to_list(), MODEL_ID)\n",
    "    for embedding in embedding_batch:\n",
    "        embeddings.append(embedding.embedding)"
   ]
  },
  {
   "cell_type": "code",
   "execution_count": 33,
   "metadata": {},
   "outputs": [
    {
     "data": {
      "text/plain": [
       "180793"
      ]
     },
     "execution_count": 33,
     "metadata": {},
     "output_type": "execute_result"
    }
   ],
   "source": [
    "len(embeddings)"
   ]
  },
  {
   "cell_type": "code",
   "execution_count": null,
   "metadata": {},
   "outputs": [],
   "source": [
    "df = pd.DataFrame({\"embeddings\":embeddings})"
   ]
  },
  {
   "cell_type": "code",
   "execution_count": 34,
   "metadata": {},
   "outputs": [
    {
     "name": "stdout",
     "output_type": "stream",
     "text": [
      "/Users/br/Projects/Bachelorarbeit/data/matrices/embeddings_OPENAI_180793.pkl\n"
     ]
    }
   ],
   "source": [
    "save_pkl(embeddings, \"embeddings_OPENAI_180793.pkl\")"
   ]
  },
  {
   "cell_type": "code",
   "execution_count": null,
   "metadata": {},
   "outputs": [],
   "source": [
    "embeddings"
   ]
  },
  {
   "cell_type": "code",
   "execution_count": null,
   "metadata": {},
   "outputs": [],
   "source": [
    "df[\"embedding\"] = embeddings"
   ]
  },
  {
   "cell_type": "code",
   "execution_count": null,
   "metadata": {},
   "outputs": [],
   "source": [
    "def search_reviews(df, product_description, n=3, pprint=True):\n",
    "   embedding = get_embedding(product_description, model='text-embedding-3-small')\n",
    "   df['similarities'] = df.ada_embedding.apply(lambda x: cosine_similarity(x, embedding))\n",
    "   res = df.sort_values('similarities', ascending=False).head(n)\n",
    "   return res"
   ]
  },
  {
   "cell_type": "markdown",
   "metadata": {},
   "source": [
    "## LLAMA 2 Embeddings"
   ]
  },
  {
   "cell_type": "markdown",
   "metadata": {},
   "source": [
    "### Laden der Modelle"
   ]
  },
  {
   "cell_type": "code",
   "execution_count": null,
   "metadata": {},
   "outputs": [],
   "source": [
    "model = AutoModel.from_pretrained('mesolitica/llama2-embedding-1b-8k', trust_remote_code = True)\n",
    "tokenizer = AutoTokenizer.from_pretrained('mesolitica/llama2-embedding-1b-8k')"
   ]
  },
  {
   "cell_type": "code",
   "execution_count": null,
   "metadata": {},
   "outputs": [],
   "source": [
    "df = db_get_df(\"transcript_sentences\")"
   ]
  },
  {
   "cell_type": "markdown",
   "metadata": {},
   "source": [
    "### Tokenisierung der Sätze"
   ]
  },
  {
   "cell_type": "code",
   "execution_count": null,
   "metadata": {},
   "outputs": [],
   "source": [
    "input_ids = tokenizer(\n",
    "    df[\"sentence\"].to_list(), \n",
    "    return_tensors = 'pt',\n",
    "    padding = True\n",
    ")"
   ]
  },
  {
   "cell_type": "code",
   "execution_count": null,
   "metadata": {},
   "outputs": [],
   "source": [
    "v = model.encode(input_ids).detach().numpy()\n",
    "v.shape"
   ]
  },
  {
   "cell_type": "markdown",
   "metadata": {},
   "source": [
    "### Speichern der Embeddings"
   ]
  },
  {
   "cell_type": "code",
   "execution_count": null,
   "metadata": {},
   "outputs": [],
   "source": [
    "df[\"embedding_json\"] = [json.dumps(model.encode(chunk_text).detach().numpy()) for chunk_text in tqdm(input_ids)]\n"
   ]
  },
  {
   "cell_type": "markdown",
   "metadata": {},
   "source": []
  },
  {
   "cell_type": "code",
   "execution_count": null,
   "metadata": {},
   "outputs": [],
   "source": [
    "df = db_get_df()\n",
    "len(df)"
   ]
  },
  {
   "cell_type": "code",
   "execution_count": null,
   "metadata": {},
   "outputs": [],
   "source": [
    "table_id = list(\"bcdyefghij\")\n",
    "all_df = db_get_df(\"transcript_segments_llama_2_a\")\n",
    "for id in table_id:\n",
    "    df_temp = db_get_df(f\"transcript_segments_llama_2_{id}\")\n",
    "    # print(len(df_temp))\n",
    "    print(df_temp.head(1).iloc[0, 0])\n",
    "    all_df = pd.concat([all_df, df_temp])\n"
   ]
  },
  {
   "cell_type": "code",
   "execution_count": null,
   "metadata": {},
   "outputs": [],
   "source": [
    "db_save_df(all_df, \"transcript_segments_llama_2_all\")"
   ]
  },
  {
   "cell_type": "code",
   "execution_count": null,
   "metadata": {},
   "outputs": [],
   "source": [
    "all_df = db_get_df(\"transcript_segments_llama_2_all\")"
   ]
  },
  {
   "cell_type": "code",
   "execution_count": null,
   "metadata": {},
   "outputs": [],
   "source": [
    "df = db_get_df()"
   ]
  },
  {
   "cell_type": "code",
   "execution_count": null,
   "metadata": {},
   "outputs": [],
   "source": [
    "json_strings = [json.dumps(row.tolist()) for index, row in all_df.iterrows()]\n",
    "df[\"embedding_json\"] = json_strings"
   ]
  },
  {
   "cell_type": "code",
   "execution_count": null,
   "metadata": {},
   "outputs": [],
   "source": [
    "df.iloc[3]"
   ]
  },
  {
   "cell_type": "code",
   "execution_count": null,
   "metadata": {},
   "outputs": [],
   "source": [
    "db_save_df(df, \"transcript_segments_llama_2\")"
   ]
  },
  {
   "cell_type": "markdown",
   "metadata": {},
   "source": [
    "## Voyage Embeddings"
   ]
  },
  {
   "cell_type": "code",
   "execution_count": 17,
   "metadata": {},
   "outputs": [],
   "source": [
    "from transformers import AutoTokenizer\n",
    "from tqdm import tqdm\n",
    "from db_connect import save_pkl, db_get_df"
   ]
  },
  {
   "cell_type": "code",
   "execution_count": 65,
   "metadata": {},
   "outputs": [],
   "source": [
    "\n",
    "import os\n",
    "\n",
    "import voyageai\n",
    "from dotenv import load_dotenv\n",
    "from transformers import AutoTokenizer\n",
    "\n",
    "tokenizer = AutoTokenizer.from_pretrained(\"voyageai/voyage\")\n",
    "\n",
    "load_dotenv()\n",
    "API_KEY = os.getenv(\"VOYAGE_API_KEY\")\n",
    "\n",
    "vo = voyageai.Client()\n",
    "\n",
    "\n",
    "def get_embedding_voyage(input, model=\"voyage-lite-02-instruct\"):\n",
    "    if isinstance(input, str):\n",
    "        input = [input.replace(\"\\n\", \" \")]\n",
    "\n",
    "    # input = json.dumps(input)\n",
    "    # print(input)\n",
    "    result = vo.embed(input, model=model, input_type=\"document\")\n",
    "    return result.embeddings\n"
   ]
  },
  {
   "cell_type": "code",
   "execution_count": 79,
   "metadata": {},
   "outputs": [],
   "source": [
    "def batch_sentences(df, max_tokens=8191, max_sentences=128):\n",
    "    start_idx = 0\n",
    "    current_tokens = 0\n",
    "    sentence_count = 0\n",
    "\n",
    "    for i, row in enumerate(df.itertuples()):  # Using itertuples() for efficiency\n",
    "        sentence_tokens = row.token_count  # Assuming 'token_count' column exists\n",
    "        if current_tokens + sentence_tokens > max_tokens or sentence_count == max_sentences:\n",
    "            # Yield the current batch of sentences and reset the counters\n",
    "            yield df.iloc[start_idx:i][\"sentence\"]\n",
    "            start_idx = i\n",
    "            current_tokens = sentence_tokens\n",
    "            sentence_count = 1  # Reset count and include current sentence in the new batch\n",
    "        else:\n",
    "            current_tokens += sentence_tokens\n",
    "            sentence_count += 1\n",
    "\n",
    "    # Yield the last batch if there are remaining sentences\n",
    "    if start_idx < len(df):\n",
    "        yield df.iloc[start_idx:][\"sentence\"]\n"
   ]
  },
  {
   "cell_type": "code",
   "execution_count": 5,
   "metadata": {},
   "outputs": [],
   "source": [
    "df = db_get_df(\"transcript_sentences\")"
   ]
  },
  {
   "cell_type": "code",
   "execution_count": 24,
   "metadata": {},
   "outputs": [
    {
     "name": "stderr",
     "output_type": "stream",
     "text": [
      "100%|██████████| 433562/433562 [01:19<00:00, 5473.22it/s]\n"
     ]
    }
   ],
   "source": [
    "tokenizer = AutoTokenizer.from_pretrained('voyageai/voyage')\n",
    "tokens = [tokenizer.encode(sentence) for sentence in tqdm(df[\"sentence\"])]"
   ]
  },
  {
   "cell_type": "code",
   "execution_count": 26,
   "metadata": {},
   "outputs": [],
   "source": [
    "df[\"token\"] = tokens"
   ]
  },
  {
   "cell_type": "code",
   "execution_count": 27,
   "metadata": {},
   "outputs": [],
   "source": [
    "df['token_count'] = df[\"token\"].apply(len)"
   ]
  },
  {
   "cell_type": "code",
   "execution_count": 32,
   "metadata": {},
   "outputs": [
    {
     "data": {
      "text/plain": [
       "23"
      ]
     },
     "execution_count": 32,
     "metadata": {},
     "output_type": "execute_result"
    }
   ],
   "source": [
    "df['token_count']"
   ]
  },
  {
   "cell_type": "code",
   "execution_count": 45,
   "metadata": {},
   "outputs": [],
   "source": [
    "embeddings = []"
   ]
  },
  {
   "cell_type": "code",
   "execution_count": 87,
   "metadata": {},
   "outputs": [
    {
     "name": "stderr",
     "output_type": "stream",
     "text": [
      "0it [00:00, ?it/s]"
     ]
    },
    {
     "name": "stderr",
     "output_type": "stream",
     "text": [
      "2282it [1:10:37,  1.86s/it]\n"
     ]
    },
    {
     "name": "stdout",
     "output_type": "stream",
     "text": [
      "/Users/br/Projects/Bachelorarbeit/data/matrices/embeddings_voyage\n"
     ]
    }
   ],
   "source": [
    "for batch in tqdm(batch_sentences(df.iloc[194851:], 3000)):\n",
    "    embedding_batch = get_embedding_voyage(batch.to_list())\n",
    "    # print(len(embedding_batch))\n",
    "    for embedding in embedding_batch:\n",
    "        embeddings.append(embedding)\n",
    "save_pkl(embeddings, \"embeddings_voyage\")"
   ]
  },
  {
   "cell_type": "code",
   "execution_count": 88,
   "metadata": {},
   "outputs": [
    {
     "data": {
      "text/plain": [
       "433562"
      ]
     },
     "execution_count": 88,
     "metadata": {},
     "output_type": "execute_result"
    }
   ],
   "source": [
    "len(embeddings)"
   ]
  },
  {
   "cell_type": "code",
   "execution_count": 86,
   "metadata": {},
   "outputs": [
    {
     "data": {
      "text/plain": [
       "238711"
      ]
     },
     "execution_count": 86,
     "metadata": {},
     "output_type": "execute_result"
    }
   ],
   "source": [
    "len(df.iloc[194851:])"
   ]
  },
  {
   "cell_type": "code",
   "execution_count": 82,
   "metadata": {},
   "outputs": [
    {
     "name": "stdout",
     "output_type": "stream",
     "text": [
      "/Users/br/Projects/Bachelorarbeit/data/matrices/voyage_embeds_194851\n"
     ]
    }
   ],
   "source": [
    "save_pkl(embeddings, \"voyage_embeds_194851\")"
   ]
  },
  {
   "cell_type": "code",
   "execution_count": null,
   "metadata": {},
   "outputs": [],
   "source": [
    "batch_sentences(df)"
   ]
  },
  {
   "cell_type": "code",
   "execution_count": 49,
   "metadata": {},
   "outputs": [
    {
     "data": {
      "text/plain": [
       "1024"
      ]
     },
     "execution_count": 49,
     "metadata": {},
     "output_type": "execute_result"
    }
   ],
   "source": [
    "len(embeddings[0])"
   ]
  },
  {
   "cell_type": "code",
   "execution_count": null,
   "metadata": {},
   "outputs": [],
   "source": []
  },
  {
   "cell_type": "code",
   "execution_count": 54,
   "metadata": {},
   "outputs": [
    {
     "name": "stdout",
     "output_type": "stream",
     "text": [
      "['Verfolgt und ausgegrenzt.', 'Der niederländische Philosoph Baruch de Spinoza ist schon im 17. Jahrhundert für die demokratische Verfassung eines Staates eingetreten.', 'Die Existenz eines jüdisch -christlichen Schöpfergottes hat er verneint.', 'Nach dem Beschluss der Engel und dem Zeugnis der Heiligen bannen, verstoßen, verwünschen und verfluchen wir Baruch de Spinoza.', 'Mit der Zustimmung des Heiligen Gottes und dieser verkündet die jüdische Gemeinde in Amsterdam mit diesen drastischen Worten, dass sie ihr Gemeindemitglied, den 23 -jährigen Baruch de Spinoza, ab sofort aus ihrer Mitte ausschließt.', 'Mitte des 17. Jahrhunderts konnte ein solcher Bann das soziale Leben eines Menschen vernichten.', 'Zumindest aber machte er die derart ausgeschlossenen zu gesellschaftlichen Außenseitern, die häufig verleumdet oder sogar verfolgt wurden.', 'Genau das war das Leben, das jetzt vor dem jungen Baruch de Spinoza lag.', 'Am 24. November 1632 wurde Baruch de Spinoza als zweiter Sohn jüdischer Immigranten im Judenviertel geboren.', 'Seine Eltern waren vor der judenfeindlichen Politik in Portugal geflohen.', 'Die Familie ließ sich in Amsterdam nieder, wo der Vater als Kaufmann arbeitete und ein angesehenes Mitglied der jüdischen Gemeinde war.', 'In der Talmud -Thorar -Schule lernte Spinoza, genau wie seine Brüder Isaak und Gabriel, hebräisch.', 'Er arbeitete sich den Talmud und Aber schon als Teenager geriet er in Konflikt mit der jüdischen Gemeinde.', 'Ausgelöst vermutlich durch seine regelmäßigen Kontakte zu einer Gruppe liberaler Juden, wie beispielsweise Juan de Prado.', 'Der Arzt, dessen Namen heute kaum noch jemand kennt, war damals ein bekannter Freigeist.', 'Er stellte die göttliche Herkunft der musaischen Gesetze in Frage und bezweifelte die Autorität der Rabbiner.', 'Das führte dann bald zu Kontroversen in der Gemeinde.', 'Er wurde auch nicht ausgebildet als Rabbi.', 'War ihm zu gefährlich.', 'Das war ein nachdenklicher Rabbiner.', 'Den wollten die nicht haben, erzählt Wolfgang Bartoschat, Spinoza -Forscher und Übersetzer von der Universität Hamburg.', 'Gemeinsam mit seinem Bruder Gabriel führte Spinoza nach dem Tod des Vaters und des ältesten Bruders, das Geschäft der Familie.', 'Sein Interesse aber galt der Philosophie.', 'Deshalb studierte er nicht nur den Talmud, sondern auch noch an einer sogenannten Lateinschule, die ein christlicher Niederländer leitete.', 'Hier lernte Spinoza Latein und eignete sich die aktuellen philosophischen Theorien an, vor allem die des Franzosen René Descartes, die damals in der gebildeten Öffentlichkeit heftig diskutiert wurden.', 'Durch diese Studien und Gespräche, so der Philosophieprofessor Wolfgang Bartoschat im Meritus von der Universität Hamburg, fühlte sich Spinoza bestärkt.', 'Die Distanz zur jüdischen Gemeinde wuchs, denn der junge Mann war fest davon überzeugt, dass der unkritische Umgang mit der religiösen Überlieferung wahre Erkenntnis verhindere.', 'Ihm ist aufgenommen, dass die Juden sich an Zeremonien und überlieferte Sachen gehalten haben und die nachsprechen und ohne dazu Stellung zu nehmen, dass sie also nicht das beurteilen, also was es mit denen auf sich hat, ob man sie wirklich befolgen soll.', 'Er hat also eine fehlende Urteilskraft entdeckt und das hat er gesagt, das ist eine Fremdbestimmung.', 'Diese fundamentale Kritik, die er später in seinen Schriften ausarbeiten sollte, stieß in der jüdischen Gemeinde erwartungsgemäß auf Abwehr.', 'Man versuchte ihn zur Rücknahme dieser Äußerungen zu bewegen, aber offenbar ohne Erfolg.', 'Durch den Ausschluss aus der Gemeinde verlor Spinoza mit 23 Jahren seine wirtschaftliche Lebensgrundlage, denn als Verbanter durfte er nicht weiter im Geschäft der Familie arbeiten.', 'Als Konsequenz lebte Spinoza bis zu seinem Tod notgedrungen in ärmlichen Verhältnissen, aber trotzdem standhaft der Philosophie und der Suche nach der Wahrheit verpflichtet.', 'Zunächst blieb er in Amsterdam, studierte, hielt sich im Kreis um Juan de Prado auf und verfasste seine ersten Schriften.', 'Vier Jahre später aber, 1660, erzwangen die jüdischen Rabbiner bei den Behörden die endgültige Vertreibung des Verfähmten aus Amsterdam.', 'Spinoza zog nach Rheinsburg.', 'Seinen Lebensunterhalt verdiente er durch das Schleifen optischer Gläser.', 'Er fertigte Linsen für Teleskope und Mikroskope an und fand, trotz der Abgeschiedenheit des Dorfes, überraschend schnell neue Freunde, denn dort lebten viele sogenannte Kollegianten, Anhänger einer protestantischen Religionsgemeinschaft, die sich vereinfacht ausgedrückt für ein reformatorisches Christentum ohne Kirche engagierten.', 'Die Kollegianten forderten Vernunft, Toleranz und Redefreiheit innerhalb einer Glaubensgemeinschaft, aber auch als Grundlage eines Staates.', 'Forderungen, die Spinoza für fundamental hielt und die er später in seinen Schriften aufgreifen wird.', 'In den folgenden Jahren wechselte Spinoza erneut seinen Wohnort und zog nach Vorburg.', 'Auch dort lebte er zurückgezogen, sein Tagesablauf nur ab und zu unterbrochen vom Besuch einiger Freunde.', 'Neben dem Schleifen optischer Gläser konzentrierte er sich auf das Schreiben seines Hauptwerks mit dem Namen Ethika.', 'Diese Schrift, die aber erst nach seinem Tod veröffentlicht wurde, legt in fünf Teilen dar, was die spinozistische Philosophie ausmacht.', 'Das Buch heißt Ethik, weil es letztlich um das richtige Handeln des Menschen geht, erklärt Manfred Walter, Begründer der deutschen Spinoza -Gesellschaft und Emeritus von der Leibniz -Universität in Hannover.', 'Aber in diesem Buch werden eben alle möglichen philosophischen Teilaspekte behandelt, angefangen davon, wie die Welt insgesamt beschaffen ist, dann über die Frage, wie der Mensch in der Natur verankert ist und als Teil der Natur wirkt, wie seine Erkenntnisfähigkeit ist und welches die Gründe dafür sind, dass er manchmal daneben liegt mit seinen Gedanken und Erkenntnissen.', 'Spinoza ist davon überzeugt, dass das Streben des Einzelnen nach Glück und Frieden zentral ist für das menschliche Leben.', 'Um aber zu ergründen, worin das Glück oder das Gute liegen kann, ist es notwendig zu erkennen, was die Welt ausmacht und welche Rolle der Mensch darin spielt.', 'Denn es geht ja nicht um irgendeine Erkenntnis, sondern um die vollkommene und wahre Erkenntnis.', 'Sie ist das Höchste, was Menschen erreichen können, und sie macht Menschen glücklich.', 'Dieser Ansatz ist in der Philosophiegeschichte nicht grundsätzlich neu, schon in der Antike galt die menschliche Erkenntnisfähigkeit als Schlüssel, um im zur Wahrheit gelangen zu können.', 'Aber wie Spinoza die Möglichkeiten menschlicher Erkenntnis ausformuliert, das markiert einen Wendepunkt in der Philosophiegeschichte.', 'Zentral ist der Gottesbegriff.', 'Gott oder die Substanz, die aus unendlich vielen Attributen besteht, deren jedes ewige und unendliche Wesenheit ausdrückt, existiert notwendig.', 'Schreibt Spinoza im elften Lehrsatz seiner Ethik.', 'Der für seine Philosophie zentrale Gottesbegriff, den Spinoza im ersten Teil dieser Schrift entfaltet, ist eine radikale Verneinung der jüdisch -christlichen Gottesvorstellung.', 'Die Dinge konnten auf keine andere Weise und in keiner anderen Ordnung von Gott hervorgebracht werden, als sie hervorgebracht sind.', 'Statt eines Schöpfergottes, der die Welt, die Menschen und die Natur mit Absicht und aus freiem Willen erschaffen hat, ist Gott für den niederländischen Philosophen ein unpersönliches Prinzip, aus dem aber trotzdem alles hervorgeht, wie Wolfgang Bartusch hat erklärt.', 'Gott ist im Wesentlichen Produktivität.', 'Gott ist Macht.', 'Das heißt Gott handelt nicht auf Grund von Überlegung oder auf Grund von Verstand und entschließt sich, diese Welt zu erschaffen, hätte aber auch eine andere erschaffen können.', 'Diese Möglichkeit wird ausgeschlossen.', 'Gott schafft nur eine Welt, in der er sich ganz erfüllt und in der er also präsent ist.', 'Gott ist zwar die Ursache der existierenden Welt, aber gleichzeitig eben auch die Ursache seiner selbst.', 'Also kein strafender oder absichtsvoll handelnder, transzendenter Gott, der sich das Schauspielwelt von außen ansieht, sondern einer, der immanent und damit überall ist.', 'Alles, was ist, ist in Gott und nichts kann ohne Gott sein oder begriffen werden.', 'wenn es keine von Gott absichtlich hergestellte Beschaffenheit mehr gibt?', 'Muss ein solcher Ansatz nicht zwangsläufig zur Folge haben, dass die geltenden Normen des Zusammenlebens, genauso wie juristische Regeln, zerstört werden?', 'Fragen, die Spinoza nicht nachvollziehen konnte und wollte.', 'Im Gegenteil, er war auch damit seiner Zeit weit voraus, denn er plädierte dafür, wie schon in seiner frühen Auseinandersetzung mit den Rabinern der jüdischen Gemeinde, selbst frei zu denken, sich unabhängig von Vorurteilen, von Traditionen, Überlieferungen oder sozialen Normen ein eigenes, individuelles Urteil zu bilden.', 'Durch eine Balance zwischen menschlichen Affekten und Vernunft, die er durch seinen Gottesbegriff für möglich hielt.', 'Das ist eine Eigenschaft der Philosophie Spinosas, die ich faszinierend finde.', 'Und ich glaube, darauf beruht auch die Faszination Spinosas, dass er zu fast allen Fragen, wo es zwei Lager gibt in der Philosophie, eine dritte Position hat.', 'Sagt der Hanoveraner Spinoza -Forscher Manfred Walter.', 'Denn Spinoza überwindet damit das dualistische Denken, das viele philosophische Theorien charakterisiert.', 'Vernunft und Affekte, Körperlichkeit und Seele, aber auch Gott und die Welt gehören bei Spinoza zusammen.', 'Sie sind keine Gegensätze, sondern zwei Seiten des einen Ganzen.', 'Statt entgegengesetzte Standpunkte zu beschreiben, führt Spinoza die unterschiedlichen Aspekte der Welt und des Menschseins durch den Gottesbegriff zusammen.', 'Denn das ist meiner Meinung nach die Voraussetzung dafür, dass sich das menschliche Streben nach Glück und Frieden sowie die Suche nach dem Guten erfüllen kann, wie Wolfgang Bartuschat ausführt.', 'Und dafür ist Gott einem behilflich, so wie Spinoza ihn konstruiert.', 'Bloß Gott kann nicht für ihn denken.', 'Das muss er schon selber machen.', 'In dieser Spannung wird das entwickelt.', 'Und insofern handelt der letzte Teil der Ethik von der Macht des Verstandes und von menschlicher Freiheit.', 'Die vollkommene Erkenntnis ist für Spinoza die, die den Menschen verstehen lässt, wie die Welt beschaffen ist.', 'Diese Erkenntnis macht glücklich und frei und zwar frei von falschen Vorstellungen über das Leben, Gott oder die menschliche Natur.', 'Denn sie ist eine Einsicht in die Notwendigkeit des So -Seins.', 'Dass der Mensch dann frei ist, wenn er den Zusammenhang seines Handels mit der Welt aus sich selbst, aus Einsicht gestalten kann.', 'Insofern ist Philosophie auch eine Lebensform für Spinoza.', 'Und Bergson hat ja mal, der französische Philosoph hat ja mal gesagt, alle Philosophen haben eigentlich zwei Philosophien, nämlich den Spinoza und ihre eigene.']\n",
      "['Und das hängt genau damit zusammen, dass diese Freude und Begeisterung, wenn man Zusammenhänge erkannt hat, das ist ein Kernstück der Philosophie Spinosas.', 'Und deswegen ist man ihm immer nahe, wenn man wirklich mal was begriffen hat.', 'Um aber zu dieser Einsicht in die Notwendigkeit zu gelangen, müssen die äußeren Verhältnisse so beschaffen sein, dass die Menschen frei und selbstständig denken können.', 'Das zu ermöglichen, ja sogar die Bedingungen dafür zu schaffen.', 'Das ist nach Spinoza die Aufgabe eines Staates.', 'Es wird gezeigt, dass es in einem freien Staate jedem erlaubt ist zu denken, was er will und zu sagen, was er denkt.', 'So lautet die Überschrift des Schlusskapitels des theologisch politischen Traktats.', 'Diese Schrift, in der es um die Rolle der Religion, um den Wahrheitsgehalt der Bibel und um die Bedeutung der Redefreiheit in dem Staat geht, wurde 1670 veröffentlicht, aber auf Latein, was den Kreis der Leser einschränkte und auch anonym.', 'Denn der Inhalt mag für uns heute zwar selbstverständlich klingen, er kam damals aber fast einer Revolution gleich.', 'Das war Spinoza und seinen Anhängern bewusst, vor allem nachdem ein religiöser Eiferer versucht hatte, den Philosophen auf offener Straße zu erstechen.', 'Ein Staat kann nur dann dauerhaft bestehen, wenn er die Bedürfnisse und Interessen der Menschen achtet und respektiert.', 'Das ist die zentrale Botschaft seiner politischen Theorie.', 'Und dazu gehört an oberster Stelle, frei zu denken, sich seine eigene Meinung zu bilden und zu Urteilen zu gelangen, die durchaus im Gegensatz zu dem stehen können, was in der Bibel steht oder was die Politiker für angemessen halten.', 'So Spinoza.', 'Also Denkverbote kann man gar nicht verhängen.', 'Also man kann das versuchen, aber das nützt nix.', 'Und Redeverbote sind nicht gerade stabilisierend für die Gesellschaften, in denen sie gelten, sagt Manfred Walter, Gründer der deutschen Spinoza Gesellschaft.', 'Während der Engländer Thomas Hobbs davon ausgeht, dass ein Staat das Überleben seiner Bürger dadurch sichert, dass er deren Affekte und deren Egoismus bändigt, ist die Aufgabe des Staates bei Spinoza eine ganz andere.', 'Eine politische Gemeinschaft muss jedem Individuum den Raum und die Möglichkeit einräumen, selbst nachzudenken.', 'Einerseits, weil der Staat sonst nicht stabil sein wird und andererseits, weil nur so die Menschen glücklich und frei werden können und damit letztlich friedlich zusammenleben.', 'Es ist nicht der Zweck des Staates, die Menschen aus vernünftigen Wesen zu Tieren oder Automaten zu machen, sondern vielmehr zu bewirken, dass ihr Geist und ihr Körper ungefährdet seine Kräfte entfalten kann, dass sie selbst frei ihre Vernunft gebrauchen und dass sie nicht mit Zorn, Hass und Hinterlist sich bekämpfen, noch feindselig gegeneinander gesinnt sind.', 'Der Zweck des Staates ist in Wahrheit die Freiheit.', 'Nämlich die Freiheit der richtigen Erkenntnis, die es dem menschlichen Geist ermöglicht, eine Balance zwischen den Affekten und der Vernunft herzustellen.', 'Eine solche Balance ermöglicht das Erkennen der Wahrheit und ist der Inbegriff des höchsten Glücks, das ein Mensch erreichen kann.', 'Ideal dafür ist die demokratische Verfassung eines Staates, wie Spinoza schreibt.', 'Es kann kein Zweifel sein, dass diese Regierungsweise die beste ist und die wenigsten Missstände zum Gefolge hat, denn sie steht mit der Natur der Menschen am meisten in Einklang, denn bei der demokratischen Regierung verpflichten sich, wie ich gezeigt habe, alle nach gemeinsamen Beschluss zu handeln, nicht aber so zu urteilen und zu denken.', 'Obwohl der theologisch politische Traktat 1670 anonym erschienen war, Spinoza weiterhin sehr abgeschieden und versteckt lebte, kannte die gebildete Öffentlichkeit den Verfasser des Textes und das verschärfte die Ablehnung, die ihm vor allem von kirchlicher Seite entgegenschlug.', 'Spinoza stand unter strenger Beobachtung.', 'Politisch hatte Spinoza zunächst weniger zu befürchten, weil sich die Niederlande in einer historischen Ausnahmesituation befanden.', 'Nachdem sie jahrzehntelang um ihre Unabhängigkeit von der spanischen Krone gekämpft hatten, erlangten sie durch den westfälischen Frieden am Ende des Dreißigjährigen Krieges die ersehnte Autonomie.', 'Ab 1662 wurden sie dann von Johann de Witt quasi republikanisch regiert.', 'Ein großbürgerlicher Regierungschef, der für ein liberales Klima im Land sorgte.', 'Religiös und politisch Verfolgte fanden hier Unterschlupf und auch gegen Denker wie Spinoza ging die Regierung nicht vor.', 'Kritische Schriften durften durchaus veröffentlicht werden.', 'Zu der Zeit aber, in der Spinosas lateinische Verfassung des theologisch -politischen Traktats in Umlauf kam, änderte sich die politische Situation.', 'Die Unzufriedenheit mit der Politik Johann de Witts nahm zu und als im Jahr 1672 die Armee des französischen Königs Ludwig XIV.', 'die Republik überrannte und verwüstete, konnte sich der republikanische Staatslenker nicht halten.', 'Seine Gegner setzten ihn durch politische Intrigen ab.', 'Er wurde verhaftet und schließlich vom Mob in einem Akt von brutaler Lynchjustiz ermordet.', 'Das alles war Spinoza bekannt.', 'Deshalb wollte er eine niederländische Übersetzung seiner politischen Theorie auf jeden Fall verhindern, wie er seinem Freund Jarech Jelles, einem Kaufmann, der zum Kreis der Kollegianten gehörte, damals schrieb.', 'Ich bitte Sie dringend, sich in dieser Sache zu informieren und womöglich die Drucklegung zu verhindern.', 'Das ist nicht nur mein Wunsch, sondern auch der Wunsch vieler meiner Freunde und Bekannten, die es nicht gern sehen, wenn das Buch verboten wird, was zweifellos eintreten wird, wenn es in niederländischer Sprache herauskommt.', 'Die Veröffentlichung unterblieb und Spinoza konnte weiter an seinen Schriften arbeiten.', '1673 wurde ihm eine Professur für Philosophie an der Universität Heidelberg angetragen.', 'Allerdings war diese Einladung mit der Erwartung verknüpft, religionskritische Ansichten nicht zu äußern.', 'Das war Spinoza zu heikel.', 'Er lehnte ab und zog es vor, sein prekaires, aber selbstbestimmtes Leben beizubehalten.', '1677 starb Spinoza, vermutlich an Tuberkulose, mit 44 Jahren.', 'Erst nach seinem Tod wurden Spinosas Schriften als Operapostuma veröffentlicht.', 'Allerdings standen die meisten umgehend auf dem Index der verbotenen Bücher.', 'Spinoza, der radikale Frühaufklärer, Demokratieverfechter und Kirchenkritiker, wurde nahezu vergessen.', 'Weder christliche noch jüdische Denker interessierten sich für ihn.', 'Er galt als abseitig, radikal und wegen seiner Kritik an der Bibel - und Talmud -Auslegung als atheistisch.', 'Dieses Urteil wog schwer.', 'Es sollten gut 100 Jahre vergehen, bis sich die deutschen Idealisten an den verfimten Philosophen erinnerten.', 'Ausgehend von Lessing setzten sie sich mit seiner Philosophie auseinander und deuteten Spinoza als idealistischen Pantheisten.', 'Auch wenn viele Spinoza -Forscher heute diese Interpretation nicht teilen, so ist es doch Schelling, Fichte und Goethe zu verdanken, dass Spinoza damit in die Philosophiegeschichte zurückgeholt wurde.', 'Für die er seither von zentraler Bedeutung ist.', 'Das war Radio Wissen, ein Podcast von Bayern 2. Autorin dieser Folge über Baruch de Spinoza war Daniela Remus.', 'Es sprachen Hemma Michel sowie Thomas Birnstiel und Axel Wostri, der auch Regie führte.', 'Technik Monika Xenger.', 'Redaktion Bernhard Kastner.', 'Wenn Sie mehr über den Philosophen Baruch de Spinoza wissen wollen, im Felix Meiner Verlag sind sämtliche Werke des Denkers in aktuellen Übersetzungen erschienen.', 'Verfolgt und ausgegrenzt.', 'Der niederländische Philosoph Baruch de Spinoza ist schon im 17. Jahrhundert für die demokratische Verfassung eines Staates eingetreten.', 'Die Existenz eines jüdisch -christlichen Schöpfergottes hat er verneint.', 'Nach dem Beschluss der Engel und dem Zeugnis der Heiligen bannen, verstoßen, verwünschen und verfluchen wir Baruch de Spinoza.', 'Mit der Zustimmung des Heiligen Gottes und dieser verkündet die jüdische Gemeinde in Amsterdam mit diesen drastischen Worten, dass sie ihr Gemeindemitglied, den 23 -jährigen Baruch de Spinoza, ab sofort aus ihrer Mitte ausschließt.', 'Mitte des 17. Jahrhunderts konnte ein solcher Bann das soziale Leben eines Menschen vernichten.', 'Zumindest aber machte er die derart ausgeschlossenen zu gesellschaftlichen Außenseitern, die häufig verleumdet oder sogar verfolgt wurden.', 'Genau das war das Leben, das jetzt vor dem jungen Baruch de Spinoza lag.', 'Am 24. November 1632 wurde Baruch de Spinoza als zweiter Sohn jüdischer Immigranten im Judenviertel geboren.', 'Seine Eltern waren vor der judenfeindlichen Politik in Portugal geflohen.', 'Die Familie ließ sich in Amsterdam nieder, wo der Vater als Kaufmann arbeitete und ein angesehenes Mitglied der jüdischen Gemeinde war.', 'In der Talmud -Thorar -Schule lernte Spinoza, genau wie seine Brüder Isaak und Gabriel, hebräisch.', 'Er arbeitete sich den Talmud und Aber schon als Teenager geriet er in Konflikt mit der jüdischen Gemeinde.', 'Ausgelöst vermutlich durch seine regelmäßigen Kontakte zu einer Gruppe liberaler Juden, wie beispielsweise Juan de Prado.', 'Der Arzt, dessen Namen heute kaum noch jemand kennt, war damals ein bekannter Freigeist.', 'Er stellte die göttliche Herkunft der musaischen Gesetze in Frage und bezweifelte die Autorität der Rabbiner.', 'Das führte dann bald zu Kontroversen in der Gemeinde.', 'Er wurde auch nicht ausgebildet als Rabbi.', 'War ihm zu gefährlich.', 'Das war ein nachdenklicher Rabbiner.', 'Den wollten die nicht haben, erzählt Wolfgang Bartoschat, Spinoza -Forscher und Übersetzer von der Universität Hamburg.', 'Gemeinsam mit seinem Bruder Gabriel führte Spinoza nach dem Tod des Vaters und des ältesten Bruders, das Geschäft der Familie.', 'Sein Interesse aber galt der Philosophie.', 'Deshalb studierte er nicht nur den Talmud, sondern auch noch an einer sogenannten Lateinschule, die ein christlicher Niederländer leitete.', 'Hier lernte Spinoza Latein und eignete sich die aktuellen philosophischen Theorien an, vor allem die des Franzosen René Descartes, die damals in der gebildeten Öffentlichkeit heftig diskutiert wurden.', 'Durch diese Studien und Gespräche, so der Philosophieprofessor Wolfgang Bartoschat im Meritus von der Universität Hamburg, fühlte sich Spinoza bestärkt.', 'Die Distanz zur jüdischen Gemeinde wuchs, denn der junge Mann war fest davon überzeugt, dass der unkritische Umgang mit der religiösen Überlieferung wahre Erkenntnis verhindere.', 'Ihm ist aufgenommen, dass die Juden sich an Zeremonien und überlieferte Sachen gehalten haben und die nachsprechen und ohne dazu Stellung zu nehmen, dass sie also nicht das beurteilen, also was es mit denen auf sich hat, ob man sie wirklich befolgen soll.', 'Er hat also eine fehlende Urteilskraft entdeckt und das hat er gesagt, das ist eine Fremdbestimmung.']\n",
      "['Diese fundamentale Kritik, die er später in seinen Schriften ausarbeiten sollte, stieß in der jüdischen Gemeinde erwartungsgemäß auf Abwehr.', 'Man versuchte ihn zur Rücknahme dieser Äußerungen zu bewegen, aber offenbar ohne Erfolg.', 'Durch den Ausschluss aus der Gemeinde verlor Spinoza mit 23 Jahren seine wirtschaftliche Lebensgrundlage, denn als Verbanter durfte er nicht weiter im Geschäft der Familie arbeiten.', 'Als Konsequenz lebte Spinoza bis zu seinem Tod notgedrungen in ärmlichen Verhältnissen, aber trotzdem standhaft der Philosophie und der Suche nach der Wahrheit verpflichtet.', 'Zunächst blieb er in Amsterdam, studierte, hielt sich im Kreis um Juan de Prado auf und verfasste seine ersten Schriften.', 'Vier Jahre später aber, 1660, erzwangen die jüdischen Rabbiner bei den Behörden die endgültige Vertreibung des Verfähmten aus Amsterdam.', 'Spinoza zog nach Rheinsburg.', 'Seinen Lebensunterhalt verdiente er durch das Schleifen optischer Gläser.', 'Er fertigte Linsen für Teleskope und Mikroskope an und fand, trotz der Abgeschiedenheit des Dorfes, überraschend schnell neue Freunde, denn dort lebten viele sogenannte Kollegianten, Anhänger einer protestantischen Religionsgemeinschaft, die sich vereinfacht ausgedrückt für ein reformatorisches Christentum ohne Kirche engagierten.', 'Die Kollegianten forderten Vernunft, Toleranz und Redefreiheit innerhalb einer Glaubensgemeinschaft, aber auch als Grundlage eines Staates.', 'Forderungen, die Spinoza für fundamental hielt und die er später in seinen Schriften aufgreifen wird.', 'In den folgenden Jahren wechselte Spinoza erneut seinen Wohnort und zog nach Vorburg.', 'Auch dort lebte er zurückgezogen, sein Tagesablauf nur ab und zu unterbrochen vom Besuch einiger Freunde.', 'Neben dem Schleifen optischer Gläser konzentrierte er sich auf das Schreiben seines Hauptwerks mit dem Namen Ethika.', 'Diese Schrift, die aber erst nach seinem Tod veröffentlicht wurde, legt in fünf Teilen dar, was die spinozistische Philosophie ausmacht.', 'Das Buch heißt Ethik, weil es letztlich um das richtige Handeln des Menschen geht, erklärt Manfred Walter, Begründer der deutschen Spinoza -Gesellschaft und Emeritus von der Leibniz -Universität in Hannover.', 'Aber in diesem Buch werden eben alle möglichen philosophischen Teilaspekte behandelt, angefangen davon, wie die Welt insgesamt beschaffen ist, dann über die Frage, wie der Mensch in der Natur verankert ist und als Teil der Natur wirkt, wie seine Erkenntnisfähigkeit ist und welches die Gründe dafür sind, dass er manchmal daneben liegt mit seinen Gedanken und Erkenntnissen.', 'Spinoza ist davon überzeugt, dass das Streben des Einzelnen nach Glück und Frieden zentral ist für das menschliche Leben.', 'Um aber zu ergründen, worin das Glück oder das Gute liegen kann, ist es notwendig zu erkennen, was die Welt ausmacht und welche Rolle der Mensch darin spielt.', 'Denn es geht ja nicht um irgendeine Erkenntnis, sondern um die vollkommene und wahre Erkenntnis.', 'Sie ist das Höchste, was Menschen erreichen können, und sie macht Menschen glücklich.', 'Dieser Ansatz ist in der Philosophiegeschichte nicht grundsätzlich neu, schon in der Antike galt die menschliche Erkenntnisfähigkeit als Schlüssel, um im zur Wahrheit gelangen zu können.', 'Aber wie Spinoza die Möglichkeiten menschlicher Erkenntnis ausformuliert, das markiert einen Wendepunkt in der Philosophiegeschichte.', 'Zentral ist der Gottesbegriff.', 'Gott oder die Substanz, die aus unendlich vielen Attributen besteht, deren jedes ewige und unendliche Wesenheit ausdrückt, existiert notwendig.', 'Schreibt Spinoza im elften Lehrsatz seiner Ethik.', 'Der für seine Philosophie zentrale Gottesbegriff, den Spinoza im ersten Teil dieser Schrift entfaltet, ist eine radikale Verneinung der jüdisch -christlichen Gottesvorstellung.', 'Die Dinge konnten auf keine andere Weise und in keiner anderen Ordnung von Gott hervorgebracht werden, als sie hervorgebracht sind.', 'Statt eines Schöpfergottes, der die Welt, die Menschen und die Natur mit Absicht und aus freiem Willen erschaffen hat, ist Gott für den niederländischen Philosophen ein unpersönliches Prinzip, aus dem aber trotzdem alles hervorgeht, wie Wolfgang Bartusch hat erklärt.', 'Gott ist im Wesentlichen Produktivität.', 'Gott ist Macht.', 'Das heißt Gott handelt nicht auf Grund von Überlegung oder auf Grund von Verstand und entschließt sich, diese Welt zu erschaffen, hätte aber auch eine andere erschaffen können.', 'Diese Möglichkeit wird ausgeschlossen.', 'Gott schafft nur eine Welt, in der er sich ganz erfüllt und in der er also präsent ist.', 'Gott ist zwar die Ursache der existierenden Welt, aber gleichzeitig eben auch die Ursache seiner selbst.', 'Also kein strafender oder absichtsvoll handelnder, transzendenter Gott, der sich das Schauspielwelt von außen ansieht, sondern einer, der immanent und damit überall ist.', 'Alles, was ist, ist in Gott und nichts kann ohne Gott sein oder begriffen werden.', 'wenn es keine von Gott absichtlich hergestellte Beschaffenheit mehr gibt?', 'Muss ein solcher Ansatz nicht zwangsläufig zur Folge haben, dass die geltenden Normen des Zusammenlebens, genauso wie juristische Regeln, zerstört werden?', 'Fragen, die Spinoza nicht nachvollziehen konnte und wollte.', 'Im Gegenteil, er war auch damit seiner Zeit weit voraus, denn er plädierte dafür, wie schon in seiner frühen Auseinandersetzung mit den Rabinern der jüdischen Gemeinde, selbst frei zu denken, sich unabhängig von Vorurteilen, von Traditionen, Überlieferungen oder sozialen Normen ein eigenes, individuelles Urteil zu bilden.', 'Durch eine Balance zwischen menschlichen Affekten und Vernunft, die er durch seinen Gottesbegriff für möglich hielt.', 'Das ist eine Eigenschaft der Philosophie Spinosas, die ich faszinierend finde.', 'Und ich glaube, darauf beruht auch die Faszination Spinosas, dass er zu fast allen Fragen, wo es zwei Lager gibt in der Philosophie, eine dritte Position hat.', 'Sagt der Hanoveraner Spinoza -Forscher Manfred Walter.', 'Denn Spinoza überwindet damit das dualistische Denken, das viele philosophische Theorien charakterisiert.', 'Vernunft und Affekte, Körperlichkeit und Seele, aber auch Gott und die Welt gehören bei Spinoza zusammen.', 'Sie sind keine Gegensätze, sondern zwei Seiten des einen Ganzen.', 'Statt entgegengesetzte Standpunkte zu beschreiben, führt Spinoza die unterschiedlichen Aspekte der Welt und des Menschseins durch den Gottesbegriff zusammen.', 'Denn das ist meiner Meinung nach die Voraussetzung dafür, dass sich das menschliche Streben nach Glück und Frieden sowie die Suche nach dem Guten erfüllen kann, wie Wolfgang Bartuschat ausführt.', 'Und dafür ist Gott einem behilflich, so wie Spinoza ihn konstruiert.', 'Bloß Gott kann nicht für ihn denken.', 'Das muss er schon selber machen.', 'In dieser Spannung wird das entwickelt.', 'Und insofern handelt der letzte Teil der Ethik von der Macht des Verstandes und von menschlicher Freiheit.', 'Die vollkommene Erkenntnis ist für Spinoza die, die den Menschen verstehen lässt, wie die Welt beschaffen ist.', 'Diese Erkenntnis macht glücklich und frei und zwar frei von falschen Vorstellungen über das Leben, Gott oder die menschliche Natur.', 'Denn sie ist eine Einsicht in die Notwendigkeit des So -Seins.', 'Dass der Mensch dann frei ist, wenn er den Zusammenhang seines Handels mit der Welt aus sich selbst, aus Einsicht gestalten kann.', 'Insofern ist Philosophie auch eine Lebensform für Spinoza.', 'Und Bergson hat ja mal, der französische Philosoph hat ja mal gesagt, alle Philosophen haben eigentlich zwei Philosophien, nämlich den Spinoza und ihre eigene.', 'Und das hängt genau damit zusammen, dass diese Freude und Begeisterung, wenn man Zusammenhänge erkannt hat, das ist ein Kernstück der Philosophie Spinosas.', 'Und deswegen ist man ihm immer nahe, wenn man wirklich mal was begriffen hat.', 'Um aber zu dieser Einsicht in die Notwendigkeit zu gelangen, müssen die äußeren Verhältnisse so beschaffen sein, dass die Menschen frei und selbstständig denken können.', 'Das zu ermöglichen, ja sogar die Bedingungen dafür zu schaffen.', 'Das ist nach Spinoza die Aufgabe eines Staates.', 'Es wird gezeigt, dass es in einem freien Staate jedem erlaubt ist zu denken, was er will und zu sagen, was er denkt.', 'So lautet die Überschrift des Schlusskapitels des theologisch politischen Traktats.', 'Diese Schrift, in der es um die Rolle der Religion, um den Wahrheitsgehalt der Bibel und um die Bedeutung der Redefreiheit in dem Staat geht, wurde 1670 veröffentlicht, aber auf Latein, was den Kreis der Leser einschränkte und auch anonym.', 'Denn der Inhalt mag für uns heute zwar selbstverständlich klingen, er kam damals aber fast einer Revolution gleich.', 'Das war Spinoza und seinen Anhängern bewusst, vor allem nachdem ein religiöser Eiferer versucht hatte, den Philosophen auf offener Straße zu erstechen.', 'Ein Staat kann nur dann dauerhaft bestehen, wenn er die Bedürfnisse und Interessen der Menschen achtet und respektiert.', 'Das ist die zentrale Botschaft seiner politischen Theorie.', 'Und dazu gehört an oberster Stelle, frei zu denken, sich seine eigene Meinung zu bilden und zu Urteilen zu gelangen, die durchaus im Gegensatz zu dem stehen können, was in der Bibel steht oder was die Politiker für angemessen halten.', 'So Spinoza.', 'Also Denkverbote kann man gar nicht verhängen.', 'Also man kann das versuchen, aber das nützt nix.', 'Und Redeverbote sind nicht gerade stabilisierend für die Gesellschaften, in denen sie gelten, sagt Manfred Walter, Gründer der deutschen Spinoza Gesellschaft.', 'Während der Engländer Thomas Hobbs davon ausgeht, dass ein Staat das Überleben seiner Bürger dadurch sichert, dass er deren Affekte und deren Egoismus bändigt, ist die Aufgabe des Staates bei Spinoza eine ganz andere.', 'Eine politische Gemeinschaft muss jedem Individuum den Raum und die Möglichkeit einräumen, selbst nachzudenken.', 'Einerseits, weil der Staat sonst nicht stabil sein wird und andererseits, weil nur so die Menschen glücklich und frei werden können und damit letztlich friedlich zusammenleben.', 'Es ist nicht der Zweck des Staates, die Menschen aus vernünftigen Wesen zu Tieren oder Automaten zu machen, sondern vielmehr zu bewirken, dass ihr Geist und ihr Körper ungefährdet seine Kräfte entfalten kann, dass sie selbst frei ihre Vernunft gebrauchen und dass sie nicht mit Zorn, Hass und Hinterlist sich bekämpfen, noch feindselig gegeneinander gesinnt sind.', 'Der Zweck des Staates ist in Wahrheit die Freiheit.', 'Nämlich die Freiheit der richtigen Erkenntnis, die es dem menschlichen Geist ermöglicht, eine Balance zwischen den Affekten und der Vernunft herzustellen.', 'Eine solche Balance ermöglicht das Erkennen der Wahrheit und ist der Inbegriff des höchsten Glücks, das ein Mensch erreichen kann.', 'Ideal dafür ist die demokratische Verfassung eines Staates, wie Spinoza schreibt.']\n"
     ]
    }
   ],
   "source": [
    "gen = batch_sentences(df, 3000)\n",
    "print(next(gen).to_list())\n",
    "print(next(gen).to_list())\n",
    "print(next(gen).to_list())\n",
    "\n"
   ]
  },
  {
   "cell_type": "code",
   "execution_count": 71,
   "metadata": {},
   "outputs": [],
   "source": [
    "input_list = next(gen).to_list()"
   ]
  },
  {
   "cell_type": "code",
   "execution_count": 72,
   "metadata": {},
   "outputs": [
    {
     "data": {
      "text/plain": [
       "19"
      ]
     },
     "execution_count": 72,
     "metadata": {},
     "output_type": "execute_result"
    }
   ],
   "source": [
    "len(input_list)"
   ]
  },
  {
   "cell_type": "code",
   "execution_count": 73,
   "metadata": {},
   "outputs": [],
   "source": [
    "embedding_batch = get_embedding_voyage(input_list)"
   ]
  },
  {
   "cell_type": "code",
   "execution_count": 77,
   "metadata": {},
   "outputs": [
    {
     "data": {
      "text/plain": [
       "1024"
      ]
     },
     "execution_count": 77,
     "metadata": {},
     "output_type": "execute_result"
    }
   ],
   "source": [
    "len(embedding_batch[2])\n"
   ]
  },
  {
   "cell_type": "code",
   "execution_count": 55,
   "metadata": {},
   "outputs": [
    {
     "name": "stderr",
     "output_type": "stream",
     "text": [
      "40it [00:00, 87.17it/s]"
     ]
    },
    {
     "name": "stdout",
     "output_type": "stream",
     "text": [
      "134\n",
      "155\n",
      "133\n"
     ]
    },
    {
     "name": "stderr",
     "output_type": "stream",
     "text": [
      "73it [00:00, 90.19it/s]"
     ]
    },
    {
     "name": "stdout",
     "output_type": "stream",
     "text": [
      "138\n",
      "133\n",
      "129\n"
     ]
    },
    {
     "name": "stderr",
     "output_type": "stream",
     "text": [
      "126it [00:01, 119.54it/s]"
     ]
    },
    {
     "name": "stdout",
     "output_type": "stream",
     "text": [
      "135\n",
      "130\n",
      "143\n"
     ]
    },
    {
     "name": "stderr",
     "output_type": "stream",
     "text": [
      "151it [00:01, 100.08it/s]"
     ]
    },
    {
     "name": "stdout",
     "output_type": "stream",
     "text": [
      "129\n",
      "131\n"
     ]
    },
    {
     "name": "stderr",
     "output_type": "stream",
     "text": [
      "172it [00:01, 81.90it/s] "
     ]
    },
    {
     "name": "stdout",
     "output_type": "stream",
     "text": [
      "134\n"
     ]
    },
    {
     "name": "stderr",
     "output_type": "stream",
     "text": [
      "204it [00:02, 90.57it/s]"
     ]
    },
    {
     "name": "stdout",
     "output_type": "stream",
     "text": [
      "128\n"
     ]
    },
    {
     "name": "stderr",
     "output_type": "stream",
     "text": [
      "234it [00:02, 113.18it/s]"
     ]
    },
    {
     "name": "stdout",
     "output_type": "stream",
     "text": [
      "130\n",
      "140\n",
      "144\n",
      "148\n"
     ]
    },
    {
     "name": "stderr",
     "output_type": "stream",
     "text": [
      "269it [00:02, 99.09it/s] "
     ]
    },
    {
     "name": "stdout",
     "output_type": "stream",
     "text": [
      "132\n",
      "132\n",
      "142\n"
     ]
    },
    {
     "name": "stderr",
     "output_type": "stream",
     "text": [
      "291it [00:03, 97.92it/s]"
     ]
    },
    {
     "name": "stdout",
     "output_type": "stream",
     "text": [
      "131\n"
     ]
    },
    {
     "name": "stderr",
     "output_type": "stream",
     "text": [
      "315it [00:03, 95.10it/s] "
     ]
    },
    {
     "name": "stdout",
     "output_type": "stream",
     "text": [
      "130\n",
      "157\n",
      "135\n",
      "130\n",
      "136\n"
     ]
    },
    {
     "name": "stderr",
     "output_type": "stream",
     "text": [
      "372it [00:03, 107.79it/s]"
     ]
    },
    {
     "name": "stdout",
     "output_type": "stream",
     "text": [
      "140\n",
      "135\n",
      "149\n",
      "155\n",
      "136\n",
      "134\n"
     ]
    },
    {
     "name": "stderr",
     "output_type": "stream",
     "text": [
      "413it [00:04, 119.35it/s]"
     ]
    },
    {
     "name": "stdout",
     "output_type": "stream",
     "text": [
      "135\n",
      "139\n",
      "128\n"
     ]
    },
    {
     "name": "stderr",
     "output_type": "stream",
     "text": [
      "440it [00:04, 118.45it/s]"
     ]
    },
    {
     "name": "stdout",
     "output_type": "stream",
     "text": [
      "130\n",
      "137\n",
      "132\n",
      "131\n",
      "136\n"
     ]
    },
    {
     "name": "stderr",
     "output_type": "stream",
     "text": [
      "464it [00:04, 106.18it/s]"
     ]
    },
    {
     "name": "stdout",
     "output_type": "stream",
     "text": [
      "135\n",
      "128\n",
      "130\n",
      "136\n",
      "134\n",
      "128\n"
     ]
    },
    {
     "name": "stderr",
     "output_type": "stream",
     "text": [
      "497it [00:05, 96.78it/s] "
     ]
    },
    {
     "name": "stdout",
     "output_type": "stream",
     "text": [
      "129\n",
      "129\n",
      "152\n",
      "188\n",
      "142\n",
      "137\n"
     ]
    },
    {
     "name": "stderr",
     "output_type": "stream",
     "text": [
      "526it [00:05, 86.75it/s]"
     ]
    },
    {
     "name": "stdout",
     "output_type": "stream",
     "text": [
      "192\n",
      "133\n",
      "133\n"
     ]
    },
    {
     "name": "stderr",
     "output_type": "stream",
     "text": [
      "549it [00:05, 94.43it/s]"
     ]
    },
    {
     "name": "stdout",
     "output_type": "stream",
     "text": [
      "155\n",
      "142\n",
      "132\n"
     ]
    },
    {
     "name": "stderr",
     "output_type": "stream",
     "text": [
      "583it [00:06, 98.03it/s] "
     ]
    },
    {
     "name": "stdout",
     "output_type": "stream",
     "text": [
      "136\n",
      "141\n",
      "128\n",
      "133\n",
      "139\n"
     ]
    },
    {
     "name": "stderr",
     "output_type": "stream",
     "text": [
      "605it [00:06, 102.05it/s]"
     ]
    },
    {
     "name": "stdout",
     "output_type": "stream",
     "text": [
      "128\n",
      "151\n"
     ]
    },
    {
     "name": "stderr",
     "output_type": "stream",
     "text": [
      "626it [00:06, 83.96it/s] "
     ]
    },
    {
     "name": "stdout",
     "output_type": "stream",
     "text": [
      "132\n",
      "128\n",
      "136\n"
     ]
    },
    {
     "name": "stderr",
     "output_type": "stream",
     "text": [
      "660it [00:06, 98.98it/s]"
     ]
    },
    {
     "name": "stdout",
     "output_type": "stream",
     "text": [
      "135\n",
      "152\n",
      "128\n"
     ]
    },
    {
     "name": "stderr",
     "output_type": "stream",
     "text": [
      "686it [00:07, 109.42it/s]"
     ]
    },
    {
     "name": "stdout",
     "output_type": "stream",
     "text": [
      "129\n"
     ]
    },
    {
     "name": "stderr",
     "output_type": "stream",
     "text": [
      "712it [00:07, 109.83it/s]"
     ]
    },
    {
     "name": "stdout",
     "output_type": "stream",
     "text": [
      "129\n",
      "159\n",
      "131\n"
     ]
    },
    {
     "name": "stderr",
     "output_type": "stream",
     "text": [
      "736it [00:07, 95.70it/s] "
     ]
    },
    {
     "name": "stdout",
     "output_type": "stream",
     "text": [
      "172\n",
      "146\n",
      "143\n",
      "130\n",
      "133\n"
     ]
    },
    {
     "name": "stderr",
     "output_type": "stream",
     "text": [
      "777it [00:07, 95.88it/s]"
     ]
    },
    {
     "name": "stdout",
     "output_type": "stream",
     "text": [
      "129\n",
      "142\n",
      "128\n"
     ]
    },
    {
     "name": "stderr",
     "output_type": "stream",
     "text": [
      "835it [00:08, 107.82it/s]"
     ]
    },
    {
     "name": "stdout",
     "output_type": "stream",
     "text": [
      "139\n",
      "129\n",
      "131\n",
      "129\n",
      "132\n"
     ]
    },
    {
     "name": "stderr",
     "output_type": "stream",
     "text": [
      "884it [00:09, 102.16it/s]"
     ]
    },
    {
     "name": "stdout",
     "output_type": "stream",
     "text": [
      "133\n",
      "144\n",
      "130\n",
      "137\n",
      "160\n",
      "129\n",
      "139\n"
     ]
    },
    {
     "name": "stderr",
     "output_type": "stream",
     "text": [
      "955it [00:09, 129.17it/s]"
     ]
    },
    {
     "name": "stdout",
     "output_type": "stream",
     "text": [
      "142\n",
      "140\n",
      "135\n",
      "130\n",
      "129\n"
     ]
    },
    {
     "name": "stderr",
     "output_type": "stream",
     "text": [
      "997it [00:09, 128.66it/s]"
     ]
    },
    {
     "name": "stdout",
     "output_type": "stream",
     "text": [
      "135\n",
      "131\n",
      "132\n",
      "128\n"
     ]
    },
    {
     "name": "stderr",
     "output_type": "stream",
     "text": [
      "1023it [00:10, 117.58it/s]"
     ]
    },
    {
     "name": "stdout",
     "output_type": "stream",
     "text": [
      "132\n",
      "141\n",
      "130\n"
     ]
    },
    {
     "name": "stderr",
     "output_type": "stream",
     "text": [
      "1093it [00:10, 132.32it/s]"
     ]
    },
    {
     "name": "stdout",
     "output_type": "stream",
     "text": [
      "140\n",
      "138\n",
      "129\n"
     ]
    },
    {
     "name": "stderr",
     "output_type": "stream",
     "text": [
      "1136it [00:10, 130.16it/s]"
     ]
    },
    {
     "name": "stdout",
     "output_type": "stream",
     "text": [
      "145\n",
      "128\n",
      "128\n",
      "149\n",
      "144\n",
      "133\n",
      "139\n",
      "131\n"
     ]
    },
    {
     "name": "stderr",
     "output_type": "stream",
     "text": [
      "1177it [00:11, 109.02it/s]"
     ]
    },
    {
     "name": "stdout",
     "output_type": "stream",
     "text": [
      "140\n"
     ]
    },
    {
     "name": "stderr",
     "output_type": "stream",
     "text": [
      "1200it [00:11, 107.33it/s]"
     ]
    },
    {
     "name": "stdout",
     "output_type": "stream",
     "text": [
      "134\n",
      "131\n"
     ]
    },
    {
     "name": "stderr",
     "output_type": "stream",
     "text": [
      "1241it [00:11, 127.70it/s]"
     ]
    },
    {
     "name": "stdout",
     "output_type": "stream",
     "text": [
      "128\n",
      "132\n",
      "128\n"
     ]
    },
    {
     "name": "stderr",
     "output_type": "stream",
     "text": [
      "1299it [00:12, 135.59it/s]"
     ]
    },
    {
     "name": "stdout",
     "output_type": "stream",
     "text": [
      "136\n",
      "135\n",
      "132\n",
      "170\n",
      "150\n"
     ]
    },
    {
     "name": "stderr",
     "output_type": "stream",
     "text": [
      "1341it [00:12, 127.55it/s]"
     ]
    },
    {
     "name": "stdout",
     "output_type": "stream",
     "text": [
      "129\n",
      "162\n",
      "136\n",
      "130\n",
      "139\n",
      "141\n"
     ]
    },
    {
     "name": "stderr",
     "output_type": "stream",
     "text": [
      "1396it [00:13, 119.33it/s]"
     ]
    },
    {
     "name": "stdout",
     "output_type": "stream",
     "text": [
      "159\n",
      "132\n",
      "129\n",
      "131\n",
      "134\n",
      "130\n",
      "131\n",
      "129\n"
     ]
    },
    {
     "name": "stderr",
     "output_type": "stream",
     "text": [
      "1450it [00:13, 122.54it/s]"
     ]
    },
    {
     "name": "stdout",
     "output_type": "stream",
     "text": [
      "129\n",
      "131\n",
      "137\n",
      "133\n",
      "134\n",
      "150\n"
     ]
    },
    {
     "name": "stderr",
     "output_type": "stream",
     "text": [
      "1475it [00:13, 111.69it/s]"
     ]
    },
    {
     "name": "stdout",
     "output_type": "stream",
     "text": [
      "150\n",
      "139\n",
      "131\n",
      "139\n"
     ]
    },
    {
     "name": "stderr",
     "output_type": "stream",
     "text": [
      "1501it [00:14, 114.52it/s]"
     ]
    },
    {
     "name": "stdout",
     "output_type": "stream",
     "text": [
      "139\n",
      "152\n",
      "128\n",
      "140\n",
      "135\n",
      "128\n"
     ]
    },
    {
     "name": "stderr",
     "output_type": "stream",
     "text": [
      "1558it [00:14, 131.30it/s]"
     ]
    },
    {
     "name": "stdout",
     "output_type": "stream",
     "text": [
      "131\n",
      "138\n",
      "134\n",
      "143\n",
      "150\n",
      "132\n",
      "137\n",
      "134\n",
      "153\n"
     ]
    },
    {
     "name": "stderr",
     "output_type": "stream",
     "text": [
      "1586it [00:14, 129.54it/s]"
     ]
    },
    {
     "name": "stdout",
     "output_type": "stream",
     "text": [
      "129\n",
      "128\n",
      "132\n",
      "129\n"
     ]
    },
    {
     "name": "stderr",
     "output_type": "stream",
     "text": [
      "1631it [00:14, 135.33it/s]"
     ]
    },
    {
     "name": "stdout",
     "output_type": "stream",
     "text": [
      "130\n",
      "130\n",
      "133\n",
      "136\n",
      "130\n",
      "130\n"
     ]
    },
    {
     "name": "stderr",
     "output_type": "stream",
     "text": [
      "1660it [00:15, 137.59it/s]"
     ]
    },
    {
     "name": "stdout",
     "output_type": "stream",
     "text": [
      "129\n",
      "133\n",
      "134\n",
      "135\n",
      "133\n"
     ]
    },
    {
     "name": "stderr",
     "output_type": "stream",
     "text": [
      "1691it [00:15, 136.38it/s]"
     ]
    },
    {
     "name": "stdout",
     "output_type": "stream",
     "text": [
      "139\n",
      "137\n",
      "179\n",
      "176\n",
      "144\n"
     ]
    },
    {
     "name": "stderr",
     "output_type": "stream",
     "text": [
      "1736it [00:15, 132.96it/s]"
     ]
    },
    {
     "name": "stdout",
     "output_type": "stream",
     "text": [
      "138\n",
      "135\n",
      "141\n",
      "142\n",
      "133\n",
      "154\n"
     ]
    },
    {
     "name": "stderr",
     "output_type": "stream",
     "text": [
      "1763it [00:15, 122.41it/s]"
     ]
    },
    {
     "name": "stdout",
     "output_type": "stream",
     "text": [
      "135\n",
      "137\n",
      "128\n",
      "133\n"
     ]
    },
    {
     "name": "stderr",
     "output_type": "stream",
     "text": [
      "1789it [00:16, 117.55it/s]"
     ]
    },
    {
     "name": "stdout",
     "output_type": "stream",
     "text": [
      "140\n",
      "128\n",
      "169\n",
      "130\n",
      "133\n"
     ]
    },
    {
     "name": "stderr",
     "output_type": "stream",
     "text": [
      "1839it [00:16, 115.42it/s]"
     ]
    },
    {
     "name": "stdout",
     "output_type": "stream",
     "text": [
      "157\n",
      "148\n",
      "162\n"
     ]
    },
    {
     "name": "stderr",
     "output_type": "stream",
     "text": [
      "1854it [00:16, 124.70it/s]"
     ]
    },
    {
     "name": "stdout",
     "output_type": "stream",
     "text": [
      "137\n",
      "132\n"
     ]
    },
    {
     "name": "stderr",
     "output_type": "stream",
     "text": [
      "1891it [00:17, 98.73it/s] "
     ]
    },
    {
     "name": "stdout",
     "output_type": "stream",
     "text": [
      "145\n",
      "131\n",
      "131\n",
      "139\n",
      "141\n",
      "134\n"
     ]
    },
    {
     "name": "stderr",
     "output_type": "stream",
     "text": [
      "1916it [00:17, 109.24it/s]"
     ]
    },
    {
     "name": "stdout",
     "output_type": "stream",
     "text": [
      "136\n",
      "128\n",
      "136\n"
     ]
    },
    {
     "name": "stderr",
     "output_type": "stream",
     "text": [
      "1977it [00:17, 106.06it/s]"
     ]
    },
    {
     "name": "stdout",
     "output_type": "stream",
     "text": [
      "130\n",
      "135\n",
      "128\n",
      "131\n",
      "179\n",
      "134\n"
     ]
    },
    {
     "name": "stderr",
     "output_type": "stream",
     "text": [
      "1999it [00:18, 103.35it/s]"
     ]
    },
    {
     "name": "stdout",
     "output_type": "stream",
     "text": [
      "130\n",
      "161\n",
      "151\n",
      "134\n",
      "128\n",
      "135\n"
     ]
    },
    {
     "name": "stderr",
     "output_type": "stream",
     "text": [
      "2055it [00:18, 127.36it/s]"
     ]
    },
    {
     "name": "stdout",
     "output_type": "stream",
     "text": [
      "140\n",
      "136\n",
      "138\n"
     ]
    },
    {
     "name": "stderr",
     "output_type": "stream",
     "text": [
      "2104it [00:19, 95.67it/s] "
     ]
    },
    {
     "name": "stdout",
     "output_type": "stream",
     "text": [
      "140\n",
      "132\n",
      "129\n",
      "134\n",
      "131\n"
     ]
    },
    {
     "name": "stderr",
     "output_type": "stream",
     "text": [
      "2131it [00:19, 110.23it/s]"
     ]
    },
    {
     "name": "stdout",
     "output_type": "stream",
     "text": [
      "144\n",
      "136\n",
      "157\n",
      "135\n",
      "132\n"
     ]
    },
    {
     "name": "stderr",
     "output_type": "stream",
     "text": [
      "2186it [00:19, 123.14it/s]"
     ]
    },
    {
     "name": "stdout",
     "output_type": "stream",
     "text": [
      "143\n",
      "137\n",
      "136\n",
      "137\n",
      "128\n",
      "139\n"
     ]
    },
    {
     "name": "stderr",
     "output_type": "stream",
     "text": [
      "2230it [00:20, 137.07it/s]"
     ]
    },
    {
     "name": "stdout",
     "output_type": "stream",
     "text": [
      "134\n",
      "137\n",
      "133\n",
      "129\n"
     ]
    },
    {
     "name": "stderr",
     "output_type": "stream",
     "text": [
      "2286it [00:20, 137.65it/s]"
     ]
    },
    {
     "name": "stdout",
     "output_type": "stream",
     "text": [
      "138\n",
      "141\n",
      "150\n",
      "131\n",
      "131\n",
      "137\n",
      "129\n",
      "149\n",
      "131\n",
      "130\n"
     ]
    },
    {
     "name": "stderr",
     "output_type": "stream",
     "text": [
      "2317it [00:20, 141.85it/s]"
     ]
    },
    {
     "name": "stdout",
     "output_type": "stream",
     "text": [
      "128\n",
      "130\n",
      "128\n",
      "141\n",
      "151\n",
      "144\n",
      "137\n"
     ]
    },
    {
     "name": "stderr",
     "output_type": "stream",
     "text": [
      "2362it [00:21, 138.34it/s]"
     ]
    },
    {
     "name": "stdout",
     "output_type": "stream",
     "text": [
      "133\n",
      "136\n"
     ]
    },
    {
     "name": "stderr",
     "output_type": "stream",
     "text": [
      "2409it [00:21, 148.37it/s]"
     ]
    },
    {
     "name": "stdout",
     "output_type": "stream",
     "text": [
      "137\n",
      "129\n",
      "129\n"
     ]
    },
    {
     "name": "stderr",
     "output_type": "stream",
     "text": [
      "2439it [00:21, 139.56it/s]"
     ]
    },
    {
     "name": "stdout",
     "output_type": "stream",
     "text": [
      "128\n",
      "135\n",
      "134\n",
      "137\n",
      "133\n"
     ]
    },
    {
     "name": "stderr",
     "output_type": "stream",
     "text": [
      "2468it [00:21, 130.77it/s]"
     ]
    },
    {
     "name": "stdout",
     "output_type": "stream",
     "text": [
      "128\n",
      "132\n",
      "152\n",
      "136\n",
      "134\n"
     ]
    },
    {
     "name": "stderr",
     "output_type": "stream",
     "text": [
      "2507it [00:22, 112.92it/s]"
     ]
    },
    {
     "name": "stdout",
     "output_type": "stream",
     "text": [
      "138\n",
      "134\n"
     ]
    },
    {
     "name": "stderr",
     "output_type": "stream",
     "text": [
      "2531it [00:22, 111.62it/s]"
     ]
    },
    {
     "name": "stdout",
     "output_type": "stream",
     "text": [
      "128\n",
      "134\n",
      "147\n"
     ]
    },
    {
     "name": "stderr",
     "output_type": "stream",
     "text": [
      "2568it [00:22, 109.89it/s]"
     ]
    },
    {
     "name": "stdout",
     "output_type": "stream",
     "text": [
      "128\n",
      "150\n",
      "132\n",
      "159\n",
      "130\n",
      "146\n",
      "139\n",
      "128\n",
      "128\n"
     ]
    },
    {
     "name": "stderr",
     "output_type": "stream",
     "text": [
      "2608it [00:23, 124.43it/s]"
     ]
    },
    {
     "name": "stdout",
     "output_type": "stream",
     "text": [
      "145\n",
      "144\n",
      "141\n",
      "131\n",
      "135\n",
      "160\n"
     ]
    },
    {
     "name": "stderr",
     "output_type": "stream",
     "text": [
      "2621it [00:23, 115.69it/s]"
     ]
    },
    {
     "name": "stdout",
     "output_type": "stream",
     "text": [
      "166\n",
      "132\n",
      "129\n"
     ]
    },
    {
     "name": "stderr",
     "output_type": "stream",
     "text": [
      "2654it [00:23, 93.26it/s] "
     ]
    },
    {
     "name": "stdout",
     "output_type": "stream",
     "text": [
      "135\n",
      "131\n",
      "132\n",
      "134\n",
      "147\n",
      "152\n",
      "134\n"
     ]
    },
    {
     "name": "stderr",
     "output_type": "stream",
     "text": [
      "2695it [00:23, 113.99it/s]"
     ]
    },
    {
     "name": "stdout",
     "output_type": "stream",
     "text": [
      "131\n",
      "160\n",
      "170\n",
      "140\n"
     ]
    },
    {
     "name": "stderr",
     "output_type": "stream",
     "text": [
      "2735it [00:24, 121.13it/s]"
     ]
    },
    {
     "name": "stdout",
     "output_type": "stream",
     "text": [
      "129\n",
      "133\n",
      "128\n",
      "133\n",
      "131\n",
      "136\n",
      "130\n",
      "143\n",
      "138\n"
     ]
    },
    {
     "name": "stderr",
     "output_type": "stream",
     "text": [
      "2778it [00:24, 131.86it/s]"
     ]
    },
    {
     "name": "stdout",
     "output_type": "stream",
     "text": [
      "133\n"
     ]
    },
    {
     "name": "stderr",
     "output_type": "stream",
     "text": [
      "2806it [00:24, 129.16it/s]"
     ]
    },
    {
     "name": "stdout",
     "output_type": "stream",
     "text": [
      "187\n",
      "130\n",
      "129\n",
      "135\n",
      "143\n",
      "129\n"
     ]
    },
    {
     "name": "stderr",
     "output_type": "stream",
     "text": [
      "2847it [00:25, 130.74it/s]"
     ]
    },
    {
     "name": "stdout",
     "output_type": "stream",
     "text": [
      "129\n",
      "129\n",
      "144\n",
      "133\n",
      "144\n",
      "146\n"
     ]
    },
    {
     "name": "stderr",
     "output_type": "stream",
     "text": [
      "2907it [00:25, 137.44it/s]"
     ]
    },
    {
     "name": "stdout",
     "output_type": "stream",
     "text": [
      "130\n",
      "135\n",
      "133\n"
     ]
    },
    {
     "name": "stderr",
     "output_type": "stream",
     "text": [
      "2965it [00:25, 136.42it/s]"
     ]
    },
    {
     "name": "stdout",
     "output_type": "stream",
     "text": [
      "141\n",
      "140\n",
      "143\n",
      "128\n",
      "134\n"
     ]
    },
    {
     "name": "stderr",
     "output_type": "stream",
     "text": [
      "3006it [00:26, 117.22it/s]"
     ]
    },
    {
     "name": "stdout",
     "output_type": "stream",
     "text": [
      "141\n",
      "157\n",
      "143\n",
      "143\n",
      "128\n",
      "132\n"
     ]
    },
    {
     "name": "stderr",
     "output_type": "stream",
     "text": [
      "3051it [00:26, 127.26it/s]"
     ]
    },
    {
     "name": "stdout",
     "output_type": "stream",
     "text": [
      "132\n",
      "134\n",
      "128\n",
      "133\n",
      "139\n",
      "140\n"
     ]
    },
    {
     "name": "stderr",
     "output_type": "stream",
     "text": [
      "3077it [00:26, 118.38it/s]"
     ]
    },
    {
     "name": "stdout",
     "output_type": "stream",
     "text": [
      "133\n",
      "133\n",
      "143\n",
      "133\n",
      "134\n",
      "130\n"
     ]
    },
    {
     "name": "stderr",
     "output_type": "stream",
     "text": [
      "3128it [00:27, 117.16it/s]"
     ]
    },
    {
     "name": "stdout",
     "output_type": "stream",
     "text": [
      "128\n",
      "133\n"
     ]
    },
    {
     "name": "stderr",
     "output_type": "stream",
     "text": [
      "3141it [00:27, 119.51it/s]"
     ]
    },
    {
     "name": "stdout",
     "output_type": "stream",
     "text": [
      "137\n",
      "134\n"
     ]
    },
    {
     "name": "stderr",
     "output_type": "stream",
     "text": [
      "3194it [00:27, 117.86it/s]"
     ]
    },
    {
     "name": "stdout",
     "output_type": "stream",
     "text": [
      "130\n",
      "137\n"
     ]
    },
    {
     "name": "stderr",
     "output_type": "stream",
     "text": [
      "3224it [00:28, 126.22it/s]"
     ]
    },
    {
     "name": "stdout",
     "output_type": "stream",
     "text": [
      "129\n",
      "131\n",
      "129\n",
      "135\n",
      "144\n",
      "128\n"
     ]
    },
    {
     "name": "stderr",
     "output_type": "stream",
     "text": [
      "3266it [00:28, 134.04it/s]"
     ]
    },
    {
     "name": "stdout",
     "output_type": "stream",
     "text": [
      "144\n",
      "134\n",
      "128\n",
      "140\n",
      "152\n"
     ]
    },
    {
     "name": "stderr",
     "output_type": "stream",
     "text": [
      "3295it [00:28, 132.63it/s]"
     ]
    },
    {
     "name": "stdout",
     "output_type": "stream",
     "text": [
      "131\n",
      "140\n",
      "139\n",
      "142\n",
      "135\n",
      "142\n"
     ]
    },
    {
     "name": "stderr",
     "output_type": "stream",
     "text": [
      "3326it [00:28, 140.70it/s]"
     ]
    },
    {
     "name": "stdout",
     "output_type": "stream",
     "text": [
      "128\n"
     ]
    },
    {
     "name": "stderr",
     "output_type": "stream",
     "text": [
      "3371it [00:29, 142.12it/s]"
     ]
    },
    {
     "name": "stdout",
     "output_type": "stream",
     "text": [
      "128\n",
      "128\n",
      "133\n"
     ]
    },
    {
     "name": "stderr",
     "output_type": "stream",
     "text": [
      "3401it [00:29, 135.40it/s]"
     ]
    },
    {
     "name": "stdout",
     "output_type": "stream",
     "text": [
      "130\n",
      "137\n",
      "132\n",
      "130\n",
      "128\n",
      "128\n"
     ]
    },
    {
     "name": "stderr",
     "output_type": "stream",
     "text": [
      "3432it [00:29, 143.40it/s]"
     ]
    },
    {
     "name": "stdout",
     "output_type": "stream",
     "text": [
      "131\n",
      "130\n"
     ]
    },
    {
     "name": "stderr",
     "output_type": "stream",
     "text": [
      "3480it [00:29, 149.76it/s]"
     ]
    },
    {
     "name": "stdout",
     "output_type": "stream",
     "text": [
      "129\n",
      "150\n",
      "150\n",
      "147\n",
      "137\n",
      "133\n",
      "128\n"
     ]
    },
    {
     "name": "stderr",
     "output_type": "stream",
     "text": [
      "3525it [00:30, 137.71it/s]"
     ]
    },
    {
     "name": "stdout",
     "output_type": "stream",
     "text": [
      "128\n",
      "153\n",
      "132\n",
      "132\n"
     ]
    },
    {
     "name": "stderr",
     "output_type": "stream",
     "text": [
      "3568it [00:30, 138.75it/s]"
     ]
    },
    {
     "name": "stdout",
     "output_type": "stream",
     "text": [
      "128\n",
      "133\n"
     ]
    },
    {
     "name": "stderr",
     "output_type": "stream",
     "text": [
      "3599it [00:30, 144.82it/s]"
     ]
    },
    {
     "name": "stdout",
     "output_type": "stream",
     "text": [
      "132\n",
      "136\n",
      "133\n",
      "148\n",
      "129\n",
      "138\n"
     ]
    },
    {
     "name": "stderr",
     "output_type": "stream",
     "text": [
      "3644it [00:31, 139.48it/s]"
     ]
    },
    {
     "name": "stdout",
     "output_type": "stream",
     "text": [
      "153\n",
      "147\n",
      "135\n",
      "138\n",
      "131\n"
     ]
    },
    {
     "name": "stderr",
     "output_type": "stream",
     "text": [
      "3689it [00:31, 117.84it/s]"
     ]
    },
    {
     "name": "stdout",
     "output_type": "stream",
     "text": [
      "129\n",
      "136\n",
      "158\n",
      "138\n",
      "139\n",
      "173\n",
      "166\n"
     ]
    },
    {
     "name": "stderr",
     "output_type": "stream",
     "text": [
      "3731it [00:31, 128.89it/s]"
     ]
    },
    {
     "name": "stdout",
     "output_type": "stream",
     "text": [
      "128\n",
      "138\n",
      "129\n",
      "143\n"
     ]
    },
    {
     "name": "stderr",
     "output_type": "stream",
     "text": [
      "3774it [00:32, 136.54it/s]"
     ]
    },
    {
     "name": "stdout",
     "output_type": "stream",
     "text": [
      "140\n",
      "133\n",
      "138\n",
      "135\n",
      "138\n",
      "142\n"
     ]
    },
    {
     "name": "stderr",
     "output_type": "stream",
     "text": [
      "3816it [00:32, 131.58it/s]"
     ]
    },
    {
     "name": "stdout",
     "output_type": "stream",
     "text": [
      "138\n",
      "146\n",
      "137\n"
     ]
    },
    {
     "name": "stderr",
     "output_type": "stream",
     "text": [
      "3863it [00:32, 139.09it/s]"
     ]
    },
    {
     "name": "stdout",
     "output_type": "stream",
     "text": [
      "130\n",
      "141\n",
      "133\n",
      "144\n",
      "130\n"
     ]
    },
    {
     "name": "stderr",
     "output_type": "stream",
     "text": [
      "3909it [00:33, 145.63it/s]"
     ]
    },
    {
     "name": "stdout",
     "output_type": "stream",
     "text": [
      "142\n"
     ]
    },
    {
     "name": "stderr",
     "output_type": "stream",
     "text": [
      "3957it [00:33, 141.37it/s]"
     ]
    },
    {
     "name": "stdout",
     "output_type": "stream",
     "text": [
      "128\n",
      "146\n"
     ]
    },
    {
     "name": "stderr",
     "output_type": "stream",
     "text": [
      "4000it [00:33, 135.99it/s]"
     ]
    },
    {
     "name": "stdout",
     "output_type": "stream",
     "text": [
      "157\n",
      "129\n"
     ]
    },
    {
     "name": "stderr",
     "output_type": "stream",
     "text": [
      "4031it [00:34, 143.12it/s]"
     ]
    },
    {
     "name": "stdout",
     "output_type": "stream",
     "text": [
      "130\n",
      "133\n",
      "163\n",
      "139\n"
     ]
    },
    {
     "name": "stderr",
     "output_type": "stream",
     "text": [
      "4061it [00:34, 139.99it/s]"
     ]
    },
    {
     "name": "stdout",
     "output_type": "stream",
     "text": [
      "134\n",
      "131\n",
      "136\n",
      "134\n",
      "164\n",
      "138\n"
     ]
    },
    {
     "name": "stderr",
     "output_type": "stream",
     "text": [
      "4090it [00:34, 127.84it/s]"
     ]
    },
    {
     "name": "stdout",
     "output_type": "stream",
     "text": [
      "128\n",
      "150\n",
      "135\n"
     ]
    },
    {
     "name": "stderr",
     "output_type": "stream",
     "text": [
      "4125it [00:34, 118.50it/s]"
     ]
    },
    {
     "name": "stdout",
     "output_type": "stream",
     "text": [
      "132\n",
      "132\n",
      "152\n",
      "135\n",
      "129\n"
     ]
    },
    {
     "name": "stderr",
     "output_type": "stream",
     "text": [
      "\n"
     ]
    }
   ],
   "source": [
    "for batch in tqdm(batch_sentences(df, 3000)):\n",
    "    if len(batch) > 127:\n",
    "        print(len(batch))"
   ]
  }
 ],
 "metadata": {
  "kernelspec": {
   "display_name": ".venv",
   "language": "python",
   "name": "python3"
  },
  "language_info": {
   "codemirror_mode": {
    "name": "ipython",
    "version": 3
   },
   "file_extension": ".py",
   "mimetype": "text/x-python",
   "name": "python",
   "nbconvert_exporter": "python",
   "pygments_lexer": "ipython3",
   "version": "3.8.10"
  }
 },
 "nbformat": 4,
 "nbformat_minor": 2
}
