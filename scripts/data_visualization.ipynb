{
 "cells": [
  {
   "cell_type": "code",
   "execution_count": 1,
   "metadata": {},
   "outputs": [],
   "source": [
    "from db_connect import db_get_df\n",
    "from segment_ranking.rank_segments import get_most_similar_documents\n",
    "from Audio_segmentation.split_audio import produce_snippets\n",
    "from Audio_segmentation.concat_audio import produce_audio\n",
    "from transformers import BertModel, BertTokenizer"
   ]
  },
  {
   "cell_type": "code",
   "execution_count": 3,
   "metadata": {},
   "outputs": [
    {
     "data": {
      "text/plain": [
       "filename           object\n",
       "segment_text       object\n",
       "start             float64\n",
       "end               float64\n",
       "segment_id          int64\n",
       "embedding_json     object\n",
       "dtype: object"
      ]
     },
     "execution_count": 3,
     "metadata": {},
     "output_type": "execute_result"
    }
   ],
   "source": [
    "df = db_get_df(table=\"transcript_segments\")\n",
    "df.dtypes"
   ]
  },
  {
   "cell_type": "markdown",
   "metadata": {},
   "source": [
    "Wir verwenden hier das Deutsche model, um die deutschen Transkripte optimal zu encodieren."
   ]
  },
  {
   "cell_type": "code",
   "execution_count": 4,
   "metadata": {},
   "outputs": [],
   "source": [
    "tokenizer = BertTokenizer.from_pretrained('bert-base-german-cased')\n",
    "model = BertModel.from_pretrained('bert-base-german-cased', output_hidden_states = True)"
   ]
  },
  {
   "cell_type": "code",
   "execution_count": 5,
   "metadata": {},
   "outputs": [],
   "source": [
    "df[\"tokens\"] = [tokenizer.tokenize(text) for text in df[\"segment_text\"]]"
   ]
  },
  {
   "cell_type": "code",
   "execution_count": 7,
   "metadata": {},
   "outputs": [
    {
     "name": "stdout",
     "output_type": "stream",
     "text": [
      "|      | tokens                                                                                                                                                                    |\n",
      "|-----:|:--------------------------------------------------------------------------------------------------------------------------------------------------------------------------|\n",
      "| 1538 | ['unver', '##brü', '##ch', '##liche', 'Treue', '.', 'Die', 'Natur', 'hat', 'alles', 'im', 'Angebot', '.', 'Und', 'der', 'Mensch', '?', 'Zumindest', 'nimmt', 'er', 'für'] |\n",
      "| 1058 | ['über', 'mehrere', 'Jahre', 'insgesamt', 'acht', 'Gebäude', 'frei', ',', 'in', 'denen', 'sie', 'Reste', 'einer', 'Schm', '##iede', ',', 'einer', 'Feuer', '##stelle']    |\n"
     ]
    }
   ],
   "source": [
    "print(df[\"tokens\"].sample(2).to_markdown())"
   ]
  }
 ],
 "metadata": {
  "kernelspec": {
   "display_name": "Python 3",
   "language": "python",
   "name": "python3"
  },
  "language_info": {
   "codemirror_mode": {
    "name": "ipython",
    "version": 3
   },
   "file_extension": ".py",
   "mimetype": "text/x-python",
   "name": "python",
   "nbconvert_exporter": "python",
   "pygments_lexer": "ipython3",
   "version": "3.11.5"
  }
 },
 "nbformat": 4,
 "nbformat_minor": 2
}
