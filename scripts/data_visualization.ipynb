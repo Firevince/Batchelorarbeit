{
 "cells": [
  {
   "cell_type": "markdown",
   "metadata": {},
   "source": [
    "# Data Visualization"
   ]
  },
  {
   "cell_type": "markdown",
   "metadata": {},
   "source": [
    "### imports"
   ]
  },
  {
   "cell_type": "code",
   "execution_count": null,
   "metadata": {},
   "outputs": [],
   "source": [
    "from Audio_segmentation.concat_audio import produce_audio\n",
    "from Audio_segmentation.split_audio import produce_snippets\n",
    "from db_connect import db_get_df\n",
    "from dotenv import load_dotenv\n",
    "import matplotlib.pyplot as plt\n",
    "import mutagen.mp3\n",
    "import os\n",
    "from transformers import BertModel, BertTokenizer\n",
    "from tqdm import tqdm\n",
    "\n",
    "load_dotenv()\n",
    "audiofile_path = os.getenv(\"AUDIOFILE_PATH\")"
   ]
  },
  {
   "cell_type": "code",
   "execution_count": null,
   "metadata": {},
   "outputs": [],
   "source": [
    "df = db_get_df(table=\"transcripts_all\")\n",
    "print(len(df))\n",
    "print(df.dtypes)"
   ]
  },
  {
   "cell_type": "markdown",
   "metadata": {},
   "source": [
    "Wir verwenden hier das Deutsche model, um die deutschen Transkripte optimal zu encodieren."
   ]
  },
  {
   "cell_type": "markdown",
   "metadata": {},
   "source": [
    "### Audio file length"
   ]
  },
  {
   "cell_type": "code",
   "execution_count": null,
   "metadata": {},
   "outputs": [],
   "source": [
    "def get_mp3_lengths(directory):\n",
    "    mp3_lengths = []\n",
    "    for root, _, files in os.walk(directory):\n",
    "        for file in files:\n",
    "            if file.endswith(\".mp3\"):\n",
    "                try:\n",
    "                    file_path = os.path.join(root, file)\n",
    "                    audio = mutagen.mp3.MP3(file_path)\n",
    "                    mp3_lengths.append(audio.info.length)\n",
    "                except:\n",
    "                    print(f\"file {file} corrupted\")\n",
    "    return mp3_lengths\n",
    "\n",
    "def plot_mp3_lengths(mp3_lengths):\n",
    "    plt.hist(mp3_lengths, bins=100, color='cornflowerblue', edgecolor='black')\n",
    "    plt.xlabel('MP3 Länge (Sekungen)')\n",
    "    plt.ylabel('Anzahl MP3 Datein')\n",
    "    plt.title('Länge der MP3 Datein')\n",
    "    plt.show()"
   ]
  },
  {
   "cell_type": "code",
   "execution_count": null,
   "metadata": {},
   "outputs": [],
   "source": [
    "mp3_directory = audiofile_path\n",
    "mp3_lengths = get_mp3_lengths(mp3_directory)\n",
    "plot_mp3_lengths(mp3_lengths)\n"
   ]
  },
  {
   "cell_type": "markdown",
   "metadata": {},
   "source": [
    "### Transcript length"
   ]
  },
  {
   "cell_type": "code",
   "execution_count": null,
   "metadata": {},
   "outputs": [],
   "source": [
    "df = db_get_df(table=\"transcript_word_level_2237\")"
   ]
  },
  {
   "cell_type": "code",
   "execution_count": null,
   "metadata": {},
   "outputs": [],
   "source": [
    "filtered_df = df[df['filename'] == 'erich-fried-der-politische-lyriker.mp3']\n",
    "filtered_df"
   ]
  },
  {
   "cell_type": "code",
   "execution_count": null,
   "metadata": {},
   "outputs": [],
   "source": [
    "def plot_transcript_lengths(transcript_lengths):\n",
    "    ax = plt.gca()\n",
    "    ax.set_xlim([1500, 4000])\n",
    "    plt.hist(transcript_lengths, bins=100, color='cornflowerblue', edgecolor='black')\n",
    "    plt.xlabel('Transkript Länge (Wörter)')\n",
    "    plt.ylabel('Anzahl  Transkripte')\n",
    "    plt.title('Länge der Trankripte')\n",
    "    plt.show()"
   ]
  },
  {
   "cell_type": "code",
   "execution_count": null,
   "metadata": {},
   "outputs": [],
   "source": [
    "lengths = []\n",
    "filenames = df[\"filename\"].drop_duplicates(ignore_index=True)\n",
    "for filename in tqdm(filenames):\n",
    "    word_entries = df[df['filename'] == filename]\n",
    "    lengths.append(len(word_entries))"
   ]
  },
  {
   "cell_type": "code",
   "execution_count": null,
   "metadata": {},
   "outputs": [],
   "source": [
    "plot_transcript_lengths(lengths)"
   ]
  },
  {
   "cell_type": "markdown",
   "metadata": {},
   "source": [
    "### Länge der Sätze"
   ]
  },
  {
   "cell_type": "code",
   "execution_count": null,
   "metadata": {},
   "outputs": [],
   "source": [
    "df = db_get_df(table=\"transcript_sentences\")"
   ]
  },
  {
   "cell_type": "code",
   "execution_count": null,
   "metadata": {},
   "outputs": [],
   "source": [
    "def plot_sentence_lengths(sentence_lengths):\n",
    "    plt.hist(sentence_lengths, bins=100, color='cornflowerblue', edgecolor='black')\n",
    "    plt.xlabel('Sätze Länge (Wörter)')\n",
    "    plt.ylabel('Anzahl  Sätze')\n",
    "    plt.title('Länge der Sätze')\n",
    "    plt.show()"
   ]
  },
  {
   "cell_type": "code",
   "execution_count": null,
   "metadata": {},
   "outputs": [],
   "source": [
    "df[\"sentence_lenght\"] = df[\"sentence\"].apply(len)\n",
    "df = df.sort_values(by=\"sentence_lenght\")"
   ]
  },
  {
   "cell_type": "code",
   "execution_count": null,
   "metadata": {},
   "outputs": [],
   "source": [
    "df.iloc[-1][\"sentence\"]"
   ]
  },
  {
   "cell_type": "code",
   "execution_count": null,
   "metadata": {},
   "outputs": [],
   "source": [
    "df[df[\"sentence_lenght\"] > 2000]"
   ]
  },
  {
   "cell_type": "markdown",
   "metadata": {},
   "source": [
    "Logarithmische Normalverteilung"
   ]
  },
  {
   "cell_type": "code",
   "execution_count": null,
   "metadata": {},
   "outputs": [],
   "source": [
    "plot_sentence_lengths(df[df[\"sentence_lenght\"] < 500][\"sentence_lenght\"])"
   ]
  }
 ],
 "metadata": {
  "kernelspec": {
   "display_name": "Python 3",
   "language": "python",
   "name": "python3"
  },
  "language_info": {
   "codemirror_mode": {
    "name": "ipython",
    "version": 3
   },
   "file_extension": ".py",
   "mimetype": "text/x-python",
   "name": "python",
   "nbconvert_exporter": "python",
   "pygments_lexer": "ipython3",
   "version": "3.8.10"
  }
 },
 "nbformat": 4,
 "nbformat_minor": 2
}
