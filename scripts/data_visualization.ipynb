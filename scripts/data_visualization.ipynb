{
 "cells": [
  {
   "cell_type": "markdown",
   "metadata": {},
   "source": [
    "# Data Visualization"
   ]
  },
  {
   "cell_type": "markdown",
   "metadata": {},
   "source": [
    "### imports"
   ]
  },
  {
   "cell_type": "code",
   "execution_count": 9,
   "metadata": {},
   "outputs": [],
   "source": [
    "from audio_segmentation.concat_audio import produce_final_audio\n",
    "from audio_segmentation.split_audio import produce_audio_snippets\n",
    "from db_connect import db_get_df\n",
    "from dotenv import load_dotenv\n",
    "import matplotlib.pyplot as plt\n",
    "import mutagen.mp3\n",
    "import os\n",
    "from tqdm import tqdm\n",
    "\n",
    "load_dotenv()\n",
    "audiofile_path = os.getenv(\"AUDIO_SOURCE_PATH\")"
   ]
  },
  {
   "cell_type": "code",
   "execution_count": null,
   "metadata": {},
   "outputs": [],
   "source": [
    "df = db_get_df(table=\"transcripts_all\")\n",
    "print(len(df))\n",
    "print(df.dtypes)"
   ]
  },
  {
   "cell_type": "markdown",
   "metadata": {},
   "source": [
    "Wir verwenden hier das Deutsche model, um die deutschen Transkripte optimal zu encodieren."
   ]
  },
  {
   "cell_type": "markdown",
   "metadata": {},
   "source": [
    "### Audio file length"
   ]
  },
  {
   "cell_type": "code",
   "execution_count": 2,
   "metadata": {},
   "outputs": [],
   "source": [
    "def get_mp3_lengths(directory):\n",
    "    mp3_lengths = []\n",
    "    for root, _, files in os.walk(directory):\n",
    "        for file in files:\n",
    "            if file.endswith(\".mp3\"):\n",
    "                try:\n",
    "                    file_path = os.path.join(root, file)\n",
    "                    audio = mutagen.mp3.MP3(file_path)\n",
    "                    mp3_lengths.append(audio.info.length)\n",
    "                except:\n",
    "                    print(f\"file {file} corrupted\")\n",
    "    return mp3_lengths\n",
    "\n",
    "def plot_mp3_lengths(mp3_lengths):\n",
    "    plt.hist(mp3_lengths, bins=100, color='cornflowerblue', edgecolor='black')\n",
    "    plt.xlabel('MP3 Länge (Sekungen)')\n",
    "    plt.ylabel('Anzahl MP3 Datein')\n",
    "    plt.title('Länge der MP3 Datein')\n",
    "    plt.show()"
   ]
  },
  {
   "cell_type": "code",
   "execution_count": 5,
   "metadata": {},
   "outputs": [
    {
     "data": {
      "image/png": "[encoded data removed]",
      "text/plain": [
       "<Figure size 640x480 with 1 Axes>"
      ]
     },
     "metadata": {},
     "output_type": "display_data"
    }
   ],
   "source": [
    "mp3_directory = audiofile_path\n",
    "mp3_lengths = get_mp3_lengths(mp3_directory)\n",
    "plot_mp3_lengths(mp3_lengths)\n"
   ]
  },
  {
   "cell_type": "markdown",
   "metadata": {},
   "source": [
    "### Transcript length"
   ]
  },
  {
   "cell_type": "code",
   "execution_count": 10,
   "metadata": {},
   "outputs": [],
   "source": [
    "df = db_get_df(table=\"transcript_word_level_2237\")"
   ]
  },
  {
   "cell_type": "code",
   "execution_count": 11,
   "metadata": {},
   "outputs": [
    {
     "data": {
      "text/plain": [
       "5429585"
      ]
     },
     "execution_count": 11,
     "metadata": {},
     "output_type": "execute_result"
    }
   ],
   "source": [
    "len(df)"
   ]
  },
  {
   "cell_type": "code",
   "execution_count": 14,
   "metadata": {},
   "outputs": [
    {
     "data": {
      "text/html": [
       "<div>\n",
       "<style scoped>\n",
       "    .dataframe tbody tr th:only-of-type {\n",
       "        vertical-align: middle;\n",
       "    }\n",
       "\n",
       "    .dataframe tbody tr th {\n",
       "        vertical-align: top;\n",
       "    }\n",
       "\n",
       "    .dataframe thead th {\n",
       "        text-align: right;\n",
       "    }\n",
       "</style>\n",
       "<table border=\"1\" class=\"dataframe\">\n",
       "  <thead>\n",
       "    <tr style=\"text-align: right;\">\n",
       "      <th></th>\n",
       "      <th>filename</th>\n",
       "      <th>index</th>\n",
       "      <th>word</th>\n",
       "      <th>start</th>\n",
       "      <th>end</th>\n",
       "    </tr>\n",
       "  </thead>\n",
       "  <tbody>\n",
       "    <tr>\n",
       "      <th>2124707</th>\n",
       "      <td>david-bowie-das-chamaeleon-des-pop.mp3</td>\n",
       "      <td>0.0</td>\n",
       "      <td>Radio</td>\n",
       "      <td>1.68</td>\n",
       "      <td>2.40</td>\n",
       "    </tr>\n",
       "    <tr>\n",
       "      <th>2124708</th>\n",
       "      <td>david-bowie-das-chamaeleon-des-pop.mp3</td>\n",
       "      <td>1.0</td>\n",
       "      <td>Wissen.</td>\n",
       "      <td>2.40</td>\n",
       "      <td>2.82</td>\n",
       "    </tr>\n",
       "    <tr>\n",
       "      <th>2124709</th>\n",
       "      <td>david-bowie-das-chamaeleon-des-pop.mp3</td>\n",
       "      <td>2.0</td>\n",
       "      <td>Die</td>\n",
       "      <td>3.78</td>\n",
       "      <td>3.78</td>\n",
       "    </tr>\n",
       "    <tr>\n",
       "      <th>2124710</th>\n",
       "      <td>david-bowie-das-chamaeleon-des-pop.mp3</td>\n",
       "      <td>3.0</td>\n",
       "      <td>ganze</td>\n",
       "      <td>3.78</td>\n",
       "      <td>4.22</td>\n",
       "    </tr>\n",
       "    <tr>\n",
       "      <th>2124711</th>\n",
       "      <td>david-bowie-das-chamaeleon-des-pop.mp3</td>\n",
       "      <td>4.0</td>\n",
       "      <td>Welt</td>\n",
       "      <td>4.22</td>\n",
       "      <td>4.60</td>\n",
       "    </tr>\n",
       "    <tr>\n",
       "      <th>...</th>\n",
       "      <td>...</td>\n",
       "      <td>...</td>\n",
       "      <td>...</td>\n",
       "      <td>...</td>\n",
       "      <td>...</td>\n",
       "    </tr>\n",
       "    <tr>\n",
       "      <th>2127182</th>\n",
       "      <td>david-bowie-das-chamaeleon-des-pop.mp3</td>\n",
       "      <td>2.0</td>\n",
       "      <td>höchstwahrscheinlich.</td>\n",
       "      <td>1389.20</td>\n",
       "      <td>1390.12</td>\n",
       "    </tr>\n",
       "    <tr>\n",
       "      <th>2127183</th>\n",
       "      <td>david-bowie-das-chamaeleon-des-pop.mp3</td>\n",
       "      <td>0.0</td>\n",
       "      <td>SWISS</td>\n",
       "      <td>1391.40</td>\n",
       "      <td>1417.96</td>\n",
       "    </tr>\n",
       "    <tr>\n",
       "      <th>2127184</th>\n",
       "      <td>david-bowie-das-chamaeleon-des-pop.mp3</td>\n",
       "      <td>1.0</td>\n",
       "      <td>TXT</td>\n",
       "      <td>1417.96</td>\n",
       "      <td>1417.96</td>\n",
       "    </tr>\n",
       "    <tr>\n",
       "      <th>2127185</th>\n",
       "      <td>david-bowie-das-chamaeleon-des-pop.mp3</td>\n",
       "      <td>2.0</td>\n",
       "      <td>AG,</td>\n",
       "      <td>1417.96</td>\n",
       "      <td>1417.96</td>\n",
       "    </tr>\n",
       "    <tr>\n",
       "      <th>2127186</th>\n",
       "      <td>david-bowie-das-chamaeleon-des-pop.mp3</td>\n",
       "      <td>3.0</td>\n",
       "      <td>2020</td>\n",
       "      <td>1417.96</td>\n",
       "      <td>1417.96</td>\n",
       "    </tr>\n",
       "  </tbody>\n",
       "</table>\n",
       "<p>2480 rows × 5 columns</p>\n",
       "</div>"
      ],
      "text/plain": [
       "                                       filename  index  \\\n",
       "2124707  david-bowie-das-chamaeleon-des-pop.mp3    0.0   \n",
       "2124708  david-bowie-das-chamaeleon-des-pop.mp3    1.0   \n",
       "2124709  david-bowie-das-chamaeleon-des-pop.mp3    2.0   \n",
       "2124710  david-bowie-das-chamaeleon-des-pop.mp3    3.0   \n",
       "2124711  david-bowie-das-chamaeleon-des-pop.mp3    4.0   \n",
       "...                                         ...    ...   \n",
       "2127182  david-bowie-das-chamaeleon-des-pop.mp3    2.0   \n",
       "2127183  david-bowie-das-chamaeleon-des-pop.mp3    0.0   \n",
       "2127184  david-bowie-das-chamaeleon-des-pop.mp3    1.0   \n",
       "2127185  david-bowie-das-chamaeleon-des-pop.mp3    2.0   \n",
       "2127186  david-bowie-das-chamaeleon-des-pop.mp3    3.0   \n",
       "\n",
       "                           word    start      end  \n",
       "2124707                   Radio     1.68     2.40  \n",
       "2124708                 Wissen.     2.40     2.82  \n",
       "2124709                     Die     3.78     3.78  \n",
       "2124710                   ganze     3.78     4.22  \n",
       "2124711                    Welt     4.22     4.60  \n",
       "...                         ...      ...      ...  \n",
       "2127182   höchstwahrscheinlich.  1389.20  1390.12  \n",
       "2127183                   SWISS  1391.40  1417.96  \n",
       "2127184                     TXT  1417.96  1417.96  \n",
       "2127185                     AG,  1417.96  1417.96  \n",
       "2127186                    2020  1417.96  1417.96  \n",
       "\n",
       "[2480 rows x 5 columns]"
      ]
     },
     "execution_count": 14,
     "metadata": {},
     "output_type": "execute_result"
    }
   ],
   "source": [
    "filtered_df = df[df['filename'] == 'david-bowie-das-chamaeleon-des-pop.mp3']\n",
    "filtered_df"
   ]
  },
  {
   "cell_type": "code",
   "execution_count": null,
   "metadata": {},
   "outputs": [],
   "source": [
    "def plot_transcript_lengths(transcript_lengths):\n",
    "    ax = plt.gca()\n",
    "    ax.set_xlim([1500, 4000])\n",
    "    plt.hist(transcript_lengths, bins=100, color='cornflowerblue', edgecolor='black')\n",
    "    plt.xlabel('Transkript Länge (Wörter)')\n",
    "    plt.ylabel('Anzahl  Transkripte')\n",
    "    plt.title('Länge der Trankripte')\n",
    "    plt.show()"
   ]
  },
  {
   "cell_type": "code",
   "execution_count": null,
   "metadata": {},
   "outputs": [],
   "source": [
    "lengths = []\n",
    "filenames = df[\"filename\"].drop_duplicates(ignore_index=True)\n",
    "for filename in tqdm(filenames):\n",
    "    word_entries = df[df['filename'] == filename]\n",
    "    lengths.append(len(word_entries))"
   ]
  },
  {
   "cell_type": "code",
   "execution_count": null,
   "metadata": {},
   "outputs": [],
   "source": [
    "plot_transcript_lengths(lengths)"
   ]
  },
  {
   "cell_type": "markdown",
   "metadata": {},
   "source": [
    "### Länge der Sätze"
   ]
  },
  {
   "cell_type": "code",
   "execution_count": 4,
   "metadata": {},
   "outputs": [],
   "source": [
    "df = db_get_df(table=\"transcript_sentences_spacy\")"
   ]
  },
  {
   "cell_type": "code",
   "execution_count": 5,
   "metadata": {},
   "outputs": [],
   "source": [
    "def plot_sentence_lengths(sentence_lengths):\n",
    "    plt.hist(sentence_lengths, bins=100, color='cornflowerblue', edgecolor='black')\n",
    "    plt.xlabel('Sätze Länge (Wörter)')\n",
    "    plt.ylabel('Anzahl  Sätze')\n",
    "    plt.title('Länge der Sätze')\n",
    "    plt.show()"
   ]
  },
  {
   "cell_type": "code",
   "execution_count": 6,
   "metadata": {},
   "outputs": [],
   "source": [
    "df[\"sentence_lenght\"] = df[\"sentence\"].apply(len)\n",
    "df = df.sort_values(by=\"sentence_lenght\")"
   ]
  },
  {
   "cell_type": "code",
   "execution_count": 7,
   "metadata": {},
   "outputs": [
    {
     "data": {
      "text/plain": [
       "'wir sind nicht das land mit der höchsten inzidenz da ist dänemark slowenien auch italien und frankreich liegen etwas vor uns wobei die zahlen seit 2001 hierzulande kontinuierlich gestiegen sind was unter anderem damit zu tun haben dürfte dass ärztinnen und ärzte heute fälle besser erkennen als früher einige forschende vermuten aber auch dass die alterung der bevölkerung eine rolle spielt ebenso die klimaerwärmung wahrscheinlich kommt die legionärskrankheit bei uns aber noch viel häufiger vor das ergeben jedenfalls hochrechnungen zu pneumonien also zu lungenentzündungen und da kommt man eigentlich dann für deutschland so auf zahlen von 15 bis 30 .000 das heißt das was wir im moment nachweisen ist wirklich nur die spitze des eisbergs allerdings spielte auch eine rolle dass keineswegs alle legionär lab nur wenn ihn hoch dramatisch verlaufen schätzungsweise zwischen zwei und vier prozent aller lungenentzündungen werden durch legionellen verursacht hinzukommen ebenfalls geschätzt jährlich mindestens 100 .000 erkrankungen mit pontiakfieber in deutschland im körper zeigen die bakterien dabei eine besonderheit das spezielle an der legioneller infektion ist dass die legionellen sich intracellulär in den letztlich abwehrzellen des menschen vermehren die zelle also quasi kapern und umsteuern was unter anderem die behandlung der legionärskrankheit mit erschwert dadurch dass bestimmte antibiotika nicht in die zellen hinein diffundieren und intracellulär keine konzentration erreichen die relevant sind braucht man antibiotika die ihre wirksamkeit in den zellen entfalten doch trotz solcher antibiotika verläuft die legionärskrankheit in fünf teilweise aber auch in mehr als zehn prozent der fälle tödlich deshalb ist es wichtig möglichst zu verhindern dass sich überhaupt jemand mit legionellen ansteckt jetzt sind wir in einem badezimmer vom hotel und da werden in dem moment die enden der steigleitung geprobt kerstin karpf ist unterwegs im hotel lichtblick in alling bei münchen ihr unternehmen aqua diagnostik prüft die warmwasseranlage des gebäudes nach der trinkwasserverordnung muss das in hotels und öffentlichen einrichtungen jährlich gemacht werden in mietshäusern mit drei und mehr wohnungen alle drei jahre kerstin karpf will wissen wie heiß ist das wasser das aus der leitung kommt und wie viele legionellen schwimmen darin herum da dreht man in dem moment den perlator raus lässt im moment kurzes wasser laufen zieht seine wasserprobe misst die temperatur nach lässt dann auch in dem moment länger laufen damit wir die max temperaturen haben und die sollten in dem moment schon bei 657 grad gehen also perlator rausgeschraubt doch bevor sie eine probe nimmt und die wassertemperatur misst greift sie erst einmal zum gasbrenner die hitze der flamme tötet alle bakterien rund um die öffnung damit diese nicht die wasserprobe kontaminieren anschließend lässt kerstin karpf heißes wasser laufen und hält eine kleine kunststoffflasche unter den haren dann prüft sie mit einem digital thermometer wie warm das wasser ist wir kommen hier auf 54 grad bei der ersten temperatur und nach ablauf auf 57 ,2 so wie das aus sein sollte die temperatur ist ein ganz entscheidender faktor wenn es um legionellen geht bei bis zu 45 grad celsius fühlen sie sich so richtig wohl erst jenseits von 50 grad wird es für sie schwierig sich zu vermehren erklärt die mikrobiologin karin telen und so gegen 55 grad hat man das dann erst erreicht dass die legionellen tatsächlich im wasser absterben das heißt ideal sind eigentlich boiler temperaturen von ja größer 60 grad weshalb die trinkwasserverordnung dies auch als mindestemperatur vorschreibt die das wasser am ausgang eines trinkwasser erwärmers haben muss bei ihren messungen in hotels und überprüft kerstin karpf das ebenfalls genauso wie die temperatur die das wasser am ende seiner runde durch das leitungssystem hat bevor es von der warmwasseranlage im keller wieder erhitzt wird der unterschied darf höchstens fünf grad betragen also das wasser was rausgeht muss minimum 60 grad haben und das wasser was wieder zurückkommt durch die zirkulation muss 55 grad entsprechen egal wie lang eine steigleitung ist umso weiter die strecke ist umso höher könnte mir denn der verlust entstehen und wenn ich jetzt in dem moment am trinkwasser erwärmer nur 58 grad habe denn kann es mir passieren dass ich in der wohnung nur auf 55 grad komme und in der zirkulation kommt sie mit 53 oder teilweise 52 grad zurück und das ist genau das was nicht sein darf denn damit lägen die temperaturen fast schon wieder im holfühlbereich der legionellen ob die sich tatsächlich vermehrt haben zeigen die wasserproben im labor werden die legionellen gezählt erläutert karin teelen wie viele sind in einer bestimmten menge wasser es ist allerdings nicht ganz einfach die genaue anzahl zu bestimmen so mit dem bloßen augus sehen sie natürlich nicht aber wir können sich sichtbar machen indem wir die bakterien anreichern auf einem künstlichen nährmedium auf einer petrischale sie zum wachsen bringen und dann entstehen über das wachstum sogenannte kleine kolonien und diese kolonien die können wir dann eben auch zählen und bis wir sie dann sehen können müssen dann mindestens eine million bakterien sich vermehrt haben aus einer zelle und dann können wir eben auch ein nachweis führen bis dahin brauchen die bakterien jedoch eine ganze weile im brotschrank erst nach knapp zwei wochen steht die entscheidende zahl fest wie viele kolonie bildende einheiten also grob gesagt wie viele lebende legionellen waren in 100 millilitern der wasserprobe davon hängt ab was passieren muss es gibt einen sogenannten technischen maßnahmenwert von 100 kolonie bildenden einheit pro 100 milliliter untersuchungsprobe und wenn dieser technische maßnahmenwert überschritten wird also ab 101 kolonie bildenden einheiten pro 100 milliliter haben wir dann eben einen positiven legionellen befund der ans gesundheitsamt zu melden ist um den fall kümmern muss sich dann etwa die hausverwaltung sie hat dafür zu sorgen dass fachleute die ursache für die hohe legionellenzahl ermitteln und die gesundheitsgefährdung analysieren und sie muss entsprechende maßnahmen ergreifen etwa die leitungen desinfizieren oder sie mit sehr heißem wasser durchspülen lassen damit die legionellen absterben sollten sogar mehr als 10 .000 kolonie bildende einheiten in 100 milliliter wasser sein dann sind sofortmaßnahmen notwendig spezielle filter zum beispiel oder ein duschverbot da großanlagen in mietshäusern alle drei jahre auf legionellen geprüft werden müssen öffentliche trinkwasseranlagen sogar einmal pro jahr fällt eine belastung meist rechtzeitig auf dass das ergebnis erst nach ein paar tagen kommt ist hier nicht so entscheidend ganz anders sieht es aus wenn ein patient mit entsprechenden symptomen in der klinik liegt erklärt dr.'"
      ]
     },
     "execution_count": 7,
     "metadata": {},
     "output_type": "execute_result"
    }
   ],
   "source": [
    "df.iloc[-1][\"sentence\"]"
   ]
  },
  {
   "cell_type": "code",
   "execution_count": null,
   "metadata": {},
   "outputs": [],
   "source": [
    "df[df[\"sentence_lenght\"] > 2000]"
   ]
  },
  {
   "cell_type": "markdown",
   "metadata": {},
   "source": [
    "Logarithmische Normalverteilung"
   ]
  },
  {
   "cell_type": "code",
   "execution_count": 8,
   "metadata": {},
   "outputs": [
    {
     "data": {
      "image/png": "[encoded data removed]",
      "text/plain": [
       "<Figure size 640x480 with 1 Axes>"
      ]
     },
     "metadata": {},
     "output_type": "display_data"
    }
   ],
   "source": [
    "plot_sentence_lengths(df[df[\"sentence_lenght\"] < 500][\"sentence_lenght\"])"
   ]
  },
  {
   "cell_type": "markdown",
   "metadata": {},
   "source": [
    "## Anzahl aller Episoden "
   ]
  },
  {
   "cell_type": "code",
   "execution_count": 1,
   "metadata": {},
   "outputs": [],
   "source": [
    "import requests \n",
    "\n",
    "GRAPHQL_URL = \"https://api.ardaudiothek.de/graphql\"\n",
    "def get_graphql(query):\n",
    "    response = requests.post(GRAPHQL_URL, json={\"query\": query})\n",
    "    if response.status_code == 200:\n",
    "        return response.json()\n",
    "    else:\n",
    "        raise f\"GraphQL request failed with status code {response.status_code}\""
   ]
  },
  {
   "cell_type": "code",
   "execution_count": null,
   "metadata": {},
   "outputs": [],
   "source": [
    "query = \"\"\"\n",
    "{\n",
    "\tshows: programSets(\n",
    "    filter:{\n",
    "      numberOfElements:{\n",
    "        greaterThanOrEqualTo: 0\n",
    "      }\n",
    "    }\n",
    "  )\n",
    "  {totalCount}\n",
    "  \n",
    "items(filter:{isPublished:{equalTo:true}}){\n",
    "    totalCount\n",
    "  }\n",
    "}\n",
    "\"\"\""
   ]
  },
  {
   "cell_type": "markdown",
   "metadata": {},
   "source": [
    "## Alle Autoren (nicht sprecher)"
   ]
  },
  {
   "cell_type": "code",
   "execution_count": 3,
   "metadata": {},
   "outputs": [],
   "source": [
    "query = \"\"\"\n",
    "    {\n",
    "        programSet(id: 5945518) {\n",
    "        items(\n",
    "            filter: {\n",
    "            isPublished: {\n",
    "                equalTo: true\n",
    "            }\n",
    "            }\n",
    "        ) {\n",
    "            nodes {\n",
    "              description\n",
    "            }\n",
    "        }\n",
    "        }\n",
    "    }\n",
    "\"\"\""
   ]
  },
  {
   "cell_type": "code",
   "execution_count": 4,
   "metadata": {},
   "outputs": [],
   "source": [
    "response = get_graphql(query)"
   ]
  },
  {
   "cell_type": "code",
   "execution_count": 27,
   "metadata": {},
   "outputs": [
    {
     "name": "stdout",
     "output_type": "stream",
     "text": [
      "Frank Schüre\n",
      "Beate Meierfrankenfeld\n",
      "Karin Lamsfuß (BR 2020)\n",
      "Daniela Remus\n",
      "Carola Zinner\n",
      "Karin Becker\n",
      "Susanne Hofmann\n",
      "Beate Meierfrankenfeld (BR 2018)\n",
      "Martin Trauner (BR 2016)\n",
      "Ulrike Beck\n"
     ]
    },
    {
     "data": {
      "text/plain": [
       "[None, None, None, None, None, None, None, None, None, None]"
      ]
     },
     "execution_count": 27,
     "metadata": {},
     "output_type": "execute_result"
    }
   ],
   "source": [
    "[print(autor[\"description\"].split(\"Autorin: \")[-1].split(\"Autor: \")[-1]) for autor in response[\"data\"][\"programSet\"][\"items\"][\"nodes\"][:10]]"
   ]
  },
  {
   "cell_type": "code",
   "execution_count": 36,
   "metadata": {},
   "outputs": [
    {
     "name": "stdout",
     "output_type": "stream",
     "text": [
      "257\n"
     ]
    }
   ],
   "source": [
    "from tqdm import tqdm\n",
    "autors = set()\n",
    "\n",
    "for node in response[\"data\"][\"programSet\"][\"items\"][\"nodes\"]:\n",
    "    autor = node[\"description\"]\n",
    "    if \"Autor: \" in autor or \"Autorin: \" in autor:\n",
    "        autor = autor.split(\"Autorin: \")[-1].split(\"Autor: \")[-1]\n",
    "        autor = autor.split(\"(\")[0]\n",
    "    else:\n",
    "        autor = \"\"\n",
    "    autors.add(autor)\n",
    "\n",
    "print(len(autors))"
   ]
  },
  {
   "cell_type": "markdown",
   "metadata": {},
   "source": [
    "## Einzelne Episdoden transkripte analysieren"
   ]
  },
  {
   "cell_type": "markdown",
   "metadata": {},
   "source": []
  }
 ],
 "metadata": {
  "kernelspec": {
   "display_name": "Python 3",
   "language": "python",
   "name": "python3"
  },
  "language_info": {
   "codemirror_mode": {
    "name": "ipython",
    "version": 3
   },
   "file_extension": ".py",
   "mimetype": "text/x-python",
   "name": "python",
   "nbconvert_exporter": "python",
   "pygments_lexer": "ipython3",
   "version": "3.8.10"
  }
 },
 "nbformat": 4,
 "nbformat_minor": 2
}
