{
 "cells": [
  {
   "cell_type": "markdown",
   "metadata": {},
   "source": [
    "# Chroma DB"
   ]
  },
  {
   "cell_type": "code",
   "execution_count": 1,
   "metadata": {},
   "outputs": [
    {
     "name": "stderr",
     "output_type": "stream",
     "text": [
      "/Users/br/Projects/Bachelorarbeit/.venv/lib/python3.8/site-packages/tqdm/auto.py:21: TqdmWarning: IProgress not found. Please update jupyter and ipywidgets. See https://ipywidgets.readthedocs.io/en/stable/user_install.html\n",
      "  from .autonotebook import tqdm as notebook_tqdm\n"
     ]
    }
   ],
   "source": [
    "import os\n",
    "import chromadb\n",
    "from dotenv import load_dotenv\n",
    "import sys\n",
    "\n",
    "sys.path.append(\"..\")\n",
    "from db_connect import db_get_df, db_save_df, save_pkl, load_pkl, save_npz, load_npz\n",
    "from embedding_creation.embedding_creator_MINI_L6 import MINI_LM_embed\n",
    "import numpy as np\n",
    "import pandas as pd\n",
    "from tqdm import tqdm\n",
    "\n",
    "load_dotenv()\n",
    "DATABASE_PATH = os.getenv(\"DATABASE_PATH\")\n",
    "DATA_PATH = os.getenv(\"DATA_PATH\")\n",
    "CHROMADB_PATH = os.getenv(\"CHROMADB_PATH\")\n",
    "OPENAI_KEY=os.getenv(\"OPENAI_KEY\")"
   ]
  },
  {
   "cell_type": "markdown",
   "metadata": {},
   "source": [
    "## Collection erstellen"
   ]
  },
  {
   "cell_type": "markdown",
   "metadata": {},
   "source": [
    "### Test Collection"
   ]
  },
  {
   "cell_type": "markdown",
   "metadata": {},
   "source": [
    "Server starten und client verbinden"
   ]
  },
  {
   "cell_type": "code",
   "execution_count": null,
   "metadata": {},
   "outputs": [],
   "source": [
    "chroma_client = chromadb.HttpClient(host='localhost', port=8000)"
   ]
  },
  {
   "cell_type": "code",
   "execution_count": 9,
   "metadata": {},
   "outputs": [],
   "source": [
    "collection = chroma_client.create_collection(name=\"sentence_voyage\")"
   ]
  },
  {
   "cell_type": "code",
   "execution_count": 3,
   "metadata": {},
   "outputs": [],
   "source": [
    "collection.add(\n",
    "    documents=[\"This is a document\", \"This is another document\"],\n",
    "    metadatas=[{\"source\": \"my_source\"}, {\"source\": \"my_source\"}],\n",
    "    ids=[\"1\", \"2\"]\n",
    ")"
   ]
  },
  {
   "cell_type": "code",
   "execution_count": 5,
   "metadata": {},
   "outputs": [
    {
     "data": {
      "text/plain": [
       "{'ids': [['1', '2']],\n",
       " 'distances': [[0.7111214399337769, 1.0109773874282837]],\n",
       " 'metadatas': [[{'source': 'my_source'}, {'source': 'my_source'}]],\n",
       " 'embeddings': None,\n",
       " 'documents': [['This is a document', 'This is another document']],\n",
       " 'uris': None,\n",
       " 'data': None}"
      ]
     },
     "execution_count": 5,
     "metadata": {},
     "output_type": "execute_result"
    }
   ],
   "source": [
    "results = collection.query(\n",
    "    query_texts=[\"This is a query document\"],\n",
    "    n_results=2\n",
    ")\n",
    "results"
   ]
  },
  {
   "cell_type": "markdown",
   "metadata": {},
   "source": [
    "## Collections löschen"
   ]
  },
  {
   "cell_type": "code",
   "execution_count": 6,
   "metadata": {},
   "outputs": [],
   "source": [
    "chroma_client = chromadb.HttpClient(host='localhost', port=8000)"
   ]
  },
  {
   "cell_type": "code",
   "execution_count": 11,
   "metadata": {},
   "outputs": [
    {
     "data": {
      "text/plain": [
       "[Collection(name=sentence_voyage), Collection(name=sentence_openai)]"
      ]
     },
     "execution_count": 11,
     "metadata": {},
     "output_type": "execute_result"
    }
   ],
   "source": [
    "chroma_client.list_collections()"
   ]
  },
  {
   "cell_type": "code",
   "execution_count": 15,
   "metadata": {},
   "outputs": [],
   "source": [
    "test_collection = chroma_client.get_collection(\"sentence_voyage\")"
   ]
  },
  {
   "cell_type": "code",
   "execution_count": 16,
   "metadata": {},
   "outputs": [
    {
     "data": {
      "text/plain": [
       "0"
      ]
     },
     "execution_count": 16,
     "metadata": {},
     "output_type": "execute_result"
    }
   ],
   "source": [
    "test_collection.count()"
   ]
  },
  {
   "cell_type": "code",
   "execution_count": 17,
   "metadata": {},
   "outputs": [],
   "source": [
    "chroma_client.delete_collection(\"sentence_voyage\")"
   ]
  },
  {
   "cell_type": "code",
   "execution_count": 4,
   "metadata": {},
   "outputs": [],
   "source": [
    "chroma_client.clear_system_cache()"
   ]
  },
  {
   "cell_type": "markdown",
   "metadata": {},
   "source": [
    "## MINI_LM hinzufügen"
   ]
  },
  {
   "cell_type": "markdown",
   "metadata": {},
   "source": [
    "### Daten laden"
   ]
  },
  {
   "cell_type": "code",
   "execution_count": 2,
   "metadata": {},
   "outputs": [],
   "source": [
    "chroma_client = chromadb.HttpClient(host='localhost', port=8000)"
   ]
  },
  {
   "cell_type": "code",
   "execution_count": 3,
   "metadata": {},
   "outputs": [
    {
     "data": {
      "text/plain": [
       "[Collection(name=my_collection),\n",
       " Collection(name=sentence_MINI_LM),\n",
       " Collection(name=sentece_MINI_LM),\n",
       " Collection(name=test)]"
      ]
     },
     "execution_count": 3,
     "metadata": {},
     "output_type": "execute_result"
    }
   ],
   "source": [
    "chroma_client.list_collections()"
   ]
  },
  {
   "cell_type": "code",
   "execution_count": 7,
   "metadata": {},
   "outputs": [],
   "source": [
    "df = db_get_df(\"transcript_sentences\")\n",
    "embeddings = load_pkl(\"MINI_L6_embeddings.pkl\")"
   ]
  },
  {
   "cell_type": "code",
   "execution_count": 8,
   "metadata": {},
   "outputs": [
    {
     "name": "stderr",
     "output_type": "stream",
     "text": [
      "100%|██████████| 433562/433562 [00:24<00:00, 18056.96it/s]\n"
     ]
    }
   ],
   "source": [
    "embeddings = [embed.tolist() for embed in tqdm(embeddings)]"
   ]
  },
  {
   "cell_type": "code",
   "execution_count": 9,
   "metadata": {},
   "outputs": [],
   "source": [
    "collection_mini = chroma_client.create_collection(name=\"sentence_MINI_LM\")"
   ]
  },
  {
   "cell_type": "markdown",
   "metadata": {},
   "source": [
    "### Daten vorbereiten"
   ]
  },
  {
   "cell_type": "code",
   "execution_count": 4,
   "metadata": {},
   "outputs": [],
   "source": [
    "def get_data(df):\n",
    "    documents = df[\"sentence\"].to_list()\n",
    "    metadatas = []\n",
    "    ids = []\n",
    "    for i, row in tqdm(df.iterrows()):\n",
    "        filename = row[\"filename\"]\n",
    "        start = row[\"start\"]\n",
    "        end = row[\"end\"]\n",
    "        sentence_id = row[\"sentence_id\"]\n",
    "        id = filename + str(sentence_id)\n",
    "        ids.append(id)\n",
    "        metadatas.append({\"filename\": filename, \"start\": start, \"end\": end, \"sentence_id\": sentence_id})\n",
    "    return (documents, metadatas, ids)"
   ]
  },
  {
   "cell_type": "code",
   "execution_count": null,
   "metadata": {},
   "outputs": [],
   "source": [
    "documents, metadatas, ids = get_data(df)"
   ]
  },
  {
   "cell_type": "code",
   "execution_count": 58,
   "metadata": {},
   "outputs": [
    {
     "name": "stdout",
     "output_type": "stream",
     "text": [
      "433562\n"
     ]
    }
   ],
   "source": [
    "print(len(ids))"
   ]
  },
  {
   "cell_type": "markdown",
   "metadata": {},
   "source": [
    "### Daten einfügen"
   ]
  },
  {
   "cell_type": "code",
   "execution_count": 12,
   "metadata": {},
   "outputs": [],
   "source": [
    "def split_into_batches(data, batch_size):\n",
    "    for i in range(0, len(data), batch_size):\n",
    "        yield data[i:i + batch_size]"
   ]
  },
  {
   "cell_type": "code",
   "execution_count": 9,
   "metadata": {},
   "outputs": [],
   "source": [
    "def insert_collection_batchwise(my_collection, documents, metadatas, ids, embeddings):\n",
    "    batch_size = 100  \n",
    "    start_point = 0\n",
    "    documents_batches = list(split_into_batches(documents, batch_size))[start_point:]\n",
    "    metadatas_batches = list(split_into_batches(metadatas, batch_size))[start_point:]\n",
    "    ids_batches = list(split_into_batches(ids, batch_size))[start_point:]\n",
    "    embeddings_batches = list(split_into_batches(embeddings, batch_size))[start_point:]\n",
    "\n",
    "    for i in tqdm(range(len(documents_batches))):\n",
    "        my_collection.add(\n",
    "            documents=documents_batches[i],\n",
    "            embeddings=embeddings_batches[i],\n",
    "            metadatas=metadatas_batches[i],\n",
    "            ids=ids_batches[i],\n",
    "        )"
   ]
  },
  {
   "cell_type": "code",
   "execution_count": null,
   "metadata": {},
   "outputs": [],
   "source": [
    "insert_collection_batchwise(documents, metadatas, ids, embeddings)"
   ]
  },
  {
   "cell_type": "code",
   "execution_count": 13,
   "metadata": {},
   "outputs": [
    {
     "data": {
      "text/plain": [
       "433562"
      ]
     },
     "execution_count": 13,
     "metadata": {},
     "output_type": "execute_result"
    }
   ],
   "source": [
    "collection_mini.count()"
   ]
  },
  {
   "cell_type": "code",
   "execution_count": 14,
   "metadata": {},
   "outputs": [],
   "source": [
    "client = chromadb.PersistentClient(path=\"data/chromadb\")"
   ]
  },
  {
   "cell_type": "markdown",
   "metadata": {},
   "source": [
    "### Suche starten"
   ]
  },
  {
   "cell_type": "code",
   "execution_count": 65,
   "metadata": {},
   "outputs": [
    {
     "data": {
      "text/plain": [
       "<chromadb.utils.embedding_functions.ONNXMiniLM_L6_V2 at 0x7fb2d0129790>"
      ]
     },
     "execution_count": 65,
     "metadata": {},
     "output_type": "execute_result"
    }
   ],
   "source": [
    "collection._embedding_function"
   ]
  },
  {
   "cell_type": "code",
   "execution_count": 79,
   "metadata": {},
   "outputs": [],
   "source": [
    "query_embedding = MINI_LM_embed(\"Sonnensystem\")"
   ]
  },
  {
   "cell_type": "code",
   "execution_count": 86,
   "metadata": {},
   "outputs": [],
   "source": [
    "result = collection.query(\n",
    "    query_embeddings=query_embedding.tolist(),\n",
    "    n_results=10\n",
    ")"
   ]
  },
  {
   "cell_type": "code",
   "execution_count": 87,
   "metadata": {},
   "outputs": [
    {
     "data": {
      "text/plain": [
       "[['Vor Sonnenaufgang.',\n",
       "  'Also der Tagesablauf, das Sonnenaufgang, Sonnenuntergang hat natürlich das Leben bestimmt.',\n",
       "  'Auch nicht an den vielen grassierenden schlechten Übersetzungen.',\n",
       "  'Heuschmann ergänzt ihn mit einer Tabelle zu Pendellängen und Schwingungszahlen.',\n",
       "  'Also zunächst mal bedeutete es natürlich Ehelosigkeit.',\n",
       "  'Die Vulkanasche hat das Sonnenlicht noch zusätzlich abgeschirmt.',\n",
       "  'Sie wollen ihn kennenlernen.',\n",
       "  'Ausdauersportler haben oft einen erhöhten Bedarf am Spurenelement Eisen.',\n",
       "  'Etwas, das sich lohnt kennenzulernen.',\n",
       "  'Nadine Bräsicke fordert neben verstärkter Forschung auch mehr Zusammenarbeit beim Waldmanagement.']]"
      ]
     },
     "execution_count": 87,
     "metadata": {},
     "output_type": "execute_result"
    }
   ],
   "source": [
    "result[\"documents\"]"
   ]
  },
  {
   "cell_type": "markdown",
   "metadata": {},
   "source": [
    "## OpenAI hinzufügen"
   ]
  },
  {
   "cell_type": "markdown",
   "metadata": {},
   "source": [
    "### Daten laden"
   ]
  },
  {
   "cell_type": "markdown",
   "metadata": {},
   "source": [
    "Die daten mussten in 2 verschiedenen Splits geladen werden"
   ]
  },
  {
   "cell_type": "code",
   "execution_count": 7,
   "metadata": {},
   "outputs": [],
   "source": [
    "chroma_client = chromadb.HttpClient(host='localhost', port=8000)"
   ]
  },
  {
   "cell_type": "code",
   "execution_count": 22,
   "metadata": {},
   "outputs": [],
   "source": [
    "df = db_get_df(\"transcript_sentences\")"
   ]
  },
  {
   "cell_type": "code",
   "execution_count": null,
   "metadata": {},
   "outputs": [],
   "source": [
    "embeddings_2 = load_pkl(\"embeddings_OPENAI_180793.pkl\")"
   ]
  },
  {
   "cell_type": "code",
   "execution_count": 21,
   "metadata": {},
   "outputs": [
    {
     "data": {
      "text/plain": [
       "180793"
      ]
     },
     "execution_count": 21,
     "metadata": {},
     "output_type": "execute_result"
    }
   ],
   "source": [
    "len(embeddings_2)"
   ]
  },
  {
   "cell_type": "code",
   "execution_count": 22,
   "metadata": {},
   "outputs": [
    {
     "name": "stderr",
     "output_type": "stream",
     "text": [
      "180793it [00:15, 11989.04it/s]\n"
     ]
    }
   ],
   "source": [
    "documents_2, metadatas_2, ids_2 = get_data(df.tail(len(embeddings_2)))"
   ]
  },
  {
   "cell_type": "code",
   "execution_count": 23,
   "metadata": {},
   "outputs": [
    {
     "data": {
      "text/plain": [
       "180793"
      ]
     },
     "execution_count": 23,
     "metadata": {},
     "output_type": "execute_result"
    }
   ],
   "source": [
    "len(documents_2)"
   ]
  },
  {
   "cell_type": "code",
   "execution_count": 13,
   "metadata": {},
   "outputs": [],
   "source": [
    "collection_openai = chroma_client.create_collection(name=\"sentence_openai\")"
   ]
  },
  {
   "cell_type": "markdown",
   "metadata": {},
   "source": [
    "### Daten einfügen"
   ]
  },
  {
   "cell_type": "code",
   "execution_count": 24,
   "metadata": {},
   "outputs": [
    {
     "name": "stderr",
     "output_type": "stream",
     "text": [
      "100%|██████████| 1808/1808 [25:36<00:00,  1.18it/s]\n"
     ]
    }
   ],
   "source": [
    "insert_collection_batchwise(collection_openai, documents_2, metadatas_2, ids_2, embeddings_2)"
   ]
  },
  {
   "cell_type": "code",
   "execution_count": 25,
   "metadata": {},
   "outputs": [
    {
     "data": {
      "text/plain": [
       "[Collection(name=my_collection),\n",
       " Collection(name=sentence_MINI_LM),\n",
       " Collection(name=sentece_MINI_LM),\n",
       " Collection(name=sentence_openai),\n",
       " Collection(name=test)]"
      ]
     },
     "execution_count": 25,
     "metadata": {},
     "output_type": "execute_result"
    }
   ],
   "source": [
    "chroma_client.list_collections()"
   ]
  },
  {
   "cell_type": "code",
   "execution_count": null,
   "metadata": {},
   "outputs": [],
   "source": [
    "collection_openai.peek()"
   ]
  },
  {
   "cell_type": "markdown",
   "metadata": {},
   "source": [
    "### Suchen"
   ]
  },
  {
   "cell_type": "code",
   "execution_count": 4,
   "metadata": {},
   "outputs": [],
   "source": [
    "import chromadb.utils.embedding_functions as embedding_functions\n",
    "openai_ef = embedding_functions.OpenAIEmbeddingFunction(\n",
    "                api_key=OPENAI_KEY,\n",
    "                model_name=\"text-embedding-3-small\"\n",
    "            )\n",
    "chroma_client = chromadb.HttpClient(host='localhost', port=8000)"
   ]
  },
  {
   "cell_type": "code",
   "execution_count": 30,
   "metadata": {},
   "outputs": [
    {
     "data": {
      "text/plain": [
       "[Collection(name=my_collection),\n",
       " Collection(name=sentence_MINI_LM),\n",
       " Collection(name=sentece_MINI_LM),\n",
       " Collection(name=sentence_openai),\n",
       " Collection(name=test)]"
      ]
     },
     "execution_count": 30,
     "metadata": {},
     "output_type": "execute_result"
    }
   ],
   "source": [
    "chroma_client.list_collections()"
   ]
  },
  {
   "cell_type": "code",
   "execution_count": 5,
   "metadata": {},
   "outputs": [],
   "source": [
    "collection = chroma_client.get_collection(name=\"sentence_openai\", embedding_function=openai_ef)"
   ]
  },
  {
   "cell_type": "code",
   "execution_count": 6,
   "metadata": {},
   "outputs": [
    {
     "data": {
      "text/plain": [
       "433562"
      ]
     },
     "execution_count": 6,
     "metadata": {},
     "output_type": "execute_result"
    }
   ],
   "source": [
    "collection.count()"
   ]
  },
  {
   "cell_type": "code",
   "execution_count": 7,
   "metadata": {},
   "outputs": [],
   "source": [
    "result = collection.query(\n",
    "    query_texts=[\"Marsmission\"],\n",
    "    n_results=10\n",
    ")"
   ]
  },
  {
   "cell_type": "code",
   "execution_count": 25,
   "metadata": {},
   "outputs": [
    {
     "data": {
      "text/plain": [
       "{'ids': [['gibt-es-ausserirdisches-leben-entdeckungsreise-in-unserem-sonnensystem.mp326',\n",
       "   'gibt-es-ausserirdisches-leben-entdeckungsreise-in-unserem-sonnensystem.mp375',\n",
       "   'mars-mission-die-erforschung-des-roten-planeten.mp3134',\n",
       "   'marsmaennchen-realitaet-fiktion-goetter-der-gottlosen.mp334',\n",
       "   'meteor-mit-mission-kam-das-leben-aus-dem-all.mp3190',\n",
       "   'mars-mission-die-erforschung-des-roten-planeten.mp3124',\n",
       "   'marsmaennchen-realitaet-fiktion-goetter-der-gottlosen.mp346',\n",
       "   'marsmaennchen-realitaet-fiktion-goetter-der-gottlosen.mp348',\n",
       "   'meteor-mit-mission-kam-das-leben-aus-dem-all.mp319',\n",
       "   'mars-mission-die-erforschung-des-roten-planeten.mp3131']],\n",
       " 'distances': [[0.695876955986023,\n",
       "   0.8734498023986816,\n",
       "   0.8734498023986816,\n",
       "   0.8853272795677185,\n",
       "   0.9264781475067139,\n",
       "   0.926581621170044,\n",
       "   0.979823112487793,\n",
       "   0.986320972442627,\n",
       "   0.9892181754112244,\n",
       "   0.9927668571472168]],\n",
       " 'embeddings': None,\n",
       " 'metadatas': [[{'end': 144.09,\n",
       "    'filename': 'gibt-es-ausserirdisches-leben-entdeckungsreise-in-unserem-sonnensystem.mp3',\n",
       "    'sentence_id': 26,\n",
       "    'start': 143.43},\n",
       "   {'end': 459.67,\n",
       "    'filename': 'gibt-es-ausserirdisches-leben-entdeckungsreise-in-unserem-sonnensystem.mp3',\n",
       "    'sentence_id': 75,\n",
       "    'start': 455.37},\n",
       "   {'end': 965.68,\n",
       "    'filename': 'mars-mission-die-erforschung-des-roten-planeten.mp3',\n",
       "    'sentence_id': 134,\n",
       "    'start': 961.34},\n",
       "   {'end': 211.58,\n",
       "    'filename': 'marsmaennchen-realitaet-fiktion-goetter-der-gottlosen.mp3',\n",
       "    'sentence_id': 34,\n",
       "    'start': 210.1},\n",
       "   {'end': 1094.12,\n",
       "    'filename': 'meteor-mit-mission-kam-das-leben-aus-dem-all.mp3',\n",
       "    'sentence_id': 190,\n",
       "    'start': 1089.08},\n",
       "   {'end': 903.42,\n",
       "    'filename': 'mars-mission-die-erforschung-des-roten-planeten.mp3',\n",
       "    'sentence_id': 124,\n",
       "    'start': 899.58},\n",
       "   {'end': 282.24,\n",
       "    'filename': 'marsmaennchen-realitaet-fiktion-goetter-der-gottlosen.mp3',\n",
       "    'sentence_id': 46,\n",
       "    'start': 280.14},\n",
       "   {'end': 291.42,\n",
       "    'filename': 'marsmaennchen-realitaet-fiktion-goetter-der-gottlosen.mp3',\n",
       "    'sentence_id': 48,\n",
       "    'start': 289.3},\n",
       "   {'end': 109.13,\n",
       "    'filename': 'meteor-mit-mission-kam-das-leben-aus-dem-all.mp3',\n",
       "    'sentence_id': 19,\n",
       "    'start': 106.97},\n",
       "   {'end': 949.58,\n",
       "    'filename': 'mars-mission-die-erforschung-des-roten-planeten.mp3',\n",
       "    'sentence_id': 131,\n",
       "    'start': 944.68}]],\n",
       " 'documents': [['Der Mars.',\n",
       "   'Es war also ganz gezielt eine Mission zur Suche nach Leben auf dem Mars.',\n",
       "   'Es war also ganz gezielt eine Mission zur Suche nach Leben auf dem Mars.',\n",
       "   'Wesen auf dem Mars?',\n",
       "   'Meteoriten mit Mission.',\n",
       "   'Mars Express ist damit für die Geschichte der Marsforschung wegweisend.',\n",
       "   'Das Mars -Gesicht.',\n",
       "   '2003 wurde der Mars -Rover',\n",
       "   'Meteore also mit Mission?',\n",
       "   'Der nächste Höhepunkt der Marsforschung bestand Mitte der 70er Jahre in der Viking -Mission.']],\n",
       " 'uris': None,\n",
       " 'data': None}"
      ]
     },
     "execution_count": 25,
     "metadata": {},
     "output_type": "execute_result"
    }
   ],
   "source": [
    "result"
   ]
  },
  {
   "cell_type": "code",
   "execution_count": 18,
   "metadata": {},
   "outputs": [],
   "source": [
    "df = pd.DataFrame({\"sentence\":result[\"documents\"][0]})\n",
    "df[\"end\"] = [metadata[\"end\"] for metadata in result[\"metadatas\"][0]]\n",
    "df[\"start\"] = [metadata[\"start\"] for metadata in result[\"metadatas\"][0]]\n",
    "df[\"filename\"] = [metadata[\"filename\"] for metadata in result[\"metadatas\"][0]]"
   ]
  },
  {
   "cell_type": "markdown",
   "metadata": {},
   "source": [
    "## Laden der Daten"
   ]
  },
  {
   "cell_type": "code",
   "execution_count": 1,
   "metadata": {},
   "outputs": [],
   "source": [
    "import chromadb"
   ]
  },
  {
   "cell_type": "code",
   "execution_count": 2,
   "metadata": {},
   "outputs": [],
   "source": [
    "client = chromadb.HttpClient(host='localhost', port=8000)"
   ]
  },
  {
   "cell_type": "code",
   "execution_count": 3,
   "metadata": {},
   "outputs": [],
   "source": [
    "collection = client.get_collection(name=\"sentence_openai\")"
   ]
  },
  {
   "cell_type": "code",
   "execution_count": 4,
   "metadata": {},
   "outputs": [
    {
     "data": {
      "text/plain": [
       "433562"
      ]
     },
     "execution_count": 4,
     "metadata": {},
     "output_type": "execute_result"
    }
   ],
   "source": [
    "collection.count()"
   ]
  },
  {
   "cell_type": "code",
   "execution_count": 5,
   "metadata": {},
   "outputs": [
    {
     "data": {
      "text/plain": [
       "[Collection(name=sentence_openai)]"
      ]
     },
     "execution_count": 5,
     "metadata": {},
     "output_type": "execute_result"
    }
   ],
   "source": [
    "client.list_collections()"
   ]
  },
  {
   "cell_type": "code",
   "execution_count": 8,
   "metadata": {},
   "outputs": [],
   "source": [
    "peek = collection.peek()"
   ]
  },
  {
   "cell_type": "code",
   "execution_count": 10,
   "metadata": {},
   "outputs": [
    {
     "data": {
      "text/plain": [
       "1536"
      ]
     },
     "execution_count": 10,
     "metadata": {},
     "output_type": "execute_result"
    }
   ],
   "source": [
    "len(peek['embeddings'][0])"
   ]
  },
  {
   "cell_type": "code",
   "execution_count": 3,
   "metadata": {},
   "outputs": [],
   "source": [
    "client = chromadb.PersistentClient(path=CHROMADB_PATH)"
   ]
  },
  {
   "cell_type": "code",
   "execution_count": 21,
   "metadata": {},
   "outputs": [
    {
     "data": {
      "text/plain": [
       "2"
      ]
     },
     "execution_count": 21,
     "metadata": {},
     "output_type": "execute_result"
    }
   ],
   "source": [
    "client.count_collections()"
   ]
  },
  {
   "cell_type": "code",
   "execution_count": null,
   "metadata": {},
   "outputs": [],
   "source": [
    "collection.peek()"
   ]
  },
  {
   "cell_type": "markdown",
   "metadata": {},
   "source": [
    "## voyage hinzufügen"
   ]
  },
  {
   "cell_type": "code",
   "execution_count": 2,
   "metadata": {},
   "outputs": [],
   "source": [
    "chroma_client = chromadb.HttpClient(host='localhost', port=8000)"
   ]
  },
  {
   "cell_type": "code",
   "execution_count": 3,
   "metadata": {},
   "outputs": [],
   "source": [
    "df = db_get_df(\"transcript_sentences\")\n",
    "embeddings = load_pkl(\"embeddings_voyage.pkl\")"
   ]
  },
  {
   "cell_type": "code",
   "execution_count": 5,
   "metadata": {},
   "outputs": [
    {
     "data": {
      "text/plain": [
       "433562"
      ]
     },
     "execution_count": 5,
     "metadata": {},
     "output_type": "execute_result"
    }
   ],
   "source": [
    "len(embeddings)"
   ]
  },
  {
   "cell_type": "code",
   "execution_count": 7,
   "metadata": {},
   "outputs": [
    {
     "name": "stderr",
     "output_type": "stream",
     "text": [
      "433562it [00:51, 8457.09it/s] \n"
     ]
    }
   ],
   "source": [
    "documents, metadatas, ids = get_data(df)"
   ]
  },
  {
   "cell_type": "code",
   "execution_count": 8,
   "metadata": {},
   "outputs": [],
   "source": [
    "collection_voyage = chroma_client.create_collection(name=\"sentence_voyage\")"
   ]
  },
  {
   "cell_type": "code",
   "execution_count": 10,
   "metadata": {},
   "outputs": [],
   "source": [
    "def insert_collection_batchwise(my_collection, ids, embeddings):\n",
    "    batch_size = 100  \n",
    "    \n",
    "    ids_batches = list(split_into_batches(ids, batch_size))\n",
    "    embeddings_batches = list(split_into_batches(embeddings, batch_size))\n",
    "\n",
    "    for i in tqdm(range(len(embeddings_batches))):\n",
    "        my_collection.add(\n",
    "            embeddings=embeddings_batches[i],\n",
    "            ids=ids_batches[i],\n",
    "        )"
   ]
  },
  {
   "cell_type": "code",
   "execution_count": 13,
   "metadata": {},
   "outputs": [
    {
     "name": "stderr",
     "output_type": "stream",
     "text": [
      "100%|██████████| 4336/4336 [42:05<00:00,  1.72it/s]  \n"
     ]
    }
   ],
   "source": [
    "insert_collection_batchwise(collection_voyage, ids, embeddings)"
   ]
  },
  {
   "cell_type": "markdown",
   "metadata": {},
   "source": [
    "## Collection umziehen"
   ]
  },
  {
   "cell_type": "code",
   "execution_count": null,
   "metadata": {},
   "outputs": [],
   "source": [
    "chroma_client = chromadb.HttpClient(host='localhost', port=8000)\n",
    "collection_voyage = chroma_client.get_collection(name=\"sentence_voyage\")"
   ]
  }
 ],
 "metadata": {
  "kernelspec": {
   "display_name": ".venv",
   "language": "python",
   "name": "python3"
  },
  "language_info": {
   "codemirror_mode": {
    "name": "ipython",
    "version": 3
   },
   "file_extension": ".py",
   "mimetype": "text/x-python",
   "name": "python",
   "nbconvert_exporter": "python",
   "pygments_lexer": "ipython3",
   "version": "3.8.10"
  }
 },
 "nbformat": 4,
 "nbformat_minor": 2
}
