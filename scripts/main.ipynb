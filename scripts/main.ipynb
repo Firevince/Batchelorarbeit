{
 "cells": [
  {
   "cell_type": "markdown",
   "metadata": {},
   "source": [
    "# Podcast Episode Erstellen"
   ]
  },
  {
   "cell_type": "markdown",
   "metadata": {},
   "source": [
    "### imports"
   ]
  },
  {
   "cell_type": "code",
   "execution_count": 16,
   "metadata": {},
   "outputs": [],
   "source": [
    "import sys\n",
    "\n",
    "sys.path.append(\".\")\n",
    "from episodes_downloader.episodes_downloader import (\n",
    "    get_metadata_all_episodes,\n",
    "    download_and_save_mp3_in_dir\n",
    ")\n",
    "import os\n",
    "import pandas as pd\n",
    "from pydub import AudioSegment\n",
    "from pydub.playback import play\n",
    "from playsound import playsound\n",
    "import IPython\n",
    "import io\n",
    "import json\n",
    "\n",
    "from db_connect import db_get_df, db_save_df\n",
    "from segment_ranking.rank_segments import (\n",
    "    get_most_similar_segments,\n",
    ")\n",
    "\n",
    "# from Audio_segmentation.split_audio import produce_snippets\n",
    "# from Audio_segmentation.concat_audio import produce_audio\n",
    "from tqdm import tqdm\n",
    "\n",
    "from dotenv import load_dotenv\n",
    "\n",
    "load_dotenv()\n",
    "AUDIO_SOURCE_PATH = os.getenv(\"AUDIO_SOURCE_PATH\")\n",
    "DATA_PATH = os.getenv(\"DATA_PATH\")"
   ]
  },
  {
   "cell_type": "markdown",
   "metadata": {},
   "source": [
    "### Episoden URLs laden"
   ]
  },
  {
   "cell_type": "markdown",
   "metadata": {},
   "source": [
    "Zunächst wollen wir alle Epsioden auflisten und die Download URLs erhalten."
   ]
  },
  {
   "cell_type": "markdown",
   "metadata": {},
   "source": [
    "Jetzt werden wir für jeden Podcast noch andere Metadaten, wie die description, das publish date und keywörter abspeichern."
   ]
  },
  {
   "cell_type": "code",
   "execution_count": null,
   "metadata": {},
   "outputs": [],
   "source": [
    "df = get_metadata_all_episodes()\n",
    "print(\"Beispieltitel\",df[\"title\"].head(5))\n",
    "print(\"Anzahl Episoden:\",len(df))"
   ]
  },
  {
   "cell_type": "code",
   "execution_count": null,
   "metadata": {},
   "outputs": [],
   "source": [
    "df[\"filename\"] = [url.split(\"/\")[-1] for url in df[\"download_url\"]]"
   ]
  },
  {
   "cell_type": "code",
   "execution_count": null,
   "metadata": {},
   "outputs": [],
   "source": [
    "db_save_df(df, \"episodes_metadata\")"
   ]
  },
  {
   "cell_type": "markdown",
   "metadata": {},
   "source": [
    "### Alle mp3s herunterladen"
   ]
  },
  {
   "cell_type": "markdown",
   "metadata": {},
   "source": [
    "Um die Audios zu bearbeiten müssen wir sie herunterladen. Da die über 2000 Episoden mp3 ca. 50 GB beanspruchen werden sie hier auf eine externe SSD gespeichert."
   ]
  },
  {
   "cell_type": "code",
   "execution_count": null,
   "metadata": {},
   "outputs": [],
   "source": [
    "path = AUDIO_SOURCE_PATH\n",
    "os.listdir(path)"
   ]
  },
  {
   "cell_type": "code",
   "execution_count": null,
   "metadata": {},
   "outputs": [],
   "source": [
    "df = db_get_df(\"episodes_metadata\")\n",
    "\n",
    "for i, row in tqdm(df.iterrows()):\n",
    "    title = row[\"download_url\"].split(\"/\")[-1]\n",
    "    if title in os.listdir(path):\n",
    "        continue\n",
    "    download_and_save_mp3_in_dir(row[\"download_url\"], path, title)\n"
   ]
  },
  {
   "cell_type": "code",
   "execution_count": null,
   "metadata": {},
   "outputs": [],
   "source": [
    "df.loc[179, \"download_url\"]"
   ]
  },
  {
   "cell_type": "markdown",
   "metadata": {},
   "source": [
    "### Transkription auf Word level Ebene"
   ]
  },
  {
   "cell_type": "markdown",
   "metadata": {},
   "source": [
    "Dann müssen die einzelnen Audios transkribiert werden. \n",
    "Whisper bietet sich als Transkriptionstool an. Allerdings ist der Prozess alle Audiofiles zu transkribieren sehr aufwändig und sollte auf guter Hardware mit GPU Cuda unterstützung erfolgen.\n",
    "\n",
    "Beispieltranskription für ein file: (kann ca. 20 min dauern)"
   ]
  },
  {
   "cell_type": "code",
   "execution_count": null,
   "metadata": {},
   "outputs": [],
   "source": [
    "from audio_transcription.faster_whisper_word_level import transcribe"
   ]
  },
  {
   "cell_type": "code",
   "execution_count": null,
   "metadata": {},
   "outputs": [],
   "source": [
    "filepath = os.path.join(AUDIO_SOURCE_PATH, os.listdir(AUDIO_SOURCE_PATH)[4])\n",
    "df = transcribe(filepath)"
   ]
  },
  {
   "cell_type": "code",
   "execution_count": null,
   "metadata": {},
   "outputs": [],
   "source": [
    "print(df)"
   ]
  },
  {
   "cell_type": "markdown",
   "metadata": {},
   "source": [
    "### Satzbildung durch Whisper Punkte"
   ]
  },
  {
   "cell_type": "markdown",
   "metadata": {},
   "source": [
    "Wenn wir nun alle MP3 Datein transkribiert haben, ist für jedes einzelne vorkommende Wort ein Zeitstempel gespeichert.\n",
    "\n",
    "Für das Projekt lohnt es sich allerdings größere Abschnitte zu erstellen, auf die später die Embeddings und die Suchen angewendet werden können, um mehr Kontext miteinzubeziehen."
   ]
  },
  {
   "cell_type": "code",
   "execution_count": null,
   "metadata": {},
   "outputs": [],
   "source": [
    "df = db_get_df(\"transcript_word_level_2237\")"
   ]
  },
  {
   "cell_type": "code",
   "execution_count": null,
   "metadata": {},
   "outputs": [],
   "source": [
    "one_sentence = []\n",
    "sentence_dict = [] \n",
    "filenames = df[\"filename\"].drop_duplicates(ignore_index=True)\n",
    "\n",
    "for filename in tqdm(filenames):\n",
    "    word_entries = df[df['filename'] == filename]\n",
    "    start = -1\n",
    "    end = -1\n",
    "    for index, word_entry in word_entries.iterrows(): \n",
    "        word = word_entry[\"word\"]\n",
    "        \n",
    "        if not one_sentence: ##start\n",
    "            start = word_entry[\"start\"]\n",
    "        one_sentence.append(word.strip())\n",
    "        if \".\" in word:\n",
    "            end = word_entry[\"end\"]\n",
    "            sentence = \" \".join(one_sentence)\n",
    "            sentence_dict.append({\"filename\": filename, \"sentence\": sentence, \"start\": start, \"end\":end})\n",
    "            one_sentence = []\n",
    "\n",
    "df_sentences = pd.DataFrame(sentence_dict)"
   ]
  },
  {
   "cell_type": "code",
   "execution_count": null,
   "metadata": {},
   "outputs": [],
   "source": [
    "db_save_df(df_sentences, \"transcript_sentences\")"
   ]
  },
  {
   "cell_type": "markdown",
   "metadata": {},
   "source": [
    "### Debug db"
   ]
  },
  {
   "cell_type": "code",
   "execution_count": null,
   "metadata": {},
   "outputs": [],
   "source": [
    "import sqlite3\n",
    "import pandas as pd\n",
    "\n",
    "con = sqlite3.connect(\"/Volumes/Samsung_T5/Backup/transcripts.sqlite\")\n",
    "df = pd.read_sql_query(f\"SELECT * FROM transcript_word_level_2237\", con)\n",
    "con.close()"
   ]
  },
  {
   "cell_type": "code",
   "execution_count": null,
   "metadata": {},
   "outputs": [],
   "source": [
    "len(df)"
   ]
  },
  {
   "cell_type": "code",
   "execution_count": null,
   "metadata": {},
   "outputs": [],
   "source": [
    "print(df.dtypes)\n",
    "print(df[\"filename\"].drop_duplicates(ignore_index=True))"
   ]
  },
  {
   "cell_type": "markdown",
   "metadata": {},
   "source": [
    "Die Namen der Filenames ändern"
   ]
  },
  {
   "cell_type": "code",
   "execution_count": null,
   "metadata": {},
   "outputs": [],
   "source": [
    "df['filename'] = df['filename'].str.replace('/nfs/scratch/students/neumannvi84434/Podcast_Episoden/', '')"
   ]
  },
  {
   "cell_type": "code",
   "execution_count": null,
   "metadata": {},
   "outputs": [],
   "source": [
    "with sqlite3.connect(\"/Volumes/Samsung_T5/Backup/transcripts.sqlite\") as con:\n",
    "    df.to_sql(\"transcript_word_level_2237\", con, index=False, if_exists='replace')"
   ]
  },
  {
   "cell_type": "code",
   "execution_count": null,
   "metadata": {},
   "outputs": [],
   "source": [
    "db_save_df(df, \"transcript_word_level_2237\")"
   ]
  },
  {
   "cell_type": "markdown",
   "metadata": {},
   "source": [
    "##### Setence ID hinzufügen"
   ]
  },
  {
   "cell_type": "code",
   "execution_count": null,
   "metadata": {},
   "outputs": [],
   "source": [
    "df =db_get_df(\"transcript_sentences\")"
   ]
  },
  {
   "cell_type": "code",
   "execution_count": null,
   "metadata": {},
   "outputs": [],
   "source": [
    "df['segment_id'] = df.groupby('filename').cumcount()"
   ]
  },
  {
   "cell_type": "code",
   "execution_count": null,
   "metadata": {},
   "outputs": [],
   "source": [
    "db_save_df(df, \"transcript_sentences\")"
   ]
  },
  {
   "cell_type": "markdown",
   "metadata": {},
   "source": [
    "### Lemmatisierung mit spacy"
   ]
  },
  {
   "cell_type": "markdown",
   "metadata": {},
   "source": [
    "Um die Keywordsuche mit TF-IDF zu verbessern kann man die einzelnen Wörter vor dem Suchen Lemmatisieren.\n",
    "Das heißt man mapped mehrere Verwandte Wörter auf ein einziges Wort.\n",
    "\n",
    "Bsp. Bäume -> Baum; war -> sein; schneller -> schnell "
   ]
  },
  {
   "cell_type": "code",
   "execution_count": 11,
   "metadata": {},
   "outputs": [],
   "source": [
    "import spacy"
   ]
  },
  {
   "cell_type": "code",
   "execution_count": 12,
   "metadata": {},
   "outputs": [],
   "source": [
    "def lemmatize_german_sentence(input_sentence, nlp):\n",
    "    doc = nlp(input_sentence)\n",
    "    lemmatized_words = []\n",
    "    for token in doc:\n",
    "        lemmatized_words.append(token.lemma_)\n",
    "    return lemmatized_words"
   ]
  },
  {
   "cell_type": "code",
   "execution_count": 13,
   "metadata": {},
   "outputs": [
    {
     "data": {
      "text/plain": [
       "filename       object\n",
       "sentence       object\n",
       "start         float64\n",
       "end           float64\n",
       "segment_id      int64\n",
       "dtype: object"
      ]
     },
     "execution_count": 13,
     "metadata": {},
     "output_type": "execute_result"
    }
   ],
   "source": [
    "df = db_get_df(\"transcript_sentences\")\n",
    "df.dtypes"
   ]
  },
  {
   "cell_type": "code",
   "execution_count": null,
   "metadata": {},
   "outputs": [],
   "source": [
    "nlp = spacy.load(\"de_core_news_md\")\n",
    "all_sentences = []\n",
    "for sentence in tqdm(df[\"sentence\"]):\n",
    "    all_sentences.append(lemmatize_german_sentence(sentence, nlp))"
   ]
  },
  {
   "cell_type": "code",
   "execution_count": null,
   "metadata": {},
   "outputs": [],
   "source": [
    "all_sentences[3000]"
   ]
  },
  {
   "cell_type": "code",
   "execution_count": null,
   "metadata": {},
   "outputs": [],
   "source": [
    "len(all_sentences)"
   ]
  },
  {
   "cell_type": "code",
   "execution_count": null,
   "metadata": {},
   "outputs": [],
   "source": [
    "all_sentences_full = [\" \".join(sentence) for sentence in all_sentences]"
   ]
  },
  {
   "cell_type": "code",
   "execution_count": null,
   "metadata": {},
   "outputs": [],
   "source": [
    "len(all_sentences_full)"
   ]
  },
  {
   "cell_type": "code",
   "execution_count": null,
   "metadata": {},
   "outputs": [],
   "source": [
    "df[\"sentence_lemmatized\"] = all_sentences_full"
   ]
  },
  {
   "cell_type": "code",
   "execution_count": null,
   "metadata": {},
   "outputs": [],
   "source": [
    "db_save_df(df, \"sentences_lemmatized\")"
   ]
  },
  {
   "cell_type": "code",
   "execution_count": null,
   "metadata": {},
   "outputs": [],
   "source": [
    "all_sentences_full[4000]"
   ]
  },
  {
   "cell_type": "markdown",
   "metadata": {},
   "source": [
    "### Kompositatrennung mit pyphen"
   ]
  },
  {
   "cell_type": "code",
   "execution_count": null,
   "metadata": {},
   "outputs": [],
   "source": [
    "import pyphen\n",
    "\n",
    "deutsche_worte = pyphen.Pyphen(lang='de_DE')\n",
    "einzelwoerter_set = set()\n",
    "\n",
    "dateipfad = '/Users/br/Projects/Bachelorarbeit/scripts/Embedding_creation/vocabulary.txt'\n",
    "\n",
    "with open(dateipfad, 'r', encoding='utf-8') as datei:\n",
    "    for zeile in datei:\n",
    "        woerter = zeile.strip().split()\n",
    "        \n",
    "        for wort in woerter:\n",
    "            getrenntes_wort = deutsche_worte.inserted(wort)\n",
    "            \n",
    "            einzelwoerter = getrenntes_wort.split('-')\n",
    "            einzelwoerter_set.update(einzelwoerter)\n",
    "\n",
    "for wort in einzelwoerter_set:\n",
    "    print(wort)\n"
   ]
  },
  {
   "cell_type": "code",
   "execution_count": null,
   "metadata": {},
   "outputs": [],
   "source": [
    "len(einzelwoerter_set)"
   ]
  },
  {
   "cell_type": "markdown",
   "metadata": {},
   "source": [
    "### Kompositatrennung mit german_compound_splitter"
   ]
  },
  {
   "cell_type": "code",
   "execution_count": 28,
   "metadata": {},
   "outputs": [
    {
     "name": "stdout",
     "output_type": "stream",
     "text": [
      "Loading data file - /Users/br/Projects/Bachelorarbeit/data/german.dic\n"
     ]
    },
    {
     "name": "stderr",
     "output_type": "stream",
     "text": [
      "204832it [00:04, 44217.88it/s]"
     ]
    },
    {
     "name": "stdout",
     "output_type": "stream",
     "text": [
      "73395\n"
     ]
    },
    {
     "name": "stderr",
     "output_type": "stream",
     "text": [
      "\n"
     ]
    }
   ],
   "source": [
    "from german_compound_splitter import comp_split\n",
    "from tqdm import tqdm\n",
    "\n",
    "einzelwoerter_set = set()\n",
    "dateipfad = os.path.join(DATA_PATH, \"vocabulary.txt\")\n",
    "input_file = os.path.join(DATA_PATH, \"german.dic\")\n",
    "ahocs = comp_split.read_dictionary_from_file(input_file)\n",
    "\n",
    "def is_number(string):\n",
    "    try:\n",
    "        float(string)\n",
    "        return True\n",
    "    except ValueError:\n",
    "        return False\n",
    "    \n",
    "\n",
    "with open(dateipfad, 'r', encoding='utf-8') as datei:\n",
    "\n",
    "    for zeile in tqdm(datei):\n",
    "        wort = zeile.strip()\n",
    "        if is_number(wort):\n",
    "            continue\n",
    "        try:\n",
    "            dissection = comp_split.dissect(wort, ahocs, make_singular=True)\n",
    "        except:\n",
    "            dissection = \"\"\n",
    "        for split_word in dissection:\n",
    "            einzelwoerter_set.add(split_word)\n",
    "\n",
    "print(len(einzelwoerter_set))\n",
    "# print(einzelwoerter_set)"
   ]
  },
  {
   "cell_type": "code",
   "execution_count": 32,
   "metadata": {},
   "outputs": [],
   "source": [
    "einzelwoerter_set = sorted(einzelwoerter_set)"
   ]
  },
  {
   "cell_type": "code",
   "execution_count": 30,
   "metadata": {},
   "outputs": [],
   "source": [
    "def save_list_to_file(lst, file_path):\n",
    "    with open(file_path, 'w') as file:\n",
    "        for item in lst:\n",
    "            file.write(str(item) + '\\n')"
   ]
  },
  {
   "cell_type": "code",
   "execution_count": 33,
   "metadata": {},
   "outputs": [],
   "source": [
    "save_list_to_file(einzelwoerter_set, os.path.join(DATA_PATH, \"vocabulary_compound_split.txt\"))"
   ]
  },
  {
   "cell_type": "markdown",
   "metadata": {},
   "source": [
    "### Demonstration: Suche mit Keywörtern"
   ]
  },
  {
   "cell_type": "code",
   "execution_count": 34,
   "metadata": {},
   "outputs": [],
   "source": [
    "df_lemmatized = db_get_df(\"sentences_lemmatized\")\n",
    "df_unlemmatized = db_get_df(\"transcript_sentences\")"
   ]
  },
  {
   "cell_type": "code",
   "execution_count": 37,
   "metadata": {},
   "outputs": [],
   "source": [
    "def get_occurences(df, word):\n",
    "    occurences = []\n",
    "    for sentence in tqdm(df[\"sentence\"]):\n",
    "        if word in sentence.lower():\n",
    "            occurences.append(sentence)\n",
    "    return occurences"
   ]
  },
  {
   "cell_type": "code",
   "execution_count": 38,
   "metadata": {},
   "outputs": [
    {
     "name": "stderr",
     "output_type": "stream",
     "text": [
      "  0%|          | 0/370224 [00:00<?, ?it/s]"
     ]
    },
    {
     "name": "stderr",
     "output_type": "stream",
     "text": [
      "100%|██████████| 370224/370224 [00:00<00:00, 584385.47it/s]\n",
      "100%|██████████| 370224/370224 [00:00<00:00, 646864.83it/s]"
     ]
    },
    {
     "name": "stdout",
     "output_type": "stream",
     "text": [
      "Occurences Lemmatized(90): ['Nach der Ernte bringen wir die Blüten in die Kosmetikfabrik, wo sie zu Rosenöl, Parfüm, Seife oder Shampoo verarbeitet werden.', 'In der kleinen Stadt Amberg in der Oberpfalz drängen sich die Menschen vor dem örtlichen Seifengeschäft.', 'Man kriegt das mit keiner Seife wieder ab.', 'Die Haut könne sich selbst reinigen und sei auf Unterstützung durch Wasser und Seife nicht angewiesen.', 'Also für die meisten Menschen, die eine gesunde Haut haben und eine Bürotätigkeit aus, für nicht sehr intensiven Sport betreiben, ist es ausreichend, wenn sie zwei bis drei Mal in der Woche duschen und an den anderen Tagen einfach nur die Achseln, die Intimenregionen, natürlich auch Hände und Füße wirklich mit Seife waschen.', 'Selbst wenn sie nicht viel schwitzen und auch nicht viel mit Schmutz und Staub zu tun haben, so greifen sie doch täglich zu Seife oder Duschgel und das am ganzen Körper.', 'Und zwar vor allem die verwendeten Seifen, Duschgels oder Badelotionen.', 'Weil wir durch den Kontakt mit Wasser alleine, aber besonders auch noch verstärkt durch Anwendung von Seifen, Fette aus unserer Haut, natürliche Fette herauswaschen und auch den natürlichen Säureschutzmantel der Haut aus dem Gleichgewicht bringen.', 'Und zwar, dass man statt einer soliden Seife lieber eine Flüssigseife auswählt.', 'Die sind meistens milder, dass man auf den pH -Wert der Seife so ein bisschen achtet.', 'Nicht nur in Küche und Bad, sondern nutzen beispielsweise täglich desinfektionshaltige Seifen, weil sie meinen, nur so gegen Krankheitserreger gefallt zu sein.', 'Intimwaschlösungen, ja also da muss man auch sagen, also die tägliche Reinigung der Intimregion mit einer Wildenseife und Waschlappen ist ausreichend.', 'Nicht so wirklich gesund, das tägliche Duschen mit einseifen, ein Radio Wissen von Daniela Rimus.', 'So trägt die Soap Opera bis heute ihren Namen, weil die Endlosserien damals von der Seifenindustrie gesponsert werden, die ihre Produkte bei der amerikanischen Hausfrau bekannt macht.', 'Der Modernisierungseifer geht einigen hohen Beamten zu weit.', 'Manfred Kaib musste die Windschutzscheibe seines Geländewagens nach so einem Hochzeitsflug oft mühevoll mit Seife abwaschen.', 'Knochen waren damals sehr wertvoll für die Seifenherstellung.', 'Ein Leben in Armut wurde zwar durchaus toleriert, um ein tugendhaftes Leben führen zu können, aber mit dem biblischen Gleichnis von den Talenten oder mit dem Leitspruch ora et labora ließ sich auch ein wenig für Arbeitseifer argumentieren, etwa in den Klöstern.', 'So wie er, Sohn eines Seifenmachers, könne jeder den sozialen Aufstieg schaffen, wenn man nur genügend Arbeitsmoral zeige.', 'In allem ist Sand in unseren Reinigungsmitteln, in Seifen.', 'radio wissen die ganze welt des wissens ein podcast von bayern 2 radio wissen heute geht es um eine schweizer schriftstellerin die kaum jemand kennt obwohl sie einzigartige prosatexte geschrieben hat und von literaturkritikern in eine reihe mit berühmten autoren wie franz oder robert walser gestellt wird ihr name adelheit duvannel basel im jahr 1985 friederike kretzen eine junge aus dem rheinland stammen der autorin nimmt hier zum ersten mal an einem literarischen salon teil ich war eingeladen meine neuen kleinen texte vorzustellen für friederike kretzen wird es ein ganz besonderer abend nach ihr ist nämlich die basler adelheit duvannel an der reihe eine knapp 50 jährige frau die aus einer anderen welt zu kommen scheint sie sah es wie ich das dann nachher sehr oft bei ihr erlebt habe sie saß mit gebeugtem kopf so ganz an sich gehalten auf dem sofa die schriftstellerin adelheit duvannel fiel auf und aus dem rahmen auch zehn jahre später bei einer lesung an der basler uni so die literaturwissenschaftlerin elsbett dangel pelucca sie saß wie so ein fremdkörper da dann guckte sie manchmal so durch ihre brille ins publikum ein bisschen verhuscht ein bisschen erschreckt sobald aber adelheit duvannel zu lesen beginnt ist sie im raum total präsent friederike kretzen zieht es förmlich den boden unter den füßen weg man hat gesagt jetzt bist du dran adelheit und hat sie ihren kleinen text rausgeholt und wie ein schock hat mich das getroffen was sie gelesen hat ich fand das so unglaublich ihre große kunst mit zwei drei setzen in eine situation zu führen wo man denkt das halte ich nicht aus auch an der basler uni wirkte das publikum wie gebannt während adelheit duvannel ihre kurzen erzählungen vortrug verbreitete sich eine absurd anmutende stimmung wir hatten den eindruck die hätte magische kräfte denn sie liest gerade von einer klingel in dem moment klingel die universitätsklingel kurz darauf liest sie was von wasser und zwar genau in dem moment als malte füßt ja sie damals eingeführt hat ihr ein glas wasser bringen dass sie das auch gestimmt hätte und so sind ja auch ihre texte die haben ja magische elemente da gibt es zum beispiel diese frau deren aufgedunstenes sicht nicht rot oder weiß ist sondern blau diese frau die sich umbringen will im herbst 1987 las adelheit duvannel einige ihrer geschichten für die schweizer rundfunkgesellschaft unter anderem die erzählung selbstmord sie öffnete die haustür und ranze barfuß im zigzag zum bahnhof wo sie eine fahrkarte in die nächste stadt löste im zug schloss sie sich in der toilette ein und zog unter dem fließenden kalten wasser nachdem sie die finger mit seife eingeschmiert hatte ihre vier ringe von den fingern sie steckte sie in ihren geldbeutel und warf diesen in die toilette was war denn das für ein ritual warum bloß steckte die frau ihre ringe in den geldbeutel bevor sie beides zusammen herunterspülte dieses detail bringt die junge friederike kretzen bei ihrer ersten begegnung mit adelheit duvannels teksten so durcheinander dass sie sich an der sitzfläche ihres stuhls festhalten muss so sah sich da auf diesem stuhl und habe die anderen angeguckt und dachte irgendwas stimmt nicht aber alle schienen das schon zu kennen war halt die adelheit dann hat sie diese geschichte zu ende gelesen und hat nichts dazu gesagt und es war eigentlich schweigen und dann hat der nächste oder die nächste weiter gelesen und dann musste sie um zehn gehen weil sie rechtzeitig noch zurück in die psychiatrie musste adelheit duvannel litt an engsten und depressionen aber die klinische diagnose interessiert ihre wunderinnen nicht friederike kretzen und elsbett dangel perlokin haben 2021 sämtliche erzählungen adelheit duvannels neu herausgebracht der fast 800 seiten starke band mit dem titel fern von hier soll der meisterin der kurzen form endlich den ihr gebührenden platz in der schweizer literatur einräumen unser interesse war sie vom wahnsinn weg zu holen das war ganz ganz wichtig denn es mag ja sein dass ihr schreiben und ihr krank sein oder was heißt ihr krank sein ihre psychische besonderheit deutlich miteinander zusammenhängen das denke ich ja auch aber das heißt ja nicht dass die qualität ihres schreibens in irgendeiner weise in diese richtung gehört krank sind viele aber so schreiben wie duvannel tun eben nicht viele und das ist der entscheidende unterschied der sammelband mit den rund 251 erregte dann auch überraschend viel aufsehen bei der literaturkritik aber was ist in zehn jahren wird sie bleiben da muss man schon seine frage zeichnen setzen und das ist eine sache des literaturmarktes der so schnell immer nach neuem greift adelheit duvannel kam am 23 april 1936 in pratteln einem kleinen ort bei basel zur welt sie wuchs in einer wie man so sagt gutbürgerlichen familie mit drei geschwistern auf einerseits förderten die eltern das künstlerisch begabte mädchen das ausdrucksstarke bilder malte andererseits schützten sie die junge adel nicht vor kummer und leid ein umzug und ein jahr im katholischen internat verstörten sie tief von den übergriffen des vaters nicht zu schweigen es gibt eben auch einen text wo sie sagt meine kindheit ist eine unscheinbare kleine kiste wenn man sie öffnet explodiert sie adelheit duvannel wusste dass sie verschlossen wirkte schon früh fühlte sie sich fremd in der welt die ihr nicht gewogen zu sein schien in dem text ein ganz gewöhnlicher waschtag erzählt die schweizerin warum sie sich vor allem auf schreiben verlegte auf das malen mit worten wobei sie das bilder malen nicht da schreibt sie davon dass sie eigentlich auf die kunsthochschule gehen wollte um malen zu lernen und dann haben ihr die lehrer geschrieben man könne sie nicht aufnehmen nicht weil sie kein talent hätte sondern wegen ihres charakters also da sagt sie ja etwas von erfahrungen von beurteilungskriterien die eigentlich im grunde kriterien der zurichtung sind und dass sie eben trotzdem schreibt dass sie trotzdem malt und was heißt trotzdem gerade wegen ihres charakters schreibt sie so und wegen ihres charakters hat sie diese großartige fähigkeit uns zeugnis zu geben von eigenwilligen eigenständigen widerständigen leben da ist zum beispiel ernesto mit der schmutzigen brille der die welt nur verschwommen sieht was ihm aber recht ist adelheit duvanelles meist wenige drucksaiten lange texte handeln von außenseitern und eigenbrötlerinnen sie blickt hinter die façaden der sauber geputzten schweiz in schäbige mietwohnungen und dreckige hinterhöfe hinein zeigt die hässlichen billigen möbel den defekten ölofen zeigt einsamkeit kälte und angst sie holt menschen vom rand der gesellschaft ins zentrum ihrer texte ihr vater hat ja zu ihrer empörung immer gesagt die adel schreibt schichtli und das fahren sie zurecht einfach keinen ausdruck für ihre literarische tätigkeit sind kurze erzählung die ein unglaubliches personal an figuren auftreten lassen das ist so reich bevölkert wenn die mal zusammenzählen würde wie viele figuren in einem band vorkommt dann hätte man wirklich ein richtig großes figuren ensemble adelheit duvanelles erzählerisches werk wirkt zusammen genommen wie ein großes romanhaftes gebilde in dem immer neue figuren auftauchen manche verschwinden andere kehren wieder es sind kleine angestellte oder möchte gern künstler trinker und drogensüchtige geschlagene oder verlassene frauen männer in vermüllten zimmern vernachlässigte kinder kurz gefährdete oder verkrachte existenzen keine helden figuren die haben ja auch diese aller welts namen die heißen marcel und gris da und marita und so weiter aber das ist eigentlich wirklich toll wie die geschichten dann doch immer wieder einzel existenzen hervorheben also einmal geht einer ihrer protagonisten auf der straße spazieren und sieht dort gesichter jedes in einzel anfertigung und dieses zitat finde ich passt wunderbar oft über netz schreiben da gibt es selbst mörderinnen wie die blau gesichtige frau oder physisch versehrte menschen wie den halbblinden herrn weinwisch den der arzt keine künstliche linse einsetzen kann sie bezeugt die existenz dieser menschen oder einer der nur ein auge hat also es gibt sie und wir werden im grunde dazu gebracht sie uns anzuschauen was sie wirklich umwerfen die sind ihre anfänge also wie sie in diese geschichten hineinkommen wie sie da eine welt öffnet eine überraschende verblüffende das ist schon richtig großartig adelheit duvannel charakterisiert ihre figuren mit wenigen prägnanten setzen so im text gnadenfrist norma die schön wie eine vase ist die fallen gelassen werden möchte oder stephanie in der gleichnamigen erzählung die wird so beschrieben sie hat ein hasengesicht und geschwollene beine in lakonischem ton berichtet adelheit von ihren figuren die ganz eigenen spielregeln zu folgen scheinen sie treten hinaus auf die straße beobachten andere menschen klopfen an türen schleichen um ecken trinken alkohol sie zittern oder gähnen oder reden mit vollem mund duvannel lässt die alltagsgeschichten ihrer christas norberts und maritas gern ins lapstick haften wendungen eskalieren ohne dass immerzu dramatisches passiert man könnte was sagen die setze selber stolpern über sich und treiben sich an und so kommt in gewisser weise eine szene nach der anderen ein einfall nach dem anderen es wirkt kafka esk erinnert also an den stil franz kafkas wenn duvannel in burlesken ruckartigen wendungen zeigt wie eingeengt und beschränkt das leben ihre figuren letztlich ist man denkt jetzt fing es doch gerade damit an wieso ist jetzt plötzlich vom park dreht und jetzt von einem baum und jetzt wieder vom fernseher das ist die erzählung christa zum beispiel aber erstens gibt es mehr zusammenhänge zwischen diesen völlig disparaten abschnitten als man denkt zum anderen sind aber diese lücken auch ganz wichtig in der lücke zwischen baum und fernseher deutet sich an was die figuren vor der außenwelt verbergen ihre träume sehnsüchte und fantasien adelheit duvannel nahm das außen als eine welt der enttäuschung war als armselig im vergleich zu ihrem reichen innenleben doch wer sich äußert begibt sich in gefahr schreibt sie einmal mit den metaphern die sie für die emotionen ihrer mehr oder weniger verschrobenen gestalten findet schlägt sie originelle was eigentlich ja das a und o einer metaphorik ist das seelische oder geistige vorgänge ins materielle übersetzt werden ins konkrete das da ist sie ganz groß etwa angst irgend so ein musikkritiker sitzt im konzert und hat furchtbar angst für diese pianistin die da oben spielt so ein junges mädchen und da hängt ihm die angst wie so ein ein stück stoff das in die schublade eingeklemmt ist manchmal rutscht das bild das duvannel entwirft satz für satz ins seriale manchmal verschiebt sich ein geschehen ins nichts löst sich im nebel auf oder im schweigen im schlaf oder einer stirbt blitzlichthaft leuchten details auf an sich banale details die den figuren aber offenbar mehr bedeuten als außenstehende ahnen können wie ida ihr blonder pferdeschwanz der in duvannels erzählung auf der insel die symbolkraft eines verlorenen rettungsankers erhält anders als alles andere was idas kopf entsprang war er nämlich gesellschaftlich akzeptiert adelheit duvannel las die erzählung auf der insel ebenfalls 1987 für die schweizer rundfunkgesellschaft als ida als junges mädchen in einer psychiatrischen klinik war brachte ihre mutter sie zum coiffeur der ihren hellblonden pferdeschweif abschnitt der pferdeschweif war das einzige was mich mit der außenwelt verbannt erzählte ida den pianisten bigassos modell hatte einen solchen pferdeschweif im grunde kann man sagen hätte sie diese geschichten nicht geschrieben wäre sie im leben eigentlich diese figur ihrer geschichten gewesen also eigentlich alle figuren ihrer geschichten das schreiben als ausweg mit 16 jahren hatte sie versucht sich umzubringen mit 16 17 ist sie schon in die psychiatrie gekommen und ist richtig übel behandelt worden mit elektroschocks und auch insulinschocks also schrecklich 1962 heiratete sie dann den maler josef duvannel zwei jahre später kam ihre tochter zur welt das von alkohol und drogenkonsum geprägte ehe leben komplizierte sich als der mann seine geliebte mit nach aber adelheit duvannel ertrug alle demütigungen es dauerte jahre bis sie sich scheiden ließ auch ihre figuren schlagen sich mit beziehungsproblemen herum sie hegen heimliche verliebtheiten und schließen wenn überhaupt nur zögernd freundschaft easy door etwa benutzt sein telefon nur ein einziges mal um dann in den höher zu schweigen das ist ihr thema diese große anstrengung aus dieser einsamkeit herauszukommen und eine beziehung zu bekommen einerseits bei einer unendlichen bedürftigkeit dieser personen und zum anderen aber bei dieser großen schwierigkeit irgendeinen anderen zu erreichen und die anderen sind dann oft genau solche personen zwischen duvannels schrägen figuren ergeben sich oft missverhältnisse oder missverständnisse willy bald muss gähnen während er jolanda gesteht dass er angst vor der hochzeit hat was seine aussage jede ernsthaftigkeit nimmt der trockene witz der autoren tritt besonders in erscheinung wenn es um ärzte oder psychiater geht einmal sieht so ein altes männchen in so einem orensessel und ruft auf alles was die patientin erzählt hier ist es gott wie schrecklich und solche szenen kommen immer wieder vor und vor allem jetzt gibt auch viele psychiatrie geschichten die in der psychiatrie handeln der zug der depressiven die ziehen dadurch die psychiatrie und weinen sie hat natürlich viel erfahrung gemacht mit der hilflosigkeit von therapeuten und mit der unzulänglichkeit mit diesen krankheiten fertig zu werden von heilung oder integration kann keine rede sein die komik in duvannels geschichten enthält wohl eine gute prise galgenhumor denn die distanz zur außenwelt scheint letztlich unüberbrückbar zu sein bei einer live veranstaltung des damaligen südwestfunks am 4 .11', 'Annegret Grimm -Seifert ist Biologin am Leipziger Helmholtz -Zentrum für Umweltforschung.', 'Professorin Wannadin Seifert -Klaus ist Leiterin der Gynäkologischen Endokrinologie am Klinikum Rechts der ISA in München.', 'Professorin Warnadine Seifert -Klaus vom Klinikum rechts der Isar in München weiß, was einen Benefit haben kann.', 'Und das geht selbst Ärztinnen wie Wannadin Seifert -Klaus noch so.', 'In den indischen oder afrikanischen Slums, in den Flüchtlingslagern der Welt, ist soziale Distanz in etwa so rar wie ein Stück Seife.', 'Man hat Gold in den Bächen und Flüssen gesucht und hat sogenannte Goldseifen angelegt, wo man also nach Gold gewaschen hat.', 'Ein Teil davon wird später von der Verwitterung ausgewaschen, sinkt hinunter und sammelt sich in sogenannten Reich -Erz -Zonen knapp über dem Grundwasserspiegel, um dann als Seifengold in die Flüsse gespült zu werden.', 'Auf einer Strommatte liegt eine Seifenschachtel aus Pappe, die Mark italienisch, Schrift und Motiv aus den 50er Jahren.', 'Insofern, meint Peter Seifert, zeichnet dieser Roman keine starre Ordnung und unterscheidet sich auch dadurch von den autoritären Utopien.', 'Jahrhunderts reichte die zur Verfügung stehende Menge nicht mehr aus um der steigenden Nachfrage gerecht zu werden Mehr und mehr wurde Lavendel nun systematisch und in großen Mengen angebaut Vor allem die Meister -Parfümöre aus der südfranzösischen Stadt Gras interessierten sich für die wohlriechende Pflanze Bevor Gras zum Zentrum der Parfümindustrie wurde Es gab dort vor allem Leder und das hatte einen entscheidenden Nachteil Es roch sehr schlecht Eines Tages hat man einige Tropfen ätherisches Öl auf das Leder gegeben und festgestellt dass es dadurch angenehm riecht Von da an hat man damit begonnen mit Lavendel parfümierte Handschuhe herzustellen und die eleganten Damen waren hingerissen So entwickelte sich die Parfümindustrie in Gras immer weiter und die Parfümöre schickten Makler um die Lavendelpreise auszuhandeln Heute ist der Lavendel das Symbol der Provence Zur Erntezeit feiern die Dörfer in den Anbaugebieten Lavendelfeste Die violettfarbene Pflanze hat einen festen Platz in der Kultur der Provenzalen Die Lavendelbäuerin und Botanikerin Catherine Liardet Catherine züchtet in ihrer Freizeit rund 200 Lavendelarten aus der ganzen Welt und präsentiert sie in ihrem Garten in Seau in der Nähe des Mont Ventoux Ihr Ziel ist es, die biologische Vielfalt der Pflanze zu erhalten Die Produktivität, die sonst beim Lavendelanbau meist im Vordergrund steht, ist für die Botanikerin weniger von Interesse Hier haben wir die Lanata mit sehr weichen Blättern und einer sehr schönen Blüte in blass -lila, grau und ins Violett übergehend aus dem Mittelmeerraum stammend Daneben stehen zwei Varianten der Sorte Dentata eine mit grauen Blättern und eine mit grünen Blättern und aus diesen können sich wiederum andere Hybride ergeben mit verschiedenen Farbkombinationen Normalerweise ist die Blüte blass -rose aber es gibt auch weiße und rosa Farben Die einzelnen Lavendelarten unterscheiden sich jeweils durch ihre Blätter, ihre Blüten und auch durch ihren Duft Im Mittelmeerraum riecht der Lavendel blumig und frisch Er kann aber auch überraschenderweise an Minze, Zitrone, Rosmarin oder Thymian erinnern Dabei muss man vor allem zwischen zwei Pflanzengruppen unterscheiden dem sogenannten echten oder auch feinen Lavendel mit der botanischen Bezeichnung Lavandula angustifolia und dem Lavandin, einer Kreuzung die entweder auf natürliche Weise entsteht oder bewusst gezüchtet wird Der echte Lavendel wächst erst ab einer Höhe von 800 Metern Er ist wegen seines erfrischend zarten und süßlichen Geruchs bei den Parfümherstellern sehr begehrt und hat therapeutische Eigenschaften als Heilpflanze So wirkt er unter anderem beruhigend und krampflösend und hilft beispielsweise bei Magenkrämpfen und Nervosität Auch deshalb wird der Lavendel das blaue Gold der Region genannt Bei der Sorte Lavandin handelt es sich um eine Kreuzung von echtem Lavendel und sogenanntem Speiklavendel Sie ist steril, wächst in tieferen Lagen und wird durch Stecklinge vermehrt Durch den starken Gehalt an Kampfer riecht Lavandin intensiver und wird daher vor allem in der Industrie als Duftstoff für Reinigungs - und Pflegemittel verwendet oder aber in den berühmten Duftsäckchen und Seifen Der Leiter des Regionalen Forschungszentrums für Aroma - und Medizinpflanzen in Manosque, Eric Ches, verfolgt seit Jahren die Statistiken über den Anbau der verschiedenen Lavendelarten in Frankreich Lavendel wird seit Jahrtausenden genutzt Der Lavendin ist viel später dazugekommen Erst in den 30er Jahren wurde damit begonnen, ihn anzubauen Er hat sich vor allem seit 1945 -50 entwickelt und seitdem immer mehr an Bedeutung gewonnen Der echte Lavendel dagegen erlebte den Höhepunkt seiner Beliebtheit in den 80er Jahren Da wurden so um die 200 Tonnen ätherisches Öl hergestellt Danach nahm die Produktion stark ab Einfach weil es dann Konkurrenz gab Als in den 60er Jahren auch die Bulgaren mit dem Lavendelanbau angefangen haben Der echte Lavendel ist kleinwüchsig und hat pro Stängel nur eine Blüte Dagegen besitzt der größere Lavendin mehrere Verästelungen mit Blüten und ergibt bei der Destillation etwa dreimal so viel ätherisches Öl wie der echte Lavendel Wegen des Ertrags, aber auch weil der Lavendin in niedrigeren Lagen wächst, wird er in Südfrankreich auf einer Fläche von insgesamt 16 .000', 'Auch das Einseifen des gesamten Körpers oder des Gesichts sollte man komplett verzichten bzw.', 'auf seifenfreie oder pH -hautneutrale Waschsubstanzen zurückgreifen.', 'Ich bezichtige sie der Gottlosigkeit und hetze somit die rückhaltlosen Glaubenseiferer gegen sie auf, die, ohne die Ursachen zu kennen, öffentlich über sie herziehen werden, sie mit Schimpf überhäufen und von ihrer eigenen Warte aus hochherzig verdammen werden.', 'Dann würden die kleinen Reifeisengenossenschaften platzen wie Seifenblasen und sämtliche Mitglieder, die ja mit ihrem gesamten Vermögen haften, wären ruiniert.', 'In dem Reaktor wird ein Desinfektionsmittel für medizinische Seifen hergestellt.', 'In seiner Autobiografie Erinnerung Sprich schreibt er Piers Seife.', 'Vanadin Seifert -Klaus ist Professorin und leitende Oberärztin der Gynäkologischen Endokrinologie am Uniklinikum rechts der Isar in München.', 'Der Vorgang des Eisprungs selbst gibt Forschenden im Detail nach wie vor Rätsel auf, erklärt Wannadin Seifert -Klaus.', 'Hormonfachfrau Seifert -Klaus? Frauen sind zyklische Wesen durch diese Biologie und natürlich in einer Leistungsgesellschaft passt nicht alles, was damit einhergeht, in die Zeit.', 'Die Freiheit, auch auf den Körper zu hören und je nach Zyklusphase mal voller Energie und strahlend präsent zu sein oder während der Menstruation auch eine Pause zu machen, wenn nötig, dazu passt der Trend, den Seifert -Klaus wahrnimmt, dass nämlich mehr junge Frauen als früher nicht mehr so selbstverständlich die Pille zur Verhütung schlucken wollen.', 'Das heißt, es kann sowohl sauer wie eine Säure oder auch basisch, also wie eine Seifenlösung, reagieren und damit einen sehr großen Bereich des pH -Wertes, mit dem wir diese Stärke der Säure oder Base messen, überstreichen.', 'Ein Parfarmhäuser, eine Baptistenkirche, eine Seifenfabrik.', 'Bettwäsche, Strohsäcke, Essgeschirr, Verbandsmaterial, Stühle, Bänke, Betten, Schränke, Hemden, Eimer, Unterhosen, Socken, Scheren, Kämme, Handtücher, Entlausungsmittel, Seife, OP -Tische, Nachtgeschirr, Zinkwannen, Scheuerbürsten.', 'Auch Shampoo gibt es in fester Form, Seife sowieso und inzwischen sogar Putzmittel als Tablette.', 'In allem ist Sand in unseren Reinigungsmitteln, in Seifen.', 'So taucht etwa ein Herr von Seifenblase und eine Jungfahrehaar auf.', 'Ammoniak entwickelt in Verbindung mit Fett eine Seifenwirkung.', 'Man buch Brot und schlug Butter, es wurde geschlachtet, geräuchert und gepökelt, Wurst und Marmelade gekocht, man kälterte womöglich eigenen Wein, auch Kerzen wurden gezogen, Flachs zum Spinnen bearbeitet, Seife gekocht.', 'Niemand musste mehr Butter stampfen oder Seife kochen.', 'Wenn ich einen Seifendiamant finde, also wirklich so einen Diamant Klumpen, mit keiner perfekten Form, dann wäre das Diamant als Mineral.', 'Als eine Bewohnerin Gaudí fragte, wo sie ihren Flügel hinstellen sollte, antwortete er, Warum lernen Sie nicht Geige? Die letzten Jahre widmete Gaudí mit fieberhaftem Arbeitseifer nur noch der Sagrada Familia.', 'Sagt Wannadin Seifert -Klaus.', 'Darum wird die Endometriose auch als das Chamäleon der Gynäkologie bezeichnet, erklärt Gynäkologin Wannadin Seifert -Klaus.', 'Das bezeichnen Medizinerinnen wie Wannadine Seifert -Klaus als Retrograde -Menstruation.', 'Es gab Pralinen Anna Pavlova oder Parfum Pavlova, eine Seife.', 'Wozu die Mühe? Warum steckt ein kleines Land wie Portugal so viel Geld und Ausdauer in beschwerliche Entdeckungsfahrten mit unsicherem Ausgang? Aus Wissbegier und Missionierungseifer? Maximilian Carlos hat die Strukturen und Akteure des Orienthandels der frühen Neuzeit erforscht und hält ein anderes Motiv für ausschlaggebend.', 'Und der Mensch? Dort, wo er Trinkwasser aus dem Hahn, eine Kanalisation und eine Gelegenheit hat, sich die Hände mit Seife zu waschen, braucht er seinen Wurmfortsatz nicht mehr ganz so dringend.', 'Die Konzentration der Seife hatte zum Effekt die Abtötung der Frucht, der Abort durch Verätzen.', 'Vom protestantisch -puritanischen Arbeitseifer im Norden hinab zum leichten katholischen laissez -faire im Süden.', 'Das ist ein Seifenbildchen.', 'Nicht ohne Stolz führt Bibliothekarin Helga Seifert Besucher durch das kleine Archiv unterm Dach des Pathologischen Instituts in Würzburg.', 'Hier ist Lilith Adams Gefährtin, eine leichte, mit Sternen wie mit Seifenblasen spielende, die den erdenschweren Adam zu schöpferischem Tun anspornt.', 'Der kundigste, unermüdliche und schärfste Kritiker des Gesetzgebungsverfahrens von Anfang an, der Jurist und Politologie -Professor Jürgen Seifert, zog 1998, 30 Jahre nach der Verabschiedung, das Resümee So schlimm ist es nicht gekommen, weil den Notstandsgesetzen die größten Giftsäne schon vor ihrer Verabschiedung gezogen wurden.', 'Und wenn sich die Harzsammler die Finger verkleben, können sie mit Wasser und Seife nicht viel ausrichten.', 'Der Wissenschaftler verbrachte insgesamt zwei Jahre in Brasilien und liebte vor allem die Lianen aus der Familie der Sapindacean, der Seifenbaumgewächse.', 'Die Seifenbaumgewächse haben wunderschöne Anordnungen in ihren Sprossen und Stämmen.', 'Doch diese Seifenbaumgewächs Liane hat innen Holz, dann Rinde, dann wieder Holz, dann Rinde.', 'Das Pflaumenmus stark grünspanhaltig, im Essig Würmer ohne Zahl, in Seife schmutzgar mannigfaltig.', 'einem europaweit bedeutenden forschungsstandort sie zierten was das zeug hielt und ausgerechnet diese halbgötter sollen nun den tod in den kreißsaal getragen haben anna durnova da weigert sich die zunft da weigert sich die ärzteschaft ganz logisch weil die verantwortung damit verbunden ist und selbst semmelweis in seinen eigenen reflektionen darüber sagt auch in seinem tagebuch dass in dem moment wo er erkannt hat wo die gefahr liegt war einerseits freude da dass er endlich dieses rätsel lösen kann gleichzeitig aber auch dieses bangigkeits gefühlt und angst dass er eigentlich auch durch sein handeln die jahre davor frauen in den tod geschickt hat die ärzte selbst sollen schuld sein der widerstand der fachwelt gegen ignat semmelweis und seine erkenntnisse war massiv internationale meinungsführer der medizin wie der pathologe rudolf virchow verwarfen semmelweis thesen im akh fand er zwar in dem pathologen roketanski dem dermatologen skoda und dem internisten hebra unterstützer in seinem fachgebiet der gebotshilfe stieß semmelweis jedoch auf ablehnung dort hing man weiter einer epidemienlehre an nach der volkskrankheiten und seuchen von umweltfaktoren hervorgerufen würden und in einem werk zur behandlung des kindbettfiebers führten ignat semmelweis wissenschaftliche widersacher 20 faktoren auf die den ausbruch des pur peralfiebers zumindest mit verursachen würden unter den fachleuten grassierten verschiedenste erklärungen von umweltfaktoren bis zu den umständen der werdenden mütter wie etwa dem ausbleiben der menstruation oder einem milchstau und da ist es interessant sich anzuschauen welche theorien sich durchsetzen kurz gesagt sind das nämlich jene die innerhalb des damaligen alltagsszene machen also die frauenstaben am kindbett wird es vermutlich mit dem frauenkörper und mit der schwangerschaft zu tun haben eine der verbreiteten theorien ist demnach dass wenn der uterus zu viel anstrengung bekommt dann kann es passieren dass nach der geburt dieses fieber kommt auf den ersten blick schien diese theorie plausibel die meisten frauen die in der wiener geburtsklinik das kindbettfieber bekamen hatten noch während der schwangerschaft hart gearbeitet allerdings es gab ja auf dieser akh station fast nur solche patientinnen aus dem arbeitermilieu also auch die gebärenden der hebammenstation stammten aus diesem milieu und trotzdem starben dort sehr viel weniger frauen an dem kindbettfieber ignaz semmelweis folgte einer anderen spur der übertragung von krankheitserregern durch die ärzte doch der zusammenhang zwischen bakterien und krankheiten war semmelweis und seinen zeitgenossen noch nicht bekannt erst robert koch sollte dieser mikrobiologische nachweis gelingen 30 jahre nach der beobachtung eines zusammenhangs von handhygiene und kindbettfieber durch ignaz semmelweis er hat von leichengift oder leichenbestandteilen zersetzten im stoff gesprochen erklärt der regensburger professor wolf schneider er hatte schon die ärzte und die medizinstudien in verdacht und er hat gedacht okay irgendwas an der leiche hier bringen wir mit auf die station in den geburtskanal und das ist das leichengift und deshalb müssen die hände gereinigt werden also im prinzip war der standard das hände waschen mit seife es gab zu jener zeit bereits ein mindestmaß an hygienevorschriften aber die reichten eben nicht aus zuerst seziert man die leiche dann wäscht man sich die hände mit seife anschließend ist man geburtshelfer dokter charlotte deppe die an der münchner frauen klinik der lmu als oberärztin arbeitet kann heute angesichts der hygienischen zustände im 19 jahrhundert nur den kopf schütteln wenn man abbildungen sieht aus der zeit und man sieht dass menschen obduktionen also leichenöffnung mit den bloßen händen gemacht haben und geburten natürlich auch dann gruselt es einem jetzt mit dem heutigen verständnis schon also ich persönlich kriege da schon so ein bisschen stehende nackenhaar und freue mich dass ich da nicht so arbeiten musste wir haben ja den ganz großen vorteil dass wir heute neben seife des infektionsmittel überall verfügbar haben dass wir handschuhe haben die wir wechseln können wobei die handschuhe nur die grobe verunreinigung abwehren können semmel weiß erkannte das was er als gift identifizierte am geruch dieser geruch nach dem sezieren ließ oft auch nach mehrmaligem waschen der hände mit seife nicht nach doch wie konnte man ihn und mit ihm das gefährliche leichen giftlos werden klor kalk schien eine naheliegende lösung im allgemeinen krankenhaus wurde der stoff bereits zur der wäsche verwendet semmel weiß verpflichtete die mitarbeiter in seiner abteilung für dahin die hände zur desinfektion mindestens fünf minuten lang in eine klor kalk lösung zu halten die nicht nur schmutz entfernte sondern auch krankheitserreger abtötete professor wolf schneider also klor kalk oder klor lösungen in der konzentration wie sie damals angewendet wurden sind noch effektiver als der alkohol den wir heute benutzen diese alkoholischen desinfektionsmischungen und dies natürlich nicht besonders artfreundlich das heißt die hände sind dann schon recht angegriffen und das war auch das hauptproblem der akzeptanz bei den zeitgenossen dass jeder das für zeitverschwendung hielt weil er einfach das prinzip dahinter nicht verstand zudem war ignaz semmel weiß seinem biografen alfred heger zufolge alles andere als ein einfacher mensch heger beschreibt ihn als entschieden auftreten da wo er eine denkungsart bemerkt zu haben glaubte und weiter er brach dann sofort selbst mit denen ab welche ihm sonst nahe gestanden hatten der junge assistenzarzt wurde opfer von anfeindungen von intrigen eine massive kränkung dürfte gewesen sein dass ranghöhere mediziner die verlängerung seines arbeitsvertrags verhinderten sein ehemaliger chef johann klein hintertrieb zunächst dass semmel weiß seine tesen der wiener ärzteschaft präsentieren durfte das ganze vorhaben stand unter keinem guten stern ein schwieriger charakter der sich in einen konflikt mit autoritäten verstrickte die ihrerseits in den dogmen ihrer zeit gefangen waren betont die wiener forscherin anna durnova auch wissenschaftliche fakten brauchen wenn sie so wollen einen institutionellen backup wer wird überhaupt als autorität gesehen hängt auch ein stück weit mit der gesellschaftlichen bedingungen und mit politischen bedingungen zusammen also die stimme war nicht laut genug um den alltag zu ändern das einmal war es war nicht so ein wichtiger oberarzt sondern nur assistent der war jetzt unbeliebt unter den kollegen statt des professoren titels bekam ignaz semmel weiß in wien nur eine privatdozenten stelle mit eingeschränkten befugnissen erboost kündigte er und zog im jahr 1851 zurück nach budapest dort eröffnete der mittlerweile 33 jährige eine privat praxis und arbeitete als leiter einer geburtshilfestation 1855 wurde semmel weiß doch noch zum professor für theoretische und praktische geburtshilfe an der heute nach ihm benannten universität von budapest ernannt semmel weiß heiratete bekam mit seiner frau fünf kinder in budapest fand er dennoch zeit sein werk über das kindbettfieber doch noch zu veröffentlichen sprachlich schwach und ungeschickt präsentiert die arbeit umfasste 500 seiten blieb seinem werk mit dem titel die etiologie der begriff und die lakse des kindbettfiebers der erfolg aber versagt es gibt ein lager der sagt semmel weiß hat folgende reiche fehler begangen in der verbreitung seiner wissenschaftlichen erkenntnisse hat so spät publiziert er hat dann ein großes zu großes werk publiziert dieses werk war auch unleserlich oder schwer leserlich das wären jetzt die erklärungen dafür dass sich seine theorie nur schwer durchsetzen konnte die anderen theorien sagen dass er zu schnell dann zu den emotionalen mitteln gegriffen hat nämlich dass er offene briefe an den vorstand von den europäischen kliniken und krankenhäusern geschrieben hat das morden muss aufhören und damit das morden aufhöre werde ich wache halten und ein jeder der es wagen wird gefährliche irrtümer über das kindbettfieber zu verbreiten wird an mir einen rührigen gegner finden für mich gibt es kein anderes mittel dem mordenein halt zu tun als die schonungslose entlarvung meiner gegner und niemand der das herz auf dem rechten fleck hat wird mich tadeln dass ich diese mittel ergreife schrieb er etwa an seinen widersacher josef spät zunehmend verbittert darüber dass die mehrheit der wissenschaftler seine tesen nach wie vor ablehnte veränderte sich ignaz semmel weiß charakter überall habe er feinde gewittert schreibt der österreichische wissenschaftsjournalist alvin schönberger episoden der apathie und antriebslosigkeit wechselten sich demnach ab mit phasen des jähzorns in denen er tobte fluchte und kollegen beschimpfte der pathologe hans bankel führt die fortschreitende persönlichkeitsveränderung auf eine syphilis zurück eine unterwissenschaftlern umstrittene these gesichert ist dass ignaz semmel weiß 1865 in die nervenheilanstalt döbling bei wien eingeliefert wurde wo er zwei wochen später im alter von 47 jahren unter ungeklärten umständen starb offiziell erlag er einer blutvergiftung doch bei einer obduktion von ignaz semmel weiß leiche im jahr 1936 stellten rechtsmediziner etliche brüche an händen armen und dem brustkorb fest dem us -amerikanischen semmel weiß biografen sherwin newland zufolge sollen pfleger ihn auf dem anstalzhof geschlagen haben und auf den patienten herum getrampelt sein es sollte noch jahre dauern bis sich ignaz semmel weiß erkenntnisse in den kliniken durchsetzten und dort wurde lange nicht dem wissenschaftler semmel weiß gehuldigt sondern nur seine handhygiene praktiziert wo vor allem in deutschland kliniken nacheinander diese maßnahmen einführen die semmel weiß vorschlägt aber nicht den semmel weiß quasi hervorheben sagen nicht ignaz semmel weiß hat recht viele ärzte führten die chlorwaschungen indes nicht sorgfältig durch und behaupteten dann die maßnahme bringen nichts erst in der medizinergeneration nach ignaz semmel weiß setzte sich seine praxis der handhygiene schließlich durch dies lag auch daran dass semmel weiß erkenntnisse erst nach dessen tod durch forscher wie louis pasteur joseph lister oder robert koch wissenschaftlich fundiert wurden heutzutage erfährt ignaz semmel weiß sowohl in der wissenschaft als auch in der umsetzung und weiterentwicklung seiner hygienemaßnahmen angemessene anerkennung an semmel weiß kommt man als arzt heute nicht mehr vorbei sagt alexander springer facharzt für kinder - und jugendchirurgie er arbeitet als assoziierter professor am wiener akh geht man in wien durch das akh kommt man an den porträts in öl auf leinwand vorbei und liest die großen namen billroth rocky tansky und auch ignaz semmel weiß das waren die pioniere in der medizin und kämpfer für den medizinischen fortschritt auch seine forschung baue auf der pionierarbeit von ignaz semmel weiß auf betont wolf schneider professor für krankenhaushygiene am universitätsklinikum regensburg und die moderne variante ist dass wir uns angucken können wenn zwei patienten einen gemeinsamen multiresistenten erreger haben ob die wirklich genetisch identisch sind oder nicht welche verschiedenen genetischen typen gibt es überhaupt im krankenhaus von bestimmten regern wie breiten die sich aus gibt es da quasi übertragungsketten die man rekonstruieren kann das ist aber natürlich schon das modell für fortgeschrittene jetzt hygiene 4 .0', 'Seifel zum Beispiel war rationiert und musste gegen teures Geld oder Marken eingetauscht werden.', 'Also wir stehen hier vor zart lila farbendem Seifenkraut.', 'Ein Beispiel ist das Seifenkraut, das im Garten der Naturschutzstation Malchow gerade blüht.', 'Das Seifenkraut hat 5 helle, zart lilafarbene Blütenblätter.', 'Viele nachtaktive Pflanzen wie das Seifenkraut oder auch der Ziertabak sind mit ihren länglichen Blütenformen perfekt auf die nächtlichen Besucher mit ihren langen Rüsseln abgestimmt.', 'das bereits erwähnte Seifenkraut, das einen leicht melkigen Duft verströmt.', 'Nach dem Training erhalten die Dromedare von Saif Vollwertkost, werden mit Seife gewaschen und mit Öl massiert.', 'Die suchten sich in ihrem eitlen Machtrausch gern gegenseitig an grimmigem Glaubenseifer und gnadenloser Menschenjagd zu übertreffen.', 'Für die Krone des Königreichs Böhmen hat Friedrich von der Pfalz alles aufs Spiel gesetzt und er sollte alles verlieren in der Schlacht am Weißen Die Seifenblase Ruhm und dann der Richter.', 'Es ist nicht belegt, dass dessen Erscheinen auf Anweisung Maximilians Geschah gesichert hingegen ist, dass Maximilian die Entsendung dieses für seinen Glaubenseifer und seinen Vater blieb an diesem Abend seinem Ruf nichts schuldig.', 'Die Ärztin Wannadin Seifert -Klaus leitet im Klinikum rechts der Isar in München das Osteoporosezentrum.', 'Die jungen Patientinnen bilden im Münchner Osteoporosezentrum von Wannerdin Seifert -Klaus einen Forschungsschwerpunkt.', 'Wenn sie etwas Indianisches sagten, kriegen sie Prügelstrafe oder ihren Mund mit Seife ausgewaschen.', 'Sie pflanzten Obst und Gemüse an und stellten ihre eigene Seife aus Lauge her.', 'Die Gründe? Seife und sauberes Wasser, gesünderes Essen und bessere Arbeitsbedingungen, steigender Wohlstand und natürlich der medizinische Fortschritt.', 'Die pflanzliche Asche war eine Vorstufe der Seife.', 'Seife ist ein Maßstab für den Wohlstand und die Kultur der Staaten.', 'Ja, wir sind nicht überrascht, wenn jemand den Gebrauch von Seife direkt als Kulturmesser aufstellt.', 'Es wurden zum Beispiel neue Metalle entwickelt und alltägliche Gegenstände wie Seifenstücke.', 'Disziplin, Pflichtbewusstsein und Arbeitseifer bilden die fundamentalen Grundwerte der Familie Ulyanov, die Lenin von Anfang an injiziert werden.']\n",
      "Occurences UnLemmatized(90): ['Nach der Ernte bringen wir die Blüten in die Kosmetikfabrik, wo sie zu Rosenöl, Parfüm, Seife oder Shampoo verarbeitet werden.', 'In der kleinen Stadt Amberg in der Oberpfalz drängen sich die Menschen vor dem örtlichen Seifengeschäft.', 'Man kriegt das mit keiner Seife wieder ab.', 'Die Haut könne sich selbst reinigen und sei auf Unterstützung durch Wasser und Seife nicht angewiesen.', 'Also für die meisten Menschen, die eine gesunde Haut haben und eine Bürotätigkeit aus, für nicht sehr intensiven Sport betreiben, ist es ausreichend, wenn sie zwei bis drei Mal in der Woche duschen und an den anderen Tagen einfach nur die Achseln, die Intimenregionen, natürlich auch Hände und Füße wirklich mit Seife waschen.', 'Selbst wenn sie nicht viel schwitzen und auch nicht viel mit Schmutz und Staub zu tun haben, so greifen sie doch täglich zu Seife oder Duschgel und das am ganzen Körper.', 'Und zwar vor allem die verwendeten Seifen, Duschgels oder Badelotionen.', 'Weil wir durch den Kontakt mit Wasser alleine, aber besonders auch noch verstärkt durch Anwendung von Seifen, Fette aus unserer Haut, natürliche Fette herauswaschen und auch den natürlichen Säureschutzmantel der Haut aus dem Gleichgewicht bringen.', 'Und zwar, dass man statt einer soliden Seife lieber eine Flüssigseife auswählt.', 'Die sind meistens milder, dass man auf den pH -Wert der Seife so ein bisschen achtet.', 'Nicht nur in Küche und Bad, sondern nutzen beispielsweise täglich desinfektionshaltige Seifen, weil sie meinen, nur so gegen Krankheitserreger gefallt zu sein.', 'Intimwaschlösungen, ja also da muss man auch sagen, also die tägliche Reinigung der Intimregion mit einer Wildenseife und Waschlappen ist ausreichend.', 'Nicht so wirklich gesund, das tägliche Duschen mit einseifen, ein Radio Wissen von Daniela Rimus.', 'So trägt die Soap Opera bis heute ihren Namen, weil die Endlosserien damals von der Seifenindustrie gesponsert werden, die ihre Produkte bei der amerikanischen Hausfrau bekannt macht.', 'Der Modernisierungseifer geht einigen hohen Beamten zu weit.', 'Manfred Kaib musste die Windschutzscheibe seines Geländewagens nach so einem Hochzeitsflug oft mühevoll mit Seife abwaschen.', 'Knochen waren damals sehr wertvoll für die Seifenherstellung.', 'Ein Leben in Armut wurde zwar durchaus toleriert, um ein tugendhaftes Leben führen zu können, aber mit dem biblischen Gleichnis von den Talenten oder mit dem Leitspruch ora et labora ließ sich auch ein wenig für Arbeitseifer argumentieren, etwa in den Klöstern.', 'So wie er, Sohn eines Seifenmachers, könne jeder den sozialen Aufstieg schaffen, wenn man nur genügend Arbeitsmoral zeige.', 'In allem ist Sand in unseren Reinigungsmitteln, in Seifen.', 'radio wissen die ganze welt des wissens ein podcast von bayern 2 radio wissen heute geht es um eine schweizer schriftstellerin die kaum jemand kennt obwohl sie einzigartige prosatexte geschrieben hat und von literaturkritikern in eine reihe mit berühmten autoren wie franz oder robert walser gestellt wird ihr name adelheit duvannel basel im jahr 1985 friederike kretzen eine junge aus dem rheinland stammen der autorin nimmt hier zum ersten mal an einem literarischen salon teil ich war eingeladen meine neuen kleinen texte vorzustellen für friederike kretzen wird es ein ganz besonderer abend nach ihr ist nämlich die basler adelheit duvannel an der reihe eine knapp 50 jährige frau die aus einer anderen welt zu kommen scheint sie sah es wie ich das dann nachher sehr oft bei ihr erlebt habe sie saß mit gebeugtem kopf so ganz an sich gehalten auf dem sofa die schriftstellerin adelheit duvannel fiel auf und aus dem rahmen auch zehn jahre später bei einer lesung an der basler uni so die literaturwissenschaftlerin elsbett dangel pelucca sie saß wie so ein fremdkörper da dann guckte sie manchmal so durch ihre brille ins publikum ein bisschen verhuscht ein bisschen erschreckt sobald aber adelheit duvannel zu lesen beginnt ist sie im raum total präsent friederike kretzen zieht es förmlich den boden unter den füßen weg man hat gesagt jetzt bist du dran adelheit und hat sie ihren kleinen text rausgeholt und wie ein schock hat mich das getroffen was sie gelesen hat ich fand das so unglaublich ihre große kunst mit zwei drei setzen in eine situation zu führen wo man denkt das halte ich nicht aus auch an der basler uni wirkte das publikum wie gebannt während adelheit duvannel ihre kurzen erzählungen vortrug verbreitete sich eine absurd anmutende stimmung wir hatten den eindruck die hätte magische kräfte denn sie liest gerade von einer klingel in dem moment klingel die universitätsklingel kurz darauf liest sie was von wasser und zwar genau in dem moment als malte füßt ja sie damals eingeführt hat ihr ein glas wasser bringen dass sie das auch gestimmt hätte und so sind ja auch ihre texte die haben ja magische elemente da gibt es zum beispiel diese frau deren aufgedunstenes sicht nicht rot oder weiß ist sondern blau diese frau die sich umbringen will im herbst 1987 las adelheit duvannel einige ihrer geschichten für die schweizer rundfunkgesellschaft unter anderem die erzählung selbstmord sie öffnete die haustür und ranze barfuß im zigzag zum bahnhof wo sie eine fahrkarte in die nächste stadt löste im zug schloss sie sich in der toilette ein und zog unter dem fließenden kalten wasser nachdem sie die finger mit seife eingeschmiert hatte ihre vier ringe von den fingern sie steckte sie in ihren geldbeutel und warf diesen in die toilette was war denn das für ein ritual warum bloß steckte die frau ihre ringe in den geldbeutel bevor sie beides zusammen herunterspülte dieses detail bringt die junge friederike kretzen bei ihrer ersten begegnung mit adelheit duvannels teksten so durcheinander dass sie sich an der sitzfläche ihres stuhls festhalten muss so sah sich da auf diesem stuhl und habe die anderen angeguckt und dachte irgendwas stimmt nicht aber alle schienen das schon zu kennen war halt die adelheit dann hat sie diese geschichte zu ende gelesen und hat nichts dazu gesagt und es war eigentlich schweigen und dann hat der nächste oder die nächste weiter gelesen und dann musste sie um zehn gehen weil sie rechtzeitig noch zurück in die psychiatrie musste adelheit duvannel litt an engsten und depressionen aber die klinische diagnose interessiert ihre wunderinnen nicht friederike kretzen und elsbett dangel perlokin haben 2021 sämtliche erzählungen adelheit duvannels neu herausgebracht der fast 800 seiten starke band mit dem titel fern von hier soll der meisterin der kurzen form endlich den ihr gebührenden platz in der schweizer literatur einräumen unser interesse war sie vom wahnsinn weg zu holen das war ganz ganz wichtig denn es mag ja sein dass ihr schreiben und ihr krank sein oder was heißt ihr krank sein ihre psychische besonderheit deutlich miteinander zusammenhängen das denke ich ja auch aber das heißt ja nicht dass die qualität ihres schreibens in irgendeiner weise in diese richtung gehört krank sind viele aber so schreiben wie duvannel tun eben nicht viele und das ist der entscheidende unterschied der sammelband mit den rund 251 erregte dann auch überraschend viel aufsehen bei der literaturkritik aber was ist in zehn jahren wird sie bleiben da muss man schon seine frage zeichnen setzen und das ist eine sache des literaturmarktes der so schnell immer nach neuem greift adelheit duvannel kam am 23 april 1936 in pratteln einem kleinen ort bei basel zur welt sie wuchs in einer wie man so sagt gutbürgerlichen familie mit drei geschwistern auf einerseits förderten die eltern das künstlerisch begabte mädchen das ausdrucksstarke bilder malte andererseits schützten sie die junge adel nicht vor kummer und leid ein umzug und ein jahr im katholischen internat verstörten sie tief von den übergriffen des vaters nicht zu schweigen es gibt eben auch einen text wo sie sagt meine kindheit ist eine unscheinbare kleine kiste wenn man sie öffnet explodiert sie adelheit duvannel wusste dass sie verschlossen wirkte schon früh fühlte sie sich fremd in der welt die ihr nicht gewogen zu sein schien in dem text ein ganz gewöhnlicher waschtag erzählt die schweizerin warum sie sich vor allem auf schreiben verlegte auf das malen mit worten wobei sie das bilder malen nicht da schreibt sie davon dass sie eigentlich auf die kunsthochschule gehen wollte um malen zu lernen und dann haben ihr die lehrer geschrieben man könne sie nicht aufnehmen nicht weil sie kein talent hätte sondern wegen ihres charakters also da sagt sie ja etwas von erfahrungen von beurteilungskriterien die eigentlich im grunde kriterien der zurichtung sind und dass sie eben trotzdem schreibt dass sie trotzdem malt und was heißt trotzdem gerade wegen ihres charakters schreibt sie so und wegen ihres charakters hat sie diese großartige fähigkeit uns zeugnis zu geben von eigenwilligen eigenständigen widerständigen leben da ist zum beispiel ernesto mit der schmutzigen brille der die welt nur verschwommen sieht was ihm aber recht ist adelheit duvanelles meist wenige drucksaiten lange texte handeln von außenseitern und eigenbrötlerinnen sie blickt hinter die façaden der sauber geputzten schweiz in schäbige mietwohnungen und dreckige hinterhöfe hinein zeigt die hässlichen billigen möbel den defekten ölofen zeigt einsamkeit kälte und angst sie holt menschen vom rand der gesellschaft ins zentrum ihrer texte ihr vater hat ja zu ihrer empörung immer gesagt die adel schreibt schichtli und das fahren sie zurecht einfach keinen ausdruck für ihre literarische tätigkeit sind kurze erzählung die ein unglaubliches personal an figuren auftreten lassen das ist so reich bevölkert wenn die mal zusammenzählen würde wie viele figuren in einem band vorkommt dann hätte man wirklich ein richtig großes figuren ensemble adelheit duvanelles erzählerisches werk wirkt zusammen genommen wie ein großes romanhaftes gebilde in dem immer neue figuren auftauchen manche verschwinden andere kehren wieder es sind kleine angestellte oder möchte gern künstler trinker und drogensüchtige geschlagene oder verlassene frauen männer in vermüllten zimmern vernachlässigte kinder kurz gefährdete oder verkrachte existenzen keine helden figuren die haben ja auch diese aller welts namen die heißen marcel und gris da und marita und so weiter aber das ist eigentlich wirklich toll wie die geschichten dann doch immer wieder einzel existenzen hervorheben also einmal geht einer ihrer protagonisten auf der straße spazieren und sieht dort gesichter jedes in einzel anfertigung und dieses zitat finde ich passt wunderbar oft über netz schreiben da gibt es selbst mörderinnen wie die blau gesichtige frau oder physisch versehrte menschen wie den halbblinden herrn weinwisch den der arzt keine künstliche linse einsetzen kann sie bezeugt die existenz dieser menschen oder einer der nur ein auge hat also es gibt sie und wir werden im grunde dazu gebracht sie uns anzuschauen was sie wirklich umwerfen die sind ihre anfänge also wie sie in diese geschichten hineinkommen wie sie da eine welt öffnet eine überraschende verblüffende das ist schon richtig großartig adelheit duvannel charakterisiert ihre figuren mit wenigen prägnanten setzen so im text gnadenfrist norma die schön wie eine vase ist die fallen gelassen werden möchte oder stephanie in der gleichnamigen erzählung die wird so beschrieben sie hat ein hasengesicht und geschwollene beine in lakonischem ton berichtet adelheit von ihren figuren die ganz eigenen spielregeln zu folgen scheinen sie treten hinaus auf die straße beobachten andere menschen klopfen an türen schleichen um ecken trinken alkohol sie zittern oder gähnen oder reden mit vollem mund duvannel lässt die alltagsgeschichten ihrer christas norberts und maritas gern ins lapstick haften wendungen eskalieren ohne dass immerzu dramatisches passiert man könnte was sagen die setze selber stolpern über sich und treiben sich an und so kommt in gewisser weise eine szene nach der anderen ein einfall nach dem anderen es wirkt kafka esk erinnert also an den stil franz kafkas wenn duvannel in burlesken ruckartigen wendungen zeigt wie eingeengt und beschränkt das leben ihre figuren letztlich ist man denkt jetzt fing es doch gerade damit an wieso ist jetzt plötzlich vom park dreht und jetzt von einem baum und jetzt wieder vom fernseher das ist die erzählung christa zum beispiel aber erstens gibt es mehr zusammenhänge zwischen diesen völlig disparaten abschnitten als man denkt zum anderen sind aber diese lücken auch ganz wichtig in der lücke zwischen baum und fernseher deutet sich an was die figuren vor der außenwelt verbergen ihre träume sehnsüchte und fantasien adelheit duvannel nahm das außen als eine welt der enttäuschung war als armselig im vergleich zu ihrem reichen innenleben doch wer sich äußert begibt sich in gefahr schreibt sie einmal mit den metaphern die sie für die emotionen ihrer mehr oder weniger verschrobenen gestalten findet schlägt sie originelle was eigentlich ja das a und o einer metaphorik ist das seelische oder geistige vorgänge ins materielle übersetzt werden ins konkrete das da ist sie ganz groß etwa angst irgend so ein musikkritiker sitzt im konzert und hat furchtbar angst für diese pianistin die da oben spielt so ein junges mädchen und da hängt ihm die angst wie so ein ein stück stoff das in die schublade eingeklemmt ist manchmal rutscht das bild das duvannel entwirft satz für satz ins seriale manchmal verschiebt sich ein geschehen ins nichts löst sich im nebel auf oder im schweigen im schlaf oder einer stirbt blitzlichthaft leuchten details auf an sich banale details die den figuren aber offenbar mehr bedeuten als außenstehende ahnen können wie ida ihr blonder pferdeschwanz der in duvannels erzählung auf der insel die symbolkraft eines verlorenen rettungsankers erhält anders als alles andere was idas kopf entsprang war er nämlich gesellschaftlich akzeptiert adelheit duvannel las die erzählung auf der insel ebenfalls 1987 für die schweizer rundfunkgesellschaft als ida als junges mädchen in einer psychiatrischen klinik war brachte ihre mutter sie zum coiffeur der ihren hellblonden pferdeschweif abschnitt der pferdeschweif war das einzige was mich mit der außenwelt verbannt erzählte ida den pianisten bigassos modell hatte einen solchen pferdeschweif im grunde kann man sagen hätte sie diese geschichten nicht geschrieben wäre sie im leben eigentlich diese figur ihrer geschichten gewesen also eigentlich alle figuren ihrer geschichten das schreiben als ausweg mit 16 jahren hatte sie versucht sich umzubringen mit 16 17 ist sie schon in die psychiatrie gekommen und ist richtig übel behandelt worden mit elektroschocks und auch insulinschocks also schrecklich 1962 heiratete sie dann den maler josef duvannel zwei jahre später kam ihre tochter zur welt das von alkohol und drogenkonsum geprägte ehe leben komplizierte sich als der mann seine geliebte mit nach aber adelheit duvannel ertrug alle demütigungen es dauerte jahre bis sie sich scheiden ließ auch ihre figuren schlagen sich mit beziehungsproblemen herum sie hegen heimliche verliebtheiten und schließen wenn überhaupt nur zögernd freundschaft easy door etwa benutzt sein telefon nur ein einziges mal um dann in den höher zu schweigen das ist ihr thema diese große anstrengung aus dieser einsamkeit herauszukommen und eine beziehung zu bekommen einerseits bei einer unendlichen bedürftigkeit dieser personen und zum anderen aber bei dieser großen schwierigkeit irgendeinen anderen zu erreichen und die anderen sind dann oft genau solche personen zwischen duvannels schrägen figuren ergeben sich oft missverhältnisse oder missverständnisse willy bald muss gähnen während er jolanda gesteht dass er angst vor der hochzeit hat was seine aussage jede ernsthaftigkeit nimmt der trockene witz der autoren tritt besonders in erscheinung wenn es um ärzte oder psychiater geht einmal sieht so ein altes männchen in so einem orensessel und ruft auf alles was die patientin erzählt hier ist es gott wie schrecklich und solche szenen kommen immer wieder vor und vor allem jetzt gibt auch viele psychiatrie geschichten die in der psychiatrie handeln der zug der depressiven die ziehen dadurch die psychiatrie und weinen sie hat natürlich viel erfahrung gemacht mit der hilflosigkeit von therapeuten und mit der unzulänglichkeit mit diesen krankheiten fertig zu werden von heilung oder integration kann keine rede sein die komik in duvannels geschichten enthält wohl eine gute prise galgenhumor denn die distanz zur außenwelt scheint letztlich unüberbrückbar zu sein bei einer live veranstaltung des damaligen südwestfunks am 4 .11', 'Annegret Grimm -Seifert ist Biologin am Leipziger Helmholtz -Zentrum für Umweltforschung.', 'Professorin Wannadin Seifert -Klaus ist Leiterin der Gynäkologischen Endokrinologie am Klinikum Rechts der ISA in München.', 'Professorin Warnadine Seifert -Klaus vom Klinikum rechts der Isar in München weiß, was einen Benefit haben kann.', 'Und das geht selbst Ärztinnen wie Wannadin Seifert -Klaus noch so.', 'In den indischen oder afrikanischen Slums, in den Flüchtlingslagern der Welt, ist soziale Distanz in etwa so rar wie ein Stück Seife.', 'Man hat Gold in den Bächen und Flüssen gesucht und hat sogenannte Goldseifen angelegt, wo man also nach Gold gewaschen hat.', 'Ein Teil davon wird später von der Verwitterung ausgewaschen, sinkt hinunter und sammelt sich in sogenannten Reich -Erz -Zonen knapp über dem Grundwasserspiegel, um dann als Seifengold in die Flüsse gespült zu werden.', 'Auf einer Strommatte liegt eine Seifenschachtel aus Pappe, die Mark italienisch, Schrift und Motiv aus den 50er Jahren.', 'Insofern, meint Peter Seifert, zeichnet dieser Roman keine starre Ordnung und unterscheidet sich auch dadurch von den autoritären Utopien.', 'Jahrhunderts reichte die zur Verfügung stehende Menge nicht mehr aus um der steigenden Nachfrage gerecht zu werden Mehr und mehr wurde Lavendel nun systematisch und in großen Mengen angebaut Vor allem die Meister -Parfümöre aus der südfranzösischen Stadt Gras interessierten sich für die wohlriechende Pflanze Bevor Gras zum Zentrum der Parfümindustrie wurde Es gab dort vor allem Leder und das hatte einen entscheidenden Nachteil Es roch sehr schlecht Eines Tages hat man einige Tropfen ätherisches Öl auf das Leder gegeben und festgestellt dass es dadurch angenehm riecht Von da an hat man damit begonnen mit Lavendel parfümierte Handschuhe herzustellen und die eleganten Damen waren hingerissen So entwickelte sich die Parfümindustrie in Gras immer weiter und die Parfümöre schickten Makler um die Lavendelpreise auszuhandeln Heute ist der Lavendel das Symbol der Provence Zur Erntezeit feiern die Dörfer in den Anbaugebieten Lavendelfeste Die violettfarbene Pflanze hat einen festen Platz in der Kultur der Provenzalen Die Lavendelbäuerin und Botanikerin Catherine Liardet Catherine züchtet in ihrer Freizeit rund 200 Lavendelarten aus der ganzen Welt und präsentiert sie in ihrem Garten in Seau in der Nähe des Mont Ventoux Ihr Ziel ist es, die biologische Vielfalt der Pflanze zu erhalten Die Produktivität, die sonst beim Lavendelanbau meist im Vordergrund steht, ist für die Botanikerin weniger von Interesse Hier haben wir die Lanata mit sehr weichen Blättern und einer sehr schönen Blüte in blass -lila, grau und ins Violett übergehend aus dem Mittelmeerraum stammend Daneben stehen zwei Varianten der Sorte Dentata eine mit grauen Blättern und eine mit grünen Blättern und aus diesen können sich wiederum andere Hybride ergeben mit verschiedenen Farbkombinationen Normalerweise ist die Blüte blass -rose aber es gibt auch weiße und rosa Farben Die einzelnen Lavendelarten unterscheiden sich jeweils durch ihre Blätter, ihre Blüten und auch durch ihren Duft Im Mittelmeerraum riecht der Lavendel blumig und frisch Er kann aber auch überraschenderweise an Minze, Zitrone, Rosmarin oder Thymian erinnern Dabei muss man vor allem zwischen zwei Pflanzengruppen unterscheiden dem sogenannten echten oder auch feinen Lavendel mit der botanischen Bezeichnung Lavandula angustifolia und dem Lavandin, einer Kreuzung die entweder auf natürliche Weise entsteht oder bewusst gezüchtet wird Der echte Lavendel wächst erst ab einer Höhe von 800 Metern Er ist wegen seines erfrischend zarten und süßlichen Geruchs bei den Parfümherstellern sehr begehrt und hat therapeutische Eigenschaften als Heilpflanze So wirkt er unter anderem beruhigend und krampflösend und hilft beispielsweise bei Magenkrämpfen und Nervosität Auch deshalb wird der Lavendel das blaue Gold der Region genannt Bei der Sorte Lavandin handelt es sich um eine Kreuzung von echtem Lavendel und sogenanntem Speiklavendel Sie ist steril, wächst in tieferen Lagen und wird durch Stecklinge vermehrt Durch den starken Gehalt an Kampfer riecht Lavandin intensiver und wird daher vor allem in der Industrie als Duftstoff für Reinigungs - und Pflegemittel verwendet oder aber in den berühmten Duftsäckchen und Seifen Der Leiter des Regionalen Forschungszentrums für Aroma - und Medizinpflanzen in Manosque, Eric Ches, verfolgt seit Jahren die Statistiken über den Anbau der verschiedenen Lavendelarten in Frankreich Lavendel wird seit Jahrtausenden genutzt Der Lavendin ist viel später dazugekommen Erst in den 30er Jahren wurde damit begonnen, ihn anzubauen Er hat sich vor allem seit 1945 -50 entwickelt und seitdem immer mehr an Bedeutung gewonnen Der echte Lavendel dagegen erlebte den Höhepunkt seiner Beliebtheit in den 80er Jahren Da wurden so um die 200 Tonnen ätherisches Öl hergestellt Danach nahm die Produktion stark ab Einfach weil es dann Konkurrenz gab Als in den 60er Jahren auch die Bulgaren mit dem Lavendelanbau angefangen haben Der echte Lavendel ist kleinwüchsig und hat pro Stängel nur eine Blüte Dagegen besitzt der größere Lavendin mehrere Verästelungen mit Blüten und ergibt bei der Destillation etwa dreimal so viel ätherisches Öl wie der echte Lavendel Wegen des Ertrags, aber auch weil der Lavendin in niedrigeren Lagen wächst, wird er in Südfrankreich auf einer Fläche von insgesamt 16 .000', 'Auch das Einseifen des gesamten Körpers oder des Gesichts sollte man komplett verzichten bzw.', 'auf seifenfreie oder pH -hautneutrale Waschsubstanzen zurückgreifen.', 'Ich bezichtige sie der Gottlosigkeit und hetze somit die rückhaltlosen Glaubenseiferer gegen sie auf, die, ohne die Ursachen zu kennen, öffentlich über sie herziehen werden, sie mit Schimpf überhäufen und von ihrer eigenen Warte aus hochherzig verdammen werden.', 'Dann würden die kleinen Reifeisengenossenschaften platzen wie Seifenblasen und sämtliche Mitglieder, die ja mit ihrem gesamten Vermögen haften, wären ruiniert.', 'In dem Reaktor wird ein Desinfektionsmittel für medizinische Seifen hergestellt.', 'In seiner Autobiografie Erinnerung Sprich schreibt er Piers Seife.', 'Vanadin Seifert -Klaus ist Professorin und leitende Oberärztin der Gynäkologischen Endokrinologie am Uniklinikum rechts der Isar in München.', 'Der Vorgang des Eisprungs selbst gibt Forschenden im Detail nach wie vor Rätsel auf, erklärt Wannadin Seifert -Klaus.', 'Hormonfachfrau Seifert -Klaus? Frauen sind zyklische Wesen durch diese Biologie und natürlich in einer Leistungsgesellschaft passt nicht alles, was damit einhergeht, in die Zeit.', 'Die Freiheit, auch auf den Körper zu hören und je nach Zyklusphase mal voller Energie und strahlend präsent zu sein oder während der Menstruation auch eine Pause zu machen, wenn nötig, dazu passt der Trend, den Seifert -Klaus wahrnimmt, dass nämlich mehr junge Frauen als früher nicht mehr so selbstverständlich die Pille zur Verhütung schlucken wollen.', 'Das heißt, es kann sowohl sauer wie eine Säure oder auch basisch, also wie eine Seifenlösung, reagieren und damit einen sehr großen Bereich des pH -Wertes, mit dem wir diese Stärke der Säure oder Base messen, überstreichen.', 'Ein Parfarmhäuser, eine Baptistenkirche, eine Seifenfabrik.', 'Bettwäsche, Strohsäcke, Essgeschirr, Verbandsmaterial, Stühle, Bänke, Betten, Schränke, Hemden, Eimer, Unterhosen, Socken, Scheren, Kämme, Handtücher, Entlausungsmittel, Seife, OP -Tische, Nachtgeschirr, Zinkwannen, Scheuerbürsten.', 'Auch Shampoo gibt es in fester Form, Seife sowieso und inzwischen sogar Putzmittel als Tablette.', 'In allem ist Sand in unseren Reinigungsmitteln, in Seifen.', 'So taucht etwa ein Herr von Seifenblase und eine Jungfahrehaar auf.', 'Ammoniak entwickelt in Verbindung mit Fett eine Seifenwirkung.', 'Man buch Brot und schlug Butter, es wurde geschlachtet, geräuchert und gepökelt, Wurst und Marmelade gekocht, man kälterte womöglich eigenen Wein, auch Kerzen wurden gezogen, Flachs zum Spinnen bearbeitet, Seife gekocht.', 'Niemand musste mehr Butter stampfen oder Seife kochen.', 'Wenn ich einen Seifendiamant finde, also wirklich so einen Diamant Klumpen, mit keiner perfekten Form, dann wäre das Diamant als Mineral.', 'Als eine Bewohnerin Gaudí fragte, wo sie ihren Flügel hinstellen sollte, antwortete er, Warum lernen Sie nicht Geige? Die letzten Jahre widmete Gaudí mit fieberhaftem Arbeitseifer nur noch der Sagrada Familia.', 'Sagt Wannadin Seifert -Klaus.', 'Darum wird die Endometriose auch als das Chamäleon der Gynäkologie bezeichnet, erklärt Gynäkologin Wannadin Seifert -Klaus.', 'Das bezeichnen Medizinerinnen wie Wannadine Seifert -Klaus als Retrograde -Menstruation.', 'Es gab Pralinen Anna Pavlova oder Parfum Pavlova, eine Seife.', 'Wozu die Mühe? Warum steckt ein kleines Land wie Portugal so viel Geld und Ausdauer in beschwerliche Entdeckungsfahrten mit unsicherem Ausgang? Aus Wissbegier und Missionierungseifer? Maximilian Carlos hat die Strukturen und Akteure des Orienthandels der frühen Neuzeit erforscht und hält ein anderes Motiv für ausschlaggebend.', 'Und der Mensch? Dort, wo er Trinkwasser aus dem Hahn, eine Kanalisation und eine Gelegenheit hat, sich die Hände mit Seife zu waschen, braucht er seinen Wurmfortsatz nicht mehr ganz so dringend.', 'Die Konzentration der Seife hatte zum Effekt die Abtötung der Frucht, der Abort durch Verätzen.', 'Vom protestantisch -puritanischen Arbeitseifer im Norden hinab zum leichten katholischen laissez -faire im Süden.', 'Das ist ein Seifenbildchen.', 'Nicht ohne Stolz führt Bibliothekarin Helga Seifert Besucher durch das kleine Archiv unterm Dach des Pathologischen Instituts in Würzburg.', 'Hier ist Lilith Adams Gefährtin, eine leichte, mit Sternen wie mit Seifenblasen spielende, die den erdenschweren Adam zu schöpferischem Tun anspornt.', 'Der kundigste, unermüdliche und schärfste Kritiker des Gesetzgebungsverfahrens von Anfang an, der Jurist und Politologie -Professor Jürgen Seifert, zog 1998, 30 Jahre nach der Verabschiedung, das Resümee So schlimm ist es nicht gekommen, weil den Notstandsgesetzen die größten Giftsäne schon vor ihrer Verabschiedung gezogen wurden.', 'Und wenn sich die Harzsammler die Finger verkleben, können sie mit Wasser und Seife nicht viel ausrichten.', 'Der Wissenschaftler verbrachte insgesamt zwei Jahre in Brasilien und liebte vor allem die Lianen aus der Familie der Sapindacean, der Seifenbaumgewächse.', 'Die Seifenbaumgewächse haben wunderschöne Anordnungen in ihren Sprossen und Stämmen.', 'Doch diese Seifenbaumgewächs Liane hat innen Holz, dann Rinde, dann wieder Holz, dann Rinde.', 'Das Pflaumenmus stark grünspanhaltig, im Essig Würmer ohne Zahl, in Seife schmutzgar mannigfaltig.', 'einem europaweit bedeutenden forschungsstandort sie zierten was das zeug hielt und ausgerechnet diese halbgötter sollen nun den tod in den kreißsaal getragen haben anna durnova da weigert sich die zunft da weigert sich die ärzteschaft ganz logisch weil die verantwortung damit verbunden ist und selbst semmelweis in seinen eigenen reflektionen darüber sagt auch in seinem tagebuch dass in dem moment wo er erkannt hat wo die gefahr liegt war einerseits freude da dass er endlich dieses rätsel lösen kann gleichzeitig aber auch dieses bangigkeits gefühlt und angst dass er eigentlich auch durch sein handeln die jahre davor frauen in den tod geschickt hat die ärzte selbst sollen schuld sein der widerstand der fachwelt gegen ignat semmelweis und seine erkenntnisse war massiv internationale meinungsführer der medizin wie der pathologe rudolf virchow verwarfen semmelweis thesen im akh fand er zwar in dem pathologen roketanski dem dermatologen skoda und dem internisten hebra unterstützer in seinem fachgebiet der gebotshilfe stieß semmelweis jedoch auf ablehnung dort hing man weiter einer epidemienlehre an nach der volkskrankheiten und seuchen von umweltfaktoren hervorgerufen würden und in einem werk zur behandlung des kindbettfiebers führten ignat semmelweis wissenschaftliche widersacher 20 faktoren auf die den ausbruch des pur peralfiebers zumindest mit verursachen würden unter den fachleuten grassierten verschiedenste erklärungen von umweltfaktoren bis zu den umständen der werdenden mütter wie etwa dem ausbleiben der menstruation oder einem milchstau und da ist es interessant sich anzuschauen welche theorien sich durchsetzen kurz gesagt sind das nämlich jene die innerhalb des damaligen alltagsszene machen also die frauenstaben am kindbett wird es vermutlich mit dem frauenkörper und mit der schwangerschaft zu tun haben eine der verbreiteten theorien ist demnach dass wenn der uterus zu viel anstrengung bekommt dann kann es passieren dass nach der geburt dieses fieber kommt auf den ersten blick schien diese theorie plausibel die meisten frauen die in der wiener geburtsklinik das kindbettfieber bekamen hatten noch während der schwangerschaft hart gearbeitet allerdings es gab ja auf dieser akh station fast nur solche patientinnen aus dem arbeitermilieu also auch die gebärenden der hebammenstation stammten aus diesem milieu und trotzdem starben dort sehr viel weniger frauen an dem kindbettfieber ignaz semmelweis folgte einer anderen spur der übertragung von krankheitserregern durch die ärzte doch der zusammenhang zwischen bakterien und krankheiten war semmelweis und seinen zeitgenossen noch nicht bekannt erst robert koch sollte dieser mikrobiologische nachweis gelingen 30 jahre nach der beobachtung eines zusammenhangs von handhygiene und kindbettfieber durch ignaz semmelweis er hat von leichengift oder leichenbestandteilen zersetzten im stoff gesprochen erklärt der regensburger professor wolf schneider er hatte schon die ärzte und die medizinstudien in verdacht und er hat gedacht okay irgendwas an der leiche hier bringen wir mit auf die station in den geburtskanal und das ist das leichengift und deshalb müssen die hände gereinigt werden also im prinzip war der standard das hände waschen mit seife es gab zu jener zeit bereits ein mindestmaß an hygienevorschriften aber die reichten eben nicht aus zuerst seziert man die leiche dann wäscht man sich die hände mit seife anschließend ist man geburtshelfer dokter charlotte deppe die an der münchner frauen klinik der lmu als oberärztin arbeitet kann heute angesichts der hygienischen zustände im 19 jahrhundert nur den kopf schütteln wenn man abbildungen sieht aus der zeit und man sieht dass menschen obduktionen also leichenöffnung mit den bloßen händen gemacht haben und geburten natürlich auch dann gruselt es einem jetzt mit dem heutigen verständnis schon also ich persönlich kriege da schon so ein bisschen stehende nackenhaar und freue mich dass ich da nicht so arbeiten musste wir haben ja den ganz großen vorteil dass wir heute neben seife des infektionsmittel überall verfügbar haben dass wir handschuhe haben die wir wechseln können wobei die handschuhe nur die grobe verunreinigung abwehren können semmel weiß erkannte das was er als gift identifizierte am geruch dieser geruch nach dem sezieren ließ oft auch nach mehrmaligem waschen der hände mit seife nicht nach doch wie konnte man ihn und mit ihm das gefährliche leichen giftlos werden klor kalk schien eine naheliegende lösung im allgemeinen krankenhaus wurde der stoff bereits zur der wäsche verwendet semmel weiß verpflichtete die mitarbeiter in seiner abteilung für dahin die hände zur desinfektion mindestens fünf minuten lang in eine klor kalk lösung zu halten die nicht nur schmutz entfernte sondern auch krankheitserreger abtötete professor wolf schneider also klor kalk oder klor lösungen in der konzentration wie sie damals angewendet wurden sind noch effektiver als der alkohol den wir heute benutzen diese alkoholischen desinfektionsmischungen und dies natürlich nicht besonders artfreundlich das heißt die hände sind dann schon recht angegriffen und das war auch das hauptproblem der akzeptanz bei den zeitgenossen dass jeder das für zeitverschwendung hielt weil er einfach das prinzip dahinter nicht verstand zudem war ignaz semmel weiß seinem biografen alfred heger zufolge alles andere als ein einfacher mensch heger beschreibt ihn als entschieden auftreten da wo er eine denkungsart bemerkt zu haben glaubte und weiter er brach dann sofort selbst mit denen ab welche ihm sonst nahe gestanden hatten der junge assistenzarzt wurde opfer von anfeindungen von intrigen eine massive kränkung dürfte gewesen sein dass ranghöhere mediziner die verlängerung seines arbeitsvertrags verhinderten sein ehemaliger chef johann klein hintertrieb zunächst dass semmel weiß seine tesen der wiener ärzteschaft präsentieren durfte das ganze vorhaben stand unter keinem guten stern ein schwieriger charakter der sich in einen konflikt mit autoritäten verstrickte die ihrerseits in den dogmen ihrer zeit gefangen waren betont die wiener forscherin anna durnova auch wissenschaftliche fakten brauchen wenn sie so wollen einen institutionellen backup wer wird überhaupt als autorität gesehen hängt auch ein stück weit mit der gesellschaftlichen bedingungen und mit politischen bedingungen zusammen also die stimme war nicht laut genug um den alltag zu ändern das einmal war es war nicht so ein wichtiger oberarzt sondern nur assistent der war jetzt unbeliebt unter den kollegen statt des professoren titels bekam ignaz semmel weiß in wien nur eine privatdozenten stelle mit eingeschränkten befugnissen erboost kündigte er und zog im jahr 1851 zurück nach budapest dort eröffnete der mittlerweile 33 jährige eine privat praxis und arbeitete als leiter einer geburtshilfestation 1855 wurde semmel weiß doch noch zum professor für theoretische und praktische geburtshilfe an der heute nach ihm benannten universität von budapest ernannt semmel weiß heiratete bekam mit seiner frau fünf kinder in budapest fand er dennoch zeit sein werk über das kindbettfieber doch noch zu veröffentlichen sprachlich schwach und ungeschickt präsentiert die arbeit umfasste 500 seiten blieb seinem werk mit dem titel die etiologie der begriff und die lakse des kindbettfiebers der erfolg aber versagt es gibt ein lager der sagt semmel weiß hat folgende reiche fehler begangen in der verbreitung seiner wissenschaftlichen erkenntnisse hat so spät publiziert er hat dann ein großes zu großes werk publiziert dieses werk war auch unleserlich oder schwer leserlich das wären jetzt die erklärungen dafür dass sich seine theorie nur schwer durchsetzen konnte die anderen theorien sagen dass er zu schnell dann zu den emotionalen mitteln gegriffen hat nämlich dass er offene briefe an den vorstand von den europäischen kliniken und krankenhäusern geschrieben hat das morden muss aufhören und damit das morden aufhöre werde ich wache halten und ein jeder der es wagen wird gefährliche irrtümer über das kindbettfieber zu verbreiten wird an mir einen rührigen gegner finden für mich gibt es kein anderes mittel dem mordenein halt zu tun als die schonungslose entlarvung meiner gegner und niemand der das herz auf dem rechten fleck hat wird mich tadeln dass ich diese mittel ergreife schrieb er etwa an seinen widersacher josef spät zunehmend verbittert darüber dass die mehrheit der wissenschaftler seine tesen nach wie vor ablehnte veränderte sich ignaz semmel weiß charakter überall habe er feinde gewittert schreibt der österreichische wissenschaftsjournalist alvin schönberger episoden der apathie und antriebslosigkeit wechselten sich demnach ab mit phasen des jähzorns in denen er tobte fluchte und kollegen beschimpfte der pathologe hans bankel führt die fortschreitende persönlichkeitsveränderung auf eine syphilis zurück eine unterwissenschaftlern umstrittene these gesichert ist dass ignaz semmel weiß 1865 in die nervenheilanstalt döbling bei wien eingeliefert wurde wo er zwei wochen später im alter von 47 jahren unter ungeklärten umständen starb offiziell erlag er einer blutvergiftung doch bei einer obduktion von ignaz semmel weiß leiche im jahr 1936 stellten rechtsmediziner etliche brüche an händen armen und dem brustkorb fest dem us -amerikanischen semmel weiß biografen sherwin newland zufolge sollen pfleger ihn auf dem anstalzhof geschlagen haben und auf den patienten herum getrampelt sein es sollte noch jahre dauern bis sich ignaz semmel weiß erkenntnisse in den kliniken durchsetzten und dort wurde lange nicht dem wissenschaftler semmel weiß gehuldigt sondern nur seine handhygiene praktiziert wo vor allem in deutschland kliniken nacheinander diese maßnahmen einführen die semmel weiß vorschlägt aber nicht den semmel weiß quasi hervorheben sagen nicht ignaz semmel weiß hat recht viele ärzte führten die chlorwaschungen indes nicht sorgfältig durch und behaupteten dann die maßnahme bringen nichts erst in der medizinergeneration nach ignaz semmel weiß setzte sich seine praxis der handhygiene schließlich durch dies lag auch daran dass semmel weiß erkenntnisse erst nach dessen tod durch forscher wie louis pasteur joseph lister oder robert koch wissenschaftlich fundiert wurden heutzutage erfährt ignaz semmel weiß sowohl in der wissenschaft als auch in der umsetzung und weiterentwicklung seiner hygienemaßnahmen angemessene anerkennung an semmel weiß kommt man als arzt heute nicht mehr vorbei sagt alexander springer facharzt für kinder - und jugendchirurgie er arbeitet als assoziierter professor am wiener akh geht man in wien durch das akh kommt man an den porträts in öl auf leinwand vorbei und liest die großen namen billroth rocky tansky und auch ignaz semmel weiß das waren die pioniere in der medizin und kämpfer für den medizinischen fortschritt auch seine forschung baue auf der pionierarbeit von ignaz semmel weiß auf betont wolf schneider professor für krankenhaushygiene am universitätsklinikum regensburg und die moderne variante ist dass wir uns angucken können wenn zwei patienten einen gemeinsamen multiresistenten erreger haben ob die wirklich genetisch identisch sind oder nicht welche verschiedenen genetischen typen gibt es überhaupt im krankenhaus von bestimmten regern wie breiten die sich aus gibt es da quasi übertragungsketten die man rekonstruieren kann das ist aber natürlich schon das modell für fortgeschrittene jetzt hygiene 4 .0', 'Seifel zum Beispiel war rationiert und musste gegen teures Geld oder Marken eingetauscht werden.', 'Also wir stehen hier vor zart lila farbendem Seifenkraut.', 'Ein Beispiel ist das Seifenkraut, das im Garten der Naturschutzstation Malchow gerade blüht.', 'Das Seifenkraut hat 5 helle, zart lilafarbene Blütenblätter.', 'Viele nachtaktive Pflanzen wie das Seifenkraut oder auch der Ziertabak sind mit ihren länglichen Blütenformen perfekt auf die nächtlichen Besucher mit ihren langen Rüsseln abgestimmt.', 'das bereits erwähnte Seifenkraut, das einen leicht melkigen Duft verströmt.', 'Nach dem Training erhalten die Dromedare von Saif Vollwertkost, werden mit Seife gewaschen und mit Öl massiert.', 'Die suchten sich in ihrem eitlen Machtrausch gern gegenseitig an grimmigem Glaubenseifer und gnadenloser Menschenjagd zu übertreffen.', 'Für die Krone des Königreichs Böhmen hat Friedrich von der Pfalz alles aufs Spiel gesetzt und er sollte alles verlieren in der Schlacht am Weißen Die Seifenblase Ruhm und dann der Richter.', 'Es ist nicht belegt, dass dessen Erscheinen auf Anweisung Maximilians Geschah gesichert hingegen ist, dass Maximilian die Entsendung dieses für seinen Glaubenseifer und seinen Vater blieb an diesem Abend seinem Ruf nichts schuldig.', 'Die Ärztin Wannadin Seifert -Klaus leitet im Klinikum rechts der Isar in München das Osteoporosezentrum.', 'Die jungen Patientinnen bilden im Münchner Osteoporosezentrum von Wannerdin Seifert -Klaus einen Forschungsschwerpunkt.', 'Wenn sie etwas Indianisches sagten, kriegen sie Prügelstrafe oder ihren Mund mit Seife ausgewaschen.', 'Sie pflanzten Obst und Gemüse an und stellten ihre eigene Seife aus Lauge her.', 'Die Gründe? Seife und sauberes Wasser, gesünderes Essen und bessere Arbeitsbedingungen, steigender Wohlstand und natürlich der medizinische Fortschritt.', 'Die pflanzliche Asche war eine Vorstufe der Seife.', 'Seife ist ein Maßstab für den Wohlstand und die Kultur der Staaten.', 'Ja, wir sind nicht überrascht, wenn jemand den Gebrauch von Seife direkt als Kulturmesser aufstellt.', 'Es wurden zum Beispiel neue Metalle entwickelt und alltägliche Gegenstände wie Seifenstücke.', 'Disziplin, Pflichtbewusstsein und Arbeitseifer bilden die fundamentalen Grundwerte der Familie Ulyanov, die Lenin von Anfang an injiziert werden.']\n"
     ]
    },
    {
     "name": "stderr",
     "output_type": "stream",
     "text": [
      "\n"
     ]
    }
   ],
   "source": [
    "word = \"seife\"\n",
    "occurences_lemmatized = get_occurences(df_lemmatized, word)\n",
    "occurences_unlemmatized = get_occurences(df_unlemmatized, word)\n",
    "print(f\"Occurences Lemmatized({len(occurences_lemmatized)}):\", occurences_lemmatized)\n",
    "print(f\"Occurences UnLemmatized({len(occurences_unlemmatized)}):\", occurences_unlemmatized)"
   ]
  },
  {
   "cell_type": "markdown",
   "metadata": {},
   "source": [
    "### Demonstration"
   ]
  },
  {
   "cell_type": "code",
   "execution_count": null,
   "metadata": {},
   "outputs": [],
   "source": [
    "df = db_get_df(table=\"transcript_sentences\")\n",
    "df.dtypes"
   ]
  },
  {
   "cell_type": "code",
   "execution_count": null,
   "metadata": {},
   "outputs": [],
   "source": [
    "userInputText = \"Zugspitze wandern\"\n",
    "userInput_segment_count = 7\n",
    "best_fitting = get_most_similar_documents_tf_idf(userInputText, userInput_segment_count)\n",
    "print(best_fitting[\"sentence\"].to_markdown())\n",
    "\n",
    "produce_snippets()\n",
    "produce_audio()\n"
   ]
  },
  {
   "cell_type": "code",
   "execution_count": null,
   "metadata": {},
   "outputs": [],
   "source": [
    "IPython.display.Audio(\"/Users/br/Projects/Bachelorarbeit/scripts/server/audio/concatenated_audio.mp3\")"
   ]
  },
  {
   "cell_type": "markdown",
   "metadata": {},
   "source": [
    "### umwandelen aller MP3s in WAVs"
   ]
  },
  {
   "cell_type": "code",
   "execution_count": null,
   "metadata": {},
   "outputs": [],
   "source": [
    "from pydub import AudioSegment\n",
    "import os\n",
    "from tqdm import tqdm\n",
    "\n",
    "def convert_mp3_to_wav(source_dir, target_dir):\n",
    "    os.makedirs(target_dir, exist_ok=True)\n",
    "    \n",
    "    for filename in tqdm(os.listdir(source_dir)):\n",
    "        if filename.endswith('.mp3') and filename.replace('.mp3', '.wav') not in os.listdir(target_dir) :\n",
    "            mp3_path = os.path.join(source_dir, filename)\n",
    "            wav_path = os.path.join(target_dir, filename.replace('.mp3', '.wav'))\n",
    "            \n",
    "            \n",
    "            audio = AudioSegment.from_mp3(mp3_path)\n",
    "            \n",
    "            audio.export(wav_path, format=\"wav\")\n",
    "            print(f\"Converted {filename} to WAV and saved to {wav_path}\")\n",
    "\n",
    "# Example usage\n",
    "source_directory = '/Volumes/Samsung_T5/Podcast_Episoden'\n",
    "target_directory = '/Volumes/Samsung_T5/Podcast_Episoden_Wav'\n",
    "convert_mp3_to_wav(source_directory, target_directory)\n"
   ]
  }
 ],
 "metadata": {
  "kernelspec": {
   "display_name": "Python 3",
   "language": "python",
   "name": "python3"
  },
  "language_info": {
   "codemirror_mode": {
    "name": "ipython",
    "version": 3
   },
   "file_extension": ".py",
   "mimetype": "text/x-python",
   "name": "python",
   "nbconvert_exporter": "python",
   "pygments_lexer": "ipython3",
   "version": "3.8.10"
  },
  "orig_nbformat": 4
 },
 "nbformat": 4,
 "nbformat_minor": 2
}
