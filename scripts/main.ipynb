{
 "cells": [
  {
   "cell_type": "markdown",
   "metadata": {},
   "source": [
    "# Podcast Episode Erstellen"
   ]
  },
  {
   "cell_type": "markdown",
   "metadata": {},
   "source": [
    "### imports"
   ]
  },
  {
   "cell_type": "code",
   "execution_count": 10,
   "metadata": {},
   "outputs": [],
   "source": [
    "import sys\n",
    "sys.path.append(\".\")\n",
    "from audio_transcription.faster_whisper_word_level import transcribe\n",
    "from Episodes_Downloader.episodes_downloader import get_names_and_urls_all_episodes, download_and_save_mp3_in_dir\n",
    "import os\n",
    "import pandas as pd\n",
    "from pydub import AudioSegment\n",
    "from pydub.playback import play\n",
    "from playsound import playsound\n",
    "import IPython \n",
    "import io\n",
    "from db_connect import db_get_df,db_save_df\n",
    "from segment_ranking.rank_segments import get_most_similar_documents_Llama2\n",
    "from Audio_segmentation.split_audio import produce_snippets\n",
    "from Audio_segmentation.concat_audio import produce_audio\n",
    "from tqdm import tqdm"
   ]
  },
  {
   "cell_type": "markdown",
   "metadata": {},
   "source": [
    "### Episoden URLs laden"
   ]
  },
  {
   "cell_type": "code",
   "execution_count": 7,
   "metadata": {},
   "outputs": [
    {
     "name": "stdout",
     "output_type": "stream",
     "text": [
      "['Selbstliebe - Wie kann man mit sich befreundet sein', 'Philosophie der Schönheit - Was den Menschen \"schön\" macht', 'Manufakturen - Schritt in eine neue Arbeitswelt', 'Arbeitszeit - Von der Stechuhr zum Coworking Space ', 'Ennio Morricone - Meister der Filmmusik', 'Earl Hamner, Erfinder der Waltons - Sehnsucht nach dem Landleben', 'Warum treiben Menschen Sport? - Eine Erfolgsgeschichte', 'Ernährungstheorien - Fakten oder Mythen?', 'Die Geschichte der Stadt - Urbanes Leben als Motor der Gesellschaft', 'Das Fenster - Geschichte mit Durchblick', 'Tiefenzeit - Vergangenheit und Zukunft wiederentdecken', 'Gegenwart - Ein rätselhaftes Phänomen', 'Vergebung als Chance - Ein Prozess der inneren Aussöhnung', 'Harze - Das Blut der Bäume', 'Runzelige Rinden und bunte Borken - Die Haut der Bäume', 'Tiere im Winter – Alles Natur', 'Eichhörnchen - Kletternde Kobolde', 'Der Eiffelturm - Ikone der Moderne', 'Beruf: Hausfrau - Die Geschichte einer Arbeiterin', 'Mobiles Arbeiten - Welche Fallstricke lauern im Homeoffice?', 'Napoletana, Margherita, Diavolo - Die Kulturgeschichte der Pizza', 'Geschichte der Köche - Künstler und Sklaven des Genusses', 'Jesus Christus - Ein Held?', 'Die Weihnachtskrippe - Szenerie der Menschwerdung', 'Stille Nacht - Ein Lied, 300 Übersetzungen und viele Geschichten', 'Höhenluft - Ganz schön gut, ganz schön schlecht', 'Unsere Luft - Was in ihr steckt', 'Der Dackel - Auf kurzen Beinen zur Kultfigur', 'Der kleine Liebling der Elite - Schoßhunde im Wandel der Zeit', 'Krankheitsfaktor Stress - Auf den Spuren eines Phänomens', 'Künstliches Licht - Vom Feuerschein zur Leuchtdiode', 'Angst vor der Dunkelheit - Was die Finsternis unheimlich macht', 'Elfen - Die uralten und quicklebendigen Naturgeister', 'Vulkanausbruch - Und was kommt danach?', 'Pflicht zur Hilfsbereitschaft? - Eine Philosophie des Füreinander', 'Das Spenden - Warum wir Menschen teilen', 'Liselotte von der Pfalz - Ungeschminktes aus Versailles', 'Romance forever? Warum Liebesromane boomen', 'Lady Chatterleys Liebhaber - Erotik, Sex, Ehebruch', 'Bayern zwischen den Kriegen - Von der Boheme zu Barbarei', 'Nueva Germania - Das gescheiterte „Arier-Experiment“ im Urwald', 'Bayerische Staatsbibliothek - Die Geschichte einer steilen Karriere', 'Gotische Bilderwelten - \"Völlig losgelöst von der Erde\"', 'Gedächtnisleistungen beim Tier - Was sich Tiere alles merken können', 'Flechten, Meister der Extreme - Alles Natur!', 'Ordnung in die Natur! Der schwedische Forscher Carl von Linné', 'Was macht uns aus? - Der feine Unterschied zwischen Mensch und Tier', 'Melancholie in der Philosophie - Zwischen Genialität und Wahnsinn', 'Fantasie - Das oft ungenutzte Potenzial', 'Endometriose - Wenn die Menstruation zur Qual wird', 'Schmerz  - Wenn der Körper Alarm schlägt', 'Pierre-Auguste Renoir - Malerei voll Licht und Luft ', 'Das Licht in der Malerei - Kerzen, Glanz und Sonnenstrahlen', 'Helene Kottannerin - Die Kammerfrau, die Ungarns Krone stahl', 'Rainer Erlinger - Eine Philosophie für den Alltag', 'Allen das Gleiche? Die Philosophie der sozialen Gerechtigkeit', 'Der Mord an JFK - Trauma und Verschwörungsmythos', 'Das rätselhafte Ende der Bronzezeit - Klärung in Sicht?', 'Frauen in der Bronzezeit - Die weibliche Macht?', 'Glückshormone - Komplexe Botenstoffe mit viel Wirkung', 'Die Tage vor den Tagen - PMS, das prämenstruelle Syndrom', 'Sex im Islam - Liebe, Lust und Leidenschaft', 'Mohammed - Prophet und Gründer des Islam', 'Die Reliquienräuber von Bari - Nikolaus in Geschichte und Legende', 'Weihnachtsmann & Co - Was hinter den winterlichen Gabenbringern steckt', 'Die Mikrowelle - Vom Radargerät in die Küche', 'Die Küche - Von Muttis Werkstatt zum Raum für alle', 'Heinz Erhardt - Was bin ich für ein Schelm!', 'Das Geschenk - Die Magie der Überraschung', 'Wunsch und wünschen - Ansporn oder Realitätsflucht?', 'Die Geschichte des Mikroskops - Als die Welt vergrößert wurde ...', 'Die Erfindung des Rads - Als die Welt ins Rollen kam', 'Der Igel - Stachliger Überlebenskünstler', 'Schnee - Faszinierende Flocken und ihre Geheimnisse', 'Deutsch-tschechische Fernsehmärchen - Verzauberung ohne Grenzen', 'Romantik - Zwischen Schwärmerei und Freiheitsstreben', 'William Turner - Maler der Zukunft', ' Die Geschichte der Kerze - Walrat, Unschlitt und Wachsschnäuzer', 'Jeden Tag ein Türchen mehr ... - Die Geschichte des Adventskalenders', 'Maria Callas - Operndiva mit Kultstatus', 'Das alte Russland und Japan - Imperium trifft Märchenland', 'Autonomie für Korsika? Lieder für die Freiheit', 'Tierversuche - Immer noch unverzichtbar?', 'Regenerationskünstler - Wie Tiere sich selbst heilen', 'Feuer in den Religionen - Erleuchtung, Reinigung, Wandel', 'Diwali - Das hinduistische Lichterfest', 'Von der Müdigkeit - Wenn der Körper erschöpft ist', 'Wetterballons - Datenspione des Himmels', 'Die Wetterpropheten - Wie Meteorologen Sonne und Regen vorhersagen', 'Heinrich Barth - Der vergessene Afrika-Forscher', 'Die Benin-Bronzen - Faszinierende Kunst und koloniales Unrecht', 'Donald Winnicott - Vom Vertrauen in die Fähigkeit der Eltern', 'Ressourcen - Innere und äußere Kraftquellen', 'Der Permafrost taut auf - Folgen für Mensch und Umwelt', 'Die halbe Erde unter Schutz - Rettungsmaßnahmen für Klima und Arten ', 'Die Geschichte der Wanderarbeiter - Suche nach einer Perspektive', 'Die Gewerkschaft - Lästig, aber nötig?', 'Über das Grübeln - Gefangen in den eigenen Gedanken', 'Staudämme - Mauern für das Wasser', 'Ingenieurskunst Tunnelbau - Wege durch den Stein', 'Jakob Wassermann - Der fast vergessene „Weltstar des Romans“', 'Naturalismus - Der realistischere Realismus', 'Kriegsberichterstatterinnen - Frauen zwischen den Fronten', 'Elisabeth von Österreich - Eine Kaiserin verweigert sich', 'Forscherinnen im Schatten - Vergessene Frauen der Wissenschaft', 'Kriegsenkel - Das besondere Erbe dieser Generation', 'Trauer - Mut zum ganz eigenen Weg ', 'Martin Luther King - Gewaltloser Kämpfer für Menschenrechte', 'Wälder für eine wärmere Zukunft - Bäume im Klimatest', 'Der Nationalpark Bayerischer Wald - Alles Natur!', 'Tierprodukte in der Medizin - Heilmittel oder Aberglaube? ', 'Leistungsgesellschaft - Falle der Moderne? ', 'Die Bewerbung - Betteln, Posen, Aufpolieren', 'Finsternis und Kreativität - Eine unterschätzte Perspektive', 'Nutztierställe im Wandel - Eine Frage der Haltung', 'Bäuerinnen - Emanzipationsgeschichte auf dem Hof', 'Scham - Ein sozialer Basisaffekt ', 'Inzest - Tabu und Mythos', 'Moral im Straßenverkehr - Das Recht des Stärkeren?', 'Radio Caroline - Der vorbildliche Piratensender', 'Barmherzigkeit - Wiederentdeckung einer Tugend', 'Steinalte Pilze - Zeugen der ältesten Ökosysteme', 'Fossilien, die stummen Zeitzeugen - Alles Natur!', 'Die Reichspogromnacht - Der verordnete Volkszorn', 'Der Mauerfall - Weshalb die DDR 1989 plötzlich unterging', 'Zivilcourage - Der Mut des Bürgers', 'Max Frisch - Der Kampf ums Ich', 'Ingeborg Bachmann - Die traurige Dichterin', 'Der Zweite Opiumkrieg - Chinas unvergessene Demütigung durch Europa', 'Der Krimkrieg - Der allererste Weltkrieg', 'Tiere in der Pubertät - Abenteuerlustig, impulsiv, risikofreudig', 'Mutterliebe im Tierreich? Alles Natur', 'Überfischung - Wenn das Meer leer wird', 'Totenkult und Religion - Bestattungsrituale in den Weltreligionen', 'Der Tod und wir - Rebellion gegen die Endlichkeit', 'Die Lust am Gruseln - Echte Gänsehautgefühle', 'Spuk und Trug - Eine erschreckende Geschichte der Poltergeister', 'Halloween - \"Keltischer Kult\" oder Grusel-Event?', 'Der heilige Raum - Resonanz zwischen Ort und Mensch', 'Das Museum - Ein Ort der Macht', 'Chronomedizin - Therapie im Takt des Körpers', 'Quantenphysik - Wahr, aber verrückt', 'Richard Feynman - Physikgenie mit Charisma', 'Friedrich II und die Seidenraupen - Wie Preußen Seidenbau förderte', 'Das Fachkräfteeinwanderungsgesetz - Zwischen Ideologie und Notwendigkeit', 'Neuroplastizität - Wie das Gehirn sich neu strukturiert', 'Biotopvernetzung - Wenn Lebensräume verbunden werden', 'Wie können die Fledermäuse zurückkehren? Alles Natur', 'Chassidismus - Die Welt der frommen Mystiker', 'Die Fischacher Laubhütte - Ein bayerisches Kleinod in Jerusalem', 'Oskar von Miller - Technik-Pionier und Museumsgründer', 'Aus Versehen genial - Wie der Zufall zu neuen Entdeckungen führte', \"Die Baha'i - Religion ohne Glaubensgrenzen\", 'Die Brüder Asam - Architekten des theatrum sacrum', 'Max Emanuel - Der blaue Kurfürst', 'Stottern - Die Angst vor dem nächsten Hänger', 'Otfried Preußler - Und sein Jugendroman Krabat', 'Volkskrankheit Osteoporose - Wenn Knochen brüchig werden ', 'Anfänge des Rundfunks in Deutschland - Die ersten Klänge des Radios', 'Cholesterin - Substanz mit Folgen', 'Was ist dran am „Urgetreide“? Alles Natur', 'Erben und Vererben - Was steckt hinter dem Streit ums Geld?   ', 'Vater, Mutter, Kind - Ist die Kleinfamilie am Ende?', 'Auf Wanderschaft - Wie Zugvögel ihren Weg finden', 'Die Forscherfamilie Piccard - Von der Ballonfahrt zur Tiefsee', 'Die Frauen der Familie Curie - Marie, Irène und Eve ', 'Jonathan Swift - Gullivers Reisen', 'Die Legende vom Sannikow-Land - Ein Paradies im Eis?', 'Petzen oder wegschauen? Umgang mit unliebsamen Wahrheiten', 'Italienischer Widerstand gegen die Deutschen Banditi e Ribelli', 'Die Republik von Salò - Hitlers Marionetten-Regime in Oberitalien', 'Italo Calvino - Schriftsteller einer Generation ', 'Neophyten, die eingeschleppten Pflanzen - Alles Natur', 'Was heißt hier Unkraut? - Alles Natur', '\"Eigentlich bin ich frei\" - Warum machen wir nicht mehr daraus?', 'Der Friedensschluss - Der Westfälische Friede von 1648', 'Oriana Fallaci - Kompromisslos, stolz und unbequem', 'Natalia Ginzburg - Italiens Edelfeder  ', 'Trauma - Wie umgehen mit psychischen Verletzungen', 'Hunde und ihr Geruchssinn - Die Supernasen im Tierreich', 'Der Konvivialismus - Neue Konzepte des Zusammenlebens', 'Der Weltzukunftsrat - Das Morgen Neu denken', 'Das Immunsystem - Wächter unseres Körpers', '1968 - Das Ausnahmejahr', 'Das geteilte Deutschland in den 60er-Jahren - Zwischen zwei Blöcken', 'Hunger nach Demokratie - Das Superwahljahr 1946', 'Demokratie - Ein umkämpfter Begriff', 'Wunderwerk Pilz - Gift, Heilpflanze und Delikatesse', 'Tierische Waldpfleger - Insekten, Vögel, Eichhörnchen', 'Der Stadtwald - Vom Energielieferanten zum Erholungsort', 'Alfred Nobel - Die Sprengkraft des schlechten Gewissens', 'Die Erde, unser Schatz - Alles Natur', 'Ocker, die edle Farbe aus der Erde - Alles Natur', 'Göttlich gut? Essen in den Religionen', 'Gastrosophie - Eine Philosophie des Essens', 'Detox mit Fasten - Die Mär vom Entgiften?', 'Qualzucht - Tierleid für menschliche Bedürfnisse', 'Haben Tiere eine Seele? - Religionen als Anwälte der Tiere', 'Die Politik der Landkarten - Über Macht und Größenverhältnisse', 'Taiwan - Ein Land im Konflikt der Mächte', 'Auf dem Weg in die Emanzipation - Frauenrechte in BRD und DDR', 'Aufstieg zur Supermacht - Wie Europa die Welt eroberte', 'Der globale Süden - Ein umstrittener Begriff', 'München um 1900 - Arm und reich', 'Regenerative Kulturen - Viel mehr als nachhaltig', 'Ziegen - Weidetiere im Klimawandel', 'Mythos Phoenix - Feuer, Asche, Wiedergeburt', 'Alkohol - Das unterschätzte Risiko', 'Das Jahr 1000 - Als die Globalisierung begann', 'Weltweite Lieferketten - Wer verbindet, wer hält, wer bedroht sie?', 'Das Pseudonym - Geheimnis oder Verkaufsstrategie?', 'Autofiktion - Wer schreibt hier eigentlich?', 'Sozialer Wohnungsbau - Geschichte eines umstrittenen Konzepts', 'Das erste Maschinenzeitalter - Von der Kuriosität zur Revolution', 'Geschichte der Zauberkunst - Taschenspielertrick und Großillusion', 'Malz - Rohstoff zum Brauen, Brennen und Backen', 'Die Kunst des Bierbrauens - Mehr als 5.000 Jahre Geschichte', 'Die Philosophie des Meeres - Von Tiefen und Untiefen', 'Starke Frauen im Tierreich - Alles Natur  ', 'Warum Tiere singen - Alles Natur', 'Heimat - Ein Begriff mit vielen Gesichtern', 'Theodor Fontane - Leben und Werk', 'Mäßigung - Heilmittel für eine zügellose Zeit?', 'Die Maya - Mais, Pyramiden und Metropolen', 'Uruk und wie alles begann - Die Anfänge der Moderne in der Vorgeschichte', 'Witold Gombrowicz - Lachen, das im Halse stecken bleibt', 'Literatur in Polen - Geschichte und Identität', 'Sole, Salz und Holz - Die erste Pipeline stand in Bayern', 'Reichsstadt Augsburg - Geschichte eines Aufstiegs', 'Das Münchener Oktoberfest - Brotzeit, Bier und Belustigung', 'Tierische Paar(ungs)geschichten - Alles Natur!', 'Queere Tiere? Alles Natur!', 'Rache - Süßes Gefühl mit bitteren Folgen', \"'Sorry, tut mir Leid' - Die Kunst sich zu entschuldigen\", 'Die German Americans - Was wurde aus den deutschen Wurzeln?', 'Playboys - Der Lebemann als aussterbende Spezies', 'Die Geschichte der Spielcasinos - Rien ne vas plus', 'Geschichte der Schule - Elitenbildung - Volksbildung', 'Patti Smith - Die Punk-Poetin', 'Lorenz von Westenrieder - Bayerns rastloser Aufklärer', 'Michail Wassiljewitsch Lomonossow - Ein Genie der Aufklärung', 'Der 11. September - die Folgen von 9/11', 'Johnny Cash - The Man in Black', 'Wie das Mädchen Mirjam zur Himmelskönigin wurde', 'Die Minze, eine erfrischende Pflanze - Alles Natur!', 'Hitze in der Stadt - Kühlbringende Ideen und Lösungen', 'Das Wandern - Vom Zwang zum Luxus', 'Raus zum Campen - Die Geschichte des Urlaubs im Freien ', 'Allmende - Gemeingut und seine Tücken', 'Der Kampf ums Meer - Tiefsee, Nordpol, Pazifik', 'Lebende Fossilien - Von der Evolution vergessen', 'Die Insel der Experimente - Ascension, die Ratten und das Paradies', 'Die sogenannten  \"Menschenrassen\" – Die Konstruktion einer Ungleichheit', 'Völkerschauen - Für 50 Pfennig in den „Menschenzoo“', 'Warum wir Krimis lieben - Tödliches Verlangen auf dem Sofa', 'Der Hut des Zauberers - Vom Magier der Bronzezeit bis zu Gandalf', 'Das Dromedar - Überlebenskünstler und Luxusrenntier', 'Wenn Lebensraum zur Wüste wird - Alles Natur!', 'Michail Gorbatschow - Ein Generalsekretär als Reformer ', 'Verpflichtung zur Wahrheit - Eine altmodische Forderung?', 'Edith Stein - Nonne und Philosophin', 'Sonnen-Eruptionen - Wenn heiße Gase die Erde treffen', 'Sonnenschutz für die Haut - Wie wirken UV-Filter?', 'Kriemhild und Brünhild - Heldinnen der Nibelungen', 'Die Superheldin - Patriarchales Konstrukt oder Popstar?', 'Die Nabatäer - Die Herren der Weihrauchstraße', 'Frühzeitlicher Handel in Arabien - Mit Dhau und Dromedar', 'Peggy Guggenheim - Exzentrische Kunstsammlerin', 'Laufen - Eine Wissenschaft für sich', 'Ameisen - Staatenbildende Insekten der Superlative', 'Superorganismen im Tierreich - Alles Natur!', 'Der Exzentriker - In vollen Zügen ICH ', 'Besonnenheit - Die Kraft der Mitte', 'Der Kreislauf - Was treibt uns an?', 'August Bebel - Vom Drechselgesellen zum Polit-Star', 'Streik! Arbeitskampf für mehr Geld', 'Georg Friedrich Händel - Gute Geschäfte und ein \"Halleluja\"', 'Francisco de Goya - Hofmaler und Sozialkritiker', 'Der Aal - Ein Fisch voller Rätsel', 'Fische - Die unterschätzten Lebewesen', 'Pionierin der Kindheitsforschung - Martha Muchow', 'Erziehung früher - Das sagt die Bindungsforschung heute', 'Zikaden - Der Sound des Sommers', 'Längen- und Breitengrade - Die Vermessung der Welt', 'Knochen, Blüten, Spinnenbeine - Die naturkundlichen Sammlungen Bayerns', 'Feuer weltweit - Der \"normale\" Ausnahmezustand', 'Selbstwert - Mut zur Schwäche', 'Unter Hochstaplern? Das Impostor Syndrom', 'Madonna - Popikone und Meisterin der Selbstinszenierung', 'Kloster Waldsassen - Die barocke Attraktion im Stiftland', 'Maximilian I. von Bayern - Katholik, Kriegsherr, Kurfürst', 'Lesen - Geschichte einer Kulturtechnik', 'Was ist drin, im Fleischersatz? Alles Natur?', 'Was bringt nachhaltige Ernährung? Alles Natur', 'Rheuma - Ein Begriff, viele Krankheiten', 'Liebeskummer - P.S.: Ich habe deinen Pyjama verbrannt', 'Stalking - Wenn die „Liebe“ Wahnsinn ist', 'Jungsteinzeit - Ende der egalitären Phase', 'Wie wir Menschen wurden - Kochen, Nahrung und Gehirn', 'Dunkelgraue Lieder aus Wien - Ludwig Hirsch', 'Anton Bruckner - Sonderling mit Sinn fürs Makabre', 'Zum Weltkatzentag: Die Wildkatze - Rückkehr der Unzähmbaren', 'Die Pariser Kommune - 72 Tage Revolution', 'Kaiser Napoleon III. - Frankreichs demokratischer Despot', 'Kontrolle oder Overkill? Wie die Atombombe die Welt veränderte ', 'Hiroshima und Nagasaki - Atombomben auf Großstädte', 'Gutes Wetter, gute Stimmung? Klima und Charakter', 'Riesenschildkröten, die letzten ihrer Art? Alles Natur', 'Max Stirner - Ein Verfechter des Egoismus', 'Gemeinsinn - Widerstandskraft in schwierigen Zeiten', 'Kryptographie - Die Geschichte der Verschlüsselung', 'Archäologie als Krimi - Die Vergangenheit im Labor', 'Was macht Filmmusik aus? - Mehr als der Sound zum Bild', 'Mythos Titanic - Ein unsinkbares Drama', 'Die Erfindung der Ferien - Geschichte einer wunderbaren Zeit', ' Was der Wind zu uns trägt - Von Samen, Staub und anderen Passagieren der Lüfte', 'Johannes Hoffmann - Die Bamberger Verfassung', 'Von Flossenbürg nach Nymphenburg - Die Wittelsbacher seit 1918', 'Seenotrettung - Einsatz in höchster Gefahr', 'Libellen, die fliegenden Räuber - Alles Natur', 'Was macht Moore so wertvoll? - Alles Natur', 'Im Grunde gut? Das Menschenbild im Wandel der Zeit', 'Die Geschichte der Eisenbahn in Deutschland - Vom Adler zum ICE', 'Die Kultur der Pünktlichkeit - Typisch deutsch!?', 'Kunsttherapie - Kann Kunst die Psyche heilen?', 'Fjodor M. Dostojewski - Leben und Werk', 'Die Brüder Wallach oder wie das Dirndl in die Stadt kam', 'Das Schwarze Meer - Die Geschichte eines umkämpften Raums', 'Scripted reality - Die Erfindung der Wirklichkeit', 'Schauspielschulen - Immer noch weinen auf Kommando?', 'Soziale Folgen des Klimawandels - Die unsichtbaren Opfer', 'Stechmücken - Das geheime Leben der sirrenden Sauger', 'Senf - Der gesunde Scharfmacher ', 'Die Wurst - Von Tradition bis Tofu', 'Work-Life-Balance - Unmöglicher Spagat?', 'Müll - Ein Abfall mit Geschichte', 'Giftiger Schnee im Sommer - Lehren aus der Katastrophe von Seveso', 'Woodstock - Der rebellische Sound der Utopie', 'The Who - Laut, wild, verrückt', 'Afrikas Ubuntu - Die Philosophie der Menschlichkeit', 'Herzogin Hedwig von Burghausen - Verschachert und verbannt', 'Die Landshuter Hochzeit - Bayern und Polen jubeln, Braut weint', 'Badesitten - Lebensfreude und Prüderie', 'Wasser - Quell des Lebens', 'Pollenallergie - Die Natur als Feind?', 'Die wundersame Welt der Gräser - Alles Natur!', 'Diagnose durch Röntgen - Eine medizinische Revolution', 'Die Eiserne Lunge - Künstliche Beatmung', 'Marilyn Monroe - I wanna be loved…', 'James Bond - Männlichkeit im Spiegel der Zeit', 'Denker und Tyrannen - Verhängnisvolle Allianzen', 'Thomas Paine - Gründervater und Querulant', 'Kühltechnik - Wie künstliche Kälte unser Leben beeinflusst', 'Beuteltiere, ein Sonderweg der Evolution - Alles Natur', 'Was Säugetiere so erfolgreich macht - Alles Natur', 'Sonnenwende - Der längste Tag, die längste Nacht', 'Es werde Geld - Wie aus Nichts alles wird', 'Die Geschichte der Wall Street - Wie mächtig ist die Geldfabrik?', 'Literatur im Mittelalter - Zauberspruch und Minnesang', 'Hildegard von Bingen - Kämpferin, Komponistin, Universalgelehrte', 'Die Teezeremonie - Eine chinesisch-japanische Geschichte', 'Die Feder, ein Trick der Natur - Alles Natur', 'Zubeißen - Die Entwicklung der Zähne', 'Infobits und Datenflut - Verlernen wir das Denken?', 'Nähe per Klick? - Das Internet als Ort der Begegnung', 'Schwerelosigkeit - Die Faszination des Schwebens', 'Schwarze Löcher - Unheimlich anziehend', 'Janis Joplin - Grenzgänge einer Rockpionierin', 'Die Mandäer - Die Erben von Johannes dem Täufer', 'Trans*menschen und die Medizin - Forschung und Vorurteil', 'LGBTIQ - Eine Bewegung und ihre Geschichte', 'Das Faultier, Langsamkeit als Überlebenstrick - Alles Natur', 'Wie Tiere schlafen - Alles Natur', 'Erich Maria Remarque - Im Westen nichts Neues', 'Die glückliche Gesellschaft - Kann man von Finnland lernen?', 'Joseph Vilsmaier - Der andere Blick auf Bayern', 'Die Geierwally - Von der Malerin zum Mythos', 'Kapitalismus - Von Webstühlen zum Hochfrequenzhandel ', 'Wie geht Wohlfahrt für alle? Der Ökonom Amartya Sen', 'Mistkäfer, die perfekten Müllmänner - Alles Natur', 'Warum Aas die Natur belebt - Alles Natur', 'Das Reformjudentum - Aufklärung und Emanzipation', 'Leo Baeck - Die Stimme des deutschen Judentums', 'Beowulf - Archetyp und Monstertöter', 'Diplomatie - Die Kunst, nur die halbe Wahrheit zu sagen', 'Henry Kissinger - Ein Leben für die Macht', 'Samurai - Der legendäre Kriegeradel Japans', 'Philosophie der Berge - Von Höhen und Tiefen', 'Es war einmal ein Ozean - Geschichte der Meeresausbeutung', 'Zufall oder vorbestimmt? Wie das Leben läuft', 'Friederike Kempner - Schlesische Meisterin der unfreiwilligen Komik', 'Groschenhefte - Trivialer Schund in Serie', 'Wie bitte? Was? Staunen als Anfang von allem', 'Der Blues - Feeling so Black and Blue?', 'Die Schlacht am Weißen Berg - Das Ende des Winterkönigs', 'Bayern und Böhmen - Kampf um Glauben und Krone', 'Die Nürnberger Prozesse - Nazi-Kriegsverbrecher vor Gericht', 'Radausflüge - Ein literarischer Tritt in die Pedale', 'Velo, Radl, Mountainbike - Ein Gefährt und seine Geschichte', 'Die Hochzeit - Riten und Bräuche ums Fest', 'Der Prozess gegen die IG-Farben - \"Wir waren weniger als Sklaven\" ', 'Wie Bäume sich verteidigen - Alles Natur', 'Können Pflanzen fühlen und denken? - Alles Natur', 'Metaphysik - Lebenselixier oder Spinnerei?', 'Parmenides - Der Vater der Philosophie', 'Gärtnern als spirituelle Erfahrung - Vom Entstehen und Vergehen ', 'Synästhesie - Gerüche hören und Klänge riechen', 'Louis Braille - Der Erfinder der Blindenschrift', 'Jahreszeiten außer Takt? Alles Natur!', 'El Niño und la Niña - Wie sie das Weltwetter aufmischen', 'Annette von Droste-Hülshoff - Springen möcht ich!', 'Was schulden wir den Eltern? Zwischen Pflichtgefühl und Abgrenzung', 'Wohntürme und Wolkenkratzer - Als die Häuser immer höher wurden', 'Die Geschichte des Aufzugs - Wie der Fahrstuhl die Welt veränderte', 'Strange Fruit - Song gegen Lynchmord und Rassismus', 'Nina Simone - Sängerin und Ikone der Schwarzen Bürgerrechtsbewegung', 'Altersweisheit - Vom Umgang mit der verbleibenden Zeit', '„Immer diese Jugend!?“ - Der ewige Generationenkonflikt', 'Generationenübergreifende Wohnmodelle - Gemeinsam statt einsam', 'Robin Hood - Die Legende vom edlen Räuber', 'Der Egoismus - Das Zukunftsmodell?', 'Schwarmintelligenz - Was kann das Kollektiv?', 'Wildbienen - Die einsamen Königinnen', 'Die Geschichte der Imkerei - Das Geschäft mit der Biene', 'Helden, Softies, neue Väter - Vom Wandel des Männlichkeitsideals', 'Endlich Pause - Der Sinn von Leerlauf ', 'Verdammte Warterei - Qualvolle Abhängigkeit und süßes Nichtstun', 'Wie entstehen Planeten? Alles Natur!', 'Weltraumteleskope - Vom tiefen Blick ins All', 'Der Traum der roten Kammer - Die chinesischen Buddenbrooks', 'Tschingis Aitmatow und Kirgisien - Nomaden, Jurten und Kolchosen', 'Das Grundwasser - Schatz aus der Tiefe', 'Prähistorische Instrumente - Der Sound der Steinzeit', 'Der Neandertaler - Der verkannte Urzeit-Mensch', 'Tiergifte - Naturheilstoffe in der Medizin?', 'Käfer - Unverzichtbar für die Natur', 'Der Beginn der Landwirtschaft - Alles Natur', 'Grüne Gentechnik - Fortschritt oder Risiko?', 'Alles anders, alles neu? Die Psychologie des Umbruchs', 'Charakter und Bestechlichkeit - Die Psychologie der Korruption', 'Ab ins Altenteil? Die Psychologie der Verrentung', 'Kunst ist eine Behauptung - Der Kunstbegriff', 'Creative Writing - Kann man Schreiben lernen?', 'Ab jetzt in der ARD Audiothek: Kinder der Flucht - Frauen erzählen', 'Die Mao-Bibel - Kleines Buch mit großer Wirkung', 'Chinas rote Herrscher - Machthaber und Vordenker', '\"Was gerecht ist, ist nützlich!\" John Stuart Mill - Mitbegründer des Utilitarismus', 'Kleine Wesen, große Wanderer - Alles Natur', 'Warum wandern Tiere? Alles Natur', 'Heureka! Große Geistesblitze und kleine Ideen', 'Reporterlegende Seymour Hersh - Stachel im Fleisch der Mächtigen', 'Die Spiegel-Affäre - Franz Josef Strauß und Rudolf Augstein', 'Salvador Dalí - Künstler und Provokateur ', 'Pablo Ruiz Picasso - Der Künstler, der sich ständig neu erfand', '\"Raufkultur\" in Bayern - Watschen, Fotzen, Fingerhakeln', 'Leistungsmaschine Körper - Als wir zur Maschine wurden', 'Der Körper in der Gesellschaft - Bodyshaming und Bodypositivity', 'Die Taube, Friedenssymbol und Hassobjekt - Alles Natur', 'Der Star, ein Gesangstalent - Alles Natur', 'Die Heilige Helena - Die Kreuzauffinderin', 'Der Prozess Jesu - Ein ungelöster Fall?', 'Philipp Reis - Erfinder des Telefons', 'Das Deutsche Museum - Technikgeschichte zum Anfassen', 'Richard Wright - Vater der Black Power', 'Afrobeat - Musik aus Westafrika erobert die Popkultur', 'Nach dem Dreißigjährigen Krieg - Wiederaufbau in Augsburg', 'Der Marshall-Plan - Hilfe zur Selbsthilfe', 'Erdsystemforschung - Eine Medizin für die Erde', 'Bären und Wölfe - Wieviel Wildnis wollen wir?', 'Photosynthese - Das wundersame Pflanzenkraftwerk', 'Nachtaktive Pflanzen - Was uns im Dunkeln blüht', 'Verzeih mir! Verzicht auf Rache', 'Der neue Mann - Total „von der Rolle“?', 'Ehegattensplitting - Geschichte eines maroden Modells', 'Edgar Allan Poe - Der Dichter und der Horror', 'H.P. Lovecraft - Meister des dämonischen Horrors', 'Die Zecke - Kleiner Parasit mit großem Risiko', 'Supermärkte - Die Entwicklung einer Verkaufsstrategie', 'Lebensmittelkontrolle - Eine Risiko-Geschichte', 'Der Regenwurm - Unsichtbare Designer der Erde', 'Der Grönlandhai - Das langlebigste bekannte Wirbeltier der Welt', 'Die Tiefsee - Das größte Forschungsterrain der Welt', 'Verbote verboten? - Über das Verhältnis von Freiheit und Sicherheit', 'Kants Kategorischer Imperativ - Veraltet oder brandaktuell?', 'Milton Friedman - Anwalt des Neoliberalismus', 'Die Erfindung des Marktes - Wie eine Theorie die Welt verändert?', 'Die Sorben - Indigene mitten in Deutschland', 'Parkinson - Wenn Nervenzellen im Gehirn sterben', 'Gesundheit und Statistik - Welcher Studie kann man trauen?', 'Das Kreuz  - Zeichen des Widerspruchs und der Befreiung', 'Die WHO - Eiertanz um die Weltgesundheit', 'Tiere verstehen? - Zwischen Deutung und Forschung', 'Psychische Erkrankungen bei Tieren - Wenn Stress Tiere krank macht', 'Älteste - Die Wiederentdeckung einer sozialen Institution', 'Orgel - Die Königin der Instrumente', 'Max Reger - Orgelwerke und Choralfantasien', 'Gelehrte Frauen im Mittelalter - Autorinnen und Dichterinnen', 'Margarete Maultasch - Gräfin von Tirol', 'Wetter und Wohlbefinden - Was steckt hinter Wetterfühligkeit?', 'Egon Erwin Kisch - Der rasende Reporter', 'Gene oder Gelerntes - Was bestimmt unsere Persönlichkeit?', 'Chromosomen - Bausteine des Lebens', 'Frauen als Komponistinnen - Genial und unterschätzt', 'Das Kanalsystem in Deutschland - Eine unterirdische Geschichte', 'Der Brunnen - Errungenschaft der Zivilisation', 'Whiteness - Weiß denken, rassistisch sein?', 'Die Feministin bell hooks - Liebe ist Heilung', 'Der Kompromiss - Immerhin etwas', 'Heinrich Held - Ein Ministerpräsident und der Untergang Bayerns', 'Hitler in Landsberg - Der Festungshäftling', 'Verkehrspolitik der Zukunft - Effizienter und umweltschonender?', 'Die Amsel - Vom Zugvogel zum Dauergast', 'Klimawandel und Lebensraum - Strategie der Anpassung', 'Der Wiedehopf - Der Punk unter den Zugvögeln', 'Die Yagans - Seenomaden am anderen Ende der Welt', 'Das Volk der Kogi in Kolumbien - Die Hüter der Erde', 'Düfte in der Literatur - Shakespeare, Proust und Baudelaire', 'Die Große Migration - Afroamerikaner ziehen in die USA', 'Die Geschichte der „Ruhrpolen“ - Wie Einwanderer den Pott prägten', 'Die Geschichte der Kindheit - Die Entdeckung eines Lebensalters', 'Kinderbücher der Nachkriegszeit - Und was lesen wir jetzt?', 'Bayerns König Ludwig I. - Vorwärts, vorwärts sollst du schauen!', 'Die deutsche Revolution von 1848 - Für Demokratie und Nationalstaat', 'Vom Bettelruf zur Bravour-Arie - Warum Vögel singen', 'Die 70er-Jahre - Utopie und Ernüchterung', 'Lawinenforschung - Zerstörerischer Schnee', 'Der Bergwald - Schutzbedürftiger Schutzwall', 'Verbrecher auf der Anklagebank - Der Internationale Strafgerichtshof', 'Blutiger Golf - Der Irak-Krieg 2003 und seine Folgen', 'Enrico Caruso - Erster Superstar der Schallplatte', 'Fürstbischof Julius Echter - Alle Macht dem Glauben', 'Martin Luther - Ein Mönch erschüttert das Abendland', 'Der Oscar - Hollywoods Goldjunge', 'Der Traum - Das unbekannte Hirngespinst', 'Neid - Warum du und nicht ich?', 'Bodenschätze in der Tiefsee - Das Schürfen von Rohstoffen', 'Das Automobil - Die ersten 50 Jahre', 'Tempolimit - Der ewige Streit und die Hintergründe', 'Iwan Turgenjew - Ost-West in Person', 'Migrationsliteratur - Weggehen, Ankommen, Weiterleben', 'Schwarmintelligenz - Wie clever ist das Kollektiv?', 'Misogynie - Die Abwertung des Weiblichen', 'Der Biologe Edward O. Wilson - Ein Leben für die Artenvielfalt', 'Das Ohr - Wie Hören unser Leben prägt', 'Nashörner - Die bedrohten Dickhäuter', 'Artenwandel im Anthropozän - Der Einfluss des Menschen auf die Evolution', 'Diskretion - Respekt vor dem Privaten', 'Kritisches Denken - Was genau heißt das?', 'Autarkie - Krisenfest durch Unabhängigkeit?', 'Neue Sachlichkeit - Literatur der Weimarer Republik', 'Die erste Gerichtsreporterin Deutschlands - Gabriele Tergit', 'Staatenlosigkeit - Ohne Schutz und Rechte?', 'Die Geschichte des Reisepasses - Ein Papier öffnet Grenzen', 'Totholz - Alte Bäume voller Leben', 'Fasten - Verzicht und innerer Gewinn?', 'Gelassenheit - Was ist das, wie geht das?', 'Entfremdung - Philosophie der Zerrissenheit', 'Die Weiße Rose in Hamburg - Der Fall Hans Leipelt', 'Sophie Scholl - Eine junge Frau im Widerstand', 'Die Geschichte der Glasarchitektur - Durchlässig für Licht', 'Tierdarstellungen - Was sie über Menschen von früher erzählen', 'Colette - Jenseits der Konventionen', 'Anna Pawlowa - Meistertänzerin des klassischen Balletts', 'Hitler - Die frühen Jahre bis zum Putsch', '30. Januar 1933 - Die Intellektuellen und die Machtübergabe an Hitler', 'Gesellschaft und Armut - Der Umgang mit Mittellosen', 'Molière - Meister der Charakterkomödien', 'Der tropische Regenwald - Bedrohter Klimapuffer', 'Das Volk der Yanomami - Ihr Kampf ums Überleben', 'Ashram - Auf der Suche nach Spiritualität', 'Mahatma Gandhi - Revolution ohne Gewalt', 'Denkfabriken - Starke Macht im Hintergrund?', 'Der deutsche Ethikrat - Geschichte und Bedeutung bis heute', 'Orgeln in der Synagoge - Die jüdische Reformbewegung und ihre Musik', 'Der Kuss - Biologie einer Liebkosung', 'Der Limes - Die Außenhaut des Römischen Reichs', 'Römer und Kelten in Kempten - Schmelztiegel Cambodunum', 'Das frühe Radio - Zwischen Aufklärung und Propaganda', 'Kindersoldaten - Im Krieg statt in der Schule', 'Das epische Theater - Glotzt nicht so romantisch!', 'Der Borkenkäfer - Der Schädling, der Trockenheit und Fichten liebt', 'Die Fichte - Immergrün ohne Zukunft?', 'Was uns tröstet - Kraft in der Krise', 'Die Erde - Ein Planet in ständiger Bewegung', 'Magie des Reims - Von Zaubersprüchen und Gedichten', 'Die Macht des Wortes - Segen, Fluch und Wortmagie', 'Die UNRRA - Hilfe für Entwurzelte', 'Zwangsarbeiter - Die vergessenen Kriegsopfer. Beispiel Neuaubing', 'Der Strafrichter Roland Freisler - Im Dienst des NS-Staates', 'Das Walross - Dickhäutiger Koloss der Arktis', 'Eisschmelze - Verlorene Lebensräume für viele Tiere', 'Schluss damit! Anleitungen zum Aufhören', 'Skitourismus - Der weiße Wahnsinn', 'Der Boykott in Südafrika - Handelsschranken für Südafrika?', 'Wirtschaftssanktionen - Wie sinnvoll sind ökonomische Daumenschrauben?', 'Josephine Baker - Bananenrock und Regenbogenfamilie', 'Burlesque - Von der Komik zur Erotik', 'Der Koreakrieg - Wie aus Brüdern Feinde wurden', 'Checkpoint Charlie - Nadelöhr im kalten Krieg', 'Geschichte der Privatsphäre - Menschliches Grundbedürfnis oder Konstrukt?', 'Anita Lasker-Wallfisch - Die Cellistin von Auschwitz', 'Sesamstrasse - Ernie, Bert und Krümelmonster', 'Das Geheimnis der Mythen - Metaphern von Ursprung und Wandel', 'Die Heiligen Drei Könige - Wahrheit, Legende oder Mythos?', 'Maria Mitchell - Die Frau, die nach den Sternen griff', 'Sternschnuppen - Leuchtende Phänomene am Nachthimmel', 'Rembrandt von Rijn - Der Maler der „Nachtwache“', 'Original - Wie wertvoll ist das Unikat?', 'Die Erfindung der Schrift - Vom Bild zum Symbol', 'Estland, Lettland, Litauen - Das Baltikum zwischen Ost und West', 'Georgien - Der blockierte Weg nach Westen', 'Chili - Heiße Schoten', 'Die Jesiden - Das Volk des Engel Pfau', 'Eskapismus - Flucht aus der realen Welt', 'Nostalgie - Der Traum vom besseren Gestern', 'David Ricardo - Begründer des Freihandels', 'Geschichte der Wirtschaftspolitik - Von Reinigungskrisen und Magischen Vierecken', 'Der Schriftsteller Jaroslav Hašek - Melde gehorsamst: Schwejk Josef', 'Joseph Roth - Der Radetzky-Marsch', 'Die Cinecittá - Filmklassiker aus der ewigen Stadt', 'Privateigentum - Seit wann gibt es \"meins\" und \"deins\"?', 'Die Geschichte des Geldes - Von der Muschel zur Kreditkarte', 'The King - Elvis Presley ', 'Der Aufbau unserer Erde - Kruste, Mantel und Kern', 'Tiefe Geothermie - Energie der Zukunft?', 'Die Macht des Gerüchts - Flüsterpost und Nachrede', 'Das Familiengeheimnis - Die Macht des Verschweigens', 'Warum Menschen erzählen - Geschichten und Sprachverwendung  ', 'Westafrikanische Griots - Erzähler, Berater und Vermittler', 'Therese von Bayern - Prinzessin, Naturforscherin, Ethnologin', 'Feldforschung in Amazonien - Auf den Spuren von Theodor Koch-Grünberg', 'Hoffnung - Die Stille Kraft', 'Eine kleine Geschichte des Energiesparens - Not macht erfinderisch', 'Vom Zaren zum Sozialismus - Das große Experiment', 'Geschichte des Skifahrens - Vom Pionier-Vergnügen zum Massensport', 'Rauhnächte - Die wilde Jagd der Götter, Geister und Dämonen', 'Die Kegelrobbe - Deutschlands größtes Raubtier', 'Der Schweinswal - Opfer einer verfehlten Meerespolitik?', 'Das Bedürfnis nach Stille - Ruhe als Ressource', 'Hochsensibel - Zart besaitet oder nervlich überlastet?', 'Frohe Weihnachten? Warum es Familienfeste in sich haben', 'Korallen - Das große Sterben', 'Grace Murray Hopper - Computerpionierin und Navy-Admiralin', '50 Jahre Computerspiele - Pong, Pac-Man und Co', 'Reinigen, Heilen, Segnen - Die Tradition des Räucherns wird neu entdeckt', 'Die Russische Welt aus Sicht des Kremls - Ruskij Mir', 'Füchse, Zobel und der Zar - Sibiriens Pelze und ein neues Weltreich', 'Unter dem Schnee - Wie Tiere über den Winter kommen', 'Legionellen - Tödliche Gefahr aus der Wasserleitung', 'Verletzung der Selbstachtung - Anmerkung zur Demütigung', 'Magersucht und Bulimie - Wenn Essen zum Drama wird', 'Philosophie der Aufklärung - Vernunft als Wahrheit', 'Voltaire - Dichter, Philosoph, Freigeist', 'Der Affe in Indien - Mal Gott, mal Last', 'Kulturgeschichte des Haushalts - Mehr als Kochen und Putzen', 'Die Geschichte der Ehe - Liebe und Recht seit der Romantik', 'Die E-Gitarre - Der Sound aus dem Brett', 'Led Zeppelin - Ikonischer Rock, hard und heavy', 'Der Arzt in uns - Wie Schnittwunden und Knochenbrüche heilen', 'Brauchen wir noch Helden - Und wenn ja, welche?', 'Teresa von Avila - Die Wiederentdeckung einer Mystikerin', 'Das Wunder - Faszination des Unerklärlichen', 'In den Mühlen der Geheimdienste - Boris Pasternak und sein „Doktor Schiwago“', 'Väterchen Frost - Der Winterzauberer', 'Warum wir Rituale brauchen - Anker im Alltag', 'Die Währungsunion - D-Mark für den \"Osten\"', 'Computer-Clash - Hackerkultur in der BRD und DDR', 'Sterben - Chronologie des letzten Abschieds', 'Die Gebärmutter, der Uterus - Viel mehr als ein Teil des Geschlechtsorgans', 'Der Esel - Die Entdeckung der Langsamkeit', 'Der Ochse - Symbol der Güte und Beständigkeit', 'Sterbehilfe - Selbstbestimmung bis zum Schluss?', 'Strafkolonien als Siedlungsstrategie - Beispiel Ushuaia in Argentinien', 'Überleben im Eis - Die Geschichte der Ada Blackjack', 'Carl Michael Bellman - Der schwedische Nationadichter', 'Georg Philipp Telemann - Barocker Superstar', 'Sternedeuten und Horoskope - Die Geschichte der Astrologie', 'Die Ölkrise der 1970er - Ein Rückblick auf eine folgenreiche Zeit', 'Katar - Reichtum zwischen West und Ost', 'Völkermord in \"Deutsch-Südwestafrika\" - Namibias tiefe Wunden', 'Guido von Arezzo - Erfinder der Notenschreibung', 'Alfons Goppel - Ein Konservativer modernisiert Bayern', 'Der Anfang der CSU - Richtungskämpfe und Lehrjahre', 'Identität - Eine philosophische Annäherung', 'Mitgefühl - Was Hirnforscher darüber wissen', 'Vertrauen - Wie wir es entwickeln und gewinnen', 'Der ukrainische Holodomor - Geplante Katastrophe?', 'Käthe Beutler - Geschichte einer Medizinerin und Matriarchin', 'Frauenberufe um 1900 - Aufbrüche und Grenzen', 'Münchner Salons - Künstlerische Geselligkeit', 'Das Grundgesetz - Die Geschichte eines Exportschlagers', 'Die Mütter des Grundgesetzes - Männer und Frauen sind gleichberechtigt', 'Krypto-Kunst und NFTs - Digitale Bilder und das große Geld? ', 'Das große Leuchten - Tiere mit Biolumineszenz', 'Tiere der Tiefsee - Die unerforschten Geisterwesen', 'Sich verschwenden … - Der Zauber der Großzügigkeit', 'Habgier und Raffsucht - Mit vollem Hals im moralischen Keller', 'Evolution und Musik - Warum Menschen Musik machen', 'Der Denisova-Mensch - Ein neues Familienmitglied', 'Die Zukunft des Erdöls - Neue Märkte suchen oder im Boden lassen?', 'Mumien in Europa - Unerhörte Zeitzeugen im Labor', 'Lost Places - \"Verlorene Orte\" zwischen Zerfall und Erinnerung', 'Bevölkerungswachstum - Wie viel verträgt die Erde?', 'Wolfgang Borchert - Leben und Werk', 'Eisschmelze - Das große Rauschen ', 'Mammut & Co - Die Megafauna der letzten Eiszeit', 'José Saramago - Das \"Evangelium\" eines Unbequemen', 'Andy Warhol - Pop oder Art?', 'Frank Zappa - Zwischen Pop und Avantgarde', 'Pharao Ramses II. - Der Sonnenkönig im Schatten', 'König Tutanchamun - Vom vergessenen Kind-Pharao zum Weltstar', 'Immer dasselbe - Anmerkungen zur Gewohnheit', 'Blutvergiftung - Wenn jede Minute zählt', 'Sucht und Sehnsucht - Unstillbarer Hunger der Seele', 'Kampf gegen Klimawandel - Warum tut sich der Mensch so schwer?', 'Tipping Points in der Klimakrise - Es gibt kein zurück', 'Sherlock Holmes und sein Autor Doyle - Eine komplizierte Beziehung', 'Bram Stoker - Der Erfinder des \"Dracula\"', 'Bayerns Wälder - Von der Wildnis zum Forst', 'Wein in Altbayern - Eine fast verschwundene Tradition', 'Trinken - Was passiert im Körper?', 'Fertiggerichte - Was kommt da eigentlich auf den Tisch?', 'Die Religion der Massai - Die Auserwählten von Gott Engai', 'Aschaffenburg - Residenzstadt zwischen Mainz und München', 'Vergiftet am Arbeitsplatz um 1770 - Anton Hermann', 'Nikita Chruschtschow - Mehr als der Mann mit dem Schuh', 'Multitalent Pferd - Freund, Lasttier und Kriegsgerät', 'Das Pferd in Kult und Religion - Herrschertier und Jenseitsführer', 'Dankbarkeit - Quelle der Freude und des Glücks', 'Das Heilige - Begegnung mit dem Nicht-Alltäglichen', 'Amerika in unserem Alltag - Fastfood, Popkultur, Sprache', 'Die deutsch-amerikanische Freundschaft - Eine wechselhafte Beziehung', 'Die Brooklyn Bridge - Die unglaubliche Geschichte ihrer Entstehung', 'Bakterien und Viren - Die Weltenherrscher', 'Der Axolotl - Ein Leben im Larvenstadium', 'Der Nacktmull - Wenn es auf die inneren Werte ankommt', 'Sita - Indiens mythologische Traumfrau', 'Esskultur 1945 bis heute - Vom Jägerschnitzel zu Sushi', 'Das Kamasutra - Leitfaden für Liebe, Erotik und Lebensweise', 'Exilliteratur - Deutsche Texte aus der Fremde', 'Sinti und Roma - Literatur in Deutschland', 'Nofretete - Politikerin, Religionsstifterin, Schönheitsideal', 'Die Kubakrise von 1962 - Warum die Welt nicht unterging', 'Flechten - Phänomenale Überlebenskünstler', 'Mangroven - Küstenschützer in Gefahr', 'Thomas Mann und die Seinen - Im Hofstaat des Zauberers ', 'Schreibblockaden - Der Kampf um den ersten Satz', 'Propaganda im Ersten Weltkrieg - Der Franzmann, die Hunnen', 'Der englische Dichter Thomas Hardy - Endstation Stonehenge', 'Country-Musik - Der Blues des weißen Mannes', 'Pionierinnen der Psychoanalyse - Von wegen Penisneid', 'ADHS - Eine Diagnose fürs Leben', 'Die frühen Christen - Hoffnung auf den Erlöser', 'Geschichte der Versicherungen - Hilfe bei Piraterie, Feuer und Krankheit', 'Die Geschichte der Feuerwehr - Von Ledereimern und Tanklöschfahrzeugen', 'Quantenmechanik im täglichen Leben - Die Bedeutung der Erkenntnisse Heisenbergs', 'Quantenphysik - Wahr, aber verrückt', 'Das Hörspiel der 50er Jahre - Themen, Machart, Klang', 'Josef Guggenmos - Der \"Poet für kleine Leute\"', 'Der Geschmacksinn - Wie das Schmecken funktioniert', 'Die Wirkung der Farben - Von der Evolution bis zur Inneneinrichtung', 'Als das Tier zum Freund wurde - Geschichte des Haustieres', 'Die Welt ertasten - Ein ganz besonderer Sinn', 'Enge in der Stadt - Alltag und Gesundheit', 'Die deutschen Sinti und Roma - Die Geschichte einer Minderheit', 'Django Reinhardt - König des Gypsy-Jazz', 'Der Deutsche Herbst - Zwischen RAF und Rasterfahndung', 'Die Gründung der GSG 9 - Antwort auf den Terror', 'Thomas Cook - Pionier des Pauschaltourismus', 'Mary Anning - Pionierin der Paläontologie', 'Rastafari - Leben im Hier und Jetzt', 'Stephen King - Der König des Schreckens', 'Biomasse - Kontroverse Energiequelle', 'Wie Strom speichern? Die große Zukunftsfrage', '\"Ich bin nicht schwarz\" - Chimamanda Ngozi Adichies Roman \"Americanah\"', 'Frantz Fanon - Vordenker des antikolonialen Befreiungskampfes', 'Holz - Die Mär von der sauberen Energie', 'Andreas Osiander - Reformation in Franken', 'Das Frühe Würzburg - Franken und die Christliche Mission', 'Bergsturz - Bedrohte Berge', 'Bergsteigerinnen - Unbekannte Heldinnen', 'Smalltalk - Schmierstoff im sozialen Getriebe', 'Küchenpsychologie - Wo jeder gerne mitredet', 'Johann Heinrich Pestalozzi - Vom Erzieher der Armen zum Vater der Pädagogik', 'Der Pygmalion-Effekt - Meinungen und ihre Wirkung', 'Vincent Van Gogh - Begründer der modernen Malerei', 'Hubert von Herkomer - Künstler, Schriftsteller, Multitalent', 'Mensch und Hund - Eine Erfolgsgeschichte', 'Der Butler - Unsichtbar und stets zu Diensten', 'Balthasar Sprenger - Die erste deutsche Indienfahrt 1505', 'Ulrich Schmidl - Der Konquistador aus Niederbayern', 'Versklavt im Mittelmeer - Als Christen und Moslems sich jagten', 'Johannisbrotbaum - Mediterrane Superpflanze', 'Brot und Spiele - Gladiatoren und andere Vergnügungen im alten Rom', 'Typisch Bayerisch?! Die Erfindung eines Klischees', 'Damnatio Memoriae - Die Auslöschung des Andenkens', \"Gabriele D'Annunzio - Dichter und Erfinder des Faschismus\", 'Giacomo Casanova - Der faszinierende Frauenheld', 'Mutter Teresa - Ein Porträt', 'Das Mikrobiom - \"Wir\" sind viele', 'Fettgewebe - Das unbekannte Organ', 'Der Mauersegler - Der Vogel, der im Flug schläft', 'Poseidon - Der Gott des Meeres', 'Glasnost und Perestrojka - Reformen mit unerwarteter Wirkung', 'Die deutsche Wiedervereinigung - \"Wir sind ein Volk!\"', 'Die Geschichte der Abrüstung - Von SALT bis START', 'Das Kondom - Von der Ziegenblase zum Massenartikel', 'Syphilis - Die Macht einer Infektionskrankheit', 'Wasserknappheit bei uns - Rauscht es bald nicht mehr?', 'Inflation - Phänomen der Wirtschaftsgeschichte', 'Münchens Olympiastadion - Spinnennetz und Sensation', 'Olympia-Hymnen - Musikalisches Olympia-Branding', 'Pilgern - Unterwegs zu heiligen Orten', 'Geschichte der Badeanstalten - Eine Kultur für sich', 'Klang-Räume - Musik und Akustik', 'Wasserstoff - Kleines Atom mit großer Wirkung', 'Naga - Die Neuentdeckung der Antike im Sudan', 'Klimawandel - Der Konfliktanheizer', 'Margarete Mitscherlich - Über die Liebe zu sich selbst', 'Die Geschichte der Steuern - Zugemauerte Fenster und gestutzte Bärte', 'Leuchttürme und Feuerschiffe - Rettende Wegweiser auf See', 'Hochseefischerei - Geschichte einer Industrie zu See', 'Helmut Haberkamm - \"Edzerdla\" auf Fränkisch, bitte', 'Allmächd! Geschichte des fränkischen Dialekts', 'Hörsturz - Wenn das Ohr aus dem letzten Loch pfeift', 'Lilith - Adams erste Frau', 'Frauen in geweihten Ämtern der Frühkirche - Priesterin, Diakonin, Bischöfin', 'Walter Benjamin - Der unangepasste Philosoph', 'Die Götterwelt der Germanen - Wotan und die Seinen', 'Die Edda - Nordische Mythen und Sagen', 'Mikroabenteuer - Kleine Abenteuer im Alltag', 'Mikroplastik - Ein aussichtsloser Kampf?', 'Tornado, Twister, Windhose - Die Macht der Wirbelwinde', 'Wale - Faszinierende Wanderer der Ozeane', 'Jörg Fauser - Wegbereiter der Underground-Literatur', 'Krautrock - The German Sound', 'Das Dorf - Die Geschichte des Landlebens in Deutschland', 'Soja - Fluch und Segen einer Bohne', 'Der Wald - Rückzugsort für Natur und Seele', 'Tiere als Therapeuten - Wenn Tiere Seelen heilen', 'Haskala - Die jüdische Aufklärung', 'Moses Mendelssohn - Der Vorreiter der jüdischen Aufklärung', 'Ernst Bloch - Denken heißt hoffen', 'Host mi? Eine kleine bairische Sprachgeschichte', 'Gerhard Polt - Das Gemeine im Gemütlichen', 'Die Bamberger Hexenprozesse - Unschuldig muss ich sterben', 'Die Hugenotten in Erlangen - Barocke Idealstadt für Flüchtlinge', 'Straßenbahn, Tramway oder \"Bim\" - Ratternd durch die Stadt', 'Die Münchner U-Bahn - Wegbereiterin einer Weltstadt', 'Der Seeigel - Das runde Stachel-Wunder', 'Die Seegurke oder Seewalze - Staubsauger der Meere', 'Die Demut - Fessel oder Tor zur inneren Freiheit?', 'Mit eigenen Händen - Vom Glück, etwas zu erschaffen', 'Die durchdrehende Schraube - Eine Schauer-Novelle von Henry James', 'E.T.A. Hoffmann - Das Unheimliche im Heimlichen', 'Jugendbewegungen in der Weimarer Republik - Romantik und Rebellion', 'Wie ideale Teams funktionieren - Gemeinsam ans Ziel', 'Von Amundsen bis Hapag-Lloyd - Geschichte der Antarktis- Eroberung', 'Die Schlange - Ganzheit, Unsterblichkeit, Weisheit und List', 'Schleim - Schutzfilm mit Ekelfaktor', 'Körperwäsche - Das richtige Maß an Hygiene', 'Der Himmel - Bilder vom ewigen Glück', 'Homo pictor - Der Mensch und die Bilder', 'Vom Vorleser zur Einheitsgewerkschaft - Die deutsche Gewerkschaftsbewegung', 'Werner Heisenberg - Scharfer Denker der Unschärfe', 'Schrödingers Katze - Legendäre physikalische Experimente', 'Gustav Klimt - Der Wiener Maler und der Kuss', 'Die Wiener Werkstätte und die Frauen - Textildesign, Mode und Keramik.', 'Bretton Woods - Der Traum von einer stabilen Weltwährung', 'Artemisia - Die Admiralin der Antike', 'Kyros II. - Gründer des persischen Großreichs', 'Der Blutegel - Parasit und Heilmittel', 'Ehre - Unverzichtbar oder kontraproduktiv?', 'Lebende Götter - Und das Wort ist Fleisch geworden', 'Seelenwanderung - Ein Thema vieler Religionen', 'Die Geschichte der Menschenwürde - Niemand ist weniger wert als andere', 'Kunst und Profit - Über den Kunstmarkt', 'Der Reformator Jan Hus - \"Die Wahrheit stirbt nicht in Flammen\"', 'Rache für den Holocaust? - Vergeltung für Deutschlands Verbrechen', 'Das Tagebuch der Anne Frank', 'Die Bamberger Hexenprozesse - Unschuldig muss ich sterben', 'Die Hugenotten in Erlangen - Barocke Idealstadt für Flüchtlinge', 'Weltnaturerbe Wattenmeer - Ökosystem im Wechsel von Flut und Ebbe', 'Philosophie der Strafe - Vom Sinn und Unsinn des Strafens', 'Olympische Dörfer in aller Welt - Was wurde aus den Unterkünften?', 'Sprint zu den Olympischen Spielen - München wird moderner', 'Hollywood - Die Entstehung eines Imperiums', 'Judy Garland und Shirley Temple - Hollywoods Kinderstars', 'Raum für das Wesentliche - Minimalismus als Lebensstil', 'Architektur und Zirkularität - Mehr als nur Recycling', 'Karst und Karstlandschaften - Wenn Korrosion die Landschaft prägt', 'Die Kohle - Wärmespender und Umweltsünder', 'Irrationalität - Die andere Seite des Menschseins?', 'Ibn Rushd alias Averroes - Arabische Aufklärung', 'Sein Gesicht wahren - Philosophische Gedanken', 'Protokoll und Etikette - Anleitungen zum guten Auftritt', 'Der Tanz der Vampire - Dracula in der Musik', 'Wer war Hermann Heuschmann? - Ein Roadmovie aus dem 19. Jahrhundert', 'Ansbach - Teststrecke für die politische Moderne', 'Watergate - Ein Skandal erschüttert die USA', 'Schaukel - Leichtigkeit und Schwerelosigkeit', 'Das Wunder von Wörgl - Alternativwährung für die Krise', 'Mythos Schwabing - Vom Vorstadtdorf zum Treffpunkt der Avantgarde', 'Karl Wolfskehl - Der Zeus von Schwabing muss ins Exil', 'BRD und DDR - Sich fremd geworden?', 'Mit Düften heilen - Wie Riechen uns beeinflusst', 'Orchideen - Spektakel der Farben und Formen', 'Hitze, Hagel, Hochwasser - Städte wappnen sich für Extremwetter', 'Der Basstölpel - Der Dandy unter den Tölpeln', 'Koscher und Halal - Speisevorschriften in Judentum und Islam', 'Fritz Lang - Filmgenie und Visionär', 'Man Ray - Künstler und Fotograf', 'Das Auerhuhn - Der vom Aussterben bedrohte Urvogel', 'Der Hirsch - Der stolze König des Waldes', 'Philosophie auf Abwegen - Eine kleine Geschichte der Verschwörung', 'Die Philosophie der Skepsis - Nichts ist wirklich wahr', 'Der Weltraum und wir - Vom Aufbruch der Menschen ins All', 'Graffiti - Kunst aus der Dose', 'Otl Aicher - Gestaltung mit Haltung', 'Seidenstraße - Asien im Zentrum der menschlichen Zivilisation?', 'Der weibliche Zyklus - Lebenskreislauf im Verborgenen', 'Der Kampf gegen Pocken - Die erste Impfung der Geschichte', 'Krankheitsüberträger Tier - Wenn Keime Grenzen überspringen', 'Authentizität - Die Kunst man selbst zu sein', 'Amoklauf - Die Psychologie der blinden Gewalt', 'Umweltkriminalität - Milliardengeschäfte mit Wilderei und Raubbau', 'Ebenholz - Ein Holzkern voller Geschichten', 'Der Berliner Sportpalast - Nazi-Aufmärsche, Ballfeste, Radrennen', 'Römische Thermen - Badekultur und Herrschaftsanspruch', 'Der Boxeraufstand - Chinas Kampf gegen alles Fremde', 'Kaiserinwitwe Cixi - Von der Konkubine zur Herrscherin Chinas', 'Ohnmachtsgefühle - In der Falle der Selbst-Blockade', 'Droge Macht - Wenn Menschen nach oben kommen', 'Kapitalistischer Kommunismus - Und warum das kein Widerspruch ist', 'Japans Öffnung zum Westen - Die Meiji-Zeit', 'Tim und Struppi - Der Erfolgscomic aus Belgien', 'Mangas - Der lange Weg zur Gleichstellung', 'Unterwäsche - Hautnahes im Wandel der Zeit', 'Tattoos - Vom Seefahrerkult zum Massenphänomen', 'Attila und die Hunnen - Das Kriegervolk aus der Steppe', 'Seekrankheit - Qual bei Seegang', 'Der Dämon - Vom Geistwesen zum bösen Geist', 'Wertiere - Berserker, Löwenmensch und Werwolf', 'Kuppeleiparagraf etc. - Gesetze vor und nach 1968', 'Die Geschichte des Bafög - Mehr Bildung wagen?', 'Sitzen, Stehen, Liegen - ABC der Körperhaltungen', 'Stühle, Sessel, Schemel - Wie wir sitzen', 'Der Traum vom Weltfrieden - Der chinesische Utopist Kang Youwei', 'Tiere als Waffe - Von gefiederten Helden und tödlichen Vierbeinern', 'Methan - Das unterschätzte Klimagas', \"Das Ziel der Geschichte - Wie sieht's aus im letzten Akt?\", 'Büßen und Vollstrecken - Vom Umgang mit Verkehrssündern', 'Die Beichte - Ohne Ballast neu beginnen', 'Martha Gellhorn - Kriegsreporterin ohne Kompromisse', 'Joseph Pulitzer - Ein Leben für die Zeitung', 'Henri de Toulouse-Lautrec - Genie der Plakatkunst', 'Das Moulin Rouge - Varieté von Weltruhm', 'Graf Lerchenfeld - Ministerpräsident im Land der Fememörder', 'Der Vertag von Rapallo - Deutschland und Russland', 'Lachen in der Philosophie - Kann Humor der Erkenntnis helfen?', 'Fliegen - Unbeliebt und allgegenwärtig', 'Schwalben - Flugakrobaten und Baumeister', 'Macht - Philosophische Überlegungen', 'Der Zoroastrismus - Die Religion zwischen Glauben und Philosophie', 'Punkt - Als die Satzzeichen erfunden wurden', 'Sie haben Post! Briefkultur, tot oder lebendig?', 'Der Biafra - Krieg - Eine afrikanische Tragödie', 'Botswana - Vorbild für Demokratie in Afrika?', 'Insektenvielfalt auf der Wiese - Eine Welt für sich', 'Schmetterlinge - Die mit den Füßen schmecken', 'Zarathustra und die Parsen - Die Quelle der guten Gedanken', 'Die politische Philosophie der Judith N. Shklar - Liberalismus ohne Illusionen', 'Gianlorenzo Bernini - Ein barocker Stararchiktekt', 'Artemisia Gentileschi - Malerin des Barock', 'Blau - Eine Farbe taucht auf', 'Erich Wolfgang Korngold - Vom Wunderkind zum Hollywoodkomponisten', 'Der Komponist Paul Ben-Haim - Von München nach Israel', 'Graslandschaften - kleine Fläche, große Artenvielfalt', 'Kulturgeschichte des Absinths - Die Macht des Rauschs', 'Artenschutz und grüne Energie - Lösung für beides möglich?', 'Die Antarktis im Wandel - Die Klimakrise und ihre Folgen', 'Der Buddhismus - Von Indien in die Welt', 'Das BIP - Die erstaunliche Geschichte einer Wirtschaftszahl', 'Mikrochips - Halbleiter als Global Player', 'Romeo und Julia - Die tragische Lovestory', 'Bayerische Kommerzienräte - Eine einflussreiche Wirtschaftselite', 'Jane Goodall - Primatologin und Botschafterin des Friedens', 'Jugendstil - Natur als Kunst, Schönheit als Revolte', 'Intelligenter Oktopus - Gehirn im ganzen Körper', 'Der Nautilus - Zu schön für diese Welt?', 'Chemiewaffen - Verboten. Geächtet. Im Einsatz', 'Philosophie heute - Ratgeber statt Welterkenntnis?', 'Wilhelm von Ockham - Scharfsinniger Streiter für die Wahrheit', 'Urvogel Archaeopteryx - Beweisstück der Evolution?', 'Mimikry - Wie täuschende Tiere enttarnt wurden', 'Marie Luise Kaschnitz - Auf der Suche nach dem Ich', 'Jack Kerouac - Aufstieg und Fall des Beat-Poeten', 'Otto von Bismarck - Reichskanzler, Idol und Dämon', 'Kulturkampf in Bayern 1871 - König oder Papst?', 'Die Etrusker - Roms mächtige Vorfahren', 'Der Kuckuck - Der geborene Rausschmeißer', 'Der Philosoph Moses Maimonides - \"Höre die Wahrheit, wer sie auch spricht\"', 'Die Toleranz - Respekt für das Andere', 'Wilhelm Reich - Soziologe, Sexualforscher, Psychoanalytiker', 'Die Kunstfaser - die Erfindung der Synthetik und ihre Mode', 'Brust raus, Bauch rein - Die Geschichte der Frauenmode', 'Die Kulturrevolution in China - Mehr als ein Kampf um die Macht', 'Die Taliban - Von den Koranschulen an die Macht', 'Lichtverschmutzung - Tödliche Helligkeit', 'Die Eltern im Kopf - Lebenslange Begleitung', 'Natur - Konstrukt der Kultur', 'Bavaria Filmstudios - Das Bayerische Hollywood', 'Der Mordparagraf 211 StGB - Ein Tatbestand im Wandel der Zeit', 'Ungewollt schwanger um 1700 - Katharina Hochstrasser', 'Frauen leiden anders - Männer auch', 'Deutschland im Kalten Krieg - Opfer, Akteur, Profiteur?', 'Deutschland in den 1990ern - Vom Ende des Kalten Kriegs bis Nine-Eleven', 'Die Aleviten - Vervollkommnung durch Nächstenliebe', 'Uran - Ein Metall der Extreme', 'Nukleare Katastrophen - Was hat man daraus gelernt?', 'Adelheid Duvanel - Schweizer Schriftstellerin im Schatten', 'Amalie Dietrich - Sammlerin und Entdeckerin', 'Maria Sibylla Merian - Naturforscherin und Künstlerin', 'Wohlstand oder Wachstum? Auf der Suche nach dem rechten Maß', 'Kreislaufwirtschaft - Wirtschaften ohne Ressourcenverschwendung', 'Simplizius Simplizissimus - Das Werk des Grimmelshausen', 'Aussteiger um 1900 - Nacktkultur und Barfußphilosophen', 'Emma Goldman - Anarchie, Freiheit und Frauenrechte', 'Barockliteratur - Im Schatten des 30jährigen Kriegs', 'Der Pinguin - Überlebenskünstler in Eis und Hitze', 'Der Narwal - Einhorn des arktischen Ozeans', 'Die Geschichte der Arbeitsmoral - Drückeberger, Leistungsträger, Workaholics', 'Unsterblichkeit - Ein in Erfüllung gehender (Alb-)Traum?', 'Die ägyptische Göttin Isis - Tochter von Himmel und Erde', 'Die Disco - Ein Ort zwischen Kultur und Kommerz', 'ABBA Forever - Das Pop-Phänomen aus Schweden', 'Die Ukraine seit 1914 - Ein Staat sucht sich selbst', 'Fast auf dem Mt. Everest? - Mallory und Irvine 1924', 'Der Berg Nanga Parbat - Mythos, Ehrgeiz, Risiko', 'Ein Hauch von Unsterblichkeit - Warum Lebewesen unterschiedlich altern', 'Schönheitschirurgie - von Botox, Silikon und Sucht', 'Georg Forster - Ethnologe und Menschenfreund', 'Einsamkeit - Mehr als allein', 'Die Kunst des Alleinseins - Ganz bei sich sein', 'Humanismus - Wie menschlich ist der Mensch?', 'Das Vielvölkerreich im Osten - Russland und die Sowjetunion', 'Die Protokolle der Weisen von Zion - Geschichte einer Fälschung', 'Judenfeindschaft im Orient - Amin al Husseini und der NS', 'Aids - Das (fast) vergessene HI-Virus', 'Antibiotika - Medizin-Revolution mit Nebenwirkungen', 'Kinder haben Rechte - Die Geschichte der Kinderrechte', 'Die Quelle - Ort des Lebens und der Fantasie', 'Das Haus der Weisheit - Eine arabische Denkwerkstatt', 'Der Sufi-Mystiker Rumi - Dem Islam ins Herz geschaut', 'Biedermeier - Rückzug ins Private', 'Franz Grillparzer - Der österreichische Nationaldichter', 'Selbstbestimmungsrecht der Völker - Ideal mit Sprengstoff', 'Das Massaker von Aussig - Ein Verbrechen, viele Legenden', 'Otl Aicher - Politik und Piktogramme', 'Die Giraffe - Bedrohte Savannenkönigin mit Überblick', 'Auslaufmodell Zuhören? - Ein philosophischer Exkurs', 'Zug um Zug - wie die Lunge uns Leben \"einhaucht\"', 'Staat, Macht und Kapitalismus - Die Denkerin Susan Strange', 'Ghostwriter - Autoren ohne Namen', 'Als der Strom nach Bayern kam - Wasserkraft und Widerstand', 'Das Frauenstimmrecht - Der erste Schritt zur Gleichberechtigung', 'Der Steinbock - Majestätischer Gipfelstürmer', 'Die Gams - Anmutiger Bergbewohner', 'Kairos - Oder die Gunst der Stunde', 'Gelingendes Leben - Selbstfindung statt Fremdbestimmung', 'Rudolf Diesel - Zwischen Genie und Versagen', 'Bauhaus - Die berühmteste Schule der Welt', 'Der Archäologe Johann Joachim Winckelmann - Für immer schön!', 'Fettleibigkeit - Warum werden wir dick?', 'Die Erfindung von Währungen - Bancor, Terra, Globo', 'Hier und Jetzt - Im Fokus der Achtsamkeit', 'Sind Erdbebenkatastrophen vermeidbar? - Der Tag davor...', 'Vulkane in Deutschland - schlafende Riesen', 'Madame Pompadour - Marquise und Mätresse', 'Edelkurtisanen - Vom Armenviertel ins Himmelbett', 'Johannes Kepler - Die Harmonie der Welten', 'Zimt - die Würze des Lebens', 'Die Entwicklung des Glaubens - Wie Religion entstand', 'Ware Mensch - Der transatlantische Sklavenhandel', 'Ida B. Wells - Kämpferin gegen die Lynchjustiz', 'Gestaltwandler - Metamorphosen in der Literatur', 'Ovid - Dichter der Metamorphosen', 'Pauperismus - Verelendung im vorindustriellen Deutschland', 'Bettelei - Aus der Geschichte einer Lebensform', 'Aquakultur - Tierzucht in Wasserfarmen', 'Der Thunfisch - Der bedrohte Jäger der Meere', 'Andreas Gryphius - Dichter der menschlichen Vergänglichkeit', 'Debatte mit Gott - Was ist der Talmud?', 'Die Tora - Die heilige Schrift der Juden', 'Aufklärung durch Zahlen - Der Charme mathematischer Weltdeutung', 'Der goldene Schnitt - Geheimnisvolle Ordnung der Natur', 'Performance Art - Geschichte, Themen, Perspektiven', 'Marina Abramovic - Perfomance, Provokation und Pop', 'Wie Bangladesch entstand - Krieg zwischen Indien und Pakisten', 'Vereinigte Arabische Emirate - Späte Gründung, schneller Boom', 'Illegaler Wildtierhandel - Ausverkauf seltener Arten', 'Die Jagd - Von der Trophäenjagd zur Ökojagd', 'Der Golfstrom - Kreislauf mit vielen Unbekannten', 'Geschichte des deutschen Fußballs - vom Nachzügler zum Weltmeister', 'Bayerns Kurt Landauer - Verehrt, verfolgt, vergessen, wiederentdeckt', 'Die Erfindung des Nordens - Kulturgeschichte einer Himmelsrichtung', 'Gustave Flaubert -Jenseits der Moral', 'Konstantin der Große - Religion als Politik', 'Roms christliche Katakomben - Ruhestätte eines jungen Glaubens', 'Masturbation - das völlig normale Tabu', 'Tierisch bewusst - Denken und empfinden Tiere?', 'Intelligente Krähen - Tierische Werkzeugbauer', 'Dynamit - Ein Sprengstoff macht Geschichte', 'Das gewaltige Dunkel - Eine Kulturgeschichte der Nacht', 'John Coltrane - Saxophonlegende und spiritueller Sinnsucher', 'Literatur der Inuit - Hart am Rand', 'Fräulein Smillas Gespür für Schnee - Ein Umweltkrimi bei den Inuit', 'Musikstadt New Orleans - Wo der Jazz geboren wurde', 'Alles fließt - Das Weltbild des antiken Denkers Heraklit', 'Der Stadtplaner Robert Moses - Gründer des modernen New York', 'Die Geschichte der Street Art - Schmierereien und / oder Kunst?', 'Bayerische Wilderer - Helden oder Verbrecher?', 'Geschichte der Jagd - Herrschaft in der Natur', 'Ökodörfer - Weltenflucht oder Zukunftslabor?', 'Philosophie des Wohnens - Von Domizil und Sein', 'Papier - Energiefressendes Kulturgut?', 'Baumwolle - Das weiße Gold', 'Judentum in NS-Deutschland - Entrechtet, deportiert, ermordet', 'Frei, gleich und brüderlich - Die Französische Revolution', 'Schwarz, schwärzer am schwärzesten - Die Farbe Schwarz im Tierreich', 'Eulen - Die geheimnisvollen Jäger der Nacht', 'Seilbahnen - Am Drahtseil auf Gipfel und durch Städte', 'Hexer und Heiler - Eine Schattengeschichte der Deutschen', 'Rubens - Das Große Jüngste Gericht', 'Normalität - Was ist das überhaupt?', 'Homer - Der erste Dichter des Abendlandes', 'Daphnis und Chloe - Antike Erotik', 'Wilhelm Hoegner - Ministerpräsident auf Befehl', 'Aufforstung in Afrika - Die grüne Mauer', 'Die umstrittene Vision einer Bioökonomie - Schöne postfossile Welt?', 'Die \"Wollust\" - Wie ein Gefühl zur Sünde wurde', 'Rainald Goetz - Literatur ist Pop', 'Trümmerliteratur - Schreiben in der Nachkriegszeit', 'Urin - das verkannte Abwasser', 'Narkose - Die Geschichte eines Lebensretters', 'Madeleine Delbrêl - Von der Atheistin zur Mystikerin', 'Die Theodizeefrage  - Wo warst du Gott?', 'Nazi-Raubliteratur - Plagiat im Holocaust', 'Von rauchenden Schloten zum Klimagesetz - Die Geschichte der deutschen Umweltpolitik', 'Framing - Wie gezielt eingesetzte Sprache uns beeinflusst', 'Jainismus - Die Religion ohne Gewalt', 'Das Tier und die Religion - Mitgeschöpf oder Mahlzeit?', 'Magnus Hirschfeld - Pionier der Sexualforschung', 'Der Golfstrom - Kreislauf mit vielen Unbekannten', 'Rebellin und Jazz-Baroness - Pannonica de Koenigswarter', 'Das Mäzenatentum - Wie durch Gönnen Großes entsteht', 'Die Münchner Räterepublik - Bayern sozialistisch', 'Das Tierschutzgesetz - Leitfaden zum Wohl der Tiere?', 'Das rechte Maß - Balance und Beschränkung', 'Begeisterung - kindlich, kostbar, intensiv', 'Benny Goodman - The King of Swing', 'Gehorsam - Zwischen Pflichtgefühl und Hörigkeit', 'Die Arbeitslosen von Marienthal - Eine bahnbrechende Sozialstudie', 'Miles Davis - Kind of Blue', 'Juliette Greco - Chanson-Legende und Schauspielerin', 'Monarchien im Tierreich - Königinnen ohne Zepter', 'Der Kampf um Zentralasien - The Great Game', 'Rudolf Virchow - Gründer der modernen Pathologie', 'Sebastian Kneipp - Der Pfarrer als \"Wasserdoktor\"', 'Der Philosoph Thomas Hobbes - Der Mensch ist dem Menschen ein Wolf', 'Isaac Asimov - Von Menschen und Maschinen', 'Steve Jobs - Technik-Visionär und Marketing-Guru', 'Benvenuto Cellini - der feinsinnige Mörder', 'Bitte berühren! - Warum Körperkontakt so wichtig ist', 'Dante Alighieri - Die Göttliche Komödie', 'Nürnberg kommt zu Bayern - Das Ur-Trauma von 1806', 'Coburg - Per Abstimmung zu Bayern', 'Symbiosen - Vom Miteinander in der Natur', 'Wer bin ich, woher komme ich? Die Sehnsucht nach Herkunft', 'Johann Sebastian Bach Genie mit Langzeitwirkung', 'Meditation - Übung mit tiefem Sinn', 'Yoga - Denken mit dem Körper', 'Terrorismus - Die lange Geschichte eines Schreckens', 'Die kleine Eiszeit - Eine Kälteperiode und ihre Folgen', 'Nepal - Vielfalt der Religionen', 'Der 14. Dalai Lama - Göttliches Mitgefühl und irdische Politik', 'Die Stalinallee - Prachtboulevard für Arbeiter', 'Claude Cahun - Androgyne Selbstinszenierung ', 'Vulkanismus - Von Lava und Magma', 'Max von Pettenkofer - Der \"Vater der Hygiene\"', 'Die Cholera in Bayern - Eine Pandemie des 19. Jahrhunderts', 'Der Rücken - Faszinierendes Gerüst mit viel Aua', 'Der soziale Umgangston - Einfach unsäglich?', 'Hautveränderungen - Muttermal, Altersfleck, Warzen', 'Rio Reiser - Der König von Deutschland', 'Ludwig Thoma - Erfolg und Fall eines Populisten', 'Urmutter der Mexikaner - Malinche', 'Die Fuggerei in Augsburg - Die älteste Sozialsiedlung der Welt', 'Bärtierchen - Die knuffigen Überlebenskünstler', 'Elektromobilität - Neuer Trend mit langer Geschichte', 'Die Bravo - Starschnitt, Sextipps und Fotostories', 'Frauenstimmrecht in der Schweiz - Der lange Weg zur Wahlurne', 'Das Rotkehlchen - Klein, aber unerschrocken!', 'Kinderehen - zur Heirat gezwungen', 'Jüdische Philosophie - Von Philon von Alexandria bis heute', 'Lou Andreas-Salomé - Auf Augenhöhe mit Nietzsche, Rilke, Freud', 'Synthesizer und Co - Elektronische Musikerzeugung', 'Erich und Margot Honecker - \"In unserer DDR...\"', 'Der Hering - Silber des Meeres', 'Glück beginnt im Kopf - Erkenntnisse der Neurobiologie', 'Stufen des Bewusstseins - Trance, Meditation, Schlaf, Hypnose', 'Efeu - Rankende Fakten zu einem Immergrün', 'Kannibalismus - Warum Menschen Menschen essen', 'Moderne Mythen - Zu gut, um falsch zu sein', 'Der Schrebergarten - Idylle im Kleinformat', 'Irmgard Keun - Das literarische Fräuleinwunder', 'Amelia Earhart - Die tragische Heldin der Lüfte', 'Otto Lilienthal - Die Eroberung der Luft', 'Mundgerecht - Zunge, Zähne, Lippen', 'Sprachentwicklung mit Hürden - Legasthenie und Dysgrammatismus', 'Mandala - Abbild des Universums', 'Der Kreis - Mehr als nur eine Form', 'Die Geschichte des Bildungsbügertums - Wissen als Währung', 'Berggeister - Alte Kulte und hohe Berge', 'Die deutsche Sprache - Deutsch und seine lange Geschichte', 'Heinz G. Konsalik - Ressentiments und Ruhm', 'Die Bagdadbahn - Durch die Schluchten des Taurus', 'Deutsche im türkischen Exil - Wissenschaftsmigration 1933-1945', 'Bakterien - Gefahr im Biofilm', 'Die größte Geldfabrik der USA - Die US-Notendruckerei Inside', 'Rot vor Wut - ein Gefühl, das uns zum Platzen bringt', 'Hedwig Courths-Mahler - Was heißt hier Kitsch?', 'Klimaforschung - Eine lange Geschichte!', 'Maxie Wander - Kultautorin in der DDR', 'Der Mauerbau - Schutzwall für die Einen, Gefängnis für die Anderen', 'Oasen - Inseln der Wüste?', 'Die ARD - Wie es zum öffentlich-rechtlichen Rundfunk kam', 'Wahrnehmung und Klischee - Die Entstehung von Vorurteilen', 'Die Belle Époque - Kulturphänomen Jahrhundertwende', 'Die Challenger-Expedition - Zum tiefsten Punkt der Ozeane', 'Armer Beutelteufel! - Auf den Spuren von Tasmaniens Nationaltier', 'Utopien der Freiheit - Tu was du willst?', 'Ignaz Philipp Semmelweis - Der Retter der Mütter', 'Die Geschichte der Hygiene - Der Kampf gegen Bakterien und Co.', 'Tassilo III. - Das Ende der Agilolfinger', 'Widukind - Der Sachse, der Heide bleiben wollte', 'Wilhelm Heine - Vom Dresdner Revolutionär zum Konsul der USA', 'Lianen - Unverwüstliche Kletterkünstler', 'Viren: Killer! Und Lebensretter', 'Verklärt, verflucht, vergessen - Vom Umgang mit der eigenen Vergangenheit', 'Vergessen - Eine elementare Strategie des Gehirns', 'Superfood - Gar nicht super', 'Kartoffel - Die nahrhafte Knolle', 'Leni Riefenstahl - Ästhetik der Macht', 'Luise Rinser - Ein Schriftstellerleben zwischen Ehrgeiz und Lüge', 'Die Schnecke - Zwitterwesen mit und ohne Haus', 'König Ludwig III. - Bayerns letzter König', 'Der Zuschauer-Effekt -  Warum wir oft gaffen, aber nicht helfen', 'Rewilding - Das Ökokonzept mit der Wildnis', 'Die Geschichte des Abiturs - Von Nöten, Noten und dem Nutzen', 'Hurra, falsch! - Aus Fehlern lernen', 'Freiherr Adolph von Knigge - Manierenpapst und Radikalaufklärer', 'Windkraft - Windenergie im Gegenwind', 'Blitze - Extrem und zunehmend gefährlich', 'Luchino Visconti - Schönheit, Dekadenz und Tod', 'Unternehmen Barbarossa - Hitlers Krieg gegen die Sowjetunion', 'Deportation und Exil - Eine polnische Odyssee im Zweiten Weltkrieg', 'Diagnose Sitzen - Krank durch mangelnde Bewegung', 'Anita Augspurg  - Eine radikale Feministin und Pazifistin', 'Das Frauenhaus - Geschichte eines Schutzraumes', 'Mensch ohne Natur? - Der Mensch, das ökologische Wesen', 'Das Indianerbild in Deutschland - Phantasien vom \"roten Bruder\"', 'Karl May - Hochstapler, Phantast, Bestsellerautor', 'Die Flugpionierin Elly Beinhorn - \"Ich fliege um die Welt\"', 'Gustav Weißkopf - Erster motorisierter Pilot der Welt?', 'Der Kiwi - Neuseelands Nationaltier in Not', 'Neobiota - Neue Arten durch den Klimawandel', 'Harriet Tubman - Die schwarze Sklavenbefreierin', 'Weltmacht Dollar - Die Geschichte einer Währung', 'Apostel-Geschichte(n) - Vom Beginn des Christentums', 'Frauen um Jesus - Die ersten Wegbereiterinnen', 'Neue Subjektivität - Schreiben als Selbsterfahrung', '\"Freiheitskampf\" in Südtirol - Der Terror und Bayern', '\"Seids beinand, Tiroler?\" - Der Bauernaufstand von 1809', 'Alleskönner Pilze - Vom Baustoff bis zum Bodenreiniger', 'Düfte als Sprache - Kommunikation im Tierreich', 'Klangmagie und Gänsehaut - Musik und ihre Wirkung', 'Grüne Kraftstoffe - Heilsbringer für Verbrennungsmotoren?', 'Ashoka - Erster buddhistischer Herrscher in Indien', 'Alexander der Große - Wie ein Makedone die Welt veränderte', 'Jetstream - Der Klimamacher', 'Phytomining - Metall-Ernte mit Superpflanzen', 'Faires Gold - Edelmetall mit gutem Gewissen?', 'Beziehungen von Anfang an - Wie frühe Erfahrungen uns prägen', 'Die Machteliten - Ausflug in eine andere Welt', 'Geier - die fliegenden Saubermänner', 'Familienforschung Auf der Spur der Ahnen', 'Sonderrechte für Konzerne? - Internationale Schiedsgerichte ', 'Friedrich Hayek - Wirtschaftsliberaler Nobelpreisträger', 'Die Heldenreise - Typologie einer Erzählung', 'Narrativ und Storytelling - Moderne Erzähltheorien', 'Erich Fried - der politische Lyriker', 'Samuel Oppenheimer - Genialer Financier und Diplomat', 'Das Judentum in Deutschland - Die Anfänge', 'Die Philosophin Agnes Heller - \"Du hast immer die Wahl!\"', 'Hannah Arendt - Die Banalität des Bösen', 'Joseph Beuys - Leben als Konzept und Aktion', 'Stelen und Stolpersteine - Kulturgeschichte des Gedenkens', 'Die Ständegesellschaft im Mittelalter - Beten, kämpfen, arbeiten', 'Burgen in neuem Licht - Mehr Protz als Trutz', 'Sand - Überall vorhanden und doch zu knapp', 'Beton - Fasern, Poren, Bakterien', 'Aristoteles - Wegweiser der Philosophie', 'Geschichte der Bergführer - Vom Nebenjob zum Profi', 'Der Mount Everest - Ein Berg und seine Menschen', 'Der Philosoph Plotin - Rückkehr zur Einheit', 'Empire - Ein Hauch von Napoleon', 'Napoleon Bonaparte - Der Emporkömmling', 'Else Lasker-Schüler - Flucht in die Phantasie ', 'Scott Fitzgerald - Das Leben, ein Liebesbeweis', 'Vicki Baum - Menschen im Hotel', 'Karl Baedeker - Welche Lust gewährt das Reisen', 'Athanasius Kircher - Der letzte Mann, der alles wusste', 'Die Wunderkammer - Als die Welt noch in ein Zimmer passte', 'Der Schwamm - Ohne Hirn und doch voller Raffinesse', 'Die Auster - Delikatesse und Wasserfilter', 'Der Mensch und seine Rollen - Garfinkels Experimente', 'Doris Dörrie - die Welt einatmen', 'Zwischen Buddhismus und Kamikaze - Die Symbolwelt der japanischen Kirschblüte', 'Patentschutz - Die Geschichte eines umstrittenen Konzepts', 'Der Specht - Höhlenbohrer unter den Vögeln', 'Erleuchtung - Licht der Erkenntnis oder nur schöner Schein?', 'Rajneesh, Bhagwan, Osho - Der Guru der 70er', 'Alois Alzheimer - Nervenarzt mit Mikroskop', 'DDR-Literatur - Rückkehr, Aufbau, Kritik', 'Herkunft der Bajuwaren - Neues zu einem alten Rätsel', 'Der Wombat - Relikt aus Australiens Urzeit', 'Der Wolf - Verehrt, verfolgt, verfemt', 'Jugendliche im NS-Widerstand - Gegen den Strom', 'Respekt - Grundpfeiler des Miteinander', 'Konversation - Andere Zeiten, andere Talks', 'Entdecker ohne Ruhm - Indigene Helfer auf Forschungsreisen', 'Pflanzenjäger auf Abenteuerreise - Wie man früher seltene Arten aufspürte', 'Die Weisheit der Kabbala - Zwischen Alltag und Ekstase', 'Der chinesische Weise Menzius - Lehrer des Mitgefühls', 'Musik als Ware - Wovon früher Komponisten lebten', 'Hans Döllgast - Architekt der Wiederherstellung', 'Kinderlähmung - Das Wettrennen um eine Impfung', 'Medizin im Ost-West-Konflikt - Weiße Kittel ohne Skrupel', 'Wohin mit der Gülle? - Der Dünger und die Umweltprobleme', 'Arma Christi - Leidenswerkzeug zur frommen Andacht', 'Grundwasser - Ein geheimnisvoller Lebensraum', 'Die Geschichte der Umweltbewegung - Auf die Straße für die Natur', 'Margaret Stonborough-Wittgenstein - Mit Geld und Moral', 'Die Geschichte der Bayerischen Universitäten - Wissen, Macht, Bildung', 'Stiftung Maximilianeum - Geschichte einer Talentschmiede', 'Staub als Spiegel unserer Umwelt', 'Zuckerrübe - Süß und voller Geschichte', 'Konkurrenz - Unabdingbar für das Überleben?', 'Freuds Psychoanalyse - Die relativierte Revolution', 'Kraxenträger - Geschichte eines Kleinhandels über die Alpen', 'Venedig - Gründung in der Lagune', 'Schnarchen - Von Lärm, Luftmangel und Lösungen', 'Der Atem - Rhythmus des Lebens', 'Hans Küng - Ein Theologe und seine Kirche', 'Die Ziege - Von der Kuh des Kleinen Mannes zur Kaschmirziege', 'Filz - Tierisch, haarig und verblüffend', 'Astor Piazzolla - der König des Tangos', 'Tango Argentino - Gefühle die man tanzen kann', 'Container - Revolution im Welthandel', 'Mythos Prinzregentenzeit - Die letzten schönen Jahre?', 'Lena Christ - Erinnerungen einer Überflüssigen', 'Gustav Klimt - Bohemian und Künstler', 'Der Fischotter - Flinker Marder mit Schwimmhäuten', 'Der Vielfraß - Unerschrockener Marder des Nordens', 'Das Labyrinth - Der Weg zur Mitte', 'Schwangerschaftstests - Emanzipierte Medizingeschichte', 'Die Metapher - Vom Umgang mit Sprachbildern', 'Rosa Luxemburg - Die Andersdenkende', 'Marlene Dietrich – Der Weg zur Ikone', 'Der Spatz - Ein urbaner Überlebenskünstler', 'Henry Ford - Von Hitlers Held zum Idol der Welt', 'Grenzen setzen - Schutz und Selbstbehauptung', 'Quentin Tarantino - Von Genie, Größe und Wahnsinn', 'Surf- Als Musik die Welle machte', 'Neues zur Varusschlacht - Archäologen revidieren einen Mythos', 'Lady Wortley Montagu - Reisebriefe aus dem Orient', 'Hagia Sophia - Kirche, Moschee, Museum, Moschee', 'Krafttraining - Mit Ausdauer zu Muskeln', 'Simone de Beauvoir - Feministin und Philosophin', 'Olympe de Gouges - Schriftstellerin und Kämpferin', 'Das Motiv des Blinden - Die Welt mit der Haut sehen', 'Der deutsche Marco Polo - Hans Schiltberger', 'Marco Polo - Der Abenteurer und sein Mythos', 'Schiefer - Der Glimmerstein', 'Heiße Ware im Kalten Krieg - Die DDR und der High-Tech-Schmuggel ', 'Geschichte der Finanzkriege - Wenn Geld zur Waffe wird', 'Die Ausrede - Philosophie des Ausweichens', 'Selbstbetrug - die Flucht vor dem wahren Ich', 'Trümmerfilm - Zerstörung auf Zelluloid', 'Kulturgeschichte des Findelkinds - Ausgesetzt und aufgezogen', 'Das Murmeltier - Mit Pfiff und dickem Pelz', 'Buddhas Töchter - Frauen auf dem Weg zur Erleuchtung', 'Die Frau im Judentum - mehr als die \"Königin des Hauses\"', 'Der Geist der Pflanzen - Psychoaktive Substanzen', 'Billie Holiday - Sängerin und Jazz-Legende', 'Sultan Suleiman der Prächtige - Der mächtigste Osmane', 'Die Kalifen - Nachfolger Mohammeds', 'Augenzeugen - Wahrheitssuche vor Gericht', 'Angst - Vom Umgang mit einem unheimlichen Grundgefühl', 'Henry Morton Stanley - Afrikaforscher, genannt \"Knochenbrecher\"', 'Palmöl - Plantagen, die den Dschungel zerstören ', 'Das Kolosseum - Ein Bau für Blut, Brot und Spiele', 'Nasreddin - Ein muslimischer Eulenspiegel', 'Beton in der Architektur - Brutal schön', 'Die Winchester - Ein Gewehr erobert den Westen', 'Der Western - Showdown zwischen Faustrecht und Zivilisation', 'Die Kälte. Eine Isolation - Thomas Bernhards Thema', 'Kaiser Wilhelm I. - Der letzte Preuße', 'Das Gürteltier - Gepanzerter Sonderling und Superheld des Tierreichs', 'Karl Jaspers - Der Philosoph der Wahrheit', 'Was ist Wahrheit? - Philosophische Annäherungen', 'Jüdisches Leben in Regensburg - Synagoge, Ghetto und Gelehrte', 'Die Geschichte der jüdischen Namen - Ab heute heißt du Sara', 'Das Einhorn - Das nicht existierende Tier', 'Das Schnabeltier - Säuger, Vogel, Reptil', 'Der Vietnamkrieg - Ein Alptraum in Indochina', 'Friedrich Dürrenmatt - Theater als Gesellschaftskritik', 'Wenn ein Staat pleitegeht - Von Schuldenerlassen und Neuanfängen', 'Bayern und Napoleon - Der große Schritt nach vorne', 'Maria Leopoldine - Die unkonventionelle Kurfürstin', 'Das Stethoskop - Horchen auf das Innere des Menschen', 'Unterm Messer - Geschichte der Chirurgie', 'Der Blick der anderen - Afrikas Geschichte aus der Sicht des Westens', 'Charisma - Eine besondere Ausstrahlung', 'Oliver Sacks - Unkonventioneller Neurologe und Schriftsteller', 'Glashütten in Bayern - Handwerk und High-Tech', 'Die Reichsgründung und Bayern - 1871 aus weiß-blauer Sicht', 'Flexibel im Beruf - Ungezwungen überarbeitet?', 'Struwwelpeter - Poesie und schwarze Pädagogik', 'Rom darf nicht sterben! Die Geschichte eines imperialen Traums', 'Angkor - die rätselhafte Stadt', 'Feindbilder - Psychologie der Dämonisierung', 'Tod eines Fuhrknechts - Ein Kriminalfall aus dem Jahr 1942', 'Therese Giehse - ein starker Charakter', 'Giordano Bruno - Nichts unter der Sonne ist neu', 'Alexandre Dumas - Der Vater der \"Drei Musketiere\"', 'Mehr als eine Tanne - Wissenswertes rund um den Weihnachtsbaum', 'Willibald und Walburga von Eichstätt - Missionierung in Bayern', 'Regensburger - Altstadt  Ein Weltkulturerbe', 'Schleimpilze - Überlebenskünstler und Wunderwesen', 'Persönlichkeit - Wieviel Veränderung ist möglich?', 'Anfänge der Soziologie - Der Mensch als soziales Wesen', 'Der Berg - Abgründige Erhabenheit', 'Künstliche Nahrungsmittel - Analogkäse und Aromastoffe', 'Wie Impfstoffe entwickelt werden - Im Kampf gegen Grippe, Corona & Co.', 'Paul Ehrlich - Mediziner, Immunologe, Nobelpreisträger', 'Der Duft des Göttlichen - Gerüche und ihre spirituelle Bedeutung', 'Kaiser Friedrich II. - Ein Staufer als Vordenker im Mittelalter', 'Nürnberg im Mittelalter - Auf dem Weg zur Metropole', 'Der Ameisenbär - Minigehirn, wehender Schweif, klebrige Zunge', 'Ferdinand Magellan - Die erste Weltumsegelung', 'Albert Schweitzer - Der große Humanist', 'Die Theologische Zoologie - Vom Umgang mit dem Tier', 'Motown - Talentschmiede des Soul', 'Der oberösterreichische Bauernkrieg - Bayern gegen Protestanten', 'Kurt Lewin - Feldtheorie und Gruppendynamik', 'Pierre Bourdieu - Denker der feinen Unterschiede', 'Murillo - Ein Maler im Auftrag der Nächstenliebe', 'Claudio Monteverdi - Der Erfinder der Oper', 'Die Haut - Empfindliche Schutzbarriere', 'Der Ausverkauf Afrikas - Die Berliner Konferenz und ihre Folgen', 'Aretha Franklin - Queen of Soul', 'Tiere unter Drogen - \"Reich mir mal den Kugelfisch\"', 'Geschichte der US-Demokraten und Republikaner - Esel und Elefant', 'Im Grenzland - Die \"Frontier\" in den USA', 'Sperma - Viel mehr als Wunder des Lebens', 'Maxim Gorkij - Nicht im Kopf, sondern im Herzen liegt der Anfang', 'Schlechtes Gewissen, gutes Gewissen - Was die Moral mit uns macht', 'Iwan Bunin - Über die Liebe in Russland', 'Kaiser Karl V. - Träume haben ihren Preis', 'Philipp II. von Spanien - das Haupt der Gegenreformation', 'Aufwind für den Waldrapp - Wiederansiedlung eines Zugvogels', 'Höflichkeit - Mehr als eine Zierde', 'Bayerische Volkspartei, BVP - Die Extrawurst kommt auf den Grill', 'Granit - Der Stein aus der Tiefe', 'Abraham Lincoln - Albtraum Bürgerkrieg und Traum von Freiheit', 'Die US-Präsidentenwahl - Kampf ums Weiße Haus', 'Das Öffentliche - Philosophische Betrachtungen', 'Schwärmer, Fans und Enthusiasten - Über leidenschaftliche Mitmenschen', 'Schwimmende Architektur - Bauen auf Wasser', 'Minderheiten in Osteuropa - Instrumentalisiert, verfolgt, vertrieben', 'Nationalismus - Renaissance einer totgeglaubten Weltanschauung?', 'Kulturgeschichte der Toilette - Von der Latrine zum Washlet', 'Sportpsychologie - Was bringt mentales Training', 'Freundschaft mit Tieren - Eine uralte Beziehung', 'Tiere im Einsatz - Supernasen und Adleraugen', 'Künstliche Intelligenz - Alptraum oder Heilsversprechen?', 'Affekte - Impulsive Gefühle außer Kontrolle', 'Klang-Speicher - Von der Wachswalze zum USB-Stick', 'Das alte West-Berlin - Leben hinter der Mauer', 'Mikroalgen - klein, grün, vielseitig', 'Die Macht der Stimme - Was Sprecher charismatisch macht', 'Göttergaben - Das Opfer in den Religionen', 'Hunter S. Thompson und der Gonzo-Journalismus - Mittendrin statt nur dabei', 'Tom Wolfe - Im \"Fegefeuer der Eitelkeiten\"', 'Das antike Sparta - Wie war das Leben dort wirklich?', 'Nature writing - Natur als Sprachlandschaft', 'Die Konservendose - Essen zum Mitnehmen', 'Distanz - Vom nötigen Abstand', 'Henry David Thoreau - Rebell und Öko-Pionier', 'Heinrich Brüning - Notverordnungen am Ende der Weimarer Republik', 'Hindenburg - Ein deutscher Mythos', 'Urtier Opossum - Beutelratten als Meister des Überlebenskampfs', 'Völkermord in Ruanda - Und die Welt sieht zu', 'Der Hofnarr - Legende und Wahrheit', 'Das Reh - Scheuer Waldbewohner im Kreuzfeuer', 'Das Schloß - Kafkas rätselhafte Seelenlandschaft', 'Expressionismus und Avantgarde - Literatur ohne Grenzen?', 'Hurrikans - Zerstörerische Winde in Zeiten des Klimawandels', 'Die \"deutsche Frage\" - Was ist deutsch? Wer sind die Deutschen?', 'Hormone - Signalgeber und Botschafter', 'Georg Wilhelm Friedrich Hegel - Denker im Widerspruch', 'Die Welt des Idealismus - Wir sehen was wir denken', 'Adolphe Sax - Ein Unternehmer, der das Saxophon erfand', 'Charlie Parker - Jazzerneuerer und Saxophongröße', 'Das Geheimnis der Tempelritter - Geld, Macht und Intrigen', 'Marienwallfahren und frühe Reformation - Regensburg und Altötting', 'Elefanten - die sanften Giganten', 'Baobab - Der Baum der Geister', 'Tierische Freundschaften - Von Dohlenpaaren, Pferdecliquen und Eselkumpeln', 'George Sand - Die elegante Vielschreiberin', 'Quallen - Das geheime Leben der Gallerttiere', 'Seesterne - Bizarre Schönheiten der Meere', 'Manitou - Der \"große Geist\" der Indianer', 'Die Magie - Wenn der Glaube Berge versetzt', 'Die Musikinsel Kuba - Mehr als Buena Vista Social Club', 'Wim Wenders - Der deutsche Ausnahmeregisseur', 'Kleopatra - Königin der Königinnen', 'Wie Gott uns schuf - Nackt, natürlich, entblößt?', 'Das Fräulein vom Amt - Am Nerv der Zeit', 'Versprecher - Wenn Peinliches zum Vorschwein kommt', 'Wenn Sprache zur Musik wird - Von Lautmalerei und Rhythmus', 'Tenno Hirohito - Der \"Hitler Asiens\"?', 'Maria Theresia - Regentin und Reformerin', 'Vom Muntermacher zum Gesundheitsrisiko? - Was wirklich in der Milch steckt', 'Glühwürmchen - Mit Licht auf Brautschau', 'Nahrungsergänzungsmittel: Sinnvoll oder Geschäftemacherei?', 'Delphi - Das Orakel des Apollon', 'Die Sphinx - Halb Löwe, halb Mensch', 'Potsdamer Abkommen - Eine Konferenz und ihre Folgen', 'Flüchtlinge in Bayern nach dem Krieg - Start in einer neuen Heimat', 'Der Weg der Nahrung - Wie die Verdauung funktioniert', 'Elisabeth Badinter - Für die Gleichheit der Geschlechter', 'Ratingagenturen - Heimliche Strippenzieher der Wirtschaft', 'Die Violine - Die Geschichte eines Instruments', 'Isaac Stern - der legendäre Geiger', 'Ganesha, der Elefantengott - Garant für Glück, Wohlstand und Erfolg', 'Weltreligion Hinduismus - Viele Wege führen zum Ziel', 'Rainer Maria Rilke - Leben und Werk', 'Die Moderne - Bruch mit der Tradition', 'Die Zünfte - Von der Ächtung zur Achtung der Arbeit', 'Städte im Mittelalter - Öffentlichkeit als Chance und Risiko', 'Netzwerk Natur - Unterwegs mit BIOTOPIA-Biologe Dr. Thassilo Franke', 'Netzwerk Natur - Unterwegs mit BIOTOPIA-Biologe Dr. Thassilo Franke', 'Tonleitern - Wie Musik geordnet wird', 'Zypern - Streit um eine geteilte Insel', 'Katalonien - Spanische Region mit eigener Geschichte', 'Die Wespe - Ungeliebtes Insekt mit großem Nutzfaktor', 'Hornissen - Die Falken unter den Wespen', 'Schweiß - ein verkanntes Sekret', 'Kurt Weill - Der nicht-deutsche Komponist', 'La Macchia - Herbe Schönheit', 'Schuldgefühle - Wenn Selbstvorwürfe zur Qual werden', 'Roosevelts Kampf um die Wirtschaft - Die Geschichte des New Deal', 'Das Symphonieorchester - Der klassische Klangkörper', 'Beethovens Symphonien - Rausch und Stille', 'Koreaboom in Deutschland - Aufschwung dank Krieg', 'Die Tabakpflanze - Gefährliche Verführerin', 'Rauchen - Was es mit dem Körper macht', 'Gold - Fluch der Menschheit?', 'Anais Nin - den Traum leben', 'Ludwig Wittgenstein - Sprache und Welt', 'Die Beatles-Story - All you need is love', 'Henry Miller - Boogie Woogie der Hormone', 'Der Zölibat - Ehelosigkeit für Gott?', 'Erotik und Glauben? - Lust und Liebe in den Weltreligionen', 'Philippe Pinel - Menschlichkeit und Psychiatrie', 'Charles Dickens - Leben und Werk', 'Dr. Jekyll, Mr. Hyde und die Schatzinsel - Robert Louis Stevenson', 'Stadtgründungen im Mittelalter - Wittelsbacher machen Bürger', 'Rangordnung im Tierreich - Auf deinen Platz!', 'Streit ums Erbe - Ein Blick in die Geschichte', 'Marcel Reich-Ranicki - Der Kritikerpapst', 'Einfach wegräumen?  Wie Treibhausgase aus der Atmosphäre verschwinden sollen', 'Das Element Luft - Atem der Welt', 'NS-Vergangenheit als Familiengeschichte - Folgen und Aufarbeitung', 'Dicke Luft - Wie schädlich ist Feinstaub?', 'Gerhart Hauptmann - Sozialdramatiker und Nobelpreisträger', 'Die Architektin des sozialen Wohnens - Margarete Schütte-Lihotzky', 'James Baldwin  - I Am Not Your Negro', 'Schmetterlingssammler - Von Hesse bis Nabokov', 'Vladimir Nabokov - Lolita, Schach und Schmetterlinge', 'Philippine Welser - Die Augsburger Patriziertochter und der Erzherzog', 'Bayern und Österreich - Verfreundete Nachbarn', 'Claude Lévi-Strauss - Ethnologe und Philosoph', 'Gertrude Bell - Die britische Wüstenkönigin', 'Homosexualität - Diskriminiert, kriminalisiert, gleichgestellt', 'Jimi Hendrix - Virtuose der E-Gitarre', 'Das Ende des Zweiten Weltkriegs - Kapitulation und Befreiung', 'Gartenteich - Paradies für Seerosen und Co', 'Abgrenzung durch Essen - Wie soziales Bewusstsein unsere Ernährung bestimmt', 'Marie von Ebner-Eschenbach - Österreichs adlige Realistin', 'Realismus - Epoche der Wirklichkeit', 'David Hume - Der Vater der modernen Philosophie', 'Janitscharen - Die gefürchtete Truppe des Sultans', 'Knoblauch - gesunde Knolle mit viel Geruch', 'Das Unbewusste - Einem Phänomen auf der Spur', 'Dornröschen - Das Erwachen der Sexualität', 'Märchen - Mutmacher und Entwicklungshelfer', 'Martin Buber - Was ist der Mensch?', 'Zwei Jugendliche im KZ Gusen - Getrennt durch Stacheldraht', 'Florence Nightingale - Begründerin der modernen Krankenpflege', 'Das dunkle Zeitalter des Kosmos - Bevor das Weltall leuchtete', 'Jean-Paul Sartre - Vordenker des Existenzialismus', 'Der Mensch ist zur Freiheit verurteilt - Die Philosophie des Existenzialismus', 'Prüfungsangst - Wenn nichts mehr geht', 'George Martin - Produzent einer Ära', 'Wildtiere erobern die Großstadt - Waschbär, Fuchs und Fledermaus', 'Frühlingsphänomene und Artenvielfalt in der Großstadt', 'Die Industrielle Revolution - Kohle, Stahl und Dampfmaschinen', 'Michel de Montaigne - Skeptiker und Menschenfreund', 'Raffael - Kunststar der Renaissance', 'Renaissance-Gärten - Kunstwerk aus Himmel, Erde und Wasser', 'Mykene - Historische Stadt und mythischer Ort', 'Heinrich Schliemann - Archäologe und Abenteurer', 'Karate - Geschichte einer Kampfkunst', 'Federico Fellini - Viel mehr als \"La dolce vita\"', 'Gutes Gewissen, schlechtes Gewissen - Was die Moral mit uns macht', 'Hunter S. Thompson und der Gonzo-Journalismus - Mittendrin statt nur dabei', 'Akzeptanz - Annehmen, was ist', 'Die Nasca-Linien - Rätselhafte Spuren in Südamerika', 'Die Osterinsel - Der Mythos der Moai - Figuren', 'Der Feuersalamander - Waldlurch mit Vorliebe für klares Wasser', 'Schwärmer, Fans und Enthusiasten - Über leidenschaftliche Mitmenschen', 'Tattoo, Piercing und Körperschmuck - Was Hautzeichen sagen', 'Warum wir Schmuck tragen - Schönheit, Reichtum, Erinnerung ', 'Die Seidenstraße - Legendäre Verbindung von Ost nach West', 'Das Paradies - Auf der Suche nach dem Guten', 'Die Eizelle - Kern des Lebens', 'Geschichte der Almwirtschaft - Wirtschaftsbetrieb und Sehnsuchtsort', 'Die Kuh - Nutztier und Kultfigur', 'Das einfache Leben - Philosophische Impulse', 'Vormärz und Junges Deutschland - Zwischen den Revolutionen ', 'Philipp Franz von Siebold - Begründer der Japanforschung', 'Tierkulte in den Hindu-Religionen - Verkörperung göttlicher Mächte', 'Wie der Tod in die Welt kam - Mythen und die große Menschheitsfrage', 'Merkantilismus - Zölle für den Adelsprunk', 'Die Blase - manchmal reizbar, aber selten fassungslos', \"Commedia dell'Arte - Vom Spiel mit den Masken\", 'Dario Fo - der Harlekin im Welttheater', 'Erzherzog Franz Ferdinand - Attentat in Sarajewo ', 'Franz Joseph I. - Der Kaiser der Donaumonarchie', 'Anthroposophie - Das Ringen um Ganzheitlichkeit', 'Helena Blavatsky - Spiritistin, Okkultistin und Theosophin', 'Der amerikanische Bürgerkrieg - \"Freiheit für die Sklaven!\"', 'US-Nationalfriedhof Arlington - Geschichte eines verklärten Totenparks', 'Coco Chanel - \"Mode ist vergänglich. Stil niemals”', 'Karl Lagerfeld - Der \"Mode-Nymphomane\"', 'Reliquien - Heilige Knochen', 'Der Mann des Friedens - Benjamin Ferencz', 'Das Klavier - Die Geschichte des Fortepianos', 'Sicher ist sicher? - Philosophische Gedanken zur Sicherheit', 'Risiko! - Unser Umgang mit Unsicherheit', 'Reise in das innere Nordamerika - Eine untergehende Welt', 'Pottwale - Tauchmeister der Tiefsee', 'Komplexe Produktwelt - Verloren im Reich der Möglichkeiten', 'Geplanter Verschleiß? - Sollbruchstellen in Geräten', 'Monotheismus - Vom Vielgötterglaube zu dem einen Gott', 'Naturreligionen - Altes Wissen neu entdeckt', 'Tomi Ungerer - Kinderbuch, Satire und Erotik', 'Wilhelm Busch - Dichter, Zeichner, Kinderschreck', 'Friedrich der Große - der erste Diener seines Staates', 'Mineralstoffe - Wie viel braucht der Mensch?', 'Wieviel Salz darf in die Suppe ? - Forschungsstreit um das weiße Mineral', 'Die Erforschung des Grippevirus - Jagd auf ein Phantom', 'Die Wechseljahre - Wandel in der Lebensmitte', 'Midlife-Crisis: Mehr als ein Mythos?', 'Termiten - Kraftprotze, Baumeister, Öko-Freaks', 'Kurkuma - Zwischen Heilkunst und Superfood?', 'Ayurveda - Das Wissen vom langen Leben', 'Wenn sich das Kollektiv erinnert - Erkenntnisse der Gedächtnisforschung', 'Anna Wimschneider - Naturalismus auf Niederbayerisch', 'Francis Bacon - Vater der modernen Wissenschaft', 'Vlad Tepes - Der Mann, der Dracula war', 'Der Blinddarm - Wirklich nur nutzlos?', 'Die Mandeln - Besser als ihr Ruf', 'Luxus Philosophie? - Wie Denker die Welt beweg(t)en', 'Gioacchino Rossini - Falsche Gewürze tun so weh wie falsche Töne', 'Carl Maria von Weber - Der Freischütz und sein Dresden', 'Geschichte der Prohibition in den USA - Die große Ernüchterung', 'Der Floh - Ungeziefer mit erstaunlichen Fähigkeiten', 'Die Laus - Ungeliebter Plagegeist', 'Die Spanische Grippe - Das rätselhafte Massensterben', 'Drift durchs Polareis - Jahrhundertexpedition in die Arktis ', 'Gibt es außerirdisches Leben? - Entdeckungsreise in unserem Sonnensystem', 'Der Yeti - Bär, Primat oder Mythos?', 'Fridtjof Nansen - Polarforscher, Zoologe, Diplomat', 'Nordpol und Südpol - Extreme Lebensräume', 'Schwarzarbeit - Kavaliersdelikt oder Sozialbetrug?', 'Die Novelle - Eine \"unerhörte Begebenheit\"', 'Rätselhaftes Strahlen - Ohne Licht ist alles nichts', 'Wenn die Gondeln Dichter tragen - Venedig literarisch', 'Carl Spitzweg - Maler und Poet', 'Süßstoffe - Kein gesunder Zuckerersatz', 'Starke Bindung? - Der Anfang von Beziehung', 'Symbiose und Autonomie - Zwei Pole in Beziehungen', 'Alfred Hitchcock - Meister des Suspense', 'Im Bann des Mondes - Archaische Mythen und Religionen', 'Der Zauber der Erwartung - \"Dreimal werden wir noch wach...\"', 'Bettina von Arnim - Hüterin der Romantik', 'Die Wieskirche - Wallfahrtskirche und Weltkulturerbe', 'Fette - Deutlich besser als ihr Ruf', 'Die Würde des Menschen - Philosophische Grundlagen', 'William Wyler - Ben Hur und die Oscars', 'Frau Perchta - Die uralte Göttin zwischen den Jahren', 'Zuckerbrot und Peitsche - Die Vorlieben des Marquis de Sade ', 'Schiffe der Zukunft - Ohne Öl und Kapitän auf See', 'Myrrhe - Ein duftendes Heilmittel', 'Seit wann wir für die Arbeit brennen - Geschichte der Arbeitsfreude', 'Amadeus, Amadeus! - Mythos Mozart', 'Die Kurden - Volk ohne Staat ', 'Der Misanthrop - Kulturgeschichte des Menschenhassers', 'Zündeln in Eden? - Von der Unzufriedenheit in guten Zeiten', 'Das Matriarchat - Mythos oder Wirklichkeit?', 'Hans Sachs - Schuhmacher und Meistersinger', 'Geheimprotestantismus - Bibelschmuggel und verbotene Riten', 'Die 80er-Jahre in der BRD - Von Pershings und Yuppies', 'Abigail Adams - Die erste First Lady im Weißen Haus', 'Theophanu - Kaiserin im römisch-deutschen Reich', 'Was ist schon \"normal\"? Ein Begriff und seine Geschichte', 'Alfred Rosenberg - Ein Chefideologe des Nationalsozialismus', 'Ludwig Schwanthaler - Gestalter der Münchner Bavaria', 'Verena Kast - Expertin für Gefühle', 'Der innere Schatten - Ein unbequemer Wegbegleiter', 'Das Viergestirn aus Weimar - Wieland, Goethe, Herder und Schiller', 'Herder - Eine Urenkelin entdeckt den Dichter', 'Straße von Messina - Barriere und Verbindungsweg', 'Die Babyforscher - Was kleine Kinder alles können', 'Milchzähne - klein, aber oho', 'Biologische Zersetzung - Im Königreich der Maden und Bakterien', 'Das Judentum - Sehnsucht nach einer gerechten Welt', 'Fritz Haber - Forscher zwischen Gaskrieg und Chemienobelpreis', 'Henrik Ibsen - Ein Leben für das Theater ', 'Pflasterers hartes Handwerk - Wie die Stadt zur Straße kam', 'Ayn Rand - Vordenkerin eines entfesselten Kapitalismus', 'Künstliche Intelligenz - Alptraum oder Heilsversprechen?', 'Gründung der DDR - Auferstanden aus Ruinen?', 'Geschichte des Sparens - Die Hoffnung auf der hohen Kante', 'Die Singuläre Gesellschaft - Der Wert des Besonderen', 'John Maynard Keynes - Ökonom der Krise', \"Heimatkrimi - Tod unterm G'weih\", 'Die Maharajas Indiens - Mit Reitelefant und Rolls Royce', 'Auf der Jagd - Die Lust am Beute machen', 'Sturm und Drang - Der Kult ums Genie', 'Jakob Michael Reinhold Lenz - Die Zeiten ändern sich ', 'Eine Täuferin um 1500 - Susanna Daucher', 'Humanismus in Bayern - Peutinger, Aventinus & Co.', 'Ebbe und Flut - Zwischen Sonne und Mond', 'Monsterwellen - Die Zähmung eines rätselhaften Naturphänomens', 'David Hilbert - Größter Optimist unter den Mathematikern', 'Maji-Maji-Aufstand - Afrikaner gegen die deutsche Kolonialmacht', 'Schweigen - Kreative Stille', 'Clara und Robert Schumann - Tragisch, romantisch und ungewöhnlich', 'Else Lasker-Schüler und Gottfried Benn - Liebe per Gedicht', 'Der Vertrag von Saint-Germain - Was übrig bleibt, ist Österreich', 'Bernstein - Wenn Harz zu Stein wird   ', 'Gemeinwohl - Rhetorische Floskel oder realpolitisches Ziel?', 'Antoni Gaudí - Architektur und Wahnsinn', 'Sammellust, Sammelwut - Von der Jagd nach den Dingen', 'Traumkulissen - Die Bilderwelten Ludwigs II.', 'Marie von Bayern - Die Königin, die das Bergsteigen liebte', 'Die Palme - Schattenspender und Energiequelle', 'Sublimieren und kompensieren - Grundbegriffe der Psychoanalyse', 'Bertha Pappenheim - Zwischen Hysterie und Emanzipation', 'Orson Welles - Filmgenie und Mythos', 'Deutschlands Weg in den Zweiten Weltkrieg - Der Anfang vom Ende', 'Adolf Hitler - Reichskanzler, Kriegsverbrecher', 'Schilddrüse - Schaltzentrale für den Stoffwechsel', 'Die Milz - Filter für unser Blut', 'Mythos Jungfrau - Eine Kulturgeschichte der weiblichen Keuschheit', 'Frauen in den Hindureligionen - Ein Dasein voller Widersprüche', 'Alexander von Humboldt - Universalgelehrter und Weltentdecker', 'Wieso, weshalb, warum? - Das Zeitalter der Aufklärung', 'Gotthold Ephraim Lessing - Minna von Barnhelm', 'Der Beginn des Sklavenhandels in Nordamerika - Jamestown', 'Der Hummer - Krustentier und begehrte Delikatesse', 'Das Recht auf Widerstand - Wer sich nicht wehrt', 'Theodor Lessing - Rebellion als Lebensphilosophie', 'Adam Smith - Moralphilosoph und Begründer der modernen Ökonomie', 'Cäsar - Konsul, Krieger und Diktator', 'Das Seepferdchen - Ein ganz besonderer Fisch', 'Anerkennung - Treibstoff für das Zusammenleben', 'Über das Loben - Freundes Lob hinkt, fremdes Lob klingt', 'Das weiße Gold - Kautschuksammeln im Amazonas', 'Brasiliens Flora - In der Botanischen Staatssammlung Münchens', 'Die Nachtigall - Die Diva unter den Vögeln', 'Berüchtigte Sozialexperimente - Der Einzelne in der Gruppe', 'Der Aralsee - Zwischen Meer und Wüste', 'Die Geschichte der Sahara - Seen im Sand', 'Herman Melville - Moby Dick', 'Ernest Hemingway - Der alte Mann und das Meer', 'Griechenland und Türkei - Bevölkerungsaustausch 1923', 'Hypathia - Eine außergewöhnliche Philosophin der Antike', 'Leo Tolstoi - Leben und Werk', 'Oskar Maria Graf - Wir sind Gefangene', 'Ludwig der Bayer - Ein Wittelsbacher auf dem Kaiserthron', 'Niederbayern-Straubing-Holland - Ein Herzogtum im Mittelalter', 'Samuel Morse und der Schreibtelegraf - Mit Punkt und Strich durchs Morsealphabet', 'Wilbur und Orville Wright - Zwei Brüder wollen hoch hinaus', 'Wernher von Braun - Ein Deutscher Ingenieur ohne Skrupel?', 'Flamenco - Ein besonderes Lebensgefühl', 'Macht euch die Tiere untertan? - Von der Domestikation zur Massenproduktion', 'Artenschwund der Haustierrassen - Das stille Sterben', 'Der Gottesfrieden - Die Anfänge der europäischen Friedensbewegung', 'Die Ritter - Gezähmte Gewalt', 'Augustus - Friedenskaiser und Gewaltherrscher', 'Kaiserin Agrippina - Mutter, Monster, Mörderin?', 'Archaeen - Allrounder der Evolution', 'Weisheit - Die Kunst der klugen Lebensführung', 'Lauschangriff auf die Natur - Akustische Überwachung von Ökosystemen', 'Die Swingjugend und der NS - Wie Jugendliche aus der Reihe tanzten', 'Tamara Bunke - Che Guevaras Kampfgefährtin', 'Politische Häftlinge in der DDR - Arbeit unter Zwang', 'Bakteriophagen - Ein altes Heilmittel wird wiederentdeckt', 'Elisabeth von Rochlitz - Die vergessene Heldin der Reformation', 'Lucrezia Borgia - Die berüchtigte Papsttochter', 'Die Ökobilanz von Wasserkraft - Wenn Flüsse nicht mehr fließen können', 'Sonnenstrom - Photovoltaik und ihre leuchtende Karriere', 'Schopenhauers Pudel, Nietzsches Adler - Tiere in der Philosophie', 'Welche Landwirtschaft braucht Afrika? - Die grüne Revolution 2.0', 'Das Stachelschwein - Ein wehrhafter Geselle', 'Baruch de Spinoza - Die Suche nach der Wahrheit', 'Alltagsmanipulation durch Spiele - Trend Gamification', 'Fleiß und Disziplin - Zwang oder Schlüssel zum Erfolg?', 'Altlasten - Das Risiko in der Erde', 'Die Scharia - Kleine Kulturgeschichte des islamischen Rechts ', 'Mohammed - Auf den Spuren des Propheten', 'Wassily Kandinsky - Erfinder der Abstraktion', 'Die Mietskaserne - Wenigstens ein Dach überm Kopf', 'Verzeihen und Vergeltung - Mit Verletzungen umgehen', 'Kurt Tucholsky - Lerne lachen, ohne zu weinen', 'Walt Whitman - Lyrik fürs Überleben', 'Ernährung für Sportler - Was sollen Athleten essen?', 'Humanismus - Edel sei der Mensch, hilfreich und gut', 'Erasmus von Rotterdam - Ein europäischer Intellektueller', 'Telegrafie zwischen den Kontinenten - Die Geschichte des Transatlantikkabels', 'Satelliten - Kunstmonde als Erdtrabanten', 'Ravels \"Boléro\" - Enervierende Ekstase', 'Carmen - ein Mythos\\t', 'Wald im Wandel - Schädlinge und Klimafaktoren als Risiko', 'Diogenes von Sinope - Radikaler Philosoph und Provokateur', 'Humanismus, Renaissance, Reformation - Aufbruch in die Neuzeit', 'Spontanität -  Die große Herausforderung', 'Deutscher Alpenverein - Naturschutz und touristische Erschließung', 'Lehm - Der Zement der Natur', 'Gustav Landauer - Pazifist, Anarchist, Revolutionär', 'Eigentum ist Diebstahl - Die frühen Sozialisten', 'Die Geschichte der Polizei - Staatliches Gewaltmonopol in Uniform', 'Die Borgia - Gewissenlos und kunstbeflissen', 'Leonardo da Vinci - Das Universalgenie der Renaissance', 'Banausen - Die Helden der athenischen Demokratie', 'Eindeutig Klimawandel - Was Forscher wissen und was schon geschieht', 'Jules Verne - Mann der tausend Visionen', 'Der Selbstversuch - Abenteuer der eigenen Erfahrung', 'Pflanzen-Nährstoffe - Vom Mangel bis zum Überfluss', 'Die Geschichte der Müllabfuhr - Der Kampf gegen Abfall', 'Black Consciousness Movement - Schwarze Identität', 'Die römische Legion - Waffe und Integrationsmaschine', 'Mikrokosmos Erde - Das wundersame Bodenleben', 'Meerrettich - Antibiotikum aus der Natur', 'Das Gedächtnis des Körpers - Wie Erinnerungen gespeichert werden', 'Nonverbale Kommunikation - Ohne Worte, doch mit viel Gefühl', 'Architekt und Bauhausgründer - Walter Gropius', 'Johannes Gutenberg - Erfinder des Buchdrucks', 'Die Idee vom Lexikon - Alles in einem Buch', 'Immer sauer? Das Säure-Basen-Gleichgewicht', 'Alan Turing - Computerpionier, Codeknacker, Visionär', 'Die antike Tragödie - Theater als Wettkampf', 'Sophokles - Dichter im Dienst des Dionysos', 'Benito Mussolini - Der Mann und die Masse', 'Die Geschichte der Jesusreliquien - Kreuze, Lanzen, Splitter', 'Frucht der Götter - Der Granatapfel', 'Das Herz - Motor und Pumpe', 'Charles Bukowski - Außenseiter mit Kultstatus', 'Georg Simon Ohm - Ein Mann entdeckt den Widerstand', 'Gustav von Kahr - Ein Ministerpräsident radikalisiert Bayern', 'Die Magie der Steine - Mineralien in Kult und Mythologie  ', 'Im Reich der Kristalle - Wie entstehen Mineralien und ihre Formen? ', 'Reue - Mehr als nur ein \"Tut mir Leid\"', 'Tagträumen - Unser Spiel mit der Wirklichkeit', 'Franz Daniel Pastorius - Der vergessene \"Pilgervater\"', 'Der Skorpion - Spinnentier mit Symbolwert', 'Smog - Eine dreckige Geschichte', 'Beethovens Sonaten - Das Neue Testament der Klaviermusik', 'Der Pfeifer von Niklashausen - Massenwallfahrt im Taubertal', 'Isaac Newton - Genie, Gelehrter, Wissenschaftler', 'Alfred Kinsey - Der Mann, der Sex erforschte', 'Marsmännchen - Realität, Fiktion, Götter der Gottlosen?', 'Monster - Spiegelwesen menschlicher Abgründe', 'Ruth Westheimer - Die Dame, die über Sex spricht', 'Dada - Lauter Lautpoeten', 'Die Deutschen und ihr Wald - Eine Beziehungsgeschichte', 'David Bowie - das Chamäleon des Pop', 'Beethovens Leben - Ich will dem Schicksal in den Rachen greifen', 'Weimar - Die soziale Republik', 'Tycho Brahe - Der Herr der Sterne', 'Die Promis der Urzeit - Leben und Sterben der Dinosaurier', 'Der Panamakanal - Ein Jahrhundertprojekt', 'Irvin Yalom - Schriftsteller und Therapeut', 'George Gershwin  - Ein amerikanisches Genie', 'Die griechische Kolonisation - Auf zu neuen Ufern', 'Paestum - Wo Goethe griechische Tempel guckte', 'Die Zirbelkiefer - Ein Baum des Hochgebirges ', ' Der Mittelwald - Eine historische Waldbauform', 'Wahrheitskommission in Südafrika - Eine Möglichkeit der Aussöhnung?', 'Satire aus Rußland - Ilf und Petrow', 'Michail Bulgakow - Der Meister der Groteske', 'Käseland Allgäu - Geschichte der Milchwirtschaft', 'Das blaue Wunder - Flachs, der Rohstoff für Leinen', 'Penis! Penis? Penis! - Der Kult um das beste Stück', 'Walnuss und Widder - Symbole der Fruchtbarkeit', 'Die Türkin Elif Shafak - Zwischen den Kulturen', 'Bachtyar Ali - Bestsellerautor aus Kurdistan', 'Karl Liebknecht - Sozialist und Antimilitarist', 'Der Versailler Vertrag - Ende und Anfang einer Katastrophe', 'Haie - Die Dinosaurier und Polizisten der Meere', 'Delfine - Schlau, sozial und rätselhaft', 'Mars-Mission - Die Erforschung des Roten Planeten', 'Kaiser Maximilian I. - Der letzte Ritter', 'Das Lama - Heiliges Tier mit sanfter Seele', 'Trance - Erleben jenseits des Verstandes', 'Die Frühgeschichte unseres Kalenders - Zeit und Fest', 'Kulturgeschichte der guten Manieren - Von Anstand und Benimm', 'Not und Brot - Weltgeschichte des Backens', 'Lachen  - Kein Witz der Evolution', 'Meteor mit Mission - Kam das Leben aus dem All?', 'Die Tanne - Immergrün und vielbesungen', 'Projektionen - Das Eigene im Anderen', 'Freuds Psychoanalyse - Die relativierte Revolution', 'Iwan Gontscharow - \"Oblomow\"', 'Lungenschwindsucht - Die Geschichte der TBC', 'Konrad Lorenz - Zoologe,Ethologe,Gänsevater', 'Tierische Überlebensstrategien - Von Winterschlaf bis Winterruhe', 'Gerechtigkeit - Im Wandel der Philosophie', 'Michelangelo - Die Schönheit des Göttlichen', 'Die Geschichte der Apotheke - Von Mäusezahn bis Aspirin', 'Das Münchner Abkommen - Der letzte Friede vor Hitlers Krieg', 'Ludwig II. - Der Mondkönig', 'Minze - Pflanze mit  Geschichte', 'Die Zugspitze - Ein Wettlauf Bayern - Österreich', 'Das Ende des Prager Frühlings - Mit Panzern gegen Reformen', 'Der Warschauer Pakt - Verteidigungsbündnis des Ostens', 'Sand - Überall vorhanden und doch knapp', 'Unterschätzte Moore - Was sich im Torf verbirgt', 'Antonio Vivaldi - Meister des Barock', 'Grenzen setzen - Schutz und Selbstbehauptung', 'Mao Zedong - Kaiser, Dichter, Massenmörder', 'Leben unter dem Eis - Faszination Antarktis', 'Wie Bayern zu seinen Rauten kam - Fahne Weiß-Blau', 'Albert Einstein - Porträt eines Genies', 'Die Pest im Mittelalter - Europas größte demographische Katastrophe', 'Das Gehirn - Schaltzentrale des Körpers', 'Das Gehirn - Schaltzentrale des Körpers', 'Friedrich Wilhelm Raiffeisen - Und die Idee der Genossenschaft', 'Ambivalenz - Das innere Hin und Her', 'Die Geschwister Scholl  - Der Widerstand der Weißen Rose', 'Adam und Eva - Deutungen eines Mythos', 'Was die Bibel über die Evolution verrät - Das Tagebuch der Menschheit', 'Lenin - Ein fanatischer Revolutionär', 'Was uns aufrecht hält - Die Wirbelsäule - Ein Erfolgsmodell', 'Gesundheitsforschung - Gemeinsamkeiten zwischen Tier und Mensch', 'Grundrechte für Tiere? - Auf dem Weg zu einer animalischen Ethik', 'Der Stoffwechsel - Unser unbekannter Motor', 'Der deutsche Bauernkrieg - Aufstand des gemeinen Mannes', 'Amphibien und Reptilien - Glatt, glitschig und genial vielseitig', 'Johannes Calvin - Der Genfer Reformator', 'Narzissmus - Von ganzem Herzen Ich', 'Pickelhaube und Kokosnuss - Deutsche Kolonien in der Südsee', 'Spiritualität - Die Sehnsucht nach dem Geistigen', 'Christoph Kolumbus - Eine Seefahrt verändert die Welt', 'Intuition - Gefühltes Wissen aus dem Unbewussten', 'John F. Kennedy - Der Traum von einem besseren Amerika', 'Der Auwald - Lebensraum am Fluss', 'William Shakespeares \"Hamlet\" - Die Zeit ist aus den Fugen', 'Nicht ohne meinen Kehlkopf - Sprechen, Schlucken, Stöhnen', 'Charles Lindbergh - Nationalheld mit Doppelleben', 'Das Tibetische Totenbuch - Reiseführer für Sterbende', 'Die Russisch-Orthodoxe Kirche - Schönheit des Mysteriums', 'Geschichte der Sklaverei - Wenn der Mensch zum Werkzeug wird', 'Steinzeitklischees - Männer jagen, Frauen kochen', 'Ausgestorbene Tiere - Für immer verloren', 'Suggestion, Manipulation - Wie man Menschen beeinflusst', 'Druiden - Die Herrscher der Weisheit?', 'Wenn sich das Kollektiv erinnert - Erkenntnisse der Gedächtnisforschung', 'Multiple Persönlichkeit - \"Ich bin viele!\"', 'Zensur in der Literatur - Zur Geschichte der Informationskontrolle', 'Die Wannseekonferenz - Die Absprache zum Völkermord', 'Kreide - Wenn die Küste bröckelt', 'Tu Buße! - Von Ablass, Beichte und dem lieben Seelenfrieden', 'Psychosomatik - Krankheit als Sprache der Seele', 'Hatschepsut - Der erste weibliche Pharao', 'Atahualpa - Der letzte König der Inka', 'Der Kult der Muttergöttin - Gebieterin der Dunkelheit', 'Ötzi - Die Gletschermumie vom Similaun', 'Das bayerische Wirtshaus - Da hocken die, die wo immer da hocken', 'Das Riff - Die faszinierende Welt der Korallen', 'Täuschen und Tarnen - Tricks im Pflanzenreich', 'Die Küche Altbayerns - Dienstag Nudeltag, Mittwoch Strudeltag', 'Mauern und Grenzen - Warum Staaten sich abschotten', 'Der Monsun - Wüstenwinde und Regenfluten', 'Katherine Mansfield - Impressionen des Augenblicks', 'Der Anwalt der Macht - Niccolò Machiavelli', 'Die Hölle - Ort der Verdammnis und der Fantasie', 'Carl von Linde - Der Kältekönig', 'Silber - Im Schatten von Gold', 'Maria Magdalena - Apostolin der Apostel?', 'Die Leber - Schwerstarbeiterin und Energielieferantin', 'Die Niere - Reinigungszentrale des Organismus', 'Wie Bayerns Mühlen mahlen - Das älteste Kraftwerk der Menschheit', 'Paul Watzlawick - Wir wirklich ist die Wirklichkeit?', 'Die Entzifferung der Hieroglyphen - Jean Francois Champollion', 'Die Bauchspeicheldrüse - Insulinfabrik und Verdauungshelfer', 'Männerfreunde - Durch dick und dünn', 'Tiefenökologie - Wenn Philosophie praktisch wird', 'Rudyard Kipling - Ost ist Ost und West ist West', 'Wert oder unwert? - Eugenik im Wandel der Zeit', 'Jospeh Haydn - Das Genie am Hof', 'Vom Ende aller Kriege - Friedensentwürfe der Philosophie', 'Utopie - Ideal oder Idiotie?', 'Die Geschichte der Inquisition - Gesinnungsterror im Namen Gottes', 'Lavendel - Das blaue Duftwunder', 'Die zwei Gesichter der Säuren - Ätzend, aber lebensnotwendig', 'Der Wiener Kongress - Restauration statt Fortschritt', 'Die Upanishaden - Geheimlehre der Veden', 'Johann Wolfgang von Goethe - Mein Leben ein einzig Abenteuer', 'Johann Sebastian Bach - Genie mit Langzeitwirkung', 'Trümmerfrauen - Mythos einer Schwerstarbeit', 'Maikäfer - Vier Jahre Vorbereitung für einen Flug', 'Säkularisation in Bayern - Am Beispiel des Klosters Benediktbeuern', 'Friedrich von Schiller - Briefe zur ästhetischen Erziehung', 'Der \"Kranke Mann am Bosporus\" - Vom Ende des Osmanischen Reiches', 'Der Daoismus - Dem Leben seinen Lauf lassen', 'Erfolgsautorinnen aus dem Osten - Russisch zählen, deutsch schreiben', 'Heilpflanzen - Altes Wissen, neu genutzt', 'Eugen von Knilling - Ein Ministerpräsident und der Hitlerputsch', 'Geiz - Das Gift der Menschlichkeit', 'Chinas Religionen - Harmonie zwischen Himmel und Erde', 'Novalis - Die Poesie heilt alle Wunden', 'Der Hinduismus - Indiens Religion', 'Freie Rituale - Orientierung ohne Glaube', 'Antisemitismus heute - Von Links, von Rechts und aus der Mitte', 'Die sogenannte \"Auschwitzlüge\" - Über eine dreiste Geschichtsfälschung', 'Geschichte der Kybernetik - Kann man alles steuern?', 'Können Maschinen denken? - Alan Turing und die Intelligenz', 'Der Segen - Mehr als nur ein frommer Wunsch?', 'Das Stigma - Zeichen und Wunder', 'Jüdisches Leben in Regensburg - Synagoge, Ghetto, Gelehrte', 'Die Anfänge der SPD', 'Madame Mao - Jiang Qing und die Kulturrevolution', 'Von der Euphorie in den Abgrund - Die Deutschen im Ersten Weltkrieg', 'Die Schüsse von Sarajewo - Der Beginn des Ersten Weltkriegs', 'Ohne Haben kein Sein - Besitz als Identitätsstifter', 'Die dunkle Zeit - Streifzüge durchs Mittelalter', 'Der Bundesrechnungshof - Millionenschnüffler und Schuldenbremser', 'Sündenböcke - In die Wüste geschickt', 'Hofmannsthals \"Jedermann\" - Salzburg forever', 'Schickt er Jesus auf den Scheiterhaufen? Dostojewskijs \"Großinquisitor\"', 'Petrus, \"Schwankender Fels?\" - Was man von dem Apostel weiß', 'We shall overcome! - Der Civil Rights Act von 1964', 'Das Haiku - Drei Zeilen, die alles sagen', 'Philosophische Gedanken zur Peinlichkeit - bloßgestellt - beschämt - blamiert', 'Johann Wolfgang von Goethe - Mein Leben, ein einzig Abenteuer', 'Faust und die Folgen', 'Gregor Mendel - Der geniale Erbsenzähler', 'Das Immunsystem - Die Polizei des Körpers', 'Epikur - Der Philosoph der maximalen Lust', 'Gotthold Ephraim Lessing - Minna von Barnhelm', 'Heinrich Himmler, Chef der SS - Pedantischer Massenmörder', 'KZ Ravensbrück - Eine Hölle eigens für Frauen', 'Immanuel Kant - Der Weltweise aus Königsberg', 'Das Blut - Kraftstoff des Lebens', 'Shakespeares Othello - Liebe zwischen zwei Kulturen', 'Axel Caesar Springer - Zeitungszar mit Sendungsbewusstsein', 'Bayerns letzter Henker - Der Nachrichter Johann Reichart', 'Der Hitlerputsch - Anfang vom Ende der Demokratie', 'Wilhelm II. - Phantast von Gottes Gnaden', 'Monogamie, Polygamie - Von Erst-, Zweit- und Drittbeziehungen', 'Rudolf Höß - Ein deutscher Nationalsozialist', 'Der Blaue Planet - Vom Gehen und Kommen der Ozeane', 'Die Schlacht am Little Bighorn und wie es dazu kam', 'Die Konjunktur - Beobachtet, gehätschelt und gebremst', 'Die sieben Todsünden - Dämonen mitten unter uns', 'Pablo Picasso - Genie des Wandels', 'Gedenkstätte Auschwitz - Ort des Unbegreifbaren', 'Gustaf Gründgens - Des Teufels Intendant', 'Leo von Klenze - Der Mann, der Münchens Bild prägte', 'Wie erinnern an die NS-Zeit? - Gespräch mit Dr. Jörg Skriebeleit', 'Urlaub beim Führer - Tourismus auf dem Obersalzberg', 'Max Mannheimer - Ein unvorstellbares Leben', 'Georg Büchner - Dann nehme ich den Schießprügel', 'Tot oder lebendig? - Unsterblichkeit in Mythos und Realität', 'Giuseppe Verdi - Die Kraft der Melodie', 'Garum, Galgant, Glutamat - Kleine Geschichte der Gewürze', 'Das Frauenbild der Philosophen - Kleinste Momente großer Denker', 'Kurze Geschichte der bayerischen Flößerei - Auf Main, Isar, Loisach', 'Münchner Stadtbausteine - Lehmbarone und Ziegelpatscher', '\"Ich bin keiner, der mit Weisheit geboren wurde\" - Leben und Lehre des Konfuzius', 'Novalis - Die Poesie heilt alle Wunden', 'Joseph von Eichendorff - \"Schläft ein Lied in allen Dingen\"', 'Flussdelfine - Götter der Flüsse', 'Hermann Göring - Der Mann hinter Hitler', 'Die Gestapo - Die politische Polizei der Nazizeit', 'Nazi-Swing als Propaganda - \"Charlie and his Orchestra\"', 'Der Ganges - Lebensader und Heiligtum', 'Gewaltfreie Kommunikation - Wertschätzung statt Manipulation', 'Das Konzentrationslager Dachau - Kein Ort des Vergessens', '80 Jahre KZ Dachau - Gespräch mit Barbara Distel', 'Die Lehre des Buddha - Zwischen Religion und Philosophie', 'Die Gegenwart der Götter - Jenseitsvorstellungen im Alten Ägypten', 'Die Lebenskunst der Stoa - Gelassenheit und stilles Glück', 'Wie Hitler an die Macht kam  - Intrigen gegen die Demokratie', 'Eis und seine Zeiten - Klimawandel in der Erdgeschichte', 'Wie Zucker entsteht - Aus Rübe und Rohr', 'Jeremias Gotthelf - Die schwarze Spinne', 'Die Bibel, ein Krimi? - Fromme Geschichten von Mord und Verrat', 'Der Kampf gegen die Sklaverei - Ein historischer Rückblick', 'Bakterien - Mysteriöse Untermieter des Menschen', 'Vorstellungen vom Danach - Weiterleben, Wiedergeburt oder Rückkehr?', 'Das Schtetl - Die verschwundene Welt des osteuropäischen Judentums', 'Das Messer rechts, die Gabel links? - Andere Länder, andere Sitten', 'Kassandra - Die unerhörte Seherin', 'Tibets Weisheit - Führer auf dem Weg zum Erwachen', 'Von Mondholz und Vollmondbier - Was der Erdtrabant tatsächlich bewirkt', 'Das Wiedergutmachungsabkommen - Beginn einer Annäherung', 'Raoul Wallenberg - Der rettungslos verlorene Retter', 'Retterinnen ohne Ruhm - Zivilcourage im Nationalsozialismus', 'Der Geist, der sich den Körper baut - Das kurze Leben des Friedrich Schiller', 'Das KZ Buchenwald und die Rettung der 900 Kinder', 'Arznei im Schimmelpilz - Die Entdeckung des Pencillins', 'Der Wolf - Verehrt, verfolgt, verfemt', 'Otto von Griechenland - Ein Bayer auf dem griechischen Thron', 'Das Leben des William Shakespeare - Und er war es doch!', 'Thomas Mann - Leben und Werk', 'Mose und sein Gott - Ideen sind stärker als Waffen', 'Die Zehn Gebote - Die wichtigsten Worte der Bibel', 'Judas - Begegnung mit dem Verräter des Herrn', 'Die Feuchtwangers - Von der Synagoge ins Wirtshaus', 'Das Vorbild - Mit gutem Beispiel voran', 'Reinhard Heydrich - Architekt des Holocaust', 'Urknall und Schöpfung - Spurensuche zur Entstehung des Kosmos', 'Das verdammte Tier  - Kirchenbanne gegen tierische Plagegeister', 'Heinrich von Kleist - Von einem, dem auf Erden nicht zu helfen war', 'Der Teufel hat viele Namen - Der Mythos vom Bösen', 'Das Ghetto Theresienstadt - Das Vorzeige-KZ der Nazis', 'Platons Philosophie - Ein Gastmahl der Liebe', 'Nicht zur Bestie geboren - Wie Menschen zu Massenmördern werden', 'Das Massaker von Babij Jar - Auftakt zu Auschwitz', 'Die Brüder Grimm - ein Herz und eine Seele', 'Liebe oder Krieg - Wie Tiermütter mit ihren Jungen umgehen', 'Glück - Eine Spurensuche mit Hindernissen', 'Die menschliche Stimme - Wie aus Luft Laute werden', 'C. G. Jung - \"Normal zu sein ist das Ideal der Mittelmäßigen\"', 'Von Becquerel bis Fukushima - Eine Geschichte der Atomkraft', 'Südafrika: Versöhnt oder gespalten?', 'Desmond Tutu - Einer, der vergeben kann', '15 Jahre später - Ist Südafrika versöhnt?', 'Berge in Brasilien - Der Itatiaia-Nationalpark', 'Lourdes - Ort des Glaubens und der Wunder', 'Freya von Moltke - Wir taten, was getan werden musste', 'Das Zeitalter der Aufklärung - Ein Lob der Vernunft', 'Zwischen Bierkeller und Salon - Hitler in München vor 1933', \"Mach's wie Gott, werde Mensch! - Jesus von Nazareth und das Christentum\", 'Stadtporträt St. Petersburg', 'Zwischen Utopie und Frust - Simone de Beauvoir und Jean-Paul Sartre', 'Evolution oder Schöpfung? - Wissenschaft oder Glaube?', 'Indonesien - Inselmosaik zwischen den Ozeanen', 'Ödipus - Ein Mythos und seine Deutung', 'Die Nürnberger Gesetze - Tödliches Recht', 'Von Flowerpower zur \"wehrhaften Demokratie\"', 'Lust und Liebe - Geschichten aus der Bibel', '\"Das Bessere ist der Feind des Guten\" - Voltaire', '\"Normal zu sein, ist das Ideal der Mittelmäßigen ...\" C. G. Jung', 'Blitze - Starkstrom aus dunklen Wolken', 'Endstation Central Park - Ernst Toller: Literat und Revolutionär', 'Den Schwächen der Menschen auf der Spur', 'Frieden - Alte und neue Methoden für einen gelebten Pazifismus', 'Suche nach einem verlorenen Mythos - Spaziergang durch Paris', 'Ergebenheit in Gott - Der Islam', 'Die Notstandsgesetze', 'Jesus von Nazareth - \"Mach\\'s wie Gott, werde Mensch!\"', 'Georg Johann Elser - ein Mann gegen Hitler - Geschichten aus der Geschichte', 'Erasmus von Rotterdam - Humanist und Philologe', 'Auf der Suche nach der Seele - Sigmund Freud', 'Im Porträt: Franz von Papen - Geschichten aus der Geschichte', 'Visionen mit Hand und Fuß - Jules Vernes', '\"Jetzt schlägt\\'s aber dreizehn!\" - Die Geschichte des Aberglaubens', 'Nunavut - Land der Inuit', 'Adele Spitzeder - Skandalbankerin zu München', 'Charles Robert Darwin', 'Die unruhige Erde: 3. Zukunft zwischen Komfort und Katastrophe', 'Mythen - Deutungen menschlichen Lebens: Medea', 'Heinrich Heine: \"Deutschland. Ein Wintermärchen\"', 'Der Regenwald - Ein grünes Porträt', 'Auge um Auge, Zahn und Zahn - Recht und Gesetz in der Bibel', '\"Wauwau\" oder \"Hauruck\"? Wie die Sprache entstanden ist', 'Flieger mit Kohlen und Kartoffeln: Die Berliner Luftbrücke', 'Religion und Gewalt - \"Gieß deinen Zorn aus über die Heiden!\"', '\"Der Untat folgt sie auf dem Fuße\" - Strafe und Vergeltung in Philosophie und Theologie', 'Die Ketzerkriege - Mord im Auftrag Gottes?', 'Gottfried Keller: Romeo und Julia auf dem Dorfe', 'Die Anarchie, der Staat und das Recht. Ein Rückblick', 'Die Wahrheit des Instinkts - Unser inneres Wissen - Diktatur oder Rettungsboot', 'Wie die Märchen entstanden', '\"Geht zu allen Völkern\": Geschichten aus der christlichen Mission', 'Ich\" oder \"Wir\" - Über einen menschlichen Urkonflikt', '\"Die Bestimmung des Menschen\" - Johann Gottlieb Fichte', 'Auszug aus dem Paradies - Wie der Mensch die Welt eroberte (3)', 'Auszug aus dem Paradies - Wie der Mensch die Welt eroberte (2)', 'Auszug aus dem Paradies - Wie der Mensch die Welt eroberte (1)', 'Tokio - ein Stadtporträt', 'Blut als heiliges Band zu Gott? - Das Opfer in Kult und Religion', 'Die Sage - Erinnerung an Geschichte: Robin Hood', '\"Da sagte die Schlange zu Eva\" ... Tiere in den Religionen', 'Vom Vis à Vis zum Miteinander - Die deutsch-französischen Beziehungen', 'Große Verleger: Samuel Fischer', 'Herrlichkeit und Katzenjammer - Die Epoche der Romantik', 'Russland: Altai - Wiege der Menschheit', 'Große Verleger: Ernst Rowohlt', 'lebensraum-wueste-sahara', 'Mythen mit Verfallsdatum: Die Geisha', 'Annette von Droste-Hülshoff: Die Judenbuche', '\"Dies war das Vorspiel nur ...\"  Vor 75 Jahren riefen die Nationalsozialisten zu Bücherverbrennungen auf', '\"Anleitung zum Unglücklichsein\" - Paul Watzlawicks Dauerbrenner heute', 'Wolfgang Borchert: Draußen vor der Tür - Das Schicksal eines Kriegsheimkehrers', 'Von der Gebrechlichkeit der Welt - Heinrich von Kleist', 'Von Frostbeulen und Hitzköpfen: Das Temperaturempfinden des Menschen - Natur und Umwelt', 'Menschen, Mythen, Religionen - Ramadan: Enthaltsamkeit bis Sonnenuntergang', 'Unterwegs in aller Welt - Die große Erschütterung: Das Erdbeben', 'E.T.A. Hoffmann - Ein Berufsbild', 'Menschen, Mythen, Religionen - Über das Eigentum', 'Hitler in Wien - Als Hitler noch unbekannt war']\n"
     ]
    }
   ],
   "source": [
    "titles, audio_urls = get_names_and_urls_all_episodes()\n",
    "print(titles)"
   ]
  },
  {
   "cell_type": "code",
   "execution_count": 9,
   "metadata": {},
   "outputs": [
    {
     "name": "stdout",
     "output_type": "stream",
     "text": [
      "2252 2252\n"
     ]
    }
   ],
   "source": [
    "print(len(titles))"
   ]
  },
  {
   "cell_type": "code",
   "execution_count": 10,
   "metadata": {},
   "outputs": [
    {
     "data": {
      "text/plain": [
       "filename         object\n",
       "download_url     object\n",
       "audio_binary     object\n",
       "segment_count     int64\n",
       "dtype: object"
      ]
     },
     "execution_count": 10,
     "metadata": {},
     "output_type": "execute_result"
    }
   ],
   "source": [
    "df = db_get_df(\"transcripts\")\n",
    "df.dtypes"
   ]
  },
  {
   "cell_type": "code",
   "execution_count": 17,
   "metadata": {},
   "outputs": [],
   "source": [
    "df = pd.DataFrame({\"title\": titles, \"download_url\": audio_urls, \"transcript\": None})\n",
    "db_save_df(df, \"transcripts_all\")"
   ]
  },
  {
   "cell_type": "markdown",
   "metadata": {},
   "source": [
    "### Alle mp3s herunterladen"
   ]
  },
  {
   "cell_type": "code",
   "execution_count": 11,
   "metadata": {},
   "outputs": [
    {
     "data": {
      "text/plain": [
       "['Beruf: Hausfrau - Die Geschichte einer Arbeiterin',\n",
       " 'Die Reliquienräuber von Bari - Nikolaus in Geschichte und Legende',\n",
       " 'Die Benin-Bronzen - Faszinierende Kunst und koloniales Unrecht',\n",
       " 'Steinalte Pilze - Zeugen der ältesten Ökosysteme',\n",
       " 'Runzelige Rinden und bunte Borken - Die Haut der Bäume',\n",
       " 'Unsere Luft - Was in ihr steckt',\n",
       " 'Chassidismus - Die Welt der frommen Mystiker',\n",
       " 'Finsternis und Kreativität - Eine unterschätzte Perspektive',\n",
       " 'Was macht uns aus? - Der feine Unterschied zwischen Mensch und Tier',\n",
       " 'Arbeitszeit - Von der Stechuhr zum Coworking Space ',\n",
       " 'Petzen oder wegschauen? Umgang mit unliebsamen Wahrheiten',\n",
       " 'Von der Müdigkeit - Wenn der Körper erschöpft ist',\n",
       " 'Otfried Preußler - Und sein Jugendroman Krabat',\n",
       " 'Kriegsenkel - Das besondere Erbe dieser Generation',\n",
       " 'Der Permafrost taut auf - Folgen für Mensch und Umwelt',\n",
       " 'Richard Feynman - Physikgenie mit Charisma',\n",
       " 'Überfischung - Wenn das Meer leer wird',\n",
       " 'Warum treiben Menschen Sport? - Eine Erfolgsgeschichte',\n",
       " 'Die Geschichte des Mikroskops - Als die Welt vergrößert wurde ...',\n",
       " 'Bäuerinnen - Emanzipationsgeschichte auf dem Hof',\n",
       " 'Trauer - Mut zum ganz eigenen Weg ',\n",
       " 'Anfänge des Rundfunks in Deutschland - Die ersten Klänge des Radios',\n",
       " 'Was ist dran am „Urgetreide“? Alles Natur',\n",
       " 'Mohammed - Prophet und Gründer des Islam',\n",
       " 'Die Mikrowelle - Vom Radargerät in die Küche',\n",
       " 'Der Dackel - Auf kurzen Beinen zur Kultfigur',\n",
       " 'Die Geschichte der Stadt - Urbanes Leben als Motor der Gesellschaft',\n",
       " 'Ingenieurskunst Tunnelbau - Wege durch den Stein',\n",
       " 'Mutterliebe im Tierreich? Alles Natur',\n",
       " 'Auf Wanderschaft - Wie Zugvögel ihren Weg finden',\n",
       " 'Gedächtnisleistungen beim Tier - Was sich Tiere alles merken können',\n",
       " 'Die Legende vom Sannikow-Land - Ein Paradies im Eis?',\n",
       " 'Chronomedizin - Therapie im Takt des Körpers',\n",
       " 'Natalia Ginzburg - Italiens Edelfeder  ',\n",
       " 'Naturalismus - Der realistischere Realismus',\n",
       " 'Oskar von Miller - Technik-Pionier und Museumsgründer',\n",
       " 'Aus Versehen genial - Wie der Zufall zu neuen Entdeckungen führte',\n",
       " 'Die Geschichte der Wanderarbeiter - Suche nach einer Perspektive',\n",
       " 'Scham - Ein sozialer Basisaffekt ',\n",
       " 'Angst vor der Dunkelheit - Was die Finsternis unheimlich macht',\n",
       " 'Elfen - Die uralten und quicklebendigen Naturgeister',\n",
       " 'Ordnung in die Natur! Der schwedische Forscher Carl von Linné',\n",
       " 'Was heißt hier Unkraut? - Alles Natur',\n",
       " 'Der Friedensschluss - Der Westfälische Friede von 1648',\n",
       " 'Wie können die Fledermäuse zurückkehren? Alles Natur',\n",
       " 'Barmherzigkeit - Wiederentdeckung einer Tugend',\n",
       " 'Jakob Wassermann - Der fast vergessene „Weltstar des Romans“',\n",
       " 'Kriegsberichterstatterinnen - Frauen zwischen den Fronten',\n",
       " 'Die Weihnachtskrippe - Szenerie der Menschwerdung',\n",
       " 'Die Fischacher Laubhütte - Ein bayerisches Kleinod in Jerusalem',\n",
       " 'Tierversuche - Immer noch unverzichtbar?',\n",
       " 'William Turner - Maler der Zukunft',\n",
       " 'Biotopvernetzung - Wenn Lebensräume verbunden werden',\n",
       " 'Wetterballons - Datenspione des Himmels',\n",
       " 'Totenkult und Religion - Bestattungsrituale in den Weltreligionen',\n",
       " 'Ernährungstheorien - Fakten oder Mythen?',\n",
       " 'Der heilige Raum - Resonanz zwischen Ort und Mensch',\n",
       " 'Moral im Straßenverkehr - Das Recht des Stärkeren?',\n",
       " 'Jesus Christus - Ein Held?',\n",
       " 'Über das Grübeln - Gefangen in den eigenen Gedanken',\n",
       " 'Philosophie der Schönheit - Was den Menschen \"schön\" macht',\n",
       " 'Vulkanausbruch - Und was kommt danach?',\n",
       " 'Ennio Morricone - Meister der Filmmusik',\n",
       " 'Manufakturen - Schritt in eine neue Arbeitswelt',\n",
       " 'Lady Chatterleys Liebhaber - Erotik, Sex, Ehebruch',\n",
       " 'Napoletana, Margherita, Diavolo - Die Kulturgeschichte der Pizza',\n",
       " 'Leistungsgesellschaft - Falle der Moderne? ',\n",
       " 'Romantik - Zwischen Schwärmerei und Freiheitsstreben',\n",
       " 'Das Fenster - Geschichte mit Durchblick',\n",
       " 'Italo Calvino - Schriftsteller einer Generation ',\n",
       " 'Sex im Islam - Liebe, Lust und Leidenschaft',\n",
       " 'Das Licht in der Malerei - Kerzen, Glanz und Sonnenstrahlen',\n",
       " 'Das rätselhafte Ende der Bronzezeit - Klärung in Sicht?',\n",
       " 'Die Forscherfamilie Piccard - Von der Ballonfahrt zur Tiefsee',\n",
       " 'Tierprodukte in der Medizin - Heilmittel oder Aberglaube? ',\n",
       " 'Der Mauerfall - Weshalb die DDR 1989 plötzlich unterging',\n",
       " 'Deutsch-tschechische Fernsehmärchen - Verzauberung ohne Grenzen',\n",
       " 'Vater, Mutter, Kind - Ist die Kleinfamilie am Ende?',\n",
       " 'Das Geschenk - Die Magie der Überraschung',\n",
       " 'Der Krimkrieg - Der allererste Weltkrieg',\n",
       " 'Max Emanuel - Der blaue Kurfürst',\n",
       " 'Fossilien, die stummen Zeitzeugen - Alles Natur!',\n",
       " 'Ressourcen - Innere und äußere Kraftquellen',\n",
       " 'Radio Caroline - Der vorbildliche Piratensender',\n",
       " 'Eichhörnchen - Kletternde Kobolde',\n",
       " 'Die Gewerkschaft - Lästig, aber nötig?',\n",
       " 'Pierre-Auguste Renoir - Malerei voll Licht und Luft ',\n",
       " 'Der kleine Liebling der Elite - Schoßhunde im Wandel der Zeit',\n",
       " 'Tiere im Winter – Alles Natur',\n",
       " 'Stottern - Die Angst vor dem nächsten Hänger',\n",
       " 'Donald Winnicott - Vom Vertrauen in die Fähigkeit der Eltern',\n",
       " 'Selbstliebe - Wie kann man mit sich befreundet sein',\n",
       " 'Die halbe Erde unter Schutz - Rettungsmaßnahmen für Klima und Arten ',\n",
       " 'Cholesterin - Substanz mit Folgen',\n",
       " 'Die Erfindung des Rads - Als die Welt ins Rollen kam',\n",
       " 'Jeden Tag ein Türchen mehr ... - Die Geschichte des Adventskalenders',\n",
       " 'Diwali - Das hinduistische Lichterfest',\n",
       " 'Friedrich II und die Seidenraupen - Wie Preußen Seidenbau förderte',\n",
       " 'Earl Hamner, Erfinder der Waltons - Sehnsucht nach dem Landleben',\n",
       " 'Martin Luther King - Gewaltloser Kämpfer für Menschenrechte',\n",
       " 'Gotische Bilderwelten - \"Völlig losgelöst von der Erde\"',\n",
       " 'Autonomie für Korsika? Lieder für die Freiheit',\n",
       " 'Die Reichspogromnacht - Der verordnete Volkszorn',\n",
       " 'Feuer in den Religionen - Erleuchtung, Reinigung, Wandel',\n",
       " 'Höhenluft - Ganz schön gut, ganz schön schlecht',\n",
       " 'Hunde und ihr Geruchssinn - Die Supernasen im Tierreich',\n",
       " 'Nutztierställe im Wandel - Eine Frage der Haltung',\n",
       " 'Künstliches Licht - Vom Feuerschein zur Leuchtdiode',\n",
       " 'Der Zweite Opiumkrieg - Chinas unvergessene Demütigung durch Europa',\n",
       " 'Das Fachkräfteeinwanderungsgesetz - Zwischen Ideologie und Notwendigkeit',\n",
       " 'Max Frisch - Der Kampf ums Ich',\n",
       " 'Das Spenden - Warum wir Menschen teilen',\n",
       " 'Die Küche - Von Muttis Werkstatt zum Raum für alle',\n",
       " 'Schnee - Faszinierende Flocken und ihre Geheimnisse',\n",
       " 'Trauma - Wie umgehen mit psychischen Verletzungen',\n",
       " 'Der Mord an JFK - Trauma und Verschwörungsmythos',\n",
       " 'Nueva Germania - Das gescheiterte „Arier-Experiment“ im Urwald',\n",
       " 'Liselotte von der Pfalz - Ungeschminktes aus Versailles',\n",
       " 'Ingeborg Bachmann - Die traurige Dichterin',\n",
       " 'Wunsch und wünschen - Ansporn oder Realitätsflucht?',\n",
       " 'Harze - Das Blut der Bäume',\n",
       " 'Bayern zwischen den Kriegen - Von der Boheme zu Barbarei',\n",
       " 'Erben und Vererben - Was steckt hinter dem Streit ums Geld?   ',\n",
       " 'Krankheitsfaktor Stress - Auf den Spuren eines Phänomens',\n",
       " 'Rainer Erlinger - Eine Philosophie für den Alltag',\n",
       " 'Glückshormone - Komplexe Botenstoffe mit viel Wirkung',\n",
       " 'Inzest - Tabu und Mythos',\n",
       " 'Melancholie in der Philosophie - Zwischen Genialität und Wahnsinn',\n",
       " 'Wälder für eine wärmere Zukunft - Bäume im Klimatest',\n",
       " 'Die Bewerbung - Betteln, Posen, Aufpolieren',\n",
       " 'Der Tod und wir - Rebellion gegen die Endlichkeit',\n",
       " 'Mobiles Arbeiten - Welche Fallstricke lauern im Homeoffice?',\n",
       " 'Geschichte der Köche - Künstler und Sklaven des Genusses',\n",
       " 'Helene Kottannerin - Die Kammerfrau, die Ungarns Krone stahl',\n",
       " 'Heinrich Barth - Der vergessene Afrika-Forscher',\n",
       " 'Quantenphysik - Wahr, aber verrückt',\n",
       " 'Vergebung als Chance - Ein Prozess der inneren Aussöhnung',\n",
       " 'Staudämme - Mauern für das Wasser',\n",
       " 'Die Republik von Salò - Hitlers Marionetten-Regime in Oberitalien',\n",
       " ' Die Geschichte der Kerze - Walrat, Unschlitt und Wachsschnäuzer',\n",
       " 'Elisabeth von Österreich - Eine Kaiserin verweigert sich',\n",
       " 'Der Nationalpark Bayerischer Wald - Alles Natur!',\n",
       " 'Jonathan Swift - Gullivers Reisen',\n",
       " 'Frauen in der Bronzezeit - Die weibliche Macht?',\n",
       " 'Bayerische Staatsbibliothek - Die Geschichte einer steilen Karriere',\n",
       " 'Zivilcourage - Der Mut des Bürgers',\n",
       " 'Die Lust am Gruseln - Echte Gänsehautgefühle',\n",
       " 'Pflicht zur Hilfsbereitschaft? - Eine Philosophie des Füreinander',\n",
       " '\"Eigentlich bin ich frei\" - Warum machen wir nicht mehr daraus?',\n",
       " 'Volkskrankheit Osteoporose - Wenn Knochen brüchig werden ',\n",
       " 'Die Tage vor den Tagen - PMS, das prämenstruelle Syndrom',\n",
       " 'Schmerz  - Wenn der Körper Alarm schlägt',\n",
       " 'Oriana Fallaci - Kompromisslos, stolz und unbequem',\n",
       " 'Heinz Erhardt - Was bin ich für ein Schelm!',\n",
       " 'Neuroplastizität - Wie das Gehirn sich neu strukturiert',\n",
       " 'Endometriose - Wenn die Menstruation zur Qual wird',\n",
       " 'Flechten, Meister der Extreme - Alles Natur!',\n",
       " 'Forscherinnen im Schatten - Vergessene Frauen der Wissenschaft',\n",
       " 'Tiere in der Pubertät - Abenteuerlustig, impulsiv, risikofreudig',\n",
       " \"Die Baha'i - Religion ohne Glaubensgrenzen\",\n",
       " 'Weihnachtsmann & Co - Was hinter den winterlichen Gabenbringern steckt',\n",
       " 'Neophyten, die eingeschleppten Pflanzen - Alles Natur',\n",
       " 'Stille Nacht - Ein Lied, 300 Übersetzungen und viele Geschichten',\n",
       " 'Halloween - \"Keltischer Kult\" oder Grusel-Event?',\n",
       " 'Allen das Gleiche? Die Philosophie der sozialen Gerechtigkeit',\n",
       " 'Das alte Russland und Japan - Imperium trifft Märchenland',\n",
       " 'Romance forever? Warum Liebesromane boomen',\n",
       " 'Die Brüder Asam - Architekten des theatrum sacrum',\n",
       " 'Die Frauen der Familie Curie - Marie, Irène und Eve ',\n",
       " 'Der Eiffelturm - Ikone der Moderne',\n",
       " 'Spuk und Trug - Eine erschreckende Geschichte der Poltergeister',\n",
       " 'Das Museum - Ein Ort der Macht',\n",
       " 'Regenerationskünstler - Wie Tiere sich selbst heilen',\n",
       " 'Der Igel - Stachliger Überlebenskünstler',\n",
       " 'Maria Callas - Operndiva mit Kultstatus',\n",
       " 'Die Wetterpropheten - Wie Meteorologen Sonne und Regen vorhersagen',\n",
       " 'Fantasie - Das oft ungenutzte Potenzial',\n",
       " 'Italienischer Widerstand gegen die Deutschen Banditi e Ribelli',\n",
       " 'Tiefenzeit - Vergangenheit und Zukunft wiederentdecken',\n",
       " 'Gegenwart - Ein rätselhaftes Phänomen']"
      ]
     },
     "execution_count": 11,
     "metadata": {},
     "output_type": "execute_result"
    }
   ],
   "source": [
    "os.listdir(\"/nfs/scratch/students/neumannvi84434/Podcast_Episoden/\")\n"
   ]
  },
  {
   "cell_type": "code",
   "execution_count": 15,
   "metadata": {},
   "outputs": [
    {
     "name": "stderr",
     "output_type": "stream",
     "text": [
      "219it [00:00, 2182.78it/s]"
     ]
    },
    {
     "name": "stdout",
     "output_type": "stream",
     "text": [
      "Downloaded MP3\n",
      "Downloaded MP3\n",
      "Downloaded MP3\n",
      "Downloaded MP3\n",
      "Downloaded MP3\n",
      "Downloaded MP3\n",
      "Downloaded MP3\n",
      "Downloaded MP3\n",
      "Downloaded MP3\n",
      "Downloaded MP3\n",
      "Downloaded MP3\n",
      "Downloaded MP3\n"
     ]
    },
    {
     "name": "stderr",
     "output_type": "stream",
     "text": [
      "219it [00:10, 2182.78it/s]"
     ]
    },
    {
     "name": "stdout",
     "output_type": "stream",
     "text": [
      "Downloaded MP3\n"
     ]
    },
    {
     "name": "stderr",
     "output_type": "stream",
     "text": [
      "254it [00:11, 16.79it/s]  "
     ]
    },
    {
     "name": "stdout",
     "output_type": "stream",
     "text": [
      "Downloaded MP3\n"
     ]
    },
    {
     "name": "stderr",
     "output_type": "stream",
     "text": [
      "255it [00:12, 15.25it/s]"
     ]
    },
    {
     "name": "stdout",
     "output_type": "stream",
     "text": [
      "Downloaded MP3\n",
      "Downloaded MP3\n",
      "Downloaded MP3\n",
      "Downloaded MP3\n",
      "Downloaded MP3\n",
      "Downloaded MP3\n",
      "Downloaded MP3\n",
      "Downloaded MP3\n",
      "Downloaded MP3\n",
      "Downloaded MP3\n",
      "Downloaded MP3\n",
      "Downloaded MP3\n",
      "Downloaded MP3\n",
      "Downloaded MP3\n",
      "Downloaded MP3\n",
      "Downloaded MP3\n",
      "Downloaded MP3\n",
      "Downloaded MP3\n",
      "Downloaded MP3\n",
      "Downloaded MP3\n",
      "Downloaded MP3\n"
     ]
    },
    {
     "name": "stderr",
     "output_type": "stream",
     "text": [
      "255it [00:30, 15.25it/s]"
     ]
    },
    {
     "name": "stdout",
     "output_type": "stream",
     "text": [
      "Downloaded MP3\n"
     ]
    },
    {
     "name": "stderr",
     "output_type": "stream",
     "text": [
      "277it [00:30,  4.62it/s]"
     ]
    },
    {
     "name": "stdout",
     "output_type": "stream",
     "text": [
      "Downloaded MP3\n"
     ]
    },
    {
     "name": "stderr",
     "output_type": "stream",
     "text": [
      "278it [00:31,  4.46it/s]"
     ]
    },
    {
     "name": "stdout",
     "output_type": "stream",
     "text": [
      "Downloaded MP3\n",
      "Downloaded MP3\n",
      "Downloaded MP3\n",
      "Downloaded MP3\n",
      "Downloaded MP3\n",
      "Downloaded MP3\n",
      "Downloaded MP3\n",
      "Downloaded MP3\n",
      "Downloaded MP3\n",
      "Downloaded MP3\n",
      "Downloaded MP3\n",
      "Downloaded MP3\n",
      "Downloaded MP3\n",
      "Downloaded MP3\n",
      "Downloaded MP3\n",
      "Downloaded MP3\n",
      "Downloaded MP3\n",
      "Downloaded MP3\n",
      "Downloaded MP3\n",
      "Downloaded MP3\n",
      "Downloaded MP3\n"
     ]
    },
    {
     "name": "stderr",
     "output_type": "stream",
     "text": [
      "278it [00:50,  4.46it/s]"
     ]
    },
    {
     "name": "stdout",
     "output_type": "stream",
     "text": [
      "Downloaded MP3\n"
     ]
    },
    {
     "name": "stderr",
     "output_type": "stream",
     "text": [
      "300it [00:51,  2.44it/s]"
     ]
    },
    {
     "name": "stdout",
     "output_type": "stream",
     "text": [
      "Downloaded MP3\n"
     ]
    },
    {
     "name": "stderr",
     "output_type": "stream",
     "text": [
      "301it [00:52,  2.39it/s]"
     ]
    },
    {
     "name": "stdout",
     "output_type": "stream",
     "text": [
      "Downloaded MP3\n",
      "Downloaded MP3\n",
      "Downloaded MP3\n",
      "Downloaded MP3\n",
      "Downloaded MP3\n",
      "Downloaded MP3\n",
      "Downloaded MP3\n",
      "Downloaded MP3\n",
      "Downloaded MP3\n",
      "Downloaded MP3\n",
      "Downloaded MP3\n",
      "Downloaded MP3\n",
      "Downloaded MP3\n",
      "Downloaded MP3\n",
      "Downloaded MP3\n",
      "Downloaded MP3\n",
      "Downloaded MP3\n"
     ]
    },
    {
     "name": "stderr",
     "output_type": "stream",
     "text": [
      "301it [01:10,  2.39it/s]"
     ]
    },
    {
     "name": "stdout",
     "output_type": "stream",
     "text": [
      "Downloaded MP3\n"
     ]
    },
    {
     "name": "stderr",
     "output_type": "stream",
     "text": [
      "319it [01:11,  1.58it/s]"
     ]
    },
    {
     "name": "stdout",
     "output_type": "stream",
     "text": [
      "Downloaded MP3\n"
     ]
    },
    {
     "name": "stderr",
     "output_type": "stream",
     "text": [
      "320it [01:12,  1.57it/s]"
     ]
    },
    {
     "name": "stdout",
     "output_type": "stream",
     "text": [
      "Downloaded MP3\n",
      "Downloaded MP3\n",
      "Downloaded MP3\n",
      "Downloaded MP3\n",
      "Downloaded MP3\n",
      "Downloaded MP3\n",
      "Downloaded MP3\n",
      "Downloaded MP3\n",
      "Downloaded MP3\n",
      "Downloaded MP3\n",
      "Downloaded MP3\n",
      "Downloaded MP3\n",
      "Downloaded MP3\n",
      "Downloaded MP3\n",
      "Downloaded MP3\n",
      "Downloaded MP3\n"
     ]
    },
    {
     "name": "stderr",
     "output_type": "stream",
     "text": [
      "320it [01:30,  1.57it/s]"
     ]
    },
    {
     "name": "stdout",
     "output_type": "stream",
     "text": [
      "Downloaded MP3\n"
     ]
    },
    {
     "name": "stderr",
     "output_type": "stream",
     "text": [
      "337it [01:30,  1.26it/s]"
     ]
    },
    {
     "name": "stdout",
     "output_type": "stream",
     "text": [
      "Downloaded MP3\n"
     ]
    },
    {
     "name": "stderr",
     "output_type": "stream",
     "text": [
      "338it [01:31,  1.26it/s]"
     ]
    },
    {
     "name": "stdout",
     "output_type": "stream",
     "text": [
      "Downloaded MP3\n",
      "Downloaded MP3\n",
      "Downloaded MP3\n",
      "Downloaded MP3\n",
      "Downloaded MP3\n",
      "Downloaded MP3\n",
      "Downloaded MP3\n",
      "Downloaded MP3\n",
      "Downloaded MP3\n",
      "Downloaded MP3\n",
      "Downloaded MP3\n",
      "Downloaded MP3\n",
      "Downloaded MP3\n"
     ]
    },
    {
     "name": "stderr",
     "output_type": "stream",
     "text": [
      "351it [01:42,  1.23it/s]"
     ]
    },
    {
     "name": "stdout",
     "output_type": "stream",
     "text": [
      "Downloaded MP3\n"
     ]
    },
    {
     "name": "stderr",
     "output_type": "stream",
     "text": [
      "352it [01:43,  1.23it/s]"
     ]
    },
    {
     "name": "stdout",
     "output_type": "stream",
     "text": [
      "Downloaded MP3\n",
      "Downloaded MP3\n",
      "Downloaded MP3\n",
      "Downloaded MP3\n",
      "Downloaded MP3\n",
      "Downloaded MP3\n",
      "Downloaded MP3\n",
      "Downloaded MP3\n",
      "Downloaded MP3\n"
     ]
    },
    {
     "name": "stderr",
     "output_type": "stream",
     "text": [
      "361it [01:51,  1.22it/s]"
     ]
    },
    {
     "name": "stdout",
     "output_type": "stream",
     "text": [
      "Downloaded MP3\n",
      "Downloaded MP3\n",
      "Downloaded MP3\n",
      "Downloaded MP3\n",
      "Downloaded MP3\n",
      "Downloaded MP3\n"
     ]
    },
    {
     "name": "stderr",
     "output_type": "stream",
     "text": [
      "367it [01:56,  1.20it/s]"
     ]
    },
    {
     "name": "stdout",
     "output_type": "stream",
     "text": [
      "Downloaded MP3\n",
      "Downloaded MP3\n",
      "Downloaded MP3\n",
      "Downloaded MP3\n",
      "Downloaded MP3\n"
     ]
    },
    {
     "name": "stderr",
     "output_type": "stream",
     "text": [
      "372it [02:00,  1.18it/s]"
     ]
    },
    {
     "name": "stdout",
     "output_type": "stream",
     "text": [
      "Downloaded MP3\n",
      "Downloaded MP3\n",
      "Downloaded MP3\n"
     ]
    },
    {
     "name": "stderr",
     "output_type": "stream",
     "text": [
      "375it [02:03,  1.18it/s]"
     ]
    },
    {
     "name": "stdout",
     "output_type": "stream",
     "text": [
      "Downloaded MP3\n",
      "Downloaded MP3\n",
      "Downloaded MP3\n"
     ]
    },
    {
     "name": "stderr",
     "output_type": "stream",
     "text": [
      "378it [02:05,  1.18it/s]"
     ]
    },
    {
     "name": "stdout",
     "output_type": "stream",
     "text": [
      "Downloaded MP3\n",
      "Downloaded MP3\n"
     ]
    },
    {
     "name": "stderr",
     "output_type": "stream",
     "text": [
      "380it [02:07,  1.18it/s]"
     ]
    },
    {
     "name": "stdout",
     "output_type": "stream",
     "text": [
      "Downloaded MP3\n",
      "Downloaded MP3\n"
     ]
    },
    {
     "name": "stderr",
     "output_type": "stream",
     "text": [
      "382it [02:09,  1.18it/s]"
     ]
    },
    {
     "name": "stdout",
     "output_type": "stream",
     "text": [
      "Downloaded MP3\n"
     ]
    },
    {
     "name": "stderr",
     "output_type": "stream",
     "text": [
      "383it [02:10,  1.18it/s]"
     ]
    },
    {
     "name": "stdout",
     "output_type": "stream",
     "text": [
      "Downloaded MP3\n"
     ]
    },
    {
     "name": "stderr",
     "output_type": "stream",
     "text": [
      "384it [02:10,  1.19it/s]"
     ]
    },
    {
     "name": "stdout",
     "output_type": "stream",
     "text": [
      "Downloaded MP3\n"
     ]
    },
    {
     "name": "stderr",
     "output_type": "stream",
     "text": [
      "385it [02:11,  1.17it/s]"
     ]
    },
    {
     "name": "stdout",
     "output_type": "stream",
     "text": [
      "Downloaded MP3\n"
     ]
    },
    {
     "name": "stderr",
     "output_type": "stream",
     "text": [
      "386it [02:12,  1.15it/s]"
     ]
    },
    {
     "name": "stdout",
     "output_type": "stream",
     "text": [
      "Downloaded MP3\n"
     ]
    },
    {
     "name": "stderr",
     "output_type": "stream",
     "text": [
      "387it [02:13,  1.15it/s]"
     ]
    },
    {
     "name": "stdout",
     "output_type": "stream",
     "text": [
      "Downloaded MP3\n"
     ]
    },
    {
     "name": "stderr",
     "output_type": "stream",
     "text": [
      "388it [02:14,  1.14it/s]"
     ]
    },
    {
     "name": "stdout",
     "output_type": "stream",
     "text": [
      "Downloaded MP3\n"
     ]
    },
    {
     "name": "stderr",
     "output_type": "stream",
     "text": [
      "389it [02:15,  1.16it/s]"
     ]
    },
    {
     "name": "stdout",
     "output_type": "stream",
     "text": [
      "Downloaded MP3\n"
     ]
    },
    {
     "name": "stderr",
     "output_type": "stream",
     "text": [
      "390it [02:16,  1.12it/s]"
     ]
    },
    {
     "name": "stdout",
     "output_type": "stream",
     "text": [
      "Downloaded MP3\n"
     ]
    },
    {
     "name": "stderr",
     "output_type": "stream",
     "text": [
      "391it [02:17,  1.09it/s]"
     ]
    },
    {
     "name": "stdout",
     "output_type": "stream",
     "text": [
      "Downloaded MP3\n"
     ]
    },
    {
     "name": "stderr",
     "output_type": "stream",
     "text": [
      "392it [02:18,  1.14it/s]"
     ]
    },
    {
     "name": "stdout",
     "output_type": "stream",
     "text": [
      "Downloaded MP3\n"
     ]
    },
    {
     "name": "stderr",
     "output_type": "stream",
     "text": [
      "393it [02:18,  1.15it/s]"
     ]
    },
    {
     "name": "stdout",
     "output_type": "stream",
     "text": [
      "Downloaded MP3\n"
     ]
    },
    {
     "name": "stderr",
     "output_type": "stream",
     "text": [
      "394it [02:19,  1.17it/s]"
     ]
    },
    {
     "name": "stdout",
     "output_type": "stream",
     "text": [
      "Downloaded MP3\n"
     ]
    },
    {
     "name": "stderr",
     "output_type": "stream",
     "text": [
      "395it [02:20,  1.16it/s]"
     ]
    },
    {
     "name": "stdout",
     "output_type": "stream",
     "text": [
      "Downloaded MP3\n"
     ]
    },
    {
     "name": "stderr",
     "output_type": "stream",
     "text": [
      "396it [02:21,  1.16it/s]"
     ]
    },
    {
     "name": "stdout",
     "output_type": "stream",
     "text": [
      "Downloaded MP3\n"
     ]
    },
    {
     "name": "stderr",
     "output_type": "stream",
     "text": [
      "397it [02:22,  1.13it/s]"
     ]
    },
    {
     "name": "stdout",
     "output_type": "stream",
     "text": [
      "Downloaded MP3\n"
     ]
    },
    {
     "name": "stderr",
     "output_type": "stream",
     "text": [
      "398it [02:23,  1.14it/s]"
     ]
    },
    {
     "name": "stdout",
     "output_type": "stream",
     "text": [
      "Downloaded MP3\n"
     ]
    },
    {
     "name": "stderr",
     "output_type": "stream",
     "text": [
      "399it [02:24,  1.12it/s]"
     ]
    },
    {
     "name": "stdout",
     "output_type": "stream",
     "text": [
      "Downloaded MP3\n"
     ]
    },
    {
     "name": "stderr",
     "output_type": "stream",
     "text": [
      "400it [02:24,  1.16it/s]"
     ]
    },
    {
     "name": "stdout",
     "output_type": "stream",
     "text": [
      "Downloaded MP3\n"
     ]
    },
    {
     "name": "stderr",
     "output_type": "stream",
     "text": [
      "401it [02:25,  1.14it/s]"
     ]
    },
    {
     "name": "stdout",
     "output_type": "stream",
     "text": [
      "Downloaded MP3\n"
     ]
    },
    {
     "name": "stderr",
     "output_type": "stream",
     "text": [
      "402it [02:26,  1.13it/s]"
     ]
    },
    {
     "name": "stdout",
     "output_type": "stream",
     "text": [
      "Downloaded MP3\n"
     ]
    },
    {
     "name": "stderr",
     "output_type": "stream",
     "text": [
      "403it [02:27,  1.13it/s]"
     ]
    },
    {
     "name": "stdout",
     "output_type": "stream",
     "text": [
      "Downloaded MP3\n"
     ]
    },
    {
     "name": "stderr",
     "output_type": "stream",
     "text": [
      "404it [02:28,  1.11it/s]"
     ]
    },
    {
     "name": "stdout",
     "output_type": "stream",
     "text": [
      "Downloaded MP3\n"
     ]
    },
    {
     "name": "stderr",
     "output_type": "stream",
     "text": [
      "405it [02:29,  1.12it/s]"
     ]
    },
    {
     "name": "stdout",
     "output_type": "stream",
     "text": [
      "Downloaded MP3\n"
     ]
    },
    {
     "name": "stderr",
     "output_type": "stream",
     "text": [
      "406it [02:30,  1.11it/s]"
     ]
    },
    {
     "name": "stdout",
     "output_type": "stream",
     "text": [
      "Downloaded MP3\n"
     ]
    },
    {
     "name": "stderr",
     "output_type": "stream",
     "text": [
      "407it [02:31,  1.11it/s]"
     ]
    },
    {
     "name": "stdout",
     "output_type": "stream",
     "text": [
      "Downloaded MP3\n"
     ]
    },
    {
     "name": "stderr",
     "output_type": "stream",
     "text": [
      "408it [02:32,  1.10it/s]"
     ]
    },
    {
     "name": "stdout",
     "output_type": "stream",
     "text": [
      "Downloaded MP3\n"
     ]
    },
    {
     "name": "stderr",
     "output_type": "stream",
     "text": [
      "409it [02:33,  1.12it/s]"
     ]
    },
    {
     "name": "stdout",
     "output_type": "stream",
     "text": [
      "Downloaded MP3\n"
     ]
    },
    {
     "name": "stderr",
     "output_type": "stream",
     "text": [
      "410it [02:34,  1.10it/s]"
     ]
    },
    {
     "name": "stdout",
     "output_type": "stream",
     "text": [
      "Downloaded MP3\n"
     ]
    },
    {
     "name": "stderr",
     "output_type": "stream",
     "text": [
      "411it [02:34,  1.13it/s]"
     ]
    },
    {
     "name": "stdout",
     "output_type": "stream",
     "text": [
      "Downloaded MP3\n"
     ]
    },
    {
     "name": "stderr",
     "output_type": "stream",
     "text": [
      "412it [02:35,  1.12it/s]"
     ]
    },
    {
     "name": "stdout",
     "output_type": "stream",
     "text": [
      "Downloaded MP3\n"
     ]
    },
    {
     "name": "stderr",
     "output_type": "stream",
     "text": [
      "413it [02:36,  1.17it/s]"
     ]
    },
    {
     "name": "stdout",
     "output_type": "stream",
     "text": [
      "Downloaded MP3\n"
     ]
    },
    {
     "name": "stderr",
     "output_type": "stream",
     "text": [
      "414it [02:37,  1.17it/s]"
     ]
    },
    {
     "name": "stdout",
     "output_type": "stream",
     "text": [
      "Downloaded MP3\n"
     ]
    },
    {
     "name": "stderr",
     "output_type": "stream",
     "text": [
      "415it [02:38,  1.12it/s]"
     ]
    },
    {
     "name": "stdout",
     "output_type": "stream",
     "text": [
      "Downloaded MP3\n"
     ]
    },
    {
     "name": "stderr",
     "output_type": "stream",
     "text": [
      "416it [02:39,  1.12it/s]"
     ]
    },
    {
     "name": "stdout",
     "output_type": "stream",
     "text": [
      "Downloaded MP3\n"
     ]
    },
    {
     "name": "stderr",
     "output_type": "stream",
     "text": [
      "417it [02:40,  1.14it/s]"
     ]
    },
    {
     "name": "stdout",
     "output_type": "stream",
     "text": [
      "Downloaded MP3\n"
     ]
    },
    {
     "name": "stderr",
     "output_type": "stream",
     "text": [
      "418it [02:41,  1.14it/s]"
     ]
    },
    {
     "name": "stdout",
     "output_type": "stream",
     "text": [
      "Downloaded MP3\n"
     ]
    },
    {
     "name": "stderr",
     "output_type": "stream",
     "text": [
      "419it [02:41,  1.15it/s]"
     ]
    },
    {
     "name": "stdout",
     "output_type": "stream",
     "text": [
      "Downloaded MP3\n"
     ]
    },
    {
     "name": "stderr",
     "output_type": "stream",
     "text": [
      "420it [02:42,  1.19it/s]"
     ]
    },
    {
     "name": "stdout",
     "output_type": "stream",
     "text": [
      "Downloaded MP3\n"
     ]
    },
    {
     "name": "stderr",
     "output_type": "stream",
     "text": [
      "421it [02:43,  1.17it/s]"
     ]
    },
    {
     "name": "stdout",
     "output_type": "stream",
     "text": [
      "Downloaded MP3\n"
     ]
    },
    {
     "name": "stderr",
     "output_type": "stream",
     "text": [
      "422it [02:44,  1.15it/s]"
     ]
    },
    {
     "name": "stdout",
     "output_type": "stream",
     "text": [
      "Downloaded MP3\n"
     ]
    },
    {
     "name": "stderr",
     "output_type": "stream",
     "text": [
      "423it [02:45,  1.18it/s]"
     ]
    },
    {
     "name": "stdout",
     "output_type": "stream",
     "text": [
      "Downloaded MP3\n"
     ]
    },
    {
     "name": "stderr",
     "output_type": "stream",
     "text": [
      "424it [02:46,  1.21it/s]"
     ]
    },
    {
     "name": "stdout",
     "output_type": "stream",
     "text": [
      "Downloaded MP3\n"
     ]
    },
    {
     "name": "stderr",
     "output_type": "stream",
     "text": [
      "425it [02:46,  1.17it/s]"
     ]
    },
    {
     "name": "stdout",
     "output_type": "stream",
     "text": [
      "Downloaded MP3\n"
     ]
    },
    {
     "name": "stderr",
     "output_type": "stream",
     "text": [
      "426it [02:48,  1.01s/it]"
     ]
    },
    {
     "name": "stdout",
     "output_type": "stream",
     "text": [
      "Downloaded MP3\n"
     ]
    },
    {
     "name": "stderr",
     "output_type": "stream",
     "text": [
      "427it [02:49,  1.02it/s]"
     ]
    },
    {
     "name": "stdout",
     "output_type": "stream",
     "text": [
      "Downloaded MP3\n"
     ]
    },
    {
     "name": "stderr",
     "output_type": "stream",
     "text": [
      "428it [02:50,  1.05it/s]"
     ]
    },
    {
     "name": "stdout",
     "output_type": "stream",
     "text": [
      "Downloaded MP3\n"
     ]
    },
    {
     "name": "stderr",
     "output_type": "stream",
     "text": [
      "429it [02:50,  1.09it/s]"
     ]
    },
    {
     "name": "stdout",
     "output_type": "stream",
     "text": [
      "Downloaded MP3\n"
     ]
    },
    {
     "name": "stderr",
     "output_type": "stream",
     "text": [
      "430it [02:51,  1.11it/s]"
     ]
    },
    {
     "name": "stdout",
     "output_type": "stream",
     "text": [
      "Downloaded MP3\n"
     ]
    },
    {
     "name": "stderr",
     "output_type": "stream",
     "text": [
      "431it [02:52,  1.11it/s]"
     ]
    },
    {
     "name": "stdout",
     "output_type": "stream",
     "text": [
      "Downloaded MP3\n"
     ]
    },
    {
     "name": "stderr",
     "output_type": "stream",
     "text": [
      "432it [02:53,  1.13it/s]"
     ]
    },
    {
     "name": "stdout",
     "output_type": "stream",
     "text": [
      "Downloaded MP3\n"
     ]
    },
    {
     "name": "stderr",
     "output_type": "stream",
     "text": [
      "433it [02:54,  1.15it/s]"
     ]
    },
    {
     "name": "stdout",
     "output_type": "stream",
     "text": [
      "Downloaded MP3\n"
     ]
    },
    {
     "name": "stderr",
     "output_type": "stream",
     "text": [
      "434it [02:55,  1.15it/s]"
     ]
    },
    {
     "name": "stdout",
     "output_type": "stream",
     "text": [
      "Downloaded MP3\n"
     ]
    },
    {
     "name": "stderr",
     "output_type": "stream",
     "text": [
      "435it [02:56,  1.19it/s]"
     ]
    },
    {
     "name": "stdout",
     "output_type": "stream",
     "text": [
      "Downloaded MP3\n"
     ]
    },
    {
     "name": "stderr",
     "output_type": "stream",
     "text": [
      "436it [02:57,  1.02it/s]"
     ]
    },
    {
     "name": "stdout",
     "output_type": "stream",
     "text": [
      "Downloaded MP3\n"
     ]
    },
    {
     "name": "stderr",
     "output_type": "stream",
     "text": [
      "437it [02:58,  1.05it/s]"
     ]
    },
    {
     "name": "stdout",
     "output_type": "stream",
     "text": [
      "Downloaded MP3\n"
     ]
    },
    {
     "name": "stderr",
     "output_type": "stream",
     "text": [
      "438it [02:59,  1.02it/s]"
     ]
    },
    {
     "name": "stdout",
     "output_type": "stream",
     "text": [
      "Downloaded MP3\n"
     ]
    },
    {
     "name": "stderr",
     "output_type": "stream",
     "text": [
      "439it [03:00,  1.04it/s]"
     ]
    },
    {
     "name": "stdout",
     "output_type": "stream",
     "text": [
      "Downloaded MP3\n"
     ]
    },
    {
     "name": "stderr",
     "output_type": "stream",
     "text": [
      "440it [03:01,  1.06it/s]"
     ]
    },
    {
     "name": "stdout",
     "output_type": "stream",
     "text": [
      "Downloaded MP3\n"
     ]
    },
    {
     "name": "stderr",
     "output_type": "stream",
     "text": [
      "441it [03:01,  1.10it/s]"
     ]
    },
    {
     "name": "stdout",
     "output_type": "stream",
     "text": [
      "Downloaded MP3\n"
     ]
    },
    {
     "name": "stderr",
     "output_type": "stream",
     "text": [
      "442it [03:02,  1.15it/s]"
     ]
    },
    {
     "name": "stdout",
     "output_type": "stream",
     "text": [
      "Downloaded MP3\n"
     ]
    },
    {
     "name": "stderr",
     "output_type": "stream",
     "text": [
      "444it [03:03,  1.44it/s]"
     ]
    },
    {
     "name": "stdout",
     "output_type": "stream",
     "text": [
      "Downloaded MP3\n",
      "Downloaded MP3\n"
     ]
    },
    {
     "name": "stderr",
     "output_type": "stream",
     "text": [
      "445it [03:04,  1.37it/s]"
     ]
    },
    {
     "name": "stdout",
     "output_type": "stream",
     "text": [
      "Downloaded MP3\n"
     ]
    },
    {
     "name": "stderr",
     "output_type": "stream",
     "text": [
      "446it [03:05,  1.27it/s]"
     ]
    },
    {
     "name": "stdout",
     "output_type": "stream",
     "text": [
      "Downloaded MP3\n"
     ]
    },
    {
     "name": "stderr",
     "output_type": "stream",
     "text": [
      "447it [03:06,  1.19it/s]"
     ]
    },
    {
     "name": "stdout",
     "output_type": "stream",
     "text": [
      "Downloaded MP3\n"
     ]
    },
    {
     "name": "stderr",
     "output_type": "stream",
     "text": [
      "448it [03:07,  1.22it/s]"
     ]
    },
    {
     "name": "stdout",
     "output_type": "stream",
     "text": [
      "Downloaded MP3\n"
     ]
    },
    {
     "name": "stderr",
     "output_type": "stream",
     "text": [
      "449it [03:08,  1.21it/s]"
     ]
    },
    {
     "name": "stdout",
     "output_type": "stream",
     "text": [
      "Downloaded MP3\n"
     ]
    },
    {
     "name": "stderr",
     "output_type": "stream",
     "text": [
      "450it [03:09,  1.17it/s]"
     ]
    },
    {
     "name": "stdout",
     "output_type": "stream",
     "text": [
      "Downloaded MP3\n"
     ]
    },
    {
     "name": "stderr",
     "output_type": "stream",
     "text": [
      "451it [03:09,  1.15it/s]"
     ]
    },
    {
     "name": "stdout",
     "output_type": "stream",
     "text": [
      "Downloaded MP3\n"
     ]
    },
    {
     "name": "stderr",
     "output_type": "stream",
     "text": [
      "452it [03:10,  1.18it/s]"
     ]
    },
    {
     "name": "stdout",
     "output_type": "stream",
     "text": [
      "Downloaded MP3\n"
     ]
    },
    {
     "name": "stderr",
     "output_type": "stream",
     "text": [
      "453it [03:11,  1.15it/s]"
     ]
    },
    {
     "name": "stdout",
     "output_type": "stream",
     "text": [
      "Downloaded MP3\n"
     ]
    },
    {
     "name": "stderr",
     "output_type": "stream",
     "text": [
      "454it [03:12,  1.15it/s]"
     ]
    },
    {
     "name": "stdout",
     "output_type": "stream",
     "text": [
      "Downloaded MP3\n"
     ]
    },
    {
     "name": "stderr",
     "output_type": "stream",
     "text": [
      "455it [03:13,  1.15it/s]"
     ]
    },
    {
     "name": "stdout",
     "output_type": "stream",
     "text": [
      "Downloaded MP3\n"
     ]
    },
    {
     "name": "stderr",
     "output_type": "stream",
     "text": [
      "456it [03:14,  1.16it/s]"
     ]
    },
    {
     "name": "stdout",
     "output_type": "stream",
     "text": [
      "Downloaded MP3\n"
     ]
    },
    {
     "name": "stderr",
     "output_type": "stream",
     "text": [
      "457it [03:15,  1.15it/s]"
     ]
    },
    {
     "name": "stdout",
     "output_type": "stream",
     "text": [
      "Downloaded MP3\n"
     ]
    },
    {
     "name": "stderr",
     "output_type": "stream",
     "text": [
      "458it [03:15,  1.19it/s]"
     ]
    },
    {
     "name": "stdout",
     "output_type": "stream",
     "text": [
      "Downloaded MP3\n"
     ]
    },
    {
     "name": "stderr",
     "output_type": "stream",
     "text": [
      "459it [03:16,  1.17it/s]"
     ]
    },
    {
     "name": "stdout",
     "output_type": "stream",
     "text": [
      "Downloaded MP3\n"
     ]
    },
    {
     "name": "stderr",
     "output_type": "stream",
     "text": [
      "460it [03:17,  1.14it/s]"
     ]
    },
    {
     "name": "stdout",
     "output_type": "stream",
     "text": [
      "Downloaded MP3\n"
     ]
    },
    {
     "name": "stderr",
     "output_type": "stream",
     "text": [
      "461it [03:18,  1.14it/s]"
     ]
    },
    {
     "name": "stdout",
     "output_type": "stream",
     "text": [
      "Downloaded MP3\n"
     ]
    },
    {
     "name": "stderr",
     "output_type": "stream",
     "text": [
      "462it [03:19,  1.12it/s]"
     ]
    },
    {
     "name": "stdout",
     "output_type": "stream",
     "text": [
      "Downloaded MP3\n"
     ]
    },
    {
     "name": "stderr",
     "output_type": "stream",
     "text": [
      "463it [03:20,  1.16it/s]"
     ]
    },
    {
     "name": "stdout",
     "output_type": "stream",
     "text": [
      "Downloaded MP3\n"
     ]
    },
    {
     "name": "stderr",
     "output_type": "stream",
     "text": [
      "464it [03:21,  1.17it/s]"
     ]
    },
    {
     "name": "stdout",
     "output_type": "stream",
     "text": [
      "Downloaded MP3\n"
     ]
    },
    {
     "name": "stderr",
     "output_type": "stream",
     "text": [
      "465it [03:22,  1.17it/s]"
     ]
    },
    {
     "name": "stdout",
     "output_type": "stream",
     "text": [
      "Downloaded MP3\n"
     ]
    },
    {
     "name": "stderr",
     "output_type": "stream",
     "text": [
      "466it [03:22,  1.19it/s]"
     ]
    },
    {
     "name": "stdout",
     "output_type": "stream",
     "text": [
      "Downloaded MP3\n"
     ]
    },
    {
     "name": "stderr",
     "output_type": "stream",
     "text": [
      "467it [03:23,  1.12it/s]"
     ]
    },
    {
     "name": "stdout",
     "output_type": "stream",
     "text": [
      "Downloaded MP3\n"
     ]
    },
    {
     "name": "stderr",
     "output_type": "stream",
     "text": [
      "468it [03:24,  1.11it/s]"
     ]
    },
    {
     "name": "stdout",
     "output_type": "stream",
     "text": [
      "Downloaded MP3\n"
     ]
    },
    {
     "name": "stderr",
     "output_type": "stream",
     "text": [
      "469it [03:25,  1.08it/s]"
     ]
    },
    {
     "name": "stdout",
     "output_type": "stream",
     "text": [
      "Downloaded MP3\n"
     ]
    },
    {
     "name": "stderr",
     "output_type": "stream",
     "text": [
      "470it [03:26,  1.10it/s]"
     ]
    },
    {
     "name": "stdout",
     "output_type": "stream",
     "text": [
      "Downloaded MP3\n"
     ]
    },
    {
     "name": "stderr",
     "output_type": "stream",
     "text": [
      "471it [03:27,  1.13it/s]"
     ]
    },
    {
     "name": "stdout",
     "output_type": "stream",
     "text": [
      "Downloaded MP3\n"
     ]
    },
    {
     "name": "stderr",
     "output_type": "stream",
     "text": [
      "472it [03:28,  1.13it/s]"
     ]
    },
    {
     "name": "stdout",
     "output_type": "stream",
     "text": [
      "Downloaded MP3\n"
     ]
    },
    {
     "name": "stderr",
     "output_type": "stream",
     "text": [
      "473it [03:29,  1.15it/s]"
     ]
    },
    {
     "name": "stdout",
     "output_type": "stream",
     "text": [
      "Downloaded MP3\n"
     ]
    },
    {
     "name": "stderr",
     "output_type": "stream",
     "text": [
      "474it [03:30,  1.12it/s]"
     ]
    },
    {
     "name": "stdout",
     "output_type": "stream",
     "text": [
      "Downloaded MP3\n"
     ]
    },
    {
     "name": "stderr",
     "output_type": "stream",
     "text": [
      "475it [03:31,  1.06it/s]"
     ]
    },
    {
     "name": "stdout",
     "output_type": "stream",
     "text": [
      "Downloaded MP3\n"
     ]
    },
    {
     "name": "stderr",
     "output_type": "stream",
     "text": [
      "476it [03:32,  1.09it/s]"
     ]
    },
    {
     "name": "stdout",
     "output_type": "stream",
     "text": [
      "Downloaded MP3\n"
     ]
    },
    {
     "name": "stderr",
     "output_type": "stream",
     "text": [
      "477it [03:32,  1.11it/s]"
     ]
    },
    {
     "name": "stdout",
     "output_type": "stream",
     "text": [
      "Downloaded MP3\n"
     ]
    },
    {
     "name": "stderr",
     "output_type": "stream",
     "text": [
      "478it [03:33,  1.14it/s]"
     ]
    },
    {
     "name": "stdout",
     "output_type": "stream",
     "text": [
      "Downloaded MP3\n"
     ]
    },
    {
     "name": "stderr",
     "output_type": "stream",
     "text": [
      "479it [03:35,  1.01s/it]"
     ]
    },
    {
     "name": "stdout",
     "output_type": "stream",
     "text": [
      "Downloaded MP3\n"
     ]
    },
    {
     "name": "stderr",
     "output_type": "stream",
     "text": [
      "480it [03:35,  1.07it/s]"
     ]
    },
    {
     "name": "stdout",
     "output_type": "stream",
     "text": [
      "Downloaded MP3\n"
     ]
    },
    {
     "name": "stderr",
     "output_type": "stream",
     "text": [
      "481it [03:36,  1.07it/s]"
     ]
    },
    {
     "name": "stdout",
     "output_type": "stream",
     "text": [
      "Downloaded MP3\n"
     ]
    },
    {
     "name": "stderr",
     "output_type": "stream",
     "text": [
      "482it [03:37,  1.13it/s]"
     ]
    },
    {
     "name": "stdout",
     "output_type": "stream",
     "text": [
      "Downloaded MP3\n"
     ]
    },
    {
     "name": "stderr",
     "output_type": "stream",
     "text": [
      "483it [03:38,  1.13it/s]"
     ]
    },
    {
     "name": "stdout",
     "output_type": "stream",
     "text": [
      "Downloaded MP3\n"
     ]
    },
    {
     "name": "stderr",
     "output_type": "stream",
     "text": [
      "484it [03:39,  1.15it/s]"
     ]
    },
    {
     "name": "stdout",
     "output_type": "stream",
     "text": [
      "Downloaded MP3\n"
     ]
    },
    {
     "name": "stderr",
     "output_type": "stream",
     "text": [
      "485it [03:39,  1.18it/s]"
     ]
    },
    {
     "name": "stdout",
     "output_type": "stream",
     "text": [
      "Downloaded MP3\n"
     ]
    },
    {
     "name": "stderr",
     "output_type": "stream",
     "text": [
      "486it [03:40,  1.17it/s]"
     ]
    },
    {
     "name": "stdout",
     "output_type": "stream",
     "text": [
      "Downloaded MP3\n"
     ]
    },
    {
     "name": "stderr",
     "output_type": "stream",
     "text": [
      "487it [03:41,  1.15it/s]"
     ]
    },
    {
     "name": "stdout",
     "output_type": "stream",
     "text": [
      "Downloaded MP3\n"
     ]
    },
    {
     "name": "stderr",
     "output_type": "stream",
     "text": [
      "488it [03:42,  1.16it/s]"
     ]
    },
    {
     "name": "stdout",
     "output_type": "stream",
     "text": [
      "Downloaded MP3\n"
     ]
    },
    {
     "name": "stderr",
     "output_type": "stream",
     "text": [
      "489it [03:43,  1.17it/s]"
     ]
    },
    {
     "name": "stdout",
     "output_type": "stream",
     "text": [
      "Downloaded MP3\n"
     ]
    },
    {
     "name": "stderr",
     "output_type": "stream",
     "text": [
      "490it [03:44,  1.17it/s]"
     ]
    },
    {
     "name": "stdout",
     "output_type": "stream",
     "text": [
      "Downloaded MP3\n"
     ]
    },
    {
     "name": "stderr",
     "output_type": "stream",
     "text": [
      "491it [03:45,  1.15it/s]"
     ]
    },
    {
     "name": "stdout",
     "output_type": "stream",
     "text": [
      "Downloaded MP3\n"
     ]
    },
    {
     "name": "stderr",
     "output_type": "stream",
     "text": [
      "492it [03:46,  1.15it/s]"
     ]
    },
    {
     "name": "stdout",
     "output_type": "stream",
     "text": [
      "Downloaded MP3\n"
     ]
    },
    {
     "name": "stderr",
     "output_type": "stream",
     "text": [
      "493it [03:46,  1.16it/s]"
     ]
    },
    {
     "name": "stdout",
     "output_type": "stream",
     "text": [
      "Downloaded MP3\n"
     ]
    },
    {
     "name": "stderr",
     "output_type": "stream",
     "text": [
      "494it [03:47,  1.18it/s]"
     ]
    },
    {
     "name": "stdout",
     "output_type": "stream",
     "text": [
      "Downloaded MP3\n"
     ]
    },
    {
     "name": "stderr",
     "output_type": "stream",
     "text": [
      "495it [03:48,  1.19it/s]"
     ]
    },
    {
     "name": "stdout",
     "output_type": "stream",
     "text": [
      "Downloaded MP3\n"
     ]
    },
    {
     "name": "stderr",
     "output_type": "stream",
     "text": [
      "496it [03:49,  1.09it/s]"
     ]
    },
    {
     "name": "stdout",
     "output_type": "stream",
     "text": [
      "Downloaded MP3\n"
     ]
    },
    {
     "name": "stderr",
     "output_type": "stream",
     "text": [
      "497it [03:50,  1.09it/s]"
     ]
    },
    {
     "name": "stdout",
     "output_type": "stream",
     "text": [
      "Downloaded MP3\n"
     ]
    },
    {
     "name": "stderr",
     "output_type": "stream",
     "text": [
      "498it [03:51,  1.11it/s]"
     ]
    },
    {
     "name": "stdout",
     "output_type": "stream",
     "text": [
      "Downloaded MP3\n"
     ]
    },
    {
     "name": "stderr",
     "output_type": "stream",
     "text": [
      "499it [03:52,  1.13it/s]"
     ]
    },
    {
     "name": "stdout",
     "output_type": "stream",
     "text": [
      "Downloaded MP3\n"
     ]
    },
    {
     "name": "stderr",
     "output_type": "stream",
     "text": [
      "500it [03:53,  1.13it/s]"
     ]
    },
    {
     "name": "stdout",
     "output_type": "stream",
     "text": [
      "Downloaded MP3\n"
     ]
    },
    {
     "name": "stderr",
     "output_type": "stream",
     "text": [
      "501it [03:54,  1.15it/s]"
     ]
    },
    {
     "name": "stdout",
     "output_type": "stream",
     "text": [
      "Downloaded MP3\n"
     ]
    },
    {
     "name": "stderr",
     "output_type": "stream",
     "text": [
      "502it [03:54,  1.16it/s]"
     ]
    },
    {
     "name": "stdout",
     "output_type": "stream",
     "text": [
      "Downloaded MP3\n"
     ]
    },
    {
     "name": "stderr",
     "output_type": "stream",
     "text": [
      "503it [03:55,  1.16it/s]"
     ]
    },
    {
     "name": "stdout",
     "output_type": "stream",
     "text": [
      "Downloaded MP3\n"
     ]
    },
    {
     "name": "stderr",
     "output_type": "stream",
     "text": [
      "504it [03:56,  1.18it/s]"
     ]
    },
    {
     "name": "stdout",
     "output_type": "stream",
     "text": [
      "Downloaded MP3\n"
     ]
    },
    {
     "name": "stderr",
     "output_type": "stream",
     "text": [
      "505it [03:57,  1.15it/s]"
     ]
    },
    {
     "name": "stdout",
     "output_type": "stream",
     "text": [
      "Downloaded MP3\n"
     ]
    },
    {
     "name": "stderr",
     "output_type": "stream",
     "text": [
      "506it [03:58,  1.13it/s]"
     ]
    },
    {
     "name": "stdout",
     "output_type": "stream",
     "text": [
      "Downloaded MP3\n"
     ]
    },
    {
     "name": "stderr",
     "output_type": "stream",
     "text": [
      "507it [03:59,  1.17it/s]"
     ]
    },
    {
     "name": "stdout",
     "output_type": "stream",
     "text": [
      "Downloaded MP3\n"
     ]
    },
    {
     "name": "stderr",
     "output_type": "stream",
     "text": [
      "508it [04:00,  1.14it/s]"
     ]
    },
    {
     "name": "stdout",
     "output_type": "stream",
     "text": [
      "Downloaded MP3\n"
     ]
    },
    {
     "name": "stderr",
     "output_type": "stream",
     "text": [
      "509it [04:01,  1.12it/s]"
     ]
    },
    {
     "name": "stdout",
     "output_type": "stream",
     "text": [
      "Downloaded MP3\n"
     ]
    },
    {
     "name": "stderr",
     "output_type": "stream",
     "text": [
      "510it [04:01,  1.14it/s]"
     ]
    },
    {
     "name": "stdout",
     "output_type": "stream",
     "text": [
      "Downloaded MP3\n"
     ]
    },
    {
     "name": "stderr",
     "output_type": "stream",
     "text": [
      "511it [04:02,  1.14it/s]"
     ]
    },
    {
     "name": "stdout",
     "output_type": "stream",
     "text": [
      "Downloaded MP3\n"
     ]
    },
    {
     "name": "stderr",
     "output_type": "stream",
     "text": [
      "512it [04:03,  1.19it/s]"
     ]
    },
    {
     "name": "stdout",
     "output_type": "stream",
     "text": [
      "Downloaded MP3\n"
     ]
    },
    {
     "name": "stderr",
     "output_type": "stream",
     "text": [
      "513it [04:04,  1.20it/s]"
     ]
    },
    {
     "name": "stdout",
     "output_type": "stream",
     "text": [
      "Downloaded MP3\n"
     ]
    },
    {
     "name": "stderr",
     "output_type": "stream",
     "text": [
      "514it [04:05,  1.17it/s]"
     ]
    },
    {
     "name": "stdout",
     "output_type": "stream",
     "text": [
      "Downloaded MP3\n"
     ]
    },
    {
     "name": "stderr",
     "output_type": "stream",
     "text": [
      "515it [04:06,  1.14it/s]"
     ]
    },
    {
     "name": "stdout",
     "output_type": "stream",
     "text": [
      "Downloaded MP3\n"
     ]
    },
    {
     "name": "stderr",
     "output_type": "stream",
     "text": [
      "516it [04:06,  1.16it/s]"
     ]
    },
    {
     "name": "stdout",
     "output_type": "stream",
     "text": [
      "Downloaded MP3\n"
     ]
    },
    {
     "name": "stderr",
     "output_type": "stream",
     "text": [
      "517it [04:07,  1.17it/s]"
     ]
    },
    {
     "name": "stdout",
     "output_type": "stream",
     "text": [
      "Downloaded MP3\n"
     ]
    },
    {
     "name": "stderr",
     "output_type": "stream",
     "text": [
      "518it [04:08,  1.14it/s]"
     ]
    },
    {
     "name": "stdout",
     "output_type": "stream",
     "text": [
      "Downloaded MP3\n"
     ]
    },
    {
     "name": "stderr",
     "output_type": "stream",
     "text": [
      "519it [04:09,  1.13it/s]"
     ]
    },
    {
     "name": "stdout",
     "output_type": "stream",
     "text": [
      "Downloaded MP3\n"
     ]
    },
    {
     "name": "stderr",
     "output_type": "stream",
     "text": [
      "520it [04:10,  1.13it/s]"
     ]
    },
    {
     "name": "stdout",
     "output_type": "stream",
     "text": [
      "Downloaded MP3\n"
     ]
    },
    {
     "name": "stderr",
     "output_type": "stream",
     "text": [
      "521it [04:11,  1.13it/s]"
     ]
    },
    {
     "name": "stdout",
     "output_type": "stream",
     "text": [
      "Downloaded MP3\n"
     ]
    },
    {
     "name": "stderr",
     "output_type": "stream",
     "text": [
      "522it [04:12,  1.13it/s]"
     ]
    },
    {
     "name": "stdout",
     "output_type": "stream",
     "text": [
      "Downloaded MP3\n"
     ]
    },
    {
     "name": "stderr",
     "output_type": "stream",
     "text": [
      "523it [04:13,  1.16it/s]"
     ]
    },
    {
     "name": "stdout",
     "output_type": "stream",
     "text": [
      "Downloaded MP3\n"
     ]
    },
    {
     "name": "stderr",
     "output_type": "stream",
     "text": [
      "524it [04:13,  1.18it/s]"
     ]
    },
    {
     "name": "stdout",
     "output_type": "stream",
     "text": [
      "Downloaded MP3\n"
     ]
    },
    {
     "name": "stderr",
     "output_type": "stream",
     "text": [
      "525it [04:14,  1.24it/s]"
     ]
    },
    {
     "name": "stdout",
     "output_type": "stream",
     "text": [
      "Downloaded MP3\n"
     ]
    },
    {
     "name": "stderr",
     "output_type": "stream",
     "text": [
      "526it [04:15,  1.23it/s]"
     ]
    },
    {
     "name": "stdout",
     "output_type": "stream",
     "text": [
      "Downloaded MP3\n"
     ]
    },
    {
     "name": "stderr",
     "output_type": "stream",
     "text": [
      "527it [04:16,  1.22it/s]"
     ]
    },
    {
     "name": "stdout",
     "output_type": "stream",
     "text": [
      "Downloaded MP3\n"
     ]
    },
    {
     "name": "stderr",
     "output_type": "stream",
     "text": [
      "528it [04:17,  1.23it/s]"
     ]
    },
    {
     "name": "stdout",
     "output_type": "stream",
     "text": [
      "Downloaded MP3\n"
     ]
    },
    {
     "name": "stderr",
     "output_type": "stream",
     "text": [
      "529it [04:17,  1.20it/s]"
     ]
    },
    {
     "name": "stdout",
     "output_type": "stream",
     "text": [
      "Downloaded MP3\n"
     ]
    },
    {
     "name": "stderr",
     "output_type": "stream",
     "text": [
      "530it [04:18,  1.15it/s]"
     ]
    },
    {
     "name": "stdout",
     "output_type": "stream",
     "text": [
      "Downloaded MP3\n"
     ]
    },
    {
     "name": "stderr",
     "output_type": "stream",
     "text": [
      "531it [04:19,  1.18it/s]"
     ]
    },
    {
     "name": "stdout",
     "output_type": "stream",
     "text": [
      "Downloaded MP3\n"
     ]
    },
    {
     "name": "stderr",
     "output_type": "stream",
     "text": [
      "532it [04:21,  1.09s/it]"
     ]
    },
    {
     "name": "stdout",
     "output_type": "stream",
     "text": [
      "Downloaded MP3\n"
     ]
    },
    {
     "name": "stderr",
     "output_type": "stream",
     "text": [
      "533it [04:22,  1.07s/it]"
     ]
    },
    {
     "name": "stdout",
     "output_type": "stream",
     "text": [
      "Downloaded MP3\n"
     ]
    },
    {
     "name": "stderr",
     "output_type": "stream",
     "text": [
      "534it [04:23,  1.01it/s]"
     ]
    },
    {
     "name": "stdout",
     "output_type": "stream",
     "text": [
      "Downloaded MP3\n"
     ]
    },
    {
     "name": "stderr",
     "output_type": "stream",
     "text": [
      "535it [04:24,  1.06it/s]"
     ]
    },
    {
     "name": "stdout",
     "output_type": "stream",
     "text": [
      "Downloaded MP3\n"
     ]
    },
    {
     "name": "stderr",
     "output_type": "stream",
     "text": [
      "536it [04:24,  1.08it/s]"
     ]
    },
    {
     "name": "stdout",
     "output_type": "stream",
     "text": [
      "Downloaded MP3\n"
     ]
    },
    {
     "name": "stderr",
     "output_type": "stream",
     "text": [
      "537it [04:25,  1.10it/s]"
     ]
    },
    {
     "name": "stdout",
     "output_type": "stream",
     "text": [
      "Downloaded MP3\n"
     ]
    },
    {
     "name": "stderr",
     "output_type": "stream",
     "text": [
      "538it [04:26,  1.12it/s]"
     ]
    },
    {
     "name": "stdout",
     "output_type": "stream",
     "text": [
      "Downloaded MP3\n"
     ]
    },
    {
     "name": "stderr",
     "output_type": "stream",
     "text": [
      "539it [04:27,  1.11it/s]"
     ]
    },
    {
     "name": "stdout",
     "output_type": "stream",
     "text": [
      "Downloaded MP3\n"
     ]
    },
    {
     "name": "stderr",
     "output_type": "stream",
     "text": [
      "540it [04:28,  1.15it/s]"
     ]
    },
    {
     "name": "stdout",
     "output_type": "stream",
     "text": [
      "Downloaded MP3\n"
     ]
    },
    {
     "name": "stderr",
     "output_type": "stream",
     "text": [
      "541it [04:29,  1.13it/s]"
     ]
    },
    {
     "name": "stdout",
     "output_type": "stream",
     "text": [
      "Downloaded MP3\n"
     ]
    },
    {
     "name": "stderr",
     "output_type": "stream",
     "text": [
      "542it [04:30,  1.13it/s]"
     ]
    },
    {
     "name": "stdout",
     "output_type": "stream",
     "text": [
      "Downloaded MP3\n"
     ]
    },
    {
     "name": "stderr",
     "output_type": "stream",
     "text": [
      "543it [04:31,  1.13it/s]"
     ]
    },
    {
     "name": "stdout",
     "output_type": "stream",
     "text": [
      "Downloaded MP3\n"
     ]
    },
    {
     "name": "stderr",
     "output_type": "stream",
     "text": [
      "544it [04:31,  1.15it/s]"
     ]
    },
    {
     "name": "stdout",
     "output_type": "stream",
     "text": [
      "Downloaded MP3\n"
     ]
    },
    {
     "name": "stderr",
     "output_type": "stream",
     "text": [
      "545it [04:32,  1.15it/s]"
     ]
    },
    {
     "name": "stdout",
     "output_type": "stream",
     "text": [
      "Downloaded MP3\n"
     ]
    },
    {
     "name": "stderr",
     "output_type": "stream",
     "text": [
      "546it [04:33,  1.15it/s]"
     ]
    },
    {
     "name": "stdout",
     "output_type": "stream",
     "text": [
      "Downloaded MP3\n"
     ]
    },
    {
     "name": "stderr",
     "output_type": "stream",
     "text": [
      "547it [04:34,  1.11it/s]"
     ]
    },
    {
     "name": "stdout",
     "output_type": "stream",
     "text": [
      "Downloaded MP3\n"
     ]
    },
    {
     "name": "stderr",
     "output_type": "stream",
     "text": [
      "548it [04:35,  1.12it/s]"
     ]
    },
    {
     "name": "stdout",
     "output_type": "stream",
     "text": [
      "Downloaded MP3\n"
     ]
    },
    {
     "name": "stderr",
     "output_type": "stream",
     "text": [
      "549it [04:36,  1.13it/s]"
     ]
    },
    {
     "name": "stdout",
     "output_type": "stream",
     "text": [
      "Downloaded MP3\n"
     ]
    },
    {
     "name": "stderr",
     "output_type": "stream",
     "text": [
      "550it [04:37,  1.15it/s]"
     ]
    },
    {
     "name": "stdout",
     "output_type": "stream",
     "text": [
      "Downloaded MP3\n"
     ]
    },
    {
     "name": "stderr",
     "output_type": "stream",
     "text": [
      "551it [04:38,  1.14it/s]"
     ]
    },
    {
     "name": "stdout",
     "output_type": "stream",
     "text": [
      "Downloaded MP3\n"
     ]
    },
    {
     "name": "stderr",
     "output_type": "stream",
     "text": [
      "552it [04:38,  1.19it/s]"
     ]
    },
    {
     "name": "stdout",
     "output_type": "stream",
     "text": [
      "Downloaded MP3\n"
     ]
    },
    {
     "name": "stderr",
     "output_type": "stream",
     "text": [
      "553it [04:39,  1.16it/s]"
     ]
    },
    {
     "name": "stdout",
     "output_type": "stream",
     "text": [
      "Downloaded MP3\n"
     ]
    },
    {
     "name": "stderr",
     "output_type": "stream",
     "text": [
      "554it [04:40,  1.17it/s]"
     ]
    },
    {
     "name": "stdout",
     "output_type": "stream",
     "text": [
      "Downloaded MP3\n"
     ]
    },
    {
     "name": "stderr",
     "output_type": "stream",
     "text": [
      "555it [04:41,  1.15it/s]"
     ]
    },
    {
     "name": "stdout",
     "output_type": "stream",
     "text": [
      "Downloaded MP3\n"
     ]
    },
    {
     "name": "stderr",
     "output_type": "stream",
     "text": [
      "556it [04:42,  1.15it/s]"
     ]
    },
    {
     "name": "stdout",
     "output_type": "stream",
     "text": [
      "Downloaded MP3\n"
     ]
    },
    {
     "name": "stderr",
     "output_type": "stream",
     "text": [
      "557it [04:43,  1.13it/s]"
     ]
    },
    {
     "name": "stdout",
     "output_type": "stream",
     "text": [
      "Downloaded MP3\n"
     ]
    },
    {
     "name": "stderr",
     "output_type": "stream",
     "text": [
      "558it [04:44,  1.15it/s]"
     ]
    },
    {
     "name": "stdout",
     "output_type": "stream",
     "text": [
      "Downloaded MP3\n"
     ]
    },
    {
     "name": "stderr",
     "output_type": "stream",
     "text": [
      "559it [04:45,  1.13it/s]"
     ]
    },
    {
     "name": "stdout",
     "output_type": "stream",
     "text": [
      "Downloaded MP3\n"
     ]
    },
    {
     "name": "stderr",
     "output_type": "stream",
     "text": [
      "560it [04:45,  1.15it/s]"
     ]
    },
    {
     "name": "stdout",
     "output_type": "stream",
     "text": [
      "Downloaded MP3\n"
     ]
    },
    {
     "name": "stderr",
     "output_type": "stream",
     "text": [
      "561it [04:46,  1.12it/s]"
     ]
    },
    {
     "name": "stdout",
     "output_type": "stream",
     "text": [
      "Downloaded MP3\n"
     ]
    },
    {
     "name": "stderr",
     "output_type": "stream",
     "text": [
      "562it [04:47,  1.11it/s]"
     ]
    },
    {
     "name": "stdout",
     "output_type": "stream",
     "text": [
      "Downloaded MP3\n"
     ]
    },
    {
     "name": "stderr",
     "output_type": "stream",
     "text": [
      "563it [04:48,  1.12it/s]"
     ]
    },
    {
     "name": "stdout",
     "output_type": "stream",
     "text": [
      "Downloaded MP3\n"
     ]
    },
    {
     "name": "stderr",
     "output_type": "stream",
     "text": [
      "564it [04:49,  1.15it/s]"
     ]
    },
    {
     "name": "stdout",
     "output_type": "stream",
     "text": [
      "Downloaded MP3\n"
     ]
    },
    {
     "name": "stderr",
     "output_type": "stream",
     "text": [
      "565it [04:50,  1.16it/s]"
     ]
    },
    {
     "name": "stdout",
     "output_type": "stream",
     "text": [
      "Downloaded MP3\n"
     ]
    },
    {
     "name": "stderr",
     "output_type": "stream",
     "text": [
      "566it [04:51,  1.10it/s]"
     ]
    },
    {
     "name": "stdout",
     "output_type": "stream",
     "text": [
      "Downloaded MP3\n"
     ]
    },
    {
     "name": "stderr",
     "output_type": "stream",
     "text": [
      "567it [04:52,  1.09it/s]"
     ]
    },
    {
     "name": "stdout",
     "output_type": "stream",
     "text": [
      "Downloaded MP3\n"
     ]
    },
    {
     "name": "stderr",
     "output_type": "stream",
     "text": [
      "568it [04:53,  1.13it/s]"
     ]
    },
    {
     "name": "stdout",
     "output_type": "stream",
     "text": [
      "Downloaded MP3\n"
     ]
    },
    {
     "name": "stderr",
     "output_type": "stream",
     "text": [
      "569it [04:53,  1.11it/s]"
     ]
    },
    {
     "name": "stdout",
     "output_type": "stream",
     "text": [
      "Downloaded MP3\n"
     ]
    },
    {
     "name": "stderr",
     "output_type": "stream",
     "text": [
      "570it [04:54,  1.12it/s]"
     ]
    },
    {
     "name": "stdout",
     "output_type": "stream",
     "text": [
      "Downloaded MP3\n"
     ]
    },
    {
     "name": "stderr",
     "output_type": "stream",
     "text": [
      "571it [04:55,  1.07it/s]"
     ]
    },
    {
     "name": "stdout",
     "output_type": "stream",
     "text": [
      "Downloaded MP3\n"
     ]
    },
    {
     "name": "stderr",
     "output_type": "stream",
     "text": [
      "572it [04:56,  1.10it/s]"
     ]
    },
    {
     "name": "stdout",
     "output_type": "stream",
     "text": [
      "Downloaded MP3\n"
     ]
    },
    {
     "name": "stderr",
     "output_type": "stream",
     "text": [
      "573it [04:57,  1.14it/s]"
     ]
    },
    {
     "name": "stdout",
     "output_type": "stream",
     "text": [
      "Downloaded MP3\n"
     ]
    },
    {
     "name": "stderr",
     "output_type": "stream",
     "text": [
      "574it [04:58,  1.16it/s]"
     ]
    },
    {
     "name": "stdout",
     "output_type": "stream",
     "text": [
      "Downloaded MP3\n"
     ]
    },
    {
     "name": "stderr",
     "output_type": "stream",
     "text": [
      "575it [04:59,  1.17it/s]"
     ]
    },
    {
     "name": "stdout",
     "output_type": "stream",
     "text": [
      "Downloaded MP3\n"
     ]
    },
    {
     "name": "stderr",
     "output_type": "stream",
     "text": [
      "576it [05:00,  1.17it/s]"
     ]
    },
    {
     "name": "stdout",
     "output_type": "stream",
     "text": [
      "Downloaded MP3\n"
     ]
    },
    {
     "name": "stderr",
     "output_type": "stream",
     "text": [
      "577it [05:00,  1.16it/s]"
     ]
    },
    {
     "name": "stdout",
     "output_type": "stream",
     "text": [
      "Downloaded MP3\n"
     ]
    },
    {
     "name": "stderr",
     "output_type": "stream",
     "text": [
      "578it [05:01,  1.18it/s]"
     ]
    },
    {
     "name": "stdout",
     "output_type": "stream",
     "text": [
      "Downloaded MP3\n"
     ]
    },
    {
     "name": "stderr",
     "output_type": "stream",
     "text": [
      "579it [05:02,  1.16it/s]"
     ]
    },
    {
     "name": "stdout",
     "output_type": "stream",
     "text": [
      "Downloaded MP3\n"
     ]
    },
    {
     "name": "stderr",
     "output_type": "stream",
     "text": [
      "580it [05:03,  1.11it/s]"
     ]
    },
    {
     "name": "stdout",
     "output_type": "stream",
     "text": [
      "Downloaded MP3\n"
     ]
    },
    {
     "name": "stderr",
     "output_type": "stream",
     "text": [
      "581it [05:04,  1.16it/s]"
     ]
    },
    {
     "name": "stdout",
     "output_type": "stream",
     "text": [
      "Downloaded MP3\n"
     ]
    },
    {
     "name": "stderr",
     "output_type": "stream",
     "text": [
      "582it [05:05,  1.19it/s]"
     ]
    },
    {
     "name": "stdout",
     "output_type": "stream",
     "text": [
      "Downloaded MP3\n"
     ]
    },
    {
     "name": "stderr",
     "output_type": "stream",
     "text": [
      "583it [05:06,  1.16it/s]"
     ]
    },
    {
     "name": "stdout",
     "output_type": "stream",
     "text": [
      "Downloaded MP3\n"
     ]
    },
    {
     "name": "stderr",
     "output_type": "stream",
     "text": [
      "584it [05:07,  1.15it/s]"
     ]
    },
    {
     "name": "stdout",
     "output_type": "stream",
     "text": [
      "Downloaded MP3\n"
     ]
    },
    {
     "name": "stderr",
     "output_type": "stream",
     "text": [
      "585it [05:07,  1.14it/s]"
     ]
    },
    {
     "name": "stdout",
     "output_type": "stream",
     "text": [
      "Downloaded MP3\n"
     ]
    },
    {
     "name": "stderr",
     "output_type": "stream",
     "text": [
      "586it [05:08,  1.13it/s]"
     ]
    },
    {
     "name": "stdout",
     "output_type": "stream",
     "text": [
      "Downloaded MP3\n"
     ]
    },
    {
     "name": "stderr",
     "output_type": "stream",
     "text": [
      "587it [05:09,  1.11it/s]"
     ]
    },
    {
     "name": "stdout",
     "output_type": "stream",
     "text": [
      "Downloaded MP3\n"
     ]
    },
    {
     "name": "stderr",
     "output_type": "stream",
     "text": [
      "588it [05:10,  1.14it/s]"
     ]
    },
    {
     "name": "stdout",
     "output_type": "stream",
     "text": [
      "Downloaded MP3\n"
     ]
    },
    {
     "name": "stderr",
     "output_type": "stream",
     "text": [
      "589it [05:11,  1.09it/s]"
     ]
    },
    {
     "name": "stdout",
     "output_type": "stream",
     "text": [
      "Downloaded MP3\n"
     ]
    },
    {
     "name": "stderr",
     "output_type": "stream",
     "text": [
      "590it [05:12,  1.11it/s]"
     ]
    },
    {
     "name": "stdout",
     "output_type": "stream",
     "text": [
      "Downloaded MP3\n"
     ]
    },
    {
     "name": "stderr",
     "output_type": "stream",
     "text": [
      "591it [05:13,  1.15it/s]"
     ]
    },
    {
     "name": "stdout",
     "output_type": "stream",
     "text": [
      "Downloaded MP3\n"
     ]
    },
    {
     "name": "stderr",
     "output_type": "stream",
     "text": [
      "592it [05:14,  1.18it/s]"
     ]
    },
    {
     "name": "stdout",
     "output_type": "stream",
     "text": [
      "Downloaded MP3\n"
     ]
    },
    {
     "name": "stderr",
     "output_type": "stream",
     "text": [
      "593it [05:14,  1.14it/s]"
     ]
    },
    {
     "name": "stdout",
     "output_type": "stream",
     "text": [
      "Downloaded MP3\n"
     ]
    },
    {
     "name": "stderr",
     "output_type": "stream",
     "text": [
      "594it [05:15,  1.14it/s]"
     ]
    },
    {
     "name": "stdout",
     "output_type": "stream",
     "text": [
      "Downloaded MP3\n"
     ]
    },
    {
     "name": "stderr",
     "output_type": "stream",
     "text": [
      "595it [05:16,  1.14it/s]"
     ]
    },
    {
     "name": "stdout",
     "output_type": "stream",
     "text": [
      "Downloaded MP3\n"
     ]
    },
    {
     "name": "stderr",
     "output_type": "stream",
     "text": [
      "596it [05:17,  1.07it/s]"
     ]
    },
    {
     "name": "stdout",
     "output_type": "stream",
     "text": [
      "Downloaded MP3\n"
     ]
    },
    {
     "name": "stderr",
     "output_type": "stream",
     "text": [
      "597it [05:18,  1.09it/s]"
     ]
    },
    {
     "name": "stdout",
     "output_type": "stream",
     "text": [
      "Downloaded MP3\n"
     ]
    },
    {
     "name": "stderr",
     "output_type": "stream",
     "text": [
      "598it [05:19,  1.06it/s]"
     ]
    },
    {
     "name": "stdout",
     "output_type": "stream",
     "text": [
      "Downloaded MP3\n"
     ]
    },
    {
     "name": "stderr",
     "output_type": "stream",
     "text": [
      "599it [05:20,  1.10it/s]"
     ]
    },
    {
     "name": "stdout",
     "output_type": "stream",
     "text": [
      "Downloaded MP3\n"
     ]
    },
    {
     "name": "stderr",
     "output_type": "stream",
     "text": [
      "600it [05:21,  1.12it/s]"
     ]
    },
    {
     "name": "stdout",
     "output_type": "stream",
     "text": [
      "Downloaded MP3\n"
     ]
    },
    {
     "name": "stderr",
     "output_type": "stream",
     "text": [
      "601it [05:22,  1.13it/s]"
     ]
    },
    {
     "name": "stdout",
     "output_type": "stream",
     "text": [
      "Downloaded MP3\n"
     ]
    },
    {
     "name": "stderr",
     "output_type": "stream",
     "text": [
      "602it [05:23,  1.10it/s]"
     ]
    },
    {
     "name": "stdout",
     "output_type": "stream",
     "text": [
      "Downloaded MP3\n"
     ]
    },
    {
     "name": "stderr",
     "output_type": "stream",
     "text": [
      "603it [05:24,  1.14it/s]"
     ]
    },
    {
     "name": "stdout",
     "output_type": "stream",
     "text": [
      "Downloaded MP3\n"
     ]
    },
    {
     "name": "stderr",
     "output_type": "stream",
     "text": [
      "604it [05:24,  1.16it/s]"
     ]
    },
    {
     "name": "stdout",
     "output_type": "stream",
     "text": [
      "Downloaded MP3\n"
     ]
    },
    {
     "name": "stderr",
     "output_type": "stream",
     "text": [
      "605it [05:25,  1.18it/s]"
     ]
    },
    {
     "name": "stdout",
     "output_type": "stream",
     "text": [
      "Downloaded MP3\n"
     ]
    },
    {
     "name": "stderr",
     "output_type": "stream",
     "text": [
      "606it [05:26,  1.22it/s]"
     ]
    },
    {
     "name": "stdout",
     "output_type": "stream",
     "text": [
      "Downloaded MP3\n"
     ]
    },
    {
     "name": "stderr",
     "output_type": "stream",
     "text": [
      "607it [05:27,  1.21it/s]"
     ]
    },
    {
     "name": "stdout",
     "output_type": "stream",
     "text": [
      "Downloaded MP3\n"
     ]
    },
    {
     "name": "stderr",
     "output_type": "stream",
     "text": [
      "608it [05:28,  1.22it/s]"
     ]
    },
    {
     "name": "stdout",
     "output_type": "stream",
     "text": [
      "Downloaded MP3\n"
     ]
    },
    {
     "name": "stderr",
     "output_type": "stream",
     "text": [
      "609it [05:28,  1.22it/s]"
     ]
    },
    {
     "name": "stdout",
     "output_type": "stream",
     "text": [
      "Downloaded MP3\n"
     ]
    },
    {
     "name": "stderr",
     "output_type": "stream",
     "text": [
      "610it [05:29,  1.20it/s]"
     ]
    },
    {
     "name": "stdout",
     "output_type": "stream",
     "text": [
      "Downloaded MP3\n"
     ]
    },
    {
     "name": "stderr",
     "output_type": "stream",
     "text": [
      "611it [05:30,  1.17it/s]"
     ]
    },
    {
     "name": "stdout",
     "output_type": "stream",
     "text": [
      "Downloaded MP3\n"
     ]
    },
    {
     "name": "stderr",
     "output_type": "stream",
     "text": [
      "612it [05:31,  1.15it/s]"
     ]
    },
    {
     "name": "stdout",
     "output_type": "stream",
     "text": [
      "Downloaded MP3\n"
     ]
    },
    {
     "name": "stderr",
     "output_type": "stream",
     "text": [
      "613it [05:32,  1.11it/s]"
     ]
    },
    {
     "name": "stdout",
     "output_type": "stream",
     "text": [
      "Downloaded MP3\n"
     ]
    },
    {
     "name": "stderr",
     "output_type": "stream",
     "text": [
      "614it [05:33,  1.12it/s]"
     ]
    },
    {
     "name": "stdout",
     "output_type": "stream",
     "text": [
      "Downloaded MP3\n"
     ]
    },
    {
     "name": "stderr",
     "output_type": "stream",
     "text": [
      "615it [05:34,  1.09it/s]"
     ]
    },
    {
     "name": "stdout",
     "output_type": "stream",
     "text": [
      "Downloaded MP3\n"
     ]
    },
    {
     "name": "stderr",
     "output_type": "stream",
     "text": [
      "616it [05:35,  1.12it/s]"
     ]
    },
    {
     "name": "stdout",
     "output_type": "stream",
     "text": [
      "Downloaded MP3\n"
     ]
    },
    {
     "name": "stderr",
     "output_type": "stream",
     "text": [
      "617it [05:35,  1.16it/s]"
     ]
    },
    {
     "name": "stdout",
     "output_type": "stream",
     "text": [
      "Downloaded MP3\n"
     ]
    },
    {
     "name": "stderr",
     "output_type": "stream",
     "text": [
      "618it [05:36,  1.17it/s]"
     ]
    },
    {
     "name": "stdout",
     "output_type": "stream",
     "text": [
      "Downloaded MP3\n"
     ]
    },
    {
     "name": "stderr",
     "output_type": "stream",
     "text": [
      "619it [05:37,  1.19it/s]"
     ]
    },
    {
     "name": "stdout",
     "output_type": "stream",
     "text": [
      "Downloaded MP3\n"
     ]
    },
    {
     "name": "stderr",
     "output_type": "stream",
     "text": [
      "620it [05:38,  1.17it/s]"
     ]
    },
    {
     "name": "stdout",
     "output_type": "stream",
     "text": [
      "Downloaded MP3\n"
     ]
    },
    {
     "name": "stderr",
     "output_type": "stream",
     "text": [
      "621it [05:39,  1.12it/s]"
     ]
    },
    {
     "name": "stdout",
     "output_type": "stream",
     "text": [
      "Downloaded MP3\n"
     ]
    },
    {
     "name": "stderr",
     "output_type": "stream",
     "text": [
      "622it [05:40,  1.13it/s]"
     ]
    },
    {
     "name": "stdout",
     "output_type": "stream",
     "text": [
      "Downloaded MP3\n"
     ]
    },
    {
     "name": "stderr",
     "output_type": "stream",
     "text": [
      "623it [05:41,  1.08it/s]"
     ]
    },
    {
     "name": "stdout",
     "output_type": "stream",
     "text": [
      "Downloaded MP3\n"
     ]
    },
    {
     "name": "stderr",
     "output_type": "stream",
     "text": [
      "624it [05:42,  1.09it/s]"
     ]
    },
    {
     "name": "stdout",
     "output_type": "stream",
     "text": [
      "Downloaded MP3\n"
     ]
    },
    {
     "name": "stderr",
     "output_type": "stream",
     "text": [
      "625it [05:43,  1.08it/s]"
     ]
    },
    {
     "name": "stdout",
     "output_type": "stream",
     "text": [
      "Downloaded MP3\n"
     ]
    },
    {
     "name": "stderr",
     "output_type": "stream",
     "text": [
      "626it [05:44,  1.10it/s]"
     ]
    },
    {
     "name": "stdout",
     "output_type": "stream",
     "text": [
      "Downloaded MP3\n"
     ]
    },
    {
     "name": "stderr",
     "output_type": "stream",
     "text": [
      "627it [05:45,  1.09it/s]"
     ]
    },
    {
     "name": "stdout",
     "output_type": "stream",
     "text": [
      "Downloaded MP3\n"
     ]
    },
    {
     "name": "stderr",
     "output_type": "stream",
     "text": [
      "628it [05:45,  1.14it/s]"
     ]
    },
    {
     "name": "stdout",
     "output_type": "stream",
     "text": [
      "Downloaded MP3\n"
     ]
    },
    {
     "name": "stderr",
     "output_type": "stream",
     "text": [
      "629it [05:46,  1.17it/s]"
     ]
    },
    {
     "name": "stdout",
     "output_type": "stream",
     "text": [
      "Downloaded MP3\n"
     ]
    },
    {
     "name": "stderr",
     "output_type": "stream",
     "text": [
      "630it [05:47,  1.19it/s]"
     ]
    },
    {
     "name": "stdout",
     "output_type": "stream",
     "text": [
      "Downloaded MP3\n"
     ]
    },
    {
     "name": "stderr",
     "output_type": "stream",
     "text": [
      "631it [05:48,  1.17it/s]"
     ]
    },
    {
     "name": "stdout",
     "output_type": "stream",
     "text": [
      "Downloaded MP3\n"
     ]
    },
    {
     "name": "stderr",
     "output_type": "stream",
     "text": [
      "632it [05:49,  1.18it/s]"
     ]
    },
    {
     "name": "stdout",
     "output_type": "stream",
     "text": [
      "Downloaded MP3\n"
     ]
    },
    {
     "name": "stderr",
     "output_type": "stream",
     "text": [
      "633it [05:49,  1.26it/s]"
     ]
    },
    {
     "name": "stdout",
     "output_type": "stream",
     "text": [
      "Downloaded MP3\n"
     ]
    },
    {
     "name": "stderr",
     "output_type": "stream",
     "text": [
      "634it [05:54,  1.95s/it]"
     ]
    },
    {
     "name": "stdout",
     "output_type": "stream",
     "text": [
      "Downloaded MP3\n"
     ]
    },
    {
     "name": "stderr",
     "output_type": "stream",
     "text": [
      "635it [05:55,  1.62s/it]"
     ]
    },
    {
     "name": "stdout",
     "output_type": "stream",
     "text": [
      "Downloaded MP3\n"
     ]
    },
    {
     "name": "stderr",
     "output_type": "stream",
     "text": [
      "636it [05:56,  1.43s/it]"
     ]
    },
    {
     "name": "stdout",
     "output_type": "stream",
     "text": [
      "Downloaded MP3\n"
     ]
    },
    {
     "name": "stderr",
     "output_type": "stream",
     "text": [
      "637it [05:57,  1.29s/it]"
     ]
    },
    {
     "name": "stdout",
     "output_type": "stream",
     "text": [
      "Downloaded MP3\n"
     ]
    },
    {
     "name": "stderr",
     "output_type": "stream",
     "text": [
      "638it [05:58,  1.15s/it]"
     ]
    },
    {
     "name": "stdout",
     "output_type": "stream",
     "text": [
      "Downloaded MP3\n"
     ]
    },
    {
     "name": "stderr",
     "output_type": "stream",
     "text": [
      "639it [05:59,  1.10s/it]"
     ]
    },
    {
     "name": "stdout",
     "output_type": "stream",
     "text": [
      "Downloaded MP3\n"
     ]
    },
    {
     "name": "stderr",
     "output_type": "stream",
     "text": [
      "640it [05:59,  1.02s/it]"
     ]
    },
    {
     "name": "stdout",
     "output_type": "stream",
     "text": [
      "Downloaded MP3\n"
     ]
    },
    {
     "name": "stderr",
     "output_type": "stream",
     "text": [
      "641it [06:00,  1.01it/s]"
     ]
    },
    {
     "name": "stdout",
     "output_type": "stream",
     "text": [
      "Downloaded MP3\n"
     ]
    },
    {
     "name": "stderr",
     "output_type": "stream",
     "text": [
      "642it [06:02,  1.05s/it]"
     ]
    },
    {
     "name": "stdout",
     "output_type": "stream",
     "text": [
      "Downloaded MP3\n"
     ]
    },
    {
     "name": "stderr",
     "output_type": "stream",
     "text": [
      "643it [06:02,  1.02s/it]"
     ]
    },
    {
     "name": "stdout",
     "output_type": "stream",
     "text": [
      "Downloaded MP3\n"
     ]
    },
    {
     "name": "stderr",
     "output_type": "stream",
     "text": [
      "644it [06:03,  1.02it/s]"
     ]
    },
    {
     "name": "stdout",
     "output_type": "stream",
     "text": [
      "Downloaded MP3\n"
     ]
    },
    {
     "name": "stderr",
     "output_type": "stream",
     "text": [
      "645it [06:04,  1.07it/s]"
     ]
    },
    {
     "name": "stdout",
     "output_type": "stream",
     "text": [
      "Downloaded MP3\n"
     ]
    },
    {
     "name": "stderr",
     "output_type": "stream",
     "text": [
      "646it [06:07,  1.48s/it]"
     ]
    },
    {
     "name": "stdout",
     "output_type": "stream",
     "text": [
      "Downloaded MP3\n"
     ]
    },
    {
     "name": "stderr",
     "output_type": "stream",
     "text": [
      "647it [06:08,  1.29s/it]"
     ]
    },
    {
     "name": "stdout",
     "output_type": "stream",
     "text": [
      "Downloaded MP3\n"
     ]
    },
    {
     "name": "stderr",
     "output_type": "stream",
     "text": [
      "648it [06:09,  1.18s/it]"
     ]
    },
    {
     "name": "stdout",
     "output_type": "stream",
     "text": [
      "Downloaded MP3\n"
     ]
    },
    {
     "name": "stderr",
     "output_type": "stream",
     "text": [
      "649it [06:10,  1.08s/it]"
     ]
    },
    {
     "name": "stdout",
     "output_type": "stream",
     "text": [
      "Downloaded MP3\n"
     ]
    },
    {
     "name": "stderr",
     "output_type": "stream",
     "text": [
      "650it [06:10,  1.00it/s]"
     ]
    },
    {
     "name": "stdout",
     "output_type": "stream",
     "text": [
      "Downloaded MP3\n"
     ]
    },
    {
     "name": "stderr",
     "output_type": "stream",
     "text": [
      "651it [06:11,  1.02it/s]"
     ]
    },
    {
     "name": "stdout",
     "output_type": "stream",
     "text": [
      "Downloaded MP3\n"
     ]
    },
    {
     "name": "stderr",
     "output_type": "stream",
     "text": [
      "652it [06:12,  1.04it/s]"
     ]
    },
    {
     "name": "stdout",
     "output_type": "stream",
     "text": [
      "Downloaded MP3\n"
     ]
    },
    {
     "name": "stderr",
     "output_type": "stream",
     "text": [
      "653it [06:13,  1.05it/s]"
     ]
    },
    {
     "name": "stdout",
     "output_type": "stream",
     "text": [
      "Downloaded MP3\n"
     ]
    },
    {
     "name": "stderr",
     "output_type": "stream",
     "text": [
      "654it [06:14,  1.07it/s]"
     ]
    },
    {
     "name": "stdout",
     "output_type": "stream",
     "text": [
      "Downloaded MP3\n"
     ]
    },
    {
     "name": "stderr",
     "output_type": "stream",
     "text": [
      "655it [06:15,  1.09it/s]"
     ]
    },
    {
     "name": "stdout",
     "output_type": "stream",
     "text": [
      "Downloaded MP3\n"
     ]
    },
    {
     "name": "stderr",
     "output_type": "stream",
     "text": [
      "656it [06:16,  1.12it/s]"
     ]
    },
    {
     "name": "stdout",
     "output_type": "stream",
     "text": [
      "Downloaded MP3\n"
     ]
    },
    {
     "name": "stderr",
     "output_type": "stream",
     "text": [
      "657it [06:17,  1.12it/s]"
     ]
    },
    {
     "name": "stdout",
     "output_type": "stream",
     "text": [
      "Downloaded MP3\n"
     ]
    },
    {
     "name": "stderr",
     "output_type": "stream",
     "text": [
      "658it [06:17,  1.15it/s]"
     ]
    },
    {
     "name": "stdout",
     "output_type": "stream",
     "text": [
      "Downloaded MP3\n"
     ]
    },
    {
     "name": "stderr",
     "output_type": "stream",
     "text": [
      "659it [06:18,  1.30it/s]"
     ]
    },
    {
     "name": "stdout",
     "output_type": "stream",
     "text": [
      "Downloaded MP3\n"
     ]
    },
    {
     "name": "stderr",
     "output_type": "stream",
     "text": [
      "660it [06:19,  1.31it/s]"
     ]
    },
    {
     "name": "stdout",
     "output_type": "stream",
     "text": [
      "Downloaded MP3\n"
     ]
    },
    {
     "name": "stderr",
     "output_type": "stream",
     "text": [
      "661it [06:20,  1.29it/s]"
     ]
    },
    {
     "name": "stdout",
     "output_type": "stream",
     "text": [
      "Downloaded MP3\n"
     ]
    },
    {
     "name": "stderr",
     "output_type": "stream",
     "text": [
      "662it [06:20,  1.21it/s]"
     ]
    },
    {
     "name": "stdout",
     "output_type": "stream",
     "text": [
      "Downloaded MP3\n"
     ]
    },
    {
     "name": "stderr",
     "output_type": "stream",
     "text": [
      "663it [06:21,  1.20it/s]"
     ]
    },
    {
     "name": "stdout",
     "output_type": "stream",
     "text": [
      "Downloaded MP3\n"
     ]
    },
    {
     "name": "stderr",
     "output_type": "stream",
     "text": [
      "664it [06:22,  1.19it/s]"
     ]
    },
    {
     "name": "stdout",
     "output_type": "stream",
     "text": [
      "Downloaded MP3\n"
     ]
    },
    {
     "name": "stderr",
     "output_type": "stream",
     "text": [
      "665it [06:23,  1.13it/s]"
     ]
    },
    {
     "name": "stdout",
     "output_type": "stream",
     "text": [
      "Downloaded MP3\n"
     ]
    },
    {
     "name": "stderr",
     "output_type": "stream",
     "text": [
      "666it [06:24,  1.12it/s]"
     ]
    },
    {
     "name": "stdout",
     "output_type": "stream",
     "text": [
      "Downloaded MP3\n"
     ]
    },
    {
     "name": "stderr",
     "output_type": "stream",
     "text": [
      "667it [06:25,  1.19it/s]"
     ]
    },
    {
     "name": "stdout",
     "output_type": "stream",
     "text": [
      "Downloaded MP3\n"
     ]
    },
    {
     "name": "stderr",
     "output_type": "stream",
     "text": [
      "668it [06:26,  1.16it/s]"
     ]
    },
    {
     "name": "stdout",
     "output_type": "stream",
     "text": [
      "Downloaded MP3\n"
     ]
    },
    {
     "name": "stderr",
     "output_type": "stream",
     "text": [
      "669it [06:26,  1.20it/s]"
     ]
    },
    {
     "name": "stdout",
     "output_type": "stream",
     "text": [
      "Downloaded MP3\n"
     ]
    },
    {
     "name": "stderr",
     "output_type": "stream",
     "text": [
      "670it [06:27,  1.14it/s]"
     ]
    },
    {
     "name": "stdout",
     "output_type": "stream",
     "text": [
      "Downloaded MP3\n"
     ]
    },
    {
     "name": "stderr",
     "output_type": "stream",
     "text": [
      "671it [06:29,  1.08it/s]"
     ]
    },
    {
     "name": "stdout",
     "output_type": "stream",
     "text": [
      "Downloaded MP3\n"
     ]
    },
    {
     "name": "stderr",
     "output_type": "stream",
     "text": [
      "672it [06:29,  1.08it/s]"
     ]
    },
    {
     "name": "stdout",
     "output_type": "stream",
     "text": [
      "Downloaded MP3\n"
     ]
    },
    {
     "name": "stderr",
     "output_type": "stream",
     "text": [
      "673it [06:30,  1.11it/s]"
     ]
    },
    {
     "name": "stdout",
     "output_type": "stream",
     "text": [
      "Downloaded MP3\n"
     ]
    },
    {
     "name": "stderr",
     "output_type": "stream",
     "text": [
      "674it [06:31,  1.16it/s]"
     ]
    },
    {
     "name": "stdout",
     "output_type": "stream",
     "text": [
      "Downloaded MP3\n"
     ]
    },
    {
     "name": "stderr",
     "output_type": "stream",
     "text": [
      "675it [06:32,  1.13it/s]"
     ]
    },
    {
     "name": "stdout",
     "output_type": "stream",
     "text": [
      "Downloaded MP3\n"
     ]
    },
    {
     "name": "stderr",
     "output_type": "stream",
     "text": [
      "676it [06:33,  1.15it/s]"
     ]
    },
    {
     "name": "stdout",
     "output_type": "stream",
     "text": [
      "Downloaded MP3\n"
     ]
    },
    {
     "name": "stderr",
     "output_type": "stream",
     "text": [
      "677it [06:34,  1.14it/s]"
     ]
    },
    {
     "name": "stdout",
     "output_type": "stream",
     "text": [
      "Downloaded MP3\n"
     ]
    },
    {
     "name": "stderr",
     "output_type": "stream",
     "text": [
      "678it [06:35,  1.15it/s]"
     ]
    },
    {
     "name": "stdout",
     "output_type": "stream",
     "text": [
      "Downloaded MP3\n"
     ]
    },
    {
     "name": "stderr",
     "output_type": "stream",
     "text": [
      "679it [06:35,  1.15it/s]"
     ]
    },
    {
     "name": "stdout",
     "output_type": "stream",
     "text": [
      "Downloaded MP3\n"
     ]
    },
    {
     "name": "stderr",
     "output_type": "stream",
     "text": [
      "680it [06:36,  1.17it/s]"
     ]
    },
    {
     "name": "stdout",
     "output_type": "stream",
     "text": [
      "Downloaded MP3\n"
     ]
    },
    {
     "name": "stderr",
     "output_type": "stream",
     "text": [
      "681it [06:37,  1.14it/s]"
     ]
    },
    {
     "name": "stdout",
     "output_type": "stream",
     "text": [
      "Downloaded MP3\n"
     ]
    },
    {
     "name": "stderr",
     "output_type": "stream",
     "text": [
      "682it [06:38,  1.16it/s]"
     ]
    },
    {
     "name": "stdout",
     "output_type": "stream",
     "text": [
      "Downloaded MP3\n"
     ]
    },
    {
     "name": "stderr",
     "output_type": "stream",
     "text": [
      "683it [06:39,  1.12it/s]"
     ]
    },
    {
     "name": "stdout",
     "output_type": "stream",
     "text": [
      "Downloaded MP3\n"
     ]
    },
    {
     "name": "stderr",
     "output_type": "stream",
     "text": [
      "684it [06:40,  1.15it/s]"
     ]
    },
    {
     "name": "stdout",
     "output_type": "stream",
     "text": [
      "Downloaded MP3\n"
     ]
    },
    {
     "name": "stderr",
     "output_type": "stream",
     "text": [
      "685it [06:41,  1.20it/s]"
     ]
    },
    {
     "name": "stdout",
     "output_type": "stream",
     "text": [
      "Downloaded MP3\n"
     ]
    },
    {
     "name": "stderr",
     "output_type": "stream",
     "text": [
      "686it [06:41,  1.19it/s]"
     ]
    },
    {
     "name": "stdout",
     "output_type": "stream",
     "text": [
      "Downloaded MP3\n"
     ]
    },
    {
     "name": "stderr",
     "output_type": "stream",
     "text": [
      "687it [06:42,  1.16it/s]"
     ]
    },
    {
     "name": "stdout",
     "output_type": "stream",
     "text": [
      "Downloaded MP3\n"
     ]
    },
    {
     "name": "stderr",
     "output_type": "stream",
     "text": [
      "688it [06:43,  1.22it/s]"
     ]
    },
    {
     "name": "stdout",
     "output_type": "stream",
     "text": [
      "Downloaded MP3\n"
     ]
    },
    {
     "name": "stderr",
     "output_type": "stream",
     "text": [
      "689it [06:44,  1.16it/s]"
     ]
    },
    {
     "name": "stdout",
     "output_type": "stream",
     "text": [
      "Downloaded MP3\n"
     ]
    },
    {
     "name": "stderr",
     "output_type": "stream",
     "text": [
      "690it [06:45,  1.20it/s]"
     ]
    },
    {
     "name": "stdout",
     "output_type": "stream",
     "text": [
      "Downloaded MP3\n"
     ]
    },
    {
     "name": "stderr",
     "output_type": "stream",
     "text": [
      "691it [06:46,  1.17it/s]"
     ]
    },
    {
     "name": "stdout",
     "output_type": "stream",
     "text": [
      "Downloaded MP3\n"
     ]
    },
    {
     "name": "stderr",
     "output_type": "stream",
     "text": [
      "692it [06:47,  1.13it/s]"
     ]
    },
    {
     "name": "stdout",
     "output_type": "stream",
     "text": [
      "Downloaded MP3\n"
     ]
    },
    {
     "name": "stderr",
     "output_type": "stream",
     "text": [
      "693it [06:48,  1.12it/s]"
     ]
    },
    {
     "name": "stdout",
     "output_type": "stream",
     "text": [
      "Downloaded MP3\n"
     ]
    },
    {
     "name": "stderr",
     "output_type": "stream",
     "text": [
      "694it [06:48,  1.12it/s]"
     ]
    },
    {
     "name": "stdout",
     "output_type": "stream",
     "text": [
      "Downloaded MP3\n"
     ]
    },
    {
     "name": "stderr",
     "output_type": "stream",
     "text": [
      "695it [06:49,  1.12it/s]"
     ]
    },
    {
     "name": "stdout",
     "output_type": "stream",
     "text": [
      "Downloaded MP3\n"
     ]
    },
    {
     "name": "stderr",
     "output_type": "stream",
     "text": [
      "696it [06:50,  1.16it/s]"
     ]
    },
    {
     "name": "stdout",
     "output_type": "stream",
     "text": [
      "Downloaded MP3\n"
     ]
    },
    {
     "name": "stderr",
     "output_type": "stream",
     "text": [
      "697it [06:51,  1.19it/s]"
     ]
    },
    {
     "name": "stdout",
     "output_type": "stream",
     "text": [
      "Downloaded MP3\n"
     ]
    },
    {
     "name": "stderr",
     "output_type": "stream",
     "text": [
      "698it [06:52,  1.20it/s]"
     ]
    },
    {
     "name": "stdout",
     "output_type": "stream",
     "text": [
      "Downloaded MP3\n"
     ]
    },
    {
     "name": "stderr",
     "output_type": "stream",
     "text": [
      "699it [06:53,  1.20it/s]"
     ]
    },
    {
     "name": "stdout",
     "output_type": "stream",
     "text": [
      "Downloaded MP3\n"
     ]
    },
    {
     "name": "stderr",
     "output_type": "stream",
     "text": [
      "700it [06:54,  1.07it/s]"
     ]
    },
    {
     "name": "stdout",
     "output_type": "stream",
     "text": [
      "Downloaded MP3\n"
     ]
    },
    {
     "name": "stderr",
     "output_type": "stream",
     "text": [
      "701it [06:55,  1.12it/s]"
     ]
    },
    {
     "name": "stdout",
     "output_type": "stream",
     "text": [
      "Downloaded MP3\n"
     ]
    },
    {
     "name": "stderr",
     "output_type": "stream",
     "text": [
      "702it [06:55,  1.16it/s]"
     ]
    },
    {
     "name": "stdout",
     "output_type": "stream",
     "text": [
      "Downloaded MP3\n"
     ]
    },
    {
     "name": "stderr",
     "output_type": "stream",
     "text": [
      "703it [06:56,  1.16it/s]"
     ]
    },
    {
     "name": "stdout",
     "output_type": "stream",
     "text": [
      "Downloaded MP3\n"
     ]
    },
    {
     "name": "stderr",
     "output_type": "stream",
     "text": [
      "704it [07:18,  7.30s/it]"
     ]
    },
    {
     "name": "stdout",
     "output_type": "stream",
     "text": [
      "Downloaded MP3\n"
     ]
    },
    {
     "name": "stderr",
     "output_type": "stream",
     "text": [
      "705it [07:20,  5.46s/it]"
     ]
    },
    {
     "name": "stdout",
     "output_type": "stream",
     "text": [
      "Downloaded MP3\n"
     ]
    },
    {
     "name": "stderr",
     "output_type": "stream",
     "text": [
      "706it [07:21,  4.08s/it]"
     ]
    },
    {
     "name": "stdout",
     "output_type": "stream",
     "text": [
      "Downloaded MP3\n"
     ]
    },
    {
     "name": "stderr",
     "output_type": "stream",
     "text": [
      "707it [07:21,  3.13s/it]"
     ]
    },
    {
     "name": "stdout",
     "output_type": "stream",
     "text": [
      "Downloaded MP3\n"
     ]
    },
    {
     "name": "stderr",
     "output_type": "stream",
     "text": [
      "708it [07:22,  2.45s/it]"
     ]
    },
    {
     "name": "stdout",
     "output_type": "stream",
     "text": [
      "Downloaded MP3\n"
     ]
    },
    {
     "name": "stderr",
     "output_type": "stream",
     "text": [
      "709it [07:23,  1.97s/it]"
     ]
    },
    {
     "name": "stdout",
     "output_type": "stream",
     "text": [
      "Downloaded MP3\n"
     ]
    },
    {
     "name": "stderr",
     "output_type": "stream",
     "text": [
      "710it [07:24,  1.65s/it]"
     ]
    },
    {
     "name": "stdout",
     "output_type": "stream",
     "text": [
      "Downloaded MP3\n"
     ]
    },
    {
     "name": "stderr",
     "output_type": "stream",
     "text": [
      "711it [07:25,  1.42s/it]"
     ]
    },
    {
     "name": "stdout",
     "output_type": "stream",
     "text": [
      "Downloaded MP3\n"
     ]
    },
    {
     "name": "stderr",
     "output_type": "stream",
     "text": [
      "712it [07:26,  1.26s/it]"
     ]
    },
    {
     "name": "stdout",
     "output_type": "stream",
     "text": [
      "Downloaded MP3\n"
     ]
    },
    {
     "name": "stderr",
     "output_type": "stream",
     "text": [
      "713it [07:27,  1.13s/it]"
     ]
    },
    {
     "name": "stdout",
     "output_type": "stream",
     "text": [
      "Downloaded MP3\n"
     ]
    },
    {
     "name": "stderr",
     "output_type": "stream",
     "text": [
      "714it [07:27,  1.04s/it]"
     ]
    },
    {
     "name": "stdout",
     "output_type": "stream",
     "text": [
      "Downloaded MP3\n"
     ]
    },
    {
     "name": "stderr",
     "output_type": "stream",
     "text": [
      "715it [07:28,  1.02s/it]"
     ]
    },
    {
     "name": "stdout",
     "output_type": "stream",
     "text": [
      "Downloaded MP3\n"
     ]
    },
    {
     "name": "stderr",
     "output_type": "stream",
     "text": [
      "716it [07:29,  1.03it/s]"
     ]
    },
    {
     "name": "stdout",
     "output_type": "stream",
     "text": [
      "Downloaded MP3\n"
     ]
    },
    {
     "name": "stderr",
     "output_type": "stream",
     "text": [
      "717it [07:30,  1.09it/s]"
     ]
    },
    {
     "name": "stdout",
     "output_type": "stream",
     "text": [
      "Downloaded MP3\n"
     ]
    },
    {
     "name": "stderr",
     "output_type": "stream",
     "text": [
      "718it [07:31,  1.12it/s]"
     ]
    },
    {
     "name": "stdout",
     "output_type": "stream",
     "text": [
      "Downloaded MP3\n"
     ]
    },
    {
     "name": "stderr",
     "output_type": "stream",
     "text": [
      "719it [07:32,  1.09it/s]"
     ]
    },
    {
     "name": "stdout",
     "output_type": "stream",
     "text": [
      "Downloaded MP3\n"
     ]
    },
    {
     "name": "stderr",
     "output_type": "stream",
     "text": [
      "720it [07:33,  1.11it/s]"
     ]
    },
    {
     "name": "stdout",
     "output_type": "stream",
     "text": [
      "Downloaded MP3\n"
     ]
    },
    {
     "name": "stderr",
     "output_type": "stream",
     "text": [
      "721it [07:34,  1.14it/s]"
     ]
    },
    {
     "name": "stdout",
     "output_type": "stream",
     "text": [
      "Downloaded MP3\n"
     ]
    },
    {
     "name": "stderr",
     "output_type": "stream",
     "text": [
      "722it [07:34,  1.15it/s]"
     ]
    },
    {
     "name": "stdout",
     "output_type": "stream",
     "text": [
      "Downloaded MP3\n"
     ]
    },
    {
     "name": "stderr",
     "output_type": "stream",
     "text": [
      "723it [07:35,  1.15it/s]"
     ]
    },
    {
     "name": "stdout",
     "output_type": "stream",
     "text": [
      "Downloaded MP3\n"
     ]
    },
    {
     "name": "stderr",
     "output_type": "stream",
     "text": [
      "724it [07:36,  1.16it/s]"
     ]
    },
    {
     "name": "stdout",
     "output_type": "stream",
     "text": [
      "Downloaded MP3\n"
     ]
    },
    {
     "name": "stderr",
     "output_type": "stream",
     "text": [
      "725it [07:37,  1.19it/s]"
     ]
    },
    {
     "name": "stdout",
     "output_type": "stream",
     "text": [
      "Downloaded MP3\n"
     ]
    },
    {
     "name": "stderr",
     "output_type": "stream",
     "text": [
      "726it [07:38,  1.18it/s]"
     ]
    },
    {
     "name": "stdout",
     "output_type": "stream",
     "text": [
      "Downloaded MP3\n"
     ]
    },
    {
     "name": "stderr",
     "output_type": "stream",
     "text": [
      "727it [07:39,  1.13it/s]"
     ]
    },
    {
     "name": "stdout",
     "output_type": "stream",
     "text": [
      "Downloaded MP3\n"
     ]
    },
    {
     "name": "stderr",
     "output_type": "stream",
     "text": [
      "728it [07:40,  1.18it/s]"
     ]
    },
    {
     "name": "stdout",
     "output_type": "stream",
     "text": [
      "Downloaded MP3\n"
     ]
    },
    {
     "name": "stderr",
     "output_type": "stream",
     "text": [
      "729it [07:40,  1.15it/s]"
     ]
    },
    {
     "name": "stdout",
     "output_type": "stream",
     "text": [
      "Downloaded MP3\n"
     ]
    },
    {
     "name": "stderr",
     "output_type": "stream",
     "text": [
      "730it [07:42,  1.09it/s]"
     ]
    },
    {
     "name": "stdout",
     "output_type": "stream",
     "text": [
      "Downloaded MP3\n"
     ]
    },
    {
     "name": "stderr",
     "output_type": "stream",
     "text": [
      "731it [07:42,  1.15it/s]"
     ]
    },
    {
     "name": "stdout",
     "output_type": "stream",
     "text": [
      "Downloaded MP3\n"
     ]
    },
    {
     "name": "stderr",
     "output_type": "stream",
     "text": [
      "732it [07:43,  1.12it/s]"
     ]
    },
    {
     "name": "stdout",
     "output_type": "stream",
     "text": [
      "Downloaded MP3\n"
     ]
    },
    {
     "name": "stderr",
     "output_type": "stream",
     "text": [
      "733it [07:44,  1.14it/s]"
     ]
    },
    {
     "name": "stdout",
     "output_type": "stream",
     "text": [
      "Downloaded MP3\n"
     ]
    },
    {
     "name": "stderr",
     "output_type": "stream",
     "text": [
      "734it [07:45,  1.17it/s]"
     ]
    },
    {
     "name": "stdout",
     "output_type": "stream",
     "text": [
      "Downloaded MP3\n"
     ]
    },
    {
     "name": "stderr",
     "output_type": "stream",
     "text": [
      "735it [07:46,  1.20it/s]"
     ]
    },
    {
     "name": "stdout",
     "output_type": "stream",
     "text": [
      "Downloaded MP3\n"
     ]
    },
    {
     "name": "stderr",
     "output_type": "stream",
     "text": [
      "736it [07:47,  1.18it/s]"
     ]
    },
    {
     "name": "stdout",
     "output_type": "stream",
     "text": [
      "Downloaded MP3\n"
     ]
    },
    {
     "name": "stderr",
     "output_type": "stream",
     "text": [
      "737it [07:47,  1.14it/s]"
     ]
    },
    {
     "name": "stdout",
     "output_type": "stream",
     "text": [
      "Downloaded MP3\n"
     ]
    },
    {
     "name": "stderr",
     "output_type": "stream",
     "text": [
      "738it [07:48,  1.13it/s]"
     ]
    },
    {
     "name": "stdout",
     "output_type": "stream",
     "text": [
      "Downloaded MP3\n"
     ]
    },
    {
     "name": "stderr",
     "output_type": "stream",
     "text": [
      "739it [07:49,  1.15it/s]"
     ]
    },
    {
     "name": "stdout",
     "output_type": "stream",
     "text": [
      "Downloaded MP3\n"
     ]
    },
    {
     "name": "stderr",
     "output_type": "stream",
     "text": [
      "740it [07:50,  1.07it/s]"
     ]
    },
    {
     "name": "stdout",
     "output_type": "stream",
     "text": [
      "Downloaded MP3\n"
     ]
    },
    {
     "name": "stderr",
     "output_type": "stream",
     "text": [
      "741it [07:51,  1.10it/s]"
     ]
    },
    {
     "name": "stdout",
     "output_type": "stream",
     "text": [
      "Downloaded MP3\n"
     ]
    },
    {
     "name": "stderr",
     "output_type": "stream",
     "text": [
      "742it [07:52,  1.13it/s]"
     ]
    },
    {
     "name": "stdout",
     "output_type": "stream",
     "text": [
      "Downloaded MP3\n"
     ]
    },
    {
     "name": "stderr",
     "output_type": "stream",
     "text": [
      "743it [07:53,  1.13it/s]"
     ]
    },
    {
     "name": "stdout",
     "output_type": "stream",
     "text": [
      "Downloaded MP3\n"
     ]
    },
    {
     "name": "stderr",
     "output_type": "stream",
     "text": [
      "744it [07:54,  1.09it/s]"
     ]
    },
    {
     "name": "stdout",
     "output_type": "stream",
     "text": [
      "Downloaded MP3\n"
     ]
    },
    {
     "name": "stderr",
     "output_type": "stream",
     "text": [
      "745it [07:55,  1.13it/s]"
     ]
    },
    {
     "name": "stdout",
     "output_type": "stream",
     "text": [
      "Downloaded MP3\n"
     ]
    },
    {
     "name": "stderr",
     "output_type": "stream",
     "text": [
      "746it [07:56,  1.09it/s]"
     ]
    },
    {
     "name": "stdout",
     "output_type": "stream",
     "text": [
      "Downloaded MP3\n"
     ]
    },
    {
     "name": "stderr",
     "output_type": "stream",
     "text": [
      "747it [07:56,  1.13it/s]"
     ]
    },
    {
     "name": "stdout",
     "output_type": "stream",
     "text": [
      "Downloaded MP3\n"
     ]
    },
    {
     "name": "stderr",
     "output_type": "stream",
     "text": [
      "748it [07:57,  1.16it/s]"
     ]
    },
    {
     "name": "stdout",
     "output_type": "stream",
     "text": [
      "Downloaded MP3\n"
     ]
    },
    {
     "name": "stderr",
     "output_type": "stream",
     "text": [
      "749it [07:58,  1.16it/s]"
     ]
    },
    {
     "name": "stdout",
     "output_type": "stream",
     "text": [
      "Downloaded MP3\n"
     ]
    },
    {
     "name": "stderr",
     "output_type": "stream",
     "text": [
      "750it [07:59,  1.13it/s]"
     ]
    },
    {
     "name": "stdout",
     "output_type": "stream",
     "text": [
      "Downloaded MP3\n"
     ]
    },
    {
     "name": "stderr",
     "output_type": "stream",
     "text": [
      "751it [08:00,  1.13it/s]"
     ]
    },
    {
     "name": "stdout",
     "output_type": "stream",
     "text": [
      "Downloaded MP3\n"
     ]
    },
    {
     "name": "stderr",
     "output_type": "stream",
     "text": [
      "752it [08:01,  1.15it/s]"
     ]
    },
    {
     "name": "stdout",
     "output_type": "stream",
     "text": [
      "Downloaded MP3\n"
     ]
    },
    {
     "name": "stderr",
     "output_type": "stream",
     "text": [
      "753it [08:02,  1.12it/s]"
     ]
    },
    {
     "name": "stdout",
     "output_type": "stream",
     "text": [
      "Downloaded MP3\n"
     ]
    },
    {
     "name": "stderr",
     "output_type": "stream",
     "text": [
      "754it [08:03,  1.10it/s]"
     ]
    },
    {
     "name": "stdout",
     "output_type": "stream",
     "text": [
      "Downloaded MP3\n"
     ]
    },
    {
     "name": "stderr",
     "output_type": "stream",
     "text": [
      "755it [08:03,  1.15it/s]"
     ]
    },
    {
     "name": "stdout",
     "output_type": "stream",
     "text": [
      "Downloaded MP3\n"
     ]
    },
    {
     "name": "stderr",
     "output_type": "stream",
     "text": [
      "756it [08:05,  1.03it/s]"
     ]
    },
    {
     "name": "stdout",
     "output_type": "stream",
     "text": [
      "Downloaded MP3\n"
     ]
    },
    {
     "name": "stderr",
     "output_type": "stream",
     "text": [
      "758it [08:06,  1.31it/s]"
     ]
    },
    {
     "name": "stdout",
     "output_type": "stream",
     "text": [
      "Downloaded MP3\n"
     ]
    },
    {
     "name": "stderr",
     "output_type": "stream",
     "text": [
      "759it [08:07,  1.23it/s]"
     ]
    },
    {
     "name": "stdout",
     "output_type": "stream",
     "text": [
      "Downloaded MP3\n"
     ]
    },
    {
     "name": "stderr",
     "output_type": "stream",
     "text": [
      "760it [08:07,  1.22it/s]"
     ]
    },
    {
     "name": "stdout",
     "output_type": "stream",
     "text": [
      "Downloaded MP3\n"
     ]
    },
    {
     "name": "stderr",
     "output_type": "stream",
     "text": [
      "761it [08:08,  1.20it/s]"
     ]
    },
    {
     "name": "stdout",
     "output_type": "stream",
     "text": [
      "Downloaded MP3\n"
     ]
    },
    {
     "name": "stderr",
     "output_type": "stream",
     "text": [
      "762it [08:09,  1.15it/s]"
     ]
    },
    {
     "name": "stdout",
     "output_type": "stream",
     "text": [
      "Downloaded MP3\n"
     ]
    },
    {
     "name": "stderr",
     "output_type": "stream",
     "text": [
      "763it [08:10,  1.12it/s]"
     ]
    },
    {
     "name": "stdout",
     "output_type": "stream",
     "text": [
      "Downloaded MP3\n"
     ]
    },
    {
     "name": "stderr",
     "output_type": "stream",
     "text": [
      "764it [08:11,  1.11it/s]"
     ]
    },
    {
     "name": "stdout",
     "output_type": "stream",
     "text": [
      "Downloaded MP3\n"
     ]
    },
    {
     "name": "stderr",
     "output_type": "stream",
     "text": [
      "765it [08:12,  1.05it/s]"
     ]
    },
    {
     "name": "stdout",
     "output_type": "stream",
     "text": [
      "Downloaded MP3\n"
     ]
    },
    {
     "name": "stderr",
     "output_type": "stream",
     "text": [
      "766it [08:13,  1.07it/s]"
     ]
    },
    {
     "name": "stdout",
     "output_type": "stream",
     "text": [
      "Downloaded MP3\n"
     ]
    },
    {
     "name": "stderr",
     "output_type": "stream",
     "text": [
      "767it [08:14,  1.00s/it]"
     ]
    },
    {
     "name": "stdout",
     "output_type": "stream",
     "text": [
      "Downloaded MP3\n"
     ]
    },
    {
     "name": "stderr",
     "output_type": "stream",
     "text": [
      "768it [08:15,  1.01it/s]"
     ]
    },
    {
     "name": "stdout",
     "output_type": "stream",
     "text": [
      "Downloaded MP3\n"
     ]
    },
    {
     "name": "stderr",
     "output_type": "stream",
     "text": [
      "769it [08:16,  1.08it/s]"
     ]
    },
    {
     "name": "stdout",
     "output_type": "stream",
     "text": [
      "Downloaded MP3\n"
     ]
    },
    {
     "name": "stderr",
     "output_type": "stream",
     "text": [
      "770it [08:17,  1.11it/s]"
     ]
    },
    {
     "name": "stdout",
     "output_type": "stream",
     "text": [
      "Downloaded MP3\n"
     ]
    },
    {
     "name": "stderr",
     "output_type": "stream",
     "text": [
      "771it [08:18,  1.09it/s]"
     ]
    },
    {
     "name": "stdout",
     "output_type": "stream",
     "text": [
      "Downloaded MP3\n"
     ]
    },
    {
     "name": "stderr",
     "output_type": "stream",
     "text": [
      "772it [08:19,  1.08it/s]"
     ]
    },
    {
     "name": "stdout",
     "output_type": "stream",
     "text": [
      "Downloaded MP3\n"
     ]
    },
    {
     "name": "stderr",
     "output_type": "stream",
     "text": [
      "773it [08:20,  1.11it/s]"
     ]
    },
    {
     "name": "stdout",
     "output_type": "stream",
     "text": [
      "Downloaded MP3\n"
     ]
    },
    {
     "name": "stderr",
     "output_type": "stream",
     "text": [
      "774it [08:21,  1.11it/s]"
     ]
    },
    {
     "name": "stdout",
     "output_type": "stream",
     "text": [
      "Downloaded MP3\n"
     ]
    },
    {
     "name": "stderr",
     "output_type": "stream",
     "text": [
      "775it [08:21,  1.13it/s]"
     ]
    },
    {
     "name": "stdout",
     "output_type": "stream",
     "text": [
      "Downloaded MP3\n"
     ]
    },
    {
     "name": "stderr",
     "output_type": "stream",
     "text": [
      "776it [08:22,  1.10it/s]"
     ]
    },
    {
     "name": "stdout",
     "output_type": "stream",
     "text": [
      "Downloaded MP3\n"
     ]
    },
    {
     "name": "stderr",
     "output_type": "stream",
     "text": [
      "777it [08:23,  1.09it/s]"
     ]
    },
    {
     "name": "stdout",
     "output_type": "stream",
     "text": [
      "Downloaded MP3\n"
     ]
    },
    {
     "name": "stderr",
     "output_type": "stream",
     "text": [
      "778it [08:24,  1.10it/s]"
     ]
    },
    {
     "name": "stdout",
     "output_type": "stream",
     "text": [
      "Downloaded MP3\n"
     ]
    },
    {
     "name": "stderr",
     "output_type": "stream",
     "text": [
      "779it [08:25,  1.10it/s]"
     ]
    },
    {
     "name": "stdout",
     "output_type": "stream",
     "text": [
      "Downloaded MP3\n"
     ]
    },
    {
     "name": "stderr",
     "output_type": "stream",
     "text": [
      "780it [08:27,  1.07s/it]"
     ]
    },
    {
     "name": "stdout",
     "output_type": "stream",
     "text": [
      "Downloaded MP3\n"
     ]
    },
    {
     "name": "stderr",
     "output_type": "stream",
     "text": [
      "781it [08:28,  1.08s/it]"
     ]
    },
    {
     "name": "stdout",
     "output_type": "stream",
     "text": [
      "Downloaded MP3\n"
     ]
    },
    {
     "name": "stderr",
     "output_type": "stream",
     "text": [
      "782it [08:29,  1.04s/it]"
     ]
    },
    {
     "name": "stdout",
     "output_type": "stream",
     "text": [
      "Downloaded MP3\n"
     ]
    },
    {
     "name": "stderr",
     "output_type": "stream",
     "text": [
      "783it [08:29,  1.02it/s]"
     ]
    },
    {
     "name": "stdout",
     "output_type": "stream",
     "text": [
      "Downloaded MP3\n"
     ]
    },
    {
     "name": "stderr",
     "output_type": "stream",
     "text": [
      "784it [08:30,  1.05it/s]"
     ]
    },
    {
     "name": "stdout",
     "output_type": "stream",
     "text": [
      "Downloaded MP3\n"
     ]
    },
    {
     "name": "stderr",
     "output_type": "stream",
     "text": [
      "785it [08:31,  1.08it/s]"
     ]
    },
    {
     "name": "stdout",
     "output_type": "stream",
     "text": [
      "Downloaded MP3\n"
     ]
    },
    {
     "name": "stderr",
     "output_type": "stream",
     "text": [
      "786it [08:32,  1.10it/s]"
     ]
    },
    {
     "name": "stdout",
     "output_type": "stream",
     "text": [
      "Downloaded MP3\n"
     ]
    },
    {
     "name": "stderr",
     "output_type": "stream",
     "text": [
      "787it [08:33,  1.11it/s]"
     ]
    },
    {
     "name": "stdout",
     "output_type": "stream",
     "text": [
      "Downloaded MP3\n"
     ]
    },
    {
     "name": "stderr",
     "output_type": "stream",
     "text": [
      "788it [08:34,  1.11it/s]"
     ]
    },
    {
     "name": "stdout",
     "output_type": "stream",
     "text": [
      "Downloaded MP3\n"
     ]
    },
    {
     "name": "stderr",
     "output_type": "stream",
     "text": [
      "789it [08:35,  1.15it/s]"
     ]
    },
    {
     "name": "stdout",
     "output_type": "stream",
     "text": [
      "Downloaded MP3\n"
     ]
    },
    {
     "name": "stderr",
     "output_type": "stream",
     "text": [
      "790it [08:36,  1.15it/s]"
     ]
    },
    {
     "name": "stdout",
     "output_type": "stream",
     "text": [
      "Downloaded MP3\n"
     ]
    },
    {
     "name": "stderr",
     "output_type": "stream",
     "text": [
      "791it [08:36,  1.12it/s]"
     ]
    },
    {
     "name": "stdout",
     "output_type": "stream",
     "text": [
      "Downloaded MP3\n"
     ]
    },
    {
     "name": "stderr",
     "output_type": "stream",
     "text": [
      "792it [08:37,  1.12it/s]"
     ]
    },
    {
     "name": "stdout",
     "output_type": "stream",
     "text": [
      "Downloaded MP3\n"
     ]
    },
    {
     "name": "stderr",
     "output_type": "stream",
     "text": [
      "793it [08:38,  1.09it/s]"
     ]
    },
    {
     "name": "stdout",
     "output_type": "stream",
     "text": [
      "Downloaded MP3\n"
     ]
    },
    {
     "name": "stderr",
     "output_type": "stream",
     "text": [
      "794it [08:39,  1.08it/s]"
     ]
    },
    {
     "name": "stdout",
     "output_type": "stream",
     "text": [
      "Downloaded MP3\n"
     ]
    },
    {
     "name": "stderr",
     "output_type": "stream",
     "text": [
      "795it [08:40,  1.07it/s]"
     ]
    },
    {
     "name": "stdout",
     "output_type": "stream",
     "text": [
      "Downloaded MP3\n"
     ]
    },
    {
     "name": "stderr",
     "output_type": "stream",
     "text": [
      "796it [08:41,  1.02it/s]"
     ]
    },
    {
     "name": "stdout",
     "output_type": "stream",
     "text": [
      "Downloaded MP3\n"
     ]
    },
    {
     "name": "stderr",
     "output_type": "stream",
     "text": [
      "797it [08:42,  1.04it/s]"
     ]
    },
    {
     "name": "stdout",
     "output_type": "stream",
     "text": [
      "Downloaded MP3\n"
     ]
    },
    {
     "name": "stderr",
     "output_type": "stream",
     "text": [
      "798it [08:43,  1.08it/s]"
     ]
    },
    {
     "name": "stdout",
     "output_type": "stream",
     "text": [
      "Downloaded MP3\n"
     ]
    },
    {
     "name": "stderr",
     "output_type": "stream",
     "text": [
      "799it [08:44,  1.00it/s]"
     ]
    },
    {
     "name": "stdout",
     "output_type": "stream",
     "text": [
      "Downloaded MP3\n"
     ]
    },
    {
     "name": "stderr",
     "output_type": "stream",
     "text": [
      "800it [08:45,  1.06it/s]"
     ]
    },
    {
     "name": "stdout",
     "output_type": "stream",
     "text": [
      "Downloaded MP3\n"
     ]
    },
    {
     "name": "stderr",
     "output_type": "stream",
     "text": [
      "801it [08:46,  1.06it/s]"
     ]
    },
    {
     "name": "stdout",
     "output_type": "stream",
     "text": [
      "Downloaded MP3\n"
     ]
    },
    {
     "name": "stderr",
     "output_type": "stream",
     "text": [
      "802it [08:47,  1.09it/s]"
     ]
    },
    {
     "name": "stdout",
     "output_type": "stream",
     "text": [
      "Downloaded MP3\n"
     ]
    },
    {
     "name": "stderr",
     "output_type": "stream",
     "text": [
      "803it [08:48,  1.13it/s]"
     ]
    },
    {
     "name": "stdout",
     "output_type": "stream",
     "text": [
      "Downloaded MP3\n"
     ]
    },
    {
     "name": "stderr",
     "output_type": "stream",
     "text": [
      "804it [08:48,  1.16it/s]"
     ]
    },
    {
     "name": "stdout",
     "output_type": "stream",
     "text": [
      "Downloaded MP3\n"
     ]
    },
    {
     "name": "stderr",
     "output_type": "stream",
     "text": [
      "805it [08:49,  1.15it/s]"
     ]
    },
    {
     "name": "stdout",
     "output_type": "stream",
     "text": [
      "Downloaded MP3\n"
     ]
    },
    {
     "name": "stderr",
     "output_type": "stream",
     "text": [
      "806it [08:50,  1.13it/s]"
     ]
    },
    {
     "name": "stdout",
     "output_type": "stream",
     "text": [
      "Downloaded MP3\n"
     ]
    },
    {
     "name": "stderr",
     "output_type": "stream",
     "text": [
      "807it [08:51,  1.13it/s]"
     ]
    },
    {
     "name": "stdout",
     "output_type": "stream",
     "text": [
      "Downloaded MP3\n"
     ]
    },
    {
     "name": "stderr",
     "output_type": "stream",
     "text": [
      "808it [08:52,  1.16it/s]"
     ]
    },
    {
     "name": "stdout",
     "output_type": "stream",
     "text": [
      "Downloaded MP3\n"
     ]
    },
    {
     "name": "stderr",
     "output_type": "stream",
     "text": [
      "809it [08:53,  1.16it/s]"
     ]
    },
    {
     "name": "stdout",
     "output_type": "stream",
     "text": [
      "Downloaded MP3\n"
     ]
    },
    {
     "name": "stderr",
     "output_type": "stream",
     "text": [
      "810it [08:54,  1.13it/s]"
     ]
    },
    {
     "name": "stdout",
     "output_type": "stream",
     "text": [
      "Downloaded MP3\n"
     ]
    },
    {
     "name": "stderr",
     "output_type": "stream",
     "text": [
      "811it [08:55,  1.14it/s]"
     ]
    },
    {
     "name": "stdout",
     "output_type": "stream",
     "text": [
      "Downloaded MP3\n"
     ]
    },
    {
     "name": "stderr",
     "output_type": "stream",
     "text": [
      "812it [08:56,  1.13it/s]"
     ]
    },
    {
     "name": "stdout",
     "output_type": "stream",
     "text": [
      "Downloaded MP3\n"
     ]
    },
    {
     "name": "stderr",
     "output_type": "stream",
     "text": [
      "813it [08:56,  1.15it/s]"
     ]
    },
    {
     "name": "stdout",
     "output_type": "stream",
     "text": [
      "Downloaded MP3\n"
     ]
    },
    {
     "name": "stderr",
     "output_type": "stream",
     "text": [
      "814it [08:58,  1.01it/s]"
     ]
    },
    {
     "name": "stdout",
     "output_type": "stream",
     "text": [
      "Downloaded MP3\n"
     ]
    },
    {
     "name": "stderr",
     "output_type": "stream",
     "text": [
      "815it [08:58,  1.06it/s]"
     ]
    },
    {
     "name": "stdout",
     "output_type": "stream",
     "text": [
      "Downloaded MP3\n"
     ]
    },
    {
     "name": "stderr",
     "output_type": "stream",
     "text": [
      "816it [08:59,  1.09it/s]"
     ]
    },
    {
     "name": "stdout",
     "output_type": "stream",
     "text": [
      "Downloaded MP3\n"
     ]
    },
    {
     "name": "stderr",
     "output_type": "stream",
     "text": [
      "817it [09:00,  1.14it/s]"
     ]
    },
    {
     "name": "stdout",
     "output_type": "stream",
     "text": [
      "Downloaded MP3\n"
     ]
    },
    {
     "name": "stderr",
     "output_type": "stream",
     "text": [
      "818it [09:01,  1.15it/s]"
     ]
    },
    {
     "name": "stdout",
     "output_type": "stream",
     "text": [
      "Downloaded MP3\n"
     ]
    },
    {
     "name": "stderr",
     "output_type": "stream",
     "text": [
      "819it [09:02,  1.19it/s]"
     ]
    },
    {
     "name": "stdout",
     "output_type": "stream",
     "text": [
      "Downloaded MP3\n"
     ]
    },
    {
     "name": "stderr",
     "output_type": "stream",
     "text": [
      "820it [09:02,  1.23it/s]"
     ]
    },
    {
     "name": "stdout",
     "output_type": "stream",
     "text": [
      "Downloaded MP3\n"
     ]
    },
    {
     "name": "stderr",
     "output_type": "stream",
     "text": [
      "821it [09:03,  1.21it/s]"
     ]
    },
    {
     "name": "stdout",
     "output_type": "stream",
     "text": [
      "Downloaded MP3\n"
     ]
    },
    {
     "name": "stderr",
     "output_type": "stream",
     "text": [
      "822it [09:04,  1.21it/s]"
     ]
    },
    {
     "name": "stdout",
     "output_type": "stream",
     "text": [
      "Downloaded MP3\n"
     ]
    },
    {
     "name": "stderr",
     "output_type": "stream",
     "text": [
      "823it [09:05,  1.21it/s]"
     ]
    },
    {
     "name": "stdout",
     "output_type": "stream",
     "text": [
      "Downloaded MP3\n"
     ]
    },
    {
     "name": "stderr",
     "output_type": "stream",
     "text": [
      "824it [09:06,  1.23it/s]"
     ]
    },
    {
     "name": "stdout",
     "output_type": "stream",
     "text": [
      "Downloaded MP3\n"
     ]
    },
    {
     "name": "stderr",
     "output_type": "stream",
     "text": [
      "825it [09:07,  1.22it/s]"
     ]
    },
    {
     "name": "stdout",
     "output_type": "stream",
     "text": [
      "Downloaded MP3\n"
     ]
    },
    {
     "name": "stderr",
     "output_type": "stream",
     "text": [
      "826it [09:08,  1.17it/s]"
     ]
    },
    {
     "name": "stdout",
     "output_type": "stream",
     "text": [
      "Downloaded MP3\n"
     ]
    },
    {
     "name": "stderr",
     "output_type": "stream",
     "text": [
      "827it [09:08,  1.16it/s]"
     ]
    },
    {
     "name": "stdout",
     "output_type": "stream",
     "text": [
      "Downloaded MP3\n"
     ]
    },
    {
     "name": "stderr",
     "output_type": "stream",
     "text": [
      "828it [09:09,  1.13it/s]"
     ]
    },
    {
     "name": "stdout",
     "output_type": "stream",
     "text": [
      "Downloaded MP3\n"
     ]
    },
    {
     "name": "stderr",
     "output_type": "stream",
     "text": [
      "829it [09:10,  1.15it/s]"
     ]
    },
    {
     "name": "stdout",
     "output_type": "stream",
     "text": [
      "Downloaded MP3\n"
     ]
    },
    {
     "name": "stderr",
     "output_type": "stream",
     "text": [
      "830it [09:11,  1.15it/s]"
     ]
    },
    {
     "name": "stdout",
     "output_type": "stream",
     "text": [
      "Downloaded MP3\n"
     ]
    },
    {
     "name": "stderr",
     "output_type": "stream",
     "text": [
      "831it [09:12,  1.15it/s]"
     ]
    },
    {
     "name": "stdout",
     "output_type": "stream",
     "text": [
      "Downloaded MP3\n"
     ]
    },
    {
     "name": "stderr",
     "output_type": "stream",
     "text": [
      "832it [09:13,  1.13it/s]"
     ]
    },
    {
     "name": "stdout",
     "output_type": "stream",
     "text": [
      "Downloaded MP3\n"
     ]
    },
    {
     "name": "stderr",
     "output_type": "stream",
     "text": [
      "833it [09:14,  1.10it/s]"
     ]
    },
    {
     "name": "stdout",
     "output_type": "stream",
     "text": [
      "Downloaded MP3\n"
     ]
    },
    {
     "name": "stderr",
     "output_type": "stream",
     "text": [
      "834it [09:15,  1.07it/s]"
     ]
    },
    {
     "name": "stdout",
     "output_type": "stream",
     "text": [
      "Downloaded MP3\n"
     ]
    },
    {
     "name": "stderr",
     "output_type": "stream",
     "text": [
      "835it [09:16,  1.07s/it]"
     ]
    },
    {
     "name": "stdout",
     "output_type": "stream",
     "text": [
      "Downloaded MP3\n"
     ]
    },
    {
     "name": "stderr",
     "output_type": "stream",
     "text": [
      "836it [09:23,  2.93s/it]"
     ]
    },
    {
     "name": "stdout",
     "output_type": "stream",
     "text": [
      "Downloaded MP3\n"
     ]
    },
    {
     "name": "stderr",
     "output_type": "stream",
     "text": [
      "837it [09:24,  2.34s/it]"
     ]
    },
    {
     "name": "stdout",
     "output_type": "stream",
     "text": [
      "Downloaded MP3\n"
     ]
    },
    {
     "name": "stderr",
     "output_type": "stream",
     "text": [
      "838it [09:25,  1.88s/it]"
     ]
    },
    {
     "name": "stdout",
     "output_type": "stream",
     "text": [
      "Downloaded MP3\n"
     ]
    },
    {
     "name": "stderr",
     "output_type": "stream",
     "text": [
      "839it [09:26,  1.55s/it]"
     ]
    },
    {
     "name": "stdout",
     "output_type": "stream",
     "text": [
      "Downloaded MP3\n"
     ]
    },
    {
     "name": "stderr",
     "output_type": "stream",
     "text": [
      "840it [09:27,  1.35s/it]"
     ]
    },
    {
     "name": "stdout",
     "output_type": "stream",
     "text": [
      "Downloaded MP3\n"
     ]
    },
    {
     "name": "stderr",
     "output_type": "stream",
     "text": [
      "841it [09:28,  1.23s/it]"
     ]
    },
    {
     "name": "stdout",
     "output_type": "stream",
     "text": [
      "Downloaded MP3\n"
     ]
    },
    {
     "name": "stderr",
     "output_type": "stream",
     "text": [
      "842it [09:29,  1.11s/it]"
     ]
    },
    {
     "name": "stdout",
     "output_type": "stream",
     "text": [
      "Downloaded MP3\n"
     ]
    },
    {
     "name": "stderr",
     "output_type": "stream",
     "text": [
      "843it [09:30,  1.10s/it]"
     ]
    },
    {
     "name": "stdout",
     "output_type": "stream",
     "text": [
      "Downloaded MP3\n"
     ]
    },
    {
     "name": "stderr",
     "output_type": "stream",
     "text": [
      "844it [09:31,  1.07s/it]"
     ]
    },
    {
     "name": "stdout",
     "output_type": "stream",
     "text": [
      "Downloaded MP3\n"
     ]
    },
    {
     "name": "stderr",
     "output_type": "stream",
     "text": [
      "845it [09:32,  1.04s/it]"
     ]
    },
    {
     "name": "stdout",
     "output_type": "stream",
     "text": [
      "Downloaded MP3\n"
     ]
    },
    {
     "name": "stderr",
     "output_type": "stream",
     "text": [
      "846it [09:33,  1.02it/s]"
     ]
    },
    {
     "name": "stdout",
     "output_type": "stream",
     "text": [
      "Downloaded MP3\n"
     ]
    },
    {
     "name": "stderr",
     "output_type": "stream",
     "text": [
      "847it [09:34,  1.03s/it]"
     ]
    },
    {
     "name": "stdout",
     "output_type": "stream",
     "text": [
      "Downloaded MP3\n"
     ]
    },
    {
     "name": "stderr",
     "output_type": "stream",
     "text": [
      "848it [09:35,  1.02it/s]"
     ]
    },
    {
     "name": "stdout",
     "output_type": "stream",
     "text": [
      "Downloaded MP3\n"
     ]
    },
    {
     "name": "stderr",
     "output_type": "stream",
     "text": [
      "849it [09:35,  1.04it/s]"
     ]
    },
    {
     "name": "stdout",
     "output_type": "stream",
     "text": [
      "Downloaded MP3\n"
     ]
    },
    {
     "name": "stderr",
     "output_type": "stream",
     "text": [
      "850it [09:37,  1.17s/it]"
     ]
    },
    {
     "name": "stdout",
     "output_type": "stream",
     "text": [
      "Downloaded MP3\n"
     ]
    },
    {
     "name": "stderr",
     "output_type": "stream",
     "text": [
      "851it [09:38,  1.09s/it]"
     ]
    },
    {
     "name": "stdout",
     "output_type": "stream",
     "text": [
      "Downloaded MP3\n"
     ]
    },
    {
     "name": "stderr",
     "output_type": "stream",
     "text": [
      "852it [09:39,  1.04s/it]"
     ]
    },
    {
     "name": "stdout",
     "output_type": "stream",
     "text": [
      "Downloaded MP3\n"
     ]
    },
    {
     "name": "stderr",
     "output_type": "stream",
     "text": [
      "853it [09:40,  1.03it/s]"
     ]
    },
    {
     "name": "stdout",
     "output_type": "stream",
     "text": [
      "Downloaded MP3\n"
     ]
    },
    {
     "name": "stderr",
     "output_type": "stream",
     "text": [
      "854it [09:41,  1.04it/s]"
     ]
    },
    {
     "name": "stdout",
     "output_type": "stream",
     "text": [
      "Downloaded MP3\n"
     ]
    },
    {
     "name": "stderr",
     "output_type": "stream",
     "text": [
      "855it [09:42,  1.08it/s]"
     ]
    },
    {
     "name": "stdout",
     "output_type": "stream",
     "text": [
      "Downloaded MP3\n"
     ]
    },
    {
     "name": "stderr",
     "output_type": "stream",
     "text": [
      "856it [09:43,  1.05it/s]"
     ]
    },
    {
     "name": "stdout",
     "output_type": "stream",
     "text": [
      "Downloaded MP3\n"
     ]
    },
    {
     "name": "stderr",
     "output_type": "stream",
     "text": [
      "857it [09:44,  1.05it/s]"
     ]
    },
    {
     "name": "stdout",
     "output_type": "stream",
     "text": [
      "Downloaded MP3\n"
     ]
    },
    {
     "name": "stderr",
     "output_type": "stream",
     "text": [
      "858it [09:44,  1.19it/s]"
     ]
    },
    {
     "name": "stdout",
     "output_type": "stream",
     "text": [
      "Downloaded MP3\n"
     ]
    },
    {
     "name": "stderr",
     "output_type": "stream",
     "text": [
      "859it [09:45,  1.20it/s]"
     ]
    },
    {
     "name": "stdout",
     "output_type": "stream",
     "text": [
      "Downloaded MP3\n"
     ]
    },
    {
     "name": "stderr",
     "output_type": "stream",
     "text": [
      "860it [09:46,  1.17it/s]"
     ]
    },
    {
     "name": "stdout",
     "output_type": "stream",
     "text": [
      "Downloaded MP3\n"
     ]
    },
    {
     "name": "stderr",
     "output_type": "stream",
     "text": [
      "861it [09:47,  1.13it/s]"
     ]
    },
    {
     "name": "stdout",
     "output_type": "stream",
     "text": [
      "Downloaded MP3\n"
     ]
    },
    {
     "name": "stderr",
     "output_type": "stream",
     "text": [
      "862it [09:48,  1.14it/s]"
     ]
    },
    {
     "name": "stdout",
     "output_type": "stream",
     "text": [
      "Downloaded MP3\n"
     ]
    },
    {
     "name": "stderr",
     "output_type": "stream",
     "text": [
      "863it [09:49,  1.08it/s]"
     ]
    },
    {
     "name": "stdout",
     "output_type": "stream",
     "text": [
      "Downloaded MP3\n"
     ]
    },
    {
     "name": "stderr",
     "output_type": "stream",
     "text": [
      "864it [09:50,  1.11it/s]"
     ]
    },
    {
     "name": "stdout",
     "output_type": "stream",
     "text": [
      "Downloaded MP3\n"
     ]
    },
    {
     "name": "stderr",
     "output_type": "stream",
     "text": [
      "865it [09:50,  1.11it/s]"
     ]
    },
    {
     "name": "stdout",
     "output_type": "stream",
     "text": [
      "Downloaded MP3\n"
     ]
    },
    {
     "name": "stderr",
     "output_type": "stream",
     "text": [
      "866it [09:51,  1.13it/s]"
     ]
    },
    {
     "name": "stdout",
     "output_type": "stream",
     "text": [
      "Downloaded MP3\n"
     ]
    },
    {
     "name": "stderr",
     "output_type": "stream",
     "text": [
      "867it [09:52,  1.10it/s]"
     ]
    },
    {
     "name": "stdout",
     "output_type": "stream",
     "text": [
      "Downloaded MP3\n"
     ]
    },
    {
     "name": "stderr",
     "output_type": "stream",
     "text": [
      "868it [09:53,  1.12it/s]"
     ]
    },
    {
     "name": "stdout",
     "output_type": "stream",
     "text": [
      "Downloaded MP3\n"
     ]
    },
    {
     "name": "stderr",
     "output_type": "stream",
     "text": [
      "869it [09:54,  1.09it/s]"
     ]
    },
    {
     "name": "stdout",
     "output_type": "stream",
     "text": [
      "Downloaded MP3\n"
     ]
    },
    {
     "name": "stderr",
     "output_type": "stream",
     "text": [
      "870it [09:55,  1.11it/s]"
     ]
    },
    {
     "name": "stdout",
     "output_type": "stream",
     "text": [
      "Downloaded MP3\n"
     ]
    },
    {
     "name": "stderr",
     "output_type": "stream",
     "text": [
      "871it [09:56,  1.11it/s]"
     ]
    },
    {
     "name": "stdout",
     "output_type": "stream",
     "text": [
      "Downloaded MP3\n"
     ]
    },
    {
     "name": "stderr",
     "output_type": "stream",
     "text": [
      "872it [09:57,  1.13it/s]"
     ]
    },
    {
     "name": "stdout",
     "output_type": "stream",
     "text": [
      "Downloaded MP3\n"
     ]
    },
    {
     "name": "stderr",
     "output_type": "stream",
     "text": [
      "873it [09:58,  1.14it/s]"
     ]
    },
    {
     "name": "stdout",
     "output_type": "stream",
     "text": [
      "Downloaded MP3\n"
     ]
    },
    {
     "name": "stderr",
     "output_type": "stream",
     "text": [
      "874it [09:59,  1.09it/s]"
     ]
    },
    {
     "name": "stdout",
     "output_type": "stream",
     "text": [
      "Downloaded MP3\n"
     ]
    },
    {
     "name": "stderr",
     "output_type": "stream",
     "text": [
      "875it [09:59,  1.11it/s]"
     ]
    },
    {
     "name": "stdout",
     "output_type": "stream",
     "text": [
      "Downloaded MP3\n"
     ]
    },
    {
     "name": "stderr",
     "output_type": "stream",
     "text": [
      "876it [10:00,  1.12it/s]"
     ]
    },
    {
     "name": "stdout",
     "output_type": "stream",
     "text": [
      "Downloaded MP3\n"
     ]
    },
    {
     "name": "stderr",
     "output_type": "stream",
     "text": [
      "877it [10:01,  1.13it/s]"
     ]
    },
    {
     "name": "stdout",
     "output_type": "stream",
     "text": [
      "Downloaded MP3\n"
     ]
    },
    {
     "name": "stderr",
     "output_type": "stream",
     "text": [
      "878it [10:02,  1.14it/s]"
     ]
    },
    {
     "name": "stdout",
     "output_type": "stream",
     "text": [
      "Downloaded MP3\n"
     ]
    },
    {
     "name": "stderr",
     "output_type": "stream",
     "text": [
      "879it [10:03,  1.13it/s]"
     ]
    },
    {
     "name": "stdout",
     "output_type": "stream",
     "text": [
      "Downloaded MP3\n"
     ]
    },
    {
     "name": "stderr",
     "output_type": "stream",
     "text": [
      "880it [10:04,  1.15it/s]"
     ]
    },
    {
     "name": "stdout",
     "output_type": "stream",
     "text": [
      "Downloaded MP3\n"
     ]
    },
    {
     "name": "stderr",
     "output_type": "stream",
     "text": [
      "883it [10:05,  1.87it/s]"
     ]
    },
    {
     "name": "stdout",
     "output_type": "stream",
     "text": [
      "Downloaded MP3\n"
     ]
    },
    {
     "name": "stderr",
     "output_type": "stream",
     "text": [
      "884it [10:05,  1.62it/s]"
     ]
    },
    {
     "name": "stdout",
     "output_type": "stream",
     "text": [
      "Downloaded MP3\n"
     ]
    },
    {
     "name": "stderr",
     "output_type": "stream",
     "text": [
      "885it [10:06,  1.42it/s]"
     ]
    },
    {
     "name": "stdout",
     "output_type": "stream",
     "text": [
      "Downloaded MP3\n"
     ]
    },
    {
     "name": "stderr",
     "output_type": "stream",
     "text": [
      "886it [10:07,  1.34it/s]"
     ]
    },
    {
     "name": "stdout",
     "output_type": "stream",
     "text": [
      "Downloaded MP3\n"
     ]
    },
    {
     "name": "stderr",
     "output_type": "stream",
     "text": [
      "887it [10:09,  1.14it/s]"
     ]
    },
    {
     "name": "stdout",
     "output_type": "stream",
     "text": [
      "Downloaded MP3\n"
     ]
    },
    {
     "name": "stderr",
     "output_type": "stream",
     "text": [
      "888it [10:10,  1.12it/s]"
     ]
    },
    {
     "name": "stdout",
     "output_type": "stream",
     "text": [
      "Downloaded MP3\n"
     ]
    },
    {
     "name": "stderr",
     "output_type": "stream",
     "text": [
      "889it [10:10,  1.12it/s]"
     ]
    },
    {
     "name": "stdout",
     "output_type": "stream",
     "text": [
      "Downloaded MP3\n"
     ]
    },
    {
     "name": "stderr",
     "output_type": "stream",
     "text": [
      "890it [10:11,  1.16it/s]"
     ]
    },
    {
     "name": "stdout",
     "output_type": "stream",
     "text": [
      "Downloaded MP3\n"
     ]
    },
    {
     "name": "stderr",
     "output_type": "stream",
     "text": [
      "891it [10:12,  1.16it/s]"
     ]
    },
    {
     "name": "stdout",
     "output_type": "stream",
     "text": [
      "Downloaded MP3\n"
     ]
    },
    {
     "name": "stderr",
     "output_type": "stream",
     "text": [
      "892it [10:13,  1.19it/s]"
     ]
    },
    {
     "name": "stdout",
     "output_type": "stream",
     "text": [
      "Downloaded MP3\n"
     ]
    },
    {
     "name": "stderr",
     "output_type": "stream",
     "text": [
      "893it [10:14,  1.14it/s]"
     ]
    },
    {
     "name": "stdout",
     "output_type": "stream",
     "text": [
      "Downloaded MP3\n"
     ]
    },
    {
     "name": "stderr",
     "output_type": "stream",
     "text": [
      "894it [10:15,  1.13it/s]"
     ]
    },
    {
     "name": "stdout",
     "output_type": "stream",
     "text": [
      "Downloaded MP3\n"
     ]
    },
    {
     "name": "stderr",
     "output_type": "stream",
     "text": [
      "895it [10:16,  1.12it/s]"
     ]
    },
    {
     "name": "stdout",
     "output_type": "stream",
     "text": [
      "Downloaded MP3\n"
     ]
    },
    {
     "name": "stderr",
     "output_type": "stream",
     "text": [
      "896it [10:16,  1.14it/s]"
     ]
    },
    {
     "name": "stdout",
     "output_type": "stream",
     "text": [
      "Downloaded MP3\n"
     ]
    },
    {
     "name": "stderr",
     "output_type": "stream",
     "text": [
      "897it [10:17,  1.14it/s]"
     ]
    },
    {
     "name": "stdout",
     "output_type": "stream",
     "text": [
      "Downloaded MP3\n"
     ]
    },
    {
     "name": "stderr",
     "output_type": "stream",
     "text": [
      "898it [10:18,  1.13it/s]"
     ]
    },
    {
     "name": "stdout",
     "output_type": "stream",
     "text": [
      "Downloaded MP3\n"
     ]
    },
    {
     "name": "stderr",
     "output_type": "stream",
     "text": [
      "899it [10:19,  1.12it/s]"
     ]
    },
    {
     "name": "stdout",
     "output_type": "stream",
     "text": [
      "Downloaded MP3\n"
     ]
    },
    {
     "name": "stderr",
     "output_type": "stream",
     "text": [
      "900it [10:20,  1.15it/s]"
     ]
    },
    {
     "name": "stdout",
     "output_type": "stream",
     "text": [
      "Downloaded MP3\n"
     ]
    },
    {
     "name": "stderr",
     "output_type": "stream",
     "text": [
      "901it [10:21,  1.13it/s]"
     ]
    },
    {
     "name": "stdout",
     "output_type": "stream",
     "text": [
      "Downloaded MP3\n"
     ]
    },
    {
     "name": "stderr",
     "output_type": "stream",
     "text": [
      "902it [10:22,  1.11it/s]"
     ]
    },
    {
     "name": "stdout",
     "output_type": "stream",
     "text": [
      "Downloaded MP3\n"
     ]
    },
    {
     "name": "stderr",
     "output_type": "stream",
     "text": [
      "903it [10:23,  1.13it/s]"
     ]
    },
    {
     "name": "stdout",
     "output_type": "stream",
     "text": [
      "Downloaded MP3\n"
     ]
    },
    {
     "name": "stderr",
     "output_type": "stream",
     "text": [
      "904it [10:24,  1.10it/s]"
     ]
    },
    {
     "name": "stdout",
     "output_type": "stream",
     "text": [
      "Downloaded MP3\n"
     ]
    },
    {
     "name": "stderr",
     "output_type": "stream",
     "text": [
      "905it [10:25,  1.17s/it]"
     ]
    },
    {
     "name": "stdout",
     "output_type": "stream",
     "text": [
      "Downloaded MP3\n"
     ]
    },
    {
     "name": "stderr",
     "output_type": "stream",
     "text": [
      "906it [10:26,  1.09s/it]"
     ]
    },
    {
     "name": "stdout",
     "output_type": "stream",
     "text": [
      "Downloaded MP3\n"
     ]
    },
    {
     "name": "stderr",
     "output_type": "stream",
     "text": [
      "907it [10:27,  1.03s/it]"
     ]
    },
    {
     "name": "stdout",
     "output_type": "stream",
     "text": [
      "Downloaded MP3\n"
     ]
    },
    {
     "name": "stderr",
     "output_type": "stream",
     "text": [
      "908it [10:28,  1.04it/s]"
     ]
    },
    {
     "name": "stdout",
     "output_type": "stream",
     "text": [
      "Downloaded MP3\n"
     ]
    },
    {
     "name": "stderr",
     "output_type": "stream",
     "text": [
      "909it [10:29,  1.08it/s]"
     ]
    },
    {
     "name": "stdout",
     "output_type": "stream",
     "text": [
      "Downloaded MP3\n"
     ]
    },
    {
     "name": "stderr",
     "output_type": "stream",
     "text": [
      "910it [10:30,  1.06it/s]"
     ]
    },
    {
     "name": "stdout",
     "output_type": "stream",
     "text": [
      "Downloaded MP3\n"
     ]
    },
    {
     "name": "stderr",
     "output_type": "stream",
     "text": [
      "911it [10:31,  1.08it/s]"
     ]
    },
    {
     "name": "stdout",
     "output_type": "stream",
     "text": [
      "Downloaded MP3\n"
     ]
    },
    {
     "name": "stderr",
     "output_type": "stream",
     "text": [
      "912it [10:32,  1.09it/s]"
     ]
    },
    {
     "name": "stdout",
     "output_type": "stream",
     "text": [
      "Downloaded MP3\n"
     ]
    },
    {
     "name": "stderr",
     "output_type": "stream",
     "text": [
      "913it [10:33,  1.07it/s]"
     ]
    },
    {
     "name": "stdout",
     "output_type": "stream",
     "text": [
      "Downloaded MP3\n"
     ]
    },
    {
     "name": "stderr",
     "output_type": "stream",
     "text": [
      "914it [10:34,  1.09it/s]"
     ]
    },
    {
     "name": "stdout",
     "output_type": "stream",
     "text": [
      "Downloaded MP3\n"
     ]
    },
    {
     "name": "stderr",
     "output_type": "stream",
     "text": [
      "915it [10:34,  1.11it/s]"
     ]
    },
    {
     "name": "stdout",
     "output_type": "stream",
     "text": [
      "Downloaded MP3\n"
     ]
    },
    {
     "name": "stderr",
     "output_type": "stream",
     "text": [
      "916it [10:35,  1.12it/s]"
     ]
    },
    {
     "name": "stdout",
     "output_type": "stream",
     "text": [
      "Downloaded MP3\n"
     ]
    },
    {
     "name": "stderr",
     "output_type": "stream",
     "text": [
      "917it [10:36,  1.12it/s]"
     ]
    },
    {
     "name": "stdout",
     "output_type": "stream",
     "text": [
      "Downloaded MP3\n"
     ]
    },
    {
     "name": "stderr",
     "output_type": "stream",
     "text": [
      "918it [10:37,  1.11it/s]"
     ]
    },
    {
     "name": "stdout",
     "output_type": "stream",
     "text": [
      "Downloaded MP3\n"
     ]
    },
    {
     "name": "stderr",
     "output_type": "stream",
     "text": [
      "919it [10:38,  1.09it/s]"
     ]
    },
    {
     "name": "stdout",
     "output_type": "stream",
     "text": [
      "Downloaded MP3\n"
     ]
    },
    {
     "name": "stderr",
     "output_type": "stream",
     "text": [
      "920it [10:39,  1.07it/s]"
     ]
    },
    {
     "name": "stdout",
     "output_type": "stream",
     "text": [
      "Downloaded MP3\n"
     ]
    },
    {
     "name": "stderr",
     "output_type": "stream",
     "text": [
      "921it [10:40,  1.11it/s]"
     ]
    },
    {
     "name": "stdout",
     "output_type": "stream",
     "text": [
      "Downloaded MP3\n"
     ]
    },
    {
     "name": "stderr",
     "output_type": "stream",
     "text": [
      "922it [10:41,  1.13it/s]"
     ]
    },
    {
     "name": "stdout",
     "output_type": "stream",
     "text": [
      "Downloaded MP3\n"
     ]
    },
    {
     "name": "stderr",
     "output_type": "stream",
     "text": [
      "923it [10:41,  1.17it/s]"
     ]
    },
    {
     "name": "stdout",
     "output_type": "stream",
     "text": [
      "Downloaded MP3\n"
     ]
    },
    {
     "name": "stderr",
     "output_type": "stream",
     "text": [
      "924it [10:42,  1.19it/s]"
     ]
    },
    {
     "name": "stdout",
     "output_type": "stream",
     "text": [
      "Downloaded MP3\n"
     ]
    },
    {
     "name": "stderr",
     "output_type": "stream",
     "text": [
      "925it [10:43,  1.16it/s]"
     ]
    },
    {
     "name": "stdout",
     "output_type": "stream",
     "text": [
      "Downloaded MP3\n"
     ]
    },
    {
     "name": "stderr",
     "output_type": "stream",
     "text": [
      "926it [10:44,  1.14it/s]"
     ]
    },
    {
     "name": "stdout",
     "output_type": "stream",
     "text": [
      "Downloaded MP3\n"
     ]
    },
    {
     "name": "stderr",
     "output_type": "stream",
     "text": [
      "927it [10:45,  1.12it/s]"
     ]
    },
    {
     "name": "stdout",
     "output_type": "stream",
     "text": [
      "Downloaded MP3\n"
     ]
    },
    {
     "name": "stderr",
     "output_type": "stream",
     "text": [
      "928it [10:46,  1.12it/s]"
     ]
    },
    {
     "name": "stdout",
     "output_type": "stream",
     "text": [
      "Downloaded MP3\n"
     ]
    },
    {
     "name": "stderr",
     "output_type": "stream",
     "text": [
      "929it [10:47,  1.15it/s]"
     ]
    },
    {
     "name": "stdout",
     "output_type": "stream",
     "text": [
      "Downloaded MP3\n"
     ]
    },
    {
     "name": "stderr",
     "output_type": "stream",
     "text": [
      "930it [10:48,  1.15it/s]"
     ]
    },
    {
     "name": "stdout",
     "output_type": "stream",
     "text": [
      "Downloaded MP3\n"
     ]
    },
    {
     "name": "stderr",
     "output_type": "stream",
     "text": [
      "931it [10:48,  1.14it/s]"
     ]
    },
    {
     "name": "stdout",
     "output_type": "stream",
     "text": [
      "Downloaded MP3\n"
     ]
    },
    {
     "name": "stderr",
     "output_type": "stream",
     "text": [
      "932it [10:49,  1.10it/s]"
     ]
    },
    {
     "name": "stdout",
     "output_type": "stream",
     "text": [
      "Downloaded MP3\n"
     ]
    },
    {
     "name": "stderr",
     "output_type": "stream",
     "text": [
      "933it [10:50,  1.09it/s]"
     ]
    },
    {
     "name": "stdout",
     "output_type": "stream",
     "text": [
      "Downloaded MP3\n"
     ]
    },
    {
     "name": "stderr",
     "output_type": "stream",
     "text": [
      "934it [10:51,  1.10it/s]"
     ]
    },
    {
     "name": "stdout",
     "output_type": "stream",
     "text": [
      "Downloaded MP3\n"
     ]
    },
    {
     "name": "stderr",
     "output_type": "stream",
     "text": [
      "935it [10:52,  1.07it/s]"
     ]
    },
    {
     "name": "stdout",
     "output_type": "stream",
     "text": [
      "Downloaded MP3\n"
     ]
    },
    {
     "name": "stderr",
     "output_type": "stream",
     "text": [
      "936it [10:53,  1.13it/s]"
     ]
    },
    {
     "name": "stdout",
     "output_type": "stream",
     "text": [
      "Downloaded MP3\n"
     ]
    },
    {
     "name": "stderr",
     "output_type": "stream",
     "text": [
      "937it [10:54,  1.15it/s]"
     ]
    },
    {
     "name": "stdout",
     "output_type": "stream",
     "text": [
      "Downloaded MP3\n"
     ]
    },
    {
     "name": "stderr",
     "output_type": "stream",
     "text": [
      "938it [10:55,  1.14it/s]"
     ]
    },
    {
     "name": "stdout",
     "output_type": "stream",
     "text": [
      "Downloaded MP3\n"
     ]
    },
    {
     "name": "stderr",
     "output_type": "stream",
     "text": [
      "939it [10:56,  1.12it/s]"
     ]
    },
    {
     "name": "stdout",
     "output_type": "stream",
     "text": [
      "Downloaded MP3\n"
     ]
    },
    {
     "name": "stderr",
     "output_type": "stream",
     "text": [
      "940it [10:57,  1.12it/s]"
     ]
    },
    {
     "name": "stdout",
     "output_type": "stream",
     "text": [
      "Downloaded MP3\n"
     ]
    },
    {
     "name": "stderr",
     "output_type": "stream",
     "text": [
      "941it [10:58,  1.10it/s]"
     ]
    },
    {
     "name": "stdout",
     "output_type": "stream",
     "text": [
      "Downloaded MP3\n"
     ]
    },
    {
     "name": "stderr",
     "output_type": "stream",
     "text": [
      "942it [10:59,  1.08it/s]"
     ]
    },
    {
     "name": "stdout",
     "output_type": "stream",
     "text": [
      "Downloaded MP3\n"
     ]
    },
    {
     "name": "stderr",
     "output_type": "stream",
     "text": [
      "943it [10:59,  1.11it/s]"
     ]
    },
    {
     "name": "stdout",
     "output_type": "stream",
     "text": [
      "Downloaded MP3\n"
     ]
    },
    {
     "name": "stderr",
     "output_type": "stream",
     "text": [
      "944it [11:00,  1.05it/s]"
     ]
    },
    {
     "name": "stdout",
     "output_type": "stream",
     "text": [
      "Downloaded MP3\n"
     ]
    },
    {
     "name": "stderr",
     "output_type": "stream",
     "text": [
      "945it [11:01,  1.10it/s]"
     ]
    },
    {
     "name": "stdout",
     "output_type": "stream",
     "text": [
      "Downloaded MP3\n"
     ]
    },
    {
     "name": "stderr",
     "output_type": "stream",
     "text": [
      "946it [11:02,  1.12it/s]"
     ]
    },
    {
     "name": "stdout",
     "output_type": "stream",
     "text": [
      "Downloaded MP3\n"
     ]
    },
    {
     "name": "stderr",
     "output_type": "stream",
     "text": [
      "947it [11:03,  1.01s/it]"
     ]
    },
    {
     "name": "stdout",
     "output_type": "stream",
     "text": [
      "Downloaded MP3\n"
     ]
    },
    {
     "name": "stderr",
     "output_type": "stream",
     "text": [
      "948it [11:04,  1.01s/it]"
     ]
    },
    {
     "name": "stdout",
     "output_type": "stream",
     "text": [
      "Downloaded MP3\n"
     ]
    },
    {
     "name": "stderr",
     "output_type": "stream",
     "text": [
      "949it [11:05,  1.03it/s]"
     ]
    },
    {
     "name": "stdout",
     "output_type": "stream",
     "text": [
      "Downloaded MP3\n"
     ]
    },
    {
     "name": "stderr",
     "output_type": "stream",
     "text": [
      "950it [11:06,  1.04it/s]"
     ]
    },
    {
     "name": "stdout",
     "output_type": "stream",
     "text": [
      "Downloaded MP3\n"
     ]
    },
    {
     "name": "stderr",
     "output_type": "stream",
     "text": [
      "951it [11:11,  1.99s/it]"
     ]
    },
    {
     "name": "stdout",
     "output_type": "stream",
     "text": [
      "Downloaded MP3\n"
     ]
    },
    {
     "name": "stderr",
     "output_type": "stream",
     "text": [
      "952it [11:11,  1.64s/it]"
     ]
    },
    {
     "name": "stdout",
     "output_type": "stream",
     "text": [
      "Downloaded MP3\n"
     ]
    },
    {
     "name": "stderr",
     "output_type": "stream",
     "text": [
      "953it [11:12,  1.42s/it]"
     ]
    },
    {
     "name": "stdout",
     "output_type": "stream",
     "text": [
      "Downloaded MP3\n"
     ]
    },
    {
     "name": "stderr",
     "output_type": "stream",
     "text": [
      "954it [11:13,  1.26s/it]"
     ]
    },
    {
     "name": "stdout",
     "output_type": "stream",
     "text": [
      "Downloaded MP3\n"
     ]
    },
    {
     "name": "stderr",
     "output_type": "stream",
     "text": [
      "955it [11:14,  1.16s/it]"
     ]
    },
    {
     "name": "stdout",
     "output_type": "stream",
     "text": [
      "Downloaded MP3\n"
     ]
    },
    {
     "name": "stderr",
     "output_type": "stream",
     "text": [
      "956it [11:15,  1.11s/it]"
     ]
    },
    {
     "name": "stdout",
     "output_type": "stream",
     "text": [
      "Downloaded MP3\n"
     ]
    },
    {
     "name": "stderr",
     "output_type": "stream",
     "text": [
      "957it [11:16,  1.04s/it]"
     ]
    },
    {
     "name": "stdout",
     "output_type": "stream",
     "text": [
      "Downloaded MP3\n"
     ]
    },
    {
     "name": "stderr",
     "output_type": "stream",
     "text": [
      "958it [11:17,  1.00it/s]"
     ]
    },
    {
     "name": "stdout",
     "output_type": "stream",
     "text": [
      "Downloaded MP3\n"
     ]
    },
    {
     "name": "stderr",
     "output_type": "stream",
     "text": [
      "959it [11:18,  1.02it/s]"
     ]
    },
    {
     "name": "stdout",
     "output_type": "stream",
     "text": [
      "Downloaded MP3\n"
     ]
    },
    {
     "name": "stderr",
     "output_type": "stream",
     "text": [
      "960it [11:19,  1.02it/s]"
     ]
    },
    {
     "name": "stdout",
     "output_type": "stream",
     "text": [
      "Downloaded MP3\n"
     ]
    },
    {
     "name": "stderr",
     "output_type": "stream",
     "text": [
      "961it [11:20,  1.05it/s]"
     ]
    },
    {
     "name": "stdout",
     "output_type": "stream",
     "text": [
      "Downloaded MP3\n"
     ]
    },
    {
     "name": "stderr",
     "output_type": "stream",
     "text": [
      "962it [11:21,  1.04it/s]"
     ]
    },
    {
     "name": "stdout",
     "output_type": "stream",
     "text": [
      "Downloaded MP3\n"
     ]
    },
    {
     "name": "stderr",
     "output_type": "stream",
     "text": [
      "963it [11:22,  1.04it/s]"
     ]
    },
    {
     "name": "stdout",
     "output_type": "stream",
     "text": [
      "Downloaded MP3\n"
     ]
    },
    {
     "name": "stderr",
     "output_type": "stream",
     "text": [
      "964it [11:23,  1.08it/s]"
     ]
    },
    {
     "name": "stdout",
     "output_type": "stream",
     "text": [
      "Downloaded MP3\n"
     ]
    },
    {
     "name": "stderr",
     "output_type": "stream",
     "text": [
      "965it [11:23,  1.07it/s]"
     ]
    },
    {
     "name": "stdout",
     "output_type": "stream",
     "text": [
      "Downloaded MP3\n"
     ]
    },
    {
     "name": "stderr",
     "output_type": "stream",
     "text": [
      "966it [11:24,  1.08it/s]"
     ]
    },
    {
     "name": "stdout",
     "output_type": "stream",
     "text": [
      "Downloaded MP3\n"
     ]
    },
    {
     "name": "stderr",
     "output_type": "stream",
     "text": [
      "967it [11:25,  1.12it/s]"
     ]
    },
    {
     "name": "stdout",
     "output_type": "stream",
     "text": [
      "Downloaded MP3\n"
     ]
    },
    {
     "name": "stderr",
     "output_type": "stream",
     "text": [
      "968it [11:26,  1.13it/s]"
     ]
    },
    {
     "name": "stdout",
     "output_type": "stream",
     "text": [
      "Downloaded MP3\n"
     ]
    },
    {
     "name": "stderr",
     "output_type": "stream",
     "text": [
      "969it [11:27,  1.14it/s]"
     ]
    },
    {
     "name": "stdout",
     "output_type": "stream",
     "text": [
      "Downloaded MP3\n"
     ]
    },
    {
     "name": "stderr",
     "output_type": "stream",
     "text": [
      "970it [11:28,  1.11it/s]"
     ]
    },
    {
     "name": "stdout",
     "output_type": "stream",
     "text": [
      "Downloaded MP3\n"
     ]
    },
    {
     "name": "stderr",
     "output_type": "stream",
     "text": [
      "971it [11:29,  1.07it/s]"
     ]
    },
    {
     "name": "stdout",
     "output_type": "stream",
     "text": [
      "Downloaded MP3\n"
     ]
    },
    {
     "name": "stderr",
     "output_type": "stream",
     "text": [
      "972it [11:30,  1.08it/s]"
     ]
    },
    {
     "name": "stdout",
     "output_type": "stream",
     "text": [
      "Downloaded MP3\n"
     ]
    },
    {
     "name": "stderr",
     "output_type": "stream",
     "text": [
      "973it [11:31,  1.02s/it]"
     ]
    },
    {
     "name": "stdout",
     "output_type": "stream",
     "text": [
      "Downloaded MP3\n"
     ]
    },
    {
     "name": "stderr",
     "output_type": "stream",
     "text": [
      "974it [11:32,  1.02s/it]"
     ]
    },
    {
     "name": "stdout",
     "output_type": "stream",
     "text": [
      "Downloaded MP3\n"
     ]
    },
    {
     "name": "stderr",
     "output_type": "stream",
     "text": [
      "975it [11:33,  1.06it/s]"
     ]
    },
    {
     "name": "stdout",
     "output_type": "stream",
     "text": [
      "Downloaded MP3\n"
     ]
    },
    {
     "name": "stderr",
     "output_type": "stream",
     "text": [
      "976it [11:34,  1.11it/s]"
     ]
    },
    {
     "name": "stdout",
     "output_type": "stream",
     "text": [
      "Downloaded MP3\n"
     ]
    },
    {
     "name": "stderr",
     "output_type": "stream",
     "text": [
      "977it [11:35,  1.10it/s]"
     ]
    },
    {
     "name": "stdout",
     "output_type": "stream",
     "text": [
      "Downloaded MP3\n"
     ]
    },
    {
     "name": "stderr",
     "output_type": "stream",
     "text": [
      "978it [11:36,  1.01it/s]"
     ]
    },
    {
     "name": "stdout",
     "output_type": "stream",
     "text": [
      "Downloaded MP3\n"
     ]
    },
    {
     "name": "stderr",
     "output_type": "stream",
     "text": [
      "979it [11:37,  1.04it/s]"
     ]
    },
    {
     "name": "stdout",
     "output_type": "stream",
     "text": [
      "Downloaded MP3\n"
     ]
    },
    {
     "name": "stderr",
     "output_type": "stream",
     "text": [
      "980it [11:38,  1.05it/s]"
     ]
    },
    {
     "name": "stdout",
     "output_type": "stream",
     "text": [
      "Downloaded MP3\n"
     ]
    },
    {
     "name": "stderr",
     "output_type": "stream",
     "text": [
      "981it [11:39,  1.06it/s]"
     ]
    },
    {
     "name": "stdout",
     "output_type": "stream",
     "text": [
      "Downloaded MP3\n"
     ]
    },
    {
     "name": "stderr",
     "output_type": "stream",
     "text": [
      "982it [11:39,  1.08it/s]"
     ]
    },
    {
     "name": "stdout",
     "output_type": "stream",
     "text": [
      "Downloaded MP3\n"
     ]
    },
    {
     "name": "stderr",
     "output_type": "stream",
     "text": [
      "983it [11:40,  1.13it/s]"
     ]
    },
    {
     "name": "stdout",
     "output_type": "stream",
     "text": [
      "Downloaded MP3\n"
     ]
    },
    {
     "name": "stderr",
     "output_type": "stream",
     "text": [
      "984it [11:41,  1.11it/s]"
     ]
    },
    {
     "name": "stdout",
     "output_type": "stream",
     "text": [
      "Downloaded MP3\n"
     ]
    },
    {
     "name": "stderr",
     "output_type": "stream",
     "text": [
      "985it [11:42,  1.11it/s]"
     ]
    },
    {
     "name": "stdout",
     "output_type": "stream",
     "text": [
      "Downloaded MP3\n"
     ]
    },
    {
     "name": "stderr",
     "output_type": "stream",
     "text": [
      "986it [11:43,  1.12it/s]"
     ]
    },
    {
     "name": "stdout",
     "output_type": "stream",
     "text": [
      "Downloaded MP3\n"
     ]
    },
    {
     "name": "stderr",
     "output_type": "stream",
     "text": [
      "987it [11:44,  1.15it/s]"
     ]
    },
    {
     "name": "stdout",
     "output_type": "stream",
     "text": [
      "Downloaded MP3\n"
     ]
    },
    {
     "name": "stderr",
     "output_type": "stream",
     "text": [
      "988it [11:45,  1.08it/s]"
     ]
    },
    {
     "name": "stdout",
     "output_type": "stream",
     "text": [
      "Downloaded MP3\n"
     ]
    },
    {
     "name": "stderr",
     "output_type": "stream",
     "text": [
      "989it [11:46,  1.08it/s]"
     ]
    },
    {
     "name": "stdout",
     "output_type": "stream",
     "text": [
      "Downloaded MP3\n"
     ]
    },
    {
     "name": "stderr",
     "output_type": "stream",
     "text": [
      "990it [11:47,  1.11it/s]"
     ]
    },
    {
     "name": "stdout",
     "output_type": "stream",
     "text": [
      "Downloaded MP3\n"
     ]
    },
    {
     "name": "stderr",
     "output_type": "stream",
     "text": [
      "991it [11:47,  1.10it/s]"
     ]
    },
    {
     "name": "stdout",
     "output_type": "stream",
     "text": [
      "Downloaded MP3\n"
     ]
    },
    {
     "name": "stderr",
     "output_type": "stream",
     "text": [
      "992it [11:48,  1.09it/s]"
     ]
    },
    {
     "name": "stdout",
     "output_type": "stream",
     "text": [
      "Downloaded MP3\n"
     ]
    },
    {
     "name": "stderr",
     "output_type": "stream",
     "text": [
      "993it [11:49,  1.12it/s]"
     ]
    },
    {
     "name": "stdout",
     "output_type": "stream",
     "text": [
      "Downloaded MP3\n"
     ]
    },
    {
     "name": "stderr",
     "output_type": "stream",
     "text": [
      "994it [11:50,  1.15it/s]"
     ]
    },
    {
     "name": "stdout",
     "output_type": "stream",
     "text": [
      "Downloaded MP3\n"
     ]
    },
    {
     "name": "stderr",
     "output_type": "stream",
     "text": [
      "995it [11:51,  1.14it/s]"
     ]
    },
    {
     "name": "stdout",
     "output_type": "stream",
     "text": [
      "Downloaded MP3\n"
     ]
    },
    {
     "name": "stderr",
     "output_type": "stream",
     "text": [
      "996it [11:52,  1.14it/s]"
     ]
    },
    {
     "name": "stdout",
     "output_type": "stream",
     "text": [
      "Downloaded MP3\n"
     ]
    },
    {
     "name": "stderr",
     "output_type": "stream",
     "text": [
      "997it [11:53,  1.10it/s]"
     ]
    },
    {
     "name": "stdout",
     "output_type": "stream",
     "text": [
      "Downloaded MP3\n"
     ]
    },
    {
     "name": "stderr",
     "output_type": "stream",
     "text": [
      "998it [11:54,  1.12it/s]"
     ]
    },
    {
     "name": "stdout",
     "output_type": "stream",
     "text": [
      "Downloaded MP3\n"
     ]
    },
    {
     "name": "stderr",
     "output_type": "stream",
     "text": [
      "999it [11:55,  1.10it/s]"
     ]
    },
    {
     "name": "stdout",
     "output_type": "stream",
     "text": [
      "Downloaded MP3\n"
     ]
    },
    {
     "name": "stderr",
     "output_type": "stream",
     "text": [
      "1000it [11:56,  1.08it/s]"
     ]
    },
    {
     "name": "stdout",
     "output_type": "stream",
     "text": [
      "Downloaded MP3\n"
     ]
    },
    {
     "name": "stderr",
     "output_type": "stream",
     "text": [
      "1001it [12:04,  3.26s/it]"
     ]
    },
    {
     "name": "stdout",
     "output_type": "stream",
     "text": [
      "Downloaded MP3\n"
     ]
    },
    {
     "name": "stderr",
     "output_type": "stream",
     "text": [
      "1002it [12:05,  2.55s/it]"
     ]
    },
    {
     "name": "stdout",
     "output_type": "stream",
     "text": [
      "Downloaded MP3\n"
     ]
    },
    {
     "name": "stderr",
     "output_type": "stream",
     "text": [
      "1003it [12:07,  2.20s/it]"
     ]
    },
    {
     "name": "stdout",
     "output_type": "stream",
     "text": [
      "Downloaded MP3\n"
     ]
    },
    {
     "name": "stderr",
     "output_type": "stream",
     "text": [
      "1004it [12:07,  1.82s/it]"
     ]
    },
    {
     "name": "stdout",
     "output_type": "stream",
     "text": [
      "Downloaded MP3\n"
     ]
    },
    {
     "name": "stderr",
     "output_type": "stream",
     "text": [
      "1005it [12:08,  1.54s/it]"
     ]
    },
    {
     "name": "stdout",
     "output_type": "stream",
     "text": [
      "Downloaded MP3\n"
     ]
    },
    {
     "name": "stderr",
     "output_type": "stream",
     "text": [
      "1006it [12:09,  1.33s/it]"
     ]
    },
    {
     "name": "stdout",
     "output_type": "stream",
     "text": [
      "Downloaded MP3\n"
     ]
    },
    {
     "name": "stderr",
     "output_type": "stream",
     "text": [
      "1007it [12:10,  1.21s/it]"
     ]
    },
    {
     "name": "stdout",
     "output_type": "stream",
     "text": [
      "Downloaded MP3\n"
     ]
    },
    {
     "name": "stderr",
     "output_type": "stream",
     "text": [
      "1008it [12:11,  1.14s/it]"
     ]
    },
    {
     "name": "stdout",
     "output_type": "stream",
     "text": [
      "Downloaded MP3\n"
     ]
    },
    {
     "name": "stderr",
     "output_type": "stream",
     "text": [
      "1009it [12:12,  1.05s/it]"
     ]
    },
    {
     "name": "stdout",
     "output_type": "stream",
     "text": [
      "Downloaded MP3\n"
     ]
    },
    {
     "name": "stderr",
     "output_type": "stream",
     "text": [
      "1010it [12:13,  1.01s/it]"
     ]
    },
    {
     "name": "stdout",
     "output_type": "stream",
     "text": [
      "Downloaded MP3\n"
     ]
    },
    {
     "name": "stderr",
     "output_type": "stream",
     "text": [
      "1011it [12:14,  1.00s/it]"
     ]
    },
    {
     "name": "stdout",
     "output_type": "stream",
     "text": [
      "Downloaded MP3\n"
     ]
    },
    {
     "name": "stderr",
     "output_type": "stream",
     "text": [
      "1012it [12:15,  1.04it/s]"
     ]
    },
    {
     "name": "stdout",
     "output_type": "stream",
     "text": [
      "Downloaded MP3\n"
     ]
    },
    {
     "name": "stderr",
     "output_type": "stream",
     "text": [
      "1013it [12:16,  1.07it/s]"
     ]
    },
    {
     "name": "stdout",
     "output_type": "stream",
     "text": [
      "Downloaded MP3\n"
     ]
    },
    {
     "name": "stderr",
     "output_type": "stream",
     "text": [
      "1014it [12:16,  1.07it/s]"
     ]
    },
    {
     "name": "stdout",
     "output_type": "stream",
     "text": [
      "Downloaded MP3\n"
     ]
    },
    {
     "name": "stderr",
     "output_type": "stream",
     "text": [
      "1015it [12:17,  1.10it/s]"
     ]
    },
    {
     "name": "stdout",
     "output_type": "stream",
     "text": [
      "Downloaded MP3\n"
     ]
    },
    {
     "name": "stderr",
     "output_type": "stream",
     "text": [
      "1016it [12:18,  1.13it/s]"
     ]
    },
    {
     "name": "stdout",
     "output_type": "stream",
     "text": [
      "Downloaded MP3\n"
     ]
    },
    {
     "name": "stderr",
     "output_type": "stream",
     "text": [
      "1017it [12:19,  1.15it/s]"
     ]
    },
    {
     "name": "stdout",
     "output_type": "stream",
     "text": [
      "Downloaded MP3\n"
     ]
    },
    {
     "name": "stderr",
     "output_type": "stream",
     "text": [
      "1018it [12:20,  1.08it/s]"
     ]
    },
    {
     "name": "stdout",
     "output_type": "stream",
     "text": [
      "Downloaded MP3\n"
     ]
    },
    {
     "name": "stderr",
     "output_type": "stream",
     "text": [
      "1019it [12:21,  1.07it/s]"
     ]
    },
    {
     "name": "stdout",
     "output_type": "stream",
     "text": [
      "Downloaded MP3\n"
     ]
    },
    {
     "name": "stderr",
     "output_type": "stream",
     "text": [
      "1020it [12:22,  1.10it/s]"
     ]
    },
    {
     "name": "stdout",
     "output_type": "stream",
     "text": [
      "Downloaded MP3\n"
     ]
    },
    {
     "name": "stderr",
     "output_type": "stream",
     "text": [
      "1021it [12:23,  1.09it/s]"
     ]
    },
    {
     "name": "stdout",
     "output_type": "stream",
     "text": [
      "Downloaded MP3\n"
     ]
    },
    {
     "name": "stderr",
     "output_type": "stream",
     "text": [
      "1022it [12:24,  1.09it/s]"
     ]
    },
    {
     "name": "stdout",
     "output_type": "stream",
     "text": [
      "Downloaded MP3\n"
     ]
    },
    {
     "name": "stderr",
     "output_type": "stream",
     "text": [
      "1023it [12:25,  1.06it/s]"
     ]
    },
    {
     "name": "stdout",
     "output_type": "stream",
     "text": [
      "Downloaded MP3\n"
     ]
    },
    {
     "name": "stderr",
     "output_type": "stream",
     "text": [
      "1024it [12:26,  1.06it/s]"
     ]
    },
    {
     "name": "stdout",
     "output_type": "stream",
     "text": [
      "Downloaded MP3\n"
     ]
    },
    {
     "name": "stderr",
     "output_type": "stream",
     "text": [
      "1025it [12:27,  1.02it/s]"
     ]
    },
    {
     "name": "stdout",
     "output_type": "stream",
     "text": [
      "Downloaded MP3\n"
     ]
    },
    {
     "name": "stderr",
     "output_type": "stream",
     "text": [
      "1026it [12:28,  1.03it/s]"
     ]
    },
    {
     "name": "stdout",
     "output_type": "stream",
     "text": [
      "Downloaded MP3\n"
     ]
    },
    {
     "name": "stderr",
     "output_type": "stream",
     "text": [
      "1027it [12:29,  1.08it/s]"
     ]
    },
    {
     "name": "stdout",
     "output_type": "stream",
     "text": [
      "Downloaded MP3\n"
     ]
    },
    {
     "name": "stderr",
     "output_type": "stream",
     "text": [
      "1028it [12:29,  1.09it/s]"
     ]
    },
    {
     "name": "stdout",
     "output_type": "stream",
     "text": [
      "Downloaded MP3\n"
     ]
    },
    {
     "name": "stderr",
     "output_type": "stream",
     "text": [
      "1029it [12:30,  1.09it/s]"
     ]
    },
    {
     "name": "stdout",
     "output_type": "stream",
     "text": [
      "Downloaded MP3\n"
     ]
    },
    {
     "name": "stderr",
     "output_type": "stream",
     "text": [
      "1030it [12:31,  1.08it/s]"
     ]
    },
    {
     "name": "stdout",
     "output_type": "stream",
     "text": [
      "Downloaded MP3\n"
     ]
    },
    {
     "name": "stderr",
     "output_type": "stream",
     "text": [
      "1031it [12:32,  1.08it/s]"
     ]
    },
    {
     "name": "stdout",
     "output_type": "stream",
     "text": [
      "Downloaded MP3\n"
     ]
    },
    {
     "name": "stderr",
     "output_type": "stream",
     "text": [
      "1032it [12:33,  1.07it/s]"
     ]
    },
    {
     "name": "stdout",
     "output_type": "stream",
     "text": [
      "Downloaded MP3\n"
     ]
    },
    {
     "name": "stderr",
     "output_type": "stream",
     "text": [
      "1033it [12:34,  1.08it/s]"
     ]
    },
    {
     "name": "stdout",
     "output_type": "stream",
     "text": [
      "Downloaded MP3\n"
     ]
    },
    {
     "name": "stderr",
     "output_type": "stream",
     "text": [
      "1034it [12:35,  1.10it/s]"
     ]
    },
    {
     "name": "stdout",
     "output_type": "stream",
     "text": [
      "Downloaded MP3\n"
     ]
    },
    {
     "name": "stderr",
     "output_type": "stream",
     "text": [
      "1035it [12:36,  1.11it/s]"
     ]
    },
    {
     "name": "stdout",
     "output_type": "stream",
     "text": [
      "Downloaded MP3\n"
     ]
    },
    {
     "name": "stderr",
     "output_type": "stream",
     "text": [
      "1036it [12:37,  1.09it/s]"
     ]
    },
    {
     "name": "stdout",
     "output_type": "stream",
     "text": [
      "Downloaded MP3\n"
     ]
    },
    {
     "name": "stderr",
     "output_type": "stream",
     "text": [
      "1037it [12:38,  1.08it/s]"
     ]
    },
    {
     "name": "stdout",
     "output_type": "stream",
     "text": [
      "Downloaded MP3\n"
     ]
    },
    {
     "name": "stderr",
     "output_type": "stream",
     "text": [
      "1038it [12:39,  1.13it/s]"
     ]
    },
    {
     "name": "stdout",
     "output_type": "stream",
     "text": [
      "Downloaded MP3\n"
     ]
    },
    {
     "name": "stderr",
     "output_type": "stream",
     "text": [
      "1039it [12:39,  1.16it/s]"
     ]
    },
    {
     "name": "stdout",
     "output_type": "stream",
     "text": [
      "Downloaded MP3\n"
     ]
    },
    {
     "name": "stderr",
     "output_type": "stream",
     "text": [
      "1040it [12:42,  1.49s/it]"
     ]
    },
    {
     "name": "stdout",
     "output_type": "stream",
     "text": [
      "Downloaded MP3\n"
     ]
    },
    {
     "name": "stderr",
     "output_type": "stream",
     "text": [
      "1041it [12:43,  1.31s/it]"
     ]
    },
    {
     "name": "stdout",
     "output_type": "stream",
     "text": [
      "Downloaded MP3\n"
     ]
    },
    {
     "name": "stderr",
     "output_type": "stream",
     "text": [
      "1042it [12:44,  1.19s/it]"
     ]
    },
    {
     "name": "stdout",
     "output_type": "stream",
     "text": [
      "Downloaded MP3\n"
     ]
    },
    {
     "name": "stderr",
     "output_type": "stream",
     "text": [
      "1043it [12:45,  1.11s/it]"
     ]
    },
    {
     "name": "stdout",
     "output_type": "stream",
     "text": [
      "Downloaded MP3\n"
     ]
    },
    {
     "name": "stderr",
     "output_type": "stream",
     "text": [
      "1044it [12:47,  1.25s/it]"
     ]
    },
    {
     "name": "stdout",
     "output_type": "stream",
     "text": [
      "Downloaded MP3\n"
     ]
    },
    {
     "name": "stderr",
     "output_type": "stream",
     "text": [
      "1045it [12:48,  1.16s/it]"
     ]
    },
    {
     "name": "stdout",
     "output_type": "stream",
     "text": [
      "Downloaded MP3\n"
     ]
    },
    {
     "name": "stderr",
     "output_type": "stream",
     "text": [
      "1046it [12:48,  1.10s/it]"
     ]
    },
    {
     "name": "stdout",
     "output_type": "stream",
     "text": [
      "Downloaded MP3\n"
     ]
    },
    {
     "name": "stderr",
     "output_type": "stream",
     "text": [
      "1047it [12:49,  1.07s/it]"
     ]
    },
    {
     "name": "stdout",
     "output_type": "stream",
     "text": [
      "Downloaded MP3\n"
     ]
    },
    {
     "name": "stderr",
     "output_type": "stream",
     "text": [
      "1048it [12:50,  1.02s/it]"
     ]
    },
    {
     "name": "stdout",
     "output_type": "stream",
     "text": [
      "Downloaded MP3\n"
     ]
    },
    {
     "name": "stderr",
     "output_type": "stream",
     "text": [
      "1049it [12:51,  1.07it/s]"
     ]
    },
    {
     "name": "stdout",
     "output_type": "stream",
     "text": [
      "Downloaded MP3\n"
     ]
    },
    {
     "name": "stderr",
     "output_type": "stream",
     "text": [
      "1050it [12:52,  1.07it/s]"
     ]
    },
    {
     "name": "stdout",
     "output_type": "stream",
     "text": [
      "Downloaded MP3\n"
     ]
    },
    {
     "name": "stderr",
     "output_type": "stream",
     "text": [
      "1051it [12:53,  1.08it/s]"
     ]
    },
    {
     "name": "stdout",
     "output_type": "stream",
     "text": [
      "Downloaded MP3\n"
     ]
    },
    {
     "name": "stderr",
     "output_type": "stream",
     "text": [
      "1052it [12:54,  1.01s/it]"
     ]
    },
    {
     "name": "stdout",
     "output_type": "stream",
     "text": [
      "Downloaded MP3\n"
     ]
    },
    {
     "name": "stderr",
     "output_type": "stream",
     "text": [
      "1053it [12:55,  1.00s/it]"
     ]
    },
    {
     "name": "stdout",
     "output_type": "stream",
     "text": [
      "Downloaded MP3\n"
     ]
    },
    {
     "name": "stderr",
     "output_type": "stream",
     "text": [
      "1054it [12:56,  1.04s/it]"
     ]
    },
    {
     "name": "stdout",
     "output_type": "stream",
     "text": [
      "Downloaded MP3\n"
     ]
    },
    {
     "name": "stderr",
     "output_type": "stream",
     "text": [
      "1055it [12:57,  1.03it/s]"
     ]
    },
    {
     "name": "stdout",
     "output_type": "stream",
     "text": [
      "Downloaded MP3\n"
     ]
    },
    {
     "name": "stderr",
     "output_type": "stream",
     "text": [
      "1056it [12:59,  1.15s/it]"
     ]
    },
    {
     "name": "stdout",
     "output_type": "stream",
     "text": [
      "Downloaded MP3\n"
     ]
    },
    {
     "name": "stderr",
     "output_type": "stream",
     "text": [
      "1057it [12:59,  1.05s/it]"
     ]
    },
    {
     "name": "stdout",
     "output_type": "stream",
     "text": [
      "Downloaded MP3\n"
     ]
    },
    {
     "name": "stderr",
     "output_type": "stream",
     "text": [
      "1058it [13:01,  1.11s/it]"
     ]
    },
    {
     "name": "stdout",
     "output_type": "stream",
     "text": [
      "Downloaded MP3\n"
     ]
    },
    {
     "name": "stderr",
     "output_type": "stream",
     "text": [
      "1059it [13:02,  1.02s/it]"
     ]
    },
    {
     "name": "stdout",
     "output_type": "stream",
     "text": [
      "Downloaded MP3\n"
     ]
    },
    {
     "name": "stderr",
     "output_type": "stream",
     "text": [
      "1060it [13:02,  1.04it/s]"
     ]
    },
    {
     "name": "stdout",
     "output_type": "stream",
     "text": [
      "Downloaded MP3\n"
     ]
    },
    {
     "name": "stderr",
     "output_type": "stream",
     "text": [
      "1061it [13:03,  1.06it/s]"
     ]
    },
    {
     "name": "stdout",
     "output_type": "stream",
     "text": [
      "Downloaded MP3\n"
     ]
    },
    {
     "name": "stderr",
     "output_type": "stream",
     "text": [
      "1062it [13:04,  1.07it/s]"
     ]
    },
    {
     "name": "stdout",
     "output_type": "stream",
     "text": [
      "Downloaded MP3\n"
     ]
    },
    {
     "name": "stderr",
     "output_type": "stream",
     "text": [
      "1063it [13:05,  1.11it/s]"
     ]
    },
    {
     "name": "stdout",
     "output_type": "stream",
     "text": [
      "Downloaded MP3\n"
     ]
    },
    {
     "name": "stderr",
     "output_type": "stream",
     "text": [
      "1064it [13:06,  1.12it/s]"
     ]
    },
    {
     "name": "stdout",
     "output_type": "stream",
     "text": [
      "Downloaded MP3\n"
     ]
    },
    {
     "name": "stderr",
     "output_type": "stream",
     "text": [
      "1065it [13:07,  1.11it/s]"
     ]
    },
    {
     "name": "stdout",
     "output_type": "stream",
     "text": [
      "Downloaded MP3\n"
     ]
    },
    {
     "name": "stderr",
     "output_type": "stream",
     "text": [
      "1066it [13:08,  1.09it/s]"
     ]
    },
    {
     "name": "stdout",
     "output_type": "stream",
     "text": [
      "Downloaded MP3\n"
     ]
    },
    {
     "name": "stderr",
     "output_type": "stream",
     "text": [
      "1067it [13:09,  1.03it/s]"
     ]
    },
    {
     "name": "stdout",
     "output_type": "stream",
     "text": [
      "Downloaded MP3\n"
     ]
    },
    {
     "name": "stderr",
     "output_type": "stream",
     "text": [
      "1068it [13:10,  1.06it/s]"
     ]
    },
    {
     "name": "stdout",
     "output_type": "stream",
     "text": [
      "Downloaded MP3\n"
     ]
    },
    {
     "name": "stderr",
     "output_type": "stream",
     "text": [
      "1069it [13:11,  1.06it/s]"
     ]
    },
    {
     "name": "stdout",
     "output_type": "stream",
     "text": [
      "Downloaded MP3\n"
     ]
    },
    {
     "name": "stderr",
     "output_type": "stream",
     "text": [
      "1070it [13:12,  1.07it/s]"
     ]
    },
    {
     "name": "stdout",
     "output_type": "stream",
     "text": [
      "Downloaded MP3\n"
     ]
    },
    {
     "name": "stderr",
     "output_type": "stream",
     "text": [
      "1071it [13:12,  1.09it/s]"
     ]
    },
    {
     "name": "stdout",
     "output_type": "stream",
     "text": [
      "Downloaded MP3\n"
     ]
    },
    {
     "name": "stderr",
     "output_type": "stream",
     "text": [
      "1072it [13:13,  1.07it/s]"
     ]
    },
    {
     "name": "stdout",
     "output_type": "stream",
     "text": [
      "Downloaded MP3\n"
     ]
    },
    {
     "name": "stderr",
     "output_type": "stream",
     "text": [
      "1073it [13:14,  1.06it/s]"
     ]
    },
    {
     "name": "stdout",
     "output_type": "stream",
     "text": [
      "Downloaded MP3\n"
     ]
    },
    {
     "name": "stderr",
     "output_type": "stream",
     "text": [
      "1074it [13:15,  1.10it/s]"
     ]
    },
    {
     "name": "stdout",
     "output_type": "stream",
     "text": [
      "Downloaded MP3\n"
     ]
    },
    {
     "name": "stderr",
     "output_type": "stream",
     "text": [
      "1075it [13:16,  1.11it/s]"
     ]
    },
    {
     "name": "stdout",
     "output_type": "stream",
     "text": [
      "Downloaded MP3\n"
     ]
    },
    {
     "name": "stderr",
     "output_type": "stream",
     "text": [
      "1076it [13:17,  1.17it/s]"
     ]
    },
    {
     "name": "stdout",
     "output_type": "stream",
     "text": [
      "Downloaded MP3\n"
     ]
    },
    {
     "name": "stderr",
     "output_type": "stream",
     "text": [
      "1077it [13:18,  1.19it/s]"
     ]
    },
    {
     "name": "stdout",
     "output_type": "stream",
     "text": [
      "Downloaded MP3\n"
     ]
    },
    {
     "name": "stderr",
     "output_type": "stream",
     "text": [
      "1078it [13:19,  1.18it/s]"
     ]
    },
    {
     "name": "stdout",
     "output_type": "stream",
     "text": [
      "Downloaded MP3\n"
     ]
    },
    {
     "name": "stderr",
     "output_type": "stream",
     "text": [
      "1079it [13:20,  1.11it/s]"
     ]
    },
    {
     "name": "stdout",
     "output_type": "stream",
     "text": [
      "Downloaded MP3\n"
     ]
    },
    {
     "name": "stderr",
     "output_type": "stream",
     "text": [
      "1080it [13:21,  1.06it/s]"
     ]
    },
    {
     "name": "stdout",
     "output_type": "stream",
     "text": [
      "Downloaded MP3\n"
     ]
    },
    {
     "name": "stderr",
     "output_type": "stream",
     "text": [
      "1081it [13:22,  1.02s/it]"
     ]
    },
    {
     "name": "stdout",
     "output_type": "stream",
     "text": [
      "Downloaded MP3\n"
     ]
    },
    {
     "name": "stderr",
     "output_type": "stream",
     "text": [
      "1082it [13:23,  1.02it/s]"
     ]
    },
    {
     "name": "stdout",
     "output_type": "stream",
     "text": [
      "Downloaded MP3\n"
     ]
    },
    {
     "name": "stderr",
     "output_type": "stream",
     "text": [
      "1083it [13:24,  1.01it/s]"
     ]
    },
    {
     "name": "stdout",
     "output_type": "stream",
     "text": [
      "Downloaded MP3\n"
     ]
    },
    {
     "name": "stderr",
     "output_type": "stream",
     "text": [
      "1084it [13:25,  1.02it/s]"
     ]
    },
    {
     "name": "stdout",
     "output_type": "stream",
     "text": [
      "Downloaded MP3\n"
     ]
    },
    {
     "name": "stderr",
     "output_type": "stream",
     "text": [
      "1085it [13:26,  1.01it/s]"
     ]
    },
    {
     "name": "stdout",
     "output_type": "stream",
     "text": [
      "Downloaded MP3\n"
     ]
    },
    {
     "name": "stderr",
     "output_type": "stream",
     "text": [
      "1086it [13:26,  1.07it/s]"
     ]
    },
    {
     "name": "stdout",
     "output_type": "stream",
     "text": [
      "Downloaded MP3\n"
     ]
    },
    {
     "name": "stderr",
     "output_type": "stream",
     "text": [
      "1087it [13:27,  1.10it/s]"
     ]
    },
    {
     "name": "stdout",
     "output_type": "stream",
     "text": [
      "Downloaded MP3\n"
     ]
    },
    {
     "name": "stderr",
     "output_type": "stream",
     "text": [
      "1088it [13:28,  1.09it/s]"
     ]
    },
    {
     "name": "stdout",
     "output_type": "stream",
     "text": [
      "Downloaded MP3\n"
     ]
    },
    {
     "name": "stderr",
     "output_type": "stream",
     "text": [
      "1089it [13:29,  1.07it/s]"
     ]
    },
    {
     "name": "stdout",
     "output_type": "stream",
     "text": [
      "Downloaded MP3\n"
     ]
    },
    {
     "name": "stderr",
     "output_type": "stream",
     "text": [
      "1090it [13:30,  1.11it/s]"
     ]
    },
    {
     "name": "stdout",
     "output_type": "stream",
     "text": [
      "Downloaded MP3\n"
     ]
    },
    {
     "name": "stderr",
     "output_type": "stream",
     "text": [
      "1091it [13:31,  1.11it/s]"
     ]
    },
    {
     "name": "stdout",
     "output_type": "stream",
     "text": [
      "Downloaded MP3\n"
     ]
    },
    {
     "name": "stderr",
     "output_type": "stream",
     "text": [
      "1092it [13:32,  1.11it/s]"
     ]
    },
    {
     "name": "stdout",
     "output_type": "stream",
     "text": [
      "Downloaded MP3\n"
     ]
    },
    {
     "name": "stderr",
     "output_type": "stream",
     "text": [
      "1093it [13:33,  1.05it/s]"
     ]
    },
    {
     "name": "stdout",
     "output_type": "stream",
     "text": [
      "Downloaded MP3\n"
     ]
    },
    {
     "name": "stderr",
     "output_type": "stream",
     "text": [
      "1094it [13:34,  1.06it/s]"
     ]
    },
    {
     "name": "stdout",
     "output_type": "stream",
     "text": [
      "Downloaded MP3\n"
     ]
    },
    {
     "name": "stderr",
     "output_type": "stream",
     "text": [
      "1095it [13:35,  1.08s/it]"
     ]
    },
    {
     "name": "stdout",
     "output_type": "stream",
     "text": [
      "Downloaded MP3\n"
     ]
    },
    {
     "name": "stderr",
     "output_type": "stream",
     "text": [
      "1096it [13:36,  1.01s/it]"
     ]
    },
    {
     "name": "stdout",
     "output_type": "stream",
     "text": [
      "Downloaded MP3\n"
     ]
    },
    {
     "name": "stderr",
     "output_type": "stream",
     "text": [
      "1097it [13:37,  1.04it/s]"
     ]
    },
    {
     "name": "stdout",
     "output_type": "stream",
     "text": [
      "Downloaded MP3\n"
     ]
    },
    {
     "name": "stderr",
     "output_type": "stream",
     "text": [
      "1098it [13:38,  1.08it/s]"
     ]
    },
    {
     "name": "stdout",
     "output_type": "stream",
     "text": [
      "Downloaded MP3\n"
     ]
    },
    {
     "name": "stderr",
     "output_type": "stream",
     "text": [
      "1099it [13:39,  1.09it/s]"
     ]
    },
    {
     "name": "stdout",
     "output_type": "stream",
     "text": [
      "Downloaded MP3\n"
     ]
    },
    {
     "name": "stderr",
     "output_type": "stream",
     "text": [
      "1100it [13:40,  1.09it/s]"
     ]
    },
    {
     "name": "stdout",
     "output_type": "stream",
     "text": [
      "Downloaded MP3\n"
     ]
    },
    {
     "name": "stderr",
     "output_type": "stream",
     "text": [
      "1101it [13:41,  1.06it/s]"
     ]
    },
    {
     "name": "stdout",
     "output_type": "stream",
     "text": [
      "Downloaded MP3\n"
     ]
    },
    {
     "name": "stderr",
     "output_type": "stream",
     "text": [
      "1102it [13:41,  1.10it/s]"
     ]
    },
    {
     "name": "stdout",
     "output_type": "stream",
     "text": [
      "Downloaded MP3\n"
     ]
    },
    {
     "name": "stderr",
     "output_type": "stream",
     "text": [
      "1103it [13:42,  1.09it/s]"
     ]
    },
    {
     "name": "stdout",
     "output_type": "stream",
     "text": [
      "Downloaded MP3\n"
     ]
    },
    {
     "name": "stderr",
     "output_type": "stream",
     "text": [
      "1104it [13:43,  1.12it/s]"
     ]
    },
    {
     "name": "stdout",
     "output_type": "stream",
     "text": [
      "Downloaded MP3\n"
     ]
    },
    {
     "name": "stderr",
     "output_type": "stream",
     "text": [
      "1105it [13:44,  1.10it/s]"
     ]
    },
    {
     "name": "stdout",
     "output_type": "stream",
     "text": [
      "Downloaded MP3\n"
     ]
    },
    {
     "name": "stderr",
     "output_type": "stream",
     "text": [
      "1106it [13:45,  1.13it/s]"
     ]
    },
    {
     "name": "stdout",
     "output_type": "stream",
     "text": [
      "Downloaded MP3\n"
     ]
    },
    {
     "name": "stderr",
     "output_type": "stream",
     "text": [
      "1107it [13:46,  1.09it/s]"
     ]
    },
    {
     "name": "stdout",
     "output_type": "stream",
     "text": [
      "Downloaded MP3\n"
     ]
    },
    {
     "name": "stderr",
     "output_type": "stream",
     "text": [
      "1108it [13:47,  1.13it/s]"
     ]
    },
    {
     "name": "stdout",
     "output_type": "stream",
     "text": [
      "Downloaded MP3\n"
     ]
    },
    {
     "name": "stderr",
     "output_type": "stream",
     "text": [
      "1109it [13:48,  1.12it/s]"
     ]
    },
    {
     "name": "stdout",
     "output_type": "stream",
     "text": [
      "Downloaded MP3\n"
     ]
    },
    {
     "name": "stderr",
     "output_type": "stream",
     "text": [
      "1110it [13:49,  1.12it/s]"
     ]
    },
    {
     "name": "stdout",
     "output_type": "stream",
     "text": [
      "Downloaded MP3\n"
     ]
    },
    {
     "name": "stderr",
     "output_type": "stream",
     "text": [
      "1111it [13:49,  1.13it/s]"
     ]
    },
    {
     "name": "stdout",
     "output_type": "stream",
     "text": [
      "Downloaded MP3\n"
     ]
    },
    {
     "name": "stderr",
     "output_type": "stream",
     "text": [
      "1112it [13:50,  1.16it/s]"
     ]
    },
    {
     "name": "stdout",
     "output_type": "stream",
     "text": [
      "Downloaded MP3\n"
     ]
    },
    {
     "name": "stderr",
     "output_type": "stream",
     "text": [
      "1113it [13:51,  1.09it/s]"
     ]
    },
    {
     "name": "stdout",
     "output_type": "stream",
     "text": [
      "Downloaded MP3\n"
     ]
    },
    {
     "name": "stderr",
     "output_type": "stream",
     "text": [
      "1114it [13:52,  1.13it/s]"
     ]
    },
    {
     "name": "stdout",
     "output_type": "stream",
     "text": [
      "Downloaded MP3\n"
     ]
    },
    {
     "name": "stderr",
     "output_type": "stream",
     "text": [
      "1115it [13:53,  1.14it/s]"
     ]
    },
    {
     "name": "stdout",
     "output_type": "stream",
     "text": [
      "Downloaded MP3\n"
     ]
    },
    {
     "name": "stderr",
     "output_type": "stream",
     "text": [
      "1116it [13:54,  1.16it/s]"
     ]
    },
    {
     "name": "stdout",
     "output_type": "stream",
     "text": [
      "Downloaded MP3\n"
     ]
    },
    {
     "name": "stderr",
     "output_type": "stream",
     "text": [
      "1117it [13:55,  1.11it/s]"
     ]
    },
    {
     "name": "stdout",
     "output_type": "stream",
     "text": [
      "Downloaded MP3\n"
     ]
    },
    {
     "name": "stderr",
     "output_type": "stream",
     "text": [
      "1118it [13:56,  1.13it/s]"
     ]
    },
    {
     "name": "stdout",
     "output_type": "stream",
     "text": [
      "Downloaded MP3\n"
     ]
    },
    {
     "name": "stderr",
     "output_type": "stream",
     "text": [
      "1119it [13:57,  1.09it/s]"
     ]
    },
    {
     "name": "stdout",
     "output_type": "stream",
     "text": [
      "Downloaded MP3\n"
     ]
    },
    {
     "name": "stderr",
     "output_type": "stream",
     "text": [
      "1120it [13:58,  1.06it/s]"
     ]
    },
    {
     "name": "stdout",
     "output_type": "stream",
     "text": [
      "Downloaded MP3\n"
     ]
    },
    {
     "name": "stderr",
     "output_type": "stream",
     "text": [
      "1121it [13:59,  1.04it/s]"
     ]
    },
    {
     "name": "stdout",
     "output_type": "stream",
     "text": [
      "Downloaded MP3\n"
     ]
    },
    {
     "name": "stderr",
     "output_type": "stream",
     "text": [
      "1122it [13:59,  1.09it/s]"
     ]
    },
    {
     "name": "stdout",
     "output_type": "stream",
     "text": [
      "Downloaded MP3\n"
     ]
    },
    {
     "name": "stderr",
     "output_type": "stream",
     "text": [
      "1123it [14:00,  1.09it/s]"
     ]
    },
    {
     "name": "stdout",
     "output_type": "stream",
     "text": [
      "Downloaded MP3\n"
     ]
    },
    {
     "name": "stderr",
     "output_type": "stream",
     "text": [
      "1124it [14:01,  1.09it/s]"
     ]
    },
    {
     "name": "stdout",
     "output_type": "stream",
     "text": [
      "Downloaded MP3\n"
     ]
    },
    {
     "name": "stderr",
     "output_type": "stream",
     "text": [
      "1125it [14:02,  1.12it/s]"
     ]
    },
    {
     "name": "stdout",
     "output_type": "stream",
     "text": [
      "Downloaded MP3\n"
     ]
    },
    {
     "name": "stderr",
     "output_type": "stream",
     "text": [
      "1126it [14:03,  1.15it/s]"
     ]
    },
    {
     "name": "stdout",
     "output_type": "stream",
     "text": [
      "Downloaded MP3\n"
     ]
    },
    {
     "name": "stderr",
     "output_type": "stream",
     "text": [
      "1127it [14:04,  1.17it/s]"
     ]
    },
    {
     "name": "stdout",
     "output_type": "stream",
     "text": [
      "Downloaded MP3\n"
     ]
    },
    {
     "name": "stderr",
     "output_type": "stream",
     "text": [
      "1128it [14:05,  1.19it/s]"
     ]
    },
    {
     "name": "stdout",
     "output_type": "stream",
     "text": [
      "Downloaded MP3\n"
     ]
    },
    {
     "name": "stderr",
     "output_type": "stream",
     "text": [
      "1129it [14:06,  1.10it/s]"
     ]
    },
    {
     "name": "stdout",
     "output_type": "stream",
     "text": [
      "Downloaded MP3\n"
     ]
    },
    {
     "name": "stderr",
     "output_type": "stream",
     "text": [
      "1130it [14:06,  1.12it/s]"
     ]
    },
    {
     "name": "stdout",
     "output_type": "stream",
     "text": [
      "Downloaded MP3\n"
     ]
    },
    {
     "name": "stderr",
     "output_type": "stream",
     "text": [
      "1131it [14:07,  1.11it/s]"
     ]
    },
    {
     "name": "stdout",
     "output_type": "stream",
     "text": [
      "Downloaded MP3\n"
     ]
    },
    {
     "name": "stderr",
     "output_type": "stream",
     "text": [
      "1132it [14:09,  1.00s/it]"
     ]
    },
    {
     "name": "stdout",
     "output_type": "stream",
     "text": [
      "Downloaded MP3\n"
     ]
    },
    {
     "name": "stderr",
     "output_type": "stream",
     "text": [
      "1133it [14:09,  1.05it/s]"
     ]
    },
    {
     "name": "stdout",
     "output_type": "stream",
     "text": [
      "Downloaded MP3\n"
     ]
    },
    {
     "name": "stderr",
     "output_type": "stream",
     "text": [
      "1134it [14:10,  1.05it/s]"
     ]
    },
    {
     "name": "stdout",
     "output_type": "stream",
     "text": [
      "Downloaded MP3\n"
     ]
    },
    {
     "name": "stderr",
     "output_type": "stream",
     "text": [
      "1135it [14:11,  1.03it/s]"
     ]
    },
    {
     "name": "stdout",
     "output_type": "stream",
     "text": [
      "Downloaded MP3\n"
     ]
    },
    {
     "name": "stderr",
     "output_type": "stream",
     "text": [
      "1136it [14:12,  1.02it/s]"
     ]
    },
    {
     "name": "stdout",
     "output_type": "stream",
     "text": [
      "Downloaded MP3\n"
     ]
    },
    {
     "name": "stderr",
     "output_type": "stream",
     "text": [
      "1137it [14:13,  1.04it/s]"
     ]
    },
    {
     "name": "stdout",
     "output_type": "stream",
     "text": [
      "Downloaded MP3\n"
     ]
    },
    {
     "name": "stderr",
     "output_type": "stream",
     "text": [
      "1138it [14:14,  1.07it/s]"
     ]
    },
    {
     "name": "stdout",
     "output_type": "stream",
     "text": [
      "Downloaded MP3\n"
     ]
    },
    {
     "name": "stderr",
     "output_type": "stream",
     "text": [
      "1139it [14:15,  1.11it/s]"
     ]
    },
    {
     "name": "stdout",
     "output_type": "stream",
     "text": [
      "Downloaded MP3\n"
     ]
    },
    {
     "name": "stderr",
     "output_type": "stream",
     "text": [
      "1140it [14:16,  1.10it/s]"
     ]
    },
    {
     "name": "stdout",
     "output_type": "stream",
     "text": [
      "Downloaded MP3\n"
     ]
    },
    {
     "name": "stderr",
     "output_type": "stream",
     "text": [
      "1141it [14:17,  1.11it/s]"
     ]
    },
    {
     "name": "stdout",
     "output_type": "stream",
     "text": [
      "Downloaded MP3\n"
     ]
    },
    {
     "name": "stderr",
     "output_type": "stream",
     "text": [
      "1142it [14:18,  1.12it/s]"
     ]
    },
    {
     "name": "stdout",
     "output_type": "stream",
     "text": [
      "Downloaded MP3\n"
     ]
    },
    {
     "name": "stderr",
     "output_type": "stream",
     "text": [
      "1143it [14:19,  1.13it/s]"
     ]
    },
    {
     "name": "stdout",
     "output_type": "stream",
     "text": [
      "Downloaded MP3\n"
     ]
    },
    {
     "name": "stderr",
     "output_type": "stream",
     "text": [
      "1144it [14:20,  1.08it/s]"
     ]
    },
    {
     "name": "stdout",
     "output_type": "stream",
     "text": [
      "Downloaded MP3\n"
     ]
    },
    {
     "name": "stderr",
     "output_type": "stream",
     "text": [
      "1145it [14:20,  1.11it/s]"
     ]
    },
    {
     "name": "stdout",
     "output_type": "stream",
     "text": [
      "Downloaded MP3\n"
     ]
    },
    {
     "name": "stderr",
     "output_type": "stream",
     "text": [
      "1146it [14:21,  1.10it/s]"
     ]
    },
    {
     "name": "stdout",
     "output_type": "stream",
     "text": [
      "Downloaded MP3\n"
     ]
    },
    {
     "name": "stderr",
     "output_type": "stream",
     "text": [
      "1147it [14:22,  1.11it/s]"
     ]
    },
    {
     "name": "stdout",
     "output_type": "stream",
     "text": [
      "Downloaded MP3\n"
     ]
    },
    {
     "name": "stderr",
     "output_type": "stream",
     "text": [
      "1148it [14:25,  1.41s/it]"
     ]
    },
    {
     "name": "stdout",
     "output_type": "stream",
     "text": [
      "Downloaded MP3\n"
     ]
    },
    {
     "name": "stderr",
     "output_type": "stream",
     "text": [
      "1149it [14:26,  1.39s/it]"
     ]
    },
    {
     "name": "stdout",
     "output_type": "stream",
     "text": [
      "Downloaded MP3\n"
     ]
    },
    {
     "name": "stderr",
     "output_type": "stream",
     "text": [
      "1150it [14:27,  1.27s/it]"
     ]
    },
    {
     "name": "stdout",
     "output_type": "stream",
     "text": [
      "Downloaded MP3\n"
     ]
    },
    {
     "name": "stderr",
     "output_type": "stream",
     "text": [
      "1151it [14:28,  1.20s/it]"
     ]
    },
    {
     "name": "stdout",
     "output_type": "stream",
     "text": [
      "Downloaded MP3\n"
     ]
    },
    {
     "name": "stderr",
     "output_type": "stream",
     "text": [
      "1152it [14:29,  1.09s/it]"
     ]
    },
    {
     "name": "stdout",
     "output_type": "stream",
     "text": [
      "Downloaded MP3\n"
     ]
    },
    {
     "name": "stderr",
     "output_type": "stream",
     "text": [
      "1153it [14:30,  1.01s/it]"
     ]
    },
    {
     "name": "stdout",
     "output_type": "stream",
     "text": [
      "Downloaded MP3\n"
     ]
    },
    {
     "name": "stderr",
     "output_type": "stream",
     "text": [
      "1155it [14:31,  1.34it/s]"
     ]
    },
    {
     "name": "stdout",
     "output_type": "stream",
     "text": [
      "Downloaded MP3\n"
     ]
    },
    {
     "name": "stderr",
     "output_type": "stream",
     "text": [
      "1156it [14:32,  1.27it/s]"
     ]
    },
    {
     "name": "stdout",
     "output_type": "stream",
     "text": [
      "Downloaded MP3\n"
     ]
    },
    {
     "name": "stderr",
     "output_type": "stream",
     "text": [
      "1157it [14:33,  1.18it/s]"
     ]
    },
    {
     "name": "stdout",
     "output_type": "stream",
     "text": [
      "Downloaded MP3\n"
     ]
    },
    {
     "name": "stderr",
     "output_type": "stream",
     "text": [
      "1158it [14:33,  1.21it/s]"
     ]
    },
    {
     "name": "stdout",
     "output_type": "stream",
     "text": [
      "Downloaded MP3\n"
     ]
    },
    {
     "name": "stderr",
     "output_type": "stream",
     "text": [
      "1159it [14:34,  1.19it/s]"
     ]
    },
    {
     "name": "stdout",
     "output_type": "stream",
     "text": [
      "Downloaded MP3\n"
     ]
    },
    {
     "name": "stderr",
     "output_type": "stream",
     "text": [
      "1160it [14:35,  1.18it/s]"
     ]
    },
    {
     "name": "stdout",
     "output_type": "stream",
     "text": [
      "Downloaded MP3\n"
     ]
    },
    {
     "name": "stderr",
     "output_type": "stream",
     "text": [
      "1161it [14:36,  1.09it/s]"
     ]
    },
    {
     "name": "stdout",
     "output_type": "stream",
     "text": [
      "Downloaded MP3\n"
     ]
    },
    {
     "name": "stderr",
     "output_type": "stream",
     "text": [
      "1162it [14:37,  1.01it/s]"
     ]
    },
    {
     "name": "stdout",
     "output_type": "stream",
     "text": [
      "Downloaded MP3\n"
     ]
    },
    {
     "name": "stderr",
     "output_type": "stream",
     "text": [
      "1163it [14:38,  1.06it/s]"
     ]
    },
    {
     "name": "stdout",
     "output_type": "stream",
     "text": [
      "Downloaded MP3\n"
     ]
    },
    {
     "name": "stderr",
     "output_type": "stream",
     "text": [
      "1164it [14:39,  1.06it/s]"
     ]
    },
    {
     "name": "stdout",
     "output_type": "stream",
     "text": [
      "Downloaded MP3\n"
     ]
    },
    {
     "name": "stderr",
     "output_type": "stream",
     "text": [
      "1165it [14:40,  1.08it/s]"
     ]
    },
    {
     "name": "stdout",
     "output_type": "stream",
     "text": [
      "Downloaded MP3\n"
     ]
    },
    {
     "name": "stderr",
     "output_type": "stream",
     "text": [
      "1166it [14:41,  1.08it/s]"
     ]
    },
    {
     "name": "stdout",
     "output_type": "stream",
     "text": [
      "Downloaded MP3\n"
     ]
    },
    {
     "name": "stderr",
     "output_type": "stream",
     "text": [
      "1167it [14:42,  1.06it/s]"
     ]
    },
    {
     "name": "stdout",
     "output_type": "stream",
     "text": [
      "Downloaded MP3\n"
     ]
    },
    {
     "name": "stderr",
     "output_type": "stream",
     "text": [
      "1168it [14:43,  1.10it/s]"
     ]
    },
    {
     "name": "stdout",
     "output_type": "stream",
     "text": [
      "Downloaded MP3\n"
     ]
    },
    {
     "name": "stderr",
     "output_type": "stream",
     "text": [
      "1169it [14:44,  1.12s/it]"
     ]
    },
    {
     "name": "stdout",
     "output_type": "stream",
     "text": [
      "Downloaded MP3\n"
     ]
    },
    {
     "name": "stderr",
     "output_type": "stream",
     "text": [
      "1170it [14:46,  1.20s/it]"
     ]
    },
    {
     "name": "stdout",
     "output_type": "stream",
     "text": [
      "Downloaded MP3\n"
     ]
    },
    {
     "name": "stderr",
     "output_type": "stream",
     "text": [
      "1171it [14:47,  1.28s/it]"
     ]
    },
    {
     "name": "stdout",
     "output_type": "stream",
     "text": [
      "Downloaded MP3\n"
     ]
    },
    {
     "name": "stderr",
     "output_type": "stream",
     "text": [
      "1172it [14:48,  1.19s/it]"
     ]
    },
    {
     "name": "stdout",
     "output_type": "stream",
     "text": [
      "Downloaded MP3\n"
     ]
    },
    {
     "name": "stderr",
     "output_type": "stream",
     "text": [
      "1173it [14:49,  1.08s/it]"
     ]
    },
    {
     "name": "stdout",
     "output_type": "stream",
     "text": [
      "Downloaded MP3\n"
     ]
    },
    {
     "name": "stderr",
     "output_type": "stream",
     "text": [
      "1174it [14:50,  1.01s/it]"
     ]
    },
    {
     "name": "stdout",
     "output_type": "stream",
     "text": [
      "Downloaded MP3\n"
     ]
    },
    {
     "name": "stderr",
     "output_type": "stream",
     "text": [
      "1175it [14:51,  1.05it/s]"
     ]
    },
    {
     "name": "stdout",
     "output_type": "stream",
     "text": [
      "Downloaded MP3\n"
     ]
    },
    {
     "name": "stderr",
     "output_type": "stream",
     "text": [
      "1176it [14:52,  1.06it/s]"
     ]
    },
    {
     "name": "stdout",
     "output_type": "stream",
     "text": [
      "Downloaded MP3\n"
     ]
    },
    {
     "name": "stderr",
     "output_type": "stream",
     "text": [
      "1177it [14:53,  1.09it/s]"
     ]
    },
    {
     "name": "stdout",
     "output_type": "stream",
     "text": [
      "Downloaded MP3\n"
     ]
    },
    {
     "name": "stderr",
     "output_type": "stream",
     "text": [
      "1178it [14:53,  1.11it/s]"
     ]
    },
    {
     "name": "stdout",
     "output_type": "stream",
     "text": [
      "Downloaded MP3\n"
     ]
    },
    {
     "name": "stderr",
     "output_type": "stream",
     "text": [
      "1179it [14:54,  1.12it/s]"
     ]
    },
    {
     "name": "stdout",
     "output_type": "stream",
     "text": [
      "Downloaded MP3\n"
     ]
    },
    {
     "name": "stderr",
     "output_type": "stream",
     "text": [
      "1180it [14:55,  1.13it/s]"
     ]
    },
    {
     "name": "stdout",
     "output_type": "stream",
     "text": [
      "Downloaded MP3\n"
     ]
    },
    {
     "name": "stderr",
     "output_type": "stream",
     "text": [
      "1181it [14:56,  1.15it/s]"
     ]
    },
    {
     "name": "stdout",
     "output_type": "stream",
     "text": [
      "Downloaded MP3\n"
     ]
    },
    {
     "name": "stderr",
     "output_type": "stream",
     "text": [
      "1182it [14:57,  1.10it/s]"
     ]
    },
    {
     "name": "stdout",
     "output_type": "stream",
     "text": [
      "Downloaded MP3\n"
     ]
    },
    {
     "name": "stderr",
     "output_type": "stream",
     "text": [
      "1183it [14:58,  1.14it/s]"
     ]
    },
    {
     "name": "stdout",
     "output_type": "stream",
     "text": [
      "Downloaded MP3\n"
     ]
    },
    {
     "name": "stderr",
     "output_type": "stream",
     "text": [
      "1184it [14:59,  1.10it/s]"
     ]
    },
    {
     "name": "stdout",
     "output_type": "stream",
     "text": [
      "Downloaded MP3\n"
     ]
    },
    {
     "name": "stderr",
     "output_type": "stream",
     "text": [
      "1185it [15:00,  1.10it/s]"
     ]
    },
    {
     "name": "stdout",
     "output_type": "stream",
     "text": [
      "Downloaded MP3\n"
     ]
    },
    {
     "name": "stderr",
     "output_type": "stream",
     "text": [
      "1186it [15:01,  1.06it/s]"
     ]
    },
    {
     "name": "stdout",
     "output_type": "stream",
     "text": [
      "Downloaded MP3\n"
     ]
    },
    {
     "name": "stderr",
     "output_type": "stream",
     "text": [
      "1187it [15:02,  1.08it/s]"
     ]
    },
    {
     "name": "stdout",
     "output_type": "stream",
     "text": [
      "Downloaded MP3\n"
     ]
    },
    {
     "name": "stderr",
     "output_type": "stream",
     "text": [
      "1188it [15:03,  1.05it/s]"
     ]
    },
    {
     "name": "stdout",
     "output_type": "stream",
     "text": [
      "Downloaded MP3\n"
     ]
    },
    {
     "name": "stderr",
     "output_type": "stream",
     "text": [
      "1189it [15:03,  1.12it/s]"
     ]
    },
    {
     "name": "stdout",
     "output_type": "stream",
     "text": [
      "Downloaded MP3\n"
     ]
    },
    {
     "name": "stderr",
     "output_type": "stream",
     "text": [
      "1190it [15:04,  1.06it/s]"
     ]
    },
    {
     "name": "stdout",
     "output_type": "stream",
     "text": [
      "Downloaded MP3\n"
     ]
    },
    {
     "name": "stderr",
     "output_type": "stream",
     "text": [
      "1191it [15:05,  1.06it/s]"
     ]
    },
    {
     "name": "stdout",
     "output_type": "stream",
     "text": [
      "Downloaded MP3\n"
     ]
    },
    {
     "name": "stderr",
     "output_type": "stream",
     "text": [
      "1192it [15:06,  1.11it/s]"
     ]
    },
    {
     "name": "stdout",
     "output_type": "stream",
     "text": [
      "Downloaded MP3\n"
     ]
    },
    {
     "name": "stderr",
     "output_type": "stream",
     "text": [
      "1193it [15:07,  1.14it/s]"
     ]
    },
    {
     "name": "stdout",
     "output_type": "stream",
     "text": [
      "Downloaded MP3\n"
     ]
    },
    {
     "name": "stderr",
     "output_type": "stream",
     "text": [
      "1194it [15:08,  1.06it/s]"
     ]
    },
    {
     "name": "stdout",
     "output_type": "stream",
     "text": [
      "Downloaded MP3\n"
     ]
    },
    {
     "name": "stderr",
     "output_type": "stream",
     "text": [
      "1195it [15:09,  1.06it/s]"
     ]
    },
    {
     "name": "stdout",
     "output_type": "stream",
     "text": [
      "Downloaded MP3\n"
     ]
    },
    {
     "name": "stderr",
     "output_type": "stream",
     "text": [
      "1196it [15:10,  1.09it/s]"
     ]
    },
    {
     "name": "stdout",
     "output_type": "stream",
     "text": [
      "Downloaded MP3\n"
     ]
    },
    {
     "name": "stderr",
     "output_type": "stream",
     "text": [
      "1197it [15:11,  1.12it/s]"
     ]
    },
    {
     "name": "stdout",
     "output_type": "stream",
     "text": [
      "Downloaded MP3\n"
     ]
    },
    {
     "name": "stderr",
     "output_type": "stream",
     "text": [
      "1198it [15:12,  1.14it/s]"
     ]
    },
    {
     "name": "stdout",
     "output_type": "stream",
     "text": [
      "Downloaded MP3\n"
     ]
    },
    {
     "name": "stderr",
     "output_type": "stream",
     "text": [
      "1199it [15:12,  1.14it/s]"
     ]
    },
    {
     "name": "stdout",
     "output_type": "stream",
     "text": [
      "Downloaded MP3\n"
     ]
    },
    {
     "name": "stderr",
     "output_type": "stream",
     "text": [
      "1200it [15:13,  1.11it/s]"
     ]
    },
    {
     "name": "stdout",
     "output_type": "stream",
     "text": [
      "Downloaded MP3\n"
     ]
    },
    {
     "name": "stderr",
     "output_type": "stream",
     "text": [
      "1201it [15:14,  1.07it/s]"
     ]
    },
    {
     "name": "stdout",
     "output_type": "stream",
     "text": [
      "Downloaded MP3\n"
     ]
    },
    {
     "name": "stderr",
     "output_type": "stream",
     "text": [
      "1202it [15:15,  1.09it/s]"
     ]
    },
    {
     "name": "stdout",
     "output_type": "stream",
     "text": [
      "Downloaded MP3\n"
     ]
    },
    {
     "name": "stderr",
     "output_type": "stream",
     "text": [
      "1203it [15:16,  1.04it/s]"
     ]
    },
    {
     "name": "stdout",
     "output_type": "stream",
     "text": [
      "Downloaded MP3\n"
     ]
    },
    {
     "name": "stderr",
     "output_type": "stream",
     "text": [
      "1204it [15:17,  1.06it/s]"
     ]
    },
    {
     "name": "stdout",
     "output_type": "stream",
     "text": [
      "Downloaded MP3\n"
     ]
    },
    {
     "name": "stderr",
     "output_type": "stream",
     "text": [
      "1205it [15:19,  1.25s/it]"
     ]
    },
    {
     "name": "stdout",
     "output_type": "stream",
     "text": [
      "Downloaded MP3\n"
     ]
    },
    {
     "name": "stderr",
     "output_type": "stream",
     "text": [
      "1206it [15:20,  1.15s/it]"
     ]
    },
    {
     "name": "stdout",
     "output_type": "stream",
     "text": [
      "Downloaded MP3\n"
     ]
    },
    {
     "name": "stderr",
     "output_type": "stream",
     "text": [
      "1207it [15:21,  1.09s/it]"
     ]
    },
    {
     "name": "stdout",
     "output_type": "stream",
     "text": [
      "Downloaded MP3\n"
     ]
    },
    {
     "name": "stderr",
     "output_type": "stream",
     "text": [
      "1208it [15:22,  1.04s/it]"
     ]
    },
    {
     "name": "stdout",
     "output_type": "stream",
     "text": [
      "Downloaded MP3\n"
     ]
    },
    {
     "name": "stderr",
     "output_type": "stream",
     "text": [
      "1209it [15:23,  1.00it/s]"
     ]
    },
    {
     "name": "stdout",
     "output_type": "stream",
     "text": [
      "Downloaded MP3\n"
     ]
    },
    {
     "name": "stderr",
     "output_type": "stream",
     "text": [
      "1210it [15:24,  1.08it/s]"
     ]
    },
    {
     "name": "stdout",
     "output_type": "stream",
     "text": [
      "Downloaded MP3\n"
     ]
    },
    {
     "name": "stderr",
     "output_type": "stream",
     "text": [
      "1211it [15:25,  1.07it/s]"
     ]
    },
    {
     "name": "stdout",
     "output_type": "stream",
     "text": [
      "Downloaded MP3\n"
     ]
    },
    {
     "name": "stderr",
     "output_type": "stream",
     "text": [
      "1212it [15:25,  1.13it/s]"
     ]
    },
    {
     "name": "stdout",
     "output_type": "stream",
     "text": [
      "Downloaded MP3\n"
     ]
    },
    {
     "name": "stderr",
     "output_type": "stream",
     "text": [
      "1213it [15:26,  1.13it/s]"
     ]
    },
    {
     "name": "stdout",
     "output_type": "stream",
     "text": [
      "Downloaded MP3\n"
     ]
    },
    {
     "name": "stderr",
     "output_type": "stream",
     "text": [
      "1214it [15:27,  1.18it/s]"
     ]
    },
    {
     "name": "stdout",
     "output_type": "stream",
     "text": [
      "Downloaded MP3\n"
     ]
    },
    {
     "name": "stderr",
     "output_type": "stream",
     "text": [
      "1215it [15:28,  1.19it/s]"
     ]
    },
    {
     "name": "stdout",
     "output_type": "stream",
     "text": [
      "Downloaded MP3\n"
     ]
    },
    {
     "name": "stderr",
     "output_type": "stream",
     "text": [
      "1216it [15:29,  1.18it/s]"
     ]
    },
    {
     "name": "stdout",
     "output_type": "stream",
     "text": [
      "Downloaded MP3\n"
     ]
    },
    {
     "name": "stderr",
     "output_type": "stream",
     "text": [
      "1217it [15:30,  1.09it/s]"
     ]
    },
    {
     "name": "stdout",
     "output_type": "stream",
     "text": [
      "Downloaded MP3\n"
     ]
    },
    {
     "name": "stderr",
     "output_type": "stream",
     "text": [
      "1218it [15:31,  1.03it/s]"
     ]
    },
    {
     "name": "stdout",
     "output_type": "stream",
     "text": [
      "Downloaded MP3\n"
     ]
    },
    {
     "name": "stderr",
     "output_type": "stream",
     "text": [
      "1219it [15:32,  1.07it/s]"
     ]
    },
    {
     "name": "stdout",
     "output_type": "stream",
     "text": [
      "Downloaded MP3\n"
     ]
    },
    {
     "name": "stderr",
     "output_type": "stream",
     "text": [
      "1220it [15:33,  1.12it/s]"
     ]
    },
    {
     "name": "stdout",
     "output_type": "stream",
     "text": [
      "Downloaded MP3\n"
     ]
    },
    {
     "name": "stderr",
     "output_type": "stream",
     "text": [
      "1221it [15:33,  1.12it/s]"
     ]
    },
    {
     "name": "stdout",
     "output_type": "stream",
     "text": [
      "Downloaded MP3\n"
     ]
    },
    {
     "name": "stderr",
     "output_type": "stream",
     "text": [
      "1222it [15:34,  1.12it/s]"
     ]
    },
    {
     "name": "stdout",
     "output_type": "stream",
     "text": [
      "Downloaded MP3\n"
     ]
    },
    {
     "name": "stderr",
     "output_type": "stream",
     "text": [
      "1223it [15:35,  1.10it/s]"
     ]
    },
    {
     "name": "stdout",
     "output_type": "stream",
     "text": [
      "Downloaded MP3\n"
     ]
    },
    {
     "name": "stderr",
     "output_type": "stream",
     "text": [
      "1224it [15:36,  1.13it/s]"
     ]
    },
    {
     "name": "stdout",
     "output_type": "stream",
     "text": [
      "Downloaded MP3\n"
     ]
    },
    {
     "name": "stderr",
     "output_type": "stream",
     "text": [
      "1225it [15:37,  1.14it/s]"
     ]
    },
    {
     "name": "stdout",
     "output_type": "stream",
     "text": [
      "Downloaded MP3\n"
     ]
    },
    {
     "name": "stderr",
     "output_type": "stream",
     "text": [
      "1226it [15:38,  1.11it/s]"
     ]
    },
    {
     "name": "stdout",
     "output_type": "stream",
     "text": [
      "Downloaded MP3\n"
     ]
    },
    {
     "name": "stderr",
     "output_type": "stream",
     "text": [
      "1227it [15:39,  1.11it/s]"
     ]
    },
    {
     "name": "stdout",
     "output_type": "stream",
     "text": [
      "Downloaded MP3\n"
     ]
    },
    {
     "name": "stderr",
     "output_type": "stream",
     "text": [
      "1228it [15:40,  1.08it/s]"
     ]
    },
    {
     "name": "stdout",
     "output_type": "stream",
     "text": [
      "Downloaded MP3\n"
     ]
    },
    {
     "name": "stderr",
     "output_type": "stream",
     "text": [
      "1229it [15:41,  1.10it/s]"
     ]
    },
    {
     "name": "stdout",
     "output_type": "stream",
     "text": [
      "Downloaded MP3\n"
     ]
    },
    {
     "name": "stderr",
     "output_type": "stream",
     "text": [
      "1230it [15:41,  1.13it/s]"
     ]
    },
    {
     "name": "stdout",
     "output_type": "stream",
     "text": [
      "Downloaded MP3\n"
     ]
    },
    {
     "name": "stderr",
     "output_type": "stream",
     "text": [
      "1231it [15:42,  1.14it/s]"
     ]
    },
    {
     "name": "stdout",
     "output_type": "stream",
     "text": [
      "Downloaded MP3\n"
     ]
    },
    {
     "name": "stderr",
     "output_type": "stream",
     "text": [
      "1232it [15:43,  1.15it/s]"
     ]
    },
    {
     "name": "stdout",
     "output_type": "stream",
     "text": [
      "Downloaded MP3\n"
     ]
    },
    {
     "name": "stderr",
     "output_type": "stream",
     "text": [
      "1233it [15:44,  1.14it/s]"
     ]
    },
    {
     "name": "stdout",
     "output_type": "stream",
     "text": [
      "Downloaded MP3\n"
     ]
    },
    {
     "name": "stderr",
     "output_type": "stream",
     "text": [
      "1234it [15:45,  1.15it/s]"
     ]
    },
    {
     "name": "stdout",
     "output_type": "stream",
     "text": [
      "Downloaded MP3\n"
     ]
    },
    {
     "name": "stderr",
     "output_type": "stream",
     "text": [
      "1235it [15:46,  1.14it/s]"
     ]
    },
    {
     "name": "stdout",
     "output_type": "stream",
     "text": [
      "Downloaded MP3\n"
     ]
    },
    {
     "name": "stderr",
     "output_type": "stream",
     "text": [
      "1236it [15:47,  1.10it/s]"
     ]
    },
    {
     "name": "stdout",
     "output_type": "stream",
     "text": [
      "Downloaded MP3\n"
     ]
    },
    {
     "name": "stderr",
     "output_type": "stream",
     "text": [
      "1237it [15:48,  1.12it/s]"
     ]
    },
    {
     "name": "stdout",
     "output_type": "stream",
     "text": [
      "Downloaded MP3\n"
     ]
    },
    {
     "name": "stderr",
     "output_type": "stream",
     "text": [
      "1238it [15:49,  1.14it/s]"
     ]
    },
    {
     "name": "stdout",
     "output_type": "stream",
     "text": [
      "Downloaded MP3\n"
     ]
    },
    {
     "name": "stderr",
     "output_type": "stream",
     "text": [
      "1239it [15:49,  1.12it/s]"
     ]
    },
    {
     "name": "stdout",
     "output_type": "stream",
     "text": [
      "Downloaded MP3\n"
     ]
    },
    {
     "name": "stderr",
     "output_type": "stream",
     "text": [
      "1240it [15:50,  1.11it/s]"
     ]
    },
    {
     "name": "stdout",
     "output_type": "stream",
     "text": [
      "Downloaded MP3\n"
     ]
    },
    {
     "name": "stderr",
     "output_type": "stream",
     "text": [
      "1241it [15:51,  1.06it/s]"
     ]
    },
    {
     "name": "stdout",
     "output_type": "stream",
     "text": [
      "Downloaded MP3\n"
     ]
    },
    {
     "name": "stderr",
     "output_type": "stream",
     "text": [
      "1242it [15:52,  1.07it/s]"
     ]
    },
    {
     "name": "stdout",
     "output_type": "stream",
     "text": [
      "Downloaded MP3\n"
     ]
    },
    {
     "name": "stderr",
     "output_type": "stream",
     "text": [
      "1243it [15:53,  1.03it/s]"
     ]
    },
    {
     "name": "stdout",
     "output_type": "stream",
     "text": [
      "Downloaded MP3\n"
     ]
    },
    {
     "name": "stderr",
     "output_type": "stream",
     "text": [
      "1244it [15:54,  1.08it/s]"
     ]
    },
    {
     "name": "stdout",
     "output_type": "stream",
     "text": [
      "Downloaded MP3\n"
     ]
    },
    {
     "name": "stderr",
     "output_type": "stream",
     "text": [
      "1245it [15:55,  1.10it/s]"
     ]
    },
    {
     "name": "stdout",
     "output_type": "stream",
     "text": [
      "Downloaded MP3\n"
     ]
    },
    {
     "name": "stderr",
     "output_type": "stream",
     "text": [
      "1246it [15:56,  1.10it/s]"
     ]
    },
    {
     "name": "stdout",
     "output_type": "stream",
     "text": [
      "Downloaded MP3\n"
     ]
    },
    {
     "name": "stderr",
     "output_type": "stream",
     "text": [
      "1247it [15:57,  1.10it/s]"
     ]
    },
    {
     "name": "stdout",
     "output_type": "stream",
     "text": [
      "Downloaded MP3\n"
     ]
    },
    {
     "name": "stderr",
     "output_type": "stream",
     "text": [
      "1248it [15:58,  1.13it/s]"
     ]
    },
    {
     "name": "stdout",
     "output_type": "stream",
     "text": [
      "Downloaded MP3\n"
     ]
    },
    {
     "name": "stderr",
     "output_type": "stream",
     "text": [
      "1249it [15:59,  1.15it/s]"
     ]
    },
    {
     "name": "stdout",
     "output_type": "stream",
     "text": [
      "Downloaded MP3\n"
     ]
    },
    {
     "name": "stderr",
     "output_type": "stream",
     "text": [
      "1250it [15:59,  1.16it/s]"
     ]
    },
    {
     "name": "stdout",
     "output_type": "stream",
     "text": [
      "Downloaded MP3\n"
     ]
    },
    {
     "name": "stderr",
     "output_type": "stream",
     "text": [
      "1251it [16:00,  1.19it/s]"
     ]
    },
    {
     "name": "stdout",
     "output_type": "stream",
     "text": [
      "Downloaded MP3\n"
     ]
    },
    {
     "name": "stderr",
     "output_type": "stream",
     "text": [
      "1252it [16:01,  1.12it/s]"
     ]
    },
    {
     "name": "stdout",
     "output_type": "stream",
     "text": [
      "Downloaded MP3\n"
     ]
    },
    {
     "name": "stderr",
     "output_type": "stream",
     "text": [
      "1253it [16:02,  1.10it/s]"
     ]
    },
    {
     "name": "stdout",
     "output_type": "stream",
     "text": [
      "Downloaded MP3\n"
     ]
    },
    {
     "name": "stderr",
     "output_type": "stream",
     "text": [
      "1254it [16:03,  1.08it/s]"
     ]
    },
    {
     "name": "stdout",
     "output_type": "stream",
     "text": [
      "Downloaded MP3\n"
     ]
    },
    {
     "name": "stderr",
     "output_type": "stream",
     "text": [
      "1255it [16:04,  1.10it/s]"
     ]
    },
    {
     "name": "stdout",
     "output_type": "stream",
     "text": [
      "Downloaded MP3\n"
     ]
    },
    {
     "name": "stderr",
     "output_type": "stream",
     "text": [
      "1256it [16:05,  1.04it/s]"
     ]
    },
    {
     "name": "stdout",
     "output_type": "stream",
     "text": [
      "Downloaded MP3\n"
     ]
    },
    {
     "name": "stderr",
     "output_type": "stream",
     "text": [
      "1257it [16:06,  1.04it/s]"
     ]
    },
    {
     "name": "stdout",
     "output_type": "stream",
     "text": [
      "Downloaded MP3\n"
     ]
    },
    {
     "name": "stderr",
     "output_type": "stream",
     "text": [
      "1258it [16:07,  1.03it/s]"
     ]
    },
    {
     "name": "stdout",
     "output_type": "stream",
     "text": [
      "Downloaded MP3\n"
     ]
    },
    {
     "name": "stderr",
     "output_type": "stream",
     "text": [
      "1259it [16:08,  1.08s/it]"
     ]
    },
    {
     "name": "stdout",
     "output_type": "stream",
     "text": [
      "Downloaded MP3\n"
     ]
    },
    {
     "name": "stderr",
     "output_type": "stream",
     "text": [
      "1260it [16:10,  1.10s/it]"
     ]
    },
    {
     "name": "stdout",
     "output_type": "stream",
     "text": [
      "Downloaded MP3\n"
     ]
    },
    {
     "name": "stderr",
     "output_type": "stream",
     "text": [
      "1261it [16:11,  1.08s/it]"
     ]
    },
    {
     "name": "stdout",
     "output_type": "stream",
     "text": [
      "Downloaded MP3\n"
     ]
    },
    {
     "name": "stderr",
     "output_type": "stream",
     "text": [
      "1262it [16:11,  1.03s/it]"
     ]
    },
    {
     "name": "stdout",
     "output_type": "stream",
     "text": [
      "Downloaded MP3\n"
     ]
    },
    {
     "name": "stderr",
     "output_type": "stream",
     "text": [
      "1263it [16:12,  1.02it/s]"
     ]
    },
    {
     "name": "stdout",
     "output_type": "stream",
     "text": [
      "Downloaded MP3\n"
     ]
    },
    {
     "name": "stderr",
     "output_type": "stream",
     "text": [
      "1264it [16:13,  1.08it/s]"
     ]
    },
    {
     "name": "stdout",
     "output_type": "stream",
     "text": [
      "Downloaded MP3\n"
     ]
    },
    {
     "name": "stderr",
     "output_type": "stream",
     "text": [
      "1265it [16:14,  1.08it/s]"
     ]
    },
    {
     "name": "stdout",
     "output_type": "stream",
     "text": [
      "Downloaded MP3\n"
     ]
    },
    {
     "name": "stderr",
     "output_type": "stream",
     "text": [
      "1266it [16:15,  1.11it/s]"
     ]
    },
    {
     "name": "stdout",
     "output_type": "stream",
     "text": [
      "Downloaded MP3\n"
     ]
    },
    {
     "name": "stderr",
     "output_type": "stream",
     "text": [
      "1267it [16:18,  1.64s/it]"
     ]
    },
    {
     "name": "stdout",
     "output_type": "stream",
     "text": [
      "Downloaded MP3\n"
     ]
    },
    {
     "name": "stderr",
     "output_type": "stream",
     "text": [
      "1268it [16:19,  1.45s/it]"
     ]
    },
    {
     "name": "stdout",
     "output_type": "stream",
     "text": [
      "Downloaded MP3\n"
     ]
    },
    {
     "name": "stderr",
     "output_type": "stream",
     "text": [
      "1269it [16:20,  1.29s/it]"
     ]
    },
    {
     "name": "stdout",
     "output_type": "stream",
     "text": [
      "Downloaded MP3\n"
     ]
    },
    {
     "name": "stderr",
     "output_type": "stream",
     "text": [
      "1270it [16:21,  1.16s/it]"
     ]
    },
    {
     "name": "stdout",
     "output_type": "stream",
     "text": [
      "Downloaded MP3\n"
     ]
    },
    {
     "name": "stderr",
     "output_type": "stream",
     "text": [
      "1271it [16:22,  1.12s/it]"
     ]
    },
    {
     "name": "stdout",
     "output_type": "stream",
     "text": [
      "Downloaded MP3\n"
     ]
    },
    {
     "name": "stderr",
     "output_type": "stream",
     "text": [
      "1272it [16:23,  1.06s/it]"
     ]
    },
    {
     "name": "stdout",
     "output_type": "stream",
     "text": [
      "Downloaded MP3\n"
     ]
    },
    {
     "name": "stderr",
     "output_type": "stream",
     "text": [
      "1273it [16:24,  1.00it/s]"
     ]
    },
    {
     "name": "stdout",
     "output_type": "stream",
     "text": [
      "Downloaded MP3\n"
     ]
    },
    {
     "name": "stderr",
     "output_type": "stream",
     "text": [
      "1274it [16:25,  1.07it/s]"
     ]
    },
    {
     "name": "stdout",
     "output_type": "stream",
     "text": [
      "Downloaded MP3\n"
     ]
    },
    {
     "name": "stderr",
     "output_type": "stream",
     "text": [
      "1275it [16:26,  1.09it/s]"
     ]
    },
    {
     "name": "stdout",
     "output_type": "stream",
     "text": [
      "Downloaded MP3\n"
     ]
    },
    {
     "name": "stderr",
     "output_type": "stream",
     "text": [
      "1276it [16:27,  1.06it/s]"
     ]
    },
    {
     "name": "stdout",
     "output_type": "stream",
     "text": [
      "Downloaded MP3\n"
     ]
    },
    {
     "name": "stderr",
     "output_type": "stream",
     "text": [
      "1277it [16:27,  1.10it/s]"
     ]
    },
    {
     "name": "stdout",
     "output_type": "stream",
     "text": [
      "Downloaded MP3\n"
     ]
    },
    {
     "name": "stderr",
     "output_type": "stream",
     "text": [
      "1278it [16:28,  1.08it/s]"
     ]
    },
    {
     "name": "stdout",
     "output_type": "stream",
     "text": [
      "Downloaded MP3\n"
     ]
    },
    {
     "name": "stderr",
     "output_type": "stream",
     "text": [
      "1279it [16:29,  1.04it/s]"
     ]
    },
    {
     "name": "stdout",
     "output_type": "stream",
     "text": [
      "Downloaded MP3\n"
     ]
    },
    {
     "name": "stderr",
     "output_type": "stream",
     "text": [
      "1280it [16:30,  1.10it/s]"
     ]
    },
    {
     "name": "stdout",
     "output_type": "stream",
     "text": [
      "Downloaded MP3\n"
     ]
    },
    {
     "name": "stderr",
     "output_type": "stream",
     "text": [
      "1281it [16:31,  1.11it/s]"
     ]
    },
    {
     "name": "stdout",
     "output_type": "stream",
     "text": [
      "Downloaded MP3\n"
     ]
    },
    {
     "name": "stderr",
     "output_type": "stream",
     "text": [
      "1282it [16:32,  1.09it/s]"
     ]
    },
    {
     "name": "stdout",
     "output_type": "stream",
     "text": [
      "Downloaded MP3\n"
     ]
    },
    {
     "name": "stderr",
     "output_type": "stream",
     "text": [
      "1283it [16:33,  1.08it/s]"
     ]
    },
    {
     "name": "stdout",
     "output_type": "stream",
     "text": [
      "Downloaded MP3\n"
     ]
    },
    {
     "name": "stderr",
     "output_type": "stream",
     "text": [
      "1284it [16:34,  1.10it/s]"
     ]
    },
    {
     "name": "stdout",
     "output_type": "stream",
     "text": [
      "Downloaded MP3\n"
     ]
    },
    {
     "name": "stderr",
     "output_type": "stream",
     "text": [
      "1285it [16:35,  1.10it/s]"
     ]
    },
    {
     "name": "stdout",
     "output_type": "stream",
     "text": [
      "Downloaded MP3\n"
     ]
    },
    {
     "name": "stderr",
     "output_type": "stream",
     "text": [
      "1286it [16:36,  1.10it/s]"
     ]
    },
    {
     "name": "stdout",
     "output_type": "stream",
     "text": [
      "Downloaded MP3\n"
     ]
    },
    {
     "name": "stderr",
     "output_type": "stream",
     "text": [
      "1287it [16:36,  1.13it/s]"
     ]
    },
    {
     "name": "stdout",
     "output_type": "stream",
     "text": [
      "Downloaded MP3\n"
     ]
    },
    {
     "name": "stderr",
     "output_type": "stream",
     "text": [
      "1288it [16:37,  1.13it/s]"
     ]
    },
    {
     "name": "stdout",
     "output_type": "stream",
     "text": [
      "Downloaded MP3\n"
     ]
    },
    {
     "name": "stderr",
     "output_type": "stream",
     "text": [
      "1289it [16:38,  1.14it/s]"
     ]
    },
    {
     "name": "stdout",
     "output_type": "stream",
     "text": [
      "Downloaded MP3\n"
     ]
    },
    {
     "name": "stderr",
     "output_type": "stream",
     "text": [
      "1290it [16:39,  1.08it/s]"
     ]
    },
    {
     "name": "stdout",
     "output_type": "stream",
     "text": [
      "Downloaded MP3\n"
     ]
    },
    {
     "name": "stderr",
     "output_type": "stream",
     "text": [
      "1291it [16:40,  1.10it/s]"
     ]
    },
    {
     "name": "stdout",
     "output_type": "stream",
     "text": [
      "Downloaded MP3\n"
     ]
    },
    {
     "name": "stderr",
     "output_type": "stream",
     "text": [
      "1292it [16:41,  1.12it/s]"
     ]
    },
    {
     "name": "stdout",
     "output_type": "stream",
     "text": [
      "Downloaded MP3\n"
     ]
    },
    {
     "name": "stderr",
     "output_type": "stream",
     "text": [
      "1293it [16:42,  1.13it/s]"
     ]
    },
    {
     "name": "stdout",
     "output_type": "stream",
     "text": [
      "Downloaded MP3\n"
     ]
    },
    {
     "name": "stderr",
     "output_type": "stream",
     "text": [
      "1294it [16:43,  1.15it/s]"
     ]
    },
    {
     "name": "stdout",
     "output_type": "stream",
     "text": [
      "Downloaded MP3\n"
     ]
    },
    {
     "name": "stderr",
     "output_type": "stream",
     "text": [
      "1295it [16:43,  1.20it/s]"
     ]
    },
    {
     "name": "stdout",
     "output_type": "stream",
     "text": [
      "Downloaded MP3\n"
     ]
    },
    {
     "name": "stderr",
     "output_type": "stream",
     "text": [
      "1296it [16:44,  1.23it/s]"
     ]
    },
    {
     "name": "stdout",
     "output_type": "stream",
     "text": [
      "Downloaded MP3\n"
     ]
    },
    {
     "name": "stderr",
     "output_type": "stream",
     "text": [
      "1297it [16:45,  1.20it/s]"
     ]
    },
    {
     "name": "stdout",
     "output_type": "stream",
     "text": [
      "Downloaded MP3\n"
     ]
    },
    {
     "name": "stderr",
     "output_type": "stream",
     "text": [
      "1298it [16:46,  1.21it/s]"
     ]
    },
    {
     "name": "stdout",
     "output_type": "stream",
     "text": [
      "Downloaded MP3\n"
     ]
    },
    {
     "name": "stderr",
     "output_type": "stream",
     "text": [
      "1299it [16:48,  1.10s/it]"
     ]
    },
    {
     "name": "stdout",
     "output_type": "stream",
     "text": [
      "Downloaded MP3\n"
     ]
    },
    {
     "name": "stderr",
     "output_type": "stream",
     "text": [
      "1300it [16:48,  1.02s/it]"
     ]
    },
    {
     "name": "stdout",
     "output_type": "stream",
     "text": [
      "Downloaded MP3\n"
     ]
    },
    {
     "name": "stderr",
     "output_type": "stream",
     "text": [
      "1301it [16:49,  1.00it/s]"
     ]
    },
    {
     "name": "stdout",
     "output_type": "stream",
     "text": [
      "Downloaded MP3\n"
     ]
    },
    {
     "name": "stderr",
     "output_type": "stream",
     "text": [
      "1302it [16:50,  1.03it/s]"
     ]
    },
    {
     "name": "stdout",
     "output_type": "stream",
     "text": [
      "Downloaded MP3\n"
     ]
    },
    {
     "name": "stderr",
     "output_type": "stream",
     "text": [
      "1303it [16:51,  1.01it/s]"
     ]
    },
    {
     "name": "stdout",
     "output_type": "stream",
     "text": [
      "Downloaded MP3\n"
     ]
    },
    {
     "name": "stderr",
     "output_type": "stream",
     "text": [
      "1304it [16:52,  1.04it/s]"
     ]
    },
    {
     "name": "stdout",
     "output_type": "stream",
     "text": [
      "Downloaded MP3\n"
     ]
    },
    {
     "name": "stderr",
     "output_type": "stream",
     "text": [
      "1305it [16:53,  1.04it/s]"
     ]
    },
    {
     "name": "stdout",
     "output_type": "stream",
     "text": [
      "Downloaded MP3\n"
     ]
    },
    {
     "name": "stderr",
     "output_type": "stream",
     "text": [
      "1306it [16:54,  1.06it/s]"
     ]
    },
    {
     "name": "stdout",
     "output_type": "stream",
     "text": [
      "Downloaded MP3\n"
     ]
    },
    {
     "name": "stderr",
     "output_type": "stream",
     "text": [
      "1307it [16:55,  1.08it/s]"
     ]
    },
    {
     "name": "stdout",
     "output_type": "stream",
     "text": [
      "Downloaded MP3\n"
     ]
    },
    {
     "name": "stderr",
     "output_type": "stream",
     "text": [
      "1308it [16:56,  1.12it/s]"
     ]
    },
    {
     "name": "stdout",
     "output_type": "stream",
     "text": [
      "Downloaded MP3\n"
     ]
    },
    {
     "name": "stderr",
     "output_type": "stream",
     "text": [
      "1309it [16:57,  1.15it/s]"
     ]
    },
    {
     "name": "stdout",
     "output_type": "stream",
     "text": [
      "Downloaded MP3\n"
     ]
    },
    {
     "name": "stderr",
     "output_type": "stream",
     "text": [
      "1310it [16:57,  1.14it/s]"
     ]
    },
    {
     "name": "stdout",
     "output_type": "stream",
     "text": [
      "Downloaded MP3\n"
     ]
    },
    {
     "name": "stderr",
     "output_type": "stream",
     "text": [
      "1311it [16:58,  1.13it/s]"
     ]
    },
    {
     "name": "stdout",
     "output_type": "stream",
     "text": [
      "Downloaded MP3\n"
     ]
    },
    {
     "name": "stderr",
     "output_type": "stream",
     "text": [
      "1312it [16:59,  1.13it/s]"
     ]
    },
    {
     "name": "stdout",
     "output_type": "stream",
     "text": [
      "Downloaded MP3\n"
     ]
    },
    {
     "name": "stderr",
     "output_type": "stream",
     "text": [
      "1313it [17:00,  1.07it/s]"
     ]
    },
    {
     "name": "stdout",
     "output_type": "stream",
     "text": [
      "Downloaded MP3\n"
     ]
    },
    {
     "name": "stderr",
     "output_type": "stream",
     "text": [
      "1314it [17:01,  1.09it/s]"
     ]
    },
    {
     "name": "stdout",
     "output_type": "stream",
     "text": [
      "Downloaded MP3\n"
     ]
    },
    {
     "name": "stderr",
     "output_type": "stream",
     "text": [
      "1315it [17:02,  1.11it/s]"
     ]
    },
    {
     "name": "stdout",
     "output_type": "stream",
     "text": [
      "Downloaded MP3\n"
     ]
    },
    {
     "name": "stderr",
     "output_type": "stream",
     "text": [
      "1316it [17:03,  1.13it/s]"
     ]
    },
    {
     "name": "stdout",
     "output_type": "stream",
     "text": [
      "Downloaded MP3\n"
     ]
    },
    {
     "name": "stderr",
     "output_type": "stream",
     "text": [
      "1317it [17:04,  1.12it/s]"
     ]
    },
    {
     "name": "stdout",
     "output_type": "stream",
     "text": [
      "Downloaded MP3\n"
     ]
    },
    {
     "name": "stderr",
     "output_type": "stream",
     "text": [
      "1318it [17:05,  1.12it/s]"
     ]
    },
    {
     "name": "stdout",
     "output_type": "stream",
     "text": [
      "Downloaded MP3\n"
     ]
    },
    {
     "name": "stderr",
     "output_type": "stream",
     "text": [
      "1319it [17:06,  1.10it/s]"
     ]
    },
    {
     "name": "stdout",
     "output_type": "stream",
     "text": [
      "Downloaded MP3\n"
     ]
    },
    {
     "name": "stderr",
     "output_type": "stream",
     "text": [
      "1320it [17:07,  1.10it/s]"
     ]
    },
    {
     "name": "stdout",
     "output_type": "stream",
     "text": [
      "Downloaded MP3\n"
     ]
    },
    {
     "name": "stderr",
     "output_type": "stream",
     "text": [
      "1321it [17:08,  1.08it/s]"
     ]
    },
    {
     "name": "stdout",
     "output_type": "stream",
     "text": [
      "Downloaded MP3\n"
     ]
    },
    {
     "name": "stderr",
     "output_type": "stream",
     "text": [
      "1322it [17:08,  1.11it/s]"
     ]
    },
    {
     "name": "stdout",
     "output_type": "stream",
     "text": [
      "Downloaded MP3\n"
     ]
    },
    {
     "name": "stderr",
     "output_type": "stream",
     "text": [
      "1323it [17:09,  1.10it/s]"
     ]
    },
    {
     "name": "stdout",
     "output_type": "stream",
     "text": [
      "Downloaded MP3\n"
     ]
    },
    {
     "name": "stderr",
     "output_type": "stream",
     "text": [
      "1324it [17:10,  1.05it/s]"
     ]
    },
    {
     "name": "stdout",
     "output_type": "stream",
     "text": [
      "Downloaded MP3\n"
     ]
    },
    {
     "name": "stderr",
     "output_type": "stream",
     "text": [
      "1325it [17:11,  1.03it/s]"
     ]
    },
    {
     "name": "stdout",
     "output_type": "stream",
     "text": [
      "Downloaded MP3\n"
     ]
    },
    {
     "name": "stderr",
     "output_type": "stream",
     "text": [
      "1326it [17:12,  1.02it/s]"
     ]
    },
    {
     "name": "stdout",
     "output_type": "stream",
     "text": [
      "Downloaded MP3\n"
     ]
    },
    {
     "name": "stderr",
     "output_type": "stream",
     "text": [
      "1327it [17:13,  1.09it/s]"
     ]
    },
    {
     "name": "stdout",
     "output_type": "stream",
     "text": [
      "Downloaded MP3\n"
     ]
    },
    {
     "name": "stderr",
     "output_type": "stream",
     "text": [
      "1328it [17:14,  1.13it/s]"
     ]
    },
    {
     "name": "stdout",
     "output_type": "stream",
     "text": [
      "Downloaded MP3\n"
     ]
    },
    {
     "name": "stderr",
     "output_type": "stream",
     "text": [
      "1329it [17:15,  1.13it/s]"
     ]
    },
    {
     "name": "stdout",
     "output_type": "stream",
     "text": [
      "Downloaded MP3\n"
     ]
    },
    {
     "name": "stderr",
     "output_type": "stream",
     "text": [
      "1330it [17:16,  1.14it/s]"
     ]
    },
    {
     "name": "stdout",
     "output_type": "stream",
     "text": [
      "Downloaded MP3\n"
     ]
    },
    {
     "name": "stderr",
     "output_type": "stream",
     "text": [
      "1331it [17:17,  1.01it/s]"
     ]
    },
    {
     "name": "stdout",
     "output_type": "stream",
     "text": [
      "Downloaded MP3\n"
     ]
    },
    {
     "name": "stderr",
     "output_type": "stream",
     "text": [
      "1332it [17:18,  1.02it/s]"
     ]
    },
    {
     "name": "stdout",
     "output_type": "stream",
     "text": [
      "Downloaded MP3\n"
     ]
    },
    {
     "name": "stderr",
     "output_type": "stream",
     "text": [
      "1333it [17:19,  1.05it/s]"
     ]
    },
    {
     "name": "stdout",
     "output_type": "stream",
     "text": [
      "Downloaded MP3\n"
     ]
    },
    {
     "name": "stderr",
     "output_type": "stream",
     "text": [
      "1334it [17:27,  3.14s/it]"
     ]
    },
    {
     "name": "stdout",
     "output_type": "stream",
     "text": [
      "Downloaded MP3\n"
     ]
    },
    {
     "name": "stderr",
     "output_type": "stream",
     "text": [
      "1335it [17:33,  3.89s/it]"
     ]
    },
    {
     "name": "stdout",
     "output_type": "stream",
     "text": [
      "Downloaded MP3\n"
     ]
    },
    {
     "name": "stderr",
     "output_type": "stream",
     "text": [
      "1336it [17:34,  2.99s/it]"
     ]
    },
    {
     "name": "stdout",
     "output_type": "stream",
     "text": [
      "Downloaded MP3\n"
     ]
    },
    {
     "name": "stderr",
     "output_type": "stream",
     "text": [
      "1337it [17:34,  2.36s/it]"
     ]
    },
    {
     "name": "stdout",
     "output_type": "stream",
     "text": [
      "Downloaded MP3\n"
     ]
    },
    {
     "name": "stderr",
     "output_type": "stream",
     "text": [
      "1338it [17:35,  1.96s/it]"
     ]
    },
    {
     "name": "stdout",
     "output_type": "stream",
     "text": [
      "Downloaded MP3\n"
     ]
    },
    {
     "name": "stderr",
     "output_type": "stream",
     "text": [
      "1339it [17:36,  1.66s/it]"
     ]
    },
    {
     "name": "stdout",
     "output_type": "stream",
     "text": [
      "Downloaded MP3\n"
     ]
    },
    {
     "name": "stderr",
     "output_type": "stream",
     "text": [
      "1340it [17:37,  1.41s/it]"
     ]
    },
    {
     "name": "stdout",
     "output_type": "stream",
     "text": [
      "Downloaded MP3\n"
     ]
    },
    {
     "name": "stderr",
     "output_type": "stream",
     "text": [
      "1341it [17:38,  1.24s/it]"
     ]
    },
    {
     "name": "stdout",
     "output_type": "stream",
     "text": [
      "Downloaded MP3\n"
     ]
    },
    {
     "name": "stderr",
     "output_type": "stream",
     "text": [
      "1342it [17:39,  1.13s/it]"
     ]
    },
    {
     "name": "stdout",
     "output_type": "stream",
     "text": [
      "Downloaded MP3\n"
     ]
    },
    {
     "name": "stderr",
     "output_type": "stream",
     "text": [
      "1343it [17:40,  1.06s/it]"
     ]
    },
    {
     "name": "stdout",
     "output_type": "stream",
     "text": [
      "Downloaded MP3\n"
     ]
    },
    {
     "name": "stderr",
     "output_type": "stream",
     "text": [
      "1344it [17:41,  1.09s/it]"
     ]
    },
    {
     "name": "stdout",
     "output_type": "stream",
     "text": [
      "Downloaded MP3\n"
     ]
    },
    {
     "name": "stderr",
     "output_type": "stream",
     "text": [
      "1345it [17:42,  1.01s/it]"
     ]
    },
    {
     "name": "stdout",
     "output_type": "stream",
     "text": [
      "Downloaded MP3\n"
     ]
    },
    {
     "name": "stderr",
     "output_type": "stream",
     "text": [
      "1346it [17:43,  1.06it/s]"
     ]
    },
    {
     "name": "stdout",
     "output_type": "stream",
     "text": [
      "Downloaded MP3\n"
     ]
    },
    {
     "name": "stderr",
     "output_type": "stream",
     "text": [
      "1347it [17:44,  1.10it/s]"
     ]
    },
    {
     "name": "stdout",
     "output_type": "stream",
     "text": [
      "Downloaded MP3\n"
     ]
    },
    {
     "name": "stderr",
     "output_type": "stream",
     "text": [
      "1348it [17:45,  1.06it/s]"
     ]
    },
    {
     "name": "stdout",
     "output_type": "stream",
     "text": [
      "Downloaded MP3\n"
     ]
    },
    {
     "name": "stderr",
     "output_type": "stream",
     "text": [
      "1349it [17:45,  1.08it/s]"
     ]
    },
    {
     "name": "stdout",
     "output_type": "stream",
     "text": [
      "Downloaded MP3\n"
     ]
    },
    {
     "name": "stderr",
     "output_type": "stream",
     "text": [
      "1350it [17:46,  1.09it/s]"
     ]
    },
    {
     "name": "stdout",
     "output_type": "stream",
     "text": [
      "Downloaded MP3\n"
     ]
    },
    {
     "name": "stderr",
     "output_type": "stream",
     "text": [
      "1351it [17:47,  1.08it/s]"
     ]
    },
    {
     "name": "stdout",
     "output_type": "stream",
     "text": [
      "Downloaded MP3\n"
     ]
    },
    {
     "name": "stderr",
     "output_type": "stream",
     "text": [
      "1352it [17:48,  1.10it/s]"
     ]
    },
    {
     "name": "stdout",
     "output_type": "stream",
     "text": [
      "Downloaded MP3\n"
     ]
    },
    {
     "name": "stderr",
     "output_type": "stream",
     "text": [
      "1353it [17:49,  1.14it/s]"
     ]
    },
    {
     "name": "stdout",
     "output_type": "stream",
     "text": [
      "Downloaded MP3\n"
     ]
    },
    {
     "name": "stderr",
     "output_type": "stream",
     "text": [
      "1354it [17:50,  1.13it/s]"
     ]
    },
    {
     "name": "stdout",
     "output_type": "stream",
     "text": [
      "Downloaded MP3\n"
     ]
    },
    {
     "name": "stderr",
     "output_type": "stream",
     "text": [
      "1355it [17:51,  1.12it/s]"
     ]
    },
    {
     "name": "stdout",
     "output_type": "stream",
     "text": [
      "Downloaded MP3\n"
     ]
    },
    {
     "name": "stderr",
     "output_type": "stream",
     "text": [
      "1356it [17:52,  1.08it/s]"
     ]
    },
    {
     "name": "stdout",
     "output_type": "stream",
     "text": [
      "Downloaded MP3\n"
     ]
    },
    {
     "name": "stderr",
     "output_type": "stream",
     "text": [
      "1357it [17:53,  1.11it/s]"
     ]
    },
    {
     "name": "stdout",
     "output_type": "stream",
     "text": [
      "Downloaded MP3\n"
     ]
    },
    {
     "name": "stderr",
     "output_type": "stream",
     "text": [
      "1358it [17:53,  1.13it/s]"
     ]
    },
    {
     "name": "stdout",
     "output_type": "stream",
     "text": [
      "Downloaded MP3\n"
     ]
    },
    {
     "name": "stderr",
     "output_type": "stream",
     "text": [
      "1359it [17:54,  1.11it/s]"
     ]
    },
    {
     "name": "stdout",
     "output_type": "stream",
     "text": [
      "Downloaded MP3\n"
     ]
    },
    {
     "name": "stderr",
     "output_type": "stream",
     "text": [
      "1360it [17:55,  1.12it/s]"
     ]
    },
    {
     "name": "stdout",
     "output_type": "stream",
     "text": [
      "Downloaded MP3\n"
     ]
    },
    {
     "name": "stderr",
     "output_type": "stream",
     "text": [
      "1361it [17:56,  1.13it/s]"
     ]
    },
    {
     "name": "stdout",
     "output_type": "stream",
     "text": [
      "Downloaded MP3\n"
     ]
    },
    {
     "name": "stderr",
     "output_type": "stream",
     "text": [
      "1362it [17:57,  1.11it/s]"
     ]
    },
    {
     "name": "stdout",
     "output_type": "stream",
     "text": [
      "Downloaded MP3\n"
     ]
    },
    {
     "name": "stderr",
     "output_type": "stream",
     "text": [
      "1363it [17:58,  1.09it/s]"
     ]
    },
    {
     "name": "stdout",
     "output_type": "stream",
     "text": [
      "Downloaded MP3\n"
     ]
    },
    {
     "name": "stderr",
     "output_type": "stream",
     "text": [
      "1364it [17:59,  1.07it/s]"
     ]
    },
    {
     "name": "stdout",
     "output_type": "stream",
     "text": [
      "Downloaded MP3\n"
     ]
    },
    {
     "name": "stderr",
     "output_type": "stream",
     "text": [
      "1365it [18:00,  1.09it/s]"
     ]
    },
    {
     "name": "stdout",
     "output_type": "stream",
     "text": [
      "Downloaded MP3\n"
     ]
    },
    {
     "name": "stderr",
     "output_type": "stream",
     "text": [
      "1366it [18:01,  1.14it/s]"
     ]
    },
    {
     "name": "stdout",
     "output_type": "stream",
     "text": [
      "Downloaded MP3\n"
     ]
    },
    {
     "name": "stderr",
     "output_type": "stream",
     "text": [
      "1367it [18:05,  1.79s/it]"
     ]
    },
    {
     "name": "stdout",
     "output_type": "stream",
     "text": [
      "Downloaded MP3\n"
     ]
    },
    {
     "name": "stderr",
     "output_type": "stream",
     "text": [
      "1368it [18:05,  1.52s/it]"
     ]
    },
    {
     "name": "stdout",
     "output_type": "stream",
     "text": [
      "Downloaded MP3\n"
     ]
    },
    {
     "name": "stderr",
     "output_type": "stream",
     "text": [
      "1369it [18:06,  1.30s/it]"
     ]
    },
    {
     "name": "stdout",
     "output_type": "stream",
     "text": [
      "Downloaded MP3\n"
     ]
    },
    {
     "name": "stderr",
     "output_type": "stream",
     "text": [
      "1370it [18:07,  1.20s/it]"
     ]
    },
    {
     "name": "stdout",
     "output_type": "stream",
     "text": [
      "Downloaded MP3\n"
     ]
    },
    {
     "name": "stderr",
     "output_type": "stream",
     "text": [
      "1371it [18:08,  1.09s/it]"
     ]
    },
    {
     "name": "stdout",
     "output_type": "stream",
     "text": [
      "Downloaded MP3\n"
     ]
    },
    {
     "name": "stderr",
     "output_type": "stream",
     "text": [
      "1372it [18:09,  1.07s/it]"
     ]
    },
    {
     "name": "stdout",
     "output_type": "stream",
     "text": [
      "Downloaded MP3\n"
     ]
    },
    {
     "name": "stderr",
     "output_type": "stream",
     "text": [
      "1373it [18:10,  1.02s/it]"
     ]
    },
    {
     "name": "stdout",
     "output_type": "stream",
     "text": [
      "Downloaded MP3\n"
     ]
    },
    {
     "name": "stderr",
     "output_type": "stream",
     "text": [
      "1374it [18:11,  1.04s/it]"
     ]
    },
    {
     "name": "stdout",
     "output_type": "stream",
     "text": [
      "Downloaded MP3\n"
     ]
    },
    {
     "name": "stderr",
     "output_type": "stream",
     "text": [
      "1375it [18:12,  1.01s/it]"
     ]
    },
    {
     "name": "stdout",
     "output_type": "stream",
     "text": [
      "Downloaded MP3\n"
     ]
    },
    {
     "name": "stderr",
     "output_type": "stream",
     "text": [
      "1376it [18:13,  1.03it/s]"
     ]
    },
    {
     "name": "stdout",
     "output_type": "stream",
     "text": [
      "Downloaded MP3\n"
     ]
    },
    {
     "name": "stderr",
     "output_type": "stream",
     "text": [
      "1377it [18:14,  1.08it/s]"
     ]
    },
    {
     "name": "stdout",
     "output_type": "stream",
     "text": [
      "Downloaded MP3\n"
     ]
    },
    {
     "name": "stderr",
     "output_type": "stream",
     "text": [
      "1378it [18:15,  1.10it/s]"
     ]
    },
    {
     "name": "stdout",
     "output_type": "stream",
     "text": [
      "Downloaded MP3\n"
     ]
    },
    {
     "name": "stderr",
     "output_type": "stream",
     "text": [
      "1379it [18:15,  1.09it/s]"
     ]
    },
    {
     "name": "stdout",
     "output_type": "stream",
     "text": [
      "Downloaded MP3\n"
     ]
    },
    {
     "name": "stderr",
     "output_type": "stream",
     "text": [
      "1380it [18:16,  1.10it/s]"
     ]
    },
    {
     "name": "stdout",
     "output_type": "stream",
     "text": [
      "Downloaded MP3\n"
     ]
    },
    {
     "name": "stderr",
     "output_type": "stream",
     "text": [
      "1381it [18:17,  1.07it/s]"
     ]
    },
    {
     "name": "stdout",
     "output_type": "stream",
     "text": [
      "Downloaded MP3\n"
     ]
    },
    {
     "name": "stderr",
     "output_type": "stream",
     "text": [
      "1382it [18:18,  1.10it/s]"
     ]
    },
    {
     "name": "stdout",
     "output_type": "stream",
     "text": [
      "Downloaded MP3\n"
     ]
    },
    {
     "name": "stderr",
     "output_type": "stream",
     "text": [
      "1383it [18:19,  1.15it/s]"
     ]
    },
    {
     "name": "stdout",
     "output_type": "stream",
     "text": [
      "Downloaded MP3\n"
     ]
    },
    {
     "name": "stderr",
     "output_type": "stream",
     "text": [
      "1384it [18:20,  1.09it/s]"
     ]
    },
    {
     "name": "stdout",
     "output_type": "stream",
     "text": [
      "Downloaded MP3\n"
     ]
    },
    {
     "name": "stderr",
     "output_type": "stream",
     "text": [
      "1385it [18:21,  1.10it/s]"
     ]
    },
    {
     "name": "stdout",
     "output_type": "stream",
     "text": [
      "Downloaded MP3\n"
     ]
    },
    {
     "name": "stderr",
     "output_type": "stream",
     "text": [
      "1386it [18:22,  1.15it/s]"
     ]
    },
    {
     "name": "stdout",
     "output_type": "stream",
     "text": [
      "Downloaded MP3\n"
     ]
    },
    {
     "name": "stderr",
     "output_type": "stream",
     "text": [
      "1387it [18:22,  1.17it/s]"
     ]
    },
    {
     "name": "stdout",
     "output_type": "stream",
     "text": [
      "Downloaded MP3\n"
     ]
    },
    {
     "name": "stderr",
     "output_type": "stream",
     "text": [
      "1388it [18:23,  1.15it/s]"
     ]
    },
    {
     "name": "stdout",
     "output_type": "stream",
     "text": [
      "Downloaded MP3\n"
     ]
    },
    {
     "name": "stderr",
     "output_type": "stream",
     "text": [
      "1389it [18:24,  1.18it/s]"
     ]
    },
    {
     "name": "stdout",
     "output_type": "stream",
     "text": [
      "Downloaded MP3\n"
     ]
    },
    {
     "name": "stderr",
     "output_type": "stream",
     "text": [
      "1390it [18:25,  1.16it/s]"
     ]
    },
    {
     "name": "stdout",
     "output_type": "stream",
     "text": [
      "Downloaded MP3\n"
     ]
    },
    {
     "name": "stderr",
     "output_type": "stream",
     "text": [
      "1391it [18:26,  1.18it/s]"
     ]
    },
    {
     "name": "stdout",
     "output_type": "stream",
     "text": [
      "Downloaded MP3\n"
     ]
    },
    {
     "name": "stderr",
     "output_type": "stream",
     "text": [
      "1392it [18:27,  1.20it/s]"
     ]
    },
    {
     "name": "stdout",
     "output_type": "stream",
     "text": [
      "Downloaded MP3\n"
     ]
    },
    {
     "name": "stderr",
     "output_type": "stream",
     "text": [
      "1393it [18:28,  1.19it/s]"
     ]
    },
    {
     "name": "stdout",
     "output_type": "stream",
     "text": [
      "Downloaded MP3\n"
     ]
    },
    {
     "name": "stderr",
     "output_type": "stream",
     "text": [
      "1394it [18:29,  1.12it/s]"
     ]
    },
    {
     "name": "stdout",
     "output_type": "stream",
     "text": [
      "Downloaded MP3\n"
     ]
    },
    {
     "name": "stderr",
     "output_type": "stream",
     "text": [
      "1395it [18:29,  1.12it/s]"
     ]
    },
    {
     "name": "stdout",
     "output_type": "stream",
     "text": [
      "Downloaded MP3\n"
     ]
    },
    {
     "name": "stderr",
     "output_type": "stream",
     "text": [
      "1396it [18:30,  1.10it/s]"
     ]
    },
    {
     "name": "stdout",
     "output_type": "stream",
     "text": [
      "Downloaded MP3\n"
     ]
    },
    {
     "name": "stderr",
     "output_type": "stream",
     "text": [
      "1397it [18:31,  1.09it/s]"
     ]
    },
    {
     "name": "stdout",
     "output_type": "stream",
     "text": [
      "Downloaded MP3\n"
     ]
    },
    {
     "name": "stderr",
     "output_type": "stream",
     "text": [
      "1398it [18:32,  1.09it/s]"
     ]
    },
    {
     "name": "stdout",
     "output_type": "stream",
     "text": [
      "Downloaded MP3\n"
     ]
    },
    {
     "name": "stderr",
     "output_type": "stream",
     "text": [
      "1399it [18:33,  1.13it/s]"
     ]
    },
    {
     "name": "stdout",
     "output_type": "stream",
     "text": [
      "Downloaded MP3\n"
     ]
    },
    {
     "name": "stderr",
     "output_type": "stream",
     "text": [
      "1400it [18:34,  1.15it/s]"
     ]
    },
    {
     "name": "stdout",
     "output_type": "stream",
     "text": [
      "Downloaded MP3\n"
     ]
    },
    {
     "name": "stderr",
     "output_type": "stream",
     "text": [
      "1401it [18:35,  1.17it/s]"
     ]
    },
    {
     "name": "stdout",
     "output_type": "stream",
     "text": [
      "Downloaded MP3\n"
     ]
    },
    {
     "name": "stderr",
     "output_type": "stream",
     "text": [
      "1402it [18:36,  1.16it/s]"
     ]
    },
    {
     "name": "stdout",
     "output_type": "stream",
     "text": [
      "Downloaded MP3\n"
     ]
    },
    {
     "name": "stderr",
     "output_type": "stream",
     "text": [
      "1403it [18:36,  1.18it/s]"
     ]
    },
    {
     "name": "stdout",
     "output_type": "stream",
     "text": [
      "Downloaded MP3\n"
     ]
    },
    {
     "name": "stderr",
     "output_type": "stream",
     "text": [
      "1404it [18:37,  1.20it/s]"
     ]
    },
    {
     "name": "stdout",
     "output_type": "stream",
     "text": [
      "Downloaded MP3\n"
     ]
    },
    {
     "name": "stderr",
     "output_type": "stream",
     "text": [
      "1405it [18:38,  1.18it/s]"
     ]
    },
    {
     "name": "stdout",
     "output_type": "stream",
     "text": [
      "Downloaded MP3\n"
     ]
    },
    {
     "name": "stderr",
     "output_type": "stream",
     "text": [
      "1406it [18:39,  1.17it/s]"
     ]
    },
    {
     "name": "stdout",
     "output_type": "stream",
     "text": [
      "Downloaded MP3\n"
     ]
    },
    {
     "name": "stderr",
     "output_type": "stream",
     "text": [
      "1407it [18:40,  1.15it/s]"
     ]
    },
    {
     "name": "stdout",
     "output_type": "stream",
     "text": [
      "Downloaded MP3\n"
     ]
    },
    {
     "name": "stderr",
     "output_type": "stream",
     "text": [
      "1408it [18:41,  1.18it/s]"
     ]
    },
    {
     "name": "stdout",
     "output_type": "stream",
     "text": [
      "Downloaded MP3\n"
     ]
    },
    {
     "name": "stderr",
     "output_type": "stream",
     "text": [
      "1409it [18:42,  1.16it/s]"
     ]
    },
    {
     "name": "stdout",
     "output_type": "stream",
     "text": [
      "Downloaded MP3\n"
     ]
    },
    {
     "name": "stderr",
     "output_type": "stream",
     "text": [
      "1410it [18:43,  1.06it/s]"
     ]
    },
    {
     "name": "stdout",
     "output_type": "stream",
     "text": [
      "Downloaded MP3\n"
     ]
    },
    {
     "name": "stderr",
     "output_type": "stream",
     "text": [
      "1411it [18:44,  1.09it/s]"
     ]
    },
    {
     "name": "stdout",
     "output_type": "stream",
     "text": [
      "Downloaded MP3\n"
     ]
    },
    {
     "name": "stderr",
     "output_type": "stream",
     "text": [
      "1412it [18:44,  1.10it/s]"
     ]
    },
    {
     "name": "stdout",
     "output_type": "stream",
     "text": [
      "Downloaded MP3\n"
     ]
    },
    {
     "name": "stderr",
     "output_type": "stream",
     "text": [
      "1413it [18:45,  1.13it/s]"
     ]
    },
    {
     "name": "stdout",
     "output_type": "stream",
     "text": [
      "Downloaded MP3\n"
     ]
    },
    {
     "name": "stderr",
     "output_type": "stream",
     "text": [
      "1414it [18:46,  1.13it/s]"
     ]
    },
    {
     "name": "stdout",
     "output_type": "stream",
     "text": [
      "Downloaded MP3\n"
     ]
    },
    {
     "name": "stderr",
     "output_type": "stream",
     "text": [
      "1415it [18:47,  1.14it/s]"
     ]
    },
    {
     "name": "stdout",
     "output_type": "stream",
     "text": [
      "Downloaded MP3\n"
     ]
    },
    {
     "name": "stderr",
     "output_type": "stream",
     "text": [
      "1416it [18:48,  1.16it/s]"
     ]
    },
    {
     "name": "stdout",
     "output_type": "stream",
     "text": [
      "Downloaded MP3\n"
     ]
    },
    {
     "name": "stderr",
     "output_type": "stream",
     "text": [
      "1417it [18:49,  1.15it/s]"
     ]
    },
    {
     "name": "stdout",
     "output_type": "stream",
     "text": [
      "Downloaded MP3\n"
     ]
    },
    {
     "name": "stderr",
     "output_type": "stream",
     "text": [
      "1418it [18:50,  1.17it/s]"
     ]
    },
    {
     "name": "stdout",
     "output_type": "stream",
     "text": [
      "Downloaded MP3\n"
     ]
    },
    {
     "name": "stderr",
     "output_type": "stream",
     "text": [
      "1419it [18:50,  1.20it/s]"
     ]
    },
    {
     "name": "stdout",
     "output_type": "stream",
     "text": [
      "Downloaded MP3\n"
     ]
    },
    {
     "name": "stderr",
     "output_type": "stream",
     "text": [
      "1420it [18:51,  1.17it/s]"
     ]
    },
    {
     "name": "stdout",
     "output_type": "stream",
     "text": [
      "Downloaded MP3\n"
     ]
    },
    {
     "name": "stderr",
     "output_type": "stream",
     "text": [
      "1421it [18:52,  1.14it/s]"
     ]
    },
    {
     "name": "stdout",
     "output_type": "stream",
     "text": [
      "Downloaded MP3\n"
     ]
    },
    {
     "name": "stderr",
     "output_type": "stream",
     "text": [
      "1422it [18:53,  1.16it/s]"
     ]
    },
    {
     "name": "stdout",
     "output_type": "stream",
     "text": [
      "Downloaded MP3\n"
     ]
    },
    {
     "name": "stderr",
     "output_type": "stream",
     "text": [
      "1423it [18:54,  1.16it/s]"
     ]
    },
    {
     "name": "stdout",
     "output_type": "stream",
     "text": [
      "Downloaded MP3\n"
     ]
    },
    {
     "name": "stderr",
     "output_type": "stream",
     "text": [
      "1424it [18:55,  1.19it/s]"
     ]
    },
    {
     "name": "stdout",
     "output_type": "stream",
     "text": [
      "Downloaded MP3\n"
     ]
    },
    {
     "name": "stderr",
     "output_type": "stream",
     "text": [
      "1425it [18:55,  1.19it/s]"
     ]
    },
    {
     "name": "stdout",
     "output_type": "stream",
     "text": [
      "Downloaded MP3\n"
     ]
    },
    {
     "name": "stderr",
     "output_type": "stream",
     "text": [
      "1426it [18:56,  1.14it/s]"
     ]
    },
    {
     "name": "stdout",
     "output_type": "stream",
     "text": [
      "Downloaded MP3\n"
     ]
    },
    {
     "name": "stderr",
     "output_type": "stream",
     "text": [
      "1427it [18:57,  1.12it/s]"
     ]
    },
    {
     "name": "stdout",
     "output_type": "stream",
     "text": [
      "Downloaded MP3\n"
     ]
    },
    {
     "name": "stderr",
     "output_type": "stream",
     "text": [
      "1428it [18:58,  1.11it/s]"
     ]
    },
    {
     "name": "stdout",
     "output_type": "stream",
     "text": [
      "Downloaded MP3\n"
     ]
    },
    {
     "name": "stderr",
     "output_type": "stream",
     "text": [
      "1429it [18:59,  1.11it/s]"
     ]
    },
    {
     "name": "stdout",
     "output_type": "stream",
     "text": [
      "Downloaded MP3\n"
     ]
    },
    {
     "name": "stderr",
     "output_type": "stream",
     "text": [
      "1430it [19:00,  1.10it/s]"
     ]
    },
    {
     "name": "stdout",
     "output_type": "stream",
     "text": [
      "Downloaded MP3\n"
     ]
    },
    {
     "name": "stderr",
     "output_type": "stream",
     "text": [
      "1431it [19:01,  1.06it/s]"
     ]
    },
    {
     "name": "stdout",
     "output_type": "stream",
     "text": [
      "Downloaded MP3\n"
     ]
    },
    {
     "name": "stderr",
     "output_type": "stream",
     "text": [
      "1432it [19:02,  1.09it/s]"
     ]
    },
    {
     "name": "stdout",
     "output_type": "stream",
     "text": [
      "Downloaded MP3\n"
     ]
    },
    {
     "name": "stderr",
     "output_type": "stream",
     "text": [
      "1433it [19:03,  1.10it/s]"
     ]
    },
    {
     "name": "stdout",
     "output_type": "stream",
     "text": [
      "Downloaded MP3\n"
     ]
    },
    {
     "name": "stderr",
     "output_type": "stream",
     "text": [
      "1434it [19:04,  1.05it/s]"
     ]
    },
    {
     "name": "stdout",
     "output_type": "stream",
     "text": [
      "Downloaded MP3\n"
     ]
    },
    {
     "name": "stderr",
     "output_type": "stream",
     "text": [
      "1435it [19:05,  1.07it/s]"
     ]
    },
    {
     "name": "stdout",
     "output_type": "stream",
     "text": [
      "Downloaded MP3\n"
     ]
    },
    {
     "name": "stderr",
     "output_type": "stream",
     "text": [
      "1436it [19:06,  1.13it/s]"
     ]
    },
    {
     "name": "stdout",
     "output_type": "stream",
     "text": [
      "Downloaded MP3\n"
     ]
    },
    {
     "name": "stderr",
     "output_type": "stream",
     "text": [
      "1437it [19:07,  1.13it/s]"
     ]
    },
    {
     "name": "stdout",
     "output_type": "stream",
     "text": [
      "Downloaded MP3\n"
     ]
    },
    {
     "name": "stderr",
     "output_type": "stream",
     "text": [
      "1438it [19:07,  1.13it/s]"
     ]
    },
    {
     "name": "stdout",
     "output_type": "stream",
     "text": [
      "Downloaded MP3\n"
     ]
    },
    {
     "name": "stderr",
     "output_type": "stream",
     "text": [
      "1439it [19:08,  1.14it/s]"
     ]
    },
    {
     "name": "stdout",
     "output_type": "stream",
     "text": [
      "Downloaded MP3\n"
     ]
    },
    {
     "name": "stderr",
     "output_type": "stream",
     "text": [
      "1440it [19:09,  1.14it/s]"
     ]
    },
    {
     "name": "stdout",
     "output_type": "stream",
     "text": [
      "Downloaded MP3\n"
     ]
    },
    {
     "name": "stderr",
     "output_type": "stream",
     "text": [
      "1441it [19:10,  1.16it/s]"
     ]
    },
    {
     "name": "stdout",
     "output_type": "stream",
     "text": [
      "Downloaded MP3\n"
     ]
    },
    {
     "name": "stderr",
     "output_type": "stream",
     "text": [
      "1442it [19:11,  1.18it/s]"
     ]
    },
    {
     "name": "stdout",
     "output_type": "stream",
     "text": [
      "Downloaded MP3\n"
     ]
    },
    {
     "name": "stderr",
     "output_type": "stream",
     "text": [
      "1443it [19:12,  1.15it/s]"
     ]
    },
    {
     "name": "stdout",
     "output_type": "stream",
     "text": [
      "Downloaded MP3\n"
     ]
    },
    {
     "name": "stderr",
     "output_type": "stream",
     "text": [
      "1444it [19:13,  1.16it/s]"
     ]
    },
    {
     "name": "stdout",
     "output_type": "stream",
     "text": [
      "Downloaded MP3\n"
     ]
    },
    {
     "name": "stderr",
     "output_type": "stream",
     "text": [
      "1445it [19:14,  1.05it/s]"
     ]
    },
    {
     "name": "stdout",
     "output_type": "stream",
     "text": [
      "Downloaded MP3\n"
     ]
    },
    {
     "name": "stderr",
     "output_type": "stream",
     "text": [
      "1446it [19:15,  1.08it/s]"
     ]
    },
    {
     "name": "stdout",
     "output_type": "stream",
     "text": [
      "Downloaded MP3\n"
     ]
    },
    {
     "name": "stderr",
     "output_type": "stream",
     "text": [
      "1447it [19:15,  1.11it/s]"
     ]
    },
    {
     "name": "stdout",
     "output_type": "stream",
     "text": [
      "Downloaded MP3\n"
     ]
    },
    {
     "name": "stderr",
     "output_type": "stream",
     "text": [
      "1448it [19:16,  1.15it/s]"
     ]
    },
    {
     "name": "stdout",
     "output_type": "stream",
     "text": [
      "Downloaded MP3\n"
     ]
    },
    {
     "name": "stderr",
     "output_type": "stream",
     "text": [
      "1449it [19:17,  1.16it/s]"
     ]
    },
    {
     "name": "stdout",
     "output_type": "stream",
     "text": [
      "Downloaded MP3\n"
     ]
    },
    {
     "name": "stderr",
     "output_type": "stream",
     "text": [
      "1450it [19:18,  1.19it/s]"
     ]
    },
    {
     "name": "stdout",
     "output_type": "stream",
     "text": [
      "Downloaded MP3\n"
     ]
    },
    {
     "name": "stderr",
     "output_type": "stream",
     "text": [
      "1451it [19:19,  1.17it/s]"
     ]
    },
    {
     "name": "stdout",
     "output_type": "stream",
     "text": [
      "Downloaded MP3\n"
     ]
    },
    {
     "name": "stderr",
     "output_type": "stream",
     "text": [
      "1452it [19:20,  1.19it/s]"
     ]
    },
    {
     "name": "stdout",
     "output_type": "stream",
     "text": [
      "Downloaded MP3\n"
     ]
    },
    {
     "name": "stderr",
     "output_type": "stream",
     "text": [
      "1453it [19:20,  1.16it/s]"
     ]
    },
    {
     "name": "stdout",
     "output_type": "stream",
     "text": [
      "Downloaded MP3\n"
     ]
    },
    {
     "name": "stderr",
     "output_type": "stream",
     "text": [
      "1454it [19:21,  1.18it/s]"
     ]
    },
    {
     "name": "stdout",
     "output_type": "stream",
     "text": [
      "Downloaded MP3\n"
     ]
    },
    {
     "name": "stderr",
     "output_type": "stream",
     "text": [
      "1455it [19:22,  1.17it/s]"
     ]
    },
    {
     "name": "stdout",
     "output_type": "stream",
     "text": [
      "Downloaded MP3\n"
     ]
    },
    {
     "name": "stderr",
     "output_type": "stream",
     "text": [
      "1456it [19:23,  1.17it/s]"
     ]
    },
    {
     "name": "stdout",
     "output_type": "stream",
     "text": [
      "Downloaded MP3\n"
     ]
    },
    {
     "name": "stderr",
     "output_type": "stream",
     "text": [
      "1457it [19:24,  1.16it/s]"
     ]
    },
    {
     "name": "stdout",
     "output_type": "stream",
     "text": [
      "Downloaded MP3\n"
     ]
    },
    {
     "name": "stderr",
     "output_type": "stream",
     "text": [
      "1458it [19:25,  1.16it/s]"
     ]
    },
    {
     "name": "stdout",
     "output_type": "stream",
     "text": [
      "Downloaded MP3\n"
     ]
    },
    {
     "name": "stderr",
     "output_type": "stream",
     "text": [
      "1459it [19:26,  1.18it/s]"
     ]
    },
    {
     "name": "stdout",
     "output_type": "stream",
     "text": [
      "Downloaded MP3\n"
     ]
    },
    {
     "name": "stderr",
     "output_type": "stream",
     "text": [
      "1460it [19:26,  1.18it/s]"
     ]
    },
    {
     "name": "stdout",
     "output_type": "stream",
     "text": [
      "Downloaded MP3\n"
     ]
    },
    {
     "name": "stderr",
     "output_type": "stream",
     "text": [
      "1461it [19:27,  1.14it/s]"
     ]
    },
    {
     "name": "stdout",
     "output_type": "stream",
     "text": [
      "Downloaded MP3\n"
     ]
    },
    {
     "name": "stderr",
     "output_type": "stream",
     "text": [
      "1462it [19:28,  1.14it/s]"
     ]
    },
    {
     "name": "stdout",
     "output_type": "stream",
     "text": [
      "Downloaded MP3\n"
     ]
    },
    {
     "name": "stderr",
     "output_type": "stream",
     "text": [
      "1463it [19:29,  1.15it/s]"
     ]
    },
    {
     "name": "stdout",
     "output_type": "stream",
     "text": [
      "Downloaded MP3\n"
     ]
    },
    {
     "name": "stderr",
     "output_type": "stream",
     "text": [
      "1464it [19:30,  1.16it/s]"
     ]
    },
    {
     "name": "stdout",
     "output_type": "stream",
     "text": [
      "Downloaded MP3\n"
     ]
    },
    {
     "name": "stderr",
     "output_type": "stream",
     "text": [
      "1465it [19:31,  1.14it/s]"
     ]
    },
    {
     "name": "stdout",
     "output_type": "stream",
     "text": [
      "Downloaded MP3\n"
     ]
    },
    {
     "name": "stderr",
     "output_type": "stream",
     "text": [
      "1466it [19:32,  1.12it/s]"
     ]
    },
    {
     "name": "stdout",
     "output_type": "stream",
     "text": [
      "Downloaded MP3\n"
     ]
    },
    {
     "name": "stderr",
     "output_type": "stream",
     "text": [
      "1467it [19:33,  1.06it/s]"
     ]
    },
    {
     "name": "stdout",
     "output_type": "stream",
     "text": [
      "Downloaded MP3\n"
     ]
    },
    {
     "name": "stderr",
     "output_type": "stream",
     "text": [
      "1468it [19:34,  1.09it/s]"
     ]
    },
    {
     "name": "stdout",
     "output_type": "stream",
     "text": [
      "Downloaded MP3\n"
     ]
    },
    {
     "name": "stderr",
     "output_type": "stream",
     "text": [
      "1469it [19:38,  1.90s/it]"
     ]
    },
    {
     "name": "stdout",
     "output_type": "stream",
     "text": [
      "Downloaded MP3\n"
     ]
    },
    {
     "name": "stderr",
     "output_type": "stream",
     "text": [
      "1470it [19:40,  1.83s/it]"
     ]
    },
    {
     "name": "stdout",
     "output_type": "stream",
     "text": [
      "Downloaded MP3\n"
     ]
    },
    {
     "name": "stderr",
     "output_type": "stream",
     "text": [
      "1471it [19:40,  1.53s/it]"
     ]
    },
    {
     "name": "stdout",
     "output_type": "stream",
     "text": [
      "Downloaded MP3\n"
     ]
    },
    {
     "name": "stderr",
     "output_type": "stream",
     "text": [
      "1472it [19:41,  1.35s/it]"
     ]
    },
    {
     "name": "stdout",
     "output_type": "stream",
     "text": [
      "Downloaded MP3\n"
     ]
    },
    {
     "name": "stderr",
     "output_type": "stream",
     "text": [
      "1473it [19:42,  1.22s/it]"
     ]
    },
    {
     "name": "stdout",
     "output_type": "stream",
     "text": [
      "Downloaded MP3\n"
     ]
    },
    {
     "name": "stderr",
     "output_type": "stream",
     "text": [
      "1474it [19:43,  1.14s/it]"
     ]
    },
    {
     "name": "stdout",
     "output_type": "stream",
     "text": [
      "Downloaded MP3\n"
     ]
    },
    {
     "name": "stderr",
     "output_type": "stream",
     "text": [
      "1475it [19:44,  1.12s/it]"
     ]
    },
    {
     "name": "stdout",
     "output_type": "stream",
     "text": [
      "Downloaded MP3\n"
     ]
    },
    {
     "name": "stderr",
     "output_type": "stream",
     "text": [
      "1476it [19:45,  1.08s/it]"
     ]
    },
    {
     "name": "stdout",
     "output_type": "stream",
     "text": [
      "Downloaded MP3\n"
     ]
    },
    {
     "name": "stderr",
     "output_type": "stream",
     "text": [
      "1477it [19:47,  1.34s/it]"
     ]
    },
    {
     "name": "stdout",
     "output_type": "stream",
     "text": [
      "Downloaded MP3\n"
     ]
    },
    {
     "name": "stderr",
     "output_type": "stream",
     "text": [
      "1478it [19:48,  1.20s/it]"
     ]
    },
    {
     "name": "stdout",
     "output_type": "stream",
     "text": [
      "Downloaded MP3\n"
     ]
    },
    {
     "name": "stderr",
     "output_type": "stream",
     "text": [
      "1479it [19:49,  1.10s/it]"
     ]
    },
    {
     "name": "stdout",
     "output_type": "stream",
     "text": [
      "Downloaded MP3\n"
     ]
    },
    {
     "name": "stderr",
     "output_type": "stream",
     "text": [
      "1480it [19:50,  1.02s/it]"
     ]
    },
    {
     "name": "stdout",
     "output_type": "stream",
     "text": [
      "Downloaded MP3\n"
     ]
    },
    {
     "name": "stderr",
     "output_type": "stream",
     "text": [
      "1481it [19:51,  1.01s/it]"
     ]
    },
    {
     "name": "stdout",
     "output_type": "stream",
     "text": [
      "Downloaded MP3\n"
     ]
    },
    {
     "name": "stderr",
     "output_type": "stream",
     "text": [
      "1482it [19:52,  1.04it/s]"
     ]
    },
    {
     "name": "stdout",
     "output_type": "stream",
     "text": [
      "Downloaded MP3\n"
     ]
    },
    {
     "name": "stderr",
     "output_type": "stream",
     "text": [
      "1483it [19:52,  1.08it/s]"
     ]
    },
    {
     "name": "stdout",
     "output_type": "stream",
     "text": [
      "Downloaded MP3\n"
     ]
    },
    {
     "name": "stderr",
     "output_type": "stream",
     "text": [
      "1484it [19:53,  1.09it/s]"
     ]
    },
    {
     "name": "stdout",
     "output_type": "stream",
     "text": [
      "Downloaded MP3\n"
     ]
    },
    {
     "name": "stderr",
     "output_type": "stream",
     "text": [
      "1485it [19:54,  1.11it/s]"
     ]
    },
    {
     "name": "stdout",
     "output_type": "stream",
     "text": [
      "Downloaded MP3\n"
     ]
    },
    {
     "name": "stderr",
     "output_type": "stream",
     "text": [
      "1486it [19:55,  1.13it/s]"
     ]
    },
    {
     "name": "stdout",
     "output_type": "stream",
     "text": [
      "Downloaded MP3\n"
     ]
    },
    {
     "name": "stderr",
     "output_type": "stream",
     "text": [
      "1487it [19:56,  1.12it/s]"
     ]
    },
    {
     "name": "stdout",
     "output_type": "stream",
     "text": [
      "Downloaded MP3\n"
     ]
    },
    {
     "name": "stderr",
     "output_type": "stream",
     "text": [
      "1488it [19:57,  1.13it/s]"
     ]
    },
    {
     "name": "stdout",
     "output_type": "stream",
     "text": [
      "Downloaded MP3\n"
     ]
    },
    {
     "name": "stderr",
     "output_type": "stream",
     "text": [
      "1489it [19:58,  1.13it/s]"
     ]
    },
    {
     "name": "stdout",
     "output_type": "stream",
     "text": [
      "Downloaded MP3\n"
     ]
    },
    {
     "name": "stderr",
     "output_type": "stream",
     "text": [
      "1490it [19:59,  1.14it/s]"
     ]
    },
    {
     "name": "stdout",
     "output_type": "stream",
     "text": [
      "Downloaded MP3\n"
     ]
    },
    {
     "name": "stderr",
     "output_type": "stream",
     "text": [
      "1491it [19:59,  1.15it/s]"
     ]
    },
    {
     "name": "stdout",
     "output_type": "stream",
     "text": [
      "Downloaded MP3\n"
     ]
    },
    {
     "name": "stderr",
     "output_type": "stream",
     "text": [
      "1492it [20:00,  1.15it/s]"
     ]
    },
    {
     "name": "stdout",
     "output_type": "stream",
     "text": [
      "Downloaded MP3\n"
     ]
    },
    {
     "name": "stderr",
     "output_type": "stream",
     "text": [
      "1493it [20:01,  1.15it/s]"
     ]
    },
    {
     "name": "stdout",
     "output_type": "stream",
     "text": [
      "Downloaded MP3\n"
     ]
    },
    {
     "name": "stderr",
     "output_type": "stream",
     "text": [
      "1494it [20:02,  1.11it/s]"
     ]
    },
    {
     "name": "stdout",
     "output_type": "stream",
     "text": [
      "Downloaded MP3\n"
     ]
    },
    {
     "name": "stderr",
     "output_type": "stream",
     "text": [
      "1495it [20:03,  1.13it/s]"
     ]
    },
    {
     "name": "stdout",
     "output_type": "stream",
     "text": [
      "Downloaded MP3\n"
     ]
    },
    {
     "name": "stderr",
     "output_type": "stream",
     "text": [
      "1496it [20:04,  1.24it/s]"
     ]
    },
    {
     "name": "stdout",
     "output_type": "stream",
     "text": [
      "Failed to download MP3. Status code: 404\n"
     ]
    },
    {
     "name": "stderr",
     "output_type": "stream",
     "text": [
      "\n"
     ]
    },
    {
     "ename": "TypeError",
     "evalue": "a bytes-like object is required, not 'NoneType'",
     "output_type": "error",
     "traceback": [
      "\u001b[0;31m---------------------------------------------------------------------------\u001b[0m",
      "\u001b[0;31mTypeError\u001b[0m                                 Traceback (most recent call last)",
      "Cell \u001b[0;32mIn[15], line 7\u001b[0m\n\u001b[1;32m      5\u001b[0m \u001b[38;5;28;01mif\u001b[39;00m title \u001b[38;5;129;01min\u001b[39;00m os\u001b[38;5;241m.\u001b[39mlistdir(\u001b[38;5;124m\"\u001b[39m\u001b[38;5;124m/nfs/scratch/students/neumannvi84434/Podcast_Episoden/\u001b[39m\u001b[38;5;124m\"\u001b[39m):\n\u001b[1;32m      6\u001b[0m     \u001b[38;5;28;01mcontinue\u001b[39;00m\n\u001b[0;32m----> 7\u001b[0m \u001b[43mdownload_and_save_mp3_in_dir\u001b[49m\u001b[43m(\u001b[49m\u001b[43mrow\u001b[49m\u001b[43m[\u001b[49m\u001b[38;5;124;43m\"\u001b[39;49m\u001b[38;5;124;43mdownload_url\u001b[39;49m\u001b[38;5;124;43m\"\u001b[39;49m\u001b[43m]\u001b[49m\u001b[43m,\u001b[49m\u001b[43m \u001b[49m\u001b[43mpath\u001b[49m\u001b[43m,\u001b[49m\u001b[43m \u001b[49m\u001b[43mtitle\u001b[49m\u001b[43m)\u001b[49m\n",
      "File \u001b[0;32m~/Bachelorarbeit/Bachelorarbeit/scripts/Episodes_Downloader/episodes_downloader.py:28\u001b[0m, in \u001b[0;36mdownload_and_save_mp3_in_dir\u001b[0;34m(url, path, filename)\u001b[0m\n\u001b[1;32m     26\u001b[0m audio \u001b[38;5;241m=\u001b[39m download_mp3(url)\n\u001b[1;32m     27\u001b[0m \u001b[38;5;28;01mwith\u001b[39;00m \u001b[38;5;28mopen\u001b[39m(path, \u001b[38;5;124m'\u001b[39m\u001b[38;5;124mwb\u001b[39m\u001b[38;5;124m'\u001b[39m) \u001b[38;5;28;01mas\u001b[39;00m mp3_file:\n\u001b[0;32m---> 28\u001b[0m     \u001b[43mmp3_file\u001b[49m\u001b[38;5;241;43m.\u001b[39;49m\u001b[43mwrite\u001b[49m\u001b[43m(\u001b[49m\u001b[43maudio\u001b[49m\u001b[43m)\u001b[49m\n\u001b[1;32m     29\u001b[0m \u001b[38;5;28;01mreturn\u001b[39;00m\n",
      "\u001b[0;31mTypeError\u001b[0m: a bytes-like object is required, not 'NoneType'"
     ]
    }
   ],
   "source": [
    "df = db_get_df(\"transcripts_all\")\n",
    "path = \"/nfs/scratch/students/neumannvi84434/Podcast_Episoden/\"\n",
    "for i, row in tqdm(df.iterrows()):\n",
    "    title = row[\"title\"].replace(\"/\",\"\")\n",
    "    if title in os.listdir(\"/nfs/scratch/students/neumannvi84434/Podcast_Episoden/\"):\n",
    "        continue\n",
    "    download_and_save_mp3_in_dir(row[\"download_url\"], path, title)\n"
   ]
  },
  {
   "cell_type": "code",
   "execution_count": 7,
   "metadata": {},
   "outputs": [
    {
     "data": {
      "text/plain": [
       "'https://media.neuland.br.de/file/1828341/c/feed/hunde-und-ihr-geruchssinn-die-supernasen-im-tierreich.mp3'"
      ]
     },
     "execution_count": 7,
     "metadata": {},
     "output_type": "execute_result"
    }
   ],
   "source": [
    "df.loc[179, \"download_url\"]"
   ]
  },
  {
   "cell_type": "markdown",
   "metadata": {},
   "source": [
    "### Transkription auf Word level Ebene"
   ]
  },
  {
   "cell_type": "code",
   "execution_count": 5,
   "metadata": {},
   "outputs": [
    {
     "name": "stderr",
     "output_type": "stream",
     "text": [
      "huggingface/tokenizers: The current process just got forked, after parallelism has already been used. Disabling parallelism to avoid deadlocks...\n",
      "To disable this warning, you can either:\n",
      "\t- Avoid using `tokenizers` before the fork if possible\n",
      "\t- Explicitly set the environment variable TOKENIZERS_PARALLELISM=(true | false)\n",
      "Downloading config.json: 100%|██████████| 2.26k/2.26k [00:00<00:00, 276kB/s]\n",
      "\n",
      "Downloading vocabulary.txt: 100%|██████████| 460k/460k [00:00<00:00, 4.98MB/s]\n",
      "\n",
      "Downloading tokenizer.json: 100%|██████████| 2.20M/2.20M [00:00<00:00, 10.5MB/s]\n",
      "Downloading model.bin: 100%|██████████| 1.53G/1.53G [00:34<00:00, 43.8MB/s]\n",
      "Estimating duration from bitrate, this may be inaccurate\n"
     ]
    },
    {
     "name": "stdout",
     "output_type": "stream",
     "text": [
      "[4.52s -> 5.42s]  ARD.\n",
      "[5.92s -> 6.12s]  Radio\n",
      "[6.12s -> 6.58s]  Wissen.\n",
      "[7.44s -> 7.50s]  Die\n",
      "[7.50s -> 7.96s]  ganze\n",
      "[7.96s -> 8.30s]  Welt\n",
      "[8.30s -> 8.62s]  des\n",
      "[8.62s -> 9.40s]  Wissens.\n",
      "[10.36s -> 10.42s]  Ein\n",
      "[10.42s -> 10.96s]  Podcast\n",
      "[10.96s -> 11.30s]  von\n",
      "[11.30s -> 11.74s]  bayern\n",
      "[11.74s -> 12.20s]  2\n",
      "[12.20s -> 12.50s]  in\n",
      "[12.50s -> 12.80s]  der\n",
      "[12.80s -> 13.40s]  ARD\n",
      "[13.40s -> 13.92s] -Audiothek.\n",
      "[16.52s -> 17.24s]  Lilliput,\n",
      "[17.66s -> 17.88s]  Anfang\n",
      "[17.88s -> 18.36s]  November\n",
      "[18.36s -> 19.84s]  1699.\n",
      "[21.00s -> 21.26s]  Das\n",
      "[21.26s -> 21.56s]  Land\n",
      "[21.56s -> 21.92s]  ist\n",
      "[21.92s -> 22.24s]  in\n",
      "[22.24s -> 22.86s]  Aufruhr.\n",
      "[23.32s -> 23.64s]  Am\n",
      "[23.64s -> 24.02s]  Strand\n",
      "[24.02s -> 24.38s]  liegt\n",
      "[24.38s -> 24.70s]  ein\n",
      "[24.70s -> 25.22s]  Monster.\n",
      "[25.94s -> 26.10s]  Ein\n",
      "[26.10s -> 26.44s]  Mensch\n",
      "[26.44s -> 26.74s]  wie\n",
      "[26.74s -> 27.08s]  ein\n",
      "[27.08s -> 27.56s]  Berg,\n",
      "[28.18s -> 28.44s]  ein\n",
      "[28.44s -> 29.54s]  Riese.\n",
      "[29.92s -> 30.26s]  Er\n",
      "[30.26s -> 30.84s]  schläft.\n",
      "[31.54s -> 31.88s]  Niemand\n",
      "[31.88s -> 32.24s]  weiß,\n",
      "[32.36s -> 32.56s]  woher\n",
      "[32.56s -> 32.72s]  er\n",
      "[32.72s -> 33.00s]  kommt.\n",
      "[33.88s -> 34.08s]  Die\n",
      "[34.08s -> 34.72s]  Lilliputaner\n",
      "[34.72s -> 35.02s]  schaffen\n",
      "[35.02s -> 35.44s]  Seile\n",
      "[35.44s -> 35.88s]  herbei,\n",
      "[36.18s -> 36.48s]  Flöcke\n",
      "[36.48s -> 36.70s]  und\n",
      "[36.70s -> 37.38s]  Leitern.\n",
      "[37.76s -> 38.00s]  Sie\n",
      "[38.00s -> 38.34s]  binden\n",
      "[38.34s -> 38.74s]  ihn\n",
      "[38.74s -> 39.20s]  fest,\n",
      "[39.58s -> 39.58s]  am\n",
      "[39.58s -> 40.12s]  ganzen\n",
      "[40.12s -> 40.56s]  Leib.\n",
      "[41.10s -> 41.42s]  Jede\n",
      "[41.42s -> 42.20s]  Haarsträhne\n",
      "[42.20s -> 42.40s]  wird\n",
      "[42.40s -> 42.88s]  einzeln\n",
      "[42.88s -> 43.06s]  am\n",
      "[43.06s -> 43.30s]  Boden\n",
      "[43.30s -> 43.96s]  fixiert.\n",
      "[45.00s -> 45.22s]  Da\n",
      "[45.22s -> 45.76s]  schlägt\n",
      "[45.76s -> 46.00s]  der\n",
      "[46.00s -> 46.60s]  Riese\n",
      "[46.60s -> 47.04s]  die\n",
      "[47.04s -> 47.26s]  Augen\n",
      "[47.26s -> 47.70s]  auf.\n",
      "[49.02s -> 49.34s]  Nach\n",
      "[49.34s -> 49.60s]  einer\n",
      "[49.60s -> 50.02s]  Weile\n",
      "[50.02s -> 50.48s]  spürte\n",
      "[50.48s -> 50.90s]  ich,\n",
      "[51.62s -> 51.82s]  wie\n",
      "[51.82s -> 52.30s]  etwas\n",
      "[52.30s -> 53.22s]  Lebendiges\n",
      "[53.22s -> 53.48s]  sich\n",
      "[53.48s -> 53.74s]  an\n",
      "[53.74s -> 53.96s]  meinem\n",
      "[53.96s -> 54.50s]  linken\n",
      "[54.50s -> 54.82s]  Bein\n",
      "[54.82s -> 55.86s]  bewegte,\n",
      "[56.20s -> 56.88s]  vorsichtig\n",
      "[56.88s -> 57.14s]  über\n",
      "[57.14s -> 57.32s]  meine\n",
      "[57.32s -> 57.68s]  Brust\n",
      "[57.68s -> 58.16s]  hoch\n",
      "[58.16s -> 58.96s]  kroch\n",
      "[58.96s -> 59.32s]  und\n",
      "[59.32s -> 59.60s]  fast\n",
      "[59.60s -> 59.88s]  bis\n",
      "[59.88s -> 60.12s]  an\n",
      "[60.12s -> 60.30s]  mein\n",
      "[60.30s -> 60.60s]  Kinn\n",
      "[60.60s -> 61.30s]  herankam.\n",
      "[62.38s -> 62.66s]  Als\n",
      "[62.66s -> 62.92s]  ich\n",
      "[62.92s -> 63.26s]  soweit\n",
      "[63.26s -> 63.46s]  ich\n",
      "[63.46s -> 63.64s]  konnte\n",
      "[63.64s -> 63.90s]  meine\n",
      "[63.90s -> 64.22s]  Augen\n",
      "[64.22s -> 64.46s]  nach\n",
      "[64.46s -> 64.74s]  unten\n",
      "[64.74s -> 65.62s]  senkte,\n",
      "[66.00s -> 66.16s]  stellte\n",
      "[66.16s -> 66.32s]  ich\n",
      "[66.32s -> 66.62s]  fest,\n",
      "[66.86s -> 67.08s]  dass\n",
      "[67.08s -> 67.38s]  es\n",
      "[67.38s -> 67.58s]  ein\n",
      "[67.58s -> 68.30s]  menschliches\n",
      "[68.30s -> 69.18s]  Wesen\n",
      "[69.18s -> 69.60s]  von\n",
      "[69.60s -> 69.92s]  weniger\n",
      "[69.92s -> 70.22s]  als\n",
      "[70.22s -> 70.60s]  6\n",
      "[70.60s -> 70.90s]  Zoll\n",
      "[70.90s -> 71.34s]  Höhe\n",
      "[71.34s -> 71.68s]  war,\n",
      "[72.16s -> 72.34s]  mit\n",
      "[72.34s -> 72.70s]  Pfeil\n",
      "[72.70s -> 72.92s]  und\n",
      "[72.92s -> 73.16s]  Bogen\n",
      "[73.16s -> 73.36s]  in\n",
      "[73.36s -> 73.54s]  den\n",
      "[73.54s -> 74.24s]  Händen\n",
      "[74.24s -> 74.62s]  und\n",
      "[74.62s -> 74.96s]  einem\n",
      "[74.96s -> 75.40s]  Köcher\n",
      "[75.40s -> 75.64s]  auf\n",
      "[75.64s -> 75.74s]  dem\n",
      "[75.74s -> 76.66s]  Rücken.\n",
      "[77.28s -> 77.64s]  Unterdessen\n",
      "[77.64s -> 77.98s]  merkte\n",
      "[77.98s -> 78.46s]  ich,\n",
      "[78.56s -> 78.76s]  wie\n",
      "[78.76s -> 79.58s]  wenigstens\n",
      "[79.58s -> 80.12s]  40\n",
      "[80.12s -> 80.62s]  weitere\n",
      "[80.62s -> 80.90s]  der\n",
      "[80.90s -> 81.20s]  gleichen\n",
      "[81.20s -> 81.58s]  Art,\n",
      "[81.58s -> 81.74s]  so\n",
      "[81.74s -> 82.22s]  vermutete\n",
      "[82.22s -> 82.40s]  ich\n",
      "[82.40s -> 82.90s]  jedenfalls,\n",
      "[83.18s -> 83.36s]  dem\n",
      "[83.36s -> 83.74s]  ersten\n",
      "[83.74s -> 84.34s]  folgten.\n",
      "[85.62s -> 85.94s]  Ich\n",
      "[85.94s -> 86.32s]  war\n",
      "[86.32s -> 86.76s]  aufs\n",
      "[86.76s -> 87.36s]  Äußerste\n",
      "[87.36s -> 87.94s]  verwundert\n",
      "[87.94s -> 88.68s]  und\n",
      "[88.68s -> 89.08s]  brüllte\n",
      "[89.08s -> 89.42s]  so\n",
      "[89.42s -> 89.66s]  laut,\n",
      "[89.90s -> 90.00s]  dass\n",
      "[90.00s -> 90.22s]  sie\n",
      "[90.22s -> 90.38s]  alle\n",
      "[90.38s -> 90.90s]  verschreckt\n",
      "[90.90s -> 91.74s]  zurückrannten.\n",
      "[93.16s -> 93.62s]  Jonathan\n",
      "[93.62s -> 94.24s]  Zwift's\n",
      "[94.24s -> 94.78s]  Roman\n",
      "[94.78s -> 95.50s]  Gullivers\n",
      "[95.50s -> 95.96s]  Reisen\n",
      "[95.96s -> 96.22s]  zu\n",
      "[96.22s -> 96.78s]  mehreren\n",
      "[96.78s -> 97.46s]  entlegenen\n",
      "[97.46s -> 97.78s]  Völkern\n",
      "[97.78s -> 97.92s]  der\n",
      "[97.92s -> 98.48s]  Erde\n",
      "[98.48s -> 99.20s]  erschien\n",
      "[99.20s -> 100.72s]  1726.\n",
      "[101.60s -> 101.88s]  Er\n",
      "[101.88s -> 102.08s]  ist\n",
      "[102.08s -> 102.18s]  aus\n",
      "[102.18s -> 102.42s]  der\n",
      "[102.42s -> 103.26s]  Perspektive\n",
      "[103.26s -> 103.58s]  des\n",
      "[103.58s -> 104.26s]  Riesen\n",
      "[104.26s -> 104.66s]  Gulliver\n",
      "[104.66s -> 105.18s]  erzählt,\n",
      "[105.60s -> 105.78s]  das\n",
      "[105.78s -> 106.14s]  heißt\n",
      "[106.14s -> 106.80s]  eigentlich\n",
      "[106.80s -> 107.14s]  ist\n",
      "[107.14s -> 107.50s]  Gulliver\n",
      "[107.50s -> 107.78s]  gar\n",
      "[107.78s -> 107.96s]  kein\n",
      "[107.96s -> 108.60s]  Riese,\n",
      "[108.88s -> 109.14s]  sondern\n",
      "[109.14s -> 109.44s]  ein\n",
      "[109.44s -> 109.96s]  ganz\n",
      "[109.96s -> 110.42s]  normaler\n",
      "[110.42s -> 110.88s]  Engländer,\n",
      "[111.42s -> 111.56s]  der\n",
      "[111.56s -> 112.04s]  einzig\n",
      "[112.04s -> 112.62s]  Überlebende\n",
      "[112.62s -> 112.88s]  eines\n",
      "[112.88s -> 113.62s]  Schiffbruchs.\n",
      "[114.38s -> 114.70s]  Und\n",
      "[114.70s -> 114.88s]  die\n",
      "[114.88s -> 115.60s]  Lilliputana\n",
      "[115.60s -> 115.82s]  sind\n",
      "[115.82s -> 116.00s]  für\n",
      "[116.00s -> 116.20s]  sich\n",
      "[116.20s -> 116.84s]  betrachtet\n",
      "[116.84s -> 117.38s]  auch\n",
      "[117.38s -> 117.74s]  ganz\n",
      "[117.74s -> 118.10s]  normal.\n",
      "[118.68s -> 118.86s]  Ein\n",
      "[118.86s -> 119.62s]  tüchtiges,\n",
      "[119.94s -> 120.18s]  hoch\n",
      "[120.18s -> 121.00s]  organisiertes\n",
      "[121.00s -> 121.54s]  Volk\n",
      "[121.54s -> 121.94s]  und\n",
      "[121.94s -> 122.16s]  nur\n",
      "[122.16s -> 122.44s]  aus\n",
      "[122.44s -> 122.66s]  der\n",
      "[122.66s -> 123.36s]  Perspektive\n",
      "[123.36s -> 123.92s]  Gullivers\n",
      "[123.92s -> 124.38s]  so\n",
      "[124.38s -> 124.94s]  winzig.\n",
      "[126.24s -> 126.58s]  Beide\n",
      "[126.58s -> 126.92s]  Seiten\n",
      "[126.92s -> 127.20s]  sehen\n",
      "[127.20s -> 127.40s]  sich\n",
      "[127.40s -> 127.70s]  hier\n",
      "[127.70s -> 128.00s]  zum\n",
      "[128.00s -> 128.38s]  ersten\n",
      "[128.38s -> 128.86s]  Mal\n",
      "[128.86s -> 129.52s]  und\n",
      "[129.52s -> 129.72s]  für\n",
      "[129.72s -> 129.98s]  beide\n",
      "[129.98s -> 130.60s]  Seiten\n",
      "[130.60s -> 131.22s]  verschieben\n",
      "[131.22s -> 131.52s]  sich\n",
      "[131.52s -> 131.68s]  die\n",
      "[131.68s -> 132.08s]  gewohnten\n",
      "[132.08s -> 133.94s]  Maßstäbe.\n",
      "[134.74s -> 134.90s]  Zu\n",
      "[134.90s -> 135.36s]  Beginn\n",
      "[135.36s -> 135.36s]  des\n",
      "[135.36s -> 135.76s]  18.\n",
      "[135.88s -> 136.56s]  Jahrhunderts\n",
      "[136.56s -> 136.76s]  stehen\n",
      "[136.76s -> 136.98s]  die\n",
      "[136.98s -> 137.24s]  Menschen\n",
      "[137.24s -> 137.50s]  im\n",
      "[137.50s -> 137.70s]  Bann\n",
      "[137.70s -> 137.90s]  der\n",
      "[137.90s -> 138.22s]  großen\n",
      "[138.22s -> 139.48s]  Entdeckungsfahrten.\n",
      "[140.04s -> 140.28s]  Die\n",
      "[140.28s -> 140.66s]  fernen,\n",
      "[140.90s -> 141.40s]  exotischen\n",
      "[141.40s -> 141.86s]  Länder\n",
      "[141.86s -> 142.74s]  verändern\n",
      "[142.74s -> 143.04s]  das\n",
      "[143.04s -> 143.60s]  Weltbild,\n",
      "[144.14s -> 144.26s]  sagt\n",
      "[144.26s -> 144.88s]  Isabelle\n",
      "[144.88s -> 145.60s]  Karremann,\n",
      "[146.22s -> 146.74s]  Professorin\n",
      "[146.74s -> 146.90s]  für\n",
      "[146.90s -> 147.34s]  Englische\n",
      "[147.34s -> 148.44s]  Literaturwissenschaft\n",
      "[148.44s -> 149.08s]  an\n",
      "[149.08s -> 149.22s]  der\n",
      "[149.22s -> 149.60s]  Ludwig\n",
      "[149.60s -> 150.32s] -Maximilians\n",
      "[150.32s -> 151.12s] -Universität\n",
      "[151.12s -> 151.72s]  München.\n",
      "[152.32s -> 153.12s]  Zwift's\n",
      "[153.12s -> 153.34s]  Zeit\n",
      "[153.34s -> 153.74s]  ist,\n",
      "[154.18s -> 154.18s]  England\n",
      "[154.18s -> 154.36s]  auf\n",
      "[154.36s -> 154.58s]  dem\n",
      "[154.58s -> 154.80s]  Weg\n",
      "[154.80s -> 155.06s]  eine\n",
      "[155.06s -> 155.70s]  koloniale\n",
      "[155.70s -> 156.38s]  Großmacht\n",
      "[156.38s -> 156.70s]  zu\n",
      "[156.70s -> 157.02s]  werden\n",
      "[157.02s -> 157.72s]  und\n",
      "[157.72s -> 158.00s]  die\n",
      "[158.00s -> 158.28s]  Engländer\n",
      "[158.28s -> 158.58s]  wollen\n",
      "[158.58s -> 159.00s]  einfach\n",
      "[159.00s -> 159.30s]  mehr\n",
      "[159.30s -> 159.54s]  über\n",
      "[159.54s -> 159.98s]  diese\n",
      "[159.98s -> 160.26s]  sich\n",
      "[160.26s -> 160.70s]  ständig\n",
      "[160.70s -> 161.26s]  erweiternde\n",
      "[161.26s -> 161.56s]  Welt\n",
      "[161.56s -> 162.22s]  erfahren\n",
      "[162.22s -> 163.06s]  und\n",
      "[163.06s -> 163.48s]  auch\n",
      "[163.48s -> 163.74s]  über\n",
      "[163.74s -> 163.98s]  ihren\n",
      "[163.98s -> 164.78s]  eigenen\n",
      "[164.78s -> 165.18s]  Ort\n",
      "[165.18s -> 165.64s]  in\n",
      "[165.64s -> 165.98s]  dieser\n",
      "[165.98s -> 166.74s]  Welt.\n",
      "[167.30s -> 167.62s]  Jonathan\n",
      "[167.62s -> 168.16s]  Zwift\n",
      "[168.16s -> 168.46s]  wurde\n",
      "[168.46s -> 169.86s]  1667\n",
      "[169.86s -> 170.18s]  in\n",
      "[170.18s -> 170.56s]  Irland\n",
      "[170.56s -> 171.38s]  geboren,\n",
      "[171.60s -> 171.68s]  das\n",
      "[171.68s -> 171.84s]  von\n",
      "[171.84s -> 172.26s]  England\n",
      "[172.26s -> 173.00s]  wirtschaftlich\n",
      "[173.00s -> 173.24s]  und\n",
      "[173.24s -> 173.78s]  politisch\n",
      "[173.78s -> 174.28s]  unterdrückt\n",
      "[174.28s -> 174.60s]  wurde.\n",
      "[175.64s -> 175.76s]  Er\n",
      "[175.76s -> 175.98s]  weiß\n",
      "[175.98s -> 176.26s]  aus\n",
      "[176.26s -> 176.80s]  Erfahrung,\n",
      "[177.26s -> 177.40s]  wie\n",
      "[177.40s -> 177.86s]  schrecklich\n",
      "[177.86s -> 178.08s]  die\n",
      "[178.08s -> 178.32s]  Folgen\n",
      "[178.32s -> 178.52s]  des\n",
      "[178.52s -> 179.00s]  englischen\n",
      "[179.00s -> 180.52s]  Großmachtstrebens\n",
      "[180.52s -> 180.78s]  für\n",
      "[180.78s -> 180.98s]  die\n",
      "[180.98s -> 181.94s]  kolonialisierten\n",
      "[181.94s -> 182.28s]  Völker\n",
      "[182.28s -> 182.68s]  sind\n",
      "[182.68s -> 183.34s]  und\n",
      "[183.34s -> 183.56s]  sieht\n",
      "[183.56s -> 183.90s]  es\n",
      "[183.90s -> 184.30s]  sehr\n",
      "[184.30s -> 185.16s]  kritisch.\n",
      "[185.90s -> 186.12s]  Als\n",
      "[186.12s -> 186.34s]  er\n",
      "[186.34s -> 186.52s]  an\n",
      "[186.52s -> 186.92s]  Gullivers\n",
      "[186.92s -> 187.28s]  Reisen\n",
      "[187.28s -> 187.96s]  schrieb,\n",
      "[188.38s -> 188.62s]  wirkte\n",
      "[188.62s -> 188.86s]  er\n",
      "[188.86s -> 189.16s]  als\n",
      "[189.16s -> 189.74s]  Dekan\n",
      "[189.74s -> 189.98s]  an\n",
      "[189.98s -> 190.10s]  der\n",
      "[190.10s -> 190.40s]  St.\n",
      "[190.44s -> 190.72s]  Patrick\n",
      "[190.72s -> 191.34s]  Kathedrale\n",
      "[191.34s -> 191.84s]  im\n",
      "[191.84s -> 192.34s]  irischen\n",
      "[192.34s -> 192.80s]  Dublin.\n",
      "[194.10s -> 194.48s]  Als\n",
      "[194.48s -> 195.08s]  Geistlicher\n",
      "[195.08s -> 195.34s]  hatte\n",
      "[195.34s -> 195.52s]  er\n",
      "[195.52s -> 195.66s]  sich\n",
      "[195.66s -> 195.86s]  mit\n",
      "[195.86s -> 196.14s]  seinen\n",
      "[196.14s -> 197.04s]  scharfzüngigen\n",
      "[197.04s -> 197.76s]  satirischen\n",
      "[197.76s -> 198.58s]  Schriften\n",
      "[198.58s -> 198.90s]  schon\n",
      "[198.90s -> 199.24s]  so\n",
      "[199.24s -> 199.42s]  oft\n",
      "[199.42s -> 199.60s]  in\n",
      "[199.60s -> 199.76s]  die\n",
      "[199.76s -> 200.02s]  Nesseln\n",
      "[200.02s -> 200.56s]  gesetzt\n",
      "[200.56s -> 201.04s]  und\n",
      "[201.04s -> 201.28s]  zog\n",
      "[201.28s -> 201.58s]  es\n",
      "[201.58s -> 201.90s]  vor,\n",
      "[202.24s -> 202.62s]  auch\n",
      "[202.62s -> 203.06s]  Gullivers\n",
      "[203.06s -> 203.78s]  Reisen\n",
      "[203.78s -> 204.40s]  anonym\n",
      "[204.40s -> 204.78s]  zu\n",
      "[204.78s -> 206.08s]  veröffentlichen.\n",
      "[206.24s -> 206.38s]  Sie\n",
      "[206.38s -> 206.62s]  wurden\n",
      "[206.62s -> 207.04s]  schnell\n",
      "[207.04s -> 207.24s]  zum\n",
      "[207.24s -> 208.42s]  Verkaufsschlager.\n",
      "[208.86s -> 209.00s]  Eine\n",
      "[209.00s -> 209.16s]  der\n",
      "[209.16s -> 209.48s]  ersten\n",
      "[209.48s -> 210.18s]  Rezensionen\n",
      "[210.18s -> 210.24s]  aus\n",
      "[210.24s -> 210.42s]  dem\n",
      "[210.42s -> 211.16s]  Erscheinungsjahr\n",
      "[211.16s -> 211.36s]  zum\n",
      "[211.36s -> 212.04s]  Beispiel\n",
      "[212.04s -> 212.64s]  beschreibt,\n",
      "[212.96s -> 213.22s]  dass\n",
      "[213.22s -> 213.54s]  Gullivers\n",
      "[213.54s -> 214.30s]  Travels\n",
      "[214.30s -> 214.70s]  überall\n",
      "[214.70s -> 215.16s]  gelesen\n",
      "[215.16s -> 215.40s]  wird,\n",
      "[215.70s -> 215.84s]  vom\n",
      "[215.84s -> 216.52s]  Kabinett\n",
      "[216.52s -> 216.82s]  bis\n",
      "[216.82s -> 217.04s]  zur\n",
      "[217.04s -> 217.76s]  Kinderstube.\n",
      "[224.80s -> 225.12s]  Gulliver\n",
      "[225.12s -> 225.34s]  ist\n",
      "[225.34s -> 225.58s]  ein\n",
      "[225.58s -> 226.40s]  Durchschnittsmann,\n",
      "[226.50s -> 226.62s]  der\n",
      "[226.62s -> 226.74s]  in\n",
      "[226.74s -> 227.00s]  der\n",
      "[227.00s -> 227.30s]  Fremde\n",
      "[227.30s -> 227.48s]  sein\n",
      "[227.48s -> 227.72s]  Glück\n",
      "[227.72s -> 228.58s]  sucht.\n",
      "[229.16s -> 229.36s]  Den\n",
      "[229.36s -> 229.78s]  fremden\n",
      "[229.78s -> 230.10s]  Völkern\n",
      "[230.10s -> 230.54s]  begegnet\n",
      "[230.54s -> 230.70s]  er\n",
      "[230.70s -> 230.90s]  mit\n",
      "[230.90s -> 232.02s]  Neugierde.\n",
      "[232.30s -> 232.52s]  Und\n",
      "[232.52s -> 232.94s]  ebenso\n",
      "[232.94s -> 233.22s]  ergeht\n",
      "[233.22s -> 233.40s]  es\n",
      "[233.40s -> 233.64s]  den\n",
      "[233.64s -> 234.04s]  fremden\n",
      "[234.04s -> 234.40s]  Völkern\n",
      "[234.40s -> 234.70s]  mit\n",
      "[234.70s -> 235.14s]  ihm.\n",
      "[235.78s -> 236.18s]  Doch\n",
      "[236.18s -> 236.50s]  das\n",
      "[236.50s -> 237.32s]  Miteinander\n",
      "[237.32s -> 237.60s]  führt\n",
      "[237.60s -> 238.00s]  schnell\n",
      "[238.00s -> 238.22s]  zu\n",
      "[238.22s -> 238.76s]  bizarren\n",
      "[238.76s -> 240.08s]  Komplikationen,\n",
      "[240.14s -> 240.28s]  die\n",
      "[240.28s -> 240.52s]  nicht\n",
      "[240.52s -> 240.80s]  nur\n",
      "[240.80s -> 241.48s]  hinreißend\n",
      "[241.48s -> 241.90s]  komisch\n",
      "[241.90s -> 242.38s]  sind,\n",
      "[242.94s -> 243.14s]  sondern\n",
      "[243.14s -> 243.44s]  auch\n",
      "[243.44s -> 243.62s]  viel\n",
      "[243.62s -> 244.36s]  politischen\n",
      "[244.36s -> 244.64s]  und\n",
      "[244.64s -> 245.36s]  philosophischen\n",
      "[245.36s -> 245.88s]  Zündstoff\n",
      "[245.88s -> 246.58s]  bergen.\n",
      "[247.84s -> 248.04s]  In\n",
      "[248.04s -> 248.22s]  den\n",
      "[248.96s -> 249.60s]  Kinderbuchversionen,\n",
      "[249.60s -> 250.02s]  die\n",
      "[250.02s -> 250.24s]  lang\n",
      "[250.24s -> 250.56s]  nach\n",
      "[250.56s -> 251.08s]  Swift's\n",
      "[251.08s -> 251.18s]  Tod\n",
      "[251.18s -> 251.94s]  erschienen,\n",
      "[252.20s -> 252.44s]  spielt\n",
      "[252.44s -> 252.68s]  der\n",
      "[252.68s -> 253.12s]  natürlich\n",
      "[253.12s -> 253.44s]  keine\n",
      "[253.44s -> 253.72s]  Rolle.\n",
      "[254.52s -> 254.74s]  Hier\n",
      "[254.74s -> 255.02s]  werden\n",
      "[255.02s -> 255.28s]  nur\n",
      "[255.28s -> 255.56s]  die\n",
      "[255.56s -> 255.86s]  ersten\n",
      "[255.86s -> 256.22s]  beiden\n",
      "[256.22s -> 256.62s]  Reisen\n",
      "[256.62s -> 256.82s]  nach\n",
      "[256.82s -> 257.54s]  Lilliput,\n",
      "[257.78s -> 257.88s]  dem\n",
      "[257.88s -> 258.08s]  Land\n",
      "[258.08s -> 258.28s]  der\n",
      "[258.28s -> 259.08s]  Winzlinge\n",
      "[259.08s -> 259.54s]  und\n",
      "[259.54s -> 259.88s]  nach\n",
      "[260.60s -> 260.96s]  dem\n",
      "[260.96s -> 261.28s]  Land\n",
      "[261.28s -> 261.52s]  der\n",
      "[261.52s -> 262.00s]  Riesen,\n",
      "[262.34s -> 262.66s]  stark\n",
      "[262.66s -> 263.18s]  gekürzt\n",
      "[263.18s -> 263.88s]  wiedergegeben.\n",
      "[264.92s -> 265.16s]  Kinder\n",
      "[265.16s -> 265.60s]  lieben\n",
      "[265.60s -> 266.06s]  Gulliver.\n",
      "[266.62s -> 267.24s]  Damals\n",
      "[267.24s -> 267.44s]  wie\n",
      "[267.44s -> 267.92s]  heute.\n",
      "[269.28s -> 269.42s]  Für\n",
      "[269.42s -> 269.72s]  Kinder\n",
      "[269.72s -> 270.02s]  ist\n",
      "[270.02s -> 270.14s]  vor\n",
      "[270.14s -> 270.38s]  allem\n",
      "[270.38s -> 270.86s]  das\n",
      "[270.86s -> 271.12s]  Spiel\n",
      "[271.12s -> 271.36s]  mit\n",
      "[271.36s -> 271.62s]  den\n",
      "[271.62s -> 272.48s]  Größenverhältnissen\n",
      "[272.48s -> 272.84s]  so\n",
      "[272.84s -> 273.40s]  interessant.\n",
      "[273.80s -> 274.38s]  Wenn\n",
      "[274.38s -> 275.10s]  Gulliver\n",
      "[275.10s -> 275.58s]  in\n",
      "[275.58s -> 276.12s]  Lilliput\n",
      "[276.12s -> 276.54s]  ist\n",
      "[276.54s -> 276.90s]  und\n",
      "[276.90s -> 277.28s]  sich\n",
      "[277.28s -> 277.52s]  dort\n",
      "[277.52s -> 277.94s]  als\n",
      "[277.94s -> 278.34s]  Riese\n",
      "[278.34s -> 278.92s]  erfährt,\n",
      "[279.10s -> 279.38s]  der\n",
      "[279.38s -> 279.76s]  stark\n",
      "[279.76s -> 280.10s]  ist,\n",
      "[280.18s -> 280.30s]  der\n",
      "[280.30s -> 280.46s]  alle\n",
      "[280.46s -> 280.90s]  möglichen\n",
      "[280.90s -> 281.16s]  Dinge\n",
      "[281.16s -> 281.50s]  machen\n",
      "[281.50s -> 281.94s]  kann,\n",
      "[282.36s -> 282.64s]  dann\n",
      "[282.64s -> 282.82s]  ist\n",
      "[282.82s -> 283.08s]  das\n",
      "[283.08s -> 283.56s]  für\n",
      "[283.56s -> 284.00s]  Kinder,\n",
      "[284.00s -> 284.18s]  die\n",
      "[284.18s -> 284.40s]  sich\n",
      "[284.40s -> 284.54s]  mit\n",
      "[284.54s -> 284.76s]  ihm\n",
      "[284.76s -> 285.94s]  identifizieren,\n",
      "[286.24s -> 286.44s]  wie\n",
      "[286.44s -> 286.80s]  eine\n",
      "[286.80s -> 287.14s]  Art\n",
      "[287.14s -> 288.40s]  Überlegenheitsfantasie,\n",
      "[288.82s -> 288.94s]  die\n",
      "[288.94s -> 289.42s]  ihren\n",
      "[289.42s -> 290.36s]  eigenen\n",
      "[290.36s -> 291.10s]  Lebensalltag\n",
      "[291.10s -> 291.34s]  ein\n",
      "[291.34s -> 291.50s]  Stück\n",
      "[291.50s -> 291.66s]  weit\n",
      "[291.66s -> 292.38s]  kompensiert.\n",
      "[292.70s -> 292.96s]  Denn\n",
      "[292.96s -> 293.76s]  Kinder\n",
      "[293.76s -> 294.16s]  erfahren\n",
      "[294.16s -> 294.34s]  sich\n",
      "[294.34s -> 294.56s]  ja\n",
      "[294.56s -> 295.00s]  meistens\n",
      "[295.00s -> 295.48s]  als\n",
      "[295.48s -> 296.04s]  klein,\n",
      "[296.40s -> 296.98s]  unterlegen,\n",
      "[297.26s -> 297.84s]  hilflos.\n",
      "[298.04s -> 298.54s]  Umgekehrt\n",
      "[298.54s -> 298.80s]  teilen\n",
      "[298.80s -> 298.98s]  sie\n",
      "[298.98s -> 299.22s]  dann\n",
      "[299.22s -> 299.54s]  in\n",
      "[299.54s -> 300.22s]  Brobdingnack,\n",
      "[300.50s -> 300.62s]  in\n",
      "[300.62s -> 300.94s]  der\n",
      "[300.94s -> 301.26s]  Gulliver\n",
      "[301.26s -> 301.44s]  nun\n",
      "[301.44s -> 301.62s]  der\n",
      "[301.62s -> 302.00s]  Winzling\n",
      "[302.00s -> 302.38s]  ist,\n",
      "[302.82s -> 303.02s]  seine\n",
      "[303.02s -> 303.94s]  Erfahrungswelt,\n",
      "[303.96s -> 304.14s]  in\n",
      "[304.14s -> 304.24s]  der\n",
      "[304.24s -> 304.44s]  sie\n",
      "[304.44s -> 304.66s]  ihre\n",
      "[304.66s -> 304.98s]  eigene\n",
      "[304.98s -> 305.82s]  Erfahrungswelt\n",
      "[305.82s -> 306.28s]  genau\n",
      "[306.28s -> 307.02s]  wiederfinden.\n",
      "[307.78s -> 308.00s]  Der\n",
      "[308.00s -> 308.36s]  große\n",
      "[308.36s -> 308.74s]  Erfolg\n",
      "[308.74s -> 308.96s]  des\n",
      "[308.96s -> 309.64s]  Kinderbuches\n",
      "[309.64s -> 309.78s]  hat\n",
      "[309.78s -> 310.04s]  aber\n",
      "[310.04s -> 310.32s]  auch\n",
      "[310.32s -> 310.90s]  bewirkt,\n",
      "[311.16s -> 311.30s]  dass\n",
      "[311.30s -> 311.54s]  die\n",
      "[311.54s -> 311.86s]  meisten\n",
      "[311.86s -> 312.52s]  Menschen\n",
      "[312.52s -> 313.04s]  Gullivers\n",
      "[313.04s -> 313.46s]  Reisen\n",
      "[313.46s -> 313.68s]  für\n",
      "[313.68s -> 313.96s]  ein\n",
      "[313.96s -> 314.62s]  harmloses\n",
      "[314.62s -> 315.42s]  Abenteuerbuch\n",
      "[315.42s -> 315.78s]  halten.\n",
      "[316.70s -> 316.88s]  Das\n",
      "[316.88s -> 317.20s]  ist\n",
      "[317.20s -> 317.42s]  es\n",
      "[317.42s -> 318.20s]  keineswegs.\n",
      "[319.04s -> 319.44s]  Immerhin\n",
      "[319.44s -> 319.58s]  nimmt\n",
      "[319.58s -> 319.78s]  es\n",
      "[319.78s -> 320.12s]  die\n",
      "[320.12s -> 320.54s]  gesamte\n",
      "[320.54s -> 321.20s]  europäische\n",
      "[321.20s -> 321.84s]  Kultur,\n",
      "[322.18s -> 322.30s]  nicht\n",
      "[322.30s -> 322.48s]  nur\n",
      "[322.48s -> 322.68s]  des\n",
      "[322.68s -> 323.10s]  18.\n",
      "[323.38s -> 324.10s]  Jahrhunderts,\n",
      "[324.24s -> 324.80s]  satirisch\n",
      "[324.80s -> 325.14s]  aufs\n",
      "[325.14s -> 325.36s]  Korn.\n",
      "[326.32s -> 326.46s]  Es\n",
      "[326.46s -> 326.74s]  ist\n",
      "[326.74s -> 326.92s]  ein\n",
      "[326.92s -> 327.72s]  zeitloser\n",
      "[327.72s -> 328.24s]  Klassiker,\n",
      "[328.66s -> 328.84s]  eines\n",
      "[328.84s -> 329.12s]  der\n",
      "[329.12s -> 329.68s]  wichtigsten\n",
      "[329.68s -> 330.04s]  Werke\n",
      "[330.04s -> 330.24s]  der\n",
      "[330.24s -> 331.06s]  Weltliteratur.\n",
      "[331.90s -> 332.16s]  Und\n",
      "[332.16s -> 332.34s]  immer\n",
      "[332.34s -> 332.72s]  noch\n",
      "[332.72s -> 333.06s]  kein\n",
      "[333.06s -> 333.50s]  bisschen\n",
      "[333.50s -> 334.38s]  antiquiert,\n",
      "[334.82s -> 335.02s]  findet\n",
      "[335.02s -> 335.54s]  Isabel\n",
      "[335.54s -> 336.12s]  Karremann.\n",
      "[336.48s -> 336.80s]  Obwohl\n",
      "[336.80s -> 337.04s]  das\n",
      "[337.04s -> 337.22s]  bucht\n",
      "[337.22s -> 337.62s]  sich\n",
      "[337.62s -> 338.04s]  sehr\n",
      "[338.04s -> 338.22s]  stark\n",
      "[338.22s -> 338.44s]  auf\n",
      "[338.44s -> 339.36s]  tagesaktuelle\n",
      "[339.36s -> 339.92s]  Probleme\n",
      "[339.92s -> 341.04s]  und\n",
      "[341.04s -> 341.68s]  Ereignisse\n",
      "[341.68s -> 341.90s]  seiner\n",
      "[341.90s -> 342.22s]  Zeit\n",
      "[342.22s -> 343.06s]  bezieht,\n",
      "[343.24s -> 343.38s]  wirft\n",
      "[343.38s -> 343.54s]  der\n",
      "[343.54s -> 343.86s]  Roman\n",
      "[343.86s -> 344.16s]  eben\n",
      "[344.16s -> 344.40s]  doch\n",
      "[344.40s -> 344.72s]  Fragen\n",
      "[344.72s -> 345.06s]  auf,\n",
      "[345.08s -> 345.24s]  die\n",
      "[345.24s -> 345.44s]  uns\n",
      "[345.44s -> 345.78s]  heute\n",
      "[345.78s -> 346.12s]  immer\n",
      "[346.12s -> 346.30s]  noch\n",
      "[346.30s -> 347.12s]  beschäftigen.\n",
      "[347.70s -> 348.00s]  Wie\n",
      "[348.00s -> 348.50s]  begegnen\n",
      "[348.50s -> 348.66s]  wir\n",
      "[348.66s -> 348.94s]  dem\n",
      "[348.94s -> 349.52s]  Fremden?\n",
      "[349.82s -> 350.02s]  Wie\n",
      "[350.02s -> 350.30s]  fühlt\n",
      "[350.30s -> 350.48s]  es\n",
      "[350.48s -> 350.62s]  sich\n",
      "[350.62s -> 350.96s]  an,\n",
      "[351.24s -> 351.46s]  selbst\n",
      "[351.46s -> 352.02s]  Außenseiter\n",
      "[352.02s -> 352.34s]  zu\n",
      "[352.34s -> 352.58s]  sein?\n",
      "[353.20s -> 353.80s]  Zeitlos\n",
      "[353.80s -> 354.06s]  ist\n",
      "[354.06s -> 354.30s]  auch\n",
      "[354.30s -> 354.72s]  Swift's\n",
      "[354.72s -> 355.30s]  Kritik\n",
      "[355.30s -> 355.56s]  an\n",
      "[355.56s -> 355.76s]  der\n",
      "[355.76s -> 356.52s]  abendländischen\n",
      "[356.52s -> 357.16s]  Vernunft.\n",
      "[357.80s -> 358.24s]  Swift\n",
      "[358.24s -> 358.62s]  hat\n",
      "[358.62s -> 358.80s]  ein\n",
      "[358.80s -> 359.56s]  ganzheitliches\n",
      "[359.56s -> 360.24s]  Menschenbild.\n",
      "[360.84s -> 361.08s]  Er\n",
      "[361.08s -> 361.44s]  glaubt\n",
      "[361.44s -> 361.62s]  nicht\n",
      "[361.62s -> 361.90s]  daran,\n",
      "[362.20s -> 362.38s]  dass\n",
      "[362.38s -> 362.56s]  der\n",
      "[362.56s -> 362.80s]  Mensch\n",
      "[362.80s -> 363.64s]  hauptsächlich\n",
      "[363.64s -> 364.02s]  aus\n",
      "[364.02s -> 364.50s]  Vernunft\n",
      "[364.50s -> 364.96s]  besteht.\n",
      "[365.40s -> 365.58s]  Die\n",
      "[365.58s -> 365.98s]  meisten\n",
      "[365.98s -> 366.30s]  Menschen\n",
      "[366.30s -> 366.56s]  sind\n",
      "[366.56s -> 366.88s]  wie\n",
      "[366.88s -> 367.80s]  Stecknadeln.\n",
      "[368.14s -> 368.40s]  Nicht\n",
      "[368.40s -> 368.72s]  der\n",
      "[368.72s -> 369.06s]  Kopf\n",
      "[369.06s -> 369.42s]  ist\n",
      "[369.42s -> 369.74s]  das\n",
      "[369.74s -> 370.14s]  an\n",
      "[370.14s -> 370.70s]  ihnen.\n",
      "[371.32s -> 371.64s]  In\n",
      "[371.64s -> 372.16s]  England,\n",
      "[372.26s -> 372.52s]  dieser\n",
      "[372.52s -> 373.14s]  Hochburg\n",
      "[373.14s -> 373.44s]  von\n",
      "[373.44s -> 374.12s]  Aufklärung\n",
      "[374.12s -> 374.24s]  und\n",
      "[374.24s -> 374.84s]  Wissenschaft,\n",
      "[375.36s -> 375.48s]  gibt\n",
      "[375.48s -> 375.74s]  es\n",
      "[375.74s -> 376.26s]  blutige\n",
      "[376.26s -> 376.88s]  Konflikte.\n",
      "[377.66s -> 378.02s]  Und\n",
      "[378.02s -> 378.22s]  die\n",
      "[378.22s -> 378.60s]  fremden\n",
      "[378.60s -> 378.98s]  Völker,\n",
      "[379.02s -> 379.26s]  die\n",
      "[379.26s -> 379.62s]  Gulliver\n",
      "[379.62s -> 380.28s]  kennenlernt,\n",
      "[380.50s -> 380.70s]  sind\n",
      "[380.70s -> 380.92s]  auch\n",
      "[380.92s -> 381.12s]  nicht\n",
      "[381.12s -> 381.44s]  besser.\n",
      "[382.00s -> 382.16s]  Auch\n",
      "[382.16s -> 382.34s]  in\n",
      "[382.34s -> 382.74s]  Lilliput\n",
      "[382.74s -> 382.96s]  gibt\n",
      "[382.96s -> 383.18s]  es\n",
      "[383.18s -> 383.80s]  Intrigen,\n",
      "[384.12s -> 384.78s]  Parteienzwist,\n",
      "[385.00s -> 385.84s]  Glaubenskämpfe\n",
      "[385.84s -> 386.30s]  und\n",
      "[386.30s -> 386.62s]  eine\n",
      "[386.62s -> 387.14s]  feindliche\n",
      "[387.14s -> 387.74s]  Großmacht,\n",
      "[387.90s -> 388.16s]  ganz\n",
      "[388.16s -> 388.34s]  wie\n",
      "[388.34s -> 388.56s]  in\n",
      "[388.56s -> 388.88s]  England.\n",
      "[389.62s -> 389.94s]  Man\n",
      "[389.94s -> 390.40s]  streitet\n",
      "[390.40s -> 390.56s]  sich\n",
      "[390.56s -> 390.80s]  über\n",
      "[390.80s -> 391.26s]  alles\n",
      "[391.26s -> 391.66s]  und\n",
      "[391.66s -> 391.96s]  jedes,\n",
      "[392.38s -> 392.54s]  über\n",
      "[392.54s -> 392.74s]  die\n",
      "[392.74s -> 393.10s]  richtige\n",
      "[393.10s -> 393.86s]  Absatzhöhe\n",
      "[393.86s -> 394.22s]  von\n",
      "[394.22s -> 395.18s]  Politikerschuhen\n",
      "[395.18s -> 395.54s]  und\n",
      "[395.54s -> 395.96s]  darüber,\n",
      "[395.98s -> 396.14s]  wie\n",
      "[396.14s -> 396.30s]  man\n",
      "[396.30s -> 397.18s]  weltanschaulich\n",
      "[397.18s -> 397.82s]  korrekt\n",
      "[397.82s -> 398.04s]  ein\n",
      "[398.04s -> 398.28s]  Ei\n",
      "[398.28s -> 399.00s]  aufschlägt.\n",
      "[399.66s -> 399.82s]  Der\n",
      "[399.82s -> 400.14s]  Riese\n",
      "[400.14s -> 400.50s]  Gulliver\n",
      "[400.50s -> 400.74s]  kommt\n",
      "[400.74s -> 400.90s]  den\n",
      "[400.90s -> 401.62s]  Lilliputanern\n",
      "[401.62s -> 402.00s]  gerade\n",
      "[402.00s -> 402.46s]  recht.\n",
      "[402.98s -> 403.12s]  Er\n",
      "[403.12s -> 403.40s]  bringt\n",
      "[403.40s -> 404.20s]  Abwechslung\n",
      "[404.20s -> 404.62s]  und\n",
      "[404.62s -> 404.86s]  hebt\n",
      "[404.86s -> 405.22s]  die\n",
      "[405.22s -> 405.64s]  Stimmung.\n",
      "[406.40s -> 406.60s]  Man\n",
      "[406.60s -> 406.96s]  ist\n",
      "[406.96s -> 407.38s]  bereit\n",
      "[407.38s -> 407.82s]  zu\n",
      "[407.82s -> 408.62s]  investieren.\n",
      "[409.42s -> 409.96s]  300\n",
      "[409.96s -> 410.60s]  Köche\n",
      "[410.60s -> 411.00s]  bereiten\n",
      "[411.00s -> 411.24s]  seine\n",
      "[411.24s -> 411.70s]  Speisen\n",
      "[411.70s -> 412.00s]  zu\n",
      "[412.00s -> 412.72s]  und\n",
      "[412.72s -> 413.16s]  selbst\n",
      "[413.16s -> 413.36s]  die\n",
      "[413.36s -> 413.94s]  Beseitigung\n",
      "[413.94s -> 414.34s]  seiner\n",
      "[414.34s -> 415.00s]  riesigen\n",
      "[415.00s -> 416.04s]  Ausscheidungen\n",
      "[416.04s -> 416.48s]  nimmt\n",
      "[416.48s -> 416.82s]  man\n",
      "[416.82s -> 417.18s]  ohne\n",
      "[417.18s -> 417.54s]  Murren\n",
      "[417.54s -> 417.80s]  in\n",
      "[417.80s -> 418.10s]  Kauf.\n",
      "[418.70s -> 419.06s]  Jeden\n",
      "[419.06s -> 419.54s]  Morgen,\n",
      "[419.54s -> 419.90s]  bevor\n",
      "[419.90s -> 420.18s]  ich\n",
      "[420.18s -> 420.72s]  Gesellschaft\n",
      "[420.72s -> 421.64s]  bekam,\n",
      "[421.88s -> 422.04s]  trug\n",
      "[422.04s -> 422.30s]  man\n",
      "[422.30s -> 422.72s]  Sorge\n",
      "[422.72s -> 423.14s]  dafür,\n",
      "[423.40s -> 423.52s]  dass\n",
      "[423.52s -> 423.82s]  die\n",
      "[423.82s -> 424.50s]  anrüchige\n",
      "[424.50s -> 425.04s]  Geschichte\n",
      "[425.04s -> 425.36s]  in\n",
      "[425.36s -> 426.32s]  Schubkarren\n",
      "[426.32s -> 426.62s]  von\n",
      "[426.62s -> 426.98s]  zwei\n",
      "[426.98s -> 427.44s]  Dienern\n",
      "[427.44s -> 428.22s]  fortgeschafft\n",
      "[428.22s -> 428.48s]  wurde,\n",
      "[428.76s -> 428.92s]  die\n",
      "[428.92s -> 429.18s]  zu\n",
      "[429.18s -> 429.42s]  diesem\n",
      "[429.42s -> 429.94s]  Zweck\n",
      "[429.94s -> 430.54s]  angestellt\n",
      "[430.54s -> 430.82s]  worden\n",
      "[430.82s -> 431.14s]  waren.\n",
      "[431.68s -> 432.02s]  Als\n",
      "[432.02s -> 432.32s]  Riese\n",
      "[432.32s -> 432.52s]  hat\n",
      "[432.52s -> 432.82s]  auch\n",
      "[432.82s -> 432.98s]  der\n",
      "[432.98s -> 433.86s]  wohlerzogene\n",
      "[433.86s -> 434.38s]  Gulliver\n",
      "[434.38s -> 434.86s]  keine\n",
      "[434.86s -> 435.34s]  Chance\n",
      "[435.34s -> 435.64s]  auf\n",
      "[435.64s -> 436.50s]  Diskretion.\n",
      "[437.08s -> 437.30s]  Ob\n",
      "[437.30s -> 437.58s]  er\n",
      "[437.58s -> 438.08s]  isst\n",
      "[438.08s -> 438.34s]  oder\n",
      "[438.34s -> 439.08s]  schwitzt\n",
      "[439.08s -> 439.38s]  oder\n",
      "[439.38s -> 439.54s]  ein\n",
      "[439.54s -> 440.12s]  menschliches\n",
      "[440.12s -> 440.64s]  Bedürfnis\n",
      "[440.64s -> 441.52s]  verrichtet,\n",
      "[441.72s -> 442.08s]  alles\n",
      "[442.08s -> 442.48s]  wirkt\n",
      "[442.48s -> 443.00s]  einfach\n",
      "[443.00s -> 443.76s]  unglaublich\n",
      "[443.76s -> 445.54s]  spektakulär.\n",
      "[445.76s -> 445.98s]  Das\n",
      "[445.98s -> 446.30s]  ist\n",
      "[446.30s -> 446.64s]  Zwifts\n",
      "[446.64s -> 447.24s]  Protest\n",
      "[447.24s -> 447.78s]  gegen\n",
      "[447.78s -> 448.10s]  das\n",
      "[448.10s -> 449.22s]  vernunftfixierte,\n",
      "[449.56s -> 450.24s]  idealisierte\n",
      "[450.24s -> 450.76s]  und\n",
      "[450.76s -> 451.80s]  körperfeindliche\n",
      "[451.80s -> 452.40s]  Menschenbild\n",
      "[452.40s -> 452.70s]  seiner\n",
      "[452.70s -> 453.18s]  Zeit,\n",
      "[453.60s -> 453.76s]  weiß\n",
      "[453.76s -> 454.28s]  Isabel\n",
      "[454.28s -> 454.86s]  Karrenmann.\n",
      "[455.34s -> 455.56s]  In\n",
      "[455.56s -> 455.76s]  diesem\n",
      "[455.76s -> 456.66s]  Szenario\n",
      "[456.66s -> 457.20s]  werden\n",
      "[457.20s -> 457.84s]  körperliche\n",
      "[457.84s -> 458.36s]  Vorgänge\n",
      "[458.36s -> 458.68s]  und\n",
      "[458.68s -> 458.84s]  auch\n",
      "[458.84s -> 459.28s]  körperliche\n",
      "[459.28s -> 460.46s]  Ausscheidungen\n",
      "[460.46s -> 460.96s]  ganz\n",
      "[460.96s -> 461.34s]  groß\n",
      "[461.34s -> 461.64s]  zur\n",
      "[461.64s -> 461.88s]  Schau\n",
      "[461.88s -> 462.38s]  gestellt\n",
      "[462.38s -> 462.94s]  und\n",
      "[462.94s -> 463.20s]  dabei\n",
      "[463.20s -> 463.34s]  zum\n",
      "[463.34s -> 463.82s]  Gegenstand\n",
      "[463.82s -> 464.14s]  nicht\n",
      "[464.14s -> 464.88s]  von\n",
      "[464.88s -> 465.34s]  Scham\n",
      "[465.34s -> 465.78s]  oder\n",
      "[465.78s -> 466.76s]  Verbergen,\n",
      "[466.94s -> 467.36s]  sondern\n",
      "[467.36s -> 467.60s]  sie\n",
      "[467.60s -> 467.86s]  werden\n",
      "[467.86s -> 468.50s]  eigentlich\n",
      "[468.50s -> 468.76s]  zur\n",
      "[468.76s -> 469.28s]  des\n",
      "[469.28s -> 470.04s]  Lachens.\n",
      "[470.40s -> 470.48s]  Und\n",
      "[470.48s -> 470.68s]  das\n",
      "[470.68s -> 471.58s]  ist\n",
      "[471.58s -> 472.22s]  Zwifts\n",
      "[472.22s -> 473.06s]  Taktik,\n",
      "[473.22s -> 473.24s]  den\n",
      "[473.24s -> 474.02s]  zeitgenössischen\n",
      "[474.02s -> 474.66s]  Leser\n",
      "[474.66s -> 474.82s]  ein\n",
      "[474.82s -> 474.98s]  Stück\n",
      "[474.98s -> 475.10s]  weit\n",
      "[475.10s -> 475.28s]  wieder\n",
      "[475.28s -> 475.42s]  mit\n",
      "[475.42s -> 475.66s]  seinem\n",
      "[475.66s -> 476.06s]  eigenen\n",
      "[476.06s -> 476.40s]  Körper\n",
      "[476.40s -> 477.00s]  vertraut\n",
      "[477.00s -> 477.24s]  zu\n",
      "[477.24s -> 477.56s]  machen\n",
      "[477.56s -> 478.16s]  und\n",
      "[478.16s -> 478.44s]  einen\n",
      "[478.44s -> 479.26s]  entspannteren\n",
      "[479.26s -> 479.88s]  Umgang\n",
      "[479.88s -> 480.22s]  mit\n",
      "[480.22s -> 480.44s]  dem\n",
      "[480.44s -> 480.82s]  Körper\n",
      "[480.82s -> 481.26s]  möglich\n",
      "[481.26s -> 481.50s]  zu\n",
      "[481.50s -> 481.80s]  machen.\n",
      "[482.40s -> 482.66s]  Die\n",
      "[482.66s -> 483.10s]  Regeln\n",
      "[483.10s -> 483.34s]  der\n",
      "[483.34s -> 484.32s]  Zivilisation,\n",
      "[484.42s -> 484.66s]  so\n",
      "[484.66s -> 484.92s]  streng\n",
      "[484.92s -> 485.10s]  sie\n",
      "[485.10s -> 485.36s]  auch\n",
      "[485.36s -> 485.58s]  sein\n",
      "[485.58s -> 486.20s]  mögen,\n",
      "[486.46s -> 486.64s]  können\n",
      "[486.64s -> 486.96s]  den\n",
      "[486.96s -> 487.36s]  Körper\n",
      "[487.36s -> 487.64s]  und\n",
      "[487.64s -> 487.84s]  seine\n",
      "[487.84s -> 488.66s]  Gelüste\n",
      "[488.66s -> 489.26s]  nie\n",
      "[489.26s -> 489.66s]  völlig\n",
      "[489.66s -> 490.32s]  ausschalten.\n",
      "[491.26s -> 491.64s]  Einmal\n",
      "[491.64s -> 491.98s]  befiehlt\n",
      "[491.98s -> 492.18s]  der\n",
      "[492.18s -> 492.46s]  Kaiser\n",
      "[492.46s -> 492.68s]  von\n",
      "[492.68s -> 493.38s]  Lilliput\n",
      "[493.38s -> 493.72s]  seiner\n",
      "[493.72s -> 494.70s]  Zähne\n",
      "[494.70s -> 495.24s]  bewaffneten\n",
      "[495.24s -> 495.92s]  Armee\n",
      "[495.92s -> 496.46s]  in\n",
      "[496.46s -> 496.88s]  strenger\n",
      "[496.88s -> 497.86s]  Marschformation\n",
      "[497.86s -> 498.56s]  durch\n",
      "[498.56s -> 499.06s]  Gullivers\n",
      "[499.06s -> 499.84s]  gespreizte\n",
      "[499.84s -> 500.42s]  Beine\n",
      "[500.42s -> 500.90s]  hindurch\n",
      "[500.90s -> 501.12s]  zu\n",
      "[501.12s -> 501.84s]  defilieren.\n",
      "[502.92s -> 503.12s]  Seine\n",
      "[503.12s -> 504.12s]  Majestät\n",
      "[504.12s -> 504.64s]  befahl\n",
      "[504.64s -> 505.02s]  unter\n",
      "[505.02s -> 505.62s]  Androhung\n",
      "[505.62s -> 505.84s]  der\n",
      "[505.84s -> 507.12s]  Todesstrafe,\n",
      "[507.36s -> 507.48s]  dass\n",
      "[507.48s -> 507.74s]  jeder\n",
      "[507.74s -> 508.30s]  Soldat\n",
      "[508.30s -> 508.52s]  während\n",
      "[508.52s -> 508.74s]  des\n",
      "[508.74s -> 509.22s]  Marsches\n",
      "[509.22s -> 509.84s]  strengsten\n",
      "[509.84s -> 510.46s]  Anstand\n",
      "[510.46s -> 510.76s]  zu\n",
      "[510.76s -> 511.14s]  beachten\n",
      "[511.14s -> 511.42s]  hatte,\n",
      "[511.52s -> 511.72s]  was\n",
      "[511.72s -> 511.94s]  meine\n",
      "[511.94s -> 512.28s]  Person\n",
      "[512.28s -> 512.78s]  anging.\n",
      "[513.56s -> 513.96s]  Das\n",
      "[513.96s -> 514.30s]  hielt\n",
      "[514.30s -> 514.68s]  jedoch\n",
      "[514.68s -> 515.04s]  einige\n",
      "[515.04s -> 515.32s]  der\n",
      "[515.32s -> 515.84s]  jüngeren\n",
      "[515.84s -> 516.40s]  Offiziere\n",
      "[516.40s -> 516.72s]  nicht\n",
      "[516.72s -> 516.92s]  davon\n",
      "[516.92s -> 517.24s]  ab,\n",
      "[517.44s -> 517.62s]  ihre\n",
      "[517.62s -> 518.12s]  Augen\n",
      "[518.12s -> 518.84s]  nach\n",
      "[518.84s -> 519.24s]  oben\n",
      "[519.24s -> 519.60s]  zu\n",
      "[519.60s -> 520.06s]  richten,\n",
      "[520.18s -> 520.24s]  als\n",
      "[520.24s -> 520.46s]  sie\n",
      "[520.46s -> 520.74s]  unter\n",
      "[520.74s -> 520.96s]  mir\n",
      "[520.96s -> 521.74s]  durchmarschierten.\n",
      "[522.72s -> 522.94s]  Um\n",
      "[522.94s -> 523.20s]  die\n",
      "[523.20s -> 523.56s]  Wahrheit\n",
      "[523.56s -> 523.88s]  zu\n",
      "[523.88s -> 524.18s]  sagen,\n",
      "[524.88s -> 525.02s]  meine\n",
      "[525.02s -> 525.86s]  Hosen\n",
      "[525.86s -> 526.32s]  waren\n",
      "[526.32s -> 526.62s]  zu\n",
      "[526.62s -> 526.84s]  diesem\n",
      "[526.84s -> 527.38s]  Zeitpunkt\n",
      "[527.38s -> 527.66s]  in\n",
      "[527.66s -> 527.88s]  einem\n",
      "[527.88s -> 528.30s]  so\n",
      "[528.30s -> 528.82s]  üblen\n",
      "[528.82s -> 529.32s]  Zustand,\n",
      "[529.60s -> 529.74s]  dass\n",
      "[529.74s -> 530.06s]  sie\n",
      "[530.06s -> 530.58s]  einigen\n",
      "[530.58s -> 531.00s]  Anlass\n",
      "[531.00s -> 531.30s]  zu\n",
      "[531.30s -> 532.04s]  Gelächter\n",
      "[532.04s -> 532.48s]  und\n",
      "[532.48s -> 533.26s]  Bewunderung\n",
      "[533.26s -> 533.66s]  boten.\n",
      "[536.18s -> 536.56s]  Gullivers\n",
      "[536.56s -> 537.32s]  gigantische\n",
      "[537.32s -> 538.12s]  Genitalien\n",
      "[538.12s -> 538.34s]  sind\n",
      "[538.34s -> 538.60s]  aber\n",
      "[538.60s -> 538.86s]  nicht\n",
      "[538.86s -> 539.14s]  nur\n",
      "[539.14s -> 539.94s]  lustig,\n",
      "[540.12s -> 540.34s]  sie\n",
      "[540.34s -> 540.62s]  sind\n",
      "[540.62s -> 541.06s]  auch\n",
      "[541.06s -> 541.66s]  nützlich.\n",
      "[542.10s -> 542.38s]  Als\n",
      "[542.38s -> 542.62s]  der\n",
      "[542.62s -> 543.20s]  Palast\n",
      "[543.20s -> 544.02s]  brennt,\n",
      "[544.32s -> 544.54s]  pinkelt\n",
      "[544.54s -> 544.78s]  er\n",
      "[544.78s -> 545.20s]  einfach\n",
      "[545.20s -> 545.40s]  in\n",
      "[545.40s -> 545.60s]  die\n",
      "[545.60s -> 545.86s]  Flammen\n",
      "[545.86s -> 546.36s]  und\n",
      "[546.36s -> 546.62s]  das\n",
      "[546.62s -> 547.04s]  Gebäude\n",
      "[547.04s -> 547.32s]  ist\n",
      "[547.32s -> 548.18s]  gerettet.\n",
      "[548.40s -> 548.84s]  Gulliver\n",
      "[548.84s -> 549.06s]  wird\n",
      "[549.06s -> 549.38s]  zum\n",
      "[549.38s -> 549.84s]  Helden\n",
      "[549.84s -> 550.06s]  von\n",
      "[550.06s -> 550.58s]  Lilliput.\n",
      "[551.36s -> 551.66s]  Auch\n",
      "[551.66s -> 551.86s]  beim\n",
      "[551.86s -> 552.34s]  Militär\n",
      "[552.34s -> 552.58s]  macht\n",
      "[552.58s -> 552.76s]  er\n",
      "[552.76s -> 552.98s]  sich\n",
      "[552.98s -> 553.68s]  beliebt,\n",
      "[553.98s -> 554.04s]  in\n",
      "[554.04s -> 554.16s]  dem\n",
      "[554.16s -> 554.32s]  er\n",
      "[554.32s -> 554.46s]  der\n",
      "[554.46s -> 555.06s]  feindlichen\n",
      "[555.06s -> 555.76s]  Großmacht\n",
      "[555.76s -> 556.74s]  Blefuscu\n",
      "[556.74s -> 557.14s]  mal\n",
      "[557.14s -> 557.46s]  eben\n",
      "[557.46s -> 558.00s]  50\n",
      "[558.00s -> 558.66s]  Kriegsschiffe\n",
      "[558.66s -> 559.32s]  klaut.\n",
      "[560.20s -> 560.54s]  Doch\n",
      "[560.54s -> 561.40s]  unterschwellig\n",
      "[561.40s -> 561.82s]  wachsen\n",
      "[561.82s -> 562.16s]  die\n",
      "[562.16s -> 563.40s]  Integrationsprobleme,\n",
      "[563.50s -> 563.76s]  es\n",
      "[563.76s -> 564.02s]  kommt\n",
      "[564.02s -> 564.30s]  zu\n",
      "[564.30s -> 565.40s]  Konflikten.\n",
      "[565.92s -> 566.68s]  Einflussreiche\n",
      "[566.68s -> 567.16s]  Leute\n",
      "[567.16s -> 567.86s]  halten\n",
      "[567.86s -> 568.26s]  Gulliver\n",
      "[568.26s -> 568.50s]  für\n",
      "[568.50s -> 568.88s]  ein\n",
      "[568.88s -> 570.22s]  Sicherheitsrisiko.\n",
      "[570.54s -> 570.76s]  Sie\n",
      "[570.76s -> 571.06s]  finden\n",
      "[571.06s -> 571.26s]  ihn\n",
      "[571.26s -> 571.52s]  zu\n",
      "[571.52s -> 572.10s]  schamlos\n",
      "[572.10s -> 572.94s]  oder\n",
      "[572.94s -> 573.34s]  zu\n",
      "[573.34s -> 573.70s]  teuer.\n",
      "[573.94s -> 574.24s]  Der\n",
      "[574.24s -> 575.10s]  Schatzkanzler\n",
      "[575.10s -> 575.50s]  legte\n",
      "[575.50s -> 575.88s]  da,\n",
      "[575.88s -> 576.36s]  wie\n",
      "[576.36s -> 576.58s]  die\n",
      "[576.58s -> 576.88s]  Last\n",
      "[576.88s -> 577.20s]  meines\n",
      "[577.20s -> 577.78s]  Unterhalts\n",
      "[577.78s -> 578.02s]  die\n",
      "[578.02s -> 578.78s]  Staatskasse\n",
      "[578.78s -> 579.04s]  seiner\n",
      "[579.04s -> 579.62s]  Majestät\n",
      "[579.62s -> 579.84s]  in\n",
      "[579.84s -> 580.46s]  Schwierigkeiten\n",
      "[580.46s -> 580.90s]  gebracht\n",
      "[580.90s -> 581.14s]  habe\n",
      "[581.14s -> 581.84s]  und\n",
      "[581.84s -> 582.18s]  bald\n",
      "[582.18s -> 582.54s]  nicht\n",
      "[582.54s -> 582.78s]  mehr\n",
      "[582.78s -> 583.30s]  vertretbar\n",
      "[583.30s -> 583.54s]  sein\n",
      "[583.54s -> 583.84s]  werde.\n",
      "[584.48s -> 584.90s]  Bevor\n",
      "[584.90s -> 585.16s]  es\n",
      "[585.16s -> 585.32s]  ihm\n",
      "[585.32s -> 585.52s]  an\n",
      "[585.52s -> 585.76s]  den\n",
      "[585.76s -> 585.98s]  Kragen\n",
      "[585.98s -> 586.48s]  geht,\n",
      "[586.96s -> 587.08s]  findet\n",
      "[587.08s -> 587.54s]  Gulliver\n",
      "[587.54s -> 587.80s]  Mittel\n",
      "[587.80s -> 588.10s]  und\n",
      "[588.10s -> 588.54s]  Wege,\n",
      "[588.68s -> 588.94s]  nach\n",
      "[588.94s -> 589.48s]  England\n",
      "[589.48s -> 590.74s]  zurückzukehren.\n",
      "[591.50s -> 591.72s]  Nach\n",
      "[591.72s -> 591.96s]  seinem\n",
      "[591.96s -> 592.34s]  zweiten\n",
      "[592.34s -> 592.84s]  Schiffbruch\n",
      "[592.84s -> 593.04s]  auf\n",
      "[593.04s -> 593.20s]  seiner\n",
      "[593.20s -> 593.58s]  zweiten\n",
      "[593.58s -> 594.40s]  Reise\n",
      "[594.40s -> 594.86s]  landet\n",
      "[594.86s -> 595.08s]  er\n",
      "[595.08s -> 595.40s]  in\n",
      "[595.40s -> 596.04s]  Proptignac.\n",
      "[596.90s -> 597.28s]  Hier\n",
      "[597.28s -> 597.66s]  kehren\n",
      "[597.66s -> 597.84s]  sich\n",
      "[597.84s -> 598.08s]  die\n",
      "[598.08s -> 598.60s]  Verhältnisse\n",
      "[598.60s -> 598.96s]  um.\n",
      "[599.62s -> 600.06s]  Hier\n",
      "[600.06s -> 600.40s]  sind\n",
      "[600.40s -> 600.72s]  die\n",
      "[600.72s -> 601.16s]  anderen\n",
      "[601.16s -> 601.60s]  die\n",
      "[601.60s -> 602.04s]  Riesen.\n",
      "[604.12s -> 604.36s]  Der\n",
      "[604.36s -> 605.02s]  Mann\n",
      "[605.02s -> 605.48s]  schien\n",
      "[605.48s -> 605.86s]  so\n",
      "[605.86s -> 606.08s]  groß\n",
      "[606.08s -> 606.34s]  wie\n",
      "[606.34s -> 606.80s]  ein\n",
      "[606.80s -> 607.52s]  gewöhnlicher\n",
      "[607.52s -> 608.32s]  Kirchturm\n",
      "[608.32s -> 608.90s]  und\n",
      "[608.90s -> 609.44s]  bewältigte\n",
      "[609.44s -> 609.72s]  bei\n",
      "[609.72s -> 610.04s]  jedem\n",
      "[610.04s -> 610.36s]  Schritt\n",
      "[610.36s -> 610.80s]  ungefähr\n",
      "[610.80s -> 611.24s]  zehn\n",
      "[611.24s -> 611.62s]  Meter,\n",
      "[611.64s -> 611.98s]  soweit\n",
      "[611.98s -> 612.10s]  ich\n",
      "[612.10s -> 612.30s]  das\n",
      "[612.30s -> 612.74s]  erraten\n",
      "[612.74s -> 612.98s]  konnte.\n",
      "[614.04s -> 614.38s]  Ich\n",
      "[614.38s -> 614.72s]  wurde\n",
      "[614.72s -> 615.10s]  von\n",
      "[615.10s -> 615.66s]  äußerster\n",
      "[615.66s -> 616.14s]  Angst\n",
      "[616.14s -> 616.62s]  und\n",
      "[616.62s -> 617.12s]  Verblüffung\n",
      "[617.12s -> 617.52s]  gepackt\n",
      "[617.52s -> 617.74s]  und\n",
      "[617.74s -> 618.06s]  rannte\n",
      "[618.06s -> 618.32s]  fort,\n",
      "[618.46s -> 618.52s]  um\n",
      "[618.52s -> 618.70s]  mich\n",
      "[618.70s -> 618.88s]  im\n",
      "[618.88s -> 619.42s]  Getreide\n",
      "[619.42s -> 619.68s]  zu\n",
      "[619.68s -> 620.20s]  verstecken.\n",
      "[623.98s -> 624.22s]  Auf\n",
      "[624.22s -> 625.06s]  Proptignac\n",
      "[625.06s -> 625.70s]  verändert\n",
      "[625.70s -> 626.08s]  sich\n",
      "[626.08s -> 626.34s]  das\n",
      "[626.34s -> 626.64s]  Bild\n",
      "[626.64s -> 626.90s]  noch\n",
      "[626.90s -> 627.12s]  mal\n",
      "[627.12s -> 627.34s]  ein\n",
      "[627.34s -> 627.54s]  Stück\n",
      "[627.54s -> 627.76s]  weit.\n",
      "[627.98s -> 627.98s]  Wenn\n",
      "[627.98s -> 628.30s]  wir\n",
      "[628.30s -> 628.70s]  auf\n",
      "[628.70s -> 629.36s]  Lilliput\n",
      "[629.36s -> 629.90s]  einen\n",
      "[629.90s -> 630.64s]  entspannten\n",
      "[630.64s -> 631.38s]  Umgang\n",
      "[631.38s -> 631.68s]  mit\n",
      "[631.68s -> 631.92s]  dem\n",
      "[631.92s -> 632.20s]  Körper\n",
      "[632.20s -> 632.66s]  haben,\n",
      "[633.34s -> 633.42s]  wird\n",
      "[633.42s -> 633.70s]  der\n",
      "[633.70s -> 634.06s]  Körper\n",
      "[634.06s -> 634.38s]  auf\n",
      "[634.38s -> 635.10s]  Proptignac\n",
      "[635.10s -> 635.66s]  für\n",
      "[635.66s -> 636.28s]  Gulliver\n",
      "[636.28s -> 636.56s]  zur\n",
      "[636.56s -> 636.76s]  Quelle\n",
      "[636.76s -> 637.02s]  des\n",
      "[637.02s -> 637.82s]  Unbehagens.\n",
      "[638.26s -> 638.52s]  Das\n",
      "[638.52s -> 638.88s]  betrifft\n",
      "[638.88s -> 639.12s]  sowohl\n",
      "[639.12s -> 639.34s]  seinen\n",
      "[639.34s -> 639.88s]  eigenen\n",
      "[639.88s -> 640.36s]  Körper\n",
      "[640.36s -> 640.78s]  wie\n",
      "[640.78s -> 640.94s]  auch\n",
      "[640.94s -> 641.00s]  den\n",
      "[641.00s -> 641.20s]  Körper\n",
      "[641.20s -> 641.38s]  der\n",
      "[641.38s -> 641.72s]  Riesen.\n",
      "[642.00s -> 642.12s]  Er\n",
      "[642.12s -> 642.32s]  ist\n",
      "[642.32s -> 642.54s]  einfach\n",
      "[642.54s -> 642.80s]  ein\n",
      "[642.80s -> 643.28s]  Winzling.\n",
      "[643.34s -> 643.46s]  Er\n",
      "[643.46s -> 643.80s]  fühlt\n",
      "[643.80s -> 644.30s]  sich\n",
      "[644.30s -> 645.02s]  verletzlich.\n",
      "[645.16s -> 645.26s]  Er\n",
      "[645.26s -> 645.60s]  fühlt\n",
      "[645.60s -> 645.84s]  sich\n",
      "[645.84s -> 646.08s]  allen\n",
      "[646.08s -> 646.58s]  möglichen\n",
      "[646.58s -> 646.96s]  Gefahren\n",
      "[646.96s -> 647.74s]  ausgesetzt.\n",
      "[648.24s -> 648.40s]  So\n",
      "[648.40s -> 648.54s]  wird\n",
      "[648.54s -> 648.72s]  ihm\n",
      "[648.72s -> 649.02s]  sehr\n",
      "[649.02s -> 649.38s]  bewusst,\n",
      "[649.52s -> 649.76s]  dass\n",
      "[649.76s -> 649.92s]  sein\n",
      "[649.92s -> 650.44s]  Körper\n",
      "[650.44s -> 651.10s]  eben\n",
      "[651.10s -> 651.50s]  nicht\n",
      "[651.50s -> 652.08s]  überlegen\n",
      "[652.08s -> 652.46s]  ist\n",
      "[652.46s -> 652.74s]  und\n",
      "[652.74s -> 653.76s]  unangreifbar,\n",
      "[653.88s -> 654.12s]  sondern\n",
      "[654.12s -> 654.32s]  dass\n",
      "[654.32s -> 654.54s]  er\n",
      "[654.54s -> 654.82s]  einen\n",
      "[654.82s -> 655.50s]  verletzlichen\n",
      "[655.50s -> 656.00s]  menschlichen\n",
      "[656.00s -> 656.38s]  Körper\n",
      "[656.38s -> 656.66s]  hat.\n",
      "[656.66s -> 657.46s]  Die\n",
      "[657.46s -> 657.88s]  Menschen\n",
      "[657.88s -> 658.14s]  vom\n",
      "[658.14s -> 659.02s]  Proptignac\n",
      "[659.02s -> 659.64s]  behandeln\n",
      "[659.64s -> 660.00s]  Gulliver\n",
      "[660.00s -> 660.22s]  wie\n",
      "[660.22s -> 660.58s]  eine\n",
      "[660.58s -> 660.92s]  Puppe\n",
      "[660.92s -> 661.32s]  oder\n",
      "[661.32s -> 661.46s]  wie\n",
      "[661.46s -> 661.72s]  ein\n",
      "[661.72s -> 662.36s]  Haustier.\n",
      "[662.86s -> 663.00s]  Sie\n",
      "[663.00s -> 663.28s]  stecken\n",
      "[663.28s -> 663.52s]  ihn\n",
      "[663.52s -> 663.78s]  in\n",
      "[663.78s -> 664.24s]  tragbare\n",
      "[664.24s -> 665.16s]  Puppenhäuschen,\n",
      "[665.44s -> 665.66s]  schleppen\n",
      "[665.66s -> 665.90s]  ihn\n",
      "[665.90s -> 666.06s]  von\n",
      "[666.06s -> 666.38s]  Dorf\n",
      "[666.38s -> 666.52s]  zu\n",
      "[666.52s -> 667.16s]  Dorf\n",
      "[667.16s -> 667.56s]  und\n",
      "[667.56s -> 668.24s]  präsentieren\n",
      "[668.24s -> 668.52s]  ihn\n",
      "[668.52s -> 668.74s]  vor\n",
      "[668.74s -> 669.30s]  zahlendem\n",
      "[669.30s -> 670.12s]  Publikum,\n",
      "[670.26s -> 670.42s]  bis\n",
      "[670.42s -> 670.62s]  er\n",
      "[670.62s -> 670.78s]  vor\n",
      "[670.78s -> 671.56s]  Erschöpfung\n",
      "[671.56s -> 672.06s]  fast\n",
      "[672.06s -> 672.42s]  stirbt.\n",
      "[673.74s -> 674.06s]  Noch\n",
      "[674.06s -> 674.78s]  bedrohlicher\n",
      "[674.78s -> 675.44s]  ist\n",
      "[675.44s -> 676.16s]  Proptignacs\n",
      "[676.16s -> 677.04s]  übermächtige\n",
      "[677.04s -> 677.58s]  Natur.\n",
      "[678.76s -> 679.24s]  Unterdessen\n",
      "[679.24s -> 679.48s]  ging\n",
      "[679.48s -> 680.18s]  plötzlich\n",
      "[680.18s -> 680.72s]  ein\n",
      "[680.72s -> 681.06s]  so\n",
      "[681.06s -> 681.58s]  heftiger\n",
      "[681.58s -> 682.26s]  Hagelschauer\n",
      "[682.26s -> 682.74s]  nieder,\n",
      "[683.10s -> 683.22s]  dass\n",
      "[683.22s -> 683.42s]  ich\n",
      "[683.42s -> 683.60s]  durch\n",
      "[683.60s -> 683.80s]  seine\n",
      "[683.80s -> 684.16s]  Gewalt\n",
      "[684.16s -> 684.72s]  sofort\n",
      "[684.72s -> 684.98s]  zu\n",
      "[684.98s -> 685.12s]  Boden\n",
      "[685.12s -> 685.62s]  geworfen\n",
      "[685.62s -> 685.88s]  wurde.\n",
      "[686.18s -> 686.42s]  Und\n",
      "[686.42s -> 686.60s]  als\n",
      "[686.60s -> 686.82s]  ich\n",
      "[686.82s -> 687.06s]  am\n",
      "[687.06s -> 687.28s]  Boden\n",
      "[687.28s -> 687.66s]  lag,\n",
      "[688.02s -> 688.30s]  schlugen\n",
      "[688.30s -> 688.60s]  die\n",
      "[688.60s -> 689.12s]  Hagelkörner\n",
      "[689.12s -> 689.54s]  so\n",
      "[689.54s -> 690.26s]  unbarmherzig\n",
      "[690.26s -> 690.48s]  auf\n",
      "[690.48s -> 690.66s]  meinen\n",
      "[690.66s -> 691.14s]  ganzen\n",
      "[691.14s -> 691.48s]  Körper\n",
      "[691.48s -> 691.84s]  ein,\n",
      "[692.22s -> 692.38s]  als\n",
      "[692.38s -> 692.62s]  ob\n",
      "[692.62s -> 692.80s]  ich\n",
      "[692.80s -> 693.04s]  mit\n",
      "[693.04s -> 693.62s]  Tennisbällen\n",
      "[693.62s -> 694.12s]  beworfen\n",
      "[694.12s -> 694.40s]  wurde.\n",
      "[695.30s -> 695.54s]  Man\n",
      "[695.54s -> 695.82s]  braucht\n",
      "[695.82s -> 696.04s]  sich\n",
      "[696.04s -> 696.36s]  über\n",
      "[696.36s -> 696.66s]  all\n",
      "[696.66s -> 697.04s]  dies\n",
      "[697.04s -> 697.52s]  nicht\n",
      "[697.52s -> 697.80s]  zu\n",
      "[697.80s -> 698.36s]  wundern,\n",
      "[698.74s -> 698.88s]  weil\n",
      "[698.88s -> 699.06s]  die\n",
      "[699.06s -> 699.32s]  Natur\n",
      "[699.32s -> 699.62s]  bei\n",
      "[699.62s -> 699.74s]  all\n",
      "[699.74s -> 700.00s]  ihrem\n",
      "[700.00s -> 700.24s]  Tun\n",
      "[700.24s -> 700.52s]  die\n",
      "[700.52s -> 700.86s]  gleichen\n",
      "[700.86s -> 701.84s]  Proportionen\n",
      "[701.84s -> 702.20s]  einhält\n",
      "[702.20s -> 702.70s]  und\n",
      "[702.70s -> 702.98s]  ein\n",
      "[702.98s -> 703.58s]  Hagelkorn\n",
      "[703.58s -> 704.40s]  ungefähr\n",
      "[704.40s -> 705.06s]  1800\n",
      "[705.06s -> 705.48s]  mal\n",
      "[705.48s -> 705.78s]  so\n",
      "[705.78s -> 705.96s]  groß\n",
      "[705.96s -> 706.20s]  ist\n",
      "[706.20s -> 706.38s]  wie\n",
      "[706.38s -> 706.62s]  in\n",
      "[706.62s -> 707.14s]  Europa.\n",
      "[707.80s -> 707.98s]  Was\n",
      "[707.98s -> 708.18s]  ich\n",
      "[708.18s -> 708.32s]  aus\n",
      "[708.32s -> 708.72s]  Erfahrung\n",
      "[708.72s -> 709.26s]  bestätigen\n",
      "[709.26s -> 709.50s]  kann,\n",
      "[709.80s -> 710.00s]  denn\n",
      "[710.00s -> 710.26s]  ich\n",
      "[710.26s -> 710.46s]  war\n",
      "[710.46s -> 711.10s]  neugierig\n",
      "[711.10s -> 711.50s]  genug,\n",
      "[711.58s -> 711.76s]  sie\n",
      "[711.76s -> 712.08s]  zu\n",
      "[712.08s -> 712.50s]  wiegen\n",
      "[712.50s -> 712.88s]  und\n",
      "[712.88s -> 713.16s]  zu\n",
      "[713.16s -> 713.54s]  vermessen.\n",
      "[714.24s -> 714.62s]  Aber\n",
      "[714.62s -> 714.88s]  mit\n",
      "[714.88s -> 715.46s]  Vernunft,\n",
      "[715.46s -> 716.28s]  Willenskraft\n",
      "[716.28s -> 716.52s]  und\n",
      "[716.52s -> 717.58s]  Forscherdrang\n",
      "[717.58s -> 718.08s]  kommt\n",
      "[718.08s -> 718.54s]  Gulliver\n",
      "[718.54s -> 718.78s]  hier\n",
      "[718.78s -> 719.10s]  nicht\n",
      "[719.10s -> 719.44s]  weit.\n",
      "[720.14s -> 720.52s]  Jedes\n",
      "[720.52s -> 721.58s]  Schoßhündchen\n",
      "[721.58s -> 721.90s]  droht\n",
      "[721.90s -> 722.10s]  ihn\n",
      "[722.10s -> 722.28s]  zu\n",
      "[722.28s -> 722.96s]  zerfetzen,\n",
      "[723.32s -> 723.50s]  jeder\n",
      "[723.50s -> 723.88s]  Kuh\n",
      "[723.88s -> 724.28s]  fladen,\n",
      "[724.48s -> 724.64s]  ihn\n",
      "[724.64s -> 724.84s]  zu\n",
      "[724.84s -> 725.38s]  verschlingen.\n",
      "[725.86s -> 726.00s]  Und\n",
      "[726.00s -> 726.28s]  die\n",
      "[726.28s -> 726.56s]  Frauen,\n",
      "[727.02s -> 727.70s]  ach,\n",
      "[728.28s -> 728.78s]  die\n",
      "[728.78s -> 729.22s]  Frauen,\n",
      "[729.66s -> 729.92s]  die\n",
      "[729.92s -> 730.08s]  sind\n",
      "[730.08s -> 730.44s]  fast\n",
      "[730.44s -> 730.74s]  noch\n",
      "[730.74s -> 731.06s]  schlimmer\n",
      "[731.06s -> 731.38s]  als\n",
      "[731.38s -> 731.64s]  alles\n",
      "[731.64s -> 732.02s]  andere.\n",
      "[733.88s -> 734.08s]  Die\n",
      "[734.08s -> 734.62s]  hübscheste\n",
      "[734.62s -> 734.92s]  unter\n",
      "[734.92s -> 735.14s]  diesen\n",
      "[735.14s -> 736.30s]  Edelfreulein,\n",
      "[736.46s -> 736.74s]  ein\n",
      "[736.74s -> 737.48s]  vergnügliches,\n",
      "[737.74s -> 738.22s]  ausgelassenes\n",
      "[738.22s -> 738.54s]  Mädchen\n",
      "[738.54s -> 738.72s]  von\n",
      "[738.72s -> 739.04s]  16\n",
      "[739.04s -> 739.76s]  Jahren,\n",
      "[740.30s -> 740.56s]  setzte\n",
      "[740.56s -> 740.82s]  mich\n",
      "[740.82s -> 741.54s]  manchmal\n",
      "[741.54s -> 742.30s]  Rittlings\n",
      "[742.30s -> 743.04s]  auf\n",
      "[743.04s -> 743.40s]  eine\n",
      "[743.40s -> 743.70s]  ihrer\n",
      "[743.70s -> 744.54s]  Brustwarzen\n",
      "[744.54s -> 745.46s]  und\n",
      "[745.46s -> 745.78s]  trieb\n",
      "[745.78s -> 746.12s]  viele\n",
      "[746.12s -> 746.56s]  andere\n",
      "[746.56s -> 747.00s]  Possen,\n",
      "[747.16s -> 747.52s]  doch\n",
      "[747.52s -> 747.74s]  wird\n",
      "[747.74s -> 747.92s]  der\n",
      "[747.92s -> 748.20s]  Leser\n",
      "[748.20s -> 748.74s]  entschuldigen,\n",
      "[748.86s -> 748.96s]  wenn\n",
      "[748.96s -> 749.26s]  ich\n",
      "[749.26s -> 749.50s]  nicht\n",
      "[749.50s -> 749.86s]  ins\n",
      "[749.86s -> 750.34s]  Einzelne\n",
      "[750.34s -> 750.58s]  gehe.\n",
      "[752.38s -> 752.90s]  Gulliver\n",
      "[752.90s -> 753.52s]  als\n",
      "[753.52s -> 754.64s]  Sexspielzeug.\n",
      "[755.42s -> 755.68s]  In\n",
      "[755.68s -> 756.46s]  Proptiniak\n",
      "[756.46s -> 756.84s]  drängt\n",
      "[756.84s -> 757.06s]  sich\n",
      "[757.06s -> 757.22s]  der\n",
      "[757.22s -> 757.66s]  weibliche\n",
      "[757.66s -> 757.98s]  Körper\n",
      "[757.98s -> 758.32s]  mit\n",
      "[758.32s -> 758.60s]  Macht\n",
      "[758.60s -> 758.88s]  in\n",
      "[758.88s -> 759.00s]  sein\n",
      "[759.00s -> 759.56s]  Blickfeld.\n",
      "[760.08s -> 760.72s]  Riesige\n",
      "[760.72s -> 761.08s]  Brüste\n",
      "[761.08s -> 761.46s]  umgeben\n",
      "[761.46s -> 761.68s]  ihn,\n",
      "[761.76s -> 762.10s]  wohin\n",
      "[762.10s -> 762.36s]  er\n",
      "[762.36s -> 762.66s]  schaut.\n",
      "[763.34s -> 764.02s]  Manchmal\n",
      "[764.02s -> 764.50s]  hängen\n",
      "[764.50s -> 765.02s]  Riesen\n",
      "[765.02s -> 765.68s]  Säuglinge\n",
      "[765.68s -> 765.94s]  dran,\n",
      "[766.60s -> 767.10s]  manchmal\n",
      "[767.10s -> 767.52s]  sind\n",
      "[767.52s -> 767.66s]  sie\n",
      "[767.66s -> 767.88s]  von\n",
      "[768.84s -> 769.56s]  Eine\n",
      "[769.56s -> 770.00s]  Frau\n",
      "[770.00s -> 770.30s]  war\n",
      "[770.30s -> 770.68s]  da,\n",
      "[770.84s -> 771.10s]  die\n",
      "[771.10s -> 771.42s]  einen\n",
      "[771.42s -> 772.30s]  Brustkrebs\n",
      "[772.30s -> 772.60s]  hatte,\n",
      "[773.22s -> 773.30s]  der\n",
      "[773.30s -> 773.64s]  auf\n",
      "[773.64s -> 774.16s]  ungeheure\n",
      "[774.16s -> 774.48s]  Größe\n",
      "[774.48s -> 774.96s]  angeschwollen\n",
      "[774.96s -> 775.36s]  war,\n",
      "[775.66s -> 775.86s]  voll\n",
      "[775.86s -> 776.20s]  von\n",
      "[776.20s -> 776.64s]  Löchern,\n",
      "[776.64s -> 776.88s]  in\n",
      "[776.88s -> 776.96s]  die\n",
      "[776.96s -> 777.24s]  ich\n",
      "[777.24s -> 777.50s]  zwei\n",
      "[777.50s -> 777.74s]  oder\n",
      "[777.74s -> 778.40s]  dreimal\n",
      "[778.40s -> 778.88s]  bequem\n",
      "[778.88s -> 779.12s]  hätte\n",
      "[779.12s -> 779.98s]  hineinkriechen\n",
      "[779.98s -> 780.62s]  und\n",
      "[780.62s -> 780.86s]  meinen\n",
      "[780.86s -> 781.26s]  Körper\n",
      "[781.26s -> 781.62s]  darin\n",
      "[781.62s -> 781.98s]  hätte\n",
      "[781.98s -> 782.50s]  verstecken\n",
      "[782.50s -> 782.84s]  können.\n",
      "[783.38s -> 783.88s]  Wenn\n",
      "[783.88s -> 784.50s]  Gulliver\n",
      "[784.50s -> 785.06s]  in\n",
      "[785.06s -> 785.82s]  Proptiniak\n",
      "[785.82s -> 786.14s]  mit\n",
      "[786.14s -> 786.60s]  diesen\n",
      "[786.60s -> 787.44s]  riesengroßen\n",
      "[787.44s -> 788.24s]  Frauenkörpern\n",
      "[788.24s -> 789.00s]  konfrontiert\n",
      "[789.00s -> 789.32s]  ist,\n",
      "[789.46s -> 789.58s]  dann\n",
      "[789.58s -> 789.82s]  ist\n",
      "[789.82s -> 790.10s]  das\n",
      "[790.10s -> 790.36s]  wie\n",
      "[790.36s -> 790.74s]  die\n",
      "[790.74s -> 791.44s]  Rückkehr\n",
      "[791.44s -> 791.80s]  des\n",
      "[791.80s -> 792.78s]  Zerdrängten.\n",
      "[792.78s -> 792.98s]  Er\n",
      "[792.98s -> 793.20s]  findet\n",
      "[793.20s -> 793.44s]  sich\n",
      "[793.44s -> 794.16s]  ausgesetzt\n",
      "[794.16s -> 794.66s]  einer\n",
      "[794.66s -> 795.68s]  überwältigenden\n",
      "[795.68s -> 796.52s]  Körperlichkeit,\n",
      "[796.68s -> 796.80s]  auch\n",
      "[796.80s -> 796.94s]  einer\n",
      "[796.94s -> 797.84s]  überwältigenden\n",
      "[797.84s -> 798.62s]  Sinnlichkeit.\n",
      "[799.06s -> 799.24s]  Das\n",
      "[799.24s -> 799.42s]  kann\n",
      "[799.42s -> 799.62s]  aber\n",
      "[799.62s -> 799.82s]  auch\n",
      "[799.82s -> 800.46s]  umschlagen\n",
      "[800.46s -> 800.90s]  in\n",
      "[800.90s -> 801.08s]  ein\n",
      "[801.08s -> 801.60s]  ganz\n",
      "[801.60s -> 802.46s]  furchterregendes\n",
      "[802.46s -> 803.32s]  Szenario,\n",
      "[803.44s -> 803.66s]  wenn\n",
      "[803.66s -> 804.12s]  Gulliver\n",
      "[804.12s -> 804.36s]  zum\n",
      "[804.36s -> 804.80s]  Beispiel\n",
      "[804.80s -> 804.98s]  die\n",
      "[804.98s -> 805.30s]  alte\n",
      "[805.30s -> 805.88s]  Bettlerin\n",
      "[805.88s -> 806.50s]  mit\n",
      "[806.50s -> 806.68s]  dem\n",
      "[806.68s -> 807.48s]  Brustkrebs\n",
      "[807.48s -> 807.84s]  sieht\n",
      "[807.84s -> 808.42s]  und\n",
      "[808.42s -> 808.62s]  an\n",
      "[808.62s -> 809.24s]  ihr\n",
      "[809.24s -> 809.64s]  ganz\n",
      "[809.64s -> 809.96s]  deutlich\n",
      "[809.96s -> 810.30s]  wird,\n",
      "[810.40s -> 810.80s]  dass\n",
      "[810.80s -> 811.06s]  der\n",
      "[811.06s -> 811.58s]  Körper\n",
      "[811.58s -> 812.18s]  dem\n",
      "[812.18s -> 812.88s]  Verfall,\n",
      "[813.04s -> 813.24s]  dem\n",
      "[813.24s -> 813.62s]  Altern\n",
      "[813.62s -> 813.80s]  und\n",
      "[813.80s -> 814.04s]  der\n",
      "[814.04s -> 814.44s]  Krankheit\n",
      "[814.44s -> 815.20s]  preisgegeben\n",
      "[815.20s -> 815.46s]  wird.\n",
      "[816.04s -> 816.40s]  Und\n",
      "[816.40s -> 816.54s]  die\n",
      "[816.54s -> 816.94s]  eigentlich\n",
      "[816.94s -> 817.60s]  erschreckende\n",
      "[817.60s -> 818.06s]  Einsicht\n",
      "[818.06s -> 818.28s]  dabei\n",
      "[818.28s -> 818.58s]  ist\n",
      "[818.58s -> 818.80s]  für\n",
      "[818.80s -> 819.16s]  Gulliver,\n",
      "[819.40s -> 819.44s]  dass\n",
      "[819.44s -> 819.62s]  er\n",
      "[819.62s -> 819.96s]  selbst\n",
      "[819.96s -> 820.12s]  seinem\n",
      "[820.12s -> 820.52s]  eigenen\n",
      "[820.52s -> 820.96s]  Körper\n",
      "[820.96s -> 821.44s]  nicht\n",
      "[821.44s -> 821.90s]  entkommen\n",
      "[821.90s -> 822.32s]  kann.\n",
      "[823.00s -> 823.20s]  Dass\n",
      "[823.20s -> 823.64s]  Gulliver\n",
      "[823.64s -> 823.86s]  aus\n",
      "[823.86s -> 824.62s]  Proptiniak\n",
      "[824.62s -> 824.78s]  je\n",
      "[824.78s -> 825.02s]  wieder\n",
      "[825.02s -> 825.82s]  wegkommt,\n",
      "[826.08s -> 826.24s]  ist\n",
      "[826.24s -> 826.60s]  reiner\n",
      "[826.60s -> 827.12s]  Zufall\n",
      "[827.12s -> 827.54s]  und\n",
      "[827.54s -> 827.84s]  einem\n",
      "[827.84s -> 828.38s]  Adler\n",
      "[828.38s -> 828.66s]  zu\n",
      "[828.66s -> 829.10s]  verdanken,\n",
      "[829.46s -> 829.58s]  der\n",
      "[829.58s -> 829.80s]  ihn\n",
      "[829.80s -> 830.26s]  packt\n",
      "[830.26s -> 830.48s]  und\n",
      "[830.48s -> 831.02s]  entführt.\n",
      "[832.24s -> 832.52s]  Die\n",
      "[832.52s -> 832.84s]  dritte\n",
      "[832.84s -> 833.28s]  Reise\n",
      "[833.28s -> 833.52s]  führt\n",
      "[833.52s -> 833.70s]  ihn\n",
      "[833.70s -> 833.86s]  auf\n",
      "[833.86s -> 834.14s]  eine\n",
      "[834.14s -> 834.70s]  fliegende\n",
      "[834.70s -> 835.52s]  Insel\n",
      "[835.52s -> 836.24s]  Laputa,\n",
      "[836.88s -> 837.16s]  ein\n",
      "[837.16s -> 837.56s]  Wolken\n",
      "[837.56s -> 838.04s] -Kuckucks\n",
      "[838.04s -> 838.24s] -Heim\n",
      "[838.24s -> 838.42s]  für\n",
      "[838.42s -> 839.00s]  weltfremde\n",
      "[839.00s -> 839.80s]  Wissenschaftler,\n",
      "[840.28s -> 840.50s]  eine\n",
      "[840.50s -> 840.82s]  groß\n",
      "[840.82s -> 841.44s]  angelegte\n",
      "[841.44s -> 841.94s]  Satire\n",
      "[841.94s -> 842.18s]  auf\n",
      "[842.18s -> 842.84s]  Wissenschaft\n",
      "[842.84s -> 843.14s]  und\n",
      "[843.14s -> 843.92s]  Geistesleben,\n",
      "[844.60s -> 844.88s]  aber\n",
      "[844.88s -> 845.10s]  wegen\n",
      "[845.10s -> 845.36s]  der\n",
      "[845.36s -> 845.66s]  vielen\n",
      "[845.66s -> 846.44s]  komplizierten\n",
      "[846.44s -> 847.46s]  Anspielungen\n",
      "[847.46s -> 847.88s]  nie\n",
      "[847.88s -> 848.20s]  so\n",
      "[848.20s -> 848.60s]  populär\n",
      "[848.60s -> 848.96s]  geworden,\n",
      "[849.34s -> 849.34s]  wie\n",
      "[849.34s -> 849.50s]  die\n",
      "[849.50s -> 849.82s]  ersten\n",
      "[849.82s -> 850.16s]  beiden\n",
      "[850.16s -> 850.62s]  Reisen.\n",
      "[852.08s -> 852.34s]  Die\n",
      "[852.34s -> 852.72s]  vierte\n",
      "[852.72s -> 853.06s]  Reise\n",
      "[853.06s -> 853.50s]  hingegen\n",
      "[853.50s -> 853.78s]  hat\n",
      "[853.78s -> 854.10s]  für\n",
      "[854.10s -> 854.56s]  Furore\n",
      "[854.56s -> 854.94s]  gesorgt\n",
      "[854.94s -> 855.38s]  und\n",
      "[855.38s -> 855.68s]  für\n",
      "[855.68s -> 856.04s]  heftige\n",
      "[856.04s -> 856.54s]  Empörung.\n",
      "[857.46s -> 857.68s]  Denn\n",
      "[857.68s -> 858.12s]  hier\n",
      "[858.12s -> 859.00s]  spitzzwift\n",
      "[859.00s -> 859.42s]  seinen\n",
      "[859.42s -> 860.30s]  Großangriff\n",
      "[860.30s -> 860.46s]  auf\n",
      "[860.46s -> 860.68s]  die\n",
      "[860.68s -> 861.14s]  menschliche\n",
      "[861.14s -> 862.32s]  Selbstüberschätzung\n",
      "[862.32s -> 863.04s]  drastisch\n",
      "[863.04s -> 863.30s]  zu.\n",
      "[864.20s -> 864.50s]  Im\n",
      "[864.50s -> 864.88s]  vierten\n",
      "[864.88s -> 865.34s]  Land\n",
      "[865.34s -> 866.00s]  herrschen\n",
      "[866.00s -> 866.22s]  die\n",
      "[866.22s -> 866.76s]  Pferde,\n",
      "[867.08s -> 867.12s]  in\n",
      "[867.12s -> 867.34s]  der\n",
      "[867.34s -> 868.34s]  Landessprache\n",
      "[868.34s -> 868.98s]  Winnems\n",
      "[868.98s -> 869.72s]  genannt.\n",
      "[870.32s -> 870.72s]  Weise\n",
      "[870.72s -> 870.92s]  und\n",
      "[870.92s -> 871.34s]  gerechte\n",
      "[871.34s -> 871.92s]  Pferde,\n",
      "[871.92s -> 872.20s]  die\n",
      "[872.20s -> 872.50s]  weder\n",
      "[872.50s -> 872.84s]  Geld\n",
      "[872.84s -> 873.10s]  noch\n",
      "[873.10s -> 873.44s]  Krieg,\n",
      "[873.54s -> 873.76s]  weder\n",
      "[873.76s -> 874.06s]  Lügen\n",
      "[874.06s -> 874.30s]  noch\n",
      "[874.30s -> 875.00s]  Ehebruch\n",
      "[875.00s -> 875.54s]  oder\n",
      "[875.54s -> 876.00s]  überhaupt\n",
      "[876.00s -> 876.52s]  irgendwelche\n",
      "[876.52s -> 877.60s]  Leidenschaften\n",
      "[877.60s -> 877.60s]  kennen.\n",
      "[878.36s -> 879.08s]  Blitzsaubere,\n",
      "[879.28s -> 879.76s]  makellose\n",
      "[879.76s -> 880.50s]  Geschöpfe,\n",
      "[880.66s -> 880.84s]  die\n",
      "[880.84s -> 881.06s]  den\n",
      "[881.06s -> 881.64s]  großen\n",
      "[881.64s -> 882.26s]  Traum\n",
      "[882.26s -> 882.54s]  der\n",
      "[882.54s -> 883.16s]  europäischen\n",
      "[883.16s -> 884.08s]  Aufklärung\n",
      "[884.08s -> 884.32s]  von\n",
      "[884.32s -> 884.86s]  Vernunft,\n",
      "[885.04s -> 885.44s]  Bestimmtheit\n",
      "[885.44s -> 885.72s]  und\n",
      "[885.72s -> 886.52s]  Tugend\n",
      "[886.52s -> 887.18s]  scheinbar\n",
      "[887.18s -> 887.72s]  mühelos\n",
      "[887.72s -> 888.24s]  verwirklicht\n",
      "[888.24s -> 888.52s]  haben.\n",
      "[890.40s -> 890.64s]  Im\n",
      "[890.64s -> 891.34s]  Gegensatz\n",
      "[891.34s -> 891.56s]  zu\n",
      "[891.56s -> 891.92s]  den\n",
      "[891.92s -> 892.90s]  Yahu's,\n",
      "[893.02s -> 893.24s]  die\n",
      "[893.24s -> 893.44s]  auch\n",
      "[893.44s -> 893.68s]  hier\n",
      "[893.68s -> 894.02s]  leben.\n",
      "[897.72s -> 898.44s]  Verdreckte,\n",
      "[899.42s -> 900.30s]  sind\n",
      "[900.30s -> 900.74s]  es\n",
      "[900.74s -> 901.22s]  Tiere?\n",
      "[901.96s -> 902.30s]  Nein.\n",
      "[903.34s -> 903.74s]  Mein\n",
      "[903.74s -> 904.70s]  Entsetzen\n",
      "[904.70s -> 905.16s]  und\n",
      "[905.16s -> 905.36s]  mein\n",
      "[905.36s -> 905.94s]  Erstaunen\n",
      "[905.94s -> 906.18s]  lassen\n",
      "[906.18s -> 906.44s]  sich\n",
      "[906.44s -> 906.68s]  nicht\n",
      "[906.68s -> 907.36s]  beschreiben,\n",
      "[907.88s -> 908.04s]  bis\n",
      "[908.04s -> 908.24s]  ich\n",
      "[908.24s -> 908.50s]  an\n",
      "[908.50s -> 908.72s]  diesem\n",
      "[908.72s -> 909.78s]  erstaunlichen\n",
      "[909.78s -> 910.26s]  Tier\n",
      "[910.26s -> 911.20s]  eine\n",
      "[911.20s -> 911.98s]  vollkommene\n",
      "[911.98s -> 912.70s]  menschliche\n",
      "[912.70s -> 913.30s]  Gestalt\n",
      "[913.30s -> 913.90s]  bemerkte.\n",
      "[914.74s -> 914.94s]  Sein\n",
      "[914.94s -> 915.28s]  Gesicht\n",
      "[915.28s -> 915.50s]  war\n",
      "[915.50s -> 916.28s]  tatsächlich\n",
      "[916.28s -> 916.80s]  flach\n",
      "[916.80s -> 917.16s]  und\n",
      "[917.16s -> 917.74s]  breit,\n",
      "[917.94s -> 918.12s]  die\n",
      "[918.12s -> 918.52s]  Nase\n",
      "[918.52s -> 919.38s]  plattgedrückt,\n",
      "[919.80s -> 919.94s]  die\n",
      "[919.94s -> 920.38s]  Lippen\n",
      "[920.38s -> 921.20s]  wulstig\n",
      "[921.20s -> 921.80s]  und\n",
      "[921.80s -> 922.04s]  der\n",
      "[922.04s -> 922.34s]  Mund\n",
      "[922.34s -> 923.18s]  aufgerissen.\n",
      "[923.78s -> 924.06s]  Doch\n",
      "[924.06s -> 924.38s]  diese\n",
      "[924.38s -> 924.98s]  Unterschiede\n",
      "[924.98s -> 925.12s]  sind\n",
      "[925.12s -> 925.48s]  bei\n",
      "[925.48s -> 925.80s]  allen\n",
      "[925.80s -> 926.24s]  wilden\n",
      "[926.24s -> 926.66s]  Hölkern\n",
      "[926.66s -> 926.98s]  weit\n",
      "[926.98s -> 927.70s]  verbreitet.\n",
      "[928.46s -> 928.98s]  Winnems\n",
      "[928.98s -> 929.22s]  in\n",
      "[929.22s -> 929.56s]  ihrer\n",
      "[929.56s -> 930.58s]  Tugendhaftigkeit\n",
      "[930.58s -> 930.80s]  und\n",
      "[930.80s -> 931.80s]  Vernunftbetonheit\n",
      "[931.80s -> 932.50s]  einerseits\n",
      "[932.50s -> 933.34s]  und\n",
      "[933.34s -> 933.62s]  die\n",
      "[933.62s -> 934.14s]  Yahu's\n",
      "[934.14s -> 934.38s]  in\n",
      "[934.38s -> 935.28s]  ihrer\n",
      "[935.28s -> 936.44s]  Kreatürlichkeit\n",
      "[936.44s -> 936.76s]  und\n",
      "[936.76s -> 937.26s]  Dummheit\n",
      "[937.26s -> 938.12s]  andererseits\n",
      "[938.72s -> 940.04s]  verkörpern\n",
      "[940.04s -> 940.82s]  die\n",
      "[940.82s -> 941.26s]  beiden\n",
      "[941.26s -> 942.34s]  Gegensätze\n",
      "[942.34s -> 942.88s]  von\n",
      "[942.88s -> 943.60s]  Geist\n",
      "[943.60s -> 944.00s]  und\n",
      "[944.00s -> 944.36s]  Körper,\n",
      "[944.88s -> 945.10s]  die\n",
      "[945.10s -> 945.32s]  im\n",
      "[945.32s -> 946.46s]  kathäsianischen\n",
      "[946.46s -> 947.36s]  Menschenbild\n",
      "[947.36s -> 948.12s]  auseinander\n",
      "[948.12s -> 949.10s]  treten.\n",
      "[949.40s -> 949.58s]  Damit\n",
      "[949.58s -> 950.14s]  verkörpern\n",
      "[950.14s -> 950.36s]  die\n",
      "[950.36s -> 950.94s]  Yahu's\n",
      "[950.94s -> 951.26s]  das\n",
      "[951.26s -> 952.32s]  Verworfene,\n",
      "[952.32s -> 952.80s]  all\n",
      "[952.80s -> 953.08s]  das,\n",
      "[953.08s -> 953.36s]  was\n",
      "[953.36s -> 953.72s]  nicht\n",
      "[953.72s -> 954.04s]  in\n",
      "[954.04s -> 954.32s]  dieses\n",
      "[954.32s -> 955.32s]  vernunftbetonte\n",
      "[955.32s -> 955.98s]  Menschenbild\n",
      "[955.98s -> 956.14s]  des\n",
      "[956.14s -> 956.58s]  18.\n",
      "[956.88s -> 957.44s]  Jahrhunderts\n",
      "[957.44s -> 957.90s]  passt.\n",
      "[959.02s -> 959.24s]  Aber\n",
      "[959.24s -> 959.66s]  Swift's\n",
      "[959.66s -> 960.12s]  Botschaft\n",
      "[960.12s -> 960.54s]  ist,\n",
      "[960.62s -> 960.72s]  dass\n",
      "[960.72s -> 960.94s]  sie\n",
      "[960.94s -> 961.82s]  eigentlich\n",
      "[961.82s -> 962.06s]  uns\n",
      "[962.06s -> 962.36s]  Menschen\n",
      "[962.36s -> 962.98s]  verkörpern,\n",
      "[963.10s -> 963.18s]  in\n",
      "[963.18s -> 963.36s]  unserer\n",
      "[963.36s -> 963.78s]  ganzen\n",
      "[963.78s -> 964.66s]  Kreatürlichkeit,\n",
      "[964.80s -> 964.92s]  auch\n",
      "[964.92s -> 965.08s]  in\n",
      "[965.08s -> 965.26s]  unsere\n",
      "[965.26s -> 965.76s]  Dummheit,\n",
      "[965.96s -> 966.20s]  unsere\n",
      "[966.20s -> 966.46s]  Gier\n",
      "[966.46s -> 966.76s]  und\n",
      "[966.76s -> 966.96s]  unsere\n",
      "[966.96s -> 967.56s]  Unvernunft,\n",
      "[967.88s -> 968.14s]  die\n",
      "[968.14s -> 968.34s]  aber\n",
      "[968.34s -> 968.54s]  eben\n",
      "[968.54s -> 968.74s]  zu\n",
      "[968.74s -> 968.92s]  uns\n",
      "[968.92s -> 969.18s]  als\n",
      "[969.18s -> 969.36s]  Menschen\n",
      "[969.36s -> 969.80s]  gehört.\n",
      "[970.52s -> 970.76s]  Die\n",
      "[970.76s -> 971.48s]  verachteten\n",
      "[971.48s -> 972.32s]  Yahu's\n",
      "[972.32s -> 972.58s]  leben\n",
      "[972.58s -> 973.06s]  entweder\n",
      "[973.06s -> 973.20s]  in\n",
      "[973.20s -> 973.36s]  der\n",
      "[973.36s -> 974.16s]  Wildnis\n",
      "[974.16s -> 974.60s]  oder\n",
      "[974.60s -> 975.42s]  angekettet\n",
      "[975.42s -> 975.58s]  in\n",
      "[975.58s -> 975.78s]  den\n",
      "[975.78s -> 976.12s]  Häusern\n",
      "[976.12s -> 976.32s]  der\n",
      "[976.32s -> 977.00s]  Pferde\n",
      "[977.00s -> 977.26s]  als\n",
      "[977.26s -> 977.52s]  ihre\n",
      "[977.52s -> 978.14s]  Sklaven.\n",
      "[979.02s -> 979.26s]  Die\n",
      "[979.26s -> 979.60s]  edlenen\n",
      "[979.60s -> 980.34s]  Winnems\n",
      "[980.34s -> 980.86s]  denken\n",
      "[980.86s -> 981.06s]  sich\n",
      "[981.06s -> 981.38s]  überhaupt\n",
      "[981.38s -> 981.62s]  nichts\n",
      "[981.62s -> 981.90s]  dabei,\n",
      "[981.90s -> 982.12s]  sich\n",
      "[982.12s -> 982.42s]  schlecht\n",
      "[982.42s -> 982.70s]  zu\n",
      "[982.70s -> 983.42s]  behandeln.\n",
      "[984.06s -> 984.46s]  Yahu's\n",
      "[984.46s -> 984.64s]  sind\n",
      "[984.64s -> 984.90s]  eben\n",
      "[984.90s -> 985.16s]  keine\n",
      "[985.16s -> 985.96s]  Pferde\n",
      "[985.96s -> 986.26s]  und\n",
      "[986.26s -> 986.50s]  haben\n",
      "[986.50s -> 986.86s]  keinen\n",
      "[986.86s -> 987.34s]  Anspruch\n",
      "[987.34s -> 987.58s]  auf\n",
      "[987.58s -> 988.92s]  Pferdewürde,\n",
      "[989.36s -> 989.42s]  so\n",
      "[989.42s -> 989.54s]  wie\n",
      "[989.54s -> 989.64s]  in\n",
      "[989.64s -> 989.78s]  der\n",
      "[989.78s -> 990.24s]  Menschenwelt\n",
      "[990.24s -> 990.50s]  die\n",
      "[990.50s -> 990.96s]  Tiere\n",
      "[990.96s -> 991.46s]  keinen\n",
      "[991.46s -> 991.98s]  Anspruch\n",
      "[991.98s -> 992.18s]  auf\n",
      "[992.18s -> 992.76s]  Menschenwürde\n",
      "[992.76s -> 993.20s]  haben,\n",
      "[993.64s -> 994.00s]  ebenso\n",
      "[994.00s -> 994.16s]  wenig\n",
      "[994.16s -> 994.34s]  wie\n",
      "[994.34s -> 994.56s]  die\n",
      "[994.56s -> 994.88s]  schwarzen\n",
      "[994.88s -> 995.46s]  Sklaven\n",
      "[995.46s -> 996.14s]  oder\n",
      "[996.14s -> 996.38s]  die\n",
      "[996.38s -> 996.98s]  Juden\n",
      "[996.98s -> 997.56s]  oder\n",
      "[997.56s -> 997.86s]  die\n",
      "[997.86s -> 998.14s]  Frauen\n",
      "[998.14s -> 999.06s]  oder\n",
      "[999.06s -> 999.34s]  die\n",
      "[999.34s -> 999.74s]  indigene\n",
      "[999.74s -> 1000.32s]  Bevölkerung\n",
      "[1000.32s -> 1000.54s]  der\n",
      "[1000.54s -> 1001.40s]  kolonialisierten\n",
      "[1001.40s -> 1001.76s]  Länder.\n",
      "[1002.70s -> 1003.16s]  All\n",
      "[1003.16s -> 1003.40s]  diese\n",
      "[1003.40s -> 1004.62s]  unterdrückten,\n",
      "[1004.66s -> 1004.86s]  von\n",
      "[1004.86s -> 1005.14s]  der\n",
      "[1005.14s -> 1005.66s]  europäischen\n",
      "[1005.66s -> 1006.56s]  Zivilisation\n",
      "[1006.56s -> 1007.36s]  verachteten\n",
      "[1007.36s -> 1008.40s]  Seinsweisen\n",
      "[1008.40s -> 1009.24s]  verkörpern\n",
      "[1009.24s -> 1009.50s]  sich\n",
      "[1009.50s -> 1009.74s]  in\n",
      "[1009.74s -> 1010.00s]  den\n",
      "[1010.00s -> 1010.98s]  Yahu's,\n",
      "[1011.10s -> 1011.48s]  ebenso\n",
      "[1011.48s -> 1011.58s]  wie\n",
      "[1011.58s -> 1011.84s]  die\n",
      "[1011.84s -> 1012.14s]  Triebe\n",
      "[1012.14s -> 1012.30s]  und\n",
      "[1012.30s -> 1012.80s]  Gelüste,\n",
      "[1013.28s -> 1013.58s]  das\n",
      "[1013.58s -> 1013.92s]  Fremde\n",
      "[1013.92s -> 1014.14s]  im\n",
      "[1014.14s -> 1014.56s]  eigenen\n",
      "[1014.56s -> 1015.22s]  Inneren,\n",
      "[1015.30s -> 1015.52s]  das\n",
      "[1015.52s -> 1015.74s]  die\n",
      "[1015.74s -> 1016.00s]  Menschen\n",
      "[1016.00s -> 1016.20s]  an\n",
      "[1016.20s -> 1016.36s]  sich\n",
      "[1016.36s -> 1016.70s]  selbst\n",
      "[1016.70s -> 1017.02s]  nicht\n",
      "[1017.02s -> 1017.54s]  mögen\n",
      "[1017.54s -> 1017.96s]  und\n",
      "[1017.96s -> 1018.20s]  auf\n",
      "[1018.20s -> 1018.54s]  andere\n",
      "[1018.54s -> 1019.46s]  projizieren.\n",
      "[1020.60s -> 1020.96s]  Gulliver\n",
      "[1020.96s -> 1021.20s]  will\n",
      "[1021.20s -> 1021.46s]  am\n",
      "[1021.46s -> 1021.84s]  liebsten\n",
      "[1021.84s -> 1022.16s]  nichts\n",
      "[1022.16s -> 1022.34s]  mit\n",
      "[1022.34s -> 1022.58s]  ihnen\n",
      "[1022.58s -> 1022.86s]  zu\n",
      "[1022.86s -> 1023.00s]  tun\n",
      "[1023.00s -> 1023.38s]  haben.\n",
      "[1024.16s -> 1024.42s]  Viel\n",
      "[1024.42s -> 1024.66s]  lieber\n",
      "[1024.66s -> 1024.90s]  möchte\n",
      "[1024.90s -> 1025.08s]  er\n",
      "[1025.08s -> 1025.20s]  zu\n",
      "[1025.20s -> 1025.36s]  den\n",
      "[1025.36s -> 1025.76s]  Pferden\n",
      "[1025.76s -> 1026.38s]  gehören,\n",
      "[1026.62s -> 1026.66s]  die\n",
      "[1026.66s -> 1026.82s]  er\n",
      "[1026.82s -> 1027.12s]  sehr\n",
      "[1027.12s -> 1027.58s]  bewundert.\n",
      "[1028.30s -> 1028.68s]  Er\n",
      "[1028.68s -> 1029.54s]  beschließt,\n",
      "[1029.62s -> 1030.32s]  niemals\n",
      "[1030.32s -> 1030.60s]  mehr\n",
      "[1030.60s -> 1030.80s]  zu\n",
      "[1030.80s -> 1031.04s]  den\n",
      "[1031.04s -> 1031.42s]  Menschen\n",
      "[1032.14s -> 1032.72s]  zurückzukehren,\n",
      "[1032.98s -> 1033.24s]  sondern\n",
      "[1033.24s -> 1033.52s]  den\n",
      "[1033.52s -> 1033.86s]  Rest\n",
      "[1033.86s -> 1034.22s]  meiner\n",
      "[1034.22s -> 1034.58s]  Tage\n",
      "[1034.58s -> 1034.80s]  bei\n",
      "[1034.80s -> 1035.06s]  den\n",
      "[1035.06s -> 1036.24s]  bewunderungswürdigen\n",
      "[1036.24s -> 1036.86s]  Winnems,\n",
      "[1036.86s -> 1037.42s]  wo\n",
      "[1037.42s -> 1037.66s]  ich\n",
      "[1037.66s -> 1037.92s]  kein\n",
      "[1037.92s -> 1038.40s]  Vorbild\n",
      "[1038.40s -> 1038.70s]  und\n",
      "[1038.70s -> 1038.96s]  kein\n",
      "[1038.96s -> 1039.48s]  Einsporn\n",
      "[1039.48s -> 1039.70s]  zum\n",
      "[1039.70s -> 1040.04s]  Laster\n",
      "[1040.04s -> 1040.32s]  fand,\n",
      "[1040.96s -> 1041.06s]  in\n",
      "[1041.06s -> 1041.24s]  der\n",
      "[1041.24s -> 1042.06s]  Betrachtung\n",
      "[1042.06s -> 1042.28s]  und\n",
      "[1042.28s -> 1042.76s]  Übung\n",
      "[1042.76s -> 1043.36s]  jeglicher\n",
      "[1043.36s -> 1044.00s]  Tugend\n",
      "[1044.00s -> 1044.24s]  zu\n",
      "[1044.24s -> 1044.78s]  verbringen.\n",
      "[1046.50s -> 1046.92s]  Gulliver\n",
      "[1046.92s -> 1047.30s]  lernt\n",
      "[1047.30s -> 1047.54s]  die\n",
      "[1047.54s -> 1048.54s]  Pferdesprache,\n",
      "[1048.90s -> 1049.20s]  lernt\n",
      "[1049.20s -> 1049.46s]  zu\n",
      "[1049.46s -> 1049.76s]  traben\n",
      "[1049.76s -> 1049.92s]  wie\n",
      "[1049.92s -> 1050.08s]  ein\n",
      "[1050.08s -> 1050.84s]  Pferd\n",
      "[1050.84s -> 1051.06s]  und\n",
      "[1051.06s -> 1051.46s]  achtet\n",
      "[1051.46s -> 1051.54s]  auf\n",
      "[1051.54s -> 1051.76s]  seine\n",
      "[1051.76s -> 1052.56s]  Kleidung,\n",
      "[1052.74s -> 1052.86s]  die\n",
      "[1052.86s -> 1053.00s]  ihn\n",
      "[1053.00s -> 1053.14s]  von\n",
      "[1053.14s -> 1053.36s]  den\n",
      "[1053.36s -> 1053.80s]  wilden\n",
      "[1053.80s -> 1054.26s]  Yahu's\n",
      "[1054.26s -> 1055.00s]  unterscheidet.\n",
      "[1055.94s -> 1056.62s]  Trotzdem\n",
      "[1056.62s -> 1057.14s]  ist\n",
      "[1057.14s -> 1057.38s]  er\n",
      "[1057.38s -> 1057.70s]  ein\n",
      "[1057.70s -> 1058.00s]  Yahu\n",
      "[1058.00s -> 1058.40s]  und\n",
      "[1058.40s -> 1058.74s]  bleibt\n",
      "[1058.74s -> 1059.08s]  ein\n",
      "[1059.08s -> 1059.52s]  Yahu\n",
      "[1059.52s -> 1060.02s]  und\n",
      "[1060.02s -> 1060.76s]  Pferde\n",
      "[1060.76s -> 1061.26s]  mögen\n",
      "[1061.26s -> 1061.60s]  keine\n",
      "[1061.60s -> 1062.82s]  Yahu's.\n",
      "[1063.02s -> 1063.50s]  Sicher,\n",
      "[1063.50s -> 1064.10s]  das\n",
      "[1064.10s -> 1064.54s]  Pferd,\n",
      "[1064.54s -> 1064.64s]  bei\n",
      "[1064.64s -> 1064.78s]  dem\n",
      "[1064.78s -> 1064.94s]  er\n",
      "[1064.94s -> 1065.48s]  wohnt,\n",
      "[1065.70s -> 1065.86s]  beginnt\n",
      "[1065.86s -> 1066.26s]  ihn\n",
      "[1066.26s -> 1066.78s]  interessant\n",
      "[1066.78s -> 1067.06s]  zu\n",
      "[1067.06s -> 1067.36s]  finden.\n",
      "[1068.12s -> 1068.40s]  Es\n",
      "[1068.40s -> 1068.88s]  unterhält\n",
      "[1068.88s -> 1069.12s]  sich\n",
      "[1069.12s -> 1069.40s]  sogar\n",
      "[1069.40s -> 1069.62s]  mit\n",
      "[1069.62s -> 1069.88s]  ihm\n",
      "[1069.88s -> 1070.54s]  und\n",
      "[1070.54s -> 1070.96s]  lernt\n",
      "[1070.96s -> 1071.30s]  etwas\n",
      "[1071.30s -> 1071.50s]  von\n",
      "[1071.50s -> 1071.90s]  ihm.\n",
      "[1072.52s -> 1072.86s]  Aber\n",
      "[1072.86s -> 1073.06s]  die\n",
      "[1073.06s -> 1073.38s]  große\n",
      "[1073.38s -> 1074.22s]  Mehrheit,\n",
      "[1074.32s -> 1074.60s]  die\n",
      "[1074.60s -> 1074.84s]  hat\n",
      "[1074.84s -> 1075.16s]  anderes\n",
      "[1075.16s -> 1075.42s]  im\n",
      "[1075.42s -> 1075.72s]  Sinn.\n",
      "[1076.64s -> 1077.32s]  Was,\n",
      "[1077.44s -> 1077.86s]  das\n",
      "[1077.86s -> 1078.22s]  erfährt\n",
      "[1078.22s -> 1078.52s]  man\n",
      "[1078.52s -> 1078.70s]  auf\n",
      "[1078.70s -> 1078.86s]  der\n",
      "[1078.86s -> 1080.06s]  Generalversammlung\n",
      "[1080.06s -> 1080.28s]  der\n",
      "[1080.28s -> 1080.62s]  Pferde.\n",
      "[1084.46s -> 1085.14s]  Die\n",
      "[1085.14s -> 1085.50s]  zu\n",
      "[1085.50s -> 1086.14s]  erörternde\n",
      "[1086.14s -> 1086.52s]  Frage\n",
      "[1086.52s -> 1087.40s]  lautete,\n",
      "[1087.76s -> 1088.00s]  ob\n",
      "[1088.00s -> 1088.34s]  die\n",
      "[1088.34s -> 1089.08s]  Yahu's\n",
      "[1089.08s -> 1089.34s]  vom\n",
      "[1089.34s -> 1089.92s]  Angesicht\n",
      "[1089.92s -> 1090.20s]  der\n",
      "[1090.20s -> 1090.48s]  Erde\n",
      "[1090.48s -> 1091.34s]  auszulöschen\n",
      "[1091.34s -> 1092.20s]  seien.\n",
      "[1092.54s -> 1092.96s]  Einer\n",
      "[1092.96s -> 1093.18s]  von\n",
      "[1093.18s -> 1093.38s]  denen,\n",
      "[1093.38s -> 1093.54s]  die\n",
      "[1093.54s -> 1093.76s]  für\n",
      "[1093.76s -> 1094.06s]  den\n",
      "[1094.06s -> 1094.32s]  Antrag\n",
      "[1094.32s -> 1094.74s]  waren,\n",
      "[1095.20s -> 1095.26s]  trug\n",
      "[1095.26s -> 1095.72s]  verschiedene\n",
      "[1095.72s -> 1096.26s]  Argumente\n",
      "[1096.26s -> 1096.56s]  von\n",
      "[1096.56s -> 1096.98s]  großer\n",
      "[1096.98s -> 1097.44s]  Stärke\n",
      "[1097.44s -> 1097.90s]  und\n",
      "[1097.90s -> 1098.24s]  großem\n",
      "[1098.24s -> 1098.60s]  Gewicht\n",
      "[1098.60s -> 1098.94s]  vor,\n",
      "[1099.44s -> 1099.50s]  in\n",
      "[1099.50s -> 1099.66s]  dem\n",
      "[1099.66s -> 1100.00s]  er\n",
      "[1100.00s -> 1100.66s]  erklärte,\n",
      "[1100.72s -> 1100.92s]  dass\n",
      "[1100.92s -> 1101.26s]  der\n",
      "[1101.26s -> 1101.60s]  Yahu\n",
      "[1101.60s -> 1101.86s]  das\n",
      "[1101.86s -> 1102.88s]  schmutzigste,\n",
      "[1103.12s -> 1104.04s]  ekelhafteste\n",
      "[1104.04s -> 1104.60s]  und\n",
      "[1104.60s -> 1105.68s]  missgebildetste\n",
      "[1105.68s -> 1106.24s]  Lebewesen\n",
      "[1106.24s -> 1106.54s]  sei,\n",
      "[1106.72s -> 1106.82s]  das\n",
      "[1106.82s -> 1107.02s]  die\n",
      "[1107.02s -> 1107.34s]  Natur\n",
      "[1107.34s -> 1107.62s]  je\n",
      "[1107.62s -> 1108.38s]  hervorgebracht\n",
      "[1108.38s -> 1108.64s]  habe,\n",
      "[1109.08s -> 1109.40s]  und\n",
      "[1109.40s -> 1109.86s]  zugleich\n",
      "[1109.86s -> 1110.22s]  das\n",
      "[1110.22s -> 1111.50s]  widerspenstigste\n",
      "[1111.50s -> 1111.90s]  und\n",
      "[1111.90s -> 1113.10s]  ungelehrigste,\n",
      "[1113.32s -> 1114.18s]  boshafteste\n",
      "[1114.18s -> 1114.64s]  und\n",
      "[1114.64s -> 1115.70s]  arglistigste.\n",
      "[1116.02s -> 1116.68s]  Die\n",
      "[1116.68s -> 1117.02s]  Yahu's\n",
      "[1117.02s -> 1117.28s]  würden\n",
      "[1117.28s -> 1117.86s]  heimlich\n",
      "[1117.86s -> 1118.10s]  an\n",
      "[1118.10s -> 1118.32s]  den\n",
      "[1118.32s -> 1118.74s]  Eutern\n",
      "[1118.74s -> 1119.00s]  der\n",
      "[1119.00s -> 1119.44s]  Wynims\n",
      "[1119.44s -> 1119.84s]  Kühe\n",
      "[1119.84s -> 1120.70s]  saugen,\n",
      "[1121.02s -> 1121.22s]  ihre\n",
      "[1121.22s -> 1121.62s]  Katzen\n",
      "[1121.62s -> 1122.04s]  töten\n",
      "[1122.04s -> 1122.24s]  und\n",
      "[1122.24s -> 1122.74s]  verschlingen,\n",
      "[1123.42s -> 1123.56s]  ihren\n",
      "[1123.56s -> 1124.08s]  Hafer\n",
      "[1124.08s -> 1124.32s]  und\n",
      "[1124.32s -> 1124.54s]  ihr\n",
      "[1124.54s -> 1124.88s]  Gras\n",
      "[1124.88s -> 1125.62s]  zertrampeln,\n",
      "[1125.74s -> 1125.84s]  wenn\n",
      "[1125.84s -> 1126.04s]  man\n",
      "[1126.04s -> 1126.14s]  sie\n",
      "[1126.14s -> 1126.40s]  nicht\n",
      "[1126.40s -> 1126.72s]  dauernd\n",
      "[1126.72s -> 1127.18s]  bewache.\n",
      "[1128.00s -> 1128.32s]  Swift\n",
      "[1128.32s -> 1128.76s]  weiß,\n",
      "[1129.30s -> 1129.54s]  dass\n",
      "[1129.54s -> 1129.74s]  die\n",
      "[1129.74s -> 1130.44s]  Gewalt,\n",
      "[1130.46s -> 1130.66s]  die\n",
      "[1130.66s -> 1130.84s]  im\n",
      "[1130.84s -> 1131.20s]  Prozess\n",
      "[1131.20s -> 1131.40s]  der\n",
      "[1131.40s -> 1132.04s]  Ausgrenzung\n",
      "[1132.04s -> 1132.48s]  wirksam\n",
      "[1132.48s -> 1132.78s]  wird,\n",
      "[1133.46s -> 1133.60s]  unter\n",
      "[1133.60s -> 1134.32s]  Umständen\n",
      "[1134.32s -> 1134.52s]  im\n",
      "[1134.52s -> 1135.22s]  Genozid\n",
      "[1135.22s -> 1135.62s]  münden\n",
      "[1135.62s -> 1135.92s]  kann.\n",
      "[1136.68s -> 1136.86s]  Er\n",
      "[1136.86s -> 1137.18s]  weiß\n",
      "[1137.18s -> 1137.62s]  es\n",
      "[1137.62s -> 1138.10s]  200\n",
      "[1138.10s -> 1138.68s]  Jahre\n",
      "[1138.68s -> 1139.30s]  vor\n",
      "[1139.30s -> 1139.56s]  der\n",
      "[1139.56s -> 1139.92s]  Wannsee\n",
      "[1139.92s -> 1140.82s] -Konferenz\n",
      "[1140.82s -> 1141.22s]  und\n",
      "[1141.22s -> 1141.52s]  den\n",
      "[1141.52s -> 1142.68s]  nationalsozialistischen\n",
      "[1142.68s -> 1143.40s]  Massenmorden.\n",
      "[1144.46s -> 1144.58s]  Er\n",
      "[1144.58s -> 1144.84s]  weiß\n",
      "[1144.84s -> 1145.28s]  auch,\n",
      "[1145.62s -> 1145.92s]  dass\n",
      "[1145.92s -> 1146.22s]  keine\n",
      "[1146.22s -> 1147.42s]  Zivilisation\n",
      "[1147.42s -> 1148.00s]  vor\n",
      "[1148.00s -> 1148.76s]  organisierten\n",
      "[1148.76s -> 1149.70s]  Gewaltexzessen\n",
      "[1149.70s -> 1150.02s]  sicher\n",
      "[1150.02s -> 1150.38s]  ist.\n",
      "[1150.62s -> 1151.04s]  Beeindruckend\n",
      "[1151.04s -> 1151.18s]  ist\n",
      "[1151.18s -> 1151.30s]  es,\n",
      "[1151.30s -> 1151.40s]  dass\n",
      "[1151.40s -> 1151.66s]  Swift\n",
      "[1151.66s -> 1152.00s]  so\n",
      "[1152.00s -> 1152.18s]  klar\n",
      "[1152.18s -> 1152.44s]  sieht,\n",
      "[1152.70s -> 1152.88s]  dass\n",
      "[1152.88s -> 1153.16s]  jede\n",
      "[1153.16s -> 1153.96s]  Zivilisation\n",
      "[1153.96s -> 1154.24s]  auf\n",
      "[1154.24s -> 1155.10s]  Abgrenzungen\n",
      "[1155.10s -> 1155.24s]  und\n",
      "[1155.24s -> 1155.96s]  Verwerfungen\n",
      "[1155.96s -> 1156.64s]  angewiesen\n",
      "[1156.64s -> 1157.00s]  ist,\n",
      "[1157.46s -> 1157.60s]  dass\n",
      "[1157.60s -> 1157.82s]  jede\n",
      "[1157.82s -> 1158.50s]  Zivilisation\n",
      "[1158.50s -> 1158.82s]  das\n",
      "[1158.82s -> 1159.18s]  andere\n",
      "[1159.18s -> 1159.80s]  braucht,\n",
      "[1160.08s -> 1160.20s]  und\n",
      "[1160.20s -> 1160.36s]  er\n",
      "[1160.36s -> 1160.74s]  besteht\n",
      "[1160.74s -> 1161.22s]  darauf,\n",
      "[1161.64s -> 1161.84s]  dass\n",
      "[1161.84s -> 1162.08s]  wir\n",
      "[1162.08s -> 1162.32s]  aber\n",
      "[1162.32s -> 1162.48s]  für\n",
      "[1162.48s -> 1162.76s]  das\n",
      "[1162.76s -> 1163.28s]  andere\n",
      "[1163.28s -> 1163.92s]  Verantwortung\n",
      "[1163.92s -> 1164.44s]  übernehmen.\n",
      "[1164.70s -> 1164.84s]  Es\n",
      "[1164.84s -> 1165.02s]  ist\n",
      "[1165.02s -> 1165.24s]  das,\n",
      "[1165.38s -> 1165.48s]  was\n",
      "[1165.48s -> 1165.80s]  wir\n",
      "[1165.80s -> 1166.08s]  selbst\n",
      "[1166.08s -> 1166.76s]  produziert\n",
      "[1166.76s -> 1167.04s]  haben,\n",
      "[1167.24s -> 1167.42s]  um\n",
      "[1167.42s -> 1167.82s]  unser\n",
      "[1167.82s -> 1168.70s]  Selbstbild\n",
      "[1168.70s -> 1170.02s]  hervorzubringen.\n",
      "[1170.02s -> 1170.54s]  Und\n",
      "[1170.54s -> 1170.90s]  deshalb\n",
      "[1170.90s -> 1171.12s]  haben\n",
      "[1171.12s -> 1171.34s]  wir\n",
      "[1171.34s -> 1171.50s]  auch\n",
      "[1171.50s -> 1171.68s]  eine\n",
      "[1171.68s -> 1172.22s]  Verantwortung\n",
      "[1172.22s -> 1172.46s]  für\n",
      "[1172.46s -> 1172.60s]  das\n",
      "[1172.60s -> 1173.22s]  Verworfene,\n",
      "[1173.34s -> 1173.48s]  für\n",
      "[1173.48s -> 1173.76s]  das\n",
      "[1173.76s -> 1174.02s]  andere,\n",
      "[1174.14s -> 1174.32s]  für\n",
      "[1174.32s -> 1174.58s]  das\n",
      "[1174.58s -> 1175.10s]  Fremde.\n",
      "[1175.28s -> 1175.38s]  Denn\n",
      "[1175.38s -> 1175.46s]  es\n",
      "[1175.46s -> 1175.56s]  ist\n",
      "[1175.56s -> 1175.74s]  nicht\n",
      "[1175.74s -> 1176.16s]  wirklich\n",
      "[1176.16s -> 1176.76s]  fremd,\n",
      "[1176.88s -> 1177.06s]  sondern\n",
      "[1177.06s -> 1177.20s]  es\n",
      "[1177.20s -> 1177.28s]  ist\n",
      "[1177.28s -> 1177.44s]  aus\n",
      "[1177.44s -> 1177.64s]  dem\n",
      "[1177.64s -> 1177.88s]  eigenen\n",
      "[1177.88s -> 1178.66s]  hervorgegangen.\n",
      "[1179.24s -> 1179.66s]  Eben\n",
      "[1179.66s -> 1179.98s]  dieser\n",
      "[1179.98s -> 1180.70s]  Einsicht\n",
      "[1180.70s -> 1180.94s]  sind\n",
      "[1180.94s -> 1181.14s]  die\n",
      "[1181.14s -> 1181.44s]  Pferde\n",
      "[1181.44s -> 1181.76s]  nicht\n",
      "[1181.76s -> 1182.22s]  gewachsen.\n",
      "[1183.00s -> 1183.14s]  Sie\n",
      "[1183.14s -> 1183.42s]  wollen\n",
      "[1183.42s -> 1184.06s]  hässliche\n",
      "[1184.06s -> 1184.92s]  Yahu's,\n",
      "[1185.10s -> 1185.34s]  damit\n",
      "[1185.34s -> 1185.60s]  vor\n",
      "[1185.60s -> 1185.88s]  dieser\n",
      "[1185.88s -> 1186.46s]  dunklen\n",
      "[1186.46s -> 1187.28s]  Folie\n",
      "[1187.28s -> 1187.56s]  ihr\n",
      "[1187.56s -> 1188.10s]  ideales\n",
      "[1188.10s -> 1188.78s]  Selbstbild\n",
      "[1188.78s -> 1189.02s]  um\n",
      "[1189.02s -> 1189.22s]  so\n",
      "[1189.22s -> 1189.58s]  heller\n",
      "[1189.58s -> 1190.10s]  strahle.\n",
      "[1190.86s -> 1191.28s]  Ein\n",
      "[1191.28s -> 1191.78s]  kluger\n",
      "[1191.78s -> 1192.16s]  Yahu\n",
      "[1192.16s -> 1192.34s]  wie\n",
      "[1192.34s -> 1193.04s]  Gulliver,\n",
      "[1193.22s -> 1193.36s]  mit\n",
      "[1193.36s -> 1193.48s]  dem\n",
      "[1193.48s -> 1193.66s]  man\n",
      "[1193.66s -> 1194.12s]  reden,\n",
      "[1194.48s -> 1194.66s]  von\n",
      "[1194.66s -> 1194.76s]  dem\n",
      "[1194.76s -> 1194.94s]  man\n",
      "[1194.94s -> 1195.20s]  sogar\n",
      "[1195.20s -> 1195.46s]  etwas\n",
      "[1195.46s -> 1195.86s]  lernen\n",
      "[1195.86s -> 1196.26s]  kann,\n",
      "[1196.84s -> 1197.02s]  der\n",
      "[1197.02s -> 1197.52s]  bedroht\n",
      "[1197.52s -> 1197.72s]  ihr\n",
      "[1197.72s -> 1198.84s]  Selbstverständnis.\n",
      "[1200.04s -> 1200.38s]  Gullivers\n",
      "[1200.38s -> 1201.14s]  Gastgeber,\n",
      "[1201.14s -> 1201.40s]  das\n",
      "[1201.40s -> 1201.78s]  Pferd,\n",
      "[1201.78s -> 1201.90s]  das\n",
      "[1201.90s -> 1202.12s]  ihn\n",
      "[1202.12s -> 1202.78s]  persönlich\n",
      "[1202.78s -> 1203.26s]  kennt,\n",
      "[1203.68s -> 1203.94s]  stößt\n",
      "[1203.94s -> 1204.08s]  bei\n",
      "[1204.08s -> 1204.38s]  seinen\n",
      "[1204.38s -> 1205.16s]  Artgenossen\n",
      "[1205.16s -> 1205.54s]  auf\n",
      "[1205.54s -> 1205.96s]  harsche\n",
      "[1205.96s -> 1206.86s]  Kritik.\n",
      "[1206.86s -> 1207.10s]  Man\n",
      "[1207.10s -> 1207.54s]  wisse,\n",
      "[1207.82s -> 1208.06s]  dass\n",
      "[1208.06s -> 1208.26s]  er\n",
      "[1208.26s -> 1208.82s]  häufig\n",
      "[1208.82s -> 1209.04s]  mit\n",
      "[1209.04s -> 1209.30s]  mir\n",
      "[1209.30s -> 1209.88s]  verkehre,\n",
      "[1210.02s -> 1210.18s]  als\n",
      "[1210.18s -> 1210.38s]  ob\n",
      "[1210.38s -> 1210.66s]  er\n",
      "[1210.66s -> 1211.10s]  Nutzen\n",
      "[1211.10s -> 1211.40s]  oder\n",
      "[1211.40s -> 1211.88s]  Vergnügen\n",
      "[1211.88s -> 1212.12s]  aus\n",
      "[1212.12s -> 1212.28s]  meiner\n",
      "[1212.28s -> 1212.84s]  Gesellschaft\n",
      "[1212.84s -> 1213.42s]  ziehe.\n",
      "[1213.92s -> 1214.26s]  Solche\n",
      "[1214.26s -> 1214.60s]  Übung\n",
      "[1214.60s -> 1215.20s]  vereinbare\n",
      "[1215.20s -> 1215.50s]  sich\n",
      "[1215.50s -> 1215.88s]  weder\n",
      "[1215.88s -> 1216.04s]  mit\n",
      "[1216.04s -> 1216.28s]  der\n",
      "[1216.28s -> 1217.02s]  Vernunft\n",
      "[1217.02s -> 1217.42s]  noch\n",
      "[1217.42s -> 1217.66s]  mit\n",
      "[1217.66s -> 1217.86s]  der\n",
      "[1217.86s -> 1218.40s]  Natur,\n",
      "[1218.80s -> 1219.02s]  noch\n",
      "[1219.02s -> 1219.22s]  sei\n",
      "[1219.22s -> 1219.44s]  sie\n",
      "[1219.44s -> 1219.70s]  etwas,\n",
      "[1219.72s -> 1219.94s]  was\n",
      "[1219.94s -> 1220.14s]  man\n",
      "[1220.14s -> 1220.50s]  zuvor\n",
      "[1220.50s -> 1220.64s]  bei\n",
      "[1220.64s -> 1220.88s]  ihm\n",
      "[1220.88s -> 1221.20s]  gehört\n",
      "[1221.20s -> 1221.50s]  habe.\n",
      "[1221.86s -> 1222.12s]  Im\n",
      "[1222.12s -> 1223.26s]  Klartext,\n",
      "[1223.54s -> 1223.88s]  Gulliver\n",
      "[1223.88s -> 1224.26s]  muss\n",
      "[1224.26s -> 1224.64s]  weg.\n",
      "[1225.68s -> 1225.88s]  Am\n",
      "[1225.88s -> 1226.16s]  Boden\n",
      "[1226.16s -> 1226.80s]  zerstört,\n",
      "[1227.00s -> 1227.12s]  packt\n",
      "[1227.12s -> 1227.32s]  er\n",
      "[1227.32s -> 1227.54s]  seine\n",
      "[1227.54s -> 1227.84s]  Sachen.\n",
      "[1228.68s -> 1228.88s]  In\n",
      "[1228.88s -> 1229.40s]  England\n",
      "[1229.40s -> 1229.74s]  findet\n",
      "[1229.74s -> 1229.92s]  er\n",
      "[1229.92s -> 1230.10s]  sich\n",
      "[1230.10s -> 1230.56s]  überhaupt\n",
      "[1230.56s -> 1230.84s]  nicht\n",
      "[1230.84s -> 1231.04s]  mehr\n",
      "[1231.04s -> 1231.62s]  zurecht.\n",
      "[1231.62s -> 1232.68s]  Engländer\n",
      "[1232.68s -> 1232.96s]  sind\n",
      "[1232.96s -> 1233.30s]  auch\n",
      "[1233.30s -> 1233.48s]  nur\n",
      "[1233.48s -> 1233.94s]  Menschen,\n",
      "[1234.76s -> 1234.86s]  also\n",
      "[1234.86s -> 1235.90s]  Yahu's.\n",
      "[1236.42s -> 1236.74s]  Gulliver\n",
      "[1236.74s -> 1236.92s]  kann\n",
      "[1236.92s -> 1237.04s]  sie\n",
      "[1237.04s -> 1237.28s]  nicht\n",
      "[1237.28s -> 1237.50s]  mehr\n",
      "[1237.50s -> 1238.16s]  ertragen,\n",
      "[1238.42s -> 1238.82s]  geschweige\n",
      "[1238.82s -> 1239.06s]  denn\n",
      "[1239.06s -> 1239.58s]  lieben.\n",
      "[1240.30s -> 1240.64s]  Und\n",
      "[1240.64s -> 1240.88s]  auch\n",
      "[1240.88s -> 1241.06s]  sich\n",
      "[1241.06s -> 1241.40s]  selbst\n",
      "[1241.40s -> 1241.66s]  ist\n",
      "[1241.66s -> 1241.82s]  er\n",
      "[1241.82s -> 1242.10s]  fremd\n",
      "[1242.10s -> 1242.44s]  geworden.\n",
      "[1243.58s -> 1243.76s]  Er\n",
      "[1243.76s -> 1244.08s]  kauft\n",
      "[1244.08s -> 1244.28s]  sich\n",
      "[1244.28s -> 1244.46s]  ein\n",
      "[1244.46s -> 1244.58s]  paar\n",
      "[1244.58s -> 1245.46s]  Pferde\n",
      "[1245.46s -> 1245.76s]  und\n",
      "[1245.76s -> 1246.14s]  verbringt\n",
      "[1246.14s -> 1246.38s]  die\n",
      "[1246.38s -> 1246.68s]  meiste\n",
      "[1246.68s -> 1246.98s]  Zeit\n",
      "[1246.98s -> 1247.36s]  im\n",
      "[1247.36s -> 1247.56s]  Stall.\n",
      "[1248.76s -> 1249.36s]  Meine\n",
      "[1249.36s -> 1249.96s]  Pferde\n",
      "[1249.96s -> 1250.46s]  verstehen\n",
      "[1250.46s -> 1250.82s]  mich\n",
      "[1250.82s -> 1251.50s]  leidlich\n",
      "[1251.50s -> 1252.18s]  und\n",
      "[1252.18s -> 1252.44s]  ich\n",
      "[1252.44s -> 1252.68s]  spreche\n",
      "[1252.68s -> 1252.86s]  mit\n",
      "[1252.86s -> 1253.16s]  ihnen\n",
      "[1253.16s -> 1253.72s]  wenigstens\n",
      "[1253.72s -> 1254.06s]  vier\n",
      "[1254.06s -> 1254.40s]  Stunden\n",
      "[1254.40s -> 1255.00s]  täglich.\n",
      "[1255.98s -> 1256.24s]  Sie\n",
      "[1256.24s -> 1256.42s]  kennen\n",
      "[1256.42s -> 1256.70s]  weder\n",
      "[1256.70s -> 1257.24s]  Zaumzeug\n",
      "[1257.24s -> 1257.46s]  noch\n",
      "[1257.46s -> 1258.04s]  Sattel,\n",
      "[1258.22s -> 1258.50s]  leben\n",
      "[1258.50s -> 1258.80s]  in\n",
      "[1258.80s -> 1259.18s]  gutem\n",
      "[1259.18s -> 1259.76s]  Einvernehmen\n",
      "[1259.76s -> 1260.06s]  mit\n",
      "[1260.06s -> 1260.38s]  mir\n",
      "[1260.38s -> 1261.10s]  und\n",
      "[1261.10s -> 1261.76s]  Freundschaft\n",
      "[1261.76s -> 1262.54s]  untereinander.\n",
      "[1263.10s -> 1263.54s]  Gulliver\n",
      "[1263.54s -> 1263.98s]  ist\n",
      "[1263.98s -> 1264.22s]  zum\n",
      "[1264.22s -> 1264.98s]  Menschenfeind\n",
      "[1264.98s -> 1265.44s]  geworden.\n",
      "[1266.24s -> 1266.40s]  Er\n",
      "[1266.40s -> 1266.60s]  hat\n",
      "[1266.60s -> 1266.86s]  seine\n",
      "[1266.86s -> 1267.64s]  Identität\n",
      "[1267.64s -> 1268.14s]  verloren,\n",
      "[1268.72s -> 1268.86s]  weil\n",
      "[1268.86s -> 1268.98s]  er\n",
      "[1268.98s -> 1269.26s]  nicht\n",
      "[1269.26s -> 1269.76s]  ertragen\n",
      "[1269.76s -> 1270.02s]  konnte,\n",
      "[1270.08s -> 1270.34s]  was\n",
      "[1270.34s -> 1270.52s]  ihm\n",
      "[1270.52s -> 1270.66s]  in\n",
      "[1270.66s -> 1270.84s]  der\n",
      "[1270.84s -> 1271.14s]  Fremde\n",
      "[1271.14s -> 1271.68s]  begegnet\n",
      "[1271.68s -> 1272.06s]  ist.\n",
      "[1272.70s -> 1273.02s]  Der\n",
      "[1273.02s -> 1273.60s]  Fremde\n",
      "[1273.60s -> 1274.00s]  und\n",
      "[1274.00s -> 1274.88s]  unverstandene\n",
      "[1274.88s -> 1275.24s]  Teil\n",
      "[1275.24s -> 1275.70s]  seines\n",
      "[1275.70s -> 1276.20s]  eigenen\n",
      "[1276.20s -> 1276.78s]  Wesens\n",
      "[1276.78s -> 1277.34s]  und\n",
      "[1277.34s -> 1277.48s]  der\n",
      "[1277.48s -> 1277.98s]  menschlichen\n",
      "[1277.98s -> 1278.36s]  Natur.\n",
      "[1279.04s -> 1279.18s]  Er\n",
      "[1279.18s -> 1279.32s]  war\n",
      "[1279.32s -> 1279.90s]  verrückt\n",
      "[1279.90s -> 1280.58s]  und\n",
      "[1280.58s -> 1281.14s]  selbst\n",
      "[1281.14s -> 1281.36s]  zum\n",
      "[1281.36s -> 1281.96s]  Gegenstand\n",
      "[1281.96s -> 1282.16s]  der\n",
      "[1282.16s -> 1282.64s]  Satire.\n",
      "[1283.98s -> 1284.42s]  Aber\n",
      "[1284.42s -> 1284.72s]  viele\n",
      "[1284.72s -> 1285.08s]  Leser\n",
      "[1285.08s -> 1285.50s]  erkannten\n",
      "[1285.50s -> 1285.80s]  das\n",
      "[1285.80s -> 1286.26s]  nicht.\n",
      "[1286.78s -> 1287.02s]  Sie\n",
      "[1287.02s -> 1287.66s]  verwechselten\n",
      "[1287.66s -> 1288.08s]  Gullivers\n",
      "[1288.08s -> 1288.60s]  Haltung\n",
      "[1288.60s -> 1289.04s]  mit\n",
      "[1289.04s -> 1289.20s]  der\n",
      "[1289.20s -> 1289.46s]  des\n",
      "[1289.46s -> 1289.86s]  Autors,\n",
      "[1290.58s -> 1291.02s]  tatelten\n",
      "[1291.02s -> 1291.16s]  ihn\n",
      "[1291.16s -> 1291.38s]  für\n",
      "[1291.38s -> 1291.58s]  seine\n",
      "[1291.58s -> 1292.70s]  Menschenverachtung.\n",
      "[1293.74s -> 1294.14s]  Swift\n",
      "[1294.14s -> 1294.64s]  hat\n",
      "[1294.64s -> 1294.94s]  diese\n",
      "[1294.94s -> 1296.14s]  Fehlinterpretation\n",
      "[1296.14s -> 1296.68s]  entschieden\n",
      "[1296.68s -> 1297.52s]  zurückgewiesen.\n",
      "[1298.18s -> 1298.32s]  Ich\n",
      "[1298.32s -> 1298.90s]  versichere,\n",
      "[1299.10s -> 1299.26s]  dass\n",
      "[1299.26s -> 1299.52s]  nicht\n",
      "[1299.52s -> 1300.08s]  ich\n",
      "[1300.08s -> 1300.52s]  letzten\n",
      "[1300.52s -> 1300.96s]  Endes\n",
      "[1300.96s -> 1301.16s]  die\n",
      "[1301.16s -> 1301.50s]  Menschen\n",
      "[1301.50s -> 1302.32s]  verabscheue.\n",
      "[1302.56s -> 1302.76s]  Ihr\n",
      "[1302.76s -> 1303.20s]  anderen\n",
      "[1303.20s -> 1303.50s]  seid\n",
      "[1303.50s -> 1303.86s]  es,\n",
      "[1303.90s -> 1304.04s]  die\n",
      "[1304.04s -> 1304.22s]  sie\n",
      "[1304.22s -> 1305.02s]  verabscheuen,\n",
      "[1305.32s -> 1305.56s]  weil\n",
      "[1305.56s -> 1305.80s]  ihr\n",
      "[1305.80s -> 1306.00s]  sie\n",
      "[1306.00s -> 1306.48s]  als\n",
      "[1306.48s -> 1307.56s]  vernünftige\n",
      "[1307.56s -> 1308.58s]  Kreaturen\n",
      "[1308.58s -> 1308.98s]  haben\n",
      "[1308.98s -> 1309.32s]  wollt\n",
      "[1309.32s -> 1310.00s]  und\n",
      "[1310.00s -> 1313.44s]  aus\n",
      "[1313.44s -> 1313.44s]  der\n",
      "[1313.44s -> 1313.86s]  Stimmung\n",
      "[1313.86s -> 1314.26s]  immer\n",
      "[1314.26s -> 1315.18s]  abgelehnt\n",
      "[1315.18s -> 1315.46s]  und\n",
      "[1315.46s -> 1315.58s]  mir\n",
      "[1315.58s -> 1315.84s]  eine\n",
      "[1315.84s -> 1316.12s]  eigene\n",
      "[1316.12s -> 1316.58s]  gemacht.\n",
      "[1317.44s -> 1317.66s]  Die\n",
      "[1317.66s -> 1318.06s]  reine\n",
      "[1318.06s -> 1318.86s]  Vernunft,\n",
      "[1319.22s -> 1319.34s]  die\n",
      "[1319.34s -> 1319.74s]  reine\n",
      "[1319.74s -> 1320.48s]  Tugend,\n",
      "[1320.76s -> 1320.88s]  das\n",
      "[1320.88s -> 1321.30s]  reine\n",
      "[1321.30s -> 1321.80s]  Ideal\n",
      "[1321.80s -> 1322.12s]  gibt\n",
      "[1322.12s -> 1322.42s]  es\n",
      "[1322.42s -> 1322.96s]  nicht.\n",
      "[1323.88s -> 1324.20s]  Gullivers\n",
      "[1324.20s -> 1324.62s]  Reisen\n",
      "[1324.62s -> 1324.84s]  mit\n",
      "[1324.84s -> 1325.12s]  ihren\n",
      "[1325.12s -> 1325.82s]  grotesken\n",
      "[1325.82s -> 1326.06s]  und\n",
      "[1326.06s -> 1326.54s]  komischen\n",
      "[1326.54s -> 1327.60s]  Szenen\n",
      "[1327.60s -> 1328.30s]  mobilisieren\n",
      "[1328.30s -> 1328.56s]  die\n",
      "[1328.56s -> 1328.84s]  Kraft\n",
      "[1328.84s -> 1329.14s]  der\n",
      "[1329.14s -> 1330.44s]  Fantasie,\n",
      "[1330.62s -> 1330.86s]  Kraft\n",
      "[1330.86s -> 1331.12s]  des\n",
      "[1331.12s -> 1331.60s]  Staunens\n",
      "[1331.60s -> 1331.86s]  und\n",
      "[1331.86s -> 1332.42s]  Lachens\n",
      "[1332.42s -> 1332.88s]  gegen\n",
      "[1332.88s -> 1333.18s]  die\n",
      "[1333.18s -> 1333.50s]  starren\n",
      "[1333.50s -> 1333.92s]  Grenzen\n",
      "[1333.92s -> 1334.12s]  in\n",
      "[1334.12s -> 1334.32s]  unseren\n",
      "[1334.32s -> 1334.92s]  Köpfen.\n",
      "[1335.48s -> 1335.74s]  Sie\n",
      "[1335.74s -> 1336.06s]  schärfen\n",
      "[1336.06s -> 1336.28s]  die\n",
      "[1336.28s -> 1336.72s]  Wahrnehmung\n",
      "[1336.72s -> 1336.92s]  für\n",
      "[1336.92s -> 1337.20s]  das\n",
      "[1337.20s -> 1337.64s]  Fremde\n",
      "[1337.64s -> 1338.44s]  und\n",
      "[1339.28s -> 1339.72s]  um\n",
      "[1339.72s -> 1340.10s]  uns\n",
      "[1340.10s -> 1340.52s]  herum.\n",
      "[1341.82s -> 1341.98s]  Sie\n",
      "[1341.98s -> 1342.24s]  sind\n",
      "[1342.24s -> 1342.38s]  ein\n",
      "[1342.38s -> 1342.64s]  sehr\n",
      "[1342.64s -> 1343.56s]  menschliches,\n",
      "[1344.32s -> 1344.44s]  ein\n",
      "[1344.44s -> 1344.72s]  sehr\n",
      "[1344.72s -> 1346.14s]  wesentliches\n",
      "[1346.14s -> 1346.14s]  Buch.\n",
      "[1346.60s -> 1347.16s]  Damals\n",
      "[1347.16s -> 1347.84s]  wie\n",
      "[1347.84s -> 1348.20s]  heute.\n"
     ]
    }
   ],
   "source": [
    "df = transcribe(\"/Users/br/Projects/Bachelorarbeit/data/Episode_audio_files/jonathan swift gullivers reisen 2.mp3\")\n",
    "# db_save_df(df,\"transcript_word_level\")"
   ]
  },
  {
   "cell_type": "code",
   "execution_count": 6,
   "metadata": {},
   "outputs": [],
   "source": [
    "db_save_df(df, \"transcript_gulliver_word_level\")"
   ]
  },
  {
   "cell_type": "markdown",
   "metadata": {},
   "source": [
    "### Satzbildung mit spacy"
   ]
  },
  {
   "cell_type": "code",
   "execution_count": null,
   "metadata": {},
   "outputs": [],
   "source": [
    "import spacy"
   ]
  },
  {
   "cell_type": "code",
   "execution_count": 7,
   "metadata": {},
   "outputs": [
    {
     "data": {
      "text/plain": [
       "filename     object\n",
       "index         int64\n",
       "word         object\n",
       "start       float64\n",
       "end         float64\n",
       "dtype: object"
      ]
     },
     "execution_count": 7,
     "metadata": {},
     "output_type": "execute_result"
    }
   ],
   "source": [
    "df = db_get_df(\"transcript_gulliver_word_level\")\n",
    "df.dtypes"
   ]
  },
  {
   "cell_type": "markdown",
   "metadata": {},
   "source": [
    "Zunächst erstmal mit Whispers Punkten"
   ]
  },
  {
   "cell_type": "code",
   "execution_count": 14,
   "metadata": {},
   "outputs": [
    {
     "name": "stdout",
     "output_type": "stream",
     "text": [
      "| Wissen.|\n"
     ]
    }
   ],
   "source": [
    "print(f'|{df[\"word\"][2]}|')"
   ]
  },
  {
   "cell_type": "code",
   "execution_count": 15,
   "metadata": {},
   "outputs": [
    {
     "name": "stdout",
     "output_type": "stream",
     "text": [
      "['ARD.', 'Radio Wissen.', 'Die ganze Welt des Wissens.', 'Ein Podcast von bayern 2 in der ARD -Audiothek.', 'Lilliput, Anfang November 1699.', 'Das Land ist in Aufruhr.', 'Am Strand liegt ein Monster.', 'Ein Mensch wie ein Berg, ein Riese.', 'Er schläft.', 'Niemand weiß, woher er kommt.', 'Die Lilliputaner schaffen Seile herbei, Flöcke und Leitern.', 'Sie binden ihn fest, am ganzen Leib.', 'Jede Haarsträhne wird einzeln am Boden fixiert.', 'Da schlägt der Riese die Augen auf.', 'Nach einer Weile spürte ich, wie etwas Lebendiges sich an meinem linken Bein bewegte, vorsichtig über meine Brust hoch kroch und fast bis an mein Kinn herankam.', 'Als ich soweit ich konnte meine Augen nach unten senkte, stellte ich fest, dass es ein menschliches Wesen von weniger als 6 Zoll Höhe war, mit Pfeil und Bogen in den Händen und einem Köcher auf dem Rücken.', 'Unterdessen merkte ich, wie wenigstens 40 weitere der gleichen Art, so vermutete ich jedenfalls, dem ersten folgten.', 'Ich war aufs Äußerste verwundert und brüllte so laut, dass sie alle verschreckt zurückrannten.', \"Jonathan Zwift's Roman Gullivers Reisen zu mehreren entlegenen Völkern der Erde erschien 1726.\", 'Er ist aus der Perspektive des Riesen Gulliver erzählt, das heißt eigentlich ist Gulliver gar kein Riese, sondern ein ganz normaler Engländer, der einzig Überlebende eines Schiffbruchs.', 'Und die Lilliputana sind für sich betrachtet auch ganz normal.', 'Ein tüchtiges, hoch organisiertes Volk und nur aus der Perspektive Gullivers so winzig.', 'Beide Seiten sehen sich hier zum ersten Mal und für beide Seiten verschieben sich die gewohnten Maßstäbe.', 'Zu Beginn des 18.', 'Jahrhunderts stehen die Menschen im Bann der großen Entdeckungsfahrten.', 'Die fernen, exotischen Länder verändern das Weltbild, sagt Isabelle Karremann, Professorin für Englische Literaturwissenschaft an der Ludwig -Maximilians -Universität München.', \"Zwift's Zeit ist, England auf dem Weg eine koloniale Großmacht zu werden und die Engländer wollen einfach mehr über diese sich ständig erweiternde Welt erfahren und auch über ihren eigenen Ort in dieser Welt.\", 'Jonathan Zwift wurde 1667 in Irland geboren, das von England wirtschaftlich und politisch unterdrückt wurde.', 'Er weiß aus Erfahrung, wie schrecklich die Folgen des englischen Großmachtstrebens für die kolonialisierten Völker sind und sieht es sehr kritisch.', 'Als er an Gullivers Reisen schrieb, wirkte er als Dekan an der St.', 'Patrick Kathedrale im irischen Dublin.', 'Als Geistlicher hatte er sich mit seinen scharfzüngigen satirischen Schriften schon so oft in die Nesseln gesetzt und zog es vor, auch Gullivers Reisen anonym zu veröffentlichen.', 'Sie wurden schnell zum Verkaufsschlager.', 'Eine der ersten Rezensionen aus dem Erscheinungsjahr zum Beispiel beschreibt, dass Gullivers Travels überall gelesen wird, vom Kabinett bis zur Kinderstube.', 'Gulliver ist ein Durchschnittsmann, der in der Fremde sein Glück sucht.', 'Den fremden Völkern begegnet er mit Neugierde.', 'Und ebenso ergeht es den fremden Völkern mit ihm.', 'Doch das Miteinander führt schnell zu bizarren Komplikationen, die nicht nur hinreißend komisch sind, sondern auch viel politischen und philosophischen Zündstoff bergen.', \"In den Kinderbuchversionen, die lang nach Swift's Tod erschienen, spielt der natürlich keine Rolle.\", 'Hier werden nur die ersten beiden Reisen nach Lilliput, dem Land der Winzlinge und nach dem Land der Riesen, stark gekürzt wiedergegeben.', 'Kinder lieben Gulliver.', 'Damals wie heute.', 'Für Kinder ist vor allem das Spiel mit den Größenverhältnissen so interessant.', 'Wenn Gulliver in Lilliput ist und sich dort als Riese erfährt, der stark ist, der alle möglichen Dinge machen kann, dann ist das für Kinder, die sich mit ihm identifizieren, wie eine Art Überlegenheitsfantasie, die ihren eigenen Lebensalltag ein Stück weit kompensiert.', 'Denn Kinder erfahren sich ja meistens als klein, unterlegen, hilflos.', 'Umgekehrt teilen sie dann in Brobdingnack, in der Gulliver nun der Winzling ist, seine Erfahrungswelt, in der sie ihre eigene Erfahrungswelt genau wiederfinden.', 'Der große Erfolg des Kinderbuches hat aber auch bewirkt, dass die meisten Menschen Gullivers Reisen für ein harmloses Abenteuerbuch halten.', 'Das ist es keineswegs.', 'Immerhin nimmt es die gesamte europäische Kultur, nicht nur des 18.', 'Jahrhunderts, satirisch aufs Korn.', 'Es ist ein zeitloser Klassiker, eines der wichtigsten Werke der Weltliteratur.', 'Und immer noch kein bisschen antiquiert, findet Isabel Karremann.', 'Obwohl das bucht sich sehr stark auf tagesaktuelle Probleme und Ereignisse seiner Zeit bezieht, wirft der Roman eben doch Fragen auf, die uns heute immer noch beschäftigen.', \"Wie begegnen wir dem Fremden? Wie fühlt es sich an, selbst Außenseiter zu sein? Zeitlos ist auch Swift's Kritik an der abendländischen Vernunft.\", 'Swift hat ein ganzheitliches Menschenbild.', 'Er glaubt nicht daran, dass der Mensch hauptsächlich aus Vernunft besteht.', 'Die meisten Menschen sind wie Stecknadeln.', 'Nicht der Kopf ist das an ihnen.', 'In England, dieser Hochburg von Aufklärung und Wissenschaft, gibt es blutige Konflikte.', 'Und die fremden Völker, die Gulliver kennenlernt, sind auch nicht besser.', 'Auch in Lilliput gibt es Intrigen, Parteienzwist, Glaubenskämpfe und eine feindliche Großmacht, ganz wie in England.', 'Man streitet sich über alles und jedes, über die richtige Absatzhöhe von Politikerschuhen und darüber, wie man weltanschaulich korrekt ein Ei aufschlägt.', 'Der Riese Gulliver kommt den Lilliputanern gerade recht.', 'Er bringt Abwechslung und hebt die Stimmung.', 'Man ist bereit zu investieren.', '300 Köche bereiten seine Speisen zu und selbst die Beseitigung seiner riesigen Ausscheidungen nimmt man ohne Murren in Kauf.', 'Jeden Morgen, bevor ich Gesellschaft bekam, trug man Sorge dafür, dass die anrüchige Geschichte in Schubkarren von zwei Dienern fortgeschafft wurde, die zu diesem Zweck angestellt worden waren.', 'Als Riese hat auch der wohlerzogene Gulliver keine Chance auf Diskretion.', 'Ob er isst oder schwitzt oder ein menschliches Bedürfnis verrichtet, alles wirkt einfach unglaublich spektakulär.', 'Das ist Zwifts Protest gegen das vernunftfixierte, idealisierte und körperfeindliche Menschenbild seiner Zeit, weiß Isabel Karrenmann.', 'In diesem Szenario werden körperliche Vorgänge und auch körperliche Ausscheidungen ganz groß zur Schau gestellt und dabei zum Gegenstand nicht von Scham oder Verbergen, sondern sie werden eigentlich zur des Lachens.', 'Und das ist Zwifts Taktik, den zeitgenössischen Leser ein Stück weit wieder mit seinem eigenen Körper vertraut zu machen und einen entspannteren Umgang mit dem Körper möglich zu machen.', 'Die Regeln der Zivilisation, so streng sie auch sein mögen, können den Körper und seine Gelüste nie völlig ausschalten.', 'Einmal befiehlt der Kaiser von Lilliput seiner Zähne bewaffneten Armee in strenger Marschformation durch Gullivers gespreizte Beine hindurch zu defilieren.', 'Seine Majestät befahl unter Androhung der Todesstrafe, dass jeder Soldat während des Marsches strengsten Anstand zu beachten hatte, was meine Person anging.', 'Das hielt jedoch einige der jüngeren Offiziere nicht davon ab, ihre Augen nach oben zu richten, als sie unter mir durchmarschierten.', 'Um die Wahrheit zu sagen, meine Hosen waren zu diesem Zeitpunkt in einem so üblen Zustand, dass sie einigen Anlass zu Gelächter und Bewunderung boten.', 'Gullivers gigantische Genitalien sind aber nicht nur lustig, sie sind auch nützlich.', 'Als der Palast brennt, pinkelt er einfach in die Flammen und das Gebäude ist gerettet.', 'Gulliver wird zum Helden von Lilliput.', 'Auch beim Militär macht er sich beliebt, in dem er der feindlichen Großmacht Blefuscu mal eben 50 Kriegsschiffe klaut.', 'Doch unterschwellig wachsen die Integrationsprobleme, es kommt zu Konflikten.', 'Einflussreiche Leute halten Gulliver für ein Sicherheitsrisiko.', 'Sie finden ihn zu schamlos oder zu teuer.', 'Der Schatzkanzler legte da, wie die Last meines Unterhalts die Staatskasse seiner Majestät in Schwierigkeiten gebracht habe und bald nicht mehr vertretbar sein werde.', 'Bevor es ihm an den Kragen geht, findet Gulliver Mittel und Wege, nach England zurückzukehren.', 'Nach seinem zweiten Schiffbruch auf seiner zweiten Reise landet er in Proptignac.', 'Hier kehren sich die Verhältnisse um.', 'Hier sind die anderen die Riesen.', 'Der Mann schien so groß wie ein gewöhnlicher Kirchturm und bewältigte bei jedem Schritt ungefähr zehn Meter, soweit ich das erraten konnte.', 'Ich wurde von äußerster Angst und Verblüffung gepackt und rannte fort, um mich im Getreide zu verstecken.', 'Auf Proptignac verändert sich das Bild noch mal ein Stück weit.', 'Wenn wir auf Lilliput einen entspannten Umgang mit dem Körper haben, wird der Körper auf Proptignac für Gulliver zur Quelle des Unbehagens.', 'Das betrifft sowohl seinen eigenen Körper wie auch den Körper der Riesen.', 'Er ist einfach ein Winzling.', 'Er fühlt sich verletzlich.', 'Er fühlt sich allen möglichen Gefahren ausgesetzt.', 'So wird ihm sehr bewusst, dass sein Körper eben nicht überlegen ist und unangreifbar, sondern dass er einen verletzlichen menschlichen Körper hat.', 'Die Menschen vom Proptignac behandeln Gulliver wie eine Puppe oder wie ein Haustier.', 'Sie stecken ihn in tragbare Puppenhäuschen, schleppen ihn von Dorf zu Dorf und präsentieren ihn vor zahlendem Publikum, bis er vor Erschöpfung fast stirbt.', 'Noch bedrohlicher ist Proptignacs übermächtige Natur.', 'Unterdessen ging plötzlich ein so heftiger Hagelschauer nieder, dass ich durch seine Gewalt sofort zu Boden geworfen wurde.', 'Und als ich am Boden lag, schlugen die Hagelkörner so unbarmherzig auf meinen ganzen Körper ein, als ob ich mit Tennisbällen beworfen wurde.', 'Man braucht sich über all dies nicht zu wundern, weil die Natur bei all ihrem Tun die gleichen Proportionen einhält und ein Hagelkorn ungefähr 1800 mal so groß ist wie in Europa.', 'Was ich aus Erfahrung bestätigen kann, denn ich war neugierig genug, sie zu wiegen und zu vermessen.', 'Aber mit Vernunft, Willenskraft und Forscherdrang kommt Gulliver hier nicht weit.', 'Jedes Schoßhündchen droht ihn zu zerfetzen, jeder Kuh fladen, ihn zu verschlingen.', 'Und die Frauen, ach, die Frauen, die sind fast noch schlimmer als alles andere.', 'Die hübscheste unter diesen Edelfreulein, ein vergnügliches, ausgelassenes Mädchen von 16 Jahren, setzte mich manchmal Rittlings auf eine ihrer Brustwarzen und trieb viele andere Possen, doch wird der Leser entschuldigen, wenn ich nicht ins Einzelne gehe.', 'Gulliver als Sexspielzeug.', 'In Proptiniak drängt sich der weibliche Körper mit Macht in sein Blickfeld.', 'Riesige Brüste umgeben ihn, wohin er schaut.', 'Manchmal hängen Riesen Säuglinge dran, manchmal sind sie von Eine Frau war da, die einen Brustkrebs hatte, der auf ungeheure Größe angeschwollen war, voll von Löchern, in die ich zwei oder dreimal bequem hätte hineinkriechen und meinen Körper darin hätte verstecken können.', 'Wenn Gulliver in Proptiniak mit diesen riesengroßen Frauenkörpern konfrontiert ist, dann ist das wie die Rückkehr des Zerdrängten.', 'Er findet sich ausgesetzt einer überwältigenden Körperlichkeit, auch einer überwältigenden Sinnlichkeit.', 'Das kann aber auch umschlagen in ein ganz furchterregendes Szenario, wenn Gulliver zum Beispiel die alte Bettlerin mit dem Brustkrebs sieht und an ihr ganz deutlich wird, dass der Körper dem Verfall, dem Altern und der Krankheit preisgegeben wird.', 'Und die eigentlich erschreckende Einsicht dabei ist für Gulliver, dass er selbst seinem eigenen Körper nicht entkommen kann.', 'Dass Gulliver aus Proptiniak je wieder wegkommt, ist reiner Zufall und einem Adler zu verdanken, der ihn packt und entführt.', 'Die dritte Reise führt ihn auf eine fliegende Insel Laputa, ein Wolken -Kuckucks -Heim für weltfremde Wissenschaftler, eine groß angelegte Satire auf Wissenschaft und Geistesleben, aber wegen der vielen komplizierten Anspielungen nie so populär geworden, wie die ersten beiden Reisen.', 'Die vierte Reise hingegen hat für Furore gesorgt und für heftige Empörung.', 'Denn hier spitzzwift seinen Großangriff auf die menschliche Selbstüberschätzung drastisch zu.', 'Im vierten Land herrschen die Pferde, in der Landessprache Winnems genannt.', 'Weise und gerechte Pferde, die weder Geld noch Krieg, weder Lügen noch Ehebruch oder überhaupt irgendwelche Leidenschaften kennen.', 'Blitzsaubere, makellose Geschöpfe, die den großen Traum der europäischen Aufklärung von Vernunft, Bestimmtheit und Tugend scheinbar mühelos verwirklicht haben.', \"Im Gegensatz zu den Yahu's, die auch hier leben.\", 'Verdreckte, sind es Tiere? Nein.', 'Mein Entsetzen und mein Erstaunen lassen sich nicht beschreiben, bis ich an diesem erstaunlichen Tier eine vollkommene menschliche Gestalt bemerkte.', 'Sein Gesicht war tatsächlich flach und breit, die Nase plattgedrückt, die Lippen wulstig und der Mund aufgerissen.', 'Doch diese Unterschiede sind bei allen wilden Hölkern weit verbreitet.', \"Winnems in ihrer Tugendhaftigkeit und Vernunftbetonheit einerseits und die Yahu's in ihrer Kreatürlichkeit und Dummheit andererseits verkörpern die beiden Gegensätze von Geist und Körper, die im kathäsianischen Menschenbild auseinander treten.\", \"Damit verkörpern die Yahu's das Verworfene, all das, was nicht in dieses vernunftbetonte Menschenbild des 18.\", 'Jahrhunderts passt.', \"Aber Swift's Botschaft ist, dass sie eigentlich uns Menschen verkörpern, in unserer ganzen Kreatürlichkeit, auch in unsere Dummheit, unsere Gier und unsere Unvernunft, die aber eben zu uns als Menschen gehört.\", \"Die verachteten Yahu's leben entweder in der Wildnis oder angekettet in den Häusern der Pferde als ihre Sklaven.\", 'Die edlenen Winnems denken sich überhaupt nichts dabei, sich schlecht zu behandeln.', \"Yahu's sind eben keine Pferde und haben keinen Anspruch auf Pferdewürde, so wie in der Menschenwelt die Tiere keinen Anspruch auf Menschenwürde haben, ebenso wenig wie die schwarzen Sklaven oder die Juden oder die Frauen oder die indigene Bevölkerung der kolonialisierten Länder.\", \"All diese unterdrückten, von der europäischen Zivilisation verachteten Seinsweisen verkörpern sich in den Yahu's, ebenso wie die Triebe und Gelüste, das Fremde im eigenen Inneren, das die Menschen an sich selbst nicht mögen und auf andere projizieren.\", 'Gulliver will am liebsten nichts mit ihnen zu tun haben.', 'Viel lieber möchte er zu den Pferden gehören, die er sehr bewundert.', 'Er beschließt, niemals mehr zu den Menschen zurückzukehren, sondern den Rest meiner Tage bei den bewunderungswürdigen Winnems, wo ich kein Vorbild und kein Einsporn zum Laster fand, in der Betrachtung und Übung jeglicher Tugend zu verbringen.', \"Gulliver lernt die Pferdesprache, lernt zu traben wie ein Pferd und achtet auf seine Kleidung, die ihn von den wilden Yahu's unterscheidet.\", \"Trotzdem ist er ein Yahu und bleibt ein Yahu und Pferde mögen keine Yahu's.\", 'Sicher, das Pferd, bei dem er wohnt, beginnt ihn interessant zu finden.', 'Es unterhält sich sogar mit ihm und lernt etwas von ihm.', 'Aber die große Mehrheit, die hat anderes im Sinn.', 'Was, das erfährt man auf der Generalversammlung der Pferde.', \"Die zu erörternde Frage lautete, ob die Yahu's vom Angesicht der Erde auszulöschen seien.\", 'Einer von denen, die für den Antrag waren, trug verschiedene Argumente von großer Stärke und großem Gewicht vor, in dem er erklärte, dass der Yahu das schmutzigste, ekelhafteste und missgebildetste Lebewesen sei, das die Natur je hervorgebracht habe, und zugleich das widerspenstigste und ungelehrigste, boshafteste und arglistigste.', \"Die Yahu's würden heimlich an den Eutern der Wynims Kühe saugen, ihre Katzen töten und verschlingen, ihren Hafer und ihr Gras zertrampeln, wenn man sie nicht dauernd bewache.\", 'Swift weiß, dass die Gewalt, die im Prozess der Ausgrenzung wirksam wird, unter Umständen im Genozid münden kann.', 'Er weiß es 200 Jahre vor der Wannsee -Konferenz und den nationalsozialistischen Massenmorden.', 'Er weiß auch, dass keine Zivilisation vor organisierten Gewaltexzessen sicher ist.', 'Beeindruckend ist es, dass Swift so klar sieht, dass jede Zivilisation auf Abgrenzungen und Verwerfungen angewiesen ist, dass jede Zivilisation das andere braucht, und er besteht darauf, dass wir aber für das andere Verantwortung übernehmen.', 'Es ist das, was wir selbst produziert haben, um unser Selbstbild hervorzubringen.', 'Und deshalb haben wir auch eine Verantwortung für das Verworfene, für das andere, für das Fremde.', 'Denn es ist nicht wirklich fremd, sondern es ist aus dem eigenen hervorgegangen.', 'Eben dieser Einsicht sind die Pferde nicht gewachsen.', \"Sie wollen hässliche Yahu's, damit vor dieser dunklen Folie ihr ideales Selbstbild um so heller strahle.\", 'Ein kluger Yahu wie Gulliver, mit dem man reden, von dem man sogar etwas lernen kann, der bedroht ihr Selbstverständnis.', 'Gullivers Gastgeber, das Pferd, das ihn persönlich kennt, stößt bei seinen Artgenossen auf harsche Kritik.', 'Man wisse, dass er häufig mit mir verkehre, als ob er Nutzen oder Vergnügen aus meiner Gesellschaft ziehe.', 'Solche Übung vereinbare sich weder mit der Vernunft noch mit der Natur, noch sei sie etwas, was man zuvor bei ihm gehört habe.', 'Im Klartext, Gulliver muss weg.', 'Am Boden zerstört, packt er seine Sachen.', 'In England findet er sich überhaupt nicht mehr zurecht.', \"Engländer sind auch nur Menschen, also Yahu's.\", 'Gulliver kann sie nicht mehr ertragen, geschweige denn lieben.', 'Und auch sich selbst ist er fremd geworden.', 'Er kauft sich ein paar Pferde und verbringt die meiste Zeit im Stall.', 'Meine Pferde verstehen mich leidlich und ich spreche mit ihnen wenigstens vier Stunden täglich.', 'Sie kennen weder Zaumzeug noch Sattel, leben in gutem Einvernehmen mit mir und Freundschaft untereinander.', 'Gulliver ist zum Menschenfeind geworden.', 'Er hat seine Identität verloren, weil er nicht ertragen konnte, was ihm in der Fremde begegnet ist.', 'Der Fremde und unverstandene Teil seines eigenen Wesens und der menschlichen Natur.', 'Er war verrückt und selbst zum Gegenstand der Satire.', 'Aber viele Leser erkannten das nicht.', 'Sie verwechselten Gullivers Haltung mit der des Autors, tatelten ihn für seine Menschenverachtung.', 'Swift hat diese Fehlinterpretation entschieden zurückgewiesen.', 'Ich versichere, dass nicht ich letzten Endes die Menschen verabscheue.', 'Ihr anderen seid es, die sie verabscheuen, weil ihr sie als vernünftige Kreaturen haben wollt und aus der Stimmung immer abgelehnt und mir eine eigene gemacht.', 'Die reine Vernunft, die reine Tugend, das reine Ideal gibt es nicht.', 'Gullivers Reisen mit ihren grotesken und komischen Szenen mobilisieren die Kraft der Fantasie, Kraft des Staunens und Lachens gegen die starren Grenzen in unseren Köpfen.', 'Sie schärfen die Wahrnehmung für das Fremde und um uns herum.', 'Sie sind ein sehr menschliches, ein sehr wesentliches Buch.', 'Damals wie heute.']\n"
     ]
    }
   ],
   "source": [
    "sentences = []\n",
    "one_sentence = []\n",
    "for word in df[\"word\"]:\n",
    "    one_sentence.append(word.strip())\n",
    "    if \".\" in word:\n",
    "        sentences.append(\" \".join(one_sentence))\n",
    "        one_sentence = []\n",
    "print(sentences)"
   ]
  },
  {
   "cell_type": "markdown",
   "metadata": {},
   "source": [
    "### Demonstration"
   ]
  },
  {
   "cell_type": "code",
   "execution_count": null,
   "metadata": {},
   "outputs": [],
   "source": [
    "df = db_get_df(table=\"transcripts\")"
   ]
  },
  {
   "cell_type": "code",
   "execution_count": null,
   "metadata": {},
   "outputs": [],
   "source": [
    "userInputText = \"Auf dem l Feiern und trinken\"\n",
    "userInputTime = 7\n",
    "best_fitting = get_most_similar_documents_Llama2(userInputText, userInputTime)\n",
    "print(best_fitting[\"segment_text\"].to_markdown())\n",
    "\n",
    "produce_snippets()\n",
    "produce_audio()\n"
   ]
  },
  {
   "cell_type": "code",
   "execution_count": null,
   "metadata": {},
   "outputs": [],
   "source": [
    "IPython.display.Audio(\"concatenated_audio.mp3\")"
   ]
  }
 ],
 "metadata": {
  "kernelspec": {
   "display_name": "Python 3",
   "language": "python",
   "name": "python3"
  },
  "language_info": {
   "codemirror_mode": {
    "name": "ipython",
    "version": 3
   },
   "file_extension": ".py",
   "mimetype": "text/x-python",
   "name": "python",
   "nbconvert_exporter": "python",
   "pygments_lexer": "ipython3",
   "version": "3.8.10"
  },
  "orig_nbformat": 4
 },
 "nbformat": 4,
 "nbformat_minor": 2
}
