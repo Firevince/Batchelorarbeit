{
 "cells": [
  {
   "cell_type": "markdown",
   "metadata": {},
   "source": [
    "# Podcast Episode Erstellen"
   ]
  },
  {
   "cell_type": "markdown",
   "metadata": {},
   "source": [
    "### imports"
   ]
  },
  {
   "cell_type": "code",
   "execution_count": null,
   "metadata": {},
   "outputs": [],
   "source": [
    "import sys\n",
    "sys.path.append(\".\")\n",
    "from audio_transcription.faster_whisper_word_level import transcribe\n",
    "from Episodes_Downloader.episodes_downloader import get_names_and_urls_all_episodes, download_and_save_mp3_in_dir\n",
    "import os\n",
    "import pandas as pd\n",
    "from pydub import AudioSegment\n",
    "from pydub.playback import play\n",
    "from playsound import playsound\n",
    "import IPython \n",
    "import io\n",
    "from db_connect import db_get_df,db_save_df\n",
    "from segment_ranking.rank_segments import get_most_similar_documents_Llama2\n",
    "from Audio_segmentation.split_audio import produce_snippets\n",
    "from Audio_segmentation.concat_audio import produce_audio\n",
    "from tqdm import tqdm"
   ]
  },
  {
   "cell_type": "markdown",
   "metadata": {},
   "source": [
    "### Episoden URLs laden"
   ]
  },
  {
   "cell_type": "code",
   "execution_count": null,
   "metadata": {},
   "outputs": [],
   "source": [
    "titles, audio_urls = get_names_and_urls_all_episodes()\n",
    "filenames = [url.split(\"/\")[-1] for url in audio_urls]\n",
    "print(titles)"
   ]
  },
  {
   "cell_type": "code",
   "execution_count": null,
   "metadata": {},
   "outputs": [],
   "source": [
    "print(filenames)"
   ]
  },
  {
   "cell_type": "code",
   "execution_count": null,
   "metadata": {},
   "outputs": [],
   "source": [
    "df = db_get_df(\"transcripts\")\n",
    "df.dtypes"
   ]
  },
  {
   "cell_type": "code",
   "execution_count": null,
   "metadata": {},
   "outputs": [],
   "source": [
    "df = pd.DataFrame({\"title\": titles, \"download_url\": audio_urls, \"transcript\": None, \"filename\":filenames})\n",
    "db_save_df(df, \"transcripts_all\")"
   ]
  },
  {
   "cell_type": "markdown",
   "metadata": {},
   "source": [
    "### Alle mp3s herunterladen"
   ]
  },
  {
   "cell_type": "code",
   "execution_count": null,
   "metadata": {},
   "outputs": [],
   "source": [
    "df = db_get_df(\"transcripts_all\")\n",
    "path = \"/nfs/scratch/students/neumannvi84434/Podcast_Episoden/\"\n",
    "for i, row in tqdm(df.iterrows()):\n",
    "    title = row[\"title\"].replace(\"/\",\"\")\n",
    "    if title in os.listdir(path):\n",
    "        continue\n",
    "    download_and_save_mp3_in_dir(row[\"download_url\"], path, title)\n"
   ]
  },
  {
   "cell_type": "code",
   "execution_count": null,
   "metadata": {},
   "outputs": [],
   "source": [
    "directory_path = \"/nfs/scratch/students/neumannvi84434/Podcast_Episoden/\"\n",
    "\n",
    "# Loop through each row in the DataFrame\n",
    "for index, row in df.iterrows():\n",
    "    old_filename = row[\"title\"]\n",
    "    new_filename = row[\"filename\"]\n",
    "    \n",
    "    # Construct the full paths for the old and new filenames\n",
    "    old_file_path = os.path.join(directory_path, old_filename)\n",
    "    new_file_path = os.path.join(directory_path, new_filename)\n",
    "    \n",
    "    try:\n",
    "        # Rename the file using os.rename\n",
    "        os.rename(old_file_path, new_file_path)\n",
    "        print(f\"Renamed: {old_filename} to {new_filename}\")\n",
    "    except FileNotFoundError:\n",
    "        print(f\"File not found: {old_filename}\")\n",
    "    except FileExistsError:\n",
    "        print(f\"File already exists: {new_filename}\")\n",
    "    except Exception as e:\n",
    "        print(f\"An error occurred while renaming {old_filename} to {new_filename}: {e}\")\n"
   ]
  },
  {
   "cell_type": "code",
   "execution_count": null,
   "metadata": {},
   "outputs": [],
   "source": [
    "df = db_get_df(\"transcripts_all\")\n",
    "path = \"/nfs/scratch/students/neumannvi84434/Podcast_Episoden/\"\n",
    "print(len(df))\n",
    "print(len(os.listdir(path)))\n",
    "# welche nicht als file abgespiechert wurden\n",
    "print(len(df[~df['title'].isin(os.listdir(path))]))\n",
    "print(len(df[df.duplicated(subset='title', keep=False)]))\n",
    "print(df[df.duplicated(subset='title', keep=False)].sort_values(by=\"title\").to_markdown())\n"
   ]
  },
  {
   "cell_type": "code",
   "execution_count": null,
   "metadata": {},
   "outputs": [],
   "source": [
    "df.loc[179, \"download_url\"]"
   ]
  },
  {
   "cell_type": "markdown",
   "metadata": {},
   "source": [
    "### Transkription auf Word level Ebene"
   ]
  },
  {
   "cell_type": "code",
   "execution_count": null,
   "metadata": {},
   "outputs": [],
   "source": [
    "df = db_get_df(\"transcripts_all\")\n",
    "df_words = pd.DataFrame({\"filename\": [], \n",
    "                          \"index\": [],\n",
    "                          \"word\": [],\n",
    "                          \"start\": [],\n",
    "                          \"end\": []})\n",
    "\n",
    "path = \"/nfs/scratch/students/neumannvi84434/Podcast_Episoden/\"\n",
    "\n",
    "for filename in os.listdir(path):\n",
    "    transcript_df = transcribe(os.path.join(path,filename))\n",
    "    df_words = pd.concat([df_words, transcript_df])"
   ]
  },
  {
   "cell_type": "code",
   "execution_count": null,
   "metadata": {},
   "outputs": [],
   "source": [
    "df = transcribe(\"/Users/br/Projects/Bachelorarbeit/data/Episode_audio_files/jonathan swift gullivers reisen 2.mp3\")\n",
    "# db_save_df(df,\"transcript_word_level\")"
   ]
  },
  {
   "cell_type": "code",
   "execution_count": null,
   "metadata": {},
   "outputs": [],
   "source": [
    "db_save_df(df, \"transcript_gulliver_word_level\")"
   ]
  },
  {
   "cell_type": "markdown",
   "metadata": {},
   "source": [
    "### debug db"
   ]
  },
  {
   "cell_type": "code",
   "execution_count": null,
   "metadata": {},
   "outputs": [],
   "source": [
    "import sqlite3\n",
    "import pandas as pd\n",
    "\n",
    "con = sqlite3.connect(\"/nfs/scratch/students/neumannvi84434/backup/transcripts.sqlite\")\n",
    "df = pd.read_sql_query(f\"SELECT * FROM transcript_word_level_2237\", con)\n",
    "con.close()\n",
    "df.dtypes"
   ]
  },
  {
   "cell_type": "code",
   "execution_count": null,
   "metadata": {},
   "outputs": [],
   "source": [
    "len(df)"
   ]
  },
  {
   "cell_type": "markdown",
   "metadata": {},
   "source": [
    "### Satzbildung mit spacy"
   ]
  },
  {
   "cell_type": "code",
   "execution_count": null,
   "metadata": {},
   "outputs": [],
   "source": [
    "import spacy"
   ]
  },
  {
   "cell_type": "code",
   "execution_count": null,
   "metadata": {},
   "outputs": [],
   "source": [
    "df = db_get_df(\"transcript_gulliver_word_level\")\n",
    "df.dtypes"
   ]
  },
  {
   "cell_type": "markdown",
   "metadata": {},
   "source": [
    "Zunächst erstmal mit Whispers Punkten"
   ]
  },
  {
   "cell_type": "code",
   "execution_count": null,
   "metadata": {},
   "outputs": [],
   "source": [
    "print(f'|{df[\"word\"][2]}|')"
   ]
  },
  {
   "cell_type": "code",
   "execution_count": null,
   "metadata": {},
   "outputs": [],
   "source": [
    "sentences = []\n",
    "one_sentence = []\n",
    "for word in df[\"word\"]:\n",
    "    one_sentence.append(word.strip())\n",
    "    if \".\" in word:\n",
    "        sentences.append(\" \".join(one_sentence))\n",
    "        one_sentence = []\n",
    "print(sentences)"
   ]
  },
  {
   "cell_type": "markdown",
   "metadata": {},
   "source": [
    "### Demonstration"
   ]
  },
  {
   "cell_type": "code",
   "execution_count": null,
   "metadata": {},
   "outputs": [],
   "source": [
    "df = db_get_df(table=\"transcripts\")"
   ]
  },
  {
   "cell_type": "code",
   "execution_count": null,
   "metadata": {},
   "outputs": [],
   "source": [
    "userInputText = \"Auf dem l Feiern und trinken\"\n",
    "userInputTime = 7\n",
    "best_fitting = get_most_similar_documents_Llama2(userInputText, userInputTime)\n",
    "print(best_fitting[\"segment_text\"].to_markdown())\n",
    "\n",
    "produce_snippets()\n",
    "produce_audio()\n"
   ]
  },
  {
   "cell_type": "code",
   "execution_count": null,
   "metadata": {},
   "outputs": [],
   "source": [
    "IPython.display.Audio(\"concatenated_audio.mp3\")"
   ]
  }
 ],
 "metadata": {
  "kernelspec": {
   "display_name": "Python 3",
   "language": "python",
   "name": "python3"
  },
  "language_info": {
   "codemirror_mode": {
    "name": "ipython",
    "version": 3
   },
   "file_extension": ".py",
   "mimetype": "text/x-python",
   "name": "python",
   "nbconvert_exporter": "python",
   "pygments_lexer": "ipython3",
   "version": "3.8.10"
  },
  "orig_nbformat": 4
 },
 "nbformat": 4,
 "nbformat_minor": 2
}
