{
 "cells": [
  {
   "cell_type": "markdown",
   "metadata": {},
   "source": [
    "# Evaluation der Embeddings"
   ]
  },
  {
   "cell_type": "markdown",
   "metadata": {},
   "source": [
    "Kriterien für Beispielfragen:\n",
    "- Informationen dazu existiert in den Daten \n",
    "- in verschiedenen Episoden findet sich etwas zu den Themen \n",
    "- verschiedene Themen aus Sport, Wissenschaft, Gesellschaft"
   ]
  },
  {
   "cell_type": "code",
   "execution_count": 2,
   "metadata": {},
   "outputs": [],
   "source": [
    "import sys\n",
    "sys.path.append(\"..\")\n",
    "from segment_ranking.rank_segments import get_most_similar_segments\n",
    "\n",
    "from langchain.chat_models import ChatOpenAI\n",
    "from langchain.prompts import ChatPromptTemplate\n",
    "from langchain_core.messages import HumanMessage, SystemMessage\n",
    "from chromadb_connect import get_most_similar_documents_openai, get_most_similar_documents_voyage\n",
    "import json\n",
    "from tqdm import tqdm\n",
    "from db_connect import db_get_df\n",
    "\n",
    "llm_model = \"gpt-3.5-turbo-0301\""
   ]
  },
  {
   "cell_type": "markdown",
   "metadata": {},
   "source": [
    "## Topical evaluation"
   ]
  },
  {
   "cell_type": "code",
   "execution_count": 2,
   "metadata": {},
   "outputs": [
    {
     "data": {
      "text/html": [
       "<div>\n",
       "<style scoped>\n",
       "    .dataframe tbody tr th:only-of-type {\n",
       "        vertical-align: middle;\n",
       "    }\n",
       "\n",
       "    .dataframe tbody tr th {\n",
       "        vertical-align: top;\n",
       "    }\n",
       "\n",
       "    .dataframe thead th {\n",
       "        text-align: right;\n",
       "    }\n",
       "</style>\n",
       "<table border=\"1\" class=\"dataframe\">\n",
       "  <thead>\n",
       "    <tr style=\"text-align: right;\">\n",
       "      <th></th>\n",
       "      <th>sentence</th>\n",
       "      <th>end</th>\n",
       "      <th>start</th>\n",
       "      <th>filename</th>\n",
       "      <th>segment_id</th>\n",
       "    </tr>\n",
       "  </thead>\n",
       "  <tbody>\n",
       "    <tr>\n",
       "      <th>0</th>\n",
       "      <td>paul ehrlich soll diesen vorwurf zeit seines l...</td>\n",
       "      <td>1326.08</td>\n",
       "      <td>1265.92</td>\n",
       "      <td>paul-ehrlich-mediziner-immunologe-nobelpreistr...</td>\n",
       "      <td>42</td>\n",
       "    </tr>\n",
       "    <tr>\n",
       "      <th>1</th>\n",
       "      <td>Man kann das schon sehen, dass es Städte waren...</td>\n",
       "      <td>342.34</td>\n",
       "      <td>322.32</td>\n",
       "      <td>der-stadtwald-vom-energielieferanten-zum-erhol...</td>\n",
       "      <td>58</td>\n",
       "    </tr>\n",
       "    <tr>\n",
       "      <th>2</th>\n",
       "      <td>Dabei sind wir nur ein Wimpernschlag in der Ti...</td>\n",
       "      <td>51.1</td>\n",
       "      <td>25.92</td>\n",
       "      <td>tiefenzeit-vergangenheit-und-zukunft-wiederent...</td>\n",
       "      <td>3</td>\n",
       "    </tr>\n",
       "    <tr>\n",
       "      <th>3</th>\n",
       "      <td>Eine Sendung von Marlene Fercher. Frankfurt im...</td>\n",
       "      <td>57.94</td>\n",
       "      <td>37.24</td>\n",
       "      <td>struwwelpeter-poesie-und-schwarze-paedagogik.mp3</td>\n",
       "      <td>8</td>\n",
       "    </tr>\n",
       "    <tr>\n",
       "      <th>4</th>\n",
       "      <td>Bis zu ihrem Tod beschäftigt sie sich mit Frag...</td>\n",
       "      <td>1276.98</td>\n",
       "      <td>1258.56</td>\n",
       "      <td>die-architektin-des-sozialen-wohnens-margarete...</td>\n",
       "      <td>217</td>\n",
       "    </tr>\n",
       "    <tr>\n",
       "      <th>5</th>\n",
       "      <td>fürstentum frankfurt genannt ein eigener klein...</td>\n",
       "      <td>1093.96</td>\n",
       "      <td>1051.14</td>\n",
       "      <td>aschaffenburg-residenzstadt-zwischen-mainz-und...</td>\n",
       "      <td>41</td>\n",
       "    </tr>\n",
       "    <tr>\n",
       "      <th>6</th>\n",
       "      <td>Professor Andriy Portnov lehrt an der Europa -...</td>\n",
       "      <td>247.16</td>\n",
       "      <td>235.3</td>\n",
       "      <td>die-ukraine-seit-1914-ein-staat-sucht-sich-sel...</td>\n",
       "      <td>30</td>\n",
       "    </tr>\n",
       "    <tr>\n",
       "      <th>7</th>\n",
       "      <td>In Frankfurt am Main zum Beispiel. Frankfurt i...</td>\n",
       "      <td>346.42</td>\n",
       "      <td>332.12</td>\n",
       "      <td>der-stadtwald-vom-energielieferanten-zum-erhol...</td>\n",
       "      <td>59</td>\n",
       "    </tr>\n",
       "    <tr>\n",
       "      <th>8</th>\n",
       "      <td>Er soll den Spuren des Vaters folgen. Leipzig ...</td>\n",
       "      <td>230.48</td>\n",
       "      <td>210.28</td>\n",
       "      <td>johann-wolfgang-von-goethe-mein-leben-ein-einz...</td>\n",
       "      <td>36</td>\n",
       "    </tr>\n",
       "    <tr>\n",
       "      <th>9</th>\n",
       "      <td>Er soll den Spuren des Vaters folgen. Leipzig ...</td>\n",
       "      <td>230.5</td>\n",
       "      <td>210.28</td>\n",
       "      <td>johann-wolfgang-von-goethe-mein-leben-ein-einz...</td>\n",
       "      <td>40</td>\n",
       "    </tr>\n",
       "  </tbody>\n",
       "</table>\n",
       "</div>"
      ],
      "text/plain": [
       "                                            sentence      end    start  \\\n",
       "0  paul ehrlich soll diesen vorwurf zeit seines l...  1326.08  1265.92   \n",
       "1  Man kann das schon sehen, dass es Städte waren...   342.34   322.32   \n",
       "2  Dabei sind wir nur ein Wimpernschlag in der Ti...     51.1    25.92   \n",
       "3  Eine Sendung von Marlene Fercher. Frankfurt im...    57.94    37.24   \n",
       "4  Bis zu ihrem Tod beschäftigt sie sich mit Frag...  1276.98  1258.56   \n",
       "5  fürstentum frankfurt genannt ein eigener klein...  1093.96  1051.14   \n",
       "6  Professor Andriy Portnov lehrt an der Europa -...   247.16    235.3   \n",
       "7  In Frankfurt am Main zum Beispiel. Frankfurt i...   346.42   332.12   \n",
       "8  Er soll den Spuren des Vaters folgen. Leipzig ...   230.48   210.28   \n",
       "9  Er soll den Spuren des Vaters folgen. Leipzig ...    230.5   210.28   \n",
       "\n",
       "                                            filename segment_id  \n",
       "0  paul-ehrlich-mediziner-immunologe-nobelpreistr...         42  \n",
       "1  der-stadtwald-vom-energielieferanten-zum-erhol...         58  \n",
       "2  tiefenzeit-vergangenheit-und-zukunft-wiederent...          3  \n",
       "3   struwwelpeter-poesie-und-schwarze-paedagogik.mp3          8  \n",
       "4  die-architektin-des-sozialen-wohnens-margarete...        217  \n",
       "5  aschaffenburg-residenzstadt-zwischen-mainz-und...         41  \n",
       "6  die-ukraine-seit-1914-ein-staat-sucht-sich-sel...         30  \n",
       "7  der-stadtwald-vom-energielieferanten-zum-erhol...         59  \n",
       "8  johann-wolfgang-von-goethe-mein-leben-ein-einz...         36  \n",
       "9  johann-wolfgang-von-goethe-mein-leben-ein-einz...         40  "
      ]
     },
     "execution_count": 2,
     "metadata": {},
     "output_type": "execute_result"
    }
   ],
   "source": [
    "get_most_similar_segments(\"OPENAI\", \"Frankfurt\", 10, 5, False)"
   ]
  },
  {
   "cell_type": "code",
   "execution_count": null,
   "metadata": {},
   "outputs": [],
   "source": [
    "chat = ChatOpenAI(model=\"gpt-4-0125-preview\").bind(\n",
    "    response_format={\"type\": \"json_object\"},\n",
    "    temperature=0.5,\n",
    "    seed=111\n",
    ")\n",
    "chat"
   ]
  },
  {
   "cell_type": "code",
   "execution_count": 13,
   "metadata": {},
   "outputs": [],
   "source": [
    "sample_querys = [\"Oktoberfest\",\n",
    "                 \"Nürnberger Prozesse\",\n",
    "                 \"Oper Synfonie\",\n",
    "                 \"Tyrannosaurus Rex\",\n",
    "                 \"DDR Essen\",\n",
    "                 \"Kreislaufsystem\",\n",
    "                 \"Tennisprofi\"]\n",
    "\n",
    "querys_topical = [\n",
    "    \"Mauerfall Geschichte\",\n",
    "    \"Oktoberfest Tradition\",\n",
    "    \"Ruhrgebiet Industrialisierung\",\n",
    "    \"Berliner Kultur\",\n",
    "    \"Deutsche Romantik\",\n",
    "    \"Bauhaus Bewegung\",\n",
    "    \"Weimarer Republik\",\n",
    "    \"Schwarzwald Mythologie\",\n",
    "    \"DDR Alltagsleben\",\n",
    "    \"Preußische Geschichte\",\n",
    "    \"Brüder Grimm Märchen\",\n",
    "    \"Heiliges Römisches Reich\",\n",
    "    \"Deutsche Einheit\",\n",
    "    \"Nürnberger Prozesse\",\n",
    "    \"Hamburg Hafenstadt\",\n",
    "    \"Luther Reformation\",\n",
    "    \"Berliner Mauer Kunst\",\n",
    "    \"Deutsche Philosophen\",\n",
    "    \"Bismarck Ära\",\n",
    "    \"Deutsche Automobilindustrie\",\n",
    "    \"Sächsische Landschaften\",\n",
    "    \"Frankfurt Finanzzentrum\",\n",
    "    \"Bayern Traditionen\",\n",
    "    \"Dresdner Geschichte\",\n",
    "    \"Hansebund Handel\",\n",
    "    \"Goethe Literatur\",\n",
    "    \"Deutsche Volksfeste\",\n",
    "    \"Kölner Karneval\",\n",
    "    \"Münchner Bierkultur\",\n",
    "    \"Ost-West Konflikt\"\n",
    "    ]\n",
    "\n",
    "querys_questions = [\n",
    "    \"Wann werden Menschen auf dem Mars landen?\",\n",
    "    \"Wie wirkt Yoga auf die geistige Gesundheit?\",\n",
    "    \"Was verursacht die Ozeanversauerung?\",\n",
    "    \"In welchen Bereichen wird virtuelle Realität eingesetzt?\",\n",
    "    \"Wer war Tutanchamun?\",\n",
    "    \"Was untersucht die kognitive Psychologie?\",\n",
    "    \"Was sind die Folgen vulkanischer Aktivität?\",\n",
    "    \"Wie hat sich die Jazzmusik entwickelt?\",\n",
    "    \"Was sind die ethischen Herausforderungen bei Robotern?\",\n",
    "    \"Wie beeinflusst der Klimawandel arktische Ökosysteme?\",\n",
    "    \"Was sind die Risiken digitaler Währungen?\",\n",
    "    \"Welche Anwendungen hat die Nanotechnologie?\",\n",
    "    \"Was verbirgt sich in den Tiefen der Ozeane?\",\n",
    "    \"Wie verändert sich die politische Landschaft Afrikas?\",\n",
    "    \"Welche Arten von Meditationstechniken gibt es?\",\n",
    "    \"Wie funktioniert genetische Bearbeitung?\",\n",
    "    \"Wo wird urbaner Gartenbau betrieben?\",\n",
    "    \"Wie können Korallenriffe geschützt werden?\",\n",
    "    \"Was regelt das Weltraumrecht?\",\n",
    "    \"Wie kann man sich vor Cyberangriffen schützen?\",\n",
    "    \"Wer sind die Klimaflüchtlinge?\",\n",
    "    \"Kann künstliche Intelligenz kreativ sein?\",\n",
    "    \"Welche Herausforderungen gibt es beim Bergsteigen?\",\n",
    "    \"Was sind die Folgen von Plastikverschmutzung?\",\n",
    "    \"Wie lebten Menschen im antiken Griechenland?\",\n",
    "    \"Was können wir von Supernovae lernen?\",\n",
    "    \"Was sind die Grundprinzipien der indischen Philosophie?\",\n",
    "    \"Warum migrieren Tiere?\",\n",
    "    \"Warum ist Wildtierkonservierung wichtig?\",\n",
    "    \"Wie entwickelt sich Sprache bei Kindern?\",\n",
    "    ]\n",
    "\n",
    "querys_refinding = [\n",
    "    \"Max Frisch\", # Max Frisch - Der Kampf ums Ich\n",
    "    \"Wetterballons\", # Wetterballons - Datenspione des Himmels\n",
    "    \"Bayerischer Nationalpark\", # Der Nationalpark Bayerischer Wald - Alles Natur!\n",
    "    \"Taiwan\", # Taiwan - Ein Land im Konflikt der Mächte\n",
    "    \"Philosophie des Meeres\" # Die Philosophie des Meeres - Von Tiefen und Untiefen\n",
    "    \"Mayas\", # Die Maya - Mais, Pyramiden und Metropolen\n",
    "    \"Geschichte Augsburg\", #Reichsstadt Augsburg - Geschichte eines Aufstiegs\n",
    "    \"Gorbatschow\", # Michail Gorbatschow - Ein Generalsekretär als Reformer \n",
    "    \"Aal\", # Der Aal - Ein Fisch voller Rätsel\n",
    "    \"Selbstwert\"\n",
    "]\n",
    "\n",
    "refindings_answers = [\n",
    "    \"max-frisch-der-kampf-ums-ich-1.mp3\",\n",
    "    \"wetterballons-datenspione-des-himmels.mp3\",\n",
    "    \"der-nationalpark-bayerischer-wald-alles-natur.mp3\",\n",
    "    \"taiwan-ein-land-im-konflikt-der-maechte.mp3\",\n",
    "    \"die-philosophie-des-meeres-von-tiefen-und-untiefen.mp3\",\n",
    "    \"die-maya-mais-pyramiden-und-metropolen.mp3\",\n",
    "    \"reichsstadt-augsburg-geschichte-eines-aufstiegs.mp3\",\n",
    "    \"michail-gorbatschow-ein-generalsekretaer-als-reformer-1.mp3\",\n",
    "    \"der-aal-ein-fisch-voller-raetsel.mp3\",\n",
    "    \"selbstwert-mut-zur-schwaeche.mp3\"\n",
    "]\n",
    "\n",
    "query_answers = []\n",
    "\n",
    "embedding_models = [\"OPENAI\", \"MINI_LM\", \"TF_IDF\", \"VOYAGE\"]\n",
    "# embedding_models = [\"TF_IDF_MINI_LM\", \"LLAMA\"]\n",
    "\n",
    "segment_amounts = [1, 3, 10]"
   ]
  },
  {
   "cell_type": "code",
   "execution_count": 5,
   "metadata": {},
   "outputs": [],
   "source": [
    "system_string = \"\"\"\n",
    "    Du bewertest die Ausgabe eines Text Retrieval Systems.\n",
    "    Bewerte, wie gut die gefundenen Textabschnitte zu dem gestellten Thema passen.\n",
    "    Beachte dazu folgende Dinge und vergebe Punkte:\n",
    "    - Precision: Der Text enhält keine irrelevanten Informationen, die nicht zum Thema passen (0-5)\n",
    "    - Cohesion: Die einzelnen Textausschnitte passen Inhaltlich zusammen (0-2)  \n",
    "    - Uniqueness: Die Textausschnitte wiederholen keine Informationen (0-3)\n",
    "    Antworte in JSON Format mit zunächst einer Begründung \"Reason\", die aus einem Satz beseteht.\n",
    "    Antworte außerdem jeweils mit einem Score als Parameter \"Precision\", \"Cohesion\" und \"Uniqueness\".\n",
    "\"\"\"\n",
    "\n",
    "user_string = \"\"\"    \n",
    "    Textabschnitte: {documents}\n",
    "\n",
    "    -----------\n",
    "\n",
    "    Frage: {query}\"\"\""
   ]
  },
  {
   "cell_type": "code",
   "execution_count": 6,
   "metadata": {},
   "outputs": [
    {
     "name": "stdout",
     "output_type": "stream",
     "text": [
      "input_variables=['documents', 'query'] template='    \\n    Textabschnitte: {documents}\\n\\n    -----------\\n\\n    Frage: {query}'\n",
      "['documents', 'query']\n"
     ]
    }
   ],
   "source": [
    "user_template = ChatPromptTemplate.from_template(user_string)\n",
    "print(user_template.messages[0].prompt)\n",
    "print(user_template.messages[0].prompt.input_variables)"
   ]
  },
  {
   "cell_type": "code",
   "execution_count": 42,
   "metadata": {},
   "outputs": [
    {
     "data": {
      "text/plain": [
       "[HumanMessage(content='    \\n    Textabschnitte: stan, dipper, mable, mermando, soos, bill, pacifica, mc Gucket, schwabbel, lady soosan, grenda, candy, ziege, gnom, gideon, zeit-baby, wendy\\n\\n    -----------\\n\\n    Frage: Gravity Falls')]"
      ]
     },
     "execution_count": 42,
     "metadata": {},
     "output_type": "execute_result"
    }
   ],
   "source": [
    "user_prompt"
   ]
  },
  {
   "cell_type": "code",
   "execution_count": 7,
   "metadata": {},
   "outputs": [],
   "source": [
    "def gpt_evaluate_answer(documents, query):\n",
    "    user_prompt = user_template.format_messages(documents=documents,query =query)\n",
    "    res = chat.invoke(\n",
    "        [\n",
    "            SystemMessage(\n",
    "                content=system_string\n",
    "            ),\n",
    "            user_prompt[0]\n",
    "        ]\n",
    "    )\n",
    "    return res\n"
   ]
  },
  {
   "cell_type": "code",
   "execution_count": 16,
   "metadata": {},
   "outputs": [
    {
     "data": {
      "text/plain": [
       "{'Reason': 'Die Textabschnitte listen Charaktere und Wesen aus der Serie Gravity Falls auf und sind daher relevant und zusammenhängend.',\n",
       " 'Precision': 5,\n",
       " 'Cohesion': 2,\n",
       " 'Uniqueness': 3}"
      ]
     },
     "execution_count": 16,
     "metadata": {},
     "output_type": "execute_result"
    }
   ],
   "source": [
    "res = gpt_evaluate_answer(\"stan, dipper, mable, mermando, soos, bill, pacifica, mc Gucket, schwabbel, lady soosan, grenda, candy, ziege, gnom, gideon, zeit-baby, wendy\",\n",
    "                    \"Gravity Falls\")\n",
    "json.loads(res.content)"
   ]
  },
  {
   "cell_type": "code",
   "execution_count": 22,
   "metadata": {},
   "outputs": [],
   "source": [
    "evaluations = []"
   ]
  },
  {
   "cell_type": "code",
   "execution_count": 25,
   "metadata": {},
   "outputs": [
    {
     "name": "stderr",
     "output_type": "stream",
     "text": [
      "100%|██████████| 30/30 [04:06<00:00,  8.21s/it]\n",
      "100%|██████████| 434/434 [00:02<00:00, 201.75it/s]\n",
      "100%|██████████| 434/434 [00:01<00:00, 220.53it/s]\n",
      "100%|██████████| 434/434 [00:01<00:00, 254.50it/s]\n",
      "100%|██████████| 434/434 [00:01<00:00, 267.40it/s]\n",
      "100%|██████████| 434/434 [00:01<00:00, 281.93it/s]\n",
      "100%|██████████| 434/434 [00:02<00:00, 207.02it/s]\n",
      "100%|██████████| 434/434 [00:01<00:00, 227.45it/s]\n",
      "100%|██████████| 434/434 [00:01<00:00, 278.60it/s]\n",
      "100%|██████████| 434/434 [00:01<00:00, 227.72it/s]\n",
      "100%|██████████| 434/434 [00:01<00:00, 366.89it/s]\n",
      "100%|██████████| 434/434 [00:01<00:00, 296.55it/s]\n",
      "100%|██████████| 434/434 [00:02<00:00, 198.22it/s]\n",
      "100%|██████████| 434/434 [00:01<00:00, 327.16it/s]\n",
      "100%|██████████| 434/434 [00:01<00:00, 338.10it/s]\n",
      "100%|██████████| 434/434 [00:01<00:00, 410.43it/s]\n",
      "100%|██████████| 434/434 [00:01<00:00, 319.25it/s]\n",
      "100%|██████████| 434/434 [00:01<00:00, 299.54it/s]\n",
      "100%|██████████| 434/434 [00:01<00:00, 294.57it/s]\n",
      "100%|██████████| 434/434 [00:01<00:00, 329.09it/s]\n",
      "100%|██████████| 434/434 [00:01<00:00, 279.87it/s]\n",
      "100%|██████████| 434/434 [00:01<00:00, 409.30it/s]\n",
      "100%|██████████| 434/434 [00:01<00:00, 409.55it/s]\n",
      "100%|██████████| 434/434 [00:01<00:00, 405.87it/s]\n",
      "100%|██████████| 434/434 [00:01<00:00, 327.08it/s]\n",
      "100%|██████████| 434/434 [00:01<00:00, 270.67it/s]\n",
      "100%|██████████| 434/434 [00:01<00:00, 409.75it/s]\n",
      "100%|██████████| 434/434 [00:01<00:00, 328.80it/s]\n",
      "100%|██████████| 434/434 [00:01<00:00, 232.85it/s]\n",
      "100%|██████████| 434/434 [00:01<00:00, 326.04it/s]\n",
      "100%|██████████| 434/434 [00:01<00:00, 293.44it/s]\n",
      "100%|██████████| 30/30 [06:00<00:00, 12.02s/it]\n",
      "  0%|          | 0/30 [00:00<?, ?it/s]"
     ]
    },
    {
     "name": "stdout",
     "output_type": "stream",
     "text": [
      "Loading data file - /Users/br/Projects/Bachelorarbeit/data/german.dic\n"
     ]
    },
    {
     "name": "stderr",
     "output_type": "stream",
     "text": [
      "100%|██████████| 434/434 [00:01<00:00, 374.75it/s]\n",
      "  3%|▎         | 1/30 [00:15<07:16, 15.05s/it]"
     ]
    },
    {
     "name": "stdout",
     "output_type": "stream",
     "text": [
      "Loading data file - /Users/br/Projects/Bachelorarbeit/data/german.dic\n"
     ]
    },
    {
     "name": "stderr",
     "output_type": "stream",
     "text": [
      "100%|██████████| 434/434 [00:01<00:00, 315.58it/s]\n",
      "  7%|▋         | 2/30 [00:31<07:19, 15.71s/it]"
     ]
    },
    {
     "name": "stdout",
     "output_type": "stream",
     "text": [
      "Loading data file - /Users/br/Projects/Bachelorarbeit/data/german.dic\n"
     ]
    },
    {
     "name": "stderr",
     "output_type": "stream",
     "text": [
      "100%|██████████| 434/434 [00:01<00:00, 307.61it/s]\n",
      " 10%|█         | 3/30 [00:46<07:02, 15.65s/it]"
     ]
    },
    {
     "name": "stdout",
     "output_type": "stream",
     "text": [
      "Loading data file - /Users/br/Projects/Bachelorarbeit/data/german.dic\n"
     ]
    },
    {
     "name": "stderr",
     "output_type": "stream",
     "text": [
      "100%|██████████| 434/434 [00:01<00:00, 347.45it/s]\n",
      " 13%|█▎        | 4/30 [01:05<07:13, 16.67s/it]"
     ]
    },
    {
     "name": "stdout",
     "output_type": "stream",
     "text": [
      "Loading data file - /Users/br/Projects/Bachelorarbeit/data/german.dic\n"
     ]
    },
    {
     "name": "stderr",
     "output_type": "stream",
     "text": [
      "100%|██████████| 434/434 [00:01<00:00, 331.28it/s]\n",
      " 17%|█▋        | 5/30 [01:19<06:32, 15.71s/it]"
     ]
    },
    {
     "name": "stdout",
     "output_type": "stream",
     "text": [
      "Loading data file - /Users/br/Projects/Bachelorarbeit/data/german.dic\n"
     ]
    },
    {
     "name": "stderr",
     "output_type": "stream",
     "text": [
      "100%|██████████| 434/434 [00:01<00:00, 342.27it/s]\n",
      " 20%|██        | 6/30 [01:33<06:05, 15.25s/it]"
     ]
    },
    {
     "name": "stdout",
     "output_type": "stream",
     "text": [
      "Loading data file - /Users/br/Projects/Bachelorarbeit/data/german.dic\n"
     ]
    },
    {
     "name": "stderr",
     "output_type": "stream",
     "text": [
      "100%|██████████| 434/434 [00:01<00:00, 334.48it/s]\n",
      " 23%|██▎       | 7/30 [01:53<06:26, 16.82s/it]"
     ]
    },
    {
     "name": "stdout",
     "output_type": "stream",
     "text": [
      "Loading data file - /Users/br/Projects/Bachelorarbeit/data/german.dic\n"
     ]
    },
    {
     "name": "stderr",
     "output_type": "stream",
     "text": [
      "100%|██████████| 434/434 [00:01<00:00, 289.49it/s]\n",
      " 27%|██▋       | 8/30 [02:14<06:38, 18.12s/it]"
     ]
    },
    {
     "name": "stdout",
     "output_type": "stream",
     "text": [
      "Loading data file - /Users/br/Projects/Bachelorarbeit/data/german.dic\n"
     ]
    },
    {
     "name": "stderr",
     "output_type": "stream",
     "text": [
      "100%|██████████| 434/434 [00:01<00:00, 277.97it/s]\n",
      " 30%|███       | 9/30 [02:36<06:45, 19.31s/it]"
     ]
    },
    {
     "name": "stdout",
     "output_type": "stream",
     "text": [
      "Loading data file - /Users/br/Projects/Bachelorarbeit/data/german.dic\n"
     ]
    },
    {
     "name": "stderr",
     "output_type": "stream",
     "text": [
      "100%|██████████| 434/434 [00:01<00:00, 305.41it/s]\n",
      " 33%|███▎      | 10/30 [02:57<06:36, 19.83s/it]"
     ]
    },
    {
     "name": "stdout",
     "output_type": "stream",
     "text": [
      "Loading data file - /Users/br/Projects/Bachelorarbeit/data/german.dic\n"
     ]
    },
    {
     "name": "stderr",
     "output_type": "stream",
     "text": [
      "100%|██████████| 434/434 [00:01<00:00, 343.01it/s]\n",
      " 37%|███▋      | 11/30 [03:16<06:13, 19.65s/it]"
     ]
    },
    {
     "name": "stdout",
     "output_type": "stream",
     "text": [
      "Loading data file - /Users/br/Projects/Bachelorarbeit/data/german.dic\n"
     ]
    },
    {
     "name": "stderr",
     "output_type": "stream",
     "text": [
      "100%|██████████| 434/434 [00:01<00:00, 331.10it/s]\n",
      " 40%|████      | 12/30 [03:35<05:50, 19.50s/it]"
     ]
    },
    {
     "name": "stdout",
     "output_type": "stream",
     "text": [
      "Loading data file - /Users/br/Projects/Bachelorarbeit/data/german.dic\n"
     ]
    },
    {
     "name": "stderr",
     "output_type": "stream",
     "text": [
      "100%|██████████| 434/434 [00:01<00:00, 333.96it/s]\n",
      " 43%|████▎     | 13/30 [03:57<05:41, 20.07s/it]"
     ]
    },
    {
     "name": "stdout",
     "output_type": "stream",
     "text": [
      "Loading data file - /Users/br/Projects/Bachelorarbeit/data/german.dic\n"
     ]
    },
    {
     "name": "stderr",
     "output_type": "stream",
     "text": [
      "100%|██████████| 434/434 [00:02<00:00, 207.01it/s]\n",
      " 47%|████▋     | 14/30 [04:19<05:34, 20.90s/it]"
     ]
    },
    {
     "name": "stdout",
     "output_type": "stream",
     "text": [
      "Loading data file - /Users/br/Projects/Bachelorarbeit/data/german.dic\n"
     ]
    },
    {
     "name": "stderr",
     "output_type": "stream",
     "text": [
      "100%|██████████| 434/434 [00:02<00:00, 211.13it/s]\n",
      " 50%|█████     | 15/30 [04:40<05:14, 20.94s/it]"
     ]
    },
    {
     "name": "stdout",
     "output_type": "stream",
     "text": [
      "Loading data file - /Users/br/Projects/Bachelorarbeit/data/german.dic\n"
     ]
    },
    {
     "name": "stderr",
     "output_type": "stream",
     "text": [
      "100%|██████████| 434/434 [00:01<00:00, 280.71it/s]\n",
      " 53%|█████▎    | 16/30 [05:04<05:04, 21.73s/it]"
     ]
    },
    {
     "name": "stdout",
     "output_type": "stream",
     "text": [
      "Loading data file - /Users/br/Projects/Bachelorarbeit/data/german.dic\n"
     ]
    },
    {
     "name": "stderr",
     "output_type": "stream",
     "text": [
      "100%|██████████| 434/434 [00:02<00:00, 215.55it/s]\n",
      " 57%|█████▋    | 17/30 [05:25<04:39, 21.51s/it]"
     ]
    },
    {
     "name": "stdout",
     "output_type": "stream",
     "text": [
      "Loading data file - /Users/br/Projects/Bachelorarbeit/data/german.dic\n"
     ]
    },
    {
     "name": "stderr",
     "output_type": "stream",
     "text": [
      "100%|██████████| 434/434 [00:01<00:00, 313.58it/s]\n",
      " 60%|██████    | 18/30 [05:46<04:14, 21.23s/it]"
     ]
    },
    {
     "name": "stdout",
     "output_type": "stream",
     "text": [
      "Loading data file - /Users/br/Projects/Bachelorarbeit/data/german.dic\n"
     ]
    },
    {
     "name": "stderr",
     "output_type": "stream",
     "text": [
      "100%|██████████| 434/434 [00:01<00:00, 220.25it/s]\n",
      " 63%|██████▎   | 19/30 [06:05<03:46, 20.57s/it]"
     ]
    },
    {
     "name": "stdout",
     "output_type": "stream",
     "text": [
      "Loading data file - /Users/br/Projects/Bachelorarbeit/data/german.dic\n"
     ]
    },
    {
     "name": "stderr",
     "output_type": "stream",
     "text": [
      "100%|██████████| 434/434 [00:01<00:00, 334.46it/s]\n",
      " 67%|██████▋   | 20/30 [06:21<03:12, 19.25s/it]"
     ]
    },
    {
     "name": "stdout",
     "output_type": "stream",
     "text": [
      "Loading data file - /Users/br/Projects/Bachelorarbeit/data/german.dic\n"
     ]
    },
    {
     "name": "stderr",
     "output_type": "stream",
     "text": [
      "100%|██████████| 434/434 [00:01<00:00, 220.01it/s]\n",
      " 70%|███████   | 21/30 [06:38<02:47, 18.65s/it]"
     ]
    },
    {
     "name": "stdout",
     "output_type": "stream",
     "text": [
      "Loading data file - /Users/br/Projects/Bachelorarbeit/data/german.dic\n"
     ]
    },
    {
     "name": "stderr",
     "output_type": "stream",
     "text": [
      "100%|██████████| 434/434 [00:01<00:00, 339.20it/s]\n",
      " 73%|███████▎  | 22/30 [08:13<05:33, 41.65s/it]"
     ]
    },
    {
     "name": "stdout",
     "output_type": "stream",
     "text": [
      "Loading data file - /Users/br/Projects/Bachelorarbeit/data/german.dic\n"
     ]
    },
    {
     "name": "stderr",
     "output_type": "stream",
     "text": [
      "100%|██████████| 434/434 [00:01<00:00, 299.43it/s]\n",
      " 77%|███████▋  | 23/30 [08:33<04:05, 35.02s/it]"
     ]
    },
    {
     "name": "stdout",
     "output_type": "stream",
     "text": [
      "Loading data file - /Users/br/Projects/Bachelorarbeit/data/german.dic\n"
     ]
    },
    {
     "name": "stderr",
     "output_type": "stream",
     "text": [
      "100%|██████████| 434/434 [00:01<00:00, 303.26it/s]\n",
      " 80%|████████  | 24/30 [08:49<02:55, 29.31s/it]"
     ]
    },
    {
     "name": "stdout",
     "output_type": "stream",
     "text": [
      "Loading data file - /Users/br/Projects/Bachelorarbeit/data/german.dic\n"
     ]
    },
    {
     "name": "stderr",
     "output_type": "stream",
     "text": [
      "100%|██████████| 434/434 [00:01<00:00, 304.52it/s]\n",
      " 83%|████████▎ | 25/30 [09:04<02:04, 25.00s/it]"
     ]
    },
    {
     "name": "stdout",
     "output_type": "stream",
     "text": [
      "Loading data file - /Users/br/Projects/Bachelorarbeit/data/german.dic\n"
     ]
    },
    {
     "name": "stderr",
     "output_type": "stream",
     "text": [
      "100%|██████████| 434/434 [00:01<00:00, 294.01it/s]\n",
      " 87%|████████▋ | 26/30 [09:19<01:28, 22.17s/it]"
     ]
    },
    {
     "name": "stdout",
     "output_type": "stream",
     "text": [
      "Loading data file - /Users/br/Projects/Bachelorarbeit/data/german.dic\n"
     ]
    },
    {
     "name": "stderr",
     "output_type": "stream",
     "text": [
      "100%|██████████| 434/434 [00:01<00:00, 363.28it/s]\n",
      " 90%|█████████ | 27/30 [09:36<01:01, 20.58s/it]"
     ]
    },
    {
     "name": "stdout",
     "output_type": "stream",
     "text": [
      "Loading data file - /Users/br/Projects/Bachelorarbeit/data/german.dic\n"
     ]
    },
    {
     "name": "stderr",
     "output_type": "stream",
     "text": [
      "100%|██████████| 434/434 [00:02<00:00, 207.18it/s]\n",
      " 93%|█████████▎| 28/30 [09:52<00:38, 19.29s/it]"
     ]
    },
    {
     "name": "stdout",
     "output_type": "stream",
     "text": [
      "Loading data file - /Users/br/Projects/Bachelorarbeit/data/german.dic\n"
     ]
    },
    {
     "name": "stderr",
     "output_type": "stream",
     "text": [
      "100%|██████████| 434/434 [00:01<00:00, 247.14it/s]\n",
      " 97%|█████████▋| 29/30 [10:13<00:19, 19.61s/it]"
     ]
    },
    {
     "name": "stdout",
     "output_type": "stream",
     "text": [
      "Loading data file - /Users/br/Projects/Bachelorarbeit/data/german.dic\n"
     ]
    },
    {
     "name": "stderr",
     "output_type": "stream",
     "text": [
      "100%|██████████| 434/434 [00:01<00:00, 241.65it/s]\n",
      "100%|██████████| 30/30 [10:40<00:00, 21.35s/it]\n",
      "100%|██████████| 30/30 [05:48<00:00, 11.63s/it]\n"
     ]
    }
   ],
   "source": [
    "for embedding_model in embedding_models:\n",
    "    for query in tqdm(querys_questions):\n",
    "        # for segment_amount in segment_amounts:\n",
    "            segment_amount = 10\n",
    "            documents = get_most_similar_segments(embedding_model, query, segment_amount, 5, False)\n",
    "            \n",
    "\n",
    "            response = gpt_evaluate_answer(documents, query)\n",
    "            result = json.loads(response.content)\n",
    "\n",
    "            result[\"segment_list_json\"] = json.dumps([row[\"sentence\"] for _, row in documents.iterrows()])\n",
    "            result[\"filename_list_json\"] = json.dumps([row[\"filename\"] for _, row in documents.iterrows()])\n",
    "\n",
    "            result[\"embedding_model\"] = embedding_model\n",
    "            result[\"query\"] = query\n",
    "            result[\"segment_amount\"] = segment_amount\n",
    "            evaluations.append(result)\n"
   ]
  },
  {
   "cell_type": "code",
   "execution_count": 11,
   "metadata": {},
   "outputs": [
    {
     "data": {
      "text/plain": [
       "120"
      ]
     },
     "execution_count": 11,
     "metadata": {},
     "output_type": "execute_result"
    }
   ],
   "source": [
    "len(evaluations)"
   ]
  },
  {
   "cell_type": "code",
   "execution_count": 12,
   "metadata": {},
   "outputs": [
    {
     "data": {
      "text/plain": [
       "{'Reason': 'Die Mehrheit der Textabschnitte befasst sich direkt mit dem Thema Mauerfall und der deutschen Wiedervereinigung, jedoch sind einige Abschnitte thematisch nicht direkt zugehörig.',\n",
       " 'Precision': 4,\n",
       " 'Cohesion': 1,\n",
       " 'Uniqueness': 2,\n",
       " 'segment_list_json': '[\"Die DDR hat von sofort an ihre Grenzen zum Bundesgebiet und nach Westberlin bis auf weiteres ge\\\\u00f6ffnet. Wo warst du, als die Mauer fiel? Eine oft gestellte Frage. Und jeder, der die Zeiten damals miterlebte, kann sich ganz genau daran erinnern, wo er war, was er dachte, was er f\\\\u00fchlte, als die unglaubliche Nachricht kam.\", \"Der interne Widerstand w\\\\u00e4chst, auch der Druck von au\\\\u00dfen. Ende der 1980er Jahre f\\\\u00e4llt die Mauer. Das Apartheitregime verliert die letzten kalten Krieger an seiner Seite. Die b\\\\u00fcrokratische Trennung nach Hautfarbe in allen Lebensbereichen verschlingt Unsummen.\", \"9. November 1989. Die Berliner Mauer f\\\\u00e4llt. Ohne Gorbatschow w\\\\u00e4re das nicht m\\\\u00f6glich geworden. Er ist unbestreitbar derjenige, der Osteuropa vom Kommunismus befreit.\", \"Wie schwierig es ist, sie wieder abzubauen , zeigt dabei nicht zuletzt die Geschichte der Mauer, die fast 30 Jahre Deutschland in Ost und West teilte. Dass es auch anders geht, so Tr\\\\u00e4nhardt, habe die Europ\\\\u00e4ische Union zumindest in der Vergangenheit bewiesen. Ich muss daran erinnern, dass das Pro -Kopf -Einkommen in Spanien um 1950 niedriger war als das in Mexiko.\", \"Na ja, da gibt es nat\\\\u00fcrlich schon einen Zusammenhang zu dem zweiten riesigen Thema. Das ist schon der Mauerfall vom 9. November 1989. Das war Radio Wissen. Ein Podcast von Bayern\", \"1789 k\\\\u00e4mpften Bauern, B\\\\u00fcrger und Handwerker w\\\\u00e4hrend der franz\\\\u00f6sischen Revolution f\\\\u00fcr ihre Menschen - und Freiheitsrechte. 200 Jahre sp\\\\u00e4ter bringen Massendemonstrationen in der DDR die Mauer zum Einsturz und leiten die deutsche Wiedervereinigung ein. So ist Widerstand auch Motor der Geschichte, der Entwicklungen und Ver\\\\u00e4nderungen in Gang setzt. Wenn jemand sich nicht wehrt, aber selber auch komplett zufrieden ist mit sich, seinem Leben, seiner Umfeld, seiner Arbeit, dann finde ich das nicht unbedingt kritikbed\\\\u00fcrftig, wenn die Person selber zufrieden f\\\\u00fcr sich ist.\", \"Jetzt aber, im Jahr 2006, als sich die beiden in Berlin wiedersehen, m\\\\u00f6chte der inzwischen geschiedene Andreas, die inzwischen ebenfalls getrennte Marina, endlich heiraten. Die Mauer ist niedergerissen, die Sowjetunion zerfallen, die Zeiten haben sich ge\\\\u00e4ndert. Und die Menschen in Russland? Marina konstatiert.\", \"Er war damals Professor f\\\\u00fcr Volkswirtschaftslehre an der Fernuniversit\\\\u00e4t Hagen und Mitglied des Sachverst\\\\u00e4ndigenrats, der die Bundesregierung ber\\\\u00e4t. Nach dem Fall der Mauer im November 1989 war die gro\\\\u00dfe Frage, wie geht es weiter mit dem geteilten Deutschland? K\\\\u00f6nnte es eine Wiedervereinigung geben? Aber noch bevor die politische Einheit beschlossen war, kam die W\\\\u00e4hrungsunion.\", \"Das war der Anfang vom Ende der DDR. Doch erst der Mauerfall in Berlin am 9. November 1989 gilt als das Symbol der Wende. Denn die Trennung Berlins durch die Mauer war das Zeichen f\\\\u00fcr den erbitterten Kampf zwischen den politischen Systemen in Ost und West. Doch nicht nur die DDR verschwand mit dem Fall der Mauer.\", \"Und man muss nat\\\\u00fcrlich auch sagen, das Auseinanderleben der Deutschen hatte ja schon fr\\\\u00fcher begonnen. Mitte der 50er Jahre w\\\\u00fcrde ich sagen und ein sehr wichtigerer Einschnitt war dann 1961 der Bau der Berliner Mauer. Und da kann man nat\\\\u00fcrlich dann hinterher sagen, die Entspannungspolitik hat diesen Trend ein St\\\\u00fcck weit verst\\\\u00e4rkt im Westen. Aber es gibt auch die andere Seite.\"]',\n",
       " 'filename_list_json': '[\"die-deutsche-wiedervereinigung-wir-sind-ein-volk-1.mp3\", \"wahrheitskommission-in-suedafrika-eine-moeglichkeit-der-aussoehnung-1.mp3\", \"michail-gorbatschow-ein-generalsekretaer-als-reformer-1.mp3\", \"mauern-und-grenzen-warum-staaten-sich-abschotten.mp3\", \"die-80er-jahre-in-der-brd-von-pershings-und-yuppies.mp3\", \"das-recht-auf-widerstand-wer-sich-nicht-wehrt-1.mp3\", \"erfolgsautorinnen-aus-dem-osten-russisch-zaehlen-deutsch-schreiben.mp3\", \"die-waehrungsunion-d-mark-fuer-den-osten.mp3\", \"das-alte-west-berlin-leben-hinter-der-mauer-1.mp3\", \"brd-und-ddr-sich-fremd-geworden-1.mp3\"]',\n",
       " 'embedding_model': 'OPENAI',\n",
       " 'query': 'Mauerfall Geschichte',\n",
       " 'segment_amount': 10}"
      ]
     },
     "execution_count": 12,
     "metadata": {},
     "output_type": "execute_result"
    }
   ],
   "source": [
    "evaluations[0]"
   ]
  },
  {
   "cell_type": "code",
   "execution_count": 21,
   "metadata": {},
   "outputs": [],
   "source": [
    "import pandas as pd"
   ]
  },
  {
   "cell_type": "code",
   "execution_count": 14,
   "metadata": {},
   "outputs": [],
   "source": [
    "df = pd.DataFrame(evaluations)"
   ]
  },
  {
   "cell_type": "code",
   "execution_count": 103,
   "metadata": {},
   "outputs": [
    {
     "data": {
      "text/plain": [
       "Reason             object\n",
       "Precision           int64\n",
       "Cohesion            int64\n",
       "Uniqueness          int64\n",
       "embedding_model    object\n",
       "query              object\n",
       "segment_amount      int64\n",
       "dtype: object"
      ]
     },
     "execution_count": 103,
     "metadata": {},
     "output_type": "execute_result"
    }
   ],
   "source": [
    "df.dtypes"
   ]
  },
  {
   "cell_type": "code",
   "execution_count": 105,
   "metadata": {},
   "outputs": [
    {
     "data": {
      "text/html": [
       "<div>\n",
       "<style scoped>\n",
       "    .dataframe tbody tr th:only-of-type {\n",
       "        vertical-align: middle;\n",
       "    }\n",
       "\n",
       "    .dataframe tbody tr th {\n",
       "        vertical-align: top;\n",
       "    }\n",
       "\n",
       "    .dataframe thead th {\n",
       "        text-align: right;\n",
       "    }\n",
       "</style>\n",
       "<table border=\"1\" class=\"dataframe\">\n",
       "  <thead>\n",
       "    <tr style=\"text-align: right;\">\n",
       "      <th></th>\n",
       "      <th>Reason</th>\n",
       "      <th>Precision</th>\n",
       "      <th>Cohesion</th>\n",
       "      <th>Uniqueness</th>\n",
       "      <th>embedding_model</th>\n",
       "      <th>query</th>\n",
       "      <th>segment_amount</th>\n",
       "    </tr>\n",
       "  </thead>\n",
       "  <tbody>\n",
       "    <tr>\n",
       "      <th>0</th>\n",
       "      <td>Die Textabschnitte passen gut zum Thema Oktobe...</td>\n",
       "      <td>5</td>\n",
       "      <td>2</td>\n",
       "      <td>3</td>\n",
       "      <td>OPENAI</td>\n",
       "      <td>Oktoberfest</td>\n",
       "      <td>1</td>\n",
       "    </tr>\n",
       "    <tr>\n",
       "      <th>1</th>\n",
       "      <td>Die gefundenen Textabschnitte passen gut zum T...</td>\n",
       "      <td>5</td>\n",
       "      <td>2</td>\n",
       "      <td>3</td>\n",
       "      <td>OPENAI</td>\n",
       "      <td>Oktoberfest</td>\n",
       "      <td>3</td>\n",
       "    </tr>\n",
       "    <tr>\n",
       "      <th>2</th>\n",
       "      <td>Die gefundenen Textabschnitte passen nur teilw...</td>\n",
       "      <td>3</td>\n",
       "      <td>1</td>\n",
       "      <td>2</td>\n",
       "      <td>OPENAI</td>\n",
       "      <td>Oktoberfest</td>\n",
       "      <td>10</td>\n",
       "    </tr>\n",
       "    <tr>\n",
       "      <th>3</th>\n",
       "      <td>Der gefundene Textabschnitt bezieht sich nicht...</td>\n",
       "      <td>0</td>\n",
       "      <td>0</td>\n",
       "      <td>3</td>\n",
       "      <td>OPENAI</td>\n",
       "      <td>Nürnberger Prozesse</td>\n",
       "      <td>1</td>\n",
       "    </tr>\n",
       "    <tr>\n",
       "      <th>4</th>\n",
       "      <td>Die gefundenen Textabschnitte passen gut zum T...</td>\n",
       "      <td>4</td>\n",
       "      <td>2</td>\n",
       "      <td>3</td>\n",
       "      <td>OPENAI</td>\n",
       "      <td>Nürnberger Prozesse</td>\n",
       "      <td>3</td>\n",
       "    </tr>\n",
       "    <tr>\n",
       "      <th>...</th>\n",
       "      <td>...</td>\n",
       "      <td>...</td>\n",
       "      <td>...</td>\n",
       "      <td>...</td>\n",
       "      <td>...</td>\n",
       "      <td>...</td>\n",
       "      <td>...</td>\n",
       "    </tr>\n",
       "    <tr>\n",
       "      <th>58</th>\n",
       "      <td>Die gefundenen Textabschnitte passen gut zum T...</td>\n",
       "      <td>4</td>\n",
       "      <td>2</td>\n",
       "      <td>3</td>\n",
       "      <td>TF_IDF</td>\n",
       "      <td>Kreislaufsystem</td>\n",
       "      <td>3</td>\n",
       "    </tr>\n",
       "    <tr>\n",
       "      <th>59</th>\n",
       "      <td>Die gefundenen Textabschnitte passen gut zum T...</td>\n",
       "      <td>5</td>\n",
       "      <td>2</td>\n",
       "      <td>3</td>\n",
       "      <td>TF_IDF</td>\n",
       "      <td>Kreislaufsystem</td>\n",
       "      <td>10</td>\n",
       "    </tr>\n",
       "    <tr>\n",
       "      <th>60</th>\n",
       "      <td>Die gefundenen Textabschnitte passen gut zum T...</td>\n",
       "      <td>5</td>\n",
       "      <td>2</td>\n",
       "      <td>3</td>\n",
       "      <td>TF_IDF</td>\n",
       "      <td>Tennisprofi</td>\n",
       "      <td>1</td>\n",
       "    </tr>\n",
       "    <tr>\n",
       "      <th>61</th>\n",
       "      <td>Die gefundenen Textabschnitte passen nicht gut...</td>\n",
       "      <td>2</td>\n",
       "      <td>0</td>\n",
       "      <td>3</td>\n",
       "      <td>TF_IDF</td>\n",
       "      <td>Tennisprofi</td>\n",
       "      <td>3</td>\n",
       "    </tr>\n",
       "    <tr>\n",
       "      <th>62</th>\n",
       "      <td>Die gefundenen Textabschnitte drehen sich alle...</td>\n",
       "      <td>5</td>\n",
       "      <td>2</td>\n",
       "      <td>2</td>\n",
       "      <td>TF_IDF</td>\n",
       "      <td>Tennisprofi</td>\n",
       "      <td>10</td>\n",
       "    </tr>\n",
       "  </tbody>\n",
       "</table>\n",
       "<p>63 rows × 7 columns</p>\n",
       "</div>"
      ],
      "text/plain": [
       "                                               Reason  Precision  Cohesion  \\\n",
       "0   Die Textabschnitte passen gut zum Thema Oktobe...          5         2   \n",
       "1   Die gefundenen Textabschnitte passen gut zum T...          5         2   \n",
       "2   Die gefundenen Textabschnitte passen nur teilw...          3         1   \n",
       "3   Der gefundene Textabschnitt bezieht sich nicht...          0         0   \n",
       "4   Die gefundenen Textabschnitte passen gut zum T...          4         2   \n",
       "..                                                ...        ...       ...   \n",
       "58  Die gefundenen Textabschnitte passen gut zum T...          4         2   \n",
       "59  Die gefundenen Textabschnitte passen gut zum T...          5         2   \n",
       "60  Die gefundenen Textabschnitte passen gut zum T...          5         2   \n",
       "61  Die gefundenen Textabschnitte passen nicht gut...          2         0   \n",
       "62  Die gefundenen Textabschnitte drehen sich alle...          5         2   \n",
       "\n",
       "    Uniqueness embedding_model                query  segment_amount  \n",
       "0            3          OPENAI          Oktoberfest               1  \n",
       "1            3          OPENAI          Oktoberfest               3  \n",
       "2            2          OPENAI          Oktoberfest              10  \n",
       "3            3          OPENAI  Nürnberger Prozesse               1  \n",
       "4            3          OPENAI  Nürnberger Prozesse               3  \n",
       "..         ...             ...                  ...             ...  \n",
       "58           3          TF_IDF      Kreislaufsystem               3  \n",
       "59           3          TF_IDF      Kreislaufsystem              10  \n",
       "60           3          TF_IDF          Tennisprofi               1  \n",
       "61           3          TF_IDF          Tennisprofi               3  \n",
       "62           2          TF_IDF          Tennisprofi              10  \n",
       "\n",
       "[63 rows x 7 columns]"
      ]
     },
     "execution_count": 105,
     "metadata": {},
     "output_type": "execute_result"
    }
   ],
   "source": [
    "df"
   ]
  },
  {
   "cell_type": "code",
   "execution_count": 18,
   "metadata": {},
   "outputs": [
    {
     "data": {
      "text/plain": [
       "63"
      ]
     },
     "execution_count": 18,
     "metadata": {},
     "output_type": "execute_result"
    }
   ],
   "source": [
    "df[df[\"embedding_model\"] == \"OPENAI\"][\"Precision\"].sum()"
   ]
  },
  {
   "cell_type": "code",
   "execution_count": 19,
   "metadata": {},
   "outputs": [
    {
     "data": {
      "text/plain": [
       "75"
      ]
     },
     "execution_count": 19,
     "metadata": {},
     "output_type": "execute_result"
    }
   ],
   "source": [
    "df[df[\"embedding_model\"] == \"MINI_LM\"][\"Precision\"].sum()"
   ]
  },
  {
   "cell_type": "code",
   "execution_count": 20,
   "metadata": {},
   "outputs": [
    {
     "data": {
      "text/plain": [
       "83"
      ]
     },
     "execution_count": 20,
     "metadata": {},
     "output_type": "execute_result"
    }
   ],
   "source": [
    "df[df[\"embedding_model\"] == \"TF_IDF\"][\"Precision\"].sum()"
   ]
  },
  {
   "cell_type": "code",
   "execution_count": 21,
   "metadata": {},
   "outputs": [
    {
     "data": {
      "text/plain": [
       "45"
      ]
     },
     "execution_count": 21,
     "metadata": {},
     "output_type": "execute_result"
    }
   ],
   "source": [
    "df[df[\"embedding_model\"] == \"VOYAGE\"][\"Precision\"].sum()"
   ]
  },
  {
   "cell_type": "code",
   "execution_count": 18,
   "metadata": {},
   "outputs": [],
   "source": [
    "from db_connect import db_save_df"
   ]
  },
  {
   "cell_type": "code",
   "execution_count": 17,
   "metadata": {},
   "outputs": [],
   "source": [
    "db_save_df(df, \"evaluation_questions\")"
   ]
  },
  {
   "cell_type": "code",
   "execution_count": null,
   "metadata": {},
   "outputs": [],
   "source": [
    "get_most_similar_segments(\"OPENAI\")"
   ]
  },
  {
   "cell_type": "markdown",
   "metadata": {},
   "source": [
    "## Re-finding Evaluation"
   ]
  },
  {
   "cell_type": "code",
   "execution_count": 7,
   "metadata": {},
   "outputs": [],
   "source": [
    "df = db_get_df(\"transcript_sentences\")\n",
    "\n",
    "filenames = df[\"filename\"].unique()"
   ]
  },
  {
   "cell_type": "code",
   "execution_count": 8,
   "metadata": {},
   "outputs": [
    {
     "data": {
      "text/plain": [
       "array(['die-ziege-von-der-kuh-des-kleinen-mannes-zur-kaschmirziege.mp3',\n",
       "       'koerperwaesche-das-richtige-mass-an-hygiene.mp3',\n",
       "       'die-wechseljahre-wandel-in-der-lebensmitte.mp3',\n",
       "       'tattoo-piercing-und-koerperschmuck-was-hautzeichen-sagen.mp3',\n",
       "       'der-kampf-gegen-pocken-die-erste-impfung-der-geschichte-1.mp3',\n",
       "       'der-marshall-plan-hilfe-zur-selbsthilfe-1.mp3',\n",
       "       'der-warschauer-pakt-verteidigungsbuendnis-des-ostens.mp3',\n",
       "       'vincent-van-gogh-begruender-der-modernen-malerei.mp3',\n",
       "       'regenerative-kulturen-viel-mehr-als-nachhaltig-1.mp3',\n",
       "       'andy-warhol-pop-oder-art.mp3',\n",
       "       'die-macht-des-geruechts-fluesterpost-und-nachrede.mp3',\n",
       "       'das-fruehe-radio-zwischen-aufklaerung-und-propaganda.mp3',\n",
       "       'der-eiffelturm-ikone-der-moderne.mp3',\n",
       "       'jugendbewegungen-in-der-weimarer-republik-romantik-und-rebellion-1.mp3',\n",
       "       'selbstwert-mut-zur-schwaeche.mp3',\n",
       "       'velo-radl-mountainbike-ein-gefaehrt-und-seine-geschichte-1.mp3',\n",
       "       'deutschland-im-kalten-krieg-opfer-akteur-profiteur.mp3',\n",
       "       'jakob-wassermann-der-fast-vergessene-weltstar-des-romans.mp3',\n",
       "       'wilhelm-hoegner-ministerpraesident-auf-befehl-1.mp3',\n",
       "       'charles-dickens-leben-und-werk.mp3'], dtype=object)"
      ]
     },
     "execution_count": 8,
     "metadata": {},
     "output_type": "execute_result"
    }
   ],
   "source": [
    "filenames[30:50]"
   ]
  },
  {
   "cell_type": "code",
   "execution_count": 9,
   "metadata": {},
   "outputs": [],
   "source": [
    "querys_refinding = [\n",
    "    \"Max Frisch\", # Max Frisch - Der Kampf ums Ich\n",
    "    \"Wetterballons\", # Wetterballons - Datenspione des Himmels\n",
    "    \"Bayerischer Nationalpark\", # Der Nationalpark Bayerischer Wald - Alles Natur!\n",
    "    \"Taiwan\", # Taiwan - Ein Land im Konflikt der Mächte\n",
    "    \"Philosophie des Meeres\" # Die Philosophie des Meeres - Von Tiefen und Untiefen\n",
    "    \"Mayas\", # Die Maya - Mais, Pyramiden und Metropolen\n",
    "    \"Geschichte Augsburg\", #Reichsstadt Augsburg - Geschichte eines Aufstiegs\n",
    "    \"Gorbatschow\", # Michail Gorbatschow - Ein Generalsekretär als Reformer \n",
    "    \"Aal\", # Der Aal - Ein Fisch voller Rätsel\n",
    "    \"Selbstwert\"\n",
    "]\n",
    "\n",
    "refindings_answers = [\n",
    "    \"max-frisch-der-kampf-ums-ich-1.mp3\",\n",
    "    \"wetterballons-datenspione-des-himmels.mp3\",\n",
    "    \"der-nationalpark-bayerischer-wald-alles-natur.mp3\",\n",
    "    \"taiwan-ein-land-im-konflikt-der-maechte.mp3\",\n",
    "    \"die-philosophie-des-meeres-von-tiefen-und-untiefen.mp3\",\n",
    "    \"die-maya-mais-pyramiden-und-metropolen.mp3\",\n",
    "    \"reichsstadt-augsburg-geschichte-eines-aufstiegs.mp3\",\n",
    "    \"michail-gorbatschow-ein-generalsekretaer-als-reformer-1.mp3\",\n",
    "    \"der-aal-ein-fisch-voller-raetsel.mp3\",\n",
    "    \"selbstwert-mut-zur-schwaeche.mp3\"\n",
    "]"
   ]
  },
  {
   "cell_type": "code",
   "execution_count": 25,
   "metadata": {},
   "outputs": [],
   "source": [
    "querys_refinding = [\n",
    "\"Kaschmirziege\",\n",
    "\"Körperhygiene\",\n",
    "\"Wechseljahre\",\n",
    "\"Hautschmuck\",\n",
    "\"Pockenimpfung\",\n",
    "\"Marshall-Plan\",\n",
    "\"Warschauer-Pakt\",\n",
    "\"Van Gogh\",\n",
    "\"Regenerativ\",\n",
    "\"Warhol\",\n",
    "\"Gerüchte\",\n",
    "\"Frühradio\",\n",
    "\"Eiffelturm\",\n",
    "\"Jugendbewegungen\",\n",
    "\"Selbstwert\",\n",
    "\"Fahrradgeschichte\",\n",
    "\"Kalter Krieg\",\n",
    "\"Wassermann\",\n",
    "\"Hoegner\",\n",
    "\"Dickens\",\n",
    "]\n",
    "\n",
    "refindings_answers = [\n",
    "    'die-ziege-von-der-kuh-des-kleinen-mannes-zur-kaschmirziege.mp3',\n",
    "       'koerperwaesche-das-richtige-mass-an-hygiene.mp3',\n",
    "       'die-wechseljahre-wandel-in-der-lebensmitte.mp3',\n",
    "       'tattoo-piercing-und-koerperschmuck-was-hautzeichen-sagen.mp3',\n",
    "       'der-kampf-gegen-pocken-die-erste-impfung-der-geschichte-1.mp3',\n",
    "       'der-marshall-plan-hilfe-zur-selbsthilfe-1.mp3',\n",
    "       'der-warschauer-pakt-verteidigungsbuendnis-des-ostens.mp3',\n",
    "       'vincent-van-gogh-begruender-der-modernen-malerei.mp3',\n",
    "       'regenerative-kulturen-viel-mehr-als-nachhaltig-1.mp3',\n",
    "       'andy-warhol-pop-oder-art.mp3',\n",
    "       'die-macht-des-geruechts-fluesterpost-und-nachrede.mp3',\n",
    "       'das-fruehe-radio-zwischen-aufklaerung-und-propaganda.mp3',\n",
    "       'der-eiffelturm-ikone-der-moderne.mp3',\n",
    "       'jugendbewegungen-in-der-weimarer-republik-romantik-und-rebellion-1.mp3',\n",
    "       'selbstwert-mut-zur-schwaeche.mp3',\n",
    "       'velo-radl-mountainbike-ein-gefaehrt-und-seine-geschichte-1.mp3',\n",
    "       'deutschland-im-kalten-krieg-opfer-akteur-profiteur.mp3',\n",
    "       'jakob-wassermann-der-fast-vergessene-weltstar-des-romans.mp3',\n",
    "       'wilhelm-hoegner-ministerpraesident-auf-befehl-1.mp3',\n",
    "       'charles-dickens-leben-und-werk.mp3'\n",
    "]"
   ]
  },
  {
   "cell_type": "code",
   "execution_count": 16,
   "metadata": {},
   "outputs": [],
   "source": [
    "results = []"
   ]
  },
  {
   "cell_type": "code",
   "execution_count": 26,
   "metadata": {},
   "outputs": [
    {
     "name": "stderr",
     "output_type": "stream",
     "text": [
      "20it [01:19,  3.98s/it]\n",
      "100%|██████████| 434/434 [00:01<00:00, 336.23it/s]\n",
      "100%|██████████| 434/434 [00:01<00:00, 381.27it/s]\n",
      "100%|██████████| 434/434 [00:01<00:00, 379.89it/s]\n",
      "100%|██████████| 434/434 [00:01<00:00, 380.48it/s]\n",
      "100%|██████████| 434/434 [00:01<00:00, 373.65it/s]\n",
      "100%|██████████| 434/434 [00:01<00:00, 378.81it/s]\n",
      "100%|██████████| 434/434 [00:01<00:00, 380.25it/s]\n",
      "100%|██████████| 434/434 [00:01<00:00, 373.91it/s]\n",
      "100%|██████████| 434/434 [00:01<00:00, 341.38it/s]\n",
      "100%|██████████| 434/434 [00:01<00:00, 374.20it/s]\n",
      "100%|██████████| 434/434 [00:01<00:00, 371.74it/s]\n",
      "100%|██████████| 434/434 [00:01<00:00, 314.41it/s]\n",
      "100%|██████████| 434/434 [00:01<00:00, 272.85it/s]\n",
      "100%|██████████| 434/434 [00:01<00:00, 247.32it/s]\n",
      "100%|██████████| 434/434 [00:01<00:00, 239.91it/s]\n",
      "100%|██████████| 434/434 [00:02<00:00, 193.43it/s]\n",
      "100%|██████████| 434/434 [00:03<00:00, 136.97it/s]\n",
      "100%|██████████| 434/434 [00:01<00:00, 366.85it/s]\n",
      "100%|██████████| 434/434 [00:01<00:00, 339.73it/s]\n",
      "100%|██████████| 434/434 [00:02<00:00, 183.99it/s]\n",
      "20it [01:56,  5.80s/it]\n",
      "0it [00:00, ?it/s]"
     ]
    },
    {
     "name": "stdout",
     "output_type": "stream",
     "text": [
      "Loading data file - /Users/br/Projects/Bachelorarbeit/data/german.dic\n"
     ]
    },
    {
     "name": "stderr",
     "output_type": "stream",
     "text": [
      "100%|██████████| 434/434 [00:01<00:00, 281.79it/s]\n",
      "1it [00:13, 13.46s/it]"
     ]
    },
    {
     "name": "stdout",
     "output_type": "stream",
     "text": [
      "Loading data file - /Users/br/Projects/Bachelorarbeit/data/german.dic\n"
     ]
    },
    {
     "name": "stderr",
     "output_type": "stream",
     "text": [
      "100%|██████████| 434/434 [00:01<00:00, 268.22it/s]\n",
      "2it [00:26, 13.42s/it]"
     ]
    },
    {
     "name": "stdout",
     "output_type": "stream",
     "text": [
      "Loading data file - /Users/br/Projects/Bachelorarbeit/data/german.dic\n"
     ]
    },
    {
     "name": "stderr",
     "output_type": "stream",
     "text": [
      "100%|██████████| 434/434 [00:01<00:00, 335.77it/s]\n",
      "3it [00:38, 12.71s/it]"
     ]
    },
    {
     "name": "stdout",
     "output_type": "stream",
     "text": [
      "Loading data file - /Users/br/Projects/Bachelorarbeit/data/german.dic\n"
     ]
    },
    {
     "name": "stderr",
     "output_type": "stream",
     "text": [
      "100%|██████████| 434/434 [00:01<00:00, 269.32it/s]\n",
      "4it [00:51, 12.73s/it]"
     ]
    },
    {
     "name": "stdout",
     "output_type": "stream",
     "text": [
      "Loading data file - /Users/br/Projects/Bachelorarbeit/data/german.dic\n"
     ]
    },
    {
     "name": "stderr",
     "output_type": "stream",
     "text": [
      "100%|██████████| 434/434 [00:02<00:00, 216.51it/s]\n",
      "5it [01:04, 12.87s/it]"
     ]
    },
    {
     "name": "stdout",
     "output_type": "stream",
     "text": [
      "Loading data file - /Users/br/Projects/Bachelorarbeit/data/german.dic\n"
     ]
    },
    {
     "name": "stderr",
     "output_type": "stream",
     "text": [
      "100%|██████████| 434/434 [00:01<00:00, 265.05it/s]\n",
      "6it [01:18, 13.12s/it]"
     ]
    },
    {
     "name": "stdout",
     "output_type": "stream",
     "text": [
      "Loading data file - /Users/br/Projects/Bachelorarbeit/data/german.dic\n"
     ]
    },
    {
     "name": "stderr",
     "output_type": "stream",
     "text": [
      "100%|██████████| 434/434 [00:01<00:00, 306.09it/s]\n",
      "7it [01:30, 13.02s/it]"
     ]
    },
    {
     "name": "stdout",
     "output_type": "stream",
     "text": [
      "Loading data file - /Users/br/Projects/Bachelorarbeit/data/german.dic\n"
     ]
    },
    {
     "name": "stderr",
     "output_type": "stream",
     "text": [
      "100%|██████████| 434/434 [00:01<00:00, 268.41it/s]\n",
      "8it [02:10, 21.59s/it]"
     ]
    },
    {
     "name": "stdout",
     "output_type": "stream",
     "text": [
      "Loading data file - /Users/br/Projects/Bachelorarbeit/data/german.dic\n"
     ]
    },
    {
     "name": "stderr",
     "output_type": "stream",
     "text": [
      "100%|██████████| 434/434 [00:01<00:00, 296.51it/s]\n",
      "9it [02:21, 18.29s/it]"
     ]
    },
    {
     "name": "stdout",
     "output_type": "stream",
     "text": [
      "Loading data file - /Users/br/Projects/Bachelorarbeit/data/german.dic\n"
     ]
    },
    {
     "name": "stderr",
     "output_type": "stream",
     "text": [
      "100%|██████████| 434/434 [00:02<00:00, 171.75it/s]\n",
      "10it [02:34, 16.47s/it]"
     ]
    },
    {
     "name": "stdout",
     "output_type": "stream",
     "text": [
      "Loading data file - /Users/br/Projects/Bachelorarbeit/data/german.dic\n"
     ]
    },
    {
     "name": "stderr",
     "output_type": "stream",
     "text": [
      "100%|██████████| 434/434 [00:01<00:00, 237.12it/s]\n",
      "11it [02:46, 15.16s/it]"
     ]
    },
    {
     "name": "stdout",
     "output_type": "stream",
     "text": [
      "Loading data file - /Users/br/Projects/Bachelorarbeit/data/german.dic\n"
     ]
    },
    {
     "name": "stderr",
     "output_type": "stream",
     "text": [
      "100%|██████████| 434/434 [00:01<00:00, 254.13it/s]\n",
      "12it [02:59, 14.48s/it]"
     ]
    },
    {
     "name": "stdout",
     "output_type": "stream",
     "text": [
      "Loading data file - /Users/br/Projects/Bachelorarbeit/data/german.dic\n"
     ]
    },
    {
     "name": "stderr",
     "output_type": "stream",
     "text": [
      "100%|██████████| 434/434 [00:01<00:00, 301.15it/s]\n",
      "13it [03:13, 14.26s/it]"
     ]
    },
    {
     "name": "stdout",
     "output_type": "stream",
     "text": [
      "Loading data file - /Users/br/Projects/Bachelorarbeit/data/german.dic\n"
     ]
    },
    {
     "name": "stderr",
     "output_type": "stream",
     "text": [
      "100%|██████████| 434/434 [00:01<00:00, 255.06it/s]\n",
      "14it [03:26, 14.10s/it]"
     ]
    },
    {
     "name": "stdout",
     "output_type": "stream",
     "text": [
      "Loading data file - /Users/br/Projects/Bachelorarbeit/data/german.dic\n"
     ]
    },
    {
     "name": "stderr",
     "output_type": "stream",
     "text": [
      "100%|██████████| 434/434 [00:01<00:00, 285.44it/s]\n",
      "15it [03:39, 13.76s/it]"
     ]
    },
    {
     "name": "stdout",
     "output_type": "stream",
     "text": [
      "Loading data file - /Users/br/Projects/Bachelorarbeit/data/german.dic\n"
     ]
    },
    {
     "name": "stderr",
     "output_type": "stream",
     "text": [
      "100%|██████████| 434/434 [00:01<00:00, 301.47it/s]\n",
      "16it [03:53, 13.62s/it]"
     ]
    },
    {
     "name": "stdout",
     "output_type": "stream",
     "text": [
      "Loading data file - /Users/br/Projects/Bachelorarbeit/data/german.dic\n"
     ]
    },
    {
     "name": "stderr",
     "output_type": "stream",
     "text": [
      "100%|██████████| 434/434 [00:01<00:00, 302.97it/s]\n",
      "17it [04:05, 13.10s/it]"
     ]
    },
    {
     "name": "stdout",
     "output_type": "stream",
     "text": [
      "Loading data file - /Users/br/Projects/Bachelorarbeit/data/german.dic\n"
     ]
    },
    {
     "name": "stderr",
     "output_type": "stream",
     "text": [
      "100%|██████████| 434/434 [00:01<00:00, 303.26it/s]\n",
      "18it [04:18, 13.05s/it]"
     ]
    },
    {
     "name": "stdout",
     "output_type": "stream",
     "text": [
      "Loading data file - /Users/br/Projects/Bachelorarbeit/data/german.dic\n"
     ]
    },
    {
     "name": "stderr",
     "output_type": "stream",
     "text": [
      "100%|██████████| 434/434 [00:01<00:00, 311.00it/s]\n",
      "19it [04:31, 13.20s/it]"
     ]
    },
    {
     "name": "stdout",
     "output_type": "stream",
     "text": [
      "Loading data file - /Users/br/Projects/Bachelorarbeit/data/german.dic\n"
     ]
    },
    {
     "name": "stderr",
     "output_type": "stream",
     "text": [
      "100%|██████████| 434/434 [00:02<00:00, 174.72it/s]\n",
      "20it [04:48, 14.43s/it]\n",
      "20it [02:44,  8.22s/it]\n"
     ]
    }
   ],
   "source": [
    "for embedding_model in embedding_models:\n",
    "    for query, answer in tqdm(zip(querys_refinding, refindings_answers)):\n",
    "        # for segment_amount in segment_amounts:\n",
    "            segment_amount = 3\n",
    "            documents = get_most_similar_segments(embedding_model, query, segment_amount, 5, False)\n",
    "            result = {\n",
    "                \"model\": embedding_model,\n",
    "                \"query\": query,\n",
    "                \"score\": 0\n",
    "            }\n",
    "            if answer in documents[\"filename\"][0]:\n",
    "                result[\"score\"] = 3\n",
    "            elif answer in documents[\"filename\"][1]:\n",
    "                result[\"score\"] = 2\n",
    "            elif answer in documents[\"filename\"][2]:\n",
    "                result[\"score\"] = 1\n",
    "            results.append(result)\n",
    "                \n",
    "            \n"
   ]
  },
  {
   "cell_type": "code",
   "execution_count": 27,
   "metadata": {},
   "outputs": [],
   "source": [
    "df = pd.DataFrame(results)"
   ]
  },
  {
   "cell_type": "code",
   "execution_count": 28,
   "metadata": {},
   "outputs": [
    {
     "data": {
      "text/plain": [
       "model    object\n",
       "query    object\n",
       "score     int64\n",
       "dtype: object"
      ]
     },
     "execution_count": 28,
     "metadata": {},
     "output_type": "execute_result"
    }
   ],
   "source": [
    "df.dtypes"
   ]
  },
  {
   "cell_type": "code",
   "execution_count": 29,
   "metadata": {},
   "outputs": [],
   "source": [
    "from db_connect import db_append_df"
   ]
  },
  {
   "cell_type": "code",
   "execution_count": 30,
   "metadata": {},
   "outputs": [],
   "source": [
    "db_append_df(df, \"evaluation_re_finding\")"
   ]
  }
 ],
 "metadata": {
  "kernelspec": {
   "display_name": ".venv",
   "language": "python",
   "name": "python3"
  },
  "language_info": {
   "codemirror_mode": {
    "name": "ipython",
    "version": 3
   },
   "file_extension": ".py",
   "mimetype": "text/x-python",
   "name": "python",
   "nbconvert_exporter": "python",
   "pygments_lexer": "ipython3",
   "version": "3.8.10"
  }
 },
 "nbformat": 4,
 "nbformat_minor": 2
}
