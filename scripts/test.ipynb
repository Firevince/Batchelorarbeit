{
 "cells": [
  {
   "cell_type": "markdown",
   "metadata": {},
   "source": [
    "# Test Notebook"
   ]
  },
  {
   "cell_type": "markdown",
   "metadata": {},
   "source": [
    "In diesem Notebook werden alle Sachen geschrieben, die: \n",
    "- ausprobiert werden\n",
    "- gerade nicht mehr eingesetzt werden\n",
    "- Nur einmal für Datenverarbeitung benutzt werden, die nicht sein müsste"
   ]
  },
  {
   "cell_type": "markdown",
   "metadata": {},
   "source": [
    "## Server DB richtig formatieren\n"
   ]
  },
  {
   "cell_type": "code",
   "execution_count": 1,
   "metadata": {},
   "outputs": [
    {
     "ename": "OperationalError",
     "evalue": "unable to open database file",
     "output_type": "error",
     "traceback": [
      "\u001b[0;31m---------------------------------------------------------------------------\u001b[0m",
      "\u001b[0;31mOperationalError\u001b[0m                          Traceback (most recent call last)",
      "Cell \u001b[0;32mIn[1], line 5\u001b[0m\n\u001b[1;32m      2\u001b[0m \u001b[38;5;28;01mimport\u001b[39;00m \u001b[38;5;21;01mpandas\u001b[39;00m \u001b[38;5;28;01mas\u001b[39;00m \u001b[38;5;21;01mpd\u001b[39;00m\n\u001b[1;32m      3\u001b[0m \u001b[38;5;28;01mfrom\u001b[39;00m \u001b[38;5;21;01mdb_connect\u001b[39;00m \u001b[38;5;28;01mimport\u001b[39;00m db_get_df, db_save_df\n\u001b[0;32m----> 5\u001b[0m con \u001b[38;5;241m=\u001b[39m \u001b[43msqlite3\u001b[49m\u001b[38;5;241;43m.\u001b[39;49m\u001b[43mconnect\u001b[49m\u001b[43m(\u001b[49m\u001b[38;5;124;43m\"\u001b[39;49m\u001b[38;5;124;43m/Volumes/Samsung_T5/Backup/transcripts_all.sqlite\u001b[39;49m\u001b[38;5;124;43m\"\u001b[39;49m\u001b[43m)\u001b[49m\n\u001b[1;32m      6\u001b[0m df \u001b[38;5;241m=\u001b[39m pd\u001b[38;5;241m.\u001b[39mread_sql_query(\u001b[38;5;124mf\u001b[39m\u001b[38;5;124m\"\u001b[39m\u001b[38;5;124mSELECT * FROM transcript_word_level_2237\u001b[39m\u001b[38;5;124m\"\u001b[39m, con)\n\u001b[1;32m      7\u001b[0m con\u001b[38;5;241m.\u001b[39mclose()\n",
      "\u001b[0;31mOperationalError\u001b[0m: unable to open database file"
     ]
    }
   ],
   "source": [
    "import sqlite3\n",
    "import pandas as pd\n",
    "from db_connect import db_get_df, db_save_df\n",
    "\n",
    "con = sqlite3.connect(\"/Volumes/Samsung_T5/Backup/transcripts_all.sqlite\")\n",
    "df = pd.read_sql_query(f\"SELECT * FROM transcript_word_level_2237\", con)\n",
    "con.close()"
   ]
  },
  {
   "cell_type": "code",
   "execution_count": null,
   "metadata": {},
   "outputs": [],
   "source": [
    "len(df)"
   ]
  },
  {
   "cell_type": "code",
   "execution_count": null,
   "metadata": {},
   "outputs": [],
   "source": [
    "print(df.dtypes)\n",
    "print(df[\"filename\"].drop_duplicates(ignore_index=True))"
   ]
  },
  {
   "cell_type": "code",
   "execution_count": null,
   "metadata": {},
   "outputs": [],
   "source": [
    "df['filename'] = df['filename'].str.replace('/nfs/scratch/students/neumannvi84434/Podcast_Episoden/', '')"
   ]
  },
  {
   "cell_type": "code",
   "execution_count": null,
   "metadata": {},
   "outputs": [],
   "source": [
    "with sqlite3.connect(\"/Volumes/Samsung_T5/Backup/transcripts.sqlite\") as con:\n",
    "    df.to_sql(\"transcript_word_level_2237\", con, index=False, if_exists='replace')"
   ]
  },
  {
   "cell_type": "code",
   "execution_count": null,
   "metadata": {},
   "outputs": [],
   "source": [
    "db_save_df(df, \"transcript_word_level_2237\")"
   ]
  },
  {
   "cell_type": "markdown",
   "metadata": {},
   "source": [
    "## Satzbildung durch Whisper Punkte"
   ]
  },
  {
   "cell_type": "markdown",
   "metadata": {},
   "source": [
    "Wenn wir nun alle MP3 Datein transkribiert haben, ist für jedes einzelne vorkommende Wort ein Zeitstempel gespeichert.\n",
    "\n",
    "Für das Projekt lohnt es sich allerdings größere Abschnitte zu erstellen, auf die später die Embeddings und die Suchen angewendet werden können, um mehr Kontext miteinzubeziehen."
   ]
  },
  {
   "cell_type": "code",
   "execution_count": 5,
   "metadata": {},
   "outputs": [],
   "source": [
    "from db_connect import db_get_df, db_save_df\n",
    "from tqdm import tqdm\n",
    "import pandas as pd"
   ]
  },
  {
   "cell_type": "code",
   "execution_count": null,
   "metadata": {},
   "outputs": [],
   "source": [
    "df = db_get_df(\"transcript_word_level_2237\")"
   ]
  },
  {
   "cell_type": "code",
   "execution_count": null,
   "metadata": {},
   "outputs": [],
   "source": [
    "one_sentence = []\n",
    "sentence_dict = [] \n",
    "filenames = df[\"filename\"].drop_duplicates(ignore_index=True)\n",
    "\n",
    "for filename in tqdm(filenames):\n",
    "    word_entries = df[df['filename'] == filename]\n",
    "    start = -1\n",
    "    end = -1\n",
    "    for index, word_entry in word_entries.iterrows(): \n",
    "        word = word_entry[\"word\"]\n",
    "        \n",
    "        if not one_sentence: ##start\n",
    "            start = word_entry[\"start\"]\n",
    "        one_sentence.append(word.strip())\n",
    "        if \".\" in word:\n",
    "            end = word_entry[\"end\"]\n",
    "            sentence = \" \".join(one_sentence)\n",
    "            sentence_dict.append({\"filename\": filename, \"sentence\": sentence, \"start\": start, \"end\":end})\n",
    "            one_sentence = []\n",
    "\n"
   ]
  },
  {
   "cell_type": "code",
   "execution_count": null,
   "metadata": {},
   "outputs": [],
   "source": [
    "df_sentences = pd.DataFrame(sentence_dict)"
   ]
  },
  {
   "cell_type": "code",
   "execution_count": null,
   "metadata": {},
   "outputs": [],
   "source": [
    "len(df_sentences)"
   ]
  },
  {
   "cell_type": "code",
   "execution_count": null,
   "metadata": {},
   "outputs": [],
   "source": [
    "db_save_df(df_sentences, \"transcript_sentences_whisper\")"
   ]
  },
  {
   "cell_type": "markdown",
   "metadata": {},
   "source": [
    "## Setences ID hinzufügen"
   ]
  },
  {
   "cell_type": "code",
   "execution_count": 29,
   "metadata": {},
   "outputs": [],
   "source": [
    "df =db_get_df(\"transcript_sentences\")"
   ]
  },
  {
   "cell_type": "code",
   "execution_count": 3,
   "metadata": {},
   "outputs": [],
   "source": [
    "df['segment_id'] = df.groupby('filename').cumcount()"
   ]
  },
  {
   "cell_type": "code",
   "execution_count": 30,
   "metadata": {},
   "outputs": [],
   "source": [
    "df[\"u_id\"] = [\n",
    "        f'{row[\"filename\"]}{row[\"sentence_id\"]}' for _, row in df.iterrows()\n",
    "    ]"
   ]
  },
  {
   "cell_type": "code",
   "execution_count": 31,
   "metadata": {},
   "outputs": [],
   "source": [
    "db_save_df(df, \"transcript_sentences\")"
   ]
  },
  {
   "cell_type": "markdown",
   "metadata": {},
   "source": [
    "## Kompositatrennung mit Pyphen (Silbentrennung)"
   ]
  },
  {
   "cell_type": "code",
   "execution_count": null,
   "metadata": {},
   "outputs": [],
   "source": [
    "import pyphen\n",
    "import os\n",
    "\n",
    "deutsche_worte = pyphen.Pyphen(lang='de_DE')\n",
    "einzelwoerter_set = set()\n",
    "\n",
    "dateipfad = os.path.join(DATA_PATH, \"vocabulary.txt\")\n",
    "\n",
    "with open(dateipfad, 'r', encoding='utf-8') as datei:\n",
    "    for zeile in datei:\n",
    "        woerter = zeile.strip().split()\n",
    "        \n",
    "        for wort in woerter:\n",
    "            getrenntes_wort = deutsche_worte.inserted(wort)\n",
    "            \n",
    "            einzelwoerter = getrenntes_wort.split('-')\n",
    "            einzelwoerter_set.update(einzelwoerter)\n",
    "\n",
    "for wort in einzelwoerter_set:\n",
    "    print(wort)\n"
   ]
  },
  {
   "cell_type": "code",
   "execution_count": null,
   "metadata": {},
   "outputs": [],
   "source": [
    "print(len(einzelwoerter_set))\n",
    "print(einzelwoerter_set[3000:3010])"
   ]
  },
  {
   "cell_type": "code",
   "execution_count": null,
   "metadata": {},
   "outputs": [],
   "source": [
    "def save_list_to_file(lst, file_path):\n",
    "    with open(file_path, 'w') as file:\n",
    "        for item in lst:\n",
    "            file.write(str(item) + '\\n')"
   ]
  },
  {
   "cell_type": "code",
   "execution_count": null,
   "metadata": {},
   "outputs": [],
   "source": [
    "einzelwoerter_set = sorted(einzelwoerter_set)\n",
    "save_list_to_file(einzelwoerter_set, os.path.join(DATA_PATH, \"vocabulary_pyphen.txt\"))"
   ]
  },
  {
   "cell_type": "markdown",
   "metadata": {},
   "source": [
    "## Vokabular compound splitten"
   ]
  },
  {
   "cell_type": "code",
   "execution_count": null,
   "metadata": {},
   "outputs": [],
   "source": [
    "from german_compound_splitter import comp_split\n",
    "from embedding_creation.embedding_creator_TF_IDF import is_number, compound_split_sentence\n",
    "from tqdm import tqdm\n",
    "import os\n",
    "from dotenv import load_dotenv\n",
    "\n",
    "load_dotenv()\n",
    "AUDIO_SOURCE_PATH = os.getenv(\"AUDIO_SOURCE_PATH\")\n",
    "DATA_PATH = os.getenv(\"DATA_PATH\")"
   ]
  },
  {
   "cell_type": "code",
   "execution_count": null,
   "metadata": {},
   "outputs": [],
   "source": [
    "einzelwoerter_set = set()\n",
    "dateipfad = os.path.join(DATA_PATH, \"vocabulary.txt\")\n",
    "input_file = os.path.join(DATA_PATH, \"german.dic\")\n",
    "ahocs = comp_split.read_dictionary_from_file(input_file)"
   ]
  },
  {
   "cell_type": "code",
   "execution_count": null,
   "metadata": {},
   "outputs": [],
   "source": [
    "with open(dateipfad, 'r', encoding='utf-8') as datei:\n",
    "\n",
    "    for zeile in tqdm(datei):\n",
    "        word = zeile.strip()\n",
    "        if is_number(word):\n",
    "            continue\n",
    "        try:\n",
    "            dissection = comp_split.dissect(word, ahocs, make_singular=True)\n",
    "        except:\n",
    "            dissection = \"\"\n",
    "        for split_word in dissection:\n",
    "            einzelwoerter_set.add(split_word)\n",
    "\n",
    "print(len(einzelwoerter_set))\n",
    "# print(einzelwoerter_set)"
   ]
  },
  {
   "cell_type": "code",
   "execution_count": null,
   "metadata": {},
   "outputs": [],
   "source": [
    "einzelwoerter_set = sorted(einzelwoerter_set)\n",
    "save_list_to_file(einzelwoerter_set, os.path.join(DATA_PATH, \"vocabulary_compound_split.txt\"))"
   ]
  },
  {
   "cell_type": "markdown",
   "metadata": {},
   "source": [
    "## debug db"
   ]
  },
  {
   "cell_type": "code",
   "execution_count": 2,
   "metadata": {},
   "outputs": [],
   "source": [
    "from db_connect import db_get_df, db_save_df\n",
    "from tqdm import tqdm\n",
    "import pandas as pd"
   ]
  },
  {
   "cell_type": "code",
   "execution_count": 8,
   "metadata": {},
   "outputs": [],
   "source": [
    "df = db_get_df(\"episodes_metadata\")"
   ]
  },
  {
   "cell_type": "code",
   "execution_count": 3,
   "metadata": {},
   "outputs": [],
   "source": [
    "df = db_get_df(\"transcript_sentences\")"
   ]
  },
  {
   "cell_type": "code",
   "execution_count": 9,
   "metadata": {},
   "outputs": [],
   "source": [
    "df =df[df[\"filename\"] == \"mars-mission-die-erforschung-des-roten-planeten.mp3\"]"
   ]
  },
  {
   "cell_type": "code",
   "execution_count": 4,
   "metadata": {},
   "outputs": [],
   "source": [
    "df = df[\"filename\"].unique()"
   ]
  },
  {
   "cell_type": "code",
   "execution_count": 27,
   "metadata": {},
   "outputs": [
    {
     "name": "stdout",
     "output_type": "stream",
     "text": [
      "selbstwert-mut-zur-schwaeche.mp3\n"
     ]
    }
   ],
   "source": [
    "for filename in df:\n",
    "    if \"selbstwert\" in filename:\n",
    "        print(filename)"
   ]
  },
  {
   "cell_type": "code",
   "execution_count": 12,
   "metadata": {},
   "outputs": [
    {
     "data": {
      "text/plain": [
       "'https://media.neuland.br.de/file/1450661/c/feed/mars-mission-die-erforschung-des-roten-planeten.mp3'"
      ]
     },
     "execution_count": 12,
     "metadata": {},
     "output_type": "execute_result"
    }
   ],
   "source": [
    "df[\"download_url\"].values[0]"
   ]
  },
  {
   "cell_type": "code",
   "execution_count": 6,
   "metadata": {},
   "outputs": [
    {
     "data": {
      "text/plain": [
       "193"
      ]
     },
     "execution_count": 6,
     "metadata": {},
     "output_type": "execute_result"
    }
   ],
   "source": [
    "len(df)"
   ]
  },
  {
   "cell_type": "code",
   "execution_count": 25,
   "metadata": {},
   "outputs": [
    {
     "name": "stdout",
     "output_type": "stream",
     "text": [
      "e-t-a-hoffmann-ein-berufsbild.mp3 936.82 hoffmann erscheint legt sich samt foto murr schützend auf die poetischen erzeugnisse seines herren so als wolle er dessen nebentätigkeit verbergen was für ein kerlchen da vermag es nicht zu verwundern dass der dichte sogar eine todesanzeige in die zeitung setzt als murr in die ewigen jagdgründe entschwunden ist immer wieder wird die musik zum toast und eine junge unerreichbare sängerin mal wieder zur großen liebe johanna eunicke hoffmanns undine das libretto der oper stammt von lamotte fouquet das bühnenbild von schinkel die aufführung wird ein erfolg schließlich ist hoffmann inzwischen ein populärer autor dessen ausflüge in die musik man sich nicht entgehen lassen möchte 14 mal wird das stück in berlin aufgeführt und hätte wohl noch länger auf dem spielplan gestanden wäre nicht das schauspielhaus samt kostümen und dekorationen abgebrannt\n"
     ]
    }
   ],
   "source": [
    "word = \"schinkel\"\n",
    "indexes = []\n",
    "for i, sentence in enumerate(df[\"sentence\"]):\n",
    "    if word in sentence:\n",
    "        indexes.append(i)\n",
    "\n",
    "for i in indexes:\n",
    "    row = df.iloc[i]\n",
    "    print(row[\"filename\"], row[\"start\"], row[\"sentence\"])\n"
   ]
  },
  {
   "cell_type": "markdown",
   "metadata": {},
   "source": [
    "## Test Langchain"
   ]
  },
  {
   "cell_type": "code",
   "execution_count": 28,
   "metadata": {},
   "outputs": [],
   "source": [
    "import langchain\n",
    "import os\n",
    "from openai import OpenAI\n",
    "\n",
    "from dotenv import load_dotenv, find_dotenv\n",
    "_ = load_dotenv(find_dotenv()) # read local .env file\n",
    "client = OpenAI(api_key=os.environ['OPENAI_KEY'])"
   ]
  },
  {
   "cell_type": "code",
   "execution_count": 5,
   "metadata": {},
   "outputs": [],
   "source": [
    "llm_model = \"gpt-3.5-turbo-0301\""
   ]
  },
  {
   "cell_type": "code",
   "execution_count": 23,
   "metadata": {},
   "outputs": [],
   "source": [
    "def get_completion(prompt, model=llm_model):\n",
    "        \n",
    "\n",
    "    messages = [{\"role\": \"user\", \"content\": prompt}]\n",
    "    response = client.chat.completions.create(\n",
    "            model=model,\n",
    "            messages=messages,\n",
    "            temperature=0, \n",
    "    )\n",
    "    return response.choices[0].message.content"
   ]
  },
  {
   "cell_type": "code",
   "execution_count": 24,
   "metadata": {},
   "outputs": [
    {
     "data": {
      "text/plain": [
       "'As an AI language model, I can tell you that the answer to 1+1 is 2.'"
      ]
     },
     "execution_count": 24,
     "metadata": {},
     "output_type": "execute_result"
    }
   ],
   "source": [
    "get_completion(\"What is 1+1?\")"
   ]
  },
  {
   "cell_type": "markdown",
   "metadata": {},
   "source": [
    "### Templates"
   ]
  },
  {
   "cell_type": "code",
   "execution_count": null,
   "metadata": {},
   "outputs": [],
   "source": [
    "physics_template = \"\"\"You are a very smart physics professor. \\\n",
    "You are great at answering questions about physics in a concise\\\n",
    "and easy to understand manner. \\\n",
    "When you don't know the answer to a question you admit\\\n",
    "that you don't know.\n",
    "\n",
    "Here is a question:\n",
    "{input}\"\"\"\n",
    "\n",
    "\n",
    "math_template = \"\"\"You are a very good mathematician. \\\n",
    "You are great at answering math questions. \\\n",
    "You are so good because you are able to break down \\\n",
    "hard problems into their component parts, \n",
    "answer the component parts, and then put them together\\\n",
    "to answer the broader question.\n",
    "\n",
    "Here is a question:\n",
    "{input}\"\"\"\n",
    "\n",
    "history_template = \"\"\"You are a very good historian. \\\n",
    "You have an excellent knowledge of and understanding of people,\\\n",
    "events and contexts from a range of historical periods. \\\n",
    "You have the ability to think, reflect, debate, discuss and \\\n",
    "evaluate the past. You have a respect for historical evidence\\\n",
    "and the ability to make use of it to support your explanations \\\n",
    "and judgements.\n",
    "\n",
    "Here is a question:\n",
    "{input}\"\"\"\n",
    "\n",
    "\n",
    "computerscience_template = \"\"\" You are a successful computer scientist.\\\n",
    "You have a passion for creativity, collaboration,\\\n",
    "forward-thinking, confidence, strong problem-solving capabilities,\\\n",
    "understanding of theories and algorithms, and excellent communication \\\n",
    "skills. You are great at answering coding questions. \\\n",
    "You are so good because you know how to solve a problem by \\\n",
    "describing the solution in imperative steps \\\n",
    "that a machine can easily interpret and you know how to \\\n",
    "choose a solution that has a good balance between \\\n",
    "time complexity and space complexity. \n",
    "\n",
    "Here is a question:\n",
    "{input}\"\"\""
   ]
  },
  {
   "cell_type": "markdown",
   "metadata": {},
   "source": [
    "### chaining"
   ]
  },
  {
   "cell_type": "code",
   "execution_count": 25,
   "metadata": {},
   "outputs": [],
   "source": [
    "from langchain.chat_models import ChatOpenAI\n",
    "from langchain.prompts import ChatPromptTemplate\n",
    "from langchain.chains import LLMChain\n",
    "from langchain.chains import SimpleSequentialChain"
   ]
  },
  {
   "cell_type": "code",
   "execution_count": 29,
   "metadata": {},
   "outputs": [],
   "source": [
    "llm = ChatOpenAI(temperature=0.9, model=llm_model)\n",
    "\n",
    "# prompt template 1\n",
    "first_prompt = ChatPromptTemplate.from_template(\n",
    "    \"What is the best name to describe \\\n",
    "    a company that makes {product}?\"\n",
    ")\n",
    "\n",
    "# Chain 1\n",
    "chain_one = LLMChain(llm=llm, prompt=first_prompt)"
   ]
  },
  {
   "cell_type": "code",
   "execution_count": 30,
   "metadata": {},
   "outputs": [],
   "source": [
    "# prompt template 2\n",
    "second_prompt = ChatPromptTemplate.from_template(\n",
    "    \"Write a 20 words description for the following \\\n",
    "    company:{company_name}\"\n",
    ")\n",
    "# chain 2\n",
    "chain_two = LLMChain(llm=llm, prompt=second_prompt)"
   ]
  },
  {
   "cell_type": "code",
   "execution_count": 31,
   "metadata": {},
   "outputs": [],
   "source": [
    "overall_simple_chain = SimpleSequentialChain(chains=[chain_one, chain_two],\n",
    "                                             verbose=True\n",
    "                                            )"
   ]
  },
  {
   "cell_type": "code",
   "execution_count": 34,
   "metadata": {},
   "outputs": [
    {
     "name": "stdout",
     "output_type": "stream",
     "text": [
      "\n",
      "\n",
      "\u001b[1m> Entering new SimpleSequentialChain chain...\u001b[0m\n",
      "\u001b[36;1m\u001b[1;3mMuscleFuel\u001b[0m\n",
      "\u001b[33;1m\u001b[1;3mMuscleFuel is a sports nutrition company that produces high-quality supplements for building muscle, improving performance, and promoting overall health.\u001b[0m\n",
      "\n",
      "\u001b[1m> Finished chain.\u001b[0m\n"
     ]
    },
    {
     "data": {
      "text/plain": [
       "{'input': 'protein powder',\n",
       " 'output': 'MuscleFuel is a sports nutrition company that produces high-quality supplements for building muscle, improving performance, and promoting overall health.'}"
      ]
     },
     "execution_count": 34,
     "metadata": {},
     "output_type": "execute_result"
    }
   ],
   "source": [
    "overall_simple_chain(\"protein powder\")"
   ]
  },
  {
   "cell_type": "markdown",
   "metadata": {},
   "source": [
    "## test gpt"
   ]
  },
  {
   "cell_type": "code",
   "execution_count": 6,
   "metadata": {},
   "outputs": [],
   "source": [
    "from segment_ranking.chatgpt_help import (\n",
    "    gpt_segment_boundaries,\n",
    "    gpt_filter_segments,\n",
    "    gpt_get_keywords,\n",
    "    gpt_order_segments,\n",
    ")\n",
    "from db_connect import db_get_df, db_append_df"
   ]
  },
  {
   "cell_type": "code",
   "execution_count": 2,
   "metadata": {},
   "outputs": [],
   "source": [
    "df = db_get_df()"
   ]
  },
  {
   "cell_type": "code",
   "execution_count": 3,
   "metadata": {},
   "outputs": [],
   "source": [
    "df_temp = df[df[\"filename\"] == \"spontanitaet-die-grosse-herausforderung.mp3\"].reset_index(drop=True)"
   ]
  },
  {
   "cell_type": "code",
   "execution_count": 4,
   "metadata": {},
   "outputs": [],
   "source": [
    "response = gpt_segment_boundaries(df_temp, \"Marsmission\")"
   ]
  },
  {
   "cell_type": "code",
   "execution_count": 5,
   "metadata": {},
   "outputs": [
    {
     "data": {
      "text/html": [
       "<div>\n",
       "<style scoped>\n",
       "    .dataframe tbody tr th:only-of-type {\n",
       "        vertical-align: middle;\n",
       "    }\n",
       "\n",
       "    .dataframe tbody tr th {\n",
       "        vertical-align: top;\n",
       "    }\n",
       "\n",
       "    .dataframe thead th {\n",
       "        text-align: right;\n",
       "    }\n",
       "</style>\n",
       "<table border=\"1\" class=\"dataframe\">\n",
       "  <thead>\n",
       "    <tr style=\"text-align: right;\">\n",
       "      <th></th>\n",
       "      <th>filename</th>\n",
       "      <th>start</th>\n",
       "      <th>end</th>\n",
       "      <th>sentence</th>\n",
       "      <th>segment_id</th>\n",
       "    </tr>\n",
       "  </thead>\n",
       "  <tbody>\n",
       "    <tr>\n",
       "      <th>0</th>\n",
       "      <td>spontanitaet-die-grosse-herausforderung.mp3</td>\n",
       "      <td>1191.68</td>\n",
       "      <td>1260.84</td>\n",
       "      <td>Spontanität bedeutet immer auch eine Gradwande...</td>\n",
       "      <td>0</td>\n",
       "    </tr>\n",
       "  </tbody>\n",
       "</table>\n",
       "</div>"
      ],
      "text/plain": [
       "                                      filename    start      end  \\\n",
       "0  spontanitaet-die-grosse-herausforderung.mp3  1191.68  1260.84   \n",
       "\n",
       "                                            sentence  segment_id  \n",
       "0  Spontanität bedeutet immer auch eine Gradwande...           0  "
      ]
     },
     "execution_count": 5,
     "metadata": {},
     "output_type": "execute_result"
    }
   ],
   "source": [
    "response"
   ]
  },
  {
   "cell_type": "code",
   "execution_count": 7,
   "metadata": {},
   "outputs": [],
   "source": [
    "db_append_df(response, \"best_fitting\")"
   ]
  },
  {
   "cell_type": "code",
   "execution_count": 7,
   "metadata": {},
   "outputs": [
    {
     "data": {
      "text/plain": [
       "0                                        Radio Wissen.\n",
       "1                          Die ganze Welt des Wissens.\n",
       "2    Ein Podcast von Bayern 2. Spontanität erleben ...\n",
       "3    Dann haben wir vielleicht eine Ahnung davon, w...\n",
       "4    Der deutsch -amerikanische Psychoanalytiker un...\n",
       "5                         Die Furcht vor der Freiheit.\n",
       "Name: sentence, dtype: object"
      ]
     },
     "execution_count": 7,
     "metadata": {},
     "output_type": "execute_result"
    }
   ],
   "source": [
    "df_temp.loc[0:5, \"sentence\"]"
   ]
  },
  {
   "cell_type": "code",
   "execution_count": 10,
   "metadata": {},
   "outputs": [
    {
     "data": {
      "text/plain": [
       "{'Begründung': 'Der Textausschnitt diskutiert die Bedeutung und die Grenzen von Spontanität, was relevant sein könnte, wenn es um die Entscheidungsfindung und die Flexibilität bei einer Marsmission geht. Außerdem wird auf die Balance zwischen rationaler Planung und rein emotionalen Entscheidungen eingegangen, was bei der Planung einer Marsmission berücksichtigt werden sollte.',\n",
       " 'Start': 164,\n",
       " 'Ende': 172}"
      ]
     },
     "execution_count": 10,
     "metadata": {},
     "output_type": "execute_result"
    }
   ],
   "source": [
    "response"
   ]
  },
  {
   "cell_type": "code",
   "execution_count": 11,
   "metadata": {},
   "outputs": [
    {
     "data": {
      "text/html": [
       "<div>\n",
       "<style scoped>\n",
       "    .dataframe tbody tr th:only-of-type {\n",
       "        vertical-align: middle;\n",
       "    }\n",
       "\n",
       "    .dataframe tbody tr th {\n",
       "        vertical-align: top;\n",
       "    }\n",
       "\n",
       "    .dataframe thead th {\n",
       "        text-align: right;\n",
       "    }\n",
       "</style>\n",
       "<table border=\"1\" class=\"dataframe\">\n",
       "  <thead>\n",
       "    <tr style=\"text-align: right;\">\n",
       "      <th></th>\n",
       "      <th>filename</th>\n",
       "      <th>sentence</th>\n",
       "      <th>start</th>\n",
       "      <th>end</th>\n",
       "      <th>sentence_lemmatized</th>\n",
       "      <th>sentence_compound_split</th>\n",
       "      <th>sentence_id</th>\n",
       "      <th>segment_id</th>\n",
       "    </tr>\n",
       "  </thead>\n",
       "  <tbody>\n",
       "    <tr>\n",
       "      <th>3673</th>\n",
       "      <td>spontanitaet-die-grosse-herausforderung.mp3</td>\n",
       "      <td>Stefan Grünewald erläutert diesen Mentalitätsu...</td>\n",
       "      <td>575.20</td>\n",
       "      <td>578.18</td>\n",
       "      <td>Stefan Grünewald erläutert diesen Mentalitätsu...</td>\n",
       "      <td>Stefan Grünewald diesen Mentalitätsunterschied</td>\n",
       "      <td>82</td>\n",
       "      <td>82</td>\n",
       "    </tr>\n",
       "    <tr>\n",
       "      <th>3674</th>\n",
       "      <td>spontanitaet-die-grosse-herausforderung.mp3</td>\n",
       "      <td>Zum Deutschen naturell gehört, dass wir keine ...</td>\n",
       "      <td>578.56</td>\n",
       "      <td>583.80</td>\n",
       "      <td>Zum Deutschen naturell gehört, dass wir keine ...</td>\n",
       "      <td>Zum Deut Ch Naturell Gehör wir keine klare Ide...</td>\n",
       "      <td>83</td>\n",
       "      <td>83</td>\n",
       "    </tr>\n",
       "    <tr>\n",
       "      <th>3675</th>\n",
       "      <td>spontanitaet-die-grosse-herausforderung.mp3</td>\n",
       "      <td>Also die Franzosen, die haben so dieses Bild, ...</td>\n",
       "      <td>584.50</td>\n",
       "      <td>601.24</td>\n",
       "      <td>Also die Franzosen, die haben so dieses Bild, ...</td>\n",
       "      <td>Also die Franzose die so dieses Bild wie Gott ...</td>\n",
       "      <td>84</td>\n",
       "      <td>84</td>\n",
       "    </tr>\n",
       "    <tr>\n",
       "      <th>3676</th>\n",
       "      <td>spontanitaet-die-grosse-herausforderung.mp3</td>\n",
       "      <td>Das führt natürlich dazu, dass man ganz anders...</td>\n",
       "      <td>601.90</td>\n",
       "      <td>608.20</td>\n",
       "      <td>Das führt natürlich dazu, dass man ganz anders...</td>\n",
       "      <td>Das führt DaZ man ganz anders gewillt ist, Ver...</td>\n",
       "      <td>85</td>\n",
       "      <td>85</td>\n",
       "    </tr>\n",
       "    <tr>\n",
       "      <th>3677</th>\n",
       "      <td>spontanitaet-die-grosse-herausforderung.mp3</td>\n",
       "      <td>Das ist wie so eine sinnliche Expedition, die ...</td>\n",
       "      <td>608.52</td>\n",
       "      <td>614.28</td>\n",
       "      <td>Das ist wie so eine sinnliche Expedition, die ...</td>\n",
       "      <td>Das ist wie so eine Sinn Expedit Ion die Dur d...</td>\n",
       "      <td>86</td>\n",
       "      <td>86</td>\n",
       "    </tr>\n",
       "    <tr>\n",
       "      <th>3678</th>\n",
       "      <td>spontanitaet-die-grosse-herausforderung.mp3</td>\n",
       "      <td>Die Deutschen haben nicht so ein Bild, sie sin...</td>\n",
       "      <td>614.64</td>\n",
       "      <td>617.48</td>\n",
       "      <td>Die Deutschen haben nicht so ein Bild, sie sin...</td>\n",
       "      <td>Die Deut Ch nicht so ein Bild sie sind ewig</td>\n",
       "      <td>87</td>\n",
       "      <td>87</td>\n",
       "    </tr>\n",
       "    <tr>\n",
       "      <th>3679</th>\n",
       "      <td>spontanitaet-die-grosse-herausforderung.mp3</td>\n",
       "      <td>Das macht sie einerseits unruhig, das führt si...</td>\n",
       "      <td>617.48</td>\n",
       "      <td>630.76</td>\n",
       "      <td>Das macht sie einerseits unruhig, das führt si...</td>\n",
       "      <td>Das Mac sie einerseits Unruh das führt sie and...</td>\n",
       "      <td>88</td>\n",
       "      <td>88</td>\n",
       "    </tr>\n",
       "  </tbody>\n",
       "</table>\n",
       "</div>"
      ],
      "text/plain": [
       "                                         filename  \\\n",
       "3673  spontanitaet-die-grosse-herausforderung.mp3   \n",
       "3674  spontanitaet-die-grosse-herausforderung.mp3   \n",
       "3675  spontanitaet-die-grosse-herausforderung.mp3   \n",
       "3676  spontanitaet-die-grosse-herausforderung.mp3   \n",
       "3677  spontanitaet-die-grosse-herausforderung.mp3   \n",
       "3678  spontanitaet-die-grosse-herausforderung.mp3   \n",
       "3679  spontanitaet-die-grosse-herausforderung.mp3   \n",
       "\n",
       "                                               sentence   start     end  \\\n",
       "3673  Stefan Grünewald erläutert diesen Mentalitätsu...  575.20  578.18   \n",
       "3674  Zum Deutschen naturell gehört, dass wir keine ...  578.56  583.80   \n",
       "3675  Also die Franzosen, die haben so dieses Bild, ...  584.50  601.24   \n",
       "3676  Das führt natürlich dazu, dass man ganz anders...  601.90  608.20   \n",
       "3677  Das ist wie so eine sinnliche Expedition, die ...  608.52  614.28   \n",
       "3678  Die Deutschen haben nicht so ein Bild, sie sin...  614.64  617.48   \n",
       "3679  Das macht sie einerseits unruhig, das führt si...  617.48  630.76   \n",
       "\n",
       "                                    sentence_lemmatized  \\\n",
       "3673  Stefan Grünewald erläutert diesen Mentalitätsu...   \n",
       "3674  Zum Deutschen naturell gehört, dass wir keine ...   \n",
       "3675  Also die Franzosen, die haben so dieses Bild, ...   \n",
       "3676  Das führt natürlich dazu, dass man ganz anders...   \n",
       "3677  Das ist wie so eine sinnliche Expedition, die ...   \n",
       "3678  Die Deutschen haben nicht so ein Bild, sie sin...   \n",
       "3679  Das macht sie einerseits unruhig, das führt si...   \n",
       "\n",
       "                                sentence_compound_split  sentence_id  \\\n",
       "3673     Stefan Grünewald diesen Mentalitätsunterschied           82   \n",
       "3674  Zum Deut Ch Naturell Gehör wir keine klare Ide...           83   \n",
       "3675  Also die Franzose die so dieses Bild wie Gott ...           84   \n",
       "3676  Das führt DaZ man ganz anders gewillt ist, Ver...           85   \n",
       "3677  Das ist wie so eine Sinn Expedit Ion die Dur d...           86   \n",
       "3678        Die Deut Ch nicht so ein Bild sie sind ewig           87   \n",
       "3679  Das Mac sie einerseits Unruh das führt sie and...           88   \n",
       "\n",
       "      segment_id  \n",
       "3673          82  \n",
       "3674          83  \n",
       "3675          84  \n",
       "3676          85  \n",
       "3677          86  \n",
       "3678          87  \n",
       "3679          88  "
      ]
     },
     "execution_count": 11,
     "metadata": {},
     "output_type": "execute_result"
    }
   ],
   "source": [
    "df_temp.iloc[82:89]"
   ]
  },
  {
   "cell_type": "code",
   "execution_count": 39,
   "metadata": {},
   "outputs": [
    {
     "data": {
      "text/plain": [
       "'spontanitaet-die-grosse-herausforderung.mp3'"
      ]
     },
     "execution_count": 39,
     "metadata": {},
     "output_type": "execute_result"
    }
   ],
   "source": [
    "df[\"filename\"][3626]"
   ]
  },
  {
   "cell_type": "code",
   "execution_count": 13,
   "metadata": {},
   "outputs": [
    {
     "data": {
      "text/html": [
       "<div>\n",
       "<style scoped>\n",
       "    .dataframe tbody tr th:only-of-type {\n",
       "        vertical-align: middle;\n",
       "    }\n",
       "\n",
       "    .dataframe tbody tr th {\n",
       "        vertical-align: top;\n",
       "    }\n",
       "\n",
       "    .dataframe thead th {\n",
       "        text-align: right;\n",
       "    }\n",
       "</style>\n",
       "<table border=\"1\" class=\"dataframe\">\n",
       "  <thead>\n",
       "    <tr style=\"text-align: right;\">\n",
       "      <th></th>\n",
       "      <th>filename</th>\n",
       "      <th>sentence</th>\n",
       "      <th>start</th>\n",
       "      <th>end</th>\n",
       "      <th>sentence_lemmatized</th>\n",
       "      <th>sentence_compound_split</th>\n",
       "      <th>sentence_id</th>\n",
       "      <th>segment_id</th>\n",
       "    </tr>\n",
       "  </thead>\n",
       "  <tbody>\n",
       "  </tbody>\n",
       "</table>\n",
       "</div>"
      ],
      "text/plain": [
       "Empty DataFrame\n",
       "Columns: [filename, sentence, start, end, sentence_lemmatized, sentence_compound_split, sentence_id, segment_id]\n",
       "Index: []"
      ]
     },
     "execution_count": 13,
     "metadata": {},
     "output_type": "execute_result"
    }
   ],
   "source": [
    "df.iloc[0:0]"
   ]
  },
  {
   "cell_type": "code",
   "execution_count": 5,
   "metadata": {},
   "outputs": [
    {
     "data": {
      "text/plain": [
       "['Spontaneität und Werbung',\n",
       " 'Spontaneität und Kaufverhalten',\n",
       " 'Spontanität und Planung',\n",
       " 'Spontaneität und kulturelle Unterschiede',\n",
       " 'Spontaneität und kreative Prozesse']"
      ]
     },
     "execution_count": 5,
     "metadata": {},
     "output_type": "execute_result"
    }
   ],
   "source": [
    "gpt_get_keywords(df_temp)"
   ]
  },
  {
   "cell_type": "code",
   "execution_count": null,
   "metadata": {},
   "outputs": [],
   "source": [
    "gpt_filter_segments(df_temp)"
   ]
  },
  {
   "cell_type": "markdown",
   "metadata": {},
   "source": [
    "## Test PDF Reading"
   ]
  },
  {
   "cell_type": "code",
   "execution_count": 11,
   "metadata": {},
   "outputs": [],
   "source": [
    "from audio_downloader.episodes_downloader import download_and_save_mp3_in_dir\n",
    "import sys\n",
    "from dotenv import load_dotenv, find_dotenv\n",
    "import os\n",
    "\n",
    "load_dotenv(find_dotenv())\n",
    "DATA_PATH = os.getenv(\"DATA_PATH\")"
   ]
  },
  {
   "cell_type": "code",
   "execution_count": 14,
   "metadata": {},
   "outputs": [
    {
     "name": "stdout",
     "output_type": "stream",
     "text": [
      "Downloaded https://www.br.de/radio/bayern2/service/manuskripte/radiowissen/manuskript-radiowissen-treue-wert-der-loyalitaet-100~attachment.pdf?version=ea7d8\n"
     ]
    }
   ],
   "source": [
    "path = os.path.join(DATA_PATH, \"pdfs\")\n",
    "url = \"https://www.br.de/radio/bayern2/service/manuskripte/radiowissen/manuskript-radiowissen-treue-wert-der-loyalitaet-100~attachment.pdf?version=ea7d8\"\n",
    "name = \"manuskript-radiowissen-treue-wert-der-loyalitaet.pdf\"\n",
    "download_and_save_mp3_in_dir(url, path, name)"
   ]
  },
  {
   "cell_type": "code",
   "execution_count": 18,
   "metadata": {},
   "outputs": [
    {
     "name": "stdout",
     "output_type": "stream",
     "text": [
      "2 \n",
      " \n",
      "Dieses Manuskript wird ohne Endkorrektur versandt und darf nur zum privaten Gebrauch verwendet werden.  \n",
      "Jede andere Verwendung oder Veröffentlichung ist nur in Absprache mit dem Bayerischen Rundfunk möglich!   \n",
      "Es gilt das gesprochene Wort.  \n",
      "© Bayerischer Rundfunk 20 24 \n",
      "Bayern 2 -Hörerservice  \n",
      "Bayerischer Rundfunk, 80300 München; kostenlose Service -Nr.: 0800 -5900 222  \n",
      " service@bayern2.de ; www.bayern2.de   \n",
      " \n",
      "Podcast:  \n",
      "Treue in Beziehungen … das klingt in den Ohren mancher Menschen beinahe \n",
      "antiquiert. Ist der moderne Mensch doch frei, selbstbestimmt und unabhängig. \n",
      "Und wieso sollte er d as dann nicht auch in seinen Beziehungen sein?  \n",
      "Natürlich waren sich Menschen in allen Zeiten zeitweise oder auch \n",
      "grundsätzlich untreu. Aber nur weil das so ist, muss das nicht heißen, dass die \n",
      "Treue wertlos geworden ist.  \n",
      " \n",
      " \n",
      "Musik: Z9423981010 Parker & Hachi  walk to the station 0‘58  \n",
      " \n",
      "Sprecherin:    \n",
      "Es gibt diese Geschichte von Hachiko (ausgesprochen: Hadschiko ), einem \n",
      "japanischen Akit a Hund. Sein Herrchen war Professor an der Universität Tokio \n",
      "und fuhr jeden Morgen mit de m Zug zur Arbeit. Hachiko begleitete ihn täglich \n",
      "bis zum Bahnhof und holte ihn dort auch wieder ab. Am 21. Mai 1925 jedoch \n",
      "starb der Professor während seiner Vorlesung an einer Hirnblutung und kam \n",
      "nicht mehr nach Hause. Hachiko aber wartete weiter. Zehn Jahre lang kam er \n",
      "bis zu seinem eigenen Tod jeden Tag zum Bahnhof und hoffte auf sein \n",
      "Herrchen. Er wurde schon zu Lebzeiten in ganz Japan bekannt. Als er \n",
      "gestorben war, e rrichtete man ihm eine Statue. Hachiko gilt als das Sinnbild für \n",
      "Treue.  \n",
      " \n",
      "Sprecher  \n",
      "Die Geschichte wurde mehrmals verfilmt. Am bekanntesten ist die anrührende \n",
      "Adaption „Hachi – a dogs tale“ des Regisseurs Lasse Hallström, der die \n",
      "Handlung in die USA verlegt hat. Der Film ist sehr bewegend und wer ihn sieht \n",
      "ist ergriffen von diesem Hund und seinem Verhalten.  \n",
      " \n"
     ]
    }
   ],
   "source": [
    "from pypdf import PdfReader\n",
    "\n",
    "reader = PdfReader(os.path.join(path, name))\n",
    "page = reader.pages[1]\n",
    "print(page.extract_text())"
   ]
  },
  {
   "cell_type": "markdown",
   "metadata": {},
   "source": [
    "install "
   ]
  },
  {
   "cell_type": "markdown",
   "metadata": {},
   "source": [
    "## Transkripte von Fraunhofer"
   ]
  },
  {
   "cell_type": "code",
   "execution_count": 7,
   "metadata": {},
   "outputs": [],
   "source": [
    "from audio_downloader.episodes_downloader import get_graphql\n",
    "from db_connect import db_get_df, db_save_df\n",
    "import pandas as pd"
   ]
  },
  {
   "cell_type": "code",
   "execution_count": 4,
   "metadata": {},
   "outputs": [],
   "source": [
    "query = \"\"\"{\n",
    "  programSet(id: 5945518) {\n",
    "    title\n",
    "    items(\n",
    "      orderBy: PUBLISH_DATE_DESC\n",
    "      filter: {\n",
    "        isPublished: {\n",
    "          equalTo: true\n",
    "        }\n",
    "      }\n",
    "    ) {\n",
    "      nodes {\n",
    "        transcript {\n",
    "          data\n",
    "        }\n",
    "        audios {\n",
    "          downloadUrl\n",
    "        }\n",
    "      }\n",
    "    }\n",
    "  }\n",
    "}\n",
    "\"\"\""
   ]
  },
  {
   "cell_type": "code",
   "execution_count": 5,
   "metadata": {},
   "outputs": [],
   "source": [
    "data = get_graphql(query)"
   ]
  },
  {
   "cell_type": "code",
   "execution_count": 6,
   "metadata": {},
   "outputs": [],
   "source": [
    "transcripts = []\n",
    "audio_urls = []\n",
    "for audio_data in data[\"data\"][\"programSet\"][\"items\"][\"nodes\"]:\n",
    "        transcripts.append(audio_data[\"transcript\"])\n",
    "        audio_urls.append(audio_data[\"audios\"][0][\"downloadUrl\"])"
   ]
  },
  {
   "cell_type": "code",
   "execution_count": 15,
   "metadata": {},
   "outputs": [
    {
     "data": {
      "text/plain": [
       "[{'end': '00:00:08.050',\n",
       "  'text': 'Bayern zweiRadio präsentiert radioWissen immer werktags nach den neun Uhr Nachrichten Bayerns',\n",
       "  'start': '00:00:00.000',\n",
       "  'speaker': {'id': '1', 'name': 'unknown'}},\n",
       " {'end': '00:00:43.690',\n",
       "  'text': 'In Europa nicht glücken selbst für die von die Schweizer gebe ich keine fünf Kreuzer. Anders duzt sich Österreich machen da gehen, umkehrt die Sache. Zwar ist die Aufgabe kleine Träne soll ein Zirkel Völkerschaften am ein Mittelpunkt pafften unsere Stellung, wo es schwierig und viele haben, schon gierig auf unsere Auflösung,',\n",
       "  'start': '00:00:12.440',\n",
       "  'speaker': {'id': '2', 'name': 'unknown'}},\n",
       " {'end': '00:01:24.580',\n",
       "  'text': 'So heißt es in Johann Nestroy Stück Freiheit in Krawinkel aus dem Jahr 848. Schon damals war der Habsburger Vielvölkerstaat bedroht. Nestroy sah ein fragiles Gleichgewicht und den Zirkel Völkerschaften an einem Mittelpunkt haften. Zu jener Zeit waren die zentrifugalen Kräfte, die vom Mittelpunkt weg in alle Richtungen strebten, die nationalistischen slawischen Bewegungen. Erst zum Ende des 19ten Jahrhunderts kam dann noch die sogenannte alldeutsche Bewegung dazu. Sie forderte den Anschluss der deutschen Teile Österreichs an das Deutsche Reich. Gleichzeitig verbreitete sie abstruse Rassentheorien.',\n",
       "  'start': '00:00:43.690',\n",
       "  'speaker': {'id': '3', 'name': 'unknown'}},\n",
       " {'end': '00:01:29.450',\n",
       "  'text': 'Sind sie blond, dann sind Sie Kulturschöpfer und Kultur erheitern.',\n",
       "  'start': '00:01:24.580',\n",
       "  'speaker': {'id': '4', 'name': 'unknown'}},\n",
       " {'end': '00:01:47.170',\n",
       "  'text': 'Was auf den ersten Blick wie eine Nestroy Parodie wirkt, ist in Wirklichkeit vollkommen ernst gemeint. Der Aufruf für blonde ist eine Reklame der vielgelesenen Wiener Zeitschrift Ostara. Sie wurde vom All deutschen Publizisten Josef Adolf Lanz herausgegeben.',\n",
       "  'start': '00:01:29.450',\n",
       "  'speaker': {'id': '3', 'name': 'unknown'}},\n",
       " {'end': '00:01:59.790',\n",
       "  'text': 'Lesen sie Ostara Bücherei, der blonden und der Mannes Rechtler die Ostara ist die erste und einzige Zeitschrift zur Erforschung und Pflege des Heroischen. Russentums',\n",
       "  'start': '00:01:47.170',\n",
       "  'speaker': {'id': '5', 'name': 'unknown'}},\n",
       " {'end': '00:02:14.970',\n",
       "  'text': 'Herausgeber Lanz fand übrigens seine eigene Herkunft nicht heroisch genug und nannte sich deshalb Baron Lanz von Liebenfels aus angeblich altem schwäbischen Adel. Tatsächlich wurde er 18 974 als Sohn des Lehrers Johann Lanz in Wien geboren.',\n",
       "  'start': '00:01:59.790',\n",
       "  'speaker': {'id': '6', 'name': 'unknown'}},\n",
       " {'end': '00:02:41.760',\n",
       "  'text': 'Adolf Hitler, der als 19-Jährige nach Wien kam. Last die Zeitschrift Ostara regelmäßig ebenso wie andere einschlägige rassistische Literatur. Die Wiener Historikerin Brigitte Hamann hat in ihrem Buch Hitlers Wien Lehrjahre eines Diktators aufgezeigt, wie populär die vielen Welterklärer und Rassentheoretiker zu jener Zeit waren. Josef Adolf Lanz war nur einer von vielen. Die',\n",
       "  'start': '00:02:14.970',\n",
       "  'speaker': {'id': '7', 'name': 'unknown'}},\n",
       " {'end': '00:03:00.090',\n",
       "  'text': 'Urgermanen brachten den Halbmensch nicht nur Gesittung, sondern züchteten sie durch Vermischung mit sich erst zum Menschentum empor, sodass daraus die heutigen niedrigen Rassen der Mittelmeerländer, der Mega und der Mongolen entstanden. Die Herrenmenschen sind aber die Germanen,',\n",
       "  'start': '00:02:41.760',\n",
       "  'speaker': {'id': '5', 'name': 'unknown'}},\n",
       " {'end': '00:03:06.330',\n",
       "  'text': 'Der Russe bewusste deutsche. Man sollte deshalb auf die Keuschheit des Weibes achten.',\n",
       "  'start': '00:03:00.090',\n",
       "  'speaker': {'id': '8', 'name': 'unknown'}},\n",
       " {'end': '00:03:48.710',\n",
       "  'text': 'So mancher weitere Junge kam ins Unglück und verfehlte seinen Lebenszweck durch das Weib. Das deutsche Weib bevorzugt ja heute minder rassige Männer wegen deren stärkere Manneskraft. Doch der erste Liebhaber einer Frau imprägniert sie mit seinem Samen, sodass die Kinder, auch spätere Partner, die Eigenschaften dieses ersten Mannes haben. Damit ist die Rasse verdorben. Deshalb Männer achtet auf die Jungfrauschaft. Sie hat nicht nur einen Liebhaber Wert, sondern auch einen Russe wirtschaftlichen Wert. Es ist leider die Tragik des Heroischen Mannes, dass er dem Weibe der eigenen Rasse und noch viel mehr dem Weibe der niederen Rasse zu wenig derb-sinnlichen ist.',\n",
       "  'start': '00:03:06.330',\n",
       "  'speaker': {'id': '5', 'name': 'unknown'}},\n",
       " {'end': '00:04:19.430',\n",
       "  'text': 'Um die Reinheit des deutschen Weibes war auch die Zeitschrift unverfälschte deutsche Worte besorgt. Sie wurde vom Alldeutschen Politiker Georg Ritter von Schönerer herausgegeben. Die deutsche Frau schminkt sich nicht, sie trägt schlichte Frisur und schlichte Kleidung. Sehr vieles, das uns später bei der NSDAP wiederbegegnet, findet sich schon in den ersten Jahren des neuen Jahrhunderts. Adolf Hitler hat die Weltanschauung der Nazis nicht erfunden, ebensowenig wie ihre Symbole und Rituale.',\n",
       "  'start': '00:03:49.920',\n",
       "  'speaker': {'id': '3', 'name': 'unknown'}},\n",
       " {'end': '00:04:28.700',\n",
       "  'text': 'Der Alldeutsche sagt nicht Servus und Grüß Gott, der Alldeutsche, sagt Heil Heil, unserem Führer schönerer.',\n",
       "  'start': '00:04:19.430',\n",
       "  'speaker': {'id': '9', 'name': 'unknown'}},\n",
       " {'end': '00:04:52.230',\n",
       "  'text': 'Zur Germanisierung gehörte auch der Versuch, Fremdwörter einzudeutschen. Aus dem Kalender wurde der zeitweise aus dem Redakteur der Schriftleiter. Statt Kapitel hieß es nun Hauptabschnitt in seinem Germanisierungs waren, rief schönerer 887 sogar zu einer 2000 Jahre feiert der germanischen Geschichte auf der Anlass',\n",
       "  'start': '00:04:28.700',\n",
       "  'speaker': {'id': '3', 'name': 'unknown'}},\n",
       " {'end': '00:05:11.760',\n",
       "  'text': 'Im Jahr 113 vor Christus hatten die Kimbern und Teutonen in der Schlacht von Noah Dreyer zum ersten Mal die Römer geschlagen. Ein eher unbedeutendes Ereignis, doch schönerer Beginn das Jubiläum im großen Stil mit einem Germanen fest zu Sonnwend am 24. Juni 888 in der Wachau',\n",
       "  'start': '00:04:52.230',\n",
       "  'speaker': {'id': '10', 'name': 'unknown'}},\n",
       " {'end': '00:05:26.420',\n",
       "  'text': 'An einer der ältesten Siedlungen unserer Mark mit Freudenfeuern auf den Gipfeln der Berge, zu deren Füßen der Donaustrom dahinfließt, als unvergängliches Sinnbild des nimmer rastenden deutschen Geistes.',\n",
       "  'start': '00:05:11.760',\n",
       "  'speaker': {'id': '11', 'name': 'unknown'}},\n",
       " {'end': '00:05:35.140',\n",
       "  'text': 'Bei dieser 2000 Jahr Feier führte schönere eine neue germanische Zeitrechnung ein. Die Monate hießen von jetzt ab',\n",
       "  'start': '00:05:27.550',\n",
       "  'speaker': {'id': '3', 'name': 'unknown'}},\n",
       " {'end': '00:05:49.070',\n",
       "  'text': 'Hartung, Hornung, Lenz, Mond, Ostermontag, Meyer brach Mond, heuert Ernsting Scheiding, Gilbhard, Nebelung und Juli Mond,',\n",
       "  'start': '00:05:35.140',\n",
       "  'speaker': {'id': '12', 'name': 'unknown'}},\n",
       " {'end': '00:05:55.070',\n",
       "  'text': 'Das konnten sich die Schüler Jana gerade noch merken. Aber die neuen Jahreszahlen waren einfach zu schwierig.',\n",
       "  'start': '00:05:49.070',\n",
       "  'speaker': {'id': '13', 'name': 'unknown'}},\n",
       " {'end': '00:06:22.680',\n",
       "  'text': 'Man zählte jetzt nämlich nicht mehr nach Christi Geburt, sondern nach der Schlacht von Nora, die ja bekanntlich 113 vor Christus stattgefunden hatte. Das Jahr 888 war demnach das Jahr 2001 nach Nordkorea. Der Geburtstag des Alldeutschen Parteigründers Georg von Schönerer war bisher der 17. Juni 842 gewesen. Jetzt musste es heißen siebzehnter heuert 955 nach nur Reihe',\n",
       "  'start': '00:05:55.070',\n",
       "  'speaker': {'id': '6', 'name': 'unknown'}},\n",
       " {'end': '00:06:33.120',\n",
       "  'text': 'Diese Rechnerei war auf die Dauer zu kompliziert. Der germanische Kalender setzte sich nicht durch, doch andere Parteigründungen waren durchaus erfolgreich.',\n",
       "  'start': '00:06:23.610',\n",
       "  'speaker': {'id': '3', 'name': 'unknown'}},\n",
       " {'end': '00:06:45.560',\n",
       "  'text': 'Deutsch völkische Stellenvermittlung für seriöse deutsche Bewerber der deutsche Gesangverein sucht stimmbegabte der deutsche Volksgenossen Wohnungsvermittlung für deutsche Area Halle deutscher Sparverein für Kredite an Arie',\n",
       "  'start': '00:06:33.120',\n",
       "  'speaker': {'id': '14', 'name': 'unknown'}},\n",
       " {'end': '00:06:56.350',\n",
       "  'text': 'In Hitlers erstem Wiener Wohnbezirk Maria Hilf gab es sehr viele alldeutsche Vereine. Sie gruppierten sich rund um die Redaktion des Alldeutschen Tagblatts.',\n",
       "  'start': '00:06:45.560',\n",
       "  'speaker': {'id': '3', 'name': 'unknown'}},\n",
       " {'end': '00:07:17.610',\n",
       "  'text': 'Im Wirtshaus Ötzi Sylt trafen sich die Mitglieder des Alldeutschen Verbandes gleich dreimal in der Woche. Montags bis freitags und sonntags im Gasthaus zur schönen Schäferin stand der Stammtisch des Vereins Ostmark im Magdalenenhof jener des Vereins Süd Mark, überall lagen die einschlägigen Zeitschriften aus und Sympathisanten waren jederzeit willkommen.',\n",
       "  'start': '00:06:56.350',\n",
       "  'speaker': {'id': '6', 'name': 'unknown'}},\n",
       " {'end': '00:07:36.610',\n",
       "  'text': 'Die Chancen der kostenlosen Lektüre genutzt er bezeichnete sich zwar als akademische Maler, in Wirklichkeit hatte er die Aufnahmeprüfung für die Kunstakademie nicht bestanden und war beim 2ten Versuch gar nicht erst zugelassen worden. Er besaß keinerlei Berufsausbildung.',\n",
       "  'start': '00:07:19.110',\n",
       "  'speaker': {'id': '3', 'name': 'unknown'}},\n",
       " {'end': '00:08:04.610',\n",
       "  'text': 'Im September 1907 war er nach Wien gekommen und hatte zunächst von seiner Waisenrente und den Zuwendungen seiner Tante Johanna Pölzl Juli 1. Jahr später kam es zum Streit mit seiner Halbschwester Angela Rauball, die ihn aufforderte, sich doch endlich eine Arbeit zu suchen und zugunsten seiner jüngeren, geradezu 12-jährigen Schwester Paula auf seinen Anteil der ohnehin mageren Waisenrente zu verzichten. Er sei doch jetzt ein erwachsener Mann und könne selber Geld verdienen.',\n",
       "  'start': '00:07:36.610',\n",
       "  'speaker': {'id': '6', 'name': 'unknown'}},\n",
       " {'end': '00:08:27.390',\n",
       "  'text': 'Das aber war er nicht gewohnt. Zwar behauptete er später in mein Kampf, er habe zwei Jahre als Bauarbeiter gearbeitet, doch den historischen Nachprüfungen hielt das nicht stand. Trotzdem malte er die Bauarbeiter Legende in vielen politischen Reden aus, so zum Beispiel am 10ten Mai 1933 auf dem Kongress der Deutschen Arbeiterfront.',\n",
       "  'start': '00:08:04.610',\n",
       "  'speaker': {'id': '3', 'name': 'unknown'}},\n",
       " {'end': '00:08:52.380',\n",
       "  'text': 'Ich bin durch meinen eigenartigen Lebensgang vielleicht mehr als jeder andere befolgt, alle Schichten des Volkes zu verstehen, weil ich mitten in diesem Leben stand, weil mich das Schicksal in seiner Laune oder vielleicht auch in seiner Vorsehung einfach in diese breite Masse Volk und Menschen hineingeworfen hat, weil ich selber jahrelang als Arbeiter am Bauhof und mir mein Brot verdienen musste.',\n",
       "  'start': '00:08:27.390',\n",
       "  'speaker': {'id': '15', 'name': 'unknown'}},\n",
       " {'end': '00:09:01.950',\n",
       "  'text': 'In Wirklichkeit ging es ihm im Herbst 1909 so miserabel, dass er in Meidlinger Obdachlosenasyl übernachten musste. Der Hitler-Biograf Ian Kershaw',\n",
       "  'start': '00:08:52.380',\n",
       "  'speaker': {'id': '3', 'name': 'unknown'}},\n",
       " {'end': '00:09:33.860',\n",
       "  'text': 'Hitler war nun ganz unten angelangt dünnen und ungepflegt, in verschmutzten, verlausten Kleidern die Füße wund vom herumlaufen gesellte er sich vor Weihnachten 1909, zudem menschlichen Treib und Strandgut, das dem großen, erst kürzlich eingerichteten Obdachlosenasyl in Meidling unweit von Schloss Schönbrunn zustrebte. Der Kleinbürger, den nichts so ängstigte, wie die Aussicht zum Proletariat zu gehören hatte, seinen sozialen Abstieg von endet.',\n",
       "  'start': '00:09:01.950',\n",
       "  'speaker': {'id': '16', 'name': 'unknown'}},\n",
       " {'end': '00:09:45.650',\n",
       "  'text': 'Hier liegt der Grund, warum Hitler sich dem Antisemitismus als Welterklärung zuwandte. Nicht zu Hause in der Familie, in Braunau und in Linz dominierte vielmehr der Hass gegen die Tschechen,',\n",
       "  'start': '00:09:33.860',\n",
       "  'speaker': {'id': '17', 'name': 'unknown'}},\n",
       " {'end': '00:09:48.330',\n",
       "  'text': 'Tschechien und Slowakei. Eine Schande.',\n",
       "  'start': '00:09:45.650',\n",
       "  'speaker': {'id': '18', 'name': 'unknown'}},\n",
       " {'end': '00:10:00.420',\n",
       "  'text': 'Jahr dem radikalen Antisemitismus begegnete Hitler erst in Wien. Die sozialen und kulturellen Spannungen des Vielvölkerstaats zeigten sich in der Hauptstadt wie unter einem Brennglas.',\n",
       "  'start': '00:09:48.330',\n",
       "  'speaker': {'id': '3', 'name': 'unknown'}},\n",
       " {'end': '00:10:28.440',\n",
       "  'text': 'Weniger als die Hälfte der Bürger waren gebürtige Wiener im Jahr 1908 zählte die Stadt 2 Millionen Einwohner, die das Habsburger Reich widerspiegelten deutsche Tschechen, Slowaken, Polen, Ruthenen, Slowenen, Serben, Kroaten, Italiener, Ungarn und Rumänien. Der Anteil der jüdischen Bevölkerung war höher als in allen anderen Städten, er betrug 8,6 Prozent. Ian Kershaw',\n",
       "  'start': '00:10:00.420',\n",
       "  'speaker': {'id': '6', 'name': 'unknown'}},\n",
       " {'end': '00:10:39.730',\n",
       "  'text': 'Wie in Deutschland auch waren die Juden im Verhältnis zur Gesamtbevölkerung unter Freiberuflern, Universitätslehrern, Journalisten, Künstlern im Handel und im Bankgewerbe stärker vertreten.',\n",
       "  'start': '00:10:28.440',\n",
       "  'speaker': {'id': '19', 'name': 'unknown'}},\n",
       " {'end': '00:10:58.710',\n",
       "  'text': 'Es war ein Leichtes, die Zukunftsangst der kleinen Leute in Rassenhass umzuwandeln, vor allem in Hass auf Juden, die angeblich das übernationale Volk waren. Der prominenteste Agitator war Oberbürgermeister Karl Lueger, der schöne Karl Hitler über ihn in mein Kampf',\n",
       "  'start': '00:10:39.730',\n",
       "  'speaker': {'id': '3', 'name': 'unknown'}},\n",
       " {'end': '00:11:18.650',\n",
       "  'text': 'Ruhiger ist der genialste Bürgermeister, der je bei uns gelebt hat. Unter seiner Herrschaft erwachte die ehrwürdige Residenz der Kaiser des Alten Reiches noch einmal zu einem wundersamen jungen Leben. Lueger ist der letzte große deutsche, denn das Kolonisten folgt der Ostmark aus seinen Reihen gewarnt.',\n",
       "  'start': '00:10:58.710',\n",
       "  'speaker': {'id': '15', 'name': 'unknown'}},\n",
       " {'end': '00:11:32.180',\n",
       "  'text': 'Er hatte sich seine Volkstümlichkeit durch unbestreitbar große Leistungen für die Stadt erarbeitet. Umso verhängnisvoller war, dass er den Antisemitismus mit Hilfe seiner Popularität wirksam verbreiten konnte.',\n",
       "  'start': '00:11:18.650',\n",
       "  'speaker': {'id': '17', 'name': 'unknown'}},\n",
       " {'end': '00:11:49.080',\n",
       "  'text': '890 hielt er als Mitglied des Parlaments eine berühmte und jahrelang zitierte fanatische Rede gegen die Juden. Die Wiener jubelten ihm zu. 895 wurde er zum Bürgermeister gewählt. Doch Kaiser Franz Joseph verweigerte seine Zustimmung zur Ernennung. Die Begründung',\n",
       "  'start': '00:11:32.180',\n",
       "  'speaker': {'id': '20', 'name': 'unknown'}},\n",
       " {'end': '00:12:00.440',\n",
       "  'text': 'Ich sehe den Rechtsgrundsatz meines Reiches, nämlich die Gleichberechtigung vor dem Gesetz, nicht mehr gewährleistet, wenn Herr Doktor Lueger Bürgermeister',\n",
       "  'start': '00:11:50.020',\n",
       "  'speaker': {'id': '5', 'name': 'unknown'}},\n",
       " {'end': '00:12:19.580',\n",
       "  'text': 'Wird. Viermal wurde die Wahl wiederholt, viermal verweigerte der Kaiser, beim letzten Mal war die Stimmenzahl so hoch, dass Noriega schon zum Märtyrer wurde. Franz Joseph musste zustimmen. Lueger behielt das Amt von 897 bis zu seinem Tod im Jahr 1910.',\n",
       "  'start': '00:12:00.440',\n",
       "  'speaker': {'id': '21', 'name': 'unknown'}},\n",
       " {'end': '00:12:26.970',\n",
       "  'text': 'Er war der perfekte Volkstribunen. Das gaben sogar seine Gegner zu, wie zum Beispiel der Schriftsteller Felix Salten',\n",
       "  'start': '00:12:19.580',\n",
       "  'speaker': {'id': '22', 'name': 'unknown'}},\n",
       " {'end': '00:12:47.960',\n",
       "  'text': 'Bekam ein denkender Mensch seine Reden zu lesen. Dann musste er lächeln, hörte aber ein denkender Mensch zu. Wenn Louis geredete, dann heißt es gar nichts, ein denkender Mensch zu sein. Dann vergingen einem die eigenen Gedanken. Dann war man von einer elementaren Gewalt ergriffen und wehrlos mit fortgerissen. Hitler hat viel von Lueger gelernt.',\n",
       "  'start': '00:12:26.970',\n",
       "  'speaker': {'id': '23', 'name': 'unknown'}},\n",
       " {'end': '00:13:03.090',\n",
       "  'text': 'Propaganda muss sich einstellen auf die Aufnahmefähigkeit der beschränktesten, unter denen am diese Sicht zu richten gedenkt. Je mehr sie ausschließlich auf das Fühlen der Masse Rücksicht nimmt, umso durchschlagender der Erfolg.',\n",
       "  'start': '00:12:47.960',\n",
       "  'speaker': {'id': '15', 'name': 'unknown'}},\n",
       " {'end': '00:13:12.050',\n",
       "  'text': 'Noch war Hitler weit davon entfernt, selbst die Massen zu elektrisieren. Aber er schafft es, wenigstens das Asyl in Meidling zu verlassen.',\n",
       "  'start': '00:13:03.090',\n",
       "  'speaker': {'id': '24', 'name': 'unknown'}},\n",
       " {'end': '00:13:34.580',\n",
       "  'text': 'Am 9. Februar 1910 durfte er in das Männerheim in der Meldemannstraße einziehen, eines der modernsten Heime Europas mit immerhin vier Bädern und zwölf duschen. Der Schlafplatz kostete zwei Kronen 50 in der Woche. Das konnte sich Hitler, der angefangen hatte, Postkarten zu bemalen und sie von Kameraden verkaufen zu lassen, gerade noch leisten.',\n",
       "  'start': '00:13:12.050',\n",
       "  'speaker': {'id': '25', 'name': 'unknown'}},\n",
       " {'end': '00:14:07.310',\n",
       "  'text': 'Hier saß er nun in der Nichtraucher Abteilung des Leseraums und bepinselte seine Postkarten, andere neben ihm kopierten Noten oder schrieben Preistafeln, einer versah Postkarten mit Wappen und Monogrammen. Hitler malte das, was die Touristen wünschten Stephansdom, Minoritenkirche, Rathaus und Parlament. Alle Bilder kopierte er nach Vorlagen. Seinen Kumpanen Reinhold Hanisch, der für ihn die Postkarten verkaufte, berichtete später, dass Hitler ohne Vorlage rein gar nichts zustande gebracht hätte.',\n",
       "  'start': '00:13:34.580',\n",
       "  'speaker': {'id': '3', 'name': 'unknown'}},\n",
       " {'end': '00:14:25.100',\n",
       "  'text': 'Einmal hat ein Rahmenhändler eine Ansicht der Gumpendorfer Kirche bestellt, es gab keine Vorlage dafür. Deshalb fuhren wir hin, um Skizzen zu machen. Aber Adolf hatte nichts als Ausflüchte, es war zu kalt, seine Finger waren zu steif. Wir sind jedenfalls ohne Bild zurückgekehrt.',\n",
       "  'start': '00:14:07.310',\n",
       "  'speaker': {'id': '26', 'name': 'unknown'}},\n",
       " {'end': '00:14:36.350',\n",
       "  'text': 'Dafür las er eifrig im Leseraum. Es war bekannt, dass er keinen Alkohol trank und rauchte. Noch 942 wird er in der Wolfsschanze verkünden.',\n",
       "  'start': '00:14:26.000',\n",
       "  'speaker': {'id': '3', 'name': 'unknown'}},\n",
       " {'end': '00:14:48.710',\n",
       "  'text': 'Ich bin überzeugt, wenn ich rauche, wäre ich würde den Sorgen nicht standgehalten haben, die mich seit so langer Zeit belasten. Vielleicht verdankt dem das deutsche Volk seine Rettung,',\n",
       "  'start': '00:14:36.350',\n",
       "  'speaker': {'id': '15', 'name': 'unknown'}},\n",
       " {'end': '00:15:04.750',\n",
       "  'text': 'Da er auch die Frauen Mit blieb. Nur das Lesen. Im Männerheim lagen etliche vor allem alldeutsche, Zeitungen und Zeitschriften aus. Dazu lieh er sich Bücher in Bibliotheken. So stieß er auf Guido, von List',\n",
       "  'start': '00:14:48.710',\n",
       "  'speaker': {'id': '17', 'name': 'unknown'}},\n",
       " {'end': '00:15:15.280',\n",
       "  'text': '848, in Wien geboren, wollte Guido Lust seiner Zugehörigkeit zur arischen Herrenrasse mehr Ausdruck verleihen und legte sich deshalb einen falschen Adelstitel zu.',\n",
       "  'start': '00:15:04.750',\n",
       "  'speaker': {'id': '27', 'name': 'unknown'}},\n",
       " {'end': '00:15:30.960',\n",
       "  'text': 'Er war ein ausgesprochener Vielschreiber, der zwar nie studiert hatte, aber ganz ungeniert den Fachmann für nordische Sprachen spielte. 907 gründete er den Geheimbund, der ermahnen schafft und wählte das Hakenkreuz zu seinem Abzeichen.',\n",
       "  'start': '00:15:16.350',\n",
       "  'speaker': {'id': '6', 'name': 'unknown'}},\n",
       " {'end': '00:15:35.060',\n",
       "  'text': 'Zu seinen erfolgreichen Büchern zählten Titel wie',\n",
       "  'start': '00:15:32.200',\n",
       "  'speaker': {'id': '28', 'name': 'unknown'}},\n",
       " {'end': '00:15:40.490',\n",
       "  'text': 'Das Geheimnis der Ronen, die Riten der Ario Germanen von Vulkanismus zum Christentum.',\n",
       "  'start': '00:15:35.060',\n",
       "  'speaker': {'id': '29', 'name': 'unknown'}},\n",
       " {'end': '00:15:52.380',\n",
       "  'text': 'Von Liszt stammte die Unterscheidung in Herrenmenschen und Herdenmenschen, die er auch als Sklaven, Knechte oder Mischlinge bezeichnete und denen er keine Rechte zubilligte.',\n",
       "  'start': '00:15:40.490',\n",
       "  'speaker': {'id': '3', 'name': 'unknown'}},\n",
       " {'end': '00:15:54.590',\n",
       "  'text': 'Die arischen Herrenmenschen stammen vom',\n",
       "  'start': '00:15:52.380',\n",
       "  'speaker': {'id': '30', 'name': 'unknown'}},\n",
       " {'end': '00:16:09.580',\n",
       "  'text': 'In der Eiszeit, wurden sie von dort vertrieben und zogen in den Süden. Dort brachten sie der gesamten Menschheit die Ware Kultur. Heute müssen wir die reine arische Herrenrasse wiedergewinnen durch Reinzucht und Entmischung.',\n",
       "  'start': '00:15:55.910',\n",
       "  'speaker': {'id': '31', 'name': 'unknown'}},\n",
       " {'end': '00:16:21.220',\n",
       "  'text': 'Hitler verschwieg später seine Quellen, aber man erkennt sie trotzdem wieder. Am 13. August 1920 tönte er in einer Rede im Hofbräuhaus in München',\n",
       "  'start': '00:16:09.580',\n",
       "  'speaker': {'id': '3', 'name': 'unknown'}},\n",
       " {'end': '00:16:36.060',\n",
       "  'text': 'In den unerhörten Eiswüsten des Nordens ist ein Geschlecht von Riesenhand, Kraft und Gesundheit in Reinzucht gewachsen. Diese Rassen, die wir als Area bezeichnen, waren in Wirklichkeit die Erwecker aller späteren Kulturen.',\n",
       "  'start': '00:16:21.220',\n",
       "  'speaker': {'id': '15', 'name': 'unknown'}},\n",
       " {'end': '00:16:45.320',\n",
       "  'text': 'Die Rassentheorie des Guido List steckt auch in den Worten Hitlers über die Russen in der Ukraine im Jahr 942.',\n",
       "  'start': '00:16:36.060',\n",
       "  'speaker': {'id': '32', 'name': 'unknown'}},\n",
       " {'end': '00:16:55.670',\n",
       "  'text': 'Widersinnig ist das, dass die niedrigstehende russische Masse, die der Kultur nichts nützt, in unendlichen Räumen einen Boden innehat, der zu den besten der Erde gehört.',\n",
       "  'start': '00:16:45.320',\n",
       "  'speaker': {'id': '15', 'name': 'unknown'}},\n",
       " {'end': '00:17:26.580',\n",
       "  'text': 'Von Guido List stammt auch die Idee, es würde ein germanischer Volksführer Auftauchen, der keinem Gesetz unterliege und aus jedem Kampf als Sieger hervorgehen. Schon in der altgermanischen Edda sei dieser Führer prophezeit worden. List nannte ihn der Unbesiegbare und führt in diesem Zusammenhang auch das Wort Endsieg ein. Hitler nahm den Gedanken vom Auserwählten Führer auf und präsentierte sich ab 1933 als der aus',\n",
       "  'start': '00:16:55.670',\n",
       "  'speaker': {'id': '33', 'name': 'unknown'}},\n",
       " {'end': '00:17:29.770',\n",
       "  'text': 'Welte 936.',\n",
       "  'start': '00:17:26.580',\n",
       "  'speaker': {'id': '34', 'name': 'unknown'}},\n",
       " {'end': '00:17:53.940',\n",
       "  'text': 'Ich gehe mit traumwandlerischer Sicherheit den Weg, den mich die Vorsehung gehen, heißt 1938. Wenn ich auf die fünf Jahre, die hinter uns liegen, zurückblicke, dann darf ich doch sagen das ist nicht Menschenwerk allein gewesen. Wenn uns nicht die Vorsehung geleitet hätte, würde ich diese schwindelnden Wege nicht gefunden haben.',\n",
       "  'start': '00:17:29.770',\n",
       "  'speaker': {'id': '15', 'name': 'unknown'}},\n",
       " {'end': '00:18:30.000',\n",
       "  'text': 'Zurück ins Wien, der letzten Jahre vor dem Ersten Weltkrieg. Wer dabei nur an die geistige und künstlerische Elite denkt, die Wien mit Recht zur berühmt gemacht hat, sieht viel zu wenig. Gewiß, Arthur Schnitzler, Sigmund Freud, Gustav Mahler, Arnold Schönberg und Oskar Kokoschka haben den Grundstein zur Moderne gelegt. Doch die Gefährdung des Rechtsstaates war ebenfalls bereitet. Die Katastrophe des Dritten Reichs kam nicht einfach aus dem Nichts. Der Nährboden war schon da. Ian Kershaw',\n",
       "  'start': '00:17:55.220',\n",
       "  'speaker': {'id': '33', 'name': 'unknown'}},\n",
       " {'end': '00:18:46.240',\n",
       "  'text': 'Der Angriff der Nationalsozialisten auf die Wurzeln der Zivilisation hat das 20ste Jahrhundert entscheidend geprägt. Hitler war das Epizentrum dieses Angriffs. Er war dessen wichtigste Exponent, aber nicht seine Premiere. Ursache',\n",
       "  'start': '00:18:30.000',\n",
       "  'speaker': {'id': '35', 'name': 'unknown'}}]"
      ]
     },
     "execution_count": 15,
     "metadata": {},
     "output_type": "execute_result"
    }
   ],
   "source": [
    "audio_data[\"transcript\"][\"data\"]"
   ]
  },
  {
   "cell_type": "code",
   "execution_count": 8,
   "metadata": {},
   "outputs": [],
   "source": [
    "df = pd.DataFrame({\"transcript\": transcripts, \"download_url\":audio_urls})"
   ]
  },
  {
   "cell_type": "code",
   "execution_count": 16,
   "metadata": {},
   "outputs": [
    {
     "data": {
      "text/plain": [
       "2253"
      ]
     },
     "execution_count": 16,
     "metadata": {},
     "output_type": "execute_result"
    }
   ],
   "source": [
    "len(df)"
   ]
  },
  {
   "cell_type": "code",
   "execution_count": 20,
   "metadata": {},
   "outputs": [
    {
     "name": "stdout",
     "output_type": "stream",
     "text": [
      "84\n",
      "     transcript                                       download_url\n",
      "0          None  https://media.neuland.br.de/file/2090876/c/fee...\n",
      "3          None  https://media.neuland.br.de/file/2090855/c/fee...\n",
      "4          None  https://media.neuland.br.de/file/2090034/c/fee...\n",
      "7          None  https://media.neuland.br.de/file/2089948/c/fee...\n",
      "8          None  https://media.neuland.br.de/file/1773273/c/fee...\n",
      "...         ...                                                ...\n",
      "162        None  https://media.neuland.br.de/file/2088143/c/fee...\n",
      "180        None  https://media.neuland.br.de/file/2087498/c/fee...\n",
      "188        None  https://media.neuland.br.de/file/2087347/c/fee...\n",
      "276        None  https://media.neuland.br.de/file/2089215/c/fee...\n",
      "2070       None  https://media.neuland.br.de/file/2088779/c/fee...\n",
      "\n",
      "[84 rows x 2 columns]\n"
     ]
    }
   ],
   "source": [
    "print(len(df[df[\"transcript\"].isna()]))\n",
    "print(df[df[\"transcript\"].isna()])"
   ]
  }
 ],
 "metadata": {
  "kernelspec": {
   "display_name": ".venv",
   "language": "python",
   "name": "python3"
  },
  "language_info": {
   "codemirror_mode": {
    "name": "ipython",
    "version": 3
   },
   "file_extension": ".py",
   "mimetype": "text/x-python",
   "name": "python",
   "nbconvert_exporter": "python",
   "pygments_lexer": "ipython3",
   "version": "3.8.10"
  }
 },
 "nbformat": 4,
 "nbformat_minor": 2
}
